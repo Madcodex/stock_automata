{
 "cells": [
  {
   "cell_type": "code",
   "execution_count": null,
   "metadata": {},
   "outputs": [],
   "source": [
    "import pandas as pd\n",
    "import numpy as np\n",
    "from kite_trade import *\n",
    "from enctoken import get_kite\n",
    "kite = get_kite()\n",
    "import warnings\n",
    "warnings.filterwarnings(action = 'ignore')\n",
    "import time\n",
    "import plotly.express as px\n",
    "import plotly.graph_objects as go\n",
    "from IPython.display import clear_output"
   ]
  },
  {
   "attachments": {},
   "cell_type": "markdown",
   "metadata": {},
   "source": [
    "## Nifty 50 OI"
   ]
  },
  {
   "cell_type": "code",
   "execution_count": null,
   "metadata": {},
   "outputs": [],
   "source": [
    "nifty_50 = pd.read_csv('../data/ind_nifty50list.csv')\n",
    "inst = pd.DataFrame(kite.instruments(\"NFO\"))\n",
    "inst.rename(columns={'name':'Symbol'},inplace=True)\n",
    "inst_cols = ['Symbol','instrument_token','tradingsymbol','last_price','lot_size','strike','instrument_type']\n",
    "inst = inst[inst_cols]\n",
    "inst = nifty_50.merge(inst, how = 'inner', on  = 'Symbol')"
   ]
  },
  {
   "cell_type": "code",
   "execution_count": null,
   "metadata": {},
   "outputs": [],
   "source": [
    "# inst.tradingsymbol.unique().tolist()\n",
    "start_dt = '2023-03-21'\n",
    "end_dt = '2023-03-21'\n",
    "time_frame = 'minute'\n",
    "bn_token  = 260105\n",
    "\n",
    "for i in inst.Symbol.unique()[11:]:\n",
    "    try:\n",
    "        print(i)\n",
    "        df_inst_expiry = inst[(inst['Symbol'] == i) & (inst.tradingsymbol.str.contains('23MAR')) & ~(inst.tradingsymbol.str.contains('FUT'))]\n",
    "        df_inst_expiry['strike_type'] = df_inst_expiry['strike'].astype(int).astype(str) + df_inst_expiry['instrument_type']\n",
    "\n",
    "        df_hist_data = pd.DataFrame()\n",
    "        inst_expiry = df_inst_expiry['instrument_token'].unique().tolist()\n",
    "        strike_symbol_dict = dict(zip(df_inst_expiry.instrument_token,df_inst_expiry['strike_type'] ))\n",
    "        for j in inst_expiry:\n",
    "            df = pd.DataFrame(kite.historical_data(j, from_date = start_dt, to_date = end_dt, interval = time_frame, continuous=False, oi=True))\n",
    "            df['strike_type'] = strike_symbol_dict[j]\n",
    "            df_hist_data = df_hist_data.append(df)\n",
    "        df_hist_data['oi_change'] = df_hist_data.groupby(['strike_type']).oi.diff()\n",
    "        df_hist_data['oi_change'] = df_hist_data.groupby(['strike_type']).oi_change.cumsum()\n",
    "        df_hist_data_1 = df_hist_data.groupby('date').agg(\n",
    "        {\n",
    "        \"oi_change\": lambda x: sorted(x,reverse=True)[0:5]\n",
    "        }\n",
    "        ).reset_index().explode('oi_change')\n",
    "        df_hist_data_1 = df_hist_data_1.merge(\n",
    "        df_hist_data[['date','oi_change','strike_type']], how = 'left',on = ['date','oi_change']\n",
    "        ).dropna()\n",
    "        df_hist_data_1['call_put'] = df_hist_data_1.strike_type.str[-2:]\n",
    "        df_hist_data_1['Symbol'] = i\n",
    "        df_hist_data_1.to_csv(f'data/{i}.csv',index = False)\n",
    "    except:\n",
    "        print(\"fail\", i)"
   ]
  }
 ],
 "metadata": {
  "language_info": {
   "name": "python"
  },
  "orig_nbformat": 4
 },
 "nbformat": 4,
 "nbformat_minor": 2
}
