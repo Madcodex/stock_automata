{
 "cells": [
  {
   "cell_type": "code",
   "execution_count": null,
   "id": "46fb432d",
   "metadata": {},
   "outputs": [],
   "source": []
  },
  {
   "cell_type": "code",
   "execution_count": 2,
   "id": "21b4b8ab",
   "metadata": {},
   "outputs": [
    {
     "data": {
      "text/plain": [
       "7.777777777777778"
      ]
     },
     "execution_count": 2,
     "metadata": {},
     "output_type": "execute_result"
    }
   ],
   "source": [
    "14*2000/60/60"
   ]
  },
  {
   "cell_type": "code",
   "execution_count": 7,
   "id": "0d808007",
   "metadata": {},
   "outputs": [
    {
     "data": {
      "text/plain": [
       "8"
      ]
     },
     "execution_count": 7,
     "metadata": {},
     "output_type": "execute_result"
    }
   ],
   "source": [
    "import pandas as pd\n",
    "import multiprocessing\n",
    "import time\n",
    "import defs\n",
    "multiprocessing.cpu_count()"
   ]
  },
  {
   "cell_type": "code",
   "execution_count": null,
   "id": "5133fd1b",
   "metadata": {},
   "outputs": [],
   "source": [
    "st = time.time()\n",
    "pool = multiprocessing.Pool()\n",
    "inputs = list(range(1,1000000000))\n",
    "outputs_async = pool.map_async(defs.square, inputs)\n",
    "outputs = outputs_async.get()\n",
    "# print(\"Output: {}\".format(outputs))\n",
    "print((time.time() - st)/60)"
   ]
  },
  {
   "cell_type": "code",
   "execution_count": null,
   "id": "7dcf415a",
   "metadata": {},
   "outputs": [],
   "source": [
    "%%time\n",
    "x = []\n",
    "for i in list(range(1,1000000000)):\n",
    "    x.append(defs.square(i))"
   ]
  },
  {
   "cell_type": "code",
   "execution_count": 1,
   "id": "af5b936f",
   "metadata": {},
   "outputs": [],
   "source": [
    "years_st = ['2016-01-01','2017-01-01','2018-01-01','2019-01-01','2020-01-01','2021-01-01','2022-01-01',]\n",
    "years_end = ['2016-12-31','2017-12-31','2018-12-31','2019-12-31','2020-12-31','2021-12-31','2022-10-15',]\n",
    "timerframe_list = [\n",
    "\"day\",\n",
    "\"minute\",\n",
    " \"3minute\",\n",
    " \"5minute\",\n",
    " \"10minute\",\n",
    " \"15minute\",\n",
    " \"30minute\",\n",
    " \"60minute\",]"
   ]
  },
  {
   "cell_type": "code",
   "execution_count": 5,
   "id": "ae0bebbe",
   "metadata": {},
   "outputs": [
    {
     "name": "stdout",
     "output_type": "stream",
     "text": [
      "2018-01-01 2018-12-31\n",
      "2019-01-01 2019-12-31\n",
      "2020-01-01 2020-12-31\n",
      "2021-01-01 2021-12-31\n",
      "2022-01-01 2022-12-31\n"
     ]
    }
   ],
   "source": [
    "for yr in range(len(years_st))[2:]:\n",
    "    start_date = years_st[yr]\n",
    "    end_date = years_end[yr]\n",
    "    print(start_date,end_date)\n"
   ]
  },
  {
   "cell_type": "code",
   "execution_count": 9,
   "id": "e13856dd",
   "metadata": {},
   "outputs": [],
   "source": [
    "df = pd.read_parquet('historical_data/minute/')"
   ]
  },
  {
   "cell_type": "code",
   "execution_count": null,
   "id": "260310cf",
   "metadata": {},
   "outputs": [],
   "source": []
  }
 ],
 "metadata": {
  "kernelspec": {
   "display_name": "Python 3 (ipykernel)",
   "language": "python",
   "name": "python3"
  },
  "language_info": {
   "codemirror_mode": {
    "name": "ipython",
    "version": 3
   },
   "file_extension": ".py",
   "mimetype": "text/x-python",
   "name": "python",
   "nbconvert_exporter": "python",
   "pygments_lexer": "ipython3",
   "version": "3.8.13"
  }
 },
 "nbformat": 4,
 "nbformat_minor": 5
}
