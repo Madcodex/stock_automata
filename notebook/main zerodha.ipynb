{
 "cells": [
  {
   "cell_type": "code",
   "execution_count": 1,
   "id": "45d9803b",
   "metadata": {},
   "outputs": [],
   "source": [
    "# !git clone https://github.com/TradeViaPython/Kite_Zerodha.git"
   ]
  },
  {
   "cell_type": "code",
   "execution_count": 57,
   "id": "585c13a1",
   "metadata": {},
   "outputs": [],
   "source": [
    "from kite_trade import *\n",
    "import pandas as pd"
   ]
  },
  {
   "cell_type": "code",
   "execution_count": 58,
   "id": "d3f25261",
   "metadata": {},
   "outputs": [],
   "source": [
    "enctoken = \"79mOAIk9qDmIgVdbiLEPoIzZSURm4Bmh+B5czd4f59wPoIiH4u9RFH1keBRsSWVrjrIq/FTyC3MFkY33mcbJek1NxZ5LdL8+x+K6yukKC1XU+dSdMIW4Tg==\"\n",
    "\n",
    "# enctoken = \"/e2Jd2IW55XJ4383yo6+Mu9UBVxXiW2M30NkVl5byrVaCxdLaunm11TN9Sr4BCgpqHLVKvs8pk94nFqVdBbMk3Wq497yMQeYtyxeXAzw/r/xfNU1SwzxJg==\"\n",
    "kite = KiteApp(enctoken=enctoken)\n"
   ]
  },
  {
   "cell_type": "code",
   "execution_count": 60,
   "id": "4bf2cf47",
   "metadata": {},
   "outputs": [],
   "source": [
    "# i will take the daily data, and check last 3 days price and volume is increase by 1%\n"
   ]
  },
  {
   "cell_type": "markdown",
   "id": "6f4a2cf1",
   "metadata": {},
   "source": [
    "### daily data analysis"
   ]
  },
  {
   "cell_type": "code",
   "execution_count": 61,
   "id": "d5035c77",
   "metadata": {},
   "outputs": [],
   "source": [
    "# instument in nse\n",
    "inst = pd.DataFrame(kite.instruments(\"NSE\"))\n",
    "inst_filter = inst.query('(segment == \"NSE\") & (name != \"\")')"
   ]
  },
  {
   "cell_type": "code",
   "execution_count": 40,
   "id": "f13b271e",
   "metadata": {},
   "outputs": [
    {
     "data": {
      "text/html": [
       "<div>\n",
       "<style scoped>\n",
       "    .dataframe tbody tr th:only-of-type {\n",
       "        vertical-align: middle;\n",
       "    }\n",
       "\n",
       "    .dataframe tbody tr th {\n",
       "        vertical-align: top;\n",
       "    }\n",
       "\n",
       "    .dataframe thead th {\n",
       "        text-align: right;\n",
       "    }\n",
       "</style>\n",
       "<table border=\"1\" class=\"dataframe\">\n",
       "  <thead>\n",
       "    <tr style=\"text-align: right;\">\n",
       "      <th></th>\n",
       "      <th>instrument_token</th>\n",
       "      <th>exchange_token</th>\n",
       "      <th>tradingsymbol</th>\n",
       "      <th>name</th>\n",
       "      <th>last_price</th>\n",
       "      <th>expiry</th>\n",
       "      <th>strike</th>\n",
       "      <th>tick_size</th>\n",
       "      <th>lot_size</th>\n",
       "      <th>instrument_type</th>\n",
       "      <th>segment</th>\n",
       "      <th>exchange</th>\n",
       "    </tr>\n",
       "  </thead>\n",
       "  <tbody>\n",
       "    <tr>\n",
       "      <th>4143</th>\n",
       "      <td>738561</td>\n",
       "      <td>2885</td>\n",
       "      <td>RELIANCE</td>\n",
       "      <td>RELIANCE INDUSTRIES</td>\n",
       "      <td>0.0</td>\n",
       "      <td>None</td>\n",
       "      <td>0.0</td>\n",
       "      <td>0.05</td>\n",
       "      <td>1</td>\n",
       "      <td>EQ</td>\n",
       "      <td>NSE</td>\n",
       "      <td>NSE</td>\n",
       "    </tr>\n",
       "  </tbody>\n",
       "</table>\n",
       "</div>"
      ],
      "text/plain": [
       "      instrument_token exchange_token tradingsymbol                 name  \\\n",
       "4143            738561           2885      RELIANCE  RELIANCE INDUSTRIES   \n",
       "\n",
       "      last_price expiry  strike  tick_size  lot_size instrument_type segment  \\\n",
       "4143         0.0   None     0.0       0.05         1              EQ     NSE   \n",
       "\n",
       "     exchange  \n",
       "4143      NSE  "
      ]
     },
     "execution_count": 40,
     "metadata": {},
     "output_type": "execute_result"
    }
   ],
   "source": [
    "inst_filter.query(\"tradingsymbol == 'RELIANCE'\")"
   ]
  },
  {
   "cell_type": "code",
   "execution_count": 7,
   "id": "9a5142f5",
   "metadata": {},
   "outputs": [],
   "source": [
    "# print(pd.DataFrame(kite.margins()))"
   ]
  },
  {
   "cell_type": "code",
   "execution_count": 39,
   "id": "12253bbd",
   "metadata": {},
   "outputs": [],
   "source": [
    "# print(kite.ltp(\"NSE:RELIANCE\"))\n",
    "# print(kite.ltp([\"NSE:NIFTY 50\", \"NSE:NIFTY BANK\"]))\n",
    "# print(kite.quote([\"NSE:NIFTY BANK\", \"NSE:ACC\", \"NFO:NIFTY22SEPFUT\"]))"
   ]
  },
  {
   "cell_type": "code",
   "execution_count": 51,
   "id": "5354d043",
   "metadata": {},
   "outputs": [],
   "source": [
    "import datetime\n",
    "instrument_token = 738561\n",
    "from_datetime = datetime.datetime.now() - datetime.timedelta(days=10)     # From last & days\n",
    "to_datetime = datetime.datetime.now()\n",
    "interval = \"day\"\n"
   ]
  },
  {
   "cell_type": "code",
   "execution_count": 52,
   "id": "2d4ddb9a",
   "metadata": {},
   "outputs": [],
   "source": [
    "data = kite.historical_data(738561,from_datetime, to_datetime,interval)"
   ]
  },
  {
   "cell_type": "code",
   "execution_count": 53,
   "id": "706b295a",
   "metadata": {},
   "outputs": [],
   "source": [
    "data = pd.DataFrame(data)"
   ]
  },
  {
   "cell_type": "code",
   "execution_count": 55,
   "id": "4cb9cae4",
   "metadata": {},
   "outputs": [],
   "source": [
    "data['change_in_price']  = data['close']/data['open']-1"
   ]
  },
  {
   "cell_type": "code",
   "execution_count": null,
   "id": "ece8c3a0",
   "metadata": {},
   "outputs": [],
   "source": []
  },
  {
   "cell_type": "code",
   "execution_count": 56,
   "id": "bc56bd81",
   "metadata": {},
   "outputs": [
    {
     "data": {
      "text/html": [
       "<div>\n",
       "<style scoped>\n",
       "    .dataframe tbody tr th:only-of-type {\n",
       "        vertical-align: middle;\n",
       "    }\n",
       "\n",
       "    .dataframe tbody tr th {\n",
       "        vertical-align: top;\n",
       "    }\n",
       "\n",
       "    .dataframe thead th {\n",
       "        text-align: right;\n",
       "    }\n",
       "</style>\n",
       "<table border=\"1\" class=\"dataframe\">\n",
       "  <thead>\n",
       "    <tr style=\"text-align: right;\">\n",
       "      <th></th>\n",
       "      <th>date</th>\n",
       "      <th>open</th>\n",
       "      <th>high</th>\n",
       "      <th>low</th>\n",
       "      <th>close</th>\n",
       "      <th>volume</th>\n",
       "      <th>change_in_price</th>\n",
       "    </tr>\n",
       "  </thead>\n",
       "  <tbody>\n",
       "    <tr>\n",
       "      <th>0</th>\n",
       "      <td>2022-10-10 00:00:00+05:30</td>\n",
       "      <td>2405.0</td>\n",
       "      <td>2417.60</td>\n",
       "      <td>2388.00</td>\n",
       "      <td>2405.80</td>\n",
       "      <td>2921076</td>\n",
       "      <td>0.000333</td>\n",
       "    </tr>\n",
       "    <tr>\n",
       "      <th>1</th>\n",
       "      <td>2022-10-11 00:00:00+05:30</td>\n",
       "      <td>2414.0</td>\n",
       "      <td>2414.00</td>\n",
       "      <td>2351.10</td>\n",
       "      <td>2357.90</td>\n",
       "      <td>4252803</td>\n",
       "      <td>-0.023239</td>\n",
       "    </tr>\n",
       "    <tr>\n",
       "      <th>2</th>\n",
       "      <td>2022-10-12 00:00:00+05:30</td>\n",
       "      <td>2352.0</td>\n",
       "      <td>2381.70</td>\n",
       "      <td>2343.10</td>\n",
       "      <td>2375.25</td>\n",
       "      <td>3422992</td>\n",
       "      <td>0.009885</td>\n",
       "    </tr>\n",
       "    <tr>\n",
       "      <th>3</th>\n",
       "      <td>2022-10-13 00:00:00+05:30</td>\n",
       "      <td>2371.4</td>\n",
       "      <td>2394.00</td>\n",
       "      <td>2360.10</td>\n",
       "      <td>2382.80</td>\n",
       "      <td>3382098</td>\n",
       "      <td>0.004807</td>\n",
       "    </tr>\n",
       "    <tr>\n",
       "      <th>4</th>\n",
       "      <td>2022-10-14 00:00:00+05:30</td>\n",
       "      <td>2415.0</td>\n",
       "      <td>2416.35</td>\n",
       "      <td>2369.10</td>\n",
       "      <td>2370.70</td>\n",
       "      <td>4202459</td>\n",
       "      <td>-0.018344</td>\n",
       "    </tr>\n",
       "    <tr>\n",
       "      <th>5</th>\n",
       "      <td>2022-10-17 00:00:00+05:30</td>\n",
       "      <td>2355.0</td>\n",
       "      <td>2414.00</td>\n",
       "      <td>2343.60</td>\n",
       "      <td>2408.75</td>\n",
       "      <td>7720595</td>\n",
       "      <td>0.022824</td>\n",
       "    </tr>\n",
       "    <tr>\n",
       "      <th>6</th>\n",
       "      <td>2022-10-18 00:00:00+05:30</td>\n",
       "      <td>2422.0</td>\n",
       "      <td>2463.00</td>\n",
       "      <td>2420.25</td>\n",
       "      <td>2454.50</td>\n",
       "      <td>3435115</td>\n",
       "      <td>0.013419</td>\n",
       "    </tr>\n",
       "  </tbody>\n",
       "</table>\n",
       "</div>"
      ],
      "text/plain": [
       "                       date    open     high      low    close   volume  \\\n",
       "0 2022-10-10 00:00:00+05:30  2405.0  2417.60  2388.00  2405.80  2921076   \n",
       "1 2022-10-11 00:00:00+05:30  2414.0  2414.00  2351.10  2357.90  4252803   \n",
       "2 2022-10-12 00:00:00+05:30  2352.0  2381.70  2343.10  2375.25  3422992   \n",
       "3 2022-10-13 00:00:00+05:30  2371.4  2394.00  2360.10  2382.80  3382098   \n",
       "4 2022-10-14 00:00:00+05:30  2415.0  2416.35  2369.10  2370.70  4202459   \n",
       "5 2022-10-17 00:00:00+05:30  2355.0  2414.00  2343.60  2408.75  7720595   \n",
       "6 2022-10-18 00:00:00+05:30  2422.0  2463.00  2420.25  2454.50  3435115   \n",
       "\n",
       "   change_in_price  \n",
       "0         0.000333  \n",
       "1        -0.023239  \n",
       "2         0.009885  \n",
       "3         0.004807  \n",
       "4        -0.018344  \n",
       "5         0.022824  \n",
       "6         0.013419  "
      ]
     },
     "execution_count": 56,
     "metadata": {},
     "output_type": "execute_result"
    }
   ],
   "source": [
    "data['change_in_price']  = data['close']/data['open']-1"
   ]
  },
  {
   "cell_type": "code",
   "execution_count": null,
   "id": "fe190e2f",
   "metadata": {},
   "outputs": [],
   "source": []
  }
 ],
 "metadata": {
  "kernelspec": {
   "display_name": "Python 3 (ipykernel)",
   "language": "python",
   "name": "python3"
  },
  "language_info": {
   "codemirror_mode": {
    "name": "ipython",
    "version": 3
   },
   "file_extension": ".py",
   "mimetype": "text/x-python",
   "name": "python",
   "nbconvert_exporter": "python",
   "pygments_lexer": "ipython3",
   "version": "3.8.13"
  }
 },
 "nbformat": 4,
 "nbformat_minor": 5
}
