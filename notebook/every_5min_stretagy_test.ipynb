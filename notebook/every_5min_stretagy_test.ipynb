{
 "cells": [
  {
   "cell_type": "code",
   "execution_count": 24,
   "metadata": {},
   "outputs": [
    {
     "name": "stdout",
     "output_type": "stream",
     "text": [
      "The autoreload extension is already loaded. To reload it, use:\n",
      "  %reload_ext autoreload\n"
     ]
    }
   ],
   "source": [
    "%load_ext autoreload\n",
    "%autoreload 2"
   ]
  },
  {
   "cell_type": "code",
   "execution_count": 25,
   "metadata": {},
   "outputs": [
    {
     "data": {
      "text/html": [
       "<div>\n",
       "<style scoped>\n",
       "    .dataframe tbody tr th:only-of-type {\n",
       "        vertical-align: middle;\n",
       "    }\n",
       "\n",
       "    .dataframe tbody tr th {\n",
       "        vertical-align: top;\n",
       "    }\n",
       "\n",
       "    .dataframe thead th {\n",
       "        text-align: right;\n",
       "    }\n",
       "</style>\n",
       "<table border=\"1\" class=\"dataframe\">\n",
       "  <thead>\n",
       "    <tr style=\"text-align: right;\">\n",
       "      <th></th>\n",
       "      <th>instrument_token</th>\n",
       "      <th>exchange_token</th>\n",
       "      <th>Symbol</th>\n",
       "      <th>name</th>\n",
       "      <th>last_price</th>\n",
       "      <th>expiry</th>\n",
       "      <th>strike</th>\n",
       "      <th>tick_size</th>\n",
       "      <th>lot_size</th>\n",
       "      <th>instrument_type</th>\n",
       "      <th>segment</th>\n",
       "      <th>exchange</th>\n",
       "    </tr>\n",
       "  </thead>\n",
       "  <tbody>\n",
       "    <tr>\n",
       "      <th>9</th>\n",
       "      <td>260105</td>\n",
       "      <td>1016</td>\n",
       "      <td>NIFTY BANK</td>\n",
       "      <td>NIFTY BANK</td>\n",
       "      <td>0.0</td>\n",
       "      <td>None</td>\n",
       "      <td>0.0</td>\n",
       "      <td>0.0</td>\n",
       "      <td>0</td>\n",
       "      <td>EQ</td>\n",
       "      <td>INDICES</td>\n",
       "      <td>NSE</td>\n",
       "    </tr>\n",
       "  </tbody>\n",
       "</table>\n",
       "</div>"
      ],
      "text/plain": [
       "   instrument_token exchange_token      Symbol        name  last_price expiry  \\\n",
       "9            260105           1016  NIFTY BANK  NIFTY BANK         0.0   None   \n",
       "\n",
       "   strike  tick_size  lot_size instrument_type  segment exchange  \n",
       "9     0.0        0.0         0              EQ  INDICES      NSE  "
      ]
     },
     "execution_count": 25,
     "metadata": {},
     "output_type": "execute_result"
    }
   ],
   "source": [
    "import numpy as np\n",
    "import pandas as pd\n",
    "from kite_trade import *\n",
    "from enctoken import get_kite\n",
    "import time\n",
    "\n",
    "kite = get_kite()\n",
    "\n",
    "timerframe_list = [\n",
    "\"day\",\n",
    "\"minute\",\n",
    " \"3minute\",\n",
    " \"5minute\",\n",
    " \"10minute\",\n",
    " \"15minute\",\n",
    " \"30minute\",\n",
    " \"60minute\",]\n",
    "\n",
    "# instument in nse\n",
    "inst = pd.DataFrame(kite.instruments(\"NSE\"))\n",
    "inst_filter = inst.query('(name != \"\")').copy()\n",
    "inst_filter.rename(columns = {\"tradingsymbol\":'Symbol'},inplace = True)\n",
    "# inst_filter.query(\"Symbol. 'NIFTY'\")\n",
    "inst_filter[inst_filter.Symbol.str.contains('NIFTY BANK')]\n"
   ]
  },
  {
   "cell_type": "code",
   "execution_count": 26,
   "metadata": {},
   "outputs": [],
   "source": [
    "inst = pd.DataFrame(kite.instruments(\"NFO\"))"
   ]
  },
  {
   "cell_type": "code",
   "execution_count": 1,
   "metadata": {},
   "outputs": [],
   "source": [
    "# strik_price_ce = 40000\n",
    "# strik_price_pe = 40000\n",
    "# symbol_ce = f\"NFO:BANKNIFTY23302{strik_price_ce}CE\"\n",
    "# symbol_pe = f\"NFO:BANKNIFTY23302{strik_price_pe}PE\"\n",
    "trade_list = []\n",
    "while(True):\n",
    "    inside = 0 \n",
    "    buy_sell = 0\n",
    "    sp = kite.ltp('NSE:NIFTY BANK')['NSE:NIFTY BANK']['last_price']\n",
    "    sp = sp - sp %100\n",
    "    strik_price_ce = int(sp)\n",
    "    strik_price_pe = int(sp)\n",
    "    symbol_ce = f\"NFO:BANKNIFTY23302{strik_price_ce}CE\"\n",
    "    symbol_pe = f\"NFO:BANKNIFTY23302{strik_price_pe}PE\"\n",
    "    \n",
    "    if datetime.now().minute % 5 == 0:\n",
    "        print(trade_list)\n",
    "        print(datetime.now())\n",
    "        bn_begin = kite.ltp('NSE:NIFTY BANK')['NSE:NIFTY BANK']['last_price']\n",
    "        op_begin_ce = kite.ltp(symbol_ce)[symbol_ce]['last_price']\n",
    "        op_begin_pe = kite.ltp(symbol_pe)[symbol_pe]['last_price']\n",
    "        \n",
    "        time.sleep(15)\n",
    "        bn_after = kite.ltp('NSE:NIFTY BANK')['NSE:NIFTY BANK']['last_price']\n",
    "        op_after_ce = kite.ltp(symbol_ce)[symbol_ce]['last_price']\n",
    "        op_after_pe = kite.ltp(symbol_pe)[symbol_pe]['last_price']\n",
    "        \n",
    "        if bn_after > bn_begin:\n",
    "            print(\"buy:\",op_after_ce,bn_after)\n",
    "            buy_sell = 1\n",
    "        elif bn_after < bn_begin:\n",
    "            print(\"sell:\",op_after_pe,bn_after)\n",
    "            buy_sell = -1\n",
    "        while(inside == 0 ):\n",
    "            op_current_ce = kite.ltp(symbol_ce)[symbol_ce]['last_price']\n",
    "            op_current_pe = kite.ltp(symbol_pe)[symbol_pe]['last_price']\n",
    "            bn_current = kite.ltp('NSE:NIFTY BANK')['NSE:NIFTY BANK']['last_price']\n",
    "      \n",
    "            \n",
    "            if buy_sell == 1:  \n",
    "                # print(op_current_ce,bn_current)     \n",
    "                if op_current_ce >= ( op_after_ce + 20):\n",
    "                    print(\"sell with profit:\",bn_current,op_current_ce, op_current_ce - op_after_ce)\n",
    "                    inside = 1\n",
    "                    trade_list.append([bn_current,op_current_ce,op_current_ce - op_after_ce])\n",
    "                elif op_current_ce <= (op_after_ce - 10):\n",
    "                    print(\"sell with loss:\",bn_current,op_current_ce, op_current_ce - op_after_ce)\n",
    "                    inside = 1\n",
    "                    trade_list.append([bn_current,op_current_ce,op_current_ce - op_after_ce])\n",
    "            elif buy_sell == -1:\n",
    "                    if op_current_pe >= ( op_after_pe + 20):\n",
    "                        print(\"sell with profit:\",bn_current,op_current_pe, op_current_pe - op_after_pe)\n",
    "                        inside = 1\n",
    "                        trade_list.append([bn_current,op_current_pe, op_current_pe - op_after_pe])\n",
    "                    elif op_current_pe <= (op_after_pe - 10):\n",
    "                        print(\"sell with loss:\",bn_current,op_current_pe, op_current_pe - op_after_pe)\n",
    "                        inside = 1\n",
    "                        trade_list.append([bn_current,op_current_pe, op_current_pe - op_after_pe])\n",
    "            time.sleep(1)\n"
   ]
  },
  {
   "cell_type": "code",
   "execution_count": null,
   "metadata": {},
   "outputs": [],
   "source": []
  }
 ],
 "metadata": {
  "kernelspec": {
   "display_name": "py37",
   "language": "python",
   "name": "python3"
  },
  "language_info": {
   "codemirror_mode": {
    "name": "ipython",
    "version": 3
   },
   "file_extension": ".py",
   "mimetype": "text/x-python",
   "name": "python",
   "nbconvert_exporter": "python",
   "pygments_lexer": "ipython3",
   "version": "3.7.15"
  },
  "orig_nbformat": 4,
  "vscode": {
   "interpreter": {
    "hash": "97d50b693ffbaf6eb8807b14742d2feb502574f7e9d5678d8f7eb867bb49ea50"
   }
  }
 },
 "nbformat": 4,
 "nbformat_minor": 2
}
