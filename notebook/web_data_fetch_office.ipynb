{
 "cells": [
  {
   "attachments": {},
   "cell_type": "markdown",
   "metadata": {},
   "source": [
    "## import"
   ]
  },
  {
   "cell_type": "code",
   "execution_count": 1,
   "metadata": {},
   "outputs": [],
   "source": [
    "import requests\n",
    "import pandas as pd\n",
    "import numpy as np\n",
    "import warnings\n",
    "warnings.filterwarnings(\"ignore\")\n",
    "import xlwings\n",
    "pd.set_option(\"display.float.format\", str)\n",
    "import time\n",
    "import webbrowser\n",
    "import xlsxwriter\n",
    "import keyboard\n",
    "from datetime import timedelta\n",
    "import datetime\n",
    "from requests import Session"
   ]
  },
  {
   "cell_type": "code",
   "execution_count": 2,
   "metadata": {},
   "outputs": [],
   "source": [
    "df_bank_wgt = pd.read_excel('../data/bank_nifty_weight.xlsx')"
   ]
  },
  {
   "cell_type": "code",
   "execution_count": 3,
   "metadata": {},
   "outputs": [],
   "source": [
    "symbol_all = [\"3IINFOTECH\",\"AARTIIND\",\"ABAN\",\"ABB\",\"ABBOTINDIA\",\"ABCAPITAL\",\"ABFRL\",\"ABGSHIP\",\"ABIRLANUVO\",\"ACC\",\"ADANIENT\",\"ADANIPORTS\",\"ADANIPOWER\",\"ADLABSFILM\",\"AIAENG\",\"AIL\",\"AIRDECCAN\",\"AJANTPHARM\",\"AKRUTI\",\"ALBK\",\"ALKEM\",\"ALOKTEXT\",\"ALSTOMT&D\",\"AMARAJABAT\",\"AMBUJACEM\",\"AMTEKAUTO\",\"ANDHRABANK\",\"ANSALINFRA\",\"APIL\",\"APLLTD\",\"APOLLOHOSP\",\"APOLLOTYRE\",\"APTECHT\",\"AREVAT&D\",\"ARVIND\",\"ARVINDMILL\",\"ASHOKLEY\",\"ASIANPAINT\",\"ASTRAL\",\"ATUL\",\"AUBANK\",\"AUROPHARMA\",\"AXISBANK\",\"BAJAJ-AUTO\",\"BAJAJAUTO\",\"BAJAJFINSV\",\"BAJAJHIND\",\"BAJAJHLDNG\",\"BAJFINANCE\",\"BALAJITELE\",\"BALKRISIND\",\"BALLARPUR\",\"BALRAMCHIN\",\"BANDHANBNK\",\"BANKBARODA\",\"BANKINDIA\",\"BATAINDIA\",\"BEL\",\"BEML\",\"BERGEPAINT\",\"BFUTILITIE\",\"BGRENERGY\",\"BHARATFIN\",\"BHARATFORG\",\"BHARTI\",\"BHARTIARTL\",\"BHEL\",\"BHUSANSTL\",\"BILT\",\"BINDALAGRO\",\"BIOCON\",\"BIRLACORPN\",\"BIRLAJUTE\",\"BOMDYEING\",\"BONGAIREFN\",\"BOSCHLTD\",\"BPCL\",\"BRFL\",\"BRIGADE\",\"BRITANNIA\",\"BSES\",\"BSOFT\",\"CADILAHC\",\"CAIRN\",\"CANBK\",\"CANFINHOME\",\"CAPF\",\"CASTROLIND\",\"CEATLTD\",\"CENTRALBK\",\"CENTURYTEX\",\"CESC\",\"CGPOWER\",\"CHAMBLFERT\",\"CHENNPETRO\",\"CHOLAFIN\",\"CIPLA\",\"CMC\",\"COALINDIA\",\"COCHINREFN\",\"COFORGE\",\"COLGATE\",\"COLPAL\",\"CONCOR\",\"COREEDUTEC\",\"COREPROTEC\",\"COROMANDEL\",\"CORPBANK\",\"CROMPGREAV\",\"CROMPTON\",\"CUB\",\"CUMMINSIND\",\"DABUR\",\"DALBHARAT\",\"DALMIABHA\",\"DCB\",\"DCBBANK\",\"DCHL\",\"DEEPAKNTR\",\"DELTACORP\",\"DENABANK\",\"DHANBANK\",\"DHFL\",\"DIGITALEQP\",\"DISHTV\",\"DIVISLAB\",\"DIXON\",\"DLF\",\"DRREDDY\",\"EDELWEISS\",\"EDUCOMP\",\"EICHERMOT\",\"EKC\",\"ENGINERSIN\",\"EQUITAS\",\"ESCORTS\",\"ESSAROIL\",\"EVERONN\",\"EXIDEIND\",\"FEDERALBNK\",\"FINANTECH\",\"FORTIS\",\"FRL\",\"FSL\",\"GAIL\",\"GBN\",\"GDL\",\"GESCOCORP\",\"GESHIP\",\"GESHIPPING\",\"GITANJALI\",\"GLAXO\",\"GLENMARK\",\"GMDCLTD\",\"GMRINFRA\",\"GNFC\",\"GODFRYPHLP\",\"GODREJCP\",\"GODREJIND\",\"GODREJPROP\",\"GRANULES\",\"GRASIM\",\"GSFC\",\"GSKCONS\",\"GSPL\",\"GTL\",\"GTLINFRA\",\"GTOFFSHORE\",\"GUJALKALI\",\"GUJAMBCEM\",\"GUJFLUORO\",\"GUJGASLTD\",\"GVKPIL\",\"HAL\",\"HAVELLS\",\"HCC\",\"HCL-INSYS\",\"HCLTECH\",\"HDFC\",\"HDFCAMC\",\"HDFCBANK\",\"HDFCLIFE\",\"HDIL\",\"HEROHONDA\",\"HEROMOTOCO\",\"HEXAWARE\",\"HINDALC0\",\"HINDALCO\",\"HINDCOPPER\",\"HINDLEVER\",\"HINDOILEXP\",\"HINDPETRO\",\"HINDUJATMT\",\"HINDUJAVEN\",\"HINDUNILVR\",\"HINDZINC\",\"HONAUT\",\"HOTELEELA\",\"HTMT\",\"HTMTGLOBAL\",\"I-FLEX\",\"IBN18\",\"IBREALEST\",\"IBULHSGFIN\",\"ICICI\",\"ICICIBANK\",\"ICICIGI\",\"ICICIPRULI\",\"ICIL\",\"ICSA\",\"IDBI\",\"IDEA\",\"IDFC\",\"IDFCBANK\",\"IDFCFIRSTB\",\"IEX\",\"IFCI\",\"IGL\",\"INDHOTEL\",\"INDIACEM\",\"INDIAINFO\",\"INDIAMART\",\"INDIANB\",\"INDIGO\",\"INDRAYON\",\"INDUSINDBK\",\"INDUSTOWER\",\"INFIBEAM\",\"INFOSYSTCH\",\"INFRATEL\",\"INFY\",\"INTELLECT\",\"IOB\",\"IOC\",\"IPCALAB\",\"IPCL\",\"IRB\",\"IRCTC\",\"ISPATIND\",\"ITC\",\"IVRCLINFRA\",\"IVRPRIME\",\"J&KBANK\",\"JETAIRWAYS\",\"JINDALSAW\",\"JINDALSTEL\",\"JINDALSWHL\",\"JISLJALEQS\",\"JKCEMENT\",\"JPASSOCIAT\",\"JPHYDRO\",\"JPPOWER\",\"JSL\",\"JSTAINLESS\",\"JSWENERGY\",\"JSWISPAT\",\"JSWSTEEL\",\"JUBLFOOD\",\"JUSTDIAL\",\"KAJARIACER\",\"KESORAMIND\",\"KFA\",\"KIRLOSKCUM\",\"KLGSYSTEL\",\"KOTAKBANK\",\"KPIT\",\"KSCL\",\"KSK\",\"KSOILS\",\"KTKBANK\",\"L&T\",\"L&TFH\",\"LALPATHLAB\",\"LAURUSLABS\",\"LAXMIMACH\",\"LICHSGFIN\",\"LITL\",\"LT\",\"LTI\",\"LTIM\",\"LTTS\",\"LUPIN\",\"M&M\",\"M&MFIN\",\"MAHLIFE\",\"MAHSEAMLES\",\"MANAPPURAM\",\"MARICO\",\"MARUTI\",\"MASTEK\",\"MATRIXLABS\",\"MAX\",\"MCDOWELL-N\",\"MCLEODRUSS\",\"MCX\",\"MERCATOR\",\"METROPOLIS\",\"MFSL\",\"MGL\",\"MIC\",\"MICO\",\"MINDTREE\",\"MLL\",\"MONNETISPA\",\"MOSERBAER\",\"MOTHERSON\",\"MOTHERSUMI\",\"MPHASIS\",\"MPHASISBFL\",\"MRF\",\"MRPL\",\"MTNL\",\"MUNDRAPORT\",\"MUTHOOTFIN\",\"NAGARCONST\",\"NAGARFERT\",\"NAGAROIL\",\"NAM-INDIA\",\"NATIONALUM\",\"NAUKRI\",\"NAVINFLUOR\",\"NBCC\",\"NBVENTURES\",\"NCC\",\"NDTV\",\"NESTLEIND\",\"NETWORK18\",\"NEYVELILIG\",\"NHPC\",\"NICOLASPIR\",\"NIIT\",\"NIITLTD\",\"NIITTECH\",\"NIPPONDENR\",\"NMDC\",\"NOIDATOLL\",\"NTPC\",\"NUCLEUS\",\"OBEROIRLTY\",\"OFSS\",\"OIL\",\"OMAXE\",\"ONGC\",\"ONMOBILE\",\"OPTOCIRCUI\",\"ORBITCORP\",\"ORCHIDCHEM\",\"ORIENTBANK\",\"PAGEIND\",\"PANTALOONR\",\"PARSVNATH\",\"PATELENG\",\"PATNI\",\"PCJEWELLER\",\"PEL\",\"PENINLAND\",\"PERSISTENT\",\"PETRONET\",\"PFC\",\"PFIZER\",\"PIDILITIND\",\"PIIND\",\"PIRHEALTH\",\"PNB\",\"POLARIS\",\"POLYCAB\",\"POWERGRID\",\"PRAJIND\",\"PRISMCEM\",\"PTC\",\"PUNJLLOYD\",\"PURVA\",\"PVR\",\"PVRINOX\",\"RAIN\",\"RAJESHEXPO\",\"RAMCOCEM\",\"RANBAXY\",\"RAYMOND\",\"RBLBANK\",\"RCOM\",\"RDEL\",\"RECLTD\",\"REDINGTON\",\"REL\",\"RELCAPITAL\",\"RELIANCE\",\"RELINFRA\",\"RELMEDIA\",\"RELPETRO\",\"RENUKA\",\"REPCOHOME\",\"RIIL\",\"RNAVAL\",\"RNRL\",\"ROLTA\",\"RPL\",\"RPOWER\",\"RUCHISOYA\",\"SAIL\",\"SAMRUDDHI\",\"SASKEN\",\"SATYAMCOMP\",\"SBICARD\",\"SBILIFE\",\"SBIN\",\"SCI\",\"SESAGOA\",\"SHREECEM\",\"SHRIRAMFIN\",\"SIEMENS\",\"SINTEX\",\"SKSMICRO\",\"SKUMARSYNF\",\"SOBHA\",\"SOUTHBANK\",\"SREINFRA\",\"SREINTFIN\",\"SRF\",\"SRTRANSFIN\",\"SSLT\",\"STAR\",\"STER\",\"STERLINBIO\",\"STROPTICAL\",\"STRTECH\",\"SUNPHARMA\",\"SUNTV\",\"SUZLON\",\"SYNDIBANK\",\"SYNGENE\",\"TATACHEM\",\"TATACOFFEE\",\"TATACOMM\",\"TATACONSUM\",\"TATAELXSI\",\"TATAGLOBAL\",\"TATAMOTORS\",\"TATAMTRDVR\",\"TATAPOWER\",\"TATASTEEL\",\"TATATEA\",\"TCS\",\"TECHM\",\"TELCO\",\"THERMAX\",\"TISCO\",\"TITAN\",\"TORNTPHARM\",\"TORNTPOWER\",\"TRENT\",\"TRIVENI\",\"TTKPRESTIG\",\"TTML\",\"TULIP\",\"TV-18\",\"TV18BRDCST\",\"TVSMOTOR\",\"UBL\",\"UCOBANK\",\"UJJIVAN\",\"ULTRACEMCO\",\"UNIONBANK\",\"UNIPHOS\",\"UNITECH\",\"UPL\",\"UTIBANK\",\"UTVSOF\",\"VDOCONINTL\",\"VEDL\",\"VGUARD\",\"VIDEOIND\",\"VIJAYABANK\",\"VIPIND\",\"VOLTAMP\",\"VOLTAS\",\"VSNL\",\"WALCHANNAG\",\"WELCORP\",\"WELGUJ\",\"WHIRLPOOL\",\"WIPRO\",\"WOCKPHARMA\",\"WWIL\",\"YESBANK\",\"ZEEL\",\"ZEETELE\",\"ZYDUSLIFE\",\n",
    "]"
   ]
  },
  {
   "cell_type": "code",
   "execution_count": 4,
   "metadata": {},
   "outputs": [],
   "source": [
    "symbol_all =  df_bank_wgt.symbol.unique()"
   ]
  },
  {
   "cell_type": "code",
   "execution_count": 5,
   "metadata": {},
   "outputs": [],
   "source": [
    "headers  = {\n",
    "    \"accept-encoding\": \"gzip, deflate, br\",\n",
    "    \"accept-language\": \"en-GB,en-US;q=0.9,en;q=0.8\",\n",
    "    \"user-agent\": \"Mozilla/5.0 (Windows NT 10.0; Win64; x64) AppleWebKit/537.36 (KHTML, like Gecko) Chrome/116.0.0.0 Safari/537.36\"\n",
    "}\n",
    "\n",
    "\n",
    "def get_data_frm_website(url,dict_name, cols):\n",
    "    s = Session()\n",
    "    time.sleep(1)\n",
    "    s.headers.update({\"user-agent\": \"Mozilla/5.0 (Windows NT 10.0; Win64; x64) AppleWebKit/537.36 (KHTML, like Gecko) Chrome/116.0.0.0 Safari/537.36\"})\n",
    "    s.get(\"https://www.nseindia.com/\")\n",
    "    data  = s.get(url).json()\n",
    "    return pd.DataFrame((data[dict_name]))[cols]\n",
    "\n"
   ]
  },
  {
   "cell_type": "code",
   "execution_count": 6,
   "metadata": {},
   "outputs": [],
   "source": [
    "\n",
    "start_dt = '01-03-2023'\n",
    "int_dt = '30-05-2023'\n",
    "end_dt = (datetime.datetime.today()  - timedelta(days=0)).strftime('%d-%m-%Y') \n",
    "# symbol_all = [\"ABB\",'TATAMOTORS']\n",
    "error_list = []\n",
    "dict_name = 'data'\n",
    "writer = pd.ExcelWriter(f'stock_analysis_bank_3aug.xlsx', engine='xlsxwriter')\n",
    "\n",
    "eq_cols = ['CH_SYMBOL','CH_TIMESTAMP','CH_TRADE_HIGH_PRICE', 'CH_TRADE_LOW_PRICE', 'CH_OPENING_PRICE',\n",
    "       'CH_CLOSING_PRICE', 'CH_PREVIOUS_CLS_PRICE','VWAP',\n",
    "       'CH_TOT_TRADED_QTY', 'CH_TOT_TRADED_VAL','CH_TOTAL_TRADES',\n",
    "        'COP_DELIV_QTY', 'COP_DELIV_PERC', \n",
    "       ]\n",
    "\n",
    "fut_cols = ['FH_SYMBOL',\"FH_TIMESTAMP\",\t 'FH_EXPIRY_DT','FH_OPENING_PRICE',\n",
    "       'FH_TRADE_HIGH_PRICE', 'FH_TRADE_LOW_PRICE', 'FH_CLOSING_PRICE',\n",
    "       'FH_LAST_TRADED_PRICE', 'FH_PREV_CLS','FH_TOT_TRADED_QTY', 'FH_TOT_TRADED_VAL', 'FH_OPEN_INT',\n",
    "       'FH_CHANGE_IN_OI','FH_UNDERLYING_VALUE']\n",
    "\n",
    "date_df =pd.DataFrame(\n",
    "    {\n",
    "        \"month_id\": [\"March\", \"April\", \"May\", \"June\",\"July\",\"August\"],\n",
    "        \"start_dt\": [\"01-03-2023\", \"30-03-2023\",'28-04-2023','26-05-2023','30-06-2023', '28-07-2023'],\n",
    "        \"near_expiry_date\":['29-03-2023', '27-04-2023','25-05-2023','29-06-2023','27-07-2023',\"31-08-2023\"],\n",
    "        \"far_expiry_date\": ['27-04-2023','25-05-2023','29-06-2023','27-07-2023',\"31-08-2023\",\"28-09-2023\"]\n",
    "    }, index=[1,2,3,4,5,6]\n",
    ") \n",
    "\n",
    "def get_data(symbol):\n",
    "   print(symbol)\n",
    "   try:\n",
    "      df_final = pd.DataFrame()\n",
    "      df_eq_delivery= pd.DataFrame()\n",
    "      df_near_month = pd.DataFrame()\n",
    "      df_far_month = pd.DataFrame()\n",
    "      eq_url = f'https://www.nseindia.com/api/historical/securityArchives?from={start_dt}&to={int_dt}&symbol={symbol}&dataType=priceVolumeDeliverable&series=EQ'\n",
    "      df_eq_delivery = get_data_frm_website(eq_url,dict_name, eq_cols)\n",
    "      eq_url = f'https://www.nseindia.com/api/historical/securityArchives?from={int_dt}&to={end_dt}&symbol={symbol}&dataType=priceVolumeDeliverable&series=EQ'\n",
    "      df_eq_delivery = df_eq_delivery.append(get_data_frm_website(eq_url,dict_name, eq_cols)).drop_duplicates()\n",
    "\n",
    "      for r,c in date_df.iterrows():\n",
    "         # print(c.start_dt)\n",
    "         start_dt_fut = c.start_dt\n",
    "         end_dt_fut = c.near_expiry_date\n",
    "         near_expiry = pd.to_datetime(c.near_expiry_date).strftime('%d-%b-%Y')\n",
    "         far_expiry = pd.to_datetime(c.far_expiry_date).strftime('%d-%b-%Y')\n",
    "         # print(start_dt, end_dt, near_expiry, far_expiry)\n",
    "         fut_url = f\"https://www.nseindia.com/api/historical/foCPV?from={start_dt_fut}&to={end_dt_fut}&instrumentType=FUTSTK&symbol={symbol}&year=2023&expiryDate={near_expiry}\"\n",
    "         far_fut_url = f\"https://www.nseindia.com/api/historical/foCPV?from={start_dt_fut}&to={end_dt_fut}&instrumentType=FUTSTK&symbol={symbol}&year=2023&expiryDate={far_expiry}\"\n",
    "\n",
    "         df_near_month = df_near_month.append(get_data_frm_website(fut_url,dict_name, fut_cols))\n",
    "         df_far_month =df_far_month.append(get_data_frm_website(far_fut_url,dict_name, fut_cols))\n",
    "\n",
    "      df_eq_delivery['CH_TIMESTAMP'] = pd.to_datetime(df_eq_delivery['CH_TIMESTAMP'])\n",
    "      df_near_month['FH_TIMESTAMP'] = pd.to_datetime(df_near_month['FH_TIMESTAMP'])\n",
    "      df_far_month['FH_TIMESTAMP'] = pd.to_datetime(df_far_month['FH_TIMESTAMP'])\n",
    "\n",
    "      df_near_month['FH_OPEN_INT'] = df_near_month['FH_OPEN_INT'].astype(float)\n",
    "      df_far_month['FH_OPEN_INT'] = df_far_month['FH_OPEN_INT'].astype(float)\n",
    "\n",
    "      df_final = (\n",
    "         df_eq_delivery.merge(df_near_month, how = 'left', left_on = ['CH_TIMESTAMP'], right_on = [\"FH_TIMESTAMP\"])\n",
    "         .merge(df_far_month, how = 'left', left_on = ['CH_TIMESTAMP'], right_on = [\"FH_TIMESTAMP\"],\n",
    "               suffixes=('_near','_far'))\n",
    "      )\n",
    "\n",
    "      # Date\tPrice\tDel\t5DAVG\tCOI\t~COI\t\t~Price\t~OI\t~Del\t\tLong\tShort\t\tOpen Price  \tHigh Price  \tLow Price  \tLast Price  \tClose Price  \tAverage Price \n",
    "      df_final['Date'] = df_final['CH_TIMESTAMP']\n",
    "      df_final['Price'] = df_final['CH_CLOSING_PRICE']\n",
    "      df_final['del'] = df_final['CH_TOT_TRADED_VAL']*df_final['COP_DELIV_PERC']/100 /10000000\n",
    "      df_final['del_5d'] = df_final['del'].rolling(window= 5).mean().bfill()\n",
    "      df_final['COI'] = df_final['FH_OPEN_INT_near'] + df_final['FH_OPEN_INT_far']\n",
    "      df_final['chg_COI'] = df_final['COI'].diff()\n",
    "      df_final['chg_Price'] = df_final['Price'].pct_change() * 100\n",
    "      df_final['chg_OI'] = df_final['COI'].pct_change() * 100\n",
    "      df_final['chg_del'] = df_final['del']/df_final['del_5d'] * 100\n",
    "      df_final['long'] = np.where((((df_final['chg_Price'] > 0) & (df_final['chg_OI'] > 0)) |\n",
    "                                  ((df_final['chg_Price'] < 0) & (df_final['chg_OI'] < 0))), df_final['chg_COI'], 0)\n",
    "      \n",
    "      df_final['short'] =np.where((((df_final['chg_Price'] > 0) & (df_final['chg_OI'] < 0)) |\n",
    "                                  ((df_final['chg_Price'] < 0) & (df_final['chg_OI'] > 0))), df_final['chg_COI'], 0)\n",
    "      \n",
    "      # if chg_Price and chng_OI same sign then long else short\n",
    "      df_final['status'] = df_final.apply(lambda x: 'long' if ((x.chg_Price > 0) & (x.chg_OI > 0)) \n",
    "                     else 'short' if  ((x.chg_Price < 0) & (x.chg_OI > 0))\n",
    "                     else 'long_covering' if ((x.chg_Price < 0) & (x.chg_OI < 0))\n",
    "                     else 'short_covering' if ((x.chg_Price > 0) & (x.chg_OI < 0))\n",
    "                     else 'nothing', axis = 1)\n",
    "      \n",
    "      df_final['Open']  = df_final['CH_OPENING_PRICE']\n",
    "      df_final['High'] = df_final['CH_TRADE_HIGH_PRICE']\n",
    "      df_final['Low'] = df_final['CH_TRADE_LOW_PRICE']\n",
    "      df_final['Close'] = df_final['CH_CLOSING_PRICE']\n",
    "      df_final['Avg_price'] = df_final['VWAP']\n",
    "      df_final = df_final.round(2)\n",
    "      df_final = pd.concat(\n",
    "         [\n",
    "            (df_final[df_final.columns[0:1]]), df_final[df_final.columns[-17:]] \n",
    "            ],\n",
    "            axis= 1\n",
    "      )\n",
    "\n",
    "      df_final.to_excel(writer, sheet_name=symbol,index = False)\n",
    "      wb  = writer.book\n",
    "      ws = writer.sheets[symbol]\n",
    "\n",
    "      f1 = wb.add_format({'bg_color':   '#FFC7CE', 'font_color': '#9C0006'})\n",
    "      f2 = wb.add_format({'bg_color':   '#C6EFCE', 'font_color': '#006100'})\n",
    "      def cond_format(ws,cell_name, f1, f2,p_value, n_value):\n",
    "         ws.conditional_format(\n",
    "            f'{cell_name}1:{cell_name}100',{\n",
    "               'type':'cell', 'criteria':'>', 'value':p_value, 'format':f2\n",
    "            }\n",
    "         )\n",
    "         ws.conditional_format(\n",
    "            f'{cell_name}1:{cell_name}100',{\n",
    "               'type':'cell', 'criteria':'<', 'value':n_value, 'format':f1\n",
    "            }\n",
    "\n",
    "         )\n",
    "      cond_format(ws,\"H\", f1, f2,1, -1)\n",
    "      cond_format(ws,\"I\", f1, f2,1, -1)\n",
    "      cond_format(ws,\"J\", f1, f2,100, -1)\n",
    "   except:\n",
    "      print(\"error\", symbol)\n",
    "      error_list.append(symbol)\n",
    "      # keyboard.press_and_release('ctrl+w')\n",
    "      #return None\n",
    "   "
   ]
  },
  {
   "cell_type": "code",
   "execution_count": 7,
   "metadata": {},
   "outputs": [
    {
     "name": "stdout",
     "output_type": "stream",
     "text": [
      "HDFCBANKICICIBANK\n",
      "\n",
      "KOTAKBANK\n",
      "AXISBANK\n",
      "SBIN\n",
      "INDUSINDBK\n",
      "BANKBARODA\n",
      "AUBANK\n",
      "FEDERALBNK\n",
      "IDFCFIRSTB\n",
      "BANDHANBNK\n",
      "PNB\n"
     ]
    }
   ],
   "source": [
    "from joblib import Parallel, delayed\n",
    "\n",
    "results = Parallel(n_jobs=2, backend='threading')(delayed(get_data)(symbol) for symbol in symbol_all)\n",
    "writer.close()"
   ]
  },
  {
   "cell_type": "code",
   "execution_count": 8,
   "metadata": {},
   "outputs": [
    {
     "data": {
      "text/plain": [
       "0"
      ]
     },
     "execution_count": 8,
     "metadata": {},
     "output_type": "execute_result"
    }
   ],
   "source": [
    "len(error_list)"
   ]
  },
  {
   "cell_type": "code",
   "execution_count": 9,
   "metadata": {},
   "outputs": [
    {
     "ename": "NameError",
     "evalue": "name 'xx' is not defined",
     "output_type": "error",
     "traceback": [
      "\u001b[1;31m---------------------------------------------------------------------------\u001b[0m",
      "\u001b[1;31mNameError\u001b[0m                                 Traceback (most recent call last)",
      "\u001b[1;32m~\\AppData\\Local\\Temp\\ipykernel_22476\\4089038958.py\u001b[0m in \u001b[0;36m<module>\u001b[1;34m\u001b[0m\n\u001b[1;32m----> 1\u001b[1;33m \u001b[0mxx\u001b[0m\u001b[1;33m\u001b[0m\u001b[1;33m\u001b[0m\u001b[0m\n\u001b[0m",
      "\u001b[1;31mNameError\u001b[0m: name 'xx' is not defined"
     ]
    }
   ],
   "source": [
    "xx"
   ]
  },
  {
   "cell_type": "code",
   "execution_count": null,
   "metadata": {},
   "outputs": [
    {
     "data": {
      "text/plain": [
       "12250"
      ]
     },
     "execution_count": 10,
     "metadata": {},
     "output_type": "execute_result"
    }
   ],
   "source": [
    "40+120+60+1331+1651+330+1306+276+130+542+858+310+216+301+797+1644+1155+113+170+400+40+460"
   ]
  },
  {
   "cell_type": "code",
   "execution_count": null,
   "metadata": {},
   "outputs": [
    {
     "data": {
      "text/plain": [
       "5565"
      ]
     },
     "execution_count": 11,
     "metadata": {},
     "output_type": "execute_result"
    }
   ],
   "source": [
    "1352+879+224+638+1532+746+194"
   ]
  },
  {
   "cell_type": "code",
   "execution_count": null,
   "metadata": {},
   "outputs": [
    {
     "data": {
      "text/plain": [
       "1555"
      ]
     },
     "execution_count": 25,
     "metadata": {},
     "output_type": "execute_result"
    }
   ],
   "source": [
    "160+290+220+180+73+216 + 416"
   ]
  },
  {
   "cell_type": "code",
   "execution_count": null,
   "metadata": {},
   "outputs": [
    {
     "data": {
      "text/plain": [
       "13073"
      ]
     },
     "execution_count": 26,
     "metadata": {},
     "output_type": "execute_result"
    }
   ],
   "source": [
    "11518 + 1555"
   ]
  },
  {
   "cell_type": "code",
   "execution_count": null,
   "metadata": {},
   "outputs": [
    {
     "data": {
      "text/plain": [
       "4594"
      ]
     },
     "execution_count": 16,
     "metadata": {},
     "output_type": "execute_result"
    }
   ],
   "source": [
    "896+1306+2156+236"
   ]
  },
  {
   "cell_type": "code",
   "execution_count": null,
   "metadata": {},
   "outputs": [
    {
     "data": {
      "text/plain": [
       "11298"
      ]
     },
     "execution_count": 17,
     "metadata": {},
     "output_type": "execute_result"
    }
   ],
   "source": [
    "5565+1139+4594"
   ]
  },
  {
   "cell_type": "code",
   "execution_count": null,
   "metadata": {},
   "outputs": [],
   "source": [
    "#consecutive short covering 2 days \n",
    "# price = +ve, oi > -1 and delivery is > 100 %\n"
   ]
  },
  {
   "cell_type": "code",
   "execution_count": null,
   "metadata": {},
   "outputs": [],
   "source": [
    "# read excel stock analysis\n",
    "# import openpyxl as xl\n",
    "# bn_writer = xl.load_workbook('stock_analysis.xlsx')\n",
    "# for sheet in bn_writer.sheetnames:\n",
    "#     print(sheet)\n",
    "#     df_bn = pd.read_excel(\"stock_analysis.xlsx\", sheet_name=sheet)\n",
    "#     print(df_bn[(df_bn['chg_Price'] > 0) & (df_bn['chg_OI'] < -1) & (df_bn['chg_del'] > 100)])\n",
    "\n",
    "# def move_sheet(wb, from_loc=None, to_loc=None):\n",
    "#     sheets=wb._sheets\n",
    "\n",
    "#     # if no from_loc given, assume last sheet\n",
    "#     if from_loc is None:\n",
    "#         from_loc = len(sheets) - 1\n",
    "\n",
    "#     #if no to_loc given, assume first\n",
    "#     if to_loc is None:\n",
    "#         to_loc = 0\n",
    "\n",
    "#     sheet = sheets.pop(from_loc)\n",
    "#     sheets.insert(to_loc, sheet)\n",
    "# move_sheet(bn_writer, 0, 1)"
   ]
  },
  {
   "cell_type": "code",
   "execution_count": null,
   "metadata": {},
   "outputs": [
    {
     "name": "stdout",
     "output_type": "stream",
     "text": [
      "ABCAPITAL\n"
     ]
    }
   ],
   "source": [
    "import openpyxl as xl\n",
    "bn_writer = xl.load_workbook('stock_analysis_all_5jul.xlsx')\n",
    "for sheet in bn_writer.sheetnames:\n",
    "    print(sheet)\n",
    "    df_bn = pd.read_excel(\"stock_analysis_all_5jul.xlsx\", sheet_name=sheet)\n",
    "    # print(df_bn[(df_bn['chg_Price'] > 0) & (df_bn['chg_OI'] < -1) & (df_bn['chg_del'] > 100)])\n",
    "    break"
   ]
  },
  {
   "cell_type": "code",
   "execution_count": null,
   "metadata": {},
   "outputs": [
    {
     "data": {
      "text/html": [
       "<div>\n",
       "<style scoped>\n",
       "    .dataframe tbody tr th:only-of-type {\n",
       "        vertical-align: middle;\n",
       "    }\n",
       "\n",
       "    .dataframe tbody tr th {\n",
       "        vertical-align: top;\n",
       "    }\n",
       "\n",
       "    .dataframe thead th {\n",
       "        text-align: right;\n",
       "    }\n",
       "</style>\n",
       "<table border=\"1\" class=\"dataframe\">\n",
       "  <thead>\n",
       "    <tr style=\"text-align: right;\">\n",
       "      <th></th>\n",
       "      <th>CH_SYMBOL</th>\n",
       "      <th>Date</th>\n",
       "      <th>Price</th>\n",
       "      <th>del</th>\n",
       "      <th>del_5d</th>\n",
       "      <th>COI</th>\n",
       "      <th>chg_COI</th>\n",
       "      <th>chg_Price</th>\n",
       "      <th>chg_OI</th>\n",
       "      <th>chg_del</th>\n",
       "      <th>long</th>\n",
       "      <th>short</th>\n",
       "      <th>status</th>\n",
       "      <th>Open</th>\n",
       "      <th>High</th>\n",
       "      <th>Low</th>\n",
       "      <th>Close</th>\n",
       "      <th>Avg_price</th>\n",
       "    </tr>\n",
       "  </thead>\n",
       "  <tbody>\n",
       "    <tr>\n",
       "      <th>79</th>\n",
       "      <td>ABCAPITAL</td>\n",
       "      <td>2023-06-28</td>\n",
       "      <td>193.5</td>\n",
       "      <td>101.55</td>\n",
       "      <td>65.74</td>\n",
       "      <td>NaN</td>\n",
       "      <td>NaN</td>\n",
       "      <td>0.62</td>\n",
       "      <td>0.0</td>\n",
       "      <td>154.47</td>\n",
       "      <td>0.0</td>\n",
       "      <td>0.0</td>\n",
       "      <td>nothing</td>\n",
       "      <td>193.2</td>\n",
       "      <td>194.7</td>\n",
       "      <td>188.9</td>\n",
       "      <td>193.5</td>\n",
       "      <td>191.93</td>\n",
       "    </tr>\n",
       "    <tr>\n",
       "      <th>80</th>\n",
       "      <td>ABCAPITAL</td>\n",
       "      <td>2023-06-30</td>\n",
       "      <td>196.3</td>\n",
       "      <td>84.76</td>\n",
       "      <td>77.03</td>\n",
       "      <td>28155600.0</td>\n",
       "      <td>NaN</td>\n",
       "      <td>1.45</td>\n",
       "      <td>-22.88</td>\n",
       "      <td>110.04</td>\n",
       "      <td>0.0</td>\n",
       "      <td>NaN</td>\n",
       "      <td>short_covering</td>\n",
       "      <td>192.1</td>\n",
       "      <td>196.9</td>\n",
       "      <td>190.6</td>\n",
       "      <td>196.3</td>\n",
       "      <td>194.66</td>\n",
       "    </tr>\n",
       "    <tr>\n",
       "      <th>81</th>\n",
       "      <td>ABCAPITAL</td>\n",
       "      <td>2023-07-03</td>\n",
       "      <td>195.05</td>\n",
       "      <td>29.48</td>\n",
       "      <td>78.69</td>\n",
       "      <td>27237600.0</td>\n",
       "      <td>-918000.0</td>\n",
       "      <td>-0.64</td>\n",
       "      <td>-3.26</td>\n",
       "      <td>37.47</td>\n",
       "      <td>-918000.0</td>\n",
       "      <td>0.0</td>\n",
       "      <td>long_covering</td>\n",
       "      <td>197.1</td>\n",
       "      <td>199.3</td>\n",
       "      <td>194.0</td>\n",
       "      <td>195.05</td>\n",
       "      <td>196.09</td>\n",
       "    </tr>\n",
       "    <tr>\n",
       "      <th>82</th>\n",
       "      <td>ABCAPITAL</td>\n",
       "      <td>2023-07-04</td>\n",
       "      <td>193.75</td>\n",
       "      <td>41.9</td>\n",
       "      <td>78.89</td>\n",
       "      <td>26044200.0</td>\n",
       "      <td>-1193400.0</td>\n",
       "      <td>-0.67</td>\n",
       "      <td>-4.38</td>\n",
       "      <td>53.12</td>\n",
       "      <td>-1193400.0</td>\n",
       "      <td>0.0</td>\n",
       "      <td>long_covering</td>\n",
       "      <td>195.05</td>\n",
       "      <td>196.75</td>\n",
       "      <td>192.15</td>\n",
       "      <td>193.75</td>\n",
       "      <td>193.94</td>\n",
       "    </tr>\n",
       "    <tr>\n",
       "      <th>83</th>\n",
       "      <td>ABCAPITAL</td>\n",
       "      <td>2023-07-05</td>\n",
       "      <td>188.85</td>\n",
       "      <td>34.98</td>\n",
       "      <td>58.54</td>\n",
       "      <td>25968600.0</td>\n",
       "      <td>-75600.0</td>\n",
       "      <td>-2.53</td>\n",
       "      <td>-0.29</td>\n",
       "      <td>59.76</td>\n",
       "      <td>-75600.0</td>\n",
       "      <td>0.0</td>\n",
       "      <td>long_covering</td>\n",
       "      <td>193.0</td>\n",
       "      <td>195.35</td>\n",
       "      <td>187.75</td>\n",
       "      <td>188.85</td>\n",
       "      <td>190.32</td>\n",
       "    </tr>\n",
       "  </tbody>\n",
       "</table>\n",
       "</div>"
      ],
      "text/plain": [
       "    CH_SYMBOL       Date  Price    del  del_5d        COI    chg_COI  \\\n",
       "79  ABCAPITAL 2023-06-28  193.5 101.55   65.74        NaN        NaN   \n",
       "80  ABCAPITAL 2023-06-30  196.3  84.76   77.03 28155600.0        NaN   \n",
       "81  ABCAPITAL 2023-07-03 195.05  29.48   78.69 27237600.0  -918000.0   \n",
       "82  ABCAPITAL 2023-07-04 193.75   41.9   78.89 26044200.0 -1193400.0   \n",
       "83  ABCAPITAL 2023-07-05 188.85  34.98   58.54 25968600.0   -75600.0   \n",
       "\n",
       "    chg_Price  chg_OI  chg_del       long  short          status   Open  \\\n",
       "79       0.62     0.0   154.47        0.0    0.0         nothing  193.2   \n",
       "80       1.45  -22.88   110.04        0.0    NaN  short_covering  192.1   \n",
       "81      -0.64   -3.26    37.47  -918000.0    0.0   long_covering  197.1   \n",
       "82      -0.67   -4.38    53.12 -1193400.0    0.0   long_covering 195.05   \n",
       "83      -2.53   -0.29    59.76   -75600.0    0.0   long_covering  193.0   \n",
       "\n",
       "     High    Low  Close  Avg_price  \n",
       "79  194.7  188.9  193.5     191.93  \n",
       "80  196.9  190.6  196.3     194.66  \n",
       "81  199.3  194.0 195.05     196.09  \n",
       "82 196.75 192.15 193.75     193.94  \n",
       "83 195.35 187.75 188.85     190.32  "
      ]
     },
     "execution_count": 14,
     "metadata": {},
     "output_type": "execute_result"
    }
   ],
   "source": [
    "df_bn.tail()"
   ]
  },
  {
   "attachments": {},
   "cell_type": "markdown",
   "metadata": {},
   "source": [
    "## end\n"
   ]
  },
  {
   "cell_type": "code",
   "execution_count": null,
   "metadata": {},
   "outputs": [],
   "source": [
    "from selenium import webdriver\n",
    "import selenium\n",
    "from selenium.webdriver.support.ui import Select\n",
    "from selenium.webdriver.support.ui import WebDriverWait\n",
    "from selenium.webdriver.support import expected_conditions as EC\n",
    "from selenium.webdriver.common.by import By\n",
    "\n",
    "# options = webdriver.ChromeOptions()\n",
    "options = webdriver.ChromeOptions()\n",
    "options.add_argument(\"start-maximized\")\n",
    "options.add_experimental_option(\"excludeSwitches\", [\"enable-automation\"])\n",
    "options.add_experimental_option('useAutomationExtension', False)\n",
    "# driver = webdriver.Chrome(chrome_options=options)\n",
    "options.add_argument(\"user-agent=Mozilla/5.0 (Windows NT 10.0; Win64; x64) AppleWebKit/537.36 (KHTML, like Gecko) Chrome/115.0.0.0 Safari/537.36\")\n",
    "\n",
    "driver = webdriver.Chrome(\"C:\\\\Users\\\\akash.verma\\\\Downloads\\\\chromedriver_win32\\\\chromedriver.exe\",chrome_options=options)\n",
    "url =\"https://www.nseindia.com/report-detail/eq_security\"\n",
    "driver.get(url)\n",
    "driver.maximize_window()\n",
    "# element =  driver.find_element(by=By.NAME, value='hcpFO_instrument' )\n",
    "# element.clear()\n",
    "instrment = Select(driver.find_element_by_id('hsa_datatype_filter'))\n",
    "\n",
    "# select by visible text\n",
    "instrment.select_by_visible_text('Security-wise Price volume & Deliverable position data')\n",
    "\n",
    "WebDriverWait(driver, 20).until(EC.visibility_of_element_located((By.CSS_SELECTOR, \"h1.h1\")))\n",
    "print(driver.page_source)\n",
    "# symbol = Select(driver.find_element_by_id('symbolhsaLbl'))\n",
    "# city_option = WebDriverWait(driver, 5).until(lambda x: x.find_element_by_xpath(\"//select[@name='city']/option[text()='Coimbotore']\"))\n",
    "# city_option.click()"
   ]
  },
  {
   "cell_type": "code",
   "execution_count": null,
   "metadata": {},
   "outputs": [],
   "source": []
  }
 ],
 "metadata": {
  "kernelspec": {
   "display_name": "py37",
   "language": "python",
   "name": "python3"
  },
  "language_info": {
   "codemirror_mode": {
    "name": "ipython",
    "version": 3
   },
   "file_extension": ".py",
   "mimetype": "text/x-python",
   "name": "python",
   "nbconvert_exporter": "python",
   "pygments_lexer": "ipython3",
   "version": "3.7.15"
  },
  "orig_nbformat": 4
 },
 "nbformat": 4,
 "nbformat_minor": 2
}
