{
 "cells": [
  {
   "attachments": {},
   "cell_type": "markdown",
   "metadata": {},
   "source": [
    "## import "
   ]
  },
  {
   "cell_type": "code",
   "execution_count": 1,
   "metadata": {},
   "outputs": [],
   "source": [
    "%load_ext autoreload\n",
    "%autoreload 2"
   ]
  },
  {
   "cell_type": "code",
   "execution_count": 58,
   "metadata": {},
   "outputs": [],
   "source": [
    "import pkscreener"
   ]
  },
  {
   "cell_type": "code",
   "execution_count": 60,
   "metadata": {},
   "outputs": [
    {
     "data": {
      "text/plain": [
       "['Imports',\n",
       " '__builtins__',\n",
       " '__cached__',\n",
       " '__doc__',\n",
       " '__file__',\n",
       " '__loader__',\n",
       " '__name__',\n",
       " '__package__',\n",
       " '__path__',\n",
       " '__spec__',\n",
       " 'find_spec']"
      ]
     },
     "execution_count": 60,
     "metadata": {},
     "output_type": "execute_result"
    }
   ],
   "source": [
    "dir(pkscreener)"
   ]
  },
  {
   "cell_type": "code",
   "execution_count": 2,
   "metadata": {},
   "outputs": [],
   "source": [
    "import numpy as np\n",
    "import pandas as pd\n",
    "from kite_trade import *\n",
    "import os\n",
    "# import ta\n",
    "from tqdm import tqdm\n",
    "import util_fun as uf\n",
    "from enctoken import get_kite\n",
    "kite = get_kite()\n",
    "import sqlite3\n",
    "from swifter import set_defaults\n",
    "set_defaults(\n",
    "    progress_bar=False,\n",
    "\n",
    ")\n",
    "import warnings\n",
    "warnings.filterwarnings(\"ignore\")\n",
    "pd.set_option('display.float_format', str)"
   ]
  },
  {
   "cell_type": "code",
   "execution_count": 9,
   "metadata": {},
   "outputs": [],
   "source": [
    "timerframe_list = [\n",
    "\"day\",\n",
    "\"minute\",\n",
    " \"3minute\",\n",
    " \"5minute\",\n",
    " \"10minute\",\n",
    " \"15minute\",\n",
    " \"30minute\",\n",
    " \"60minute\",]\n",
    "\n",
    "i=1\n",
    "error_list = []\n",
    "# instument in nse\n",
    "inst = pd.DataFrame(kite.instruments(\"NSE\"))\n",
    "inst_filter = inst.query('(name != \"\")').copy()\n",
    "inst_filter.rename(columns = {\"tradingsymbol\":'Symbol'},inplace = True)\n",
    "inst_filter = inst_filter[inst_filter.segment == 'NSE']\n",
    "# inst_filter.query(\"Symbol == 'HDFCBANK'\")\n",
    "\n",
    "nifty_500 = pd.read_csv('../data/ind_nifty500list.csv')\n",
    "nifty_500 = nifty_500.merge(inst_filter, on = 'Symbol')\n",
    "inst_dict = dict(zip(nifty_500.Symbol, nifty_500.instrument_token))\n",
    "# inst_dict = dict(zip(inst_filter.Symbol, inst_filter.instrument_token))"
   ]
  },
  {
   "cell_type": "code",
   "execution_count": 10,
   "metadata": {},
   "outputs": [
    {
     "data": {
      "text/plain": [
       "486"
      ]
     },
     "execution_count": 10,
     "metadata": {},
     "output_type": "execute_result"
    }
   ],
   "source": [
    "len(inst_dict)"
   ]
  },
  {
   "cell_type": "code",
   "execution_count": 34,
   "metadata": {},
   "outputs": [
    {
     "name": "stderr",
     "output_type": "stream",
     "text": [
      "100%|██████████| 486/486 [00:01<00:00, 378.01it/s]"
     ]
    },
    {
     "name": "stdout",
     "output_type": "stream",
     "text": [
      "[]\n"
     ]
    },
    {
     "name": "stderr",
     "output_type": "stream",
     "text": [
      "\n"
     ]
    }
   ],
   "source": [
    "today_date = \"2024-02-28\"\n",
    "start_dt = \"2024-02-01\"\n",
    "end_dt = \"2024-02-28\"\n",
    "time_frame = \"5minute\"\n",
    "\n",
    "# import sql\n",
    "# conn = sql.create_connection('../data/Nifty_500.db')\n",
    "# cursor_obj = conn.cursor()\n",
    "# sql.delete_table(conn,'fivteen_minute')\n",
    "df_all = pd.DataFrame()\n",
    "for symbol, instument in tqdm(inst_dict.items()):\n",
    "    if symbol == \"TCS\":\n",
    "        if i:\n",
    "            try:\n",
    "                df_all = df_all.append(\n",
    "                    uf.get_data_parllel(\n",
    "                        kite, instument, time_frame, start_dt, end_dt\n",
    "                    ).assign(stock=symbol)\n",
    "                )\n",
    "        \n",
    "                # df_day.to_sql('fivteen_minute',conn, if_exists=\"append\",index = True, index_label = 'Date')\n",
    "                # directory = f'../data/historical/{time_frame}/{symbol}'\n",
    "                # if not os.path.exists(directory):\n",
    "                #     os.makedirs(directory)\n",
    "                # df_day.to_parquet(f'{directory}/part0.parquet')\n",
    "            except Exception as e:\n",
    "                print(instument,e)\n",
    "                error_list.append(instument)\n",
    "        \n",
    "        i += 1\n",
    "print(error_list)\n"
   ]
  },
  {
   "cell_type": "code",
   "execution_count": null,
   "metadata": {},
   "outputs": [],
   "source": [
    "# if i want to see breakout in 5 mins then \n",
    "# i need to fetch 5 mins data\n",
    "# and check the consoldation and then breakout\n",
    "# other thing i can do is to fetch 1 day data and then check the breakout in 5 mins\n",
    "\n",
    "# but i think first step is to test the logic weather i can correctly identify the breakout or not\n"
   ]
  },
  {
   "cell_type": "code",
   "execution_count": 5,
   "metadata": {},
   "outputs": [
    {
     "ename": "NameError",
     "evalue": "name 'xx' is not defined",
     "output_type": "error",
     "traceback": [
      "\u001b[1;31m---------------------------------------------------------------------------\u001b[0m",
      "\u001b[1;31mNameError\u001b[0m                                 Traceback (most recent call last)",
      "\u001b[1;32m~\\AppData\\Local\\Temp\\ipykernel_26032\\4089038958.py\u001b[0m in \u001b[0;36m<module>\u001b[1;34m\u001b[0m\n\u001b[1;32m----> 1\u001b[1;33m \u001b[0mxx\u001b[0m\u001b[1;33m\u001b[0m\u001b[1;33m\u001b[0m\u001b[0m\n\u001b[0m",
      "\u001b[1;31mNameError\u001b[0m: name 'xx' is not defined"
     ]
    }
   ],
   "source": [
    "xx"
   ]
  },
  {
   "cell_type": "code",
   "execution_count": 38,
   "metadata": {},
   "outputs": [],
   "source": [
    "df_all.to_parquet(f'tcs_5min.parquet')\n",
    "df_all = pd.read_parquet(f'tcs_5min.parquet')"
   ]
  },
  {
   "cell_type": "code",
   "execution_count": 39,
   "metadata": {},
   "outputs": [],
   "source": [
    "# df_all.to_parquet('feb_5mins.parquet')\n",
    "# df_all = pd.read_parquet('feb_5mins.parquet')\n",
    "df_all = df_all[df_all.stock.isin(nifty_500.Symbol.unique())]\n",
    "df_all = df_all[(df_all['Close'] > 80) &(df_all['Close'] < 5000) ]"
   ]
  },
  {
   "cell_type": "code",
   "execution_count": 40,
   "metadata": {},
   "outputs": [],
   "source": [
    "df_all.reset_index(inplace=True)\n",
    "df_all['Date']  = pd.to_datetime(df_all['Date']).dt.tz_localize(None)\n",
    "df_all['date_only'] = pd.to_datetime(df_all['Date'].dt.date)"
   ]
  },
  {
   "cell_type": "code",
   "execution_count": 41,
   "metadata": {},
   "outputs": [],
   "source": [
    "df_tcs= df_all.query(\"stock == 'TCS'\")"
   ]
  },
  {
   "cell_type": "markdown",
   "metadata": {},
   "source": [
    "# consolidate v2"
   ]
  },
  {
   "cell_type": "code",
   "execution_count": 19,
   "metadata": {},
   "outputs": [
    {
     "data": {
      "text/plain": [
       "100"
      ]
     },
     "execution_count": 19,
     "metadata": {},
     "output_type": "execute_result"
    }
   ],
   "source": [
    "4096- 3996"
   ]
  },
  {
   "cell_type": "code",
   "execution_count": 20,
   "metadata": {},
   "outputs": [
    {
     "data": {
      "text/plain": [
       "0.025025025025025027"
      ]
     },
     "execution_count": 20,
     "metadata": {},
     "output_type": "execute_result"
    }
   ],
   "source": [
    "100/3996"
   ]
  },
  {
   "cell_type": "code",
   "execution_count": 23,
   "metadata": {},
   "outputs": [],
   "source": [
    "import pandas as pd\n",
    "import mplfinance as mpf\n",
    "\n",
    "# Load data\n",
    "# Assuming data is in 'data.csv' with columns 'Date', 'Open', 'High', 'Low', 'Close', 'Volume'\n",
    "# Make sure to adjust the path to where you have your CSV file\n",
    "df = df_tcs.copy()\n",
    "\n",
    "# Define consolidation finding parameters\n",
    "consolidation_percentage = 2.5 # Percentage defining the consolidation range (e.g., 2.5%)\n",
    "min_periods_consolidated = 10   # Minimum number of periods for the consolidation\n",
    "\n",
    "# Calculate the price range within each period as a percentage\n",
    "df['RangePct'] = ((df['High'] - df['Low']) / df['Low']) * 100\n",
    "\n",
    "# Find periods where the price range is within the consolidation percentage\n",
    "consolidation = df['RangePct'] < consolidation_percentage\n"
   ]
  },
  {
   "cell_type": "code",
   "execution_count": 26,
   "metadata": {},
   "outputs": [
    {
     "data": {
      "text/html": [
       "<div>\n",
       "<style scoped>\n",
       "    .dataframe tbody tr th:only-of-type {\n",
       "        vertical-align: middle;\n",
       "    }\n",
       "\n",
       "    .dataframe tbody tr th {\n",
       "        vertical-align: top;\n",
       "    }\n",
       "\n",
       "    .dataframe thead th {\n",
       "        text-align: right;\n",
       "    }\n",
       "</style>\n",
       "<table border=\"1\" class=\"dataframe\">\n",
       "  <thead>\n",
       "    <tr style=\"text-align: right;\">\n",
       "      <th></th>\n",
       "      <th>Date</th>\n",
       "      <th>Open</th>\n",
       "      <th>High</th>\n",
       "      <th>Low</th>\n",
       "      <th>Close</th>\n",
       "      <th>Volume</th>\n",
       "      <th>stock</th>\n",
       "      <th>date_only</th>\n",
       "      <th>RangePct</th>\n",
       "    </tr>\n",
       "  </thead>\n",
       "  <tbody>\n",
       "    <tr>\n",
       "      <th>511927</th>\n",
       "      <td>2024-02-01 09:15:00</td>\n",
       "      <td>3820.0</td>\n",
       "      <td>3828.0</td>\n",
       "      <td>3805.05</td>\n",
       "      <td>3819.65</td>\n",
       "      <td>118552</td>\n",
       "      <td>TCS</td>\n",
       "      <td>2024-02-01</td>\n",
       "      <td>0.6031458193716197</td>\n",
       "    </tr>\n",
       "    <tr>\n",
       "      <th>511928</th>\n",
       "      <td>2024-02-01 09:20:00</td>\n",
       "      <td>3819.65</td>\n",
       "      <td>3835.35</td>\n",
       "      <td>3819.15</td>\n",
       "      <td>3831.95</td>\n",
       "      <td>78982</td>\n",
       "      <td>TCS</td>\n",
       "      <td>2024-02-01</td>\n",
       "      <td>0.4241781548250217</td>\n",
       "    </tr>\n",
       "    <tr>\n",
       "      <th>511929</th>\n",
       "      <td>2024-02-01 09:25:00</td>\n",
       "      <td>3830.8</td>\n",
       "      <td>3833.75</td>\n",
       "      <td>3826.0</td>\n",
       "      <td>3826.55</td>\n",
       "      <td>36550</td>\n",
       "      <td>TCS</td>\n",
       "      <td>2024-02-01</td>\n",
       "      <td>0.2025614218504966</td>\n",
       "    </tr>\n",
       "    <tr>\n",
       "      <th>511930</th>\n",
       "      <td>2024-02-01 09:30:00</td>\n",
       "      <td>3826.55</td>\n",
       "      <td>3841.0</td>\n",
       "      <td>3823.6</td>\n",
       "      <td>3840.15</td>\n",
       "      <td>56882</td>\n",
       "      <td>TCS</td>\n",
       "      <td>2024-02-01</td>\n",
       "      <td>0.4550685218119074</td>\n",
       "    </tr>\n",
       "    <tr>\n",
       "      <th>511931</th>\n",
       "      <td>2024-02-01 09:35:00</td>\n",
       "      <td>3840.95</td>\n",
       "      <td>3852.15</td>\n",
       "      <td>3840.75</td>\n",
       "      <td>3851.0</td>\n",
       "      <td>99179</td>\n",
       "      <td>TCS</td>\n",
       "      <td>2024-02-01</td>\n",
       "      <td>0.2968170279242359</td>\n",
       "    </tr>\n",
       "    <tr>\n",
       "      <th>...</th>\n",
       "      <td>...</td>\n",
       "      <td>...</td>\n",
       "      <td>...</td>\n",
       "      <td>...</td>\n",
       "      <td>...</td>\n",
       "      <td>...</td>\n",
       "      <td>...</td>\n",
       "      <td>...</td>\n",
       "      <td>...</td>\n",
       "    </tr>\n",
       "    <tr>\n",
       "      <th>513272</th>\n",
       "      <td>2024-02-26 15:05:00</td>\n",
       "      <td>4000.0</td>\n",
       "      <td>4000.15</td>\n",
       "      <td>3998.6</td>\n",
       "      <td>4000.0</td>\n",
       "      <td>46794</td>\n",
       "      <td>TCS</td>\n",
       "      <td>2024-02-26</td>\n",
       "      <td>0.03876356724854154</td>\n",
       "    </tr>\n",
       "    <tr>\n",
       "      <th>513273</th>\n",
       "      <td>2024-02-26 15:10:00</td>\n",
       "      <td>4000.0</td>\n",
       "      <td>4000.2</td>\n",
       "      <td>3998.45</td>\n",
       "      <td>3999.95</td>\n",
       "      <td>54334</td>\n",
       "      <td>TCS</td>\n",
       "      <td>2024-02-26</td>\n",
       "      <td>0.043766959696882546</td>\n",
       "    </tr>\n",
       "    <tr>\n",
       "      <th>513274</th>\n",
       "      <td>2024-02-26 15:15:00</td>\n",
       "      <td>3999.95</td>\n",
       "      <td>4003.0</td>\n",
       "      <td>3997.05</td>\n",
       "      <td>4002.95</td>\n",
       "      <td>50519</td>\n",
       "      <td>TCS</td>\n",
       "      <td>2024-02-26</td>\n",
       "      <td>0.1488597840907624</td>\n",
       "    </tr>\n",
       "    <tr>\n",
       "      <th>513275</th>\n",
       "      <td>2024-02-26 15:20:00</td>\n",
       "      <td>4002.95</td>\n",
       "      <td>4005.4</td>\n",
       "      <td>4001.9</td>\n",
       "      <td>4003.15</td>\n",
       "      <td>42764</td>\n",
       "      <td>TCS</td>\n",
       "      <td>2024-02-26</td>\n",
       "      <td>0.08745845723281441</td>\n",
       "    </tr>\n",
       "    <tr>\n",
       "      <th>513276</th>\n",
       "      <td>2024-02-26 15:25:00</td>\n",
       "      <td>4003.0</td>\n",
       "      <td>4008.0</td>\n",
       "      <td>4001.0</td>\n",
       "      <td>4001.0</td>\n",
       "      <td>26866</td>\n",
       "      <td>TCS</td>\n",
       "      <td>2024-02-26</td>\n",
       "      <td>0.17495626093476632</td>\n",
       "    </tr>\n",
       "  </tbody>\n",
       "</table>\n",
       "<p>1350 rows × 9 columns</p>\n",
       "</div>"
      ],
      "text/plain": [
       "                      Date    Open    High     Low   Close  Volume stock  \\\n",
       "511927 2024-02-01 09:15:00  3820.0  3828.0 3805.05 3819.65  118552   TCS   \n",
       "511928 2024-02-01 09:20:00 3819.65 3835.35 3819.15 3831.95   78982   TCS   \n",
       "511929 2024-02-01 09:25:00  3830.8 3833.75  3826.0 3826.55   36550   TCS   \n",
       "511930 2024-02-01 09:30:00 3826.55  3841.0  3823.6 3840.15   56882   TCS   \n",
       "511931 2024-02-01 09:35:00 3840.95 3852.15 3840.75  3851.0   99179   TCS   \n",
       "...                    ...     ...     ...     ...     ...     ...   ...   \n",
       "513272 2024-02-26 15:05:00  4000.0 4000.15  3998.6  4000.0   46794   TCS   \n",
       "513273 2024-02-26 15:10:00  4000.0  4000.2 3998.45 3999.95   54334   TCS   \n",
       "513274 2024-02-26 15:15:00 3999.95  4003.0 3997.05 4002.95   50519   TCS   \n",
       "513275 2024-02-26 15:20:00 4002.95  4005.4  4001.9 4003.15   42764   TCS   \n",
       "513276 2024-02-26 15:25:00  4003.0  4008.0  4001.0  4001.0   26866   TCS   \n",
       "\n",
       "        date_only             RangePct  \n",
       "511927 2024-02-01   0.6031458193716197  \n",
       "511928 2024-02-01   0.4241781548250217  \n",
       "511929 2024-02-01   0.2025614218504966  \n",
       "511930 2024-02-01   0.4550685218119074  \n",
       "511931 2024-02-01   0.2968170279242359  \n",
       "...           ...                  ...  \n",
       "513272 2024-02-26  0.03876356724854154  \n",
       "513273 2024-02-26 0.043766959696882546  \n",
       "513274 2024-02-26   0.1488597840907624  \n",
       "513275 2024-02-26  0.08745845723281441  \n",
       "513276 2024-02-26  0.17495626093476632  \n",
       "\n",
       "[1350 rows x 9 columns]"
      ]
     },
     "execution_count": 26,
     "metadata": {},
     "output_type": "execute_result"
    }
   ],
   "source": [
    "df[consolidation]"
   ]
  },
  {
   "cell_type": "code",
   "execution_count": null,
   "metadata": {},
   "outputs": [],
   "source": [
    "\n",
    "# Find where the price has been consolidating for at least min_periods_consolidated\n",
    "consolidating = consolidation.rolling(window=min_periods_consolidated).sum() == min_periods_consolidated\n",
    "\n",
    "# Now find where the consolidation ends with a breakout\n",
    "# A breakout occurs when the close price goes above the high or below the low of the consolidation range\n",
    "breakout_up = (df['Close'] > df[consolidating]['High'].shift(1)) & consolidating\n",
    "breakout_down = (df['Close'] < df[consolidating]['Low'].shift(1)) & consolidating\n",
    "\n",
    "# Add the breakouts to the dataframe\n",
    "df['BreakoutUp'] = breakout_up\n",
    "df['BreakoutDown'] = breakout_down\n",
    "\n",
    "# Filter the dataframe to only include breakout periods\n",
    "breakouts = df[(df['BreakoutUp'] | df['BreakoutDown'])]\n",
    "\n",
    "# Plotting\n",
    "# We can use mplfinance to plot the entire dataframe and highlight the breakouts\n",
    "apds = [mpf.make_addplot(df['BreakoutUp'], type='scatter', markersize=200, marker='^', color='g'),\n",
    "        mpf.make_addplot(df['BreakoutDown'], type='scatter', markersize=200, marker='v', color='r')]\n",
    "\n",
    "mpf.plot(df, type='candle', addplot=apds)\n"
   ]
  },
  {
   "cell_type": "code",
   "execution_count": 30,
   "metadata": {},
   "outputs": [
    {
     "name": "stdout",
     "output_type": "stream",
     "text": [
      "<class 'pandas.core.frame.DataFrame'>\n",
      "Int64Index: 1350 entries, 511927 to 513276\n",
      "Data columns (total 8 columns):\n",
      " #   Column     Non-Null Count  Dtype         \n",
      "---  ------     --------------  -----         \n",
      " 0   Date       1350 non-null   datetime64[ns]\n",
      " 1   Open       1350 non-null   float64       \n",
      " 2   High       1350 non-null   float64       \n",
      " 3   Low        1350 non-null   float64       \n",
      " 4   Close      1350 non-null   float64       \n",
      " 5   Volume     1350 non-null   int64         \n",
      " 6   stock      1350 non-null   object        \n",
      " 7   date_only  1350 non-null   datetime64[ns]\n",
      "dtypes: datetime64[ns](2), float64(4), int64(1), object(1)\n",
      "memory usage: 127.2+ KB\n"
     ]
    }
   ],
   "source": [
    "df.info()"
   ]
  },
  {
   "cell_type": "code",
   "execution_count": 32,
   "metadata": {},
   "outputs": [
    {
     "data": {
      "text/html": [
       "<div>\n",
       "<style scoped>\n",
       "    .dataframe tbody tr th:only-of-type {\n",
       "        vertical-align: middle;\n",
       "    }\n",
       "\n",
       "    .dataframe tbody tr th {\n",
       "        vertical-align: top;\n",
       "    }\n",
       "\n",
       "    .dataframe thead th {\n",
       "        text-align: right;\n",
       "    }\n",
       "</style>\n",
       "<table border=\"1\" class=\"dataframe\">\n",
       "  <thead>\n",
       "    <tr style=\"text-align: right;\">\n",
       "      <th></th>\n",
       "      <th>Date</th>\n",
       "      <th>Open</th>\n",
       "      <th>High</th>\n",
       "      <th>Low</th>\n",
       "      <th>Close</th>\n",
       "      <th>Volume</th>\n",
       "      <th>stock</th>\n",
       "      <th>date_only</th>\n",
       "    </tr>\n",
       "  </thead>\n",
       "  <tbody>\n",
       "  </tbody>\n",
       "</table>\n",
       "</div>"
      ],
      "text/plain": [
       "Empty DataFrame\n",
       "Columns: [Date, Open, High, Low, Close, Volume, stock, date_only]\n",
       "Index: []"
      ]
     },
     "execution_count": 32,
     "metadata": {},
     "output_type": "execute_result"
    }
   ],
   "source": []
  },
  {
   "cell_type": "code",
   "execution_count": 55,
   "metadata": {},
   "outputs": [
    {
     "name": "stdout",
     "output_type": "stream",
     "text": [
      "Consolidation Ranges (Start Index, Max High, Min Low):\n",
      "[(2, 4025.95, 4001.1), (15, 4006.45, 3993.25), (19, 4002.65, 3990.05), (30, 3999.95, 3989.0), (44, 3999.9, 3985.0), (65, 4008.0, 3995.75), (66, 4046.0, 3995.75), (71, 4072.0, 3997.05), (77, 4081.9, 4050.7), (89, 4083.0, 4070.5)]\n",
      "\n",
      "Breakouts (Index):\n",
      "[12, 25, 29, 40, 54, 75, 76, 81, 87, 99]\n"
     ]
    }
   ],
   "source": [
    "import pandas as pd\n",
    "\n",
    "import pandas as pd\n",
    "\n",
    "def find_consolidations_and_breakouts(df, consolidation_candles=10, breakout_candle=1, consolidation_range_pct=2.0):\n",
    "    consolidation_ranges = []\n",
    "    breakouts = []\n",
    "\n",
    "    # Iterate over the DataFrame\n",
    "    for i in range(len(df) - (consolidation_candles + breakout_candle - 1)):\n",
    "        # Define the window for the current consolidation check\n",
    "        window = df.iloc[i:i+consolidation_candles]\n",
    "        max_high = window['High'].max()\n",
    "        min_low = window['Low'].min()\n",
    "\n",
    "        # Calculate the consolidation range as a percentage\n",
    "        consolidation_range = (max_high - min_low) / min_low * 100\n",
    "\n",
    "        # Check if the consolidation range is within the specified percentage\n",
    "        if consolidation_range <= consolidation_range_pct:\n",
    "            # Check if the next candle after the consolidation window is a breakout\n",
    "            next_candle = df.iloc[i+consolidation_candles]\n",
    "            if next_candle['Close'] > max_high or next_candle['Close'] < min_low:\n",
    "                # We have a breakout\n",
    "                breakouts.append(i + consolidation_candles)\n",
    "                consolidation_ranges.append((i, max_high, min_low))\n",
    "\n",
    "    return consolidation_ranges, breakouts\n",
    "\n",
    "# Assume `df` is your DataFrame with the OHLC data\n",
    "\n",
    "df = df_tcs.copy()\n",
    "df = df.query(\"date_only >= '2024-02-26'\").reset_index()\n",
    "# Assume `df` is your DataFrame with the OHLC data\n",
    "consolidation_ranges, breakouts = find_consolidations_and_breakouts(df)\n",
    "\n",
    "# Now, you can print the results or add markers to a plot to indicate where the consolidations and breakouts occurred\n",
    "print(\"Consolidation Ranges (Start Index, Max High, Min Low):\")\n",
    "print(consolidation_ranges)\n",
    "print(\"\\nBreakouts (Index):\")\n",
    "print(breakouts)\n"
   ]
  },
  {
   "cell_type": "code",
   "execution_count": 56,
   "metadata": {},
   "outputs": [
    {
     "data": {
      "text/html": [
       "<div>\n",
       "<style scoped>\n",
       "    .dataframe tbody tr th:only-of-type {\n",
       "        vertical-align: middle;\n",
       "    }\n",
       "\n",
       "    .dataframe tbody tr th {\n",
       "        vertical-align: top;\n",
       "    }\n",
       "\n",
       "    .dataframe thead th {\n",
       "        text-align: right;\n",
       "    }\n",
       "</style>\n",
       "<table border=\"1\" class=\"dataframe\">\n",
       "  <thead>\n",
       "    <tr style=\"text-align: right;\">\n",
       "      <th></th>\n",
       "      <th>index</th>\n",
       "      <th>Date</th>\n",
       "      <th>Open</th>\n",
       "      <th>High</th>\n",
       "      <th>Low</th>\n",
       "      <th>Close</th>\n",
       "      <th>Volume</th>\n",
       "      <th>stock</th>\n",
       "      <th>date_only</th>\n",
       "    </tr>\n",
       "  </thead>\n",
       "  <tbody>\n",
       "    <tr>\n",
       "      <th>12</th>\n",
       "      <td>1287</td>\n",
       "      <td>2024-02-26 10:15:00</td>\n",
       "      <td>4006.25</td>\n",
       "      <td>4007.0</td>\n",
       "      <td>3993.95</td>\n",
       "      <td>3996.75</td>\n",
       "      <td>24075</td>\n",
       "      <td>TCS</td>\n",
       "      <td>2024-02-26</td>\n",
       "    </tr>\n",
       "    <tr>\n",
       "      <th>25</th>\n",
       "      <td>1300</td>\n",
       "      <td>2024-02-26 11:20:00</td>\n",
       "      <td>3994.8</td>\n",
       "      <td>3994.8</td>\n",
       "      <td>3990.05</td>\n",
       "      <td>3993.0</td>\n",
       "      <td>8152</td>\n",
       "      <td>TCS</td>\n",
       "      <td>2024-02-26</td>\n",
       "    </tr>\n",
       "    <tr>\n",
       "      <th>29</th>\n",
       "      <td>1304</td>\n",
       "      <td>2024-02-26 11:40:00</td>\n",
       "      <td>3991.0</td>\n",
       "      <td>3991.0</td>\n",
       "      <td>3987.05</td>\n",
       "      <td>3989.65</td>\n",
       "      <td>22139</td>\n",
       "      <td>TCS</td>\n",
       "      <td>2024-02-26</td>\n",
       "    </tr>\n",
       "    <tr>\n",
       "      <th>40</th>\n",
       "      <td>1315</td>\n",
       "      <td>2024-02-26 12:35:00</td>\n",
       "      <td>3990.0</td>\n",
       "      <td>3990.3</td>\n",
       "      <td>3982.75</td>\n",
       "      <td>3986.8</td>\n",
       "      <td>14768</td>\n",
       "      <td>TCS</td>\n",
       "      <td>2024-02-26</td>\n",
       "    </tr>\n",
       "    <tr>\n",
       "      <th>54</th>\n",
       "      <td>1329</td>\n",
       "      <td>2024-02-26 13:45:00</td>\n",
       "      <td>3996.5</td>\n",
       "      <td>4004.25</td>\n",
       "      <td>3996.5</td>\n",
       "      <td>4003.6</td>\n",
       "      <td>17259</td>\n",
       "      <td>TCS</td>\n",
       "      <td>2024-02-26</td>\n",
       "    </tr>\n",
       "    <tr>\n",
       "      <th>75</th>\n",
       "      <td>1350</td>\n",
       "      <td>2024-02-27 09:15:00</td>\n",
       "      <td>3999.0</td>\n",
       "      <td>4046.0</td>\n",
       "      <td>3999.0</td>\n",
       "      <td>4034.65</td>\n",
       "      <td>207304</td>\n",
       "      <td>TCS</td>\n",
       "      <td>2024-02-27</td>\n",
       "    </tr>\n",
       "    <tr>\n",
       "      <th>76</th>\n",
       "      <td>1351</td>\n",
       "      <td>2024-02-27 09:20:00</td>\n",
       "      <td>4034.65</td>\n",
       "      <td>4061.95</td>\n",
       "      <td>4033.0</td>\n",
       "      <td>4050.7</td>\n",
       "      <td>132885</td>\n",
       "      <td>TCS</td>\n",
       "      <td>2024-02-27</td>\n",
       "    </tr>\n",
       "    <tr>\n",
       "      <th>81</th>\n",
       "      <td>1356</td>\n",
       "      <td>2024-02-27 09:45:00</td>\n",
       "      <td>4065.25</td>\n",
       "      <td>4074.0</td>\n",
       "      <td>4065.0</td>\n",
       "      <td>4072.8</td>\n",
       "      <td>50615</td>\n",
       "      <td>TCS</td>\n",
       "      <td>2024-02-27</td>\n",
       "    </tr>\n",
       "    <tr>\n",
       "      <th>87</th>\n",
       "      <td>1362</td>\n",
       "      <td>2024-02-27 10:15:00</td>\n",
       "      <td>4079.7</td>\n",
       "      <td>4087.35</td>\n",
       "      <td>4078.75</td>\n",
       "      <td>4083.75</td>\n",
       "      <td>42625</td>\n",
       "      <td>TCS</td>\n",
       "      <td>2024-02-27</td>\n",
       "    </tr>\n",
       "    <tr>\n",
       "      <th>99</th>\n",
       "      <td>1374</td>\n",
       "      <td>2024-02-27 11:15:00</td>\n",
       "      <td>4072.5</td>\n",
       "      <td>4072.5</td>\n",
       "      <td>4064.85</td>\n",
       "      <td>4069.4</td>\n",
       "      <td>22696</td>\n",
       "      <td>TCS</td>\n",
       "      <td>2024-02-27</td>\n",
       "    </tr>\n",
       "  </tbody>\n",
       "</table>\n",
       "</div>"
      ],
      "text/plain": [
       "    index                Date    Open    High     Low   Close  Volume stock  \\\n",
       "12   1287 2024-02-26 10:15:00 4006.25  4007.0 3993.95 3996.75   24075   TCS   \n",
       "25   1300 2024-02-26 11:20:00  3994.8  3994.8 3990.05  3993.0    8152   TCS   \n",
       "29   1304 2024-02-26 11:40:00  3991.0  3991.0 3987.05 3989.65   22139   TCS   \n",
       "40   1315 2024-02-26 12:35:00  3990.0  3990.3 3982.75  3986.8   14768   TCS   \n",
       "54   1329 2024-02-26 13:45:00  3996.5 4004.25  3996.5  4003.6   17259   TCS   \n",
       "75   1350 2024-02-27 09:15:00  3999.0  4046.0  3999.0 4034.65  207304   TCS   \n",
       "76   1351 2024-02-27 09:20:00 4034.65 4061.95  4033.0  4050.7  132885   TCS   \n",
       "81   1356 2024-02-27 09:45:00 4065.25  4074.0  4065.0  4072.8   50615   TCS   \n",
       "87   1362 2024-02-27 10:15:00  4079.7 4087.35 4078.75 4083.75   42625   TCS   \n",
       "99   1374 2024-02-27 11:15:00  4072.5  4072.5 4064.85  4069.4   22696   TCS   \n",
       "\n",
       "    date_only  \n",
       "12 2024-02-26  \n",
       "25 2024-02-26  \n",
       "29 2024-02-26  \n",
       "40 2024-02-26  \n",
       "54 2024-02-26  \n",
       "75 2024-02-27  \n",
       "76 2024-02-27  \n",
       "81 2024-02-27  \n",
       "87 2024-02-27  \n",
       "99 2024-02-27  "
      ]
     },
     "execution_count": 56,
     "metadata": {},
     "output_type": "execute_result"
    }
   ],
   "source": [
    "# filter index based on the breakouts\n",
    "df.iloc[breakouts]"
   ]
  },
  {
   "attachments": {},
   "cell_type": "markdown",
   "metadata": {},
   "source": [
    "## consolidating "
   ]
  },
  {
   "cell_type": "code",
   "execution_count": null,
   "metadata": {},
   "outputs": [],
   "source": [
    "df_all.reset_index(inplace=True)\n",
    "df_all['Date']  = pd.to_datetime(df_all['Date']).dt.tz_localize(None)\n",
    "df_all['date_only'] = pd.to_datetime(df_all['Date'].dt.date)"
   ]
  },
  {
   "attachments": {},
   "cell_type": "markdown",
   "metadata": {},
   "source": [
    "## day level"
   ]
  },
  {
   "cell_type": "code",
   "execution_count": null,
   "metadata": {},
   "outputs": [],
   "source": [
    "def is_consolidating(df):\n",
    "    recent_closes = df[-7:]\n",
    "\n",
    "    max_close = recent_closes[\"Close\"].max()\n",
    "    min_close = recent_closes[\"Close\"].min()\n",
    "    # print(\"the max close {} and min close {}\".format(max_close, min_close))\n",
    "    if min_close > (max_close * 0.985):\n",
    "        # print(\"is consolidating {}\".format(set(recent_closes['stock'])))\n",
    "        return True\n",
    "    return False\n",
    "\n",
    "\n",
    "def is_breaking_out(df):\n",
    "    last_close = df[-1:][\"Close\"].values[0]\n",
    "\n",
    "    if is_consolidating(df[:-1]):\n",
    "        recent_closes = df[-8:-1]\n",
    "        if last_close > recent_closes[\"High\"].max():\n",
    "            print(\"is breaking {}\".format(set(recent_closes[\"stock\"])))\n",
    "            breakout_up.extend(list(set(recent_closes[\"stock\"])))\n",
    "            return True\n",
    "        if last_close < recent_closes[\"Low\"].min():\n",
    "            print(\"is breaking  below {}\".format(set(recent_closes[\"stock\"])))\n",
    "            breakout_below.extend(list(set(recent_closes[\"stock\"])))\n",
    "            return True\n",
    "    return False\n"
   ]
  },
  {
   "cell_type": "code",
   "execution_count": null,
   "metadata": {},
   "outputs": [
    {
     "name": "stdout",
     "output_type": "stream",
     "text": [
      "is breaking {'ABB'}\n",
      "is breaking  below {'APTUS'}\n",
      "is breaking {'CRISIL'}\n",
      "is breaking {'MARICO'}\n",
      "is breaking  below {'ONGC'}\n",
      "is breaking {'RELIANCE'}\n",
      "is breaking {'TIINDIA'}\n"
     ]
    }
   ],
   "source": [
    "breakout_up = []\n",
    "breakout_below = []\n",
    "df_breakout = df_all.groupby(\"stock\").apply(is_breaking_out).reset_index()"
   ]
  },
  {
   "cell_type": "code",
   "execution_count": null,
   "metadata": {},
   "outputs": [
    {
     "data": {
      "text/plain": [
       "array(['ABB', 'APTUS', 'CRISIL', 'MARICO', 'ONGC', 'RELIANCE', 'TIINDIA'],\n",
       "      dtype=object)"
      ]
     },
     "execution_count": 16,
     "metadata": {},
     "output_type": "execute_result"
    }
   ],
   "source": [
    "df_breakout[df_breakout[0] == True].stock.unique()"
   ]
  },
  {
   "cell_type": "code",
   "execution_count": null,
   "metadata": {},
   "outputs": [
    {
     "data": {
      "text/plain": [
       "[]"
      ]
     },
     "execution_count": 257,
     "metadata": {},
     "output_type": "execute_result"
    }
   ],
   "source": [
    "breakout_below"
   ]
  },
  {
   "cell_type": "code",
   "execution_count": null,
   "metadata": {},
   "outputs": [
    {
     "data": {
      "text/plain": [
       "['AEGISCHEM', 'APTUS', 'ONGC', 'SIS', 'STARHEALTH']"
      ]
     },
     "execution_count": 244,
     "metadata": {},
     "output_type": "execute_result"
    }
   ],
   "source": [
    "breakout_below"
   ]
  },
  {
   "attachments": {},
   "cell_type": "markdown",
   "metadata": {},
   "source": [
    "## minute lavel"
   ]
  },
  {
   "cell_type": "code",
   "execution_count": 51,
   "metadata": {},
   "outputs": [],
   "source": [
    "def is_consolidating(df):\n",
    "    recent_closes = df\n",
    "    # print(recent_closes)\n",
    "\n",
    "    max_close = recent_closes[\"Close\"].max()\n",
    "    min_close = recent_closes[\"Close\"].min()\n",
    "    # print(\"the max close {} and min close {}\".format(max_close, min_close))\n",
    "    if min_close > (max_close * 0.997):\n",
    "        # print(\"is consolidating {}\".format(set(recent_closes['stock'])))\n",
    "        return True\n",
    "    return False\n",
    "\n",
    "\n",
    "def is_breaking_out(df):\n",
    "    df_stock_date = pd.DataFrame()\n",
    "    k = 0\n",
    "    for i in range(10, 25):\n",
    "        if is_consolidating(df[k:i]):\n",
    "            last_close = df[i : i + 1][\"Close\"].values[0]\n",
    "            recent_closes = df[k:i]\n",
    "            # print(recent_closes)\n",
    "            if last_close > recent_closes[\"High\"].max():\n",
    "                print(\"is breaking {}\".format(set(recent_closes[\"stock\"])))\n",
    "                breakout_up.extend(list(set(recent_closes[\"stock\"])))\n",
    "                print(\n",
    "                    \"Date\",\n",
    "                    df[i : i + 1][\"Date\"].values[0],\n",
    "                    \"stock\",\n",
    "                    df[i : i + 1][\"stock\"].values[0],\n",
    "                )\n",
    "\n",
    "                # return True\n",
    "            if last_close < recent_closes[\"Low\"].min():\n",
    "                print(\"is breaking  below {}\".format(set(recent_closes[\"stock\"])))\n",
    "                breakout_below.extend(list(set(recent_closes[\"stock\"])))\n",
    "                print(\n",
    "                    \"Date\",\n",
    "                    df[i : i + 1][\"Date\"].values[0],\n",
    "                    \"stock\",\n",
    "                    df[i : i + 1][\"stock\"].values[0],\n",
    "                )\n",
    "                # df_stock_date = df_stock_date.append(\n",
    "                #     pd.DataFrame(\n",
    "                #         {\n",
    "                #             \"Date\": recent_closes[\"Date\"].unique()[0],\n",
    "                #             \"stock\": recent_closes[\"stock\"].unique()[0],\n",
    "                #         }\n",
    "                #     ),\n",
    "                #     index=[0],\n",
    "                # )\n",
    "                # return True\n",
    "            k += 1\n",
    "        # return False\n"
   ]
  },
  {
   "cell_type": "code",
   "execution_count": 52,
   "metadata": {},
   "outputs": [],
   "source": [
    "breakout_up = []\n",
    "breakout_below = []\n",
    "breakout_up_dict = {}\n",
    "breakout_below_dict = {}\n",
    "df_stock_date= pd.DataFrame()\n",
    "df_breakout = df_all.groupby('stock').apply(is_breaking_out).reset_index()"
   ]
  },
  {
   "cell_type": "code",
   "execution_count": 54,
   "metadata": {},
   "outputs": [
    {
     "data": {
      "text/html": [
       "<div>\n",
       "<style scoped>\n",
       "    .dataframe tbody tr th:only-of-type {\n",
       "        vertical-align: middle;\n",
       "    }\n",
       "\n",
       "    .dataframe tbody tr th {\n",
       "        vertical-align: top;\n",
       "    }\n",
       "\n",
       "    .dataframe thead th {\n",
       "        text-align: right;\n",
       "    }\n",
       "</style>\n",
       "<table border=\"1\" class=\"dataframe\">\n",
       "  <thead>\n",
       "    <tr style=\"text-align: right;\">\n",
       "      <th></th>\n",
       "      <th>index</th>\n",
       "    </tr>\n",
       "  </thead>\n",
       "  <tbody>\n",
       "  </tbody>\n",
       "</table>\n",
       "</div>"
      ],
      "text/plain": [
       "Empty DataFrame\n",
       "Columns: [index]\n",
       "Index: []"
      ]
     },
     "execution_count": 54,
     "metadata": {},
     "output_type": "execute_result"
    }
   ],
   "source": [
    "df_breakout"
   ]
  },
  {
   "cell_type": "code",
   "execution_count": 53,
   "metadata": {},
   "outputs": [
    {
     "data": {
      "text/plain": [
       "[]"
      ]
     },
     "execution_count": 53,
     "metadata": {},
     "output_type": "execute_result"
    }
   ],
   "source": [
    "breakout_up"
   ]
  },
  {
   "cell_type": "code",
   "execution_count": null,
   "metadata": {},
   "outputs": [
    {
     "data": {
      "text/plain": [
       "array(['ABBOTINDIA', 'ADANITRANS', 'ASIANPAINT', 'ATUL', 'BAJAJHLDNG',\n",
       "       'BANDHANBNK', 'CENTURYTEX', 'CERA', 'CGPOWER', 'DELTACORP',\n",
       "       'ENGINERSIN', 'GICRE', 'GRANULES', 'GRAPHITE', 'HAL', 'HCLTECH',\n",
       "       'IDBI', 'IRCTC', 'JSWSTEEL', 'LEMONTREE', 'MCDOWELL-N', 'QUESS',\n",
       "       'SHREECEM', 'SUMICHEM', 'TANLA', 'TATACHEM'], dtype=object)"
      ]
     },
     "execution_count": 163,
     "metadata": {},
     "output_type": "execute_result"
    }
   ],
   "source": [
    "df_breakout[df_breakout[0] == True].stock.unique()"
   ]
  },
  {
   "cell_type": "code",
   "execution_count": null,
   "metadata": {},
   "outputs": [
    {
     "data": {
      "text/plain": [
       "['AXISBANK',\n",
       " 'BPCL',\n",
       " 'ESCORTS',\n",
       " 'ICICIBANK',\n",
       " 'ICICIBANK',\n",
       " 'INFY',\n",
       " 'PETRONET',\n",
       " 'PETRONET',\n",
       " 'POLYCAB',\n",
       " 'SHOPERSTOP',\n",
       " 'TCS']"
      ]
     },
     "execution_count": 227,
     "metadata": {},
     "output_type": "execute_result"
    }
   ],
   "source": [
    "breakout_up"
   ]
  },
  {
   "cell_type": "code",
   "execution_count": null,
   "metadata": {},
   "outputs": [
    {
     "data": {
      "text/plain": [
       "['BLUEDART',\n",
       " 'BLUEDART',\n",
       " 'BPCL',\n",
       " 'CLEAN',\n",
       " 'HDFC',\n",
       " 'HDFCBANK',\n",
       " 'HINDUNILVR',\n",
       " 'ICICIBANK',\n",
       " 'LATENTVIEW',\n",
       " 'PETRONET',\n",
       " 'THYROCARE',\n",
       " 'THYROCARE',\n",
       " 'VOLTAS']"
      ]
     },
     "execution_count": 228,
     "metadata": {},
     "output_type": "execute_result"
    }
   ],
   "source": [
    "breakout_below"
   ]
  },
  {
   "cell_type": "code",
   "execution_count": null,
   "metadata": {},
   "outputs": [],
   "source": []
  }
 ],
 "metadata": {
  "kernelspec": {
   "display_name": "py37",
   "language": "python",
   "name": "python3"
  },
  "language_info": {
   "codemirror_mode": {
    "name": "ipython",
    "version": 3
   },
   "file_extension": ".py",
   "mimetype": "text/x-python",
   "name": "python",
   "nbconvert_exporter": "python",
   "pygments_lexer": "ipython3",
   "version": "3.7.15"
  },
  "orig_nbformat": 4
 },
 "nbformat": 4,
 "nbformat_minor": 2
}
