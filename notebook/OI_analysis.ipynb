{
 "cells": [
  {
   "attachments": {},
   "cell_type": "markdown",
   "metadata": {},
   "source": [
    "## Import "
   ]
  },
  {
   "cell_type": "code",
   "execution_count": 1,
   "metadata": {},
   "outputs": [],
   "source": [
    "import pandas as pd\n",
    "import numpy as np\n",
    "from kite_trade import *\n",
    "from enctoken import get_kite\n",
    "kite = get_kite()\n",
    "import warnings\n",
    "warnings.filterwarnings(action = 'ignore')\n",
    "import time\n",
    "import plotly.express as px\n",
    "import plotly.graph_objects as go\n",
    "from IPython.display import clear_output\n",
    "import xlwings as xw"
   ]
  },
  {
   "cell_type": "code",
   "execution_count": 6,
   "metadata": {},
   "outputs": [],
   "source": [
    "wb = xw.Book('../data/OI_long_vs_short.xlsx')\n",
    "ws = wb.sheets[\"Sheet1\"]\n",
    "ws.name = \"long_vs_short\""
   ]
  },
  {
   "attachments": {},
   "cell_type": "markdown",
   "metadata": {},
   "source": [
    "## geting view with +ve and -ve"
   ]
  },
  {
   "cell_type": "code",
   "execution_count": 7,
   "metadata": {},
   "outputs": [],
   "source": [
    "expiry_sp = 'BANKNIFTY23MAR'\n",
    "lower_limit  = 38500\n",
    "upper_limit = 40500\n",
    "\n",
    "inst = pd.DataFrame(kite.instruments(\"NFO\"))\n",
    "expiry_march  = inst[(inst.name == 'BANKNIFTY') & (inst.tradingsymbol.str.contains(expiry_sp))]\n",
    "expiry_march = expiry_march[(expiry_march.strike >= lower_limit) & (expiry_march.strike <= upper_limit)]\n",
    "expiry_march['strike_type'] = expiry_march['strike'].astype(int).astype(str) + expiry_march['instrument_type']"
   ]
  },
  {
   "cell_type": "code",
   "execution_count": 8,
   "metadata": {},
   "outputs": [],
   "source": [
    "\n",
    "bn_token = 260105\n",
    "start_dt = \"2023-03-24\"\n",
    "end_dt = \"2023-03-24\"\n",
    "time_frame = '5minute'\n",
    "df_expiry_hist_data = pd.DataFrame()\n",
    "strike_symbol_dict = dict(zip(expiry_march.instrument_token,expiry_march['strike_type'] ))\n",
    "strike_symbol_dict[bn_token] = \"BANKNIFTY\"\n",
    "\n",
    "inst_expiry = expiry_march['instrument_token'].unique().tolist() \n",
    "for i in inst_expiry:\n",
    "    df = pd.DataFrame(kite.historical_data(i, from_date = start_dt, to_date = end_dt, interval = time_frame, continuous=False, oi=True))\n",
    "    df['strike_type'] = strike_symbol_dict[i]\n",
    "    df_expiry_hist_data = df_expiry_hist_data.append(df)\n",
    "\n",
    "# BN data process\n",
    "df_bn_hist_data = df = pd.DataFrame(kite.historical_data(bn_token, from_date = start_dt, to_date = end_dt, interval = time_frame, continuous=False, oi=True))\n",
    "df_bn_hist_data['oi'] = df_bn_hist_data['close']\n",
    "df_bn_hist_data['strike_type'] = \"BANKNIFTY\"\n",
    "df_bn_hist_data['oi_change'] = df_bn_hist_data.groupby(['strike_type']).oi.diff()\n"
   ]
  },
  {
   "cell_type": "code",
   "execution_count": 9,
   "metadata": {},
   "outputs": [],
   "source": [
    "# For CE and PE \n",
    "# Price\tOI\n",
    "# +\t + -> long buildup\n",
    "# +\t- -> Short covering\n",
    "# -\t+ -> short builup \n",
    "# -\t- -> long unwinding \n",
    "def long_vs_short(price, oi):\n",
    "    if price > 0  and   oi > 0:\n",
    "        return 'long_buildup'\n",
    "    elif price > 0 and oi < 0:\n",
    "        return 'short_covering'\n",
    "    elif price <0 and oi > 0:\n",
    "        return \"short_buildup\"\n",
    "    else:\n",
    "        return \"long_unwinding\"\n",
    "    \n",
    "    query(\"strike_type == '39500PE'\")"
   ]
  },
  {
   "cell_type": "code",
   "execution_count": 10,
   "metadata": {},
   "outputs": [],
   "source": [
    "## getting top 5 OI for each candle \n",
    "df_expiry_hist_data['oi_change'] = df_expiry_hist_data.groupby(['strike_type']).oi.diff()\n",
    "df_expiry_hist_data['oi_per_change'] = df_expiry_hist_data.groupby(['strike_type']).oi.pct_change()\n",
    "df_expiry_hist_data['oi_per_change'] = (df_expiry_hist_data['oi_per_change']* 100).round(2)\n",
    "# df_expiry_hist_data['oi_change'] = df_expiry_hist_data.groupby(['strike_type']).oi_change.cumsum()\n",
    "df_expiry_hist_data['close_change'] = df_expiry_hist_data.groupby(['strike_type']).close.diff()\n",
    "\n",
    "df_expiry_hist_data_1 = df_expiry_hist_data.groupby('date').agg(\n",
    "    {\n",
    "    \"oi_change\": lambda x: sorted(x,reverse=True)[0:5]\n",
    "    }\n",
    ").reset_index().explode('oi_change')\n",
    "\n",
    "df_expiry_hist_data_1 = df_expiry_hist_data_1.merge(\n",
    "    df_expiry_hist_data[['date','close_change','oi_change','oi_per_change','strike_type']], how = 'left',on = ['date','oi_change']\n",
    "    )\n",
    "df_expiry_hist_data_1.dropna(inplace=True)\n",
    "df_expiry_hist_data_1['l_vs_s'] = df_expiry_hist_data_1.apply(lambda x:long_vs_short(x.close_change, x.oi_change),axis =1  )\n"
   ]
  },
  {
   "cell_type": "code",
   "execution_count": 11,
   "metadata": {},
   "outputs": [],
   "source": [
    "# oi change-> ek strike price hai \n",
    "# 1. change in 5 mins -> prev_oi - current_oi\n",
    "# trending oi chart -> 2.(  prev_oi - current_oi).sum()\n"
   ]
  },
  {
   "cell_type": "code",
   "execution_count": 12,
   "metadata": {},
   "outputs": [],
   "source": [
    "# df_expiry_hist_data.query('strike_type == \"39500PE\"')"
   ]
  },
  {
   "cell_type": "code",
   "execution_count": 13,
   "metadata": {},
   "outputs": [],
   "source": [
    "exp_cols = ['date', 'strike_type','oi_change',\"oi_per_change\",'close_change','l_vs_s']\n",
    "bn_cols = ['date','oi','strike_type','oi_change']\n",
    "\n",
    "df_expiry_hist_data_1 = df_expiry_hist_data_1[exp_cols]\n",
    "df_bn_hist_data = df_bn_hist_data[bn_cols]\n",
    "\n",
    "df_expiry_hist_data_1.oi_change = df_expiry_hist_data_1.oi_change.astype(int)\n",
    "df_expiry_hist_data_1 = df_expiry_hist_data_1.merge(df_bn_hist_data, on = 'date').drop(['strike_type_y'],axis = 1)\n",
    "df_expiry_hist_data_1.loc[df_expiry_hist_data_1['date'].duplicated(), 'date'] = np.NaN\n"
   ]
  },
  {
   "cell_type": "code",
   "execution_count": 14,
   "metadata": {},
   "outputs": [],
   "source": [
    "ws.clear_contents()\n",
    "ws.range(\"A1\").options(index=False).value = df_expiry_hist_data_1\n",
    "# df_expiry_hist_data_1 = pd.pivot_table(df_expiry_hist_data_1, index =['date'], columns = 'strike_type',)\n",
    "# df_bn_hist_data.merge(df_expiry_hist_data_1, on = 'date').to_csv('top_5_ls.csv')"
   ]
  },
  {
   "attachments": {},
   "cell_type": "markdown",
   "metadata": {},
   "source": [
    "## pcr"
   ]
  },
  {
   "cell_type": "code",
   "execution_count": 1,
   "metadata": {},
   "outputs": [],
   "source": [
    "import pandas as pd\n",
    "import numpy as np\n",
    "from kite_trade import *\n",
    "from enctoken import get_kite\n",
    "kite = get_kite()\n",
    "import warnings\n",
    "warnings.filterwarnings(action = 'ignore')\n",
    "import time\n",
    "import plotly.express as px\n",
    "import plotly.graph_objects as go\n",
    "from IPython.display import clear_output\n",
    "import xlwings as xw\n",
    "from datetime import datetime\n",
    "# wb = xw.Book('../data/PCR.xlsx')\n",
    "# ws = wb.sheets[\"PCR\"]\n",
    "# ws.name = \"PCR\""
   ]
  },
  {
   "cell_type": "code",
   "execution_count": 2,
   "metadata": {},
   "outputs": [],
   "source": [
    "expiry_sp = 'BANKNIFTY23MAR'\n",
    "lower_limit  = 38500\n",
    "upper_limit = 40500\n",
    "\n",
    "inst = pd.DataFrame(kite.instruments(\"NFO\"))\n",
    "expiry_march  = inst[(inst.name == 'BANKNIFTY') & (inst.tradingsymbol.str.contains(expiry_sp))]\n",
    "expiry_march = expiry_march[(expiry_march.strike >= lower_limit) & (expiry_march.strike <= upper_limit)]\n",
    "expiry_march['strike_type'] = expiry_march['strike'].astype(int).astype(str) + expiry_march['instrument_type']"
   ]
  },
  {
   "cell_type": "code",
   "execution_count": 3,
   "metadata": {},
   "outputs": [],
   "source": [
    "def get_pcr(range_pcr, df_bn_hist_data):\n",
    "    df_bn_hist_data[\"current_strike\"] =( df_bn_hist_data['close'] - (df_bn_hist_data['close']% 100)).astype(int)\n",
    "    if range_pcr == -1:\n",
    "        df_bn_hist_data['near_stike_price']= df_bn_hist_data.apply(lambda x:  list(range(df_expiry_hist_data.near_stike_price.min(),df_expiry_hist_data.near_stike_price.max(), 100 )),axis = 1)\n",
    "    elif range_pcr == 5:\n",
    "        df_expiry_hist_data\n",
    "        df_bn_hist_data['near_stike_price']= df_bn_hist_data.apply(lambda x:  list(range(df_expiry_hist_data.near_stike_price.min(),df_expiry_hist_data.near_stike_price.max(), 100 )),axis = 1)\n",
    "    else:\n",
    "        df_bn_hist_data['near_stike_price']= df_bn_hist_data.apply(lambda x:  list(range(x.current_strike- range_pcr,x.current_strike + range_pcr, 100 )),axis = 1)\n",
    "    \n",
    "    df_bn_hist_data  = df_bn_hist_data.explode(\"near_stike_price\")\n",
    "    df_merged = df_bn_hist_data[['date','near_stike_price']].merge(\n",
    "                            df_expiry_hist_data[['date','near_stike_price','oi','strike_type']], how = 'left', on =['date','near_stike_price'] )\n",
    "    df_merged[\"call_put\"] = df_merged.strike_type.str[-2:]\n",
    "    df_merged = df_merged.groupby(['date','call_put']).oi.sum().reset_index()\n",
    "    df_merged = pd.pivot_table(df_merged,index ='date', columns='call_put')\n",
    "    df_merged.columns = ['_'.join(i) for i in df_merged.columns]\n",
    "    df_merged[f'PCR_{range_pcr}'] = df_merged['oi_PE']/ df_merged['oi_CE']\n",
    "    df_merged = df_merged.round(2)\n",
    "    return df_merged.reset_index()"
   ]
  },
  {
   "cell_type": "code",
   "execution_count": 4,
   "metadata": {},
   "outputs": [
    {
     "name": "stdout",
     "output_type": "stream",
     "text": [
      "2023-03-27 13:26:00.000588\n"
     ]
    },
    {
     "ename": "KeyError",
     "evalue": "'data'",
     "output_type": "error",
     "traceback": [
      "\u001b[1;31m---------------------------------------------------------------------------\u001b[0m",
      "\u001b[1;31mKeyError\u001b[0m                                  Traceback (most recent call last)",
      "\u001b[1;32m~\\AppData\\Local\\Temp\\ipykernel_9916\\844075783.py\u001b[0m in \u001b[0;36m<module>\u001b[1;34m\u001b[0m\n\u001b[0;32m     13\u001b[0m         \u001b[0minst_expiry\u001b[0m \u001b[1;33m=\u001b[0m \u001b[0mexpiry_march\u001b[0m\u001b[1;33m[\u001b[0m\u001b[1;34m'instrument_token'\u001b[0m\u001b[1;33m]\u001b[0m\u001b[1;33m.\u001b[0m\u001b[0munique\u001b[0m\u001b[1;33m(\u001b[0m\u001b[1;33m)\u001b[0m\u001b[1;33m.\u001b[0m\u001b[0mtolist\u001b[0m\u001b[1;33m(\u001b[0m\u001b[1;33m)\u001b[0m\u001b[1;33m\u001b[0m\u001b[1;33m\u001b[0m\u001b[0m\n\u001b[0;32m     14\u001b[0m         \u001b[1;32mfor\u001b[0m \u001b[0mi\u001b[0m \u001b[1;32min\u001b[0m \u001b[0minst_expiry\u001b[0m\u001b[1;33m:\u001b[0m\u001b[1;33m\u001b[0m\u001b[1;33m\u001b[0m\u001b[0m\n\u001b[1;32m---> 15\u001b[1;33m             \u001b[0mdf\u001b[0m \u001b[1;33m=\u001b[0m \u001b[0mpd\u001b[0m\u001b[1;33m.\u001b[0m\u001b[0mDataFrame\u001b[0m\u001b[1;33m(\u001b[0m\u001b[0mkite\u001b[0m\u001b[1;33m.\u001b[0m\u001b[0mhistorical_data\u001b[0m\u001b[1;33m(\u001b[0m\u001b[0mi\u001b[0m\u001b[1;33m,\u001b[0m \u001b[0mfrom_date\u001b[0m \u001b[1;33m=\u001b[0m \u001b[0mstart_dt\u001b[0m\u001b[1;33m,\u001b[0m \u001b[0mto_date\u001b[0m \u001b[1;33m=\u001b[0m \u001b[0mend_dt\u001b[0m\u001b[1;33m,\u001b[0m \u001b[0minterval\u001b[0m \u001b[1;33m=\u001b[0m \u001b[0mtime_frame\u001b[0m\u001b[1;33m,\u001b[0m \u001b[0mcontinuous\u001b[0m\u001b[1;33m=\u001b[0m\u001b[1;32mFalse\u001b[0m\u001b[1;33m,\u001b[0m \u001b[0moi\u001b[0m\u001b[1;33m=\u001b[0m\u001b[1;32mTrue\u001b[0m\u001b[1;33m)\u001b[0m\u001b[1;33m)\u001b[0m\u001b[1;33m\u001b[0m\u001b[1;33m\u001b[0m\u001b[0m\n\u001b[0m\u001b[0;32m     16\u001b[0m             \u001b[0mdf\u001b[0m\u001b[1;33m[\u001b[0m\u001b[1;34m'strike_type'\u001b[0m\u001b[1;33m]\u001b[0m \u001b[1;33m=\u001b[0m \u001b[0mstrike_symbol_dict\u001b[0m\u001b[1;33m[\u001b[0m\u001b[0mi\u001b[0m\u001b[1;33m]\u001b[0m\u001b[1;33m\u001b[0m\u001b[1;33m\u001b[0m\u001b[0m\n\u001b[0;32m     17\u001b[0m             \u001b[0mdf_expiry_hist_data\u001b[0m \u001b[1;33m=\u001b[0m \u001b[0mdf_expiry_hist_data\u001b[0m\u001b[1;33m.\u001b[0m\u001b[0mappend\u001b[0m\u001b[1;33m(\u001b[0m\u001b[0mdf\u001b[0m\u001b[1;33m)\u001b[0m\u001b[1;33m\u001b[0m\u001b[1;33m\u001b[0m\u001b[0m\n",
      "\u001b[1;32md:\\Finance\\stock_automata\\notebook\\kite_trade.py\u001b[0m in \u001b[0;36mhistorical_data\u001b[1;34m(self, instrument_token, from_date, to_date, interval, continuous, oi)\u001b[0m\n\u001b[0;32m    102\u001b[0m         lst = self.session.get(\n\u001b[0;32m    103\u001b[0m             \u001b[1;34mf\"{self.root_url}/instruments/historical/{instrument_token}/{interval}\"\u001b[0m\u001b[1;33m,\u001b[0m \u001b[0mparams\u001b[0m\u001b[1;33m=\u001b[0m\u001b[0mparams\u001b[0m\u001b[1;33m,\u001b[0m\u001b[1;33m\u001b[0m\u001b[1;33m\u001b[0m\u001b[0m\n\u001b[1;32m--> 104\u001b[1;33m             headers=self.headers).json()[\"data\"][\"candles\"]\n\u001b[0m\u001b[0;32m    105\u001b[0m         \u001b[0mrecords\u001b[0m \u001b[1;33m=\u001b[0m \u001b[1;33m[\u001b[0m\u001b[1;33m]\u001b[0m\u001b[1;33m\u001b[0m\u001b[1;33m\u001b[0m\u001b[0m\n\u001b[0;32m    106\u001b[0m         \u001b[1;32mfor\u001b[0m \u001b[0mi\u001b[0m \u001b[1;32min\u001b[0m \u001b[0mlst\u001b[0m\u001b[1;33m:\u001b[0m\u001b[1;33m\u001b[0m\u001b[1;33m\u001b[0m\u001b[0m\n",
      "\u001b[1;31mKeyError\u001b[0m: 'data'"
     ]
    }
   ],
   "source": [
    "\n",
    "bn_token = 260105\n",
    "start_dt = \"2023-03-27\"\n",
    "end_dt = \"2023-03-27\"\n",
    "time_frame = '5minute'\n",
    "while True:\n",
    "    if datetime.now().minute % 5 == 1:\n",
    "        print(datetime.now())\n",
    "        df_expiry_hist_data = pd.DataFrame()\n",
    "        strike_symbol_dict = dict(zip(expiry_march.instrument_token,expiry_march['strike_type'] ))\n",
    "        strike_symbol_dict[bn_token] = \"BANKNIFTY\"\n",
    "\n",
    "        # stike price data fetch \n",
    "        inst_expiry = expiry_march['instrument_token'].unique().tolist() \n",
    "        for i in inst_expiry:\n",
    "            df = pd.DataFrame(kite.historical_data(i, from_date = start_dt, to_date = end_dt, interval = time_frame, continuous=False, oi=True))\n",
    "            df['strike_type'] = strike_symbol_dict[i]\n",
    "            df_expiry_hist_data = df_expiry_hist_data.append(df)\n",
    "\n",
    "        df_expiry_hist_data['near_stike_price'] = df_expiry_hist_data.strike_type.str[:-2].astype(int)\n",
    "\n",
    "        # BN data process\n",
    "        df_bn_hist_data = df = pd.DataFrame(kite.historical_data(bn_token, from_date = start_dt, to_date = end_dt, interval = time_frame, continuous=False, oi=True))\n",
    "        df_bn_hist_data['oi'] = df_bn_hist_data['close']\n",
    "        df_bn_hist_data['strike_type'] = \"BANKNIFTY\"\n",
    "        # df_bn_hist_data['oi_change'] = df_bn_hist_data.groupby(['strike_type']).oi.diff()\n",
    "\n",
    "        \n",
    "        # df_combined_1 = df_expiry_hist_data.groupby('date').agg(\n",
    "        #     {\n",
    "        #     \"oi\": lambda x: sorted(x,reverse=True)[0:5]\n",
    "        #     }\n",
    "        # ).reset_index().explode('oi_change')\n",
    "\n",
    "        df_pcr_5 = get_pcr(500, df_bn_hist_data)\n",
    "        df_pcr_1 = get_pcr(100, df_bn_hist_data)\n",
    "        df_pcr_all = get_pcr(-1, df_bn_hist_data)\n",
    "        df_pcr_top5 = get_pcr(5, df_bn_hist_data)\n",
    "        \n",
    "        fig = go.Figure()\n",
    "        data1 = []\n",
    "        data2 = []\n",
    "        data3 = []\n",
    "        # trace_bn = go.Scatter(x=df_bn_hist_data.date,\n",
    "        #                                         y=df_bn_hist_data[\"close\"],\n",
    "        #                                         name = \"BANKNIFTY\",\n",
    "        #                                         yaxis='y2'\n",
    "        #                                         )\n",
    "\n",
    "        trace_bn = go.Candlestick(x=df_bn_hist_data.date,\n",
    "                        open=df_bn_hist_data.open,\n",
    "                        high=df_bn_hist_data.high,\n",
    "                        low=df_bn_hist_data.low,\n",
    "                        close=df_bn_hist_data.close,\n",
    "                        name = \"BN\",\n",
    "                            yaxis='y2'\n",
    "                            )\n",
    "        data1.append(go.Scatter(x=df_pcr_1.date,\n",
    "                                                y=df_pcr_1[\"PCR_100\"],\n",
    "                                                name = \"pcr_1\",\n",
    "                                                yaxis='y1'\n",
    "                                                ))\n",
    "\n",
    "\n",
    "        data2.append(go.Scatter(x=df_pcr_5.date,\n",
    "                                                y=df_pcr_5[\"PCR_500\"],\n",
    "                                                name = \"pcr_5\",\n",
    "                                                yaxis='y1'\n",
    "                                                ))\n",
    "        data3.append(go.Scatter(x=df_pcr_all.date,\n",
    "                                                y=df_pcr_all[\"PCR_-1\"],\n",
    "                                                name = \"pcr_all\",\n",
    "                                                yaxis='y1'\n",
    "                                                ))\n",
    "\n",
    "        data1.append(trace_bn)\n",
    "        data2.append(trace_bn)\n",
    "        data3.append(trace_bn)\n",
    "\n",
    "        layout = go.Layout(title='OI vs Bank',\n",
    "                                yaxis=dict(title='Oi'),\n",
    "                                yaxis2=dict(title='bank',\n",
    "                                            overlaying='y',\n",
    "                                            side='right'),\n",
    "                                            legend={'traceorder':'normal'}\n",
    "                                            )\n",
    "        fig1 = go.Figure(data=data1, layout=layout)\n",
    "        fig2 = go.Figure(data=data2, layout=layout)\n",
    "        fig3 = go.Figure(data=data3, layout=layout)\n",
    "        fig1.update_layout(height=500, width=1200)\n",
    "        fig2.update_layout(height=500, width=1200)\n",
    "        fig3.update_layout(height=500, width=1200)\n",
    "        fig1.show()\n",
    "        fig2.show()\n",
    "        fig3.show()\n",
    "        clear_output(wait=True)   \n",
    "        time.sleep(60)\n"
   ]
  },
  {
   "cell_type": "code",
   "execution_count": null,
   "metadata": {},
   "outputs": [],
   "source": [
    "# 1. above 5 and below 5 pe \n",
    "# 2 above and 1 below + stirke\n",
    "# 3. overall PCR\n",
    "# 4. top 5 PCR\n",
    "# 5. close on secondary axis  "
   ]
  },
  {
   "cell_type": "code",
   "execution_count": 16,
   "metadata": {},
   "outputs": [],
   "source": [
    "# ws.clear_contents()\n",
    "# ws.range(\"A1\").options(index=True).value = df_merged"
   ]
  },
  {
   "cell_type": "code",
   "execution_count": 57,
   "metadata": {},
   "outputs": [],
   "source": []
  },
  {
   "cell_type": "code",
   "execution_count": null,
   "metadata": {},
   "outputs": [],
   "source": []
  }
 ],
 "metadata": {
  "kernelspec": {
   "display_name": "py37",
   "language": "python",
   "name": "python3"
  },
  "language_info": {
   "codemirror_mode": {
    "name": "ipython",
    "version": 3
   },
   "file_extension": ".py",
   "mimetype": "text/x-python",
   "name": "python",
   "nbconvert_exporter": "python",
   "pygments_lexer": "ipython3",
   "version": "3.7.15"
  },
  "orig_nbformat": 4
 },
 "nbformat": 4,
 "nbformat_minor": 2
}
