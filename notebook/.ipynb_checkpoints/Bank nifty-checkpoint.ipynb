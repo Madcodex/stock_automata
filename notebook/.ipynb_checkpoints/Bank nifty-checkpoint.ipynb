{
 "cells": [
  {
   "cell_type": "code",
   "execution_count": 1,
   "id": "40e9c536",
   "metadata": {},
   "outputs": [],
   "source": [
    "import numpy as np\n",
    "import pandas as pd\n",
    "from kite_trade import *\n",
    "import ta\n",
    "from tqdm import tqdm\n",
    "import datetime\n",
    "import pyarrow.parquet as pq\n",
    "import pyarrow as pa"
   ]
  },
  {
   "cell_type": "code",
   "execution_count": null,
   "id": "76d0cac2",
   "metadata": {},
   "outputs": [],
   "source": [
    "enctoken = \"9whBC/azx8CCd0XVyES+f5t/tlf6BzWRaRHpVZkjy6aFvT9IYsc0MqxCJ5HreABGM7KkSHx3CY9JwhwUmqAzAYhA+UoUacL4lKN7/PbuzchgMfI+aCTrrw==\"\n",
    "kite = KiteApp(enctoken=enctoken)"
   ]
  }
 ],
 "metadata": {
  "kernelspec": {
   "display_name": "Python 3 (ipykernel)",
   "language": "python",
   "name": "python3"
  },
  "language_info": {
   "codemirror_mode": {
    "name": "ipython",
    "version": 3
   },
   "file_extension": ".py",
   "mimetype": "text/x-python",
   "name": "python",
   "nbconvert_exporter": "python",
   "pygments_lexer": "ipython3",
   "version": "3.7.15"
  }
 },
 "nbformat": 4,
 "nbformat_minor": 5
}
