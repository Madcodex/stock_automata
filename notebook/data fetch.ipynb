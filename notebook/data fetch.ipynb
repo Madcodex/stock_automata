{
 "cells": [
  {
   "cell_type": "code",
   "execution_count": 10,
   "id": "03a3978a",
   "metadata": {},
   "outputs": [],
   "source": [
    "# !pip install pyarrow"
   ]
  },
  {
   "cell_type": "code",
   "execution_count": 9,
   "id": "536bd759",
   "metadata": {},
   "outputs": [],
   "source": [
    "import numpy as np\n",
    "import pandas as pd\n",
    "from kite_trade import *\n",
    "import ta\n",
    "from tqdm import tqdm\n",
    "import datetime\n",
    "import pyarrow.parquet as pq\n",
    "import pyarrow as pa"
   ]
  },
  {
   "cell_type": "code",
   "execution_count": 10,
   "id": "2f3b7ff3",
   "metadata": {},
   "outputs": [],
   "source": [
    "enctoken = \"m0MCz6UDDZ9fyeKsLa/xKTXFIrOd/Ywp714ZsH5xuT9OKNJzV0lDYindMx+bAV8cIj3Jj9+mtEHy8vLPPBwABqUNj6ElasUp8R6zWx9zygKSlrDvTDVZhA==\"\n",
    "kite = KiteApp(enctoken=enctoken)"
   ]
  },
  {
   "cell_type": "code",
   "execution_count": 11,
   "id": "b243c6c7",
   "metadata": {},
   "outputs": [],
   "source": [
    "# 1. filter the company i wnat to select \n",
    "# nifty 50\n",
    "# all nese company\n",
    "# 2. data at diffrent level ( day, min, week)\n"
   ]
  },
  {
   "cell_type": "code",
   "execution_count": 12,
   "id": "b9124a4a",
   "metadata": {},
   "outputs": [],
   "source": [
    "# nifty_50 = pd.read_csv('data/ind_nifty50list.csv')\n",
    "# nifty_next_50 = pd.read_csv('data/ind_niftynext50list.csv')\n",
    "# nifty_mix_500 = pd.read_csv(\"data/ind_nifty500Multicap502525_list.csv\")\n",
    "# output = \"data/append_test.parquet\"\n",
    "\n",
    "# table = pa.Table.from_pandas(nifty_50)\n",
    "# pq.write_to_dataset(table,root_path = output)\n",
    "# table = pa.Table.from_pandas(nifty_next_50)\n",
    "# pq.write_to_dataset(table,root_path = output)\n",
    "# table = pa.Table.from_pandas(nifty_mix_500)\n",
    "# pq.write_to_dataset(table,root_path = output)\n",
    "\n",
    "# df = pd.read_parquet(\"data/append_test.parquet\")"
   ]
  },
  {
   "cell_type": "code",
   "execution_count": 13,
   "id": "93c18119",
   "metadata": {},
   "outputs": [],
   "source": [
    "timerframe_list = [\n",
    "\"day\",\n",
    "\"minute\",\n",
    " \"3minute\",\n",
    " \"5minute\",\n",
    " \"10minute\",\n",
    " \"15minute\",\n",
    " \"30minute\",\n",
    " \"60minute\",]\n",
    "\n",
    "# instument in nse\n",
    "inst = pd.DataFrame(kite.instruments(\"NSE\"))\n",
    "inst_filter = inst.query('(name != \"\")').copy()\n",
    "inst_filter.rename(columns = {\"tradingsymbol\":'Symbol'},inplace = True)\n",
    "# inst_filter = inst_filter.merge(nifty_mix_500,how = 'inner', on = 'Symbol')"
   ]
  },
  {
   "cell_type": "code",
   "execution_count": 14,
   "id": "d2c0c992",
   "metadata": {},
   "outputs": [
    {
     "data": {
      "text/html": [
       "<div>\n",
       "<style scoped>\n",
       "    .dataframe tbody tr th:only-of-type {\n",
       "        vertical-align: middle;\n",
       "    }\n",
       "\n",
       "    .dataframe tbody tr th {\n",
       "        vertical-align: top;\n",
       "    }\n",
       "\n",
       "    .dataframe thead th {\n",
       "        text-align: right;\n",
       "    }\n",
       "</style>\n",
       "<table border=\"1\" class=\"dataframe\">\n",
       "  <thead>\n",
       "    <tr style=\"text-align: right;\">\n",
       "      <th></th>\n",
       "      <th>instrument_token</th>\n",
       "      <th>exchange_token</th>\n",
       "      <th>Symbol</th>\n",
       "      <th>name</th>\n",
       "      <th>last_price</th>\n",
       "      <th>expiry</th>\n",
       "      <th>strike</th>\n",
       "      <th>tick_size</th>\n",
       "      <th>lot_size</th>\n",
       "      <th>instrument_type</th>\n",
       "      <th>segment</th>\n",
       "      <th>exchange</th>\n",
       "    </tr>\n",
       "  </thead>\n",
       "  <tbody>\n",
       "    <tr>\n",
       "      <th>0</th>\n",
       "      <td>256265</td>\n",
       "      <td>1001</td>\n",
       "      <td>NIFTY 50</td>\n",
       "      <td>NIFTY 50</td>\n",
       "      <td>0.0</td>\n",
       "      <td>None</td>\n",
       "      <td>0.0</td>\n",
       "      <td>0.0</td>\n",
       "      <td>0</td>\n",
       "      <td>EQ</td>\n",
       "      <td>INDICES</td>\n",
       "      <td>NSE</td>\n",
       "    </tr>\n",
       "    <tr>\n",
       "      <th>1</th>\n",
       "      <td>256777</td>\n",
       "      <td>1003</td>\n",
       "      <td>NIFTY MIDCAP 100</td>\n",
       "      <td>NIFTY MIDCAP 100</td>\n",
       "      <td>0.0</td>\n",
       "      <td>None</td>\n",
       "      <td>0.0</td>\n",
       "      <td>0.0</td>\n",
       "      <td>0</td>\n",
       "      <td>EQ</td>\n",
       "      <td>INDICES</td>\n",
       "      <td>NSE</td>\n",
       "    </tr>\n",
       "    <tr>\n",
       "      <th>2</th>\n",
       "      <td>260105</td>\n",
       "      <td>1016</td>\n",
       "      <td>NIFTY BANK</td>\n",
       "      <td>NIFTY BANK</td>\n",
       "      <td>0.0</td>\n",
       "      <td>None</td>\n",
       "      <td>0.0</td>\n",
       "      <td>0.0</td>\n",
       "      <td>0</td>\n",
       "      <td>EQ</td>\n",
       "      <td>INDICES</td>\n",
       "      <td>NSE</td>\n",
       "    </tr>\n",
       "    <tr>\n",
       "      <th>3</th>\n",
       "      <td>260617</td>\n",
       "      <td>1018</td>\n",
       "      <td>NIFTY 100</td>\n",
       "      <td>NIFTY 100</td>\n",
       "      <td>0.0</td>\n",
       "      <td>None</td>\n",
       "      <td>0.0</td>\n",
       "      <td>0.0</td>\n",
       "      <td>0</td>\n",
       "      <td>EQ</td>\n",
       "      <td>INDICES</td>\n",
       "      <td>NSE</td>\n",
       "    </tr>\n",
       "    <tr>\n",
       "      <th>4</th>\n",
       "      <td>257033</td>\n",
       "      <td>1004</td>\n",
       "      <td>NIFTY DIV OPPS 50</td>\n",
       "      <td>NIFTY DIV OPPS 50</td>\n",
       "      <td>0.0</td>\n",
       "      <td>None</td>\n",
       "      <td>0.0</td>\n",
       "      <td>0.0</td>\n",
       "      <td>0</td>\n",
       "      <td>EQ</td>\n",
       "      <td>INDICES</td>\n",
       "      <td>NSE</td>\n",
       "    </tr>\n",
       "  </tbody>\n",
       "</table>\n",
       "</div>"
      ],
      "text/plain": [
       "   instrument_token exchange_token             Symbol               name  \\\n",
       "0            256265           1001           NIFTY 50           NIFTY 50   \n",
       "1            256777           1003   NIFTY MIDCAP 100   NIFTY MIDCAP 100   \n",
       "2            260105           1016         NIFTY BANK         NIFTY BANK   \n",
       "3            260617           1018          NIFTY 100          NIFTY 100   \n",
       "4            257033           1004  NIFTY DIV OPPS 50  NIFTY DIV OPPS 50   \n",
       "\n",
       "   last_price expiry  strike  tick_size  lot_size instrument_type  segment  \\\n",
       "0         0.0   None     0.0        0.0         0              EQ  INDICES   \n",
       "1         0.0   None     0.0        0.0         0              EQ  INDICES   \n",
       "2         0.0   None     0.0        0.0         0              EQ  INDICES   \n",
       "3         0.0   None     0.0        0.0         0              EQ  INDICES   \n",
       "4         0.0   None     0.0        0.0         0              EQ  INDICES   \n",
       "\n",
       "  exchange  \n",
       "0      NSE  \n",
       "1      NSE  \n",
       "2      NSE  \n",
       "3      NSE  \n",
       "4      NSE  "
      ]
     },
     "execution_count": 14,
     "metadata": {},
     "output_type": "execute_result"
    }
   ],
   "source": [
    "inst_filter.head()"
   ]
  },
  {
   "cell_type": "code",
   "execution_count": 15,
   "id": "a3e9c345",
   "metadata": {},
   "outputs": [
    {
     "ename": "KeyError",
     "evalue": "'data'",
     "output_type": "error",
     "traceback": [
      "\u001b[1;31m---------------------------------------------------------------------------\u001b[0m",
      "\u001b[1;31mKeyError\u001b[0m                                  Traceback (most recent call last)",
      "\u001b[1;32m~\\AppData\\Local\\Temp\\ipykernel_13240\\1413332908.py\u001b[0m in \u001b[0;36m<module>\u001b[1;34m\u001b[0m\n\u001b[0;32m      3\u001b[0m \u001b[1;32mfor\u001b[0m \u001b[0mi\u001b[0m \u001b[1;32min\u001b[0m \u001b[0mrange\u001b[0m\u001b[1;33m(\u001b[0m\u001b[1;36m0\u001b[0m\u001b[1;33m,\u001b[0m\u001b[1;36m100\u001b[0m\u001b[1;33m)\u001b[0m\u001b[1;33m:\u001b[0m\u001b[1;33m\u001b[0m\u001b[1;33m\u001b[0m\u001b[0m\n\u001b[0;32m      4\u001b[0m     \u001b[1;31m# print(kite.quote('NSE:NIFTY BANK'))\u001b[0m\u001b[1;33m\u001b[0m\u001b[1;33m\u001b[0m\u001b[1;33m\u001b[0m\u001b[0m\n\u001b[1;32m----> 5\u001b[1;33m     \u001b[0mdf\u001b[0m \u001b[1;33m=\u001b[0m \u001b[0mpd\u001b[0m\u001b[1;33m.\u001b[0m\u001b[0mDataFrame\u001b[0m\u001b[1;33m(\u001b[0m\u001b[0mkite\u001b[0m\u001b[1;33m.\u001b[0m\u001b[0mquote\u001b[0m\u001b[1;33m(\u001b[0m\u001b[1;34m'NSE:NIFTY BANK'\u001b[0m\u001b[1;33m)\u001b[0m\u001b[1;33m[\u001b[0m\u001b[1;34m'NSE:NIFTY BANK'\u001b[0m\u001b[1;33m]\u001b[0m\u001b[1;33m)\u001b[0m\u001b[1;33m\u001b[0m\u001b[1;33m\u001b[0m\u001b[0m\n\u001b[0m\u001b[0;32m      6\u001b[0m     \u001b[0mdf\u001b[0m \u001b[1;33m=\u001b[0m \u001b[0mdf\u001b[0m\u001b[1;33m.\u001b[0m\u001b[0mreset_index\u001b[0m\u001b[1;33m(\u001b[0m\u001b[1;33m)\u001b[0m\u001b[1;33m[\u001b[0m\u001b[1;33m[\u001b[0m\u001b[1;34m'timestamp'\u001b[0m\u001b[1;33m,\u001b[0m\u001b[1;34m'index'\u001b[0m\u001b[1;33m,\u001b[0m\u001b[1;34m'ohlc'\u001b[0m\u001b[1;33m,\u001b[0m\u001b[1;34m'last_price'\u001b[0m\u001b[1;33m]\u001b[0m\u001b[1;33m]\u001b[0m\u001b[1;33m\u001b[0m\u001b[1;33m\u001b[0m\u001b[0m\n\u001b[0;32m      7\u001b[0m     \u001b[0mdf_all\u001b[0m \u001b[1;33m=\u001b[0m \u001b[0mdf_all\u001b[0m\u001b[1;33m.\u001b[0m\u001b[0mappend\u001b[0m\u001b[1;33m(\u001b[0m\u001b[0mdf\u001b[0m\u001b[1;33m)\u001b[0m\u001b[1;33m\u001b[0m\u001b[1;33m\u001b[0m\u001b[0m\n",
      "\u001b[1;32md:\\Finance\\stock_automata\\notebook\\kite_trade.py\u001b[0m in \u001b[0;36mquote\u001b[1;34m(self, instruments)\u001b[0m\n\u001b[0;32m     87\u001b[0m \u001b[1;33m\u001b[0m\u001b[0m\n\u001b[0;32m     88\u001b[0m     \u001b[1;32mdef\u001b[0m \u001b[0mquote\u001b[0m\u001b[1;33m(\u001b[0m\u001b[0mself\u001b[0m\u001b[1;33m,\u001b[0m \u001b[0minstruments\u001b[0m\u001b[1;33m)\u001b[0m\u001b[1;33m:\u001b[0m\u001b[1;33m\u001b[0m\u001b[1;33m\u001b[0m\u001b[0m\n\u001b[1;32m---> 89\u001b[1;33m         \u001b[0mdata\u001b[0m \u001b[1;33m=\u001b[0m \u001b[0mself\u001b[0m\u001b[1;33m.\u001b[0m\u001b[0msession\u001b[0m\u001b[1;33m.\u001b[0m\u001b[0mget\u001b[0m\u001b[1;33m(\u001b[0m\u001b[1;34mf\"{self.root_url}/quote\"\u001b[0m\u001b[1;33m,\u001b[0m \u001b[0mparams\u001b[0m\u001b[1;33m=\u001b[0m\u001b[1;33m{\u001b[0m\u001b[1;34m\"i\"\u001b[0m\u001b[1;33m:\u001b[0m \u001b[0minstruments\u001b[0m\u001b[1;33m}\u001b[0m\u001b[1;33m,\u001b[0m \u001b[0mheaders\u001b[0m\u001b[1;33m=\u001b[0m\u001b[0mself\u001b[0m\u001b[1;33m.\u001b[0m\u001b[0mheaders\u001b[0m\u001b[1;33m)\u001b[0m\u001b[1;33m.\u001b[0m\u001b[0mjson\u001b[0m\u001b[1;33m(\u001b[0m\u001b[1;33m)\u001b[0m\u001b[1;33m[\u001b[0m\u001b[1;34m\"data\"\u001b[0m\u001b[1;33m]\u001b[0m\u001b[1;33m\u001b[0m\u001b[1;33m\u001b[0m\u001b[0m\n\u001b[0m\u001b[0;32m     90\u001b[0m         \u001b[1;32mreturn\u001b[0m \u001b[0mdata\u001b[0m\u001b[1;33m\u001b[0m\u001b[1;33m\u001b[0m\u001b[0m\n\u001b[0;32m     91\u001b[0m \u001b[1;33m\u001b[0m\u001b[0m\n",
      "\u001b[1;31mKeyError\u001b[0m: 'data'"
     ]
    }
   ],
   "source": [
    "import time\n",
    "df_all  = pd.DataFrame()\n",
    "for i in range(0,100):\n",
    "    # print(kite.quote('NSE:NIFTY BANK'))\n",
    "    df = pd.DataFrame(kite.quote('NSE:NIFTY BANK')['NSE:NIFTY BANK'])\n",
    "    df = df.reset_index()[['timestamp','index','ohlc','last_price']]\n",
    "    df_all = df_all.append(df)\n",
    "    time.sleep(5)\n",
    "#     break"
   ]
  },
  {
   "cell_type": "code",
   "execution_count": 7,
   "id": "f4bf23a8",
   "metadata": {},
   "outputs": [
    {
     "data": {
      "text/html": [
       "<div>\n",
       "<style scoped>\n",
       "    .dataframe tbody tr th:only-of-type {\n",
       "        vertical-align: middle;\n",
       "    }\n",
       "\n",
       "    .dataframe tbody tr th {\n",
       "        vertical-align: top;\n",
       "    }\n",
       "\n",
       "    .dataframe thead th {\n",
       "        text-align: right;\n",
       "    }\n",
       "</style>\n",
       "<table border=\"1\" class=\"dataframe\">\n",
       "  <thead>\n",
       "    <tr style=\"text-align: right;\">\n",
       "      <th></th>\n",
       "      <th>timestamp</th>\n",
       "      <th>index</th>\n",
       "      <th>ohlc</th>\n",
       "      <th>last_price</th>\n",
       "    </tr>\n",
       "  </thead>\n",
       "  <tbody>\n",
       "    <tr>\n",
       "      <th>0</th>\n",
       "      <td>2023-01-16 11:22:18</td>\n",
       "      <td>close</td>\n",
       "      <td>42371.25</td>\n",
       "      <td>42398.25</td>\n",
       "    </tr>\n",
       "    <tr>\n",
       "      <th>1</th>\n",
       "      <td>2023-01-16 11:22:18</td>\n",
       "      <td>high</td>\n",
       "      <td>42715.65</td>\n",
       "      <td>42398.25</td>\n",
       "    </tr>\n",
       "    <tr>\n",
       "      <th>2</th>\n",
       "      <td>2023-01-16 11:22:18</td>\n",
       "      <td>low</td>\n",
       "      <td>42375.15</td>\n",
       "      <td>42398.25</td>\n",
       "    </tr>\n",
       "    <tr>\n",
       "      <th>3</th>\n",
       "      <td>2023-01-16 11:22:18</td>\n",
       "      <td>open</td>\n",
       "      <td>42622.50</td>\n",
       "      <td>42398.25</td>\n",
       "    </tr>\n",
       "  </tbody>\n",
       "</table>\n",
       "</div>"
      ],
      "text/plain": [
       "             timestamp  index      ohlc  last_price\n",
       "0  2023-01-16 11:22:18  close  42371.25    42398.25\n",
       "1  2023-01-16 11:22:18   high  42715.65    42398.25\n",
       "2  2023-01-16 11:22:18    low  42375.15    42398.25\n",
       "3  2023-01-16 11:22:18   open  42622.50    42398.25"
      ]
     },
     "execution_count": 7,
     "metadata": {},
     "output_type": "execute_result"
    }
   ],
   "source": [
    "df"
   ]
  },
  {
   "cell_type": "code",
   "execution_count": 8,
   "id": "1d1d6b25",
   "metadata": {},
   "outputs": [],
   "source": [
    "df_1  = pd.pivot_table(df_all, index =[ 'timestamp'], columns = ['index',\"last_price\"]).reset_index()"
   ]
  },
  {
   "cell_type": "code",
   "execution_count": 10,
   "id": "64062d36",
   "metadata": {},
   "outputs": [],
   "source": [
    "# df_1"
   ]
  },
  {
   "cell_type": "code",
   "execution_count": 73,
   "id": "908fcd67",
   "metadata": {},
   "outputs": [],
   "source": [
    "df_1  = pd.pivot_table(df_all, index =[ 'timestamp'], columns = ['index',\"last_price\"]).reset_index()\n",
    "df_1.columns = [i[1] for i in df_1.columns]\n",
    "df_1.rename(columns = {'': \"Date\",'close':'Close', 'high':'High', 'low':\"Low\", 'open': \"Open\"}, inplace = True)\n",
    "df_1.set_index('Date', inplace = True)\n",
    "df_1.index = pd.to_datetime(df_1.index)"
   ]
  },
  {
   "cell_type": "code",
   "execution_count": 101,
   "id": "f3fe1fff",
   "metadata": {},
   "outputs": [
    {
     "data": {
      "text/html": [
       "<div>\n",
       "<style scoped>\n",
       "    .dataframe tbody tr th:only-of-type {\n",
       "        vertical-align: middle;\n",
       "    }\n",
       "\n",
       "    .dataframe tbody tr th {\n",
       "        vertical-align: top;\n",
       "    }\n",
       "\n",
       "    .dataframe thead th {\n",
       "        text-align: right;\n",
       "    }\n",
       "</style>\n",
       "<table border=\"1\" class=\"dataframe\">\n",
       "  <thead>\n",
       "    <tr style=\"text-align: right;\">\n",
       "      <th></th>\n",
       "      <th>Close</th>\n",
       "      <th>High</th>\n",
       "      <th>Low</th>\n",
       "      <th>Open</th>\n",
       "    </tr>\n",
       "    <tr>\n",
       "      <th>Date</th>\n",
       "      <th></th>\n",
       "      <th></th>\n",
       "      <th></th>\n",
       "      <th></th>\n",
       "    </tr>\n",
       "  </thead>\n",
       "  <tbody>\n",
       "    <tr>\n",
       "      <th>2023-01-12 15:07:15</th>\n",
       "      <td>17895.7</td>\n",
       "      <td>17945.8</td>\n",
       "      <td>17761.65</td>\n",
       "      <td>17920.85</td>\n",
       "    </tr>\n",
       "    <tr>\n",
       "      <th>2023-01-12 15:07:20</th>\n",
       "      <td>17895.7</td>\n",
       "      <td>17945.8</td>\n",
       "      <td>17761.65</td>\n",
       "      <td>17920.85</td>\n",
       "    </tr>\n",
       "    <tr>\n",
       "      <th>2023-01-12 15:07:26</th>\n",
       "      <td>17895.7</td>\n",
       "      <td>17945.8</td>\n",
       "      <td>17761.65</td>\n",
       "      <td>17920.85</td>\n",
       "    </tr>\n",
       "    <tr>\n",
       "      <th>2023-01-12 15:07:31</th>\n",
       "      <td>17895.7</td>\n",
       "      <td>17945.8</td>\n",
       "      <td>17761.65</td>\n",
       "      <td>17920.85</td>\n",
       "    </tr>\n",
       "    <tr>\n",
       "      <th>2023-01-12 15:07:36</th>\n",
       "      <td>17895.7</td>\n",
       "      <td>17945.8</td>\n",
       "      <td>17761.65</td>\n",
       "      <td>17920.85</td>\n",
       "    </tr>\n",
       "    <tr>\n",
       "      <th>...</th>\n",
       "      <td>...</td>\n",
       "      <td>...</td>\n",
       "      <td>...</td>\n",
       "      <td>...</td>\n",
       "    </tr>\n",
       "    <tr>\n",
       "      <th>2023-01-12 15:15:26</th>\n",
       "      <td>17895.7</td>\n",
       "      <td>17945.8</td>\n",
       "      <td>17761.65</td>\n",
       "      <td>17920.85</td>\n",
       "    </tr>\n",
       "    <tr>\n",
       "      <th>2023-01-12 15:15:32</th>\n",
       "      <td>17895.7</td>\n",
       "      <td>17945.8</td>\n",
       "      <td>17761.65</td>\n",
       "      <td>17920.85</td>\n",
       "    </tr>\n",
       "    <tr>\n",
       "      <th>2023-01-12 15:15:37</th>\n",
       "      <td>17895.7</td>\n",
       "      <td>17945.8</td>\n",
       "      <td>17761.65</td>\n",
       "      <td>17920.85</td>\n",
       "    </tr>\n",
       "    <tr>\n",
       "      <th>2023-01-12 15:15:42</th>\n",
       "      <td>17895.7</td>\n",
       "      <td>17945.8</td>\n",
       "      <td>17761.65</td>\n",
       "      <td>17920.85</td>\n",
       "    </tr>\n",
       "    <tr>\n",
       "      <th>2023-01-12 15:15:47</th>\n",
       "      <td>17895.7</td>\n",
       "      <td>17945.8</td>\n",
       "      <td>17761.65</td>\n",
       "      <td>17920.85</td>\n",
       "    </tr>\n",
       "  </tbody>\n",
       "</table>\n",
       "<p>100 rows × 4 columns</p>\n",
       "</div>"
      ],
      "text/plain": [
       "                       Close     High       Low      Open\n",
       "Date                                                     \n",
       "2023-01-12 15:07:15  17895.7  17945.8  17761.65  17920.85\n",
       "2023-01-12 15:07:20  17895.7  17945.8  17761.65  17920.85\n",
       "2023-01-12 15:07:26  17895.7  17945.8  17761.65  17920.85\n",
       "2023-01-12 15:07:31  17895.7  17945.8  17761.65  17920.85\n",
       "2023-01-12 15:07:36  17895.7  17945.8  17761.65  17920.85\n",
       "...                      ...      ...       ...       ...\n",
       "2023-01-12 15:15:26  17895.7  17945.8  17761.65  17920.85\n",
       "2023-01-12 15:15:32  17895.7  17945.8  17761.65  17920.85\n",
       "2023-01-12 15:15:37  17895.7  17945.8  17761.65  17920.85\n",
       "2023-01-12 15:15:42  17895.7  17945.8  17761.65  17920.85\n",
       "2023-01-12 15:15:47  17895.7  17945.8  17761.65  17920.85\n",
       "\n",
       "[100 rows x 4 columns]"
      ]
     },
     "execution_count": 101,
     "metadata": {},
     "output_type": "execute_result"
    }
   ],
   "source": [
    "df_1"
   ]
  },
  {
   "cell_type": "code",
   "execution_count": 80,
   "id": "eb1f57e6",
   "metadata": {},
   "outputs": [],
   "source": [
    "import plotly.graph_objects as go\n",
    "import pandas as pd\n",
    "from datetime import datetime\n",
    "import mplfinance as mpf"
   ]
  },
  {
   "cell_type": "code",
   "execution_count": 99,
   "id": "33d4bbea",
   "metadata": {},
   "outputs": [
    {
     "data": {
      "image/png": "[encoded data removed]",
      "text/plain": [
       "<Figure size 800x575 with 2 Axes>"
      ]
     },
     "metadata": {},
     "output_type": "display_data"
    }
   ],
   "source": [
    "mpf.plot(df_1,type = 'candlestick' ,style ='yahoo')"
   ]
  },
  {
   "cell_type": "code",
   "execution_count": 75,
   "id": "b0d6cb9e",
   "metadata": {},
   "outputs": [
    {
     "data": {
      "application/vnd.plotly.v1+json": {
       "config": {
        "plotlyServerURL": "https://plot.ly"
       },
       "data": [
        {
         "close": [
          17895.7,
          17895.7,
          17895.7,
          17895.7,
          17895.7,
          17895.7,
          17895.7,
          17895.7,
          17895.7,
          17895.7,
          17895.7,
          17895.7,
          17895.7,
          17895.7,
          17895.7,
          17895.7,
          17895.7,
          17895.7,
          17895.7,
          17895.7,
          17895.7,
          17895.7,
          17895.7,
          17895.7,
          17895.7,
          17895.7,
          17895.7,
          17895.7,
          17895.7,
          17895.7,
          17895.7,
          17895.7,
          17895.7,
          17895.7,
          17895.7,
          17895.7,
          17895.7,
          17895.7,
          17895.7,
          17895.7,
          17895.7,
          17895.7,
          17895.7,
          17895.7,
          17895.7,
          17895.7,
          17895.7,
          17895.7,
          17895.7,
          17895.7,
          17895.7,
          17895.7,
          17895.7,
          17895.7,
          17895.7,
          17895.7,
          17895.7,
          17895.7,
          17895.7,
          17895.7,
          17895.7,
          17895.7,
          17895.7,
          17895.7,
          17895.7,
          17895.7,
          17895.7,
          17895.7,
          17895.7,
          17895.7,
          17895.7,
          17895.7,
          17895.7,
          17895.7,
          17895.7,
          17895.7,
          17895.7,
          17895.7,
          17895.7,
          17895.7,
          17895.7,
          17895.7,
          17895.7,
          17895.7,
          17895.7,
          17895.7,
          17895.7,
          17895.7,
          17895.7,
          17895.7,
          17895.7,
          17895.7,
          17895.7,
          17895.7,
          17895.7,
          17895.7,
          17895.7,
          17895.7,
          17895.7,
          17895.7
         ],
         "high": [
          17945.8,
          17945.8,
          17945.8,
          17945.8,
          17945.8,
          17945.8,
          17945.8,
          17945.8,
          17945.8,
          17945.8,
          17945.8,
          17945.8,
          17945.8,
          17945.8,
          17945.8,
          17945.8,
          17945.8,
          17945.8,
          17945.8,
          17945.8,
          17945.8,
          17945.8,
          17945.8,
          17945.8,
          17945.8,
          17945.8,
          17945.8,
          17945.8,
          17945.8,
          17945.8,
          17945.8,
          17945.8,
          17945.8,
          17945.8,
          17945.8,
          17945.8,
          17945.8,
          17945.8,
          17945.8,
          17945.8,
          17945.8,
          17945.8,
          17945.8,
          17945.8,
          17945.8,
          17945.8,
          17945.8,
          17945.8,
          17945.8,
          17945.8,
          17945.8,
          17945.8,
          17945.8,
          17945.8,
          17945.8,
          17945.8,
          17945.8,
          17945.8,
          17945.8,
          17945.8,
          17945.8,
          17945.8,
          17945.8,
          17945.8,
          17945.8,
          17945.8,
          17945.8,
          17945.8,
          17945.8,
          17945.8,
          17945.8,
          17945.8,
          17945.8,
          17945.8,
          17945.8,
          17945.8,
          17945.8,
          17945.8,
          17945.8,
          17945.8,
          17945.8,
          17945.8,
          17945.8,
          17945.8,
          17945.8,
          17945.8,
          17945.8,
          17945.8,
          17945.8,
          17945.8,
          17945.8,
          17945.8,
          17945.8,
          17945.8,
          17945.8,
          17945.8,
          17945.8,
          17945.8,
          17945.8,
          17945.8
         ],
         "low": [
          17761.65,
          17761.65,
          17761.65,
          17761.65,
          17761.65,
          17761.65,
          17761.65,
          17761.65,
          17761.65,
          17761.65,
          17761.65,
          17761.65,
          17761.65,
          17761.65,
          17761.65,
          17761.65,
          17761.65,
          17761.65,
          17761.65,
          17761.65,
          17761.65,
          17761.65,
          17761.65,
          17761.65,
          17761.65,
          17761.65,
          17761.65,
          17761.65,
          17761.65,
          17761.65,
          17761.65,
          17761.65,
          17761.65,
          17761.65,
          17761.65,
          17761.65,
          17761.65,
          17761.65,
          17761.65,
          17761.65,
          17761.65,
          17761.65,
          17761.65,
          17761.65,
          17761.65,
          17761.65,
          17761.65,
          17761.65,
          17761.65,
          17761.65,
          17761.65,
          17761.65,
          17761.65,
          17761.65,
          17761.65,
          17761.65,
          17761.65,
          17761.65,
          17761.65,
          17761.65,
          17761.65,
          17761.65,
          17761.65,
          17761.65,
          17761.65,
          17761.65,
          17761.65,
          17761.65,
          17761.65,
          17761.65,
          17761.65,
          17761.65,
          17761.65,
          17761.65,
          17761.65,
          17761.65,
          17761.65,
          17761.65,
          17761.65,
          17761.65,
          17761.65,
          17761.65,
          17761.65,
          17761.65,
          17761.65,
          17761.65,
          17761.65,
          17761.65,
          17761.65,
          17761.65,
          17761.65,
          17761.65,
          17761.65,
          17761.65,
          17761.65,
          17761.65,
          17761.65,
          17761.65,
          17761.65,
          17761.65
         ],
         "open": [
          17920.85,
          17920.85,
          17920.85,
          17920.85,
          17920.85,
          17920.85,
          17920.85,
          17920.85,
          17920.85,
          17920.85,
          17920.85,
          17920.85,
          17920.85,
          17920.85,
          17920.85,
          17920.85,
          17920.85,
          17920.85,
          17920.85,
          17920.85,
          17920.85,
          17920.85,
          17920.85,
          17920.85,
          17920.85,
          17920.85,
          17920.85,
          17920.85,
          17920.85,
          17920.85,
          17920.85,
          17920.85,
          17920.85,
          17920.85,
          17920.85,
          17920.85,
          17920.85,
          17920.85,
          17920.85,
          17920.85,
          17920.85,
          17920.85,
          17920.85,
          17920.85,
          17920.85,
          17920.85,
          17920.85,
          17920.85,
          17920.85,
          17920.85,
          17920.85,
          17920.85,
          17920.85,
          17920.85,
          17920.85,
          17920.85,
          17920.85,
          17920.85,
          17920.85,
          17920.85,
          17920.85,
          17920.85,
          17920.85,
          17920.85,
          17920.85,
          17920.85,
          17920.85,
          17920.85,
          17920.85,
          17920.85,
          17920.85,
          17920.85,
          17920.85,
          17920.85,
          17920.85,
          17920.85,
          17920.85,
          17920.85,
          17920.85,
          17920.85,
          17920.85,
          17920.85,
          17920.85,
          17920.85,
          17920.85,
          17920.85,
          17920.85,
          17920.85,
          17920.85,
          17920.85,
          17920.85,
          17920.85,
          17920.85,
          17920.85,
          17920.85,
          17920.85,
          17920.85,
          17920.85,
          17920.85,
          17920.85
         ],
         "type": "candlestick",
         "x": [
          "2023-01-12 15:07:15",
          "2023-01-12 15:07:20",
          "2023-01-12 15:07:26",
          "2023-01-12 15:07:31",
          "2023-01-12 15:07:36",
          "2023-01-12 15:07:41",
          "2023-01-12 15:07:46",
          "2023-01-12 15:07:51",
          "2023-01-12 15:07:55",
          "2023-01-12 15:08:01",
          "2023-01-12 15:08:07",
          "2023-01-12 15:08:12",
          "2023-01-12 15:08:17",
          "2023-01-12 15:08:23",
          "2023-01-12 15:08:28",
          "2023-01-12 15:08:33",
          "2023-01-12 15:08:38",
          "2023-01-12 15:08:44",
          "2023-01-12 15:08:49",
          "2023-01-12 15:08:54",
          "2023-01-12 15:08:59",
          "2023-01-12 15:09:04",
          "2023-01-12 15:09:09",
          "2023-01-12 15:09:15",
          "2023-01-12 15:09:20",
          "2023-01-12 15:09:25",
          "2023-01-12 15:09:29",
          "2023-01-12 15:09:35",
          "2023-01-12 15:09:41",
          "2023-01-12 15:09:46",
          "2023-01-12 15:09:51",
          "2023-01-12 15:09:56",
          "2023-01-12 15:10:01",
          "2023-01-12 15:10:06",
          "2023-01-12 15:10:11",
          "2023-01-12 15:10:16",
          "2023-01-12 15:10:22",
          "2023-01-12 15:10:27",
          "2023-01-12 15:10:31",
          "2023-01-12 15:10:38",
          "2023-01-12 15:10:43",
          "2023-01-12 15:10:48",
          "2023-01-12 15:10:53",
          "2023-01-12 15:10:58",
          "2023-01-12 15:11:03",
          "2023-01-12 15:11:08",
          "2023-01-12 15:11:14",
          "2023-01-12 15:11:19",
          "2023-01-12 15:11:24",
          "2023-01-12 15:11:29",
          "2023-01-12 15:11:34",
          "2023-01-12 15:11:39",
          "2023-01-12 15:11:44",
          "2023-01-12 15:11:50",
          "2023-01-12 15:11:55",
          "2023-01-12 15:12:00",
          "2023-01-12 15:12:05",
          "2023-01-12 15:12:11",
          "2023-01-12 15:12:16",
          "2023-01-12 15:12:21",
          "2023-01-12 15:12:26",
          "2023-01-12 15:12:31",
          "2023-01-12 15:12:36",
          "2023-01-12 15:12:41",
          "2023-01-12 15:12:47",
          "2023-01-12 15:12:52",
          "2023-01-12 15:12:57",
          "2023-01-12 15:13:02",
          "2023-01-12 15:13:07",
          "2023-01-12 15:13:12",
          "2023-01-12 15:13:17",
          "2023-01-12 15:13:23",
          "2023-01-12 15:13:28",
          "2023-01-12 15:13:33",
          "2023-01-12 15:13:38",
          "2023-01-12 15:13:43",
          "2023-01-12 15:13:48",
          "2023-01-12 15:13:53",
          "2023-01-12 15:13:59",
          "2023-01-12 15:14:04",
          "2023-01-12 15:14:09",
          "2023-01-12 15:14:14",
          "2023-01-12 15:14:19",
          "2023-01-12 15:14:24",
          "2023-01-12 15:14:29",
          "2023-01-12 15:14:35",
          "2023-01-12 15:14:39",
          "2023-01-12 15:14:45",
          "2023-01-12 15:14:50",
          "2023-01-12 15:14:55",
          "2023-01-12 15:15:00",
          "2023-01-12 15:15:06",
          "2023-01-12 15:15:11",
          "2023-01-12 15:15:16",
          "2023-01-12 15:15:21",
          "2023-01-12 15:15:26",
          "2023-01-12 15:15:32",
          "2023-01-12 15:15:37",
          "2023-01-12 15:15:42",
          "2023-01-12 15:15:47"
         ]
        }
       ],
       "layout": {
        "template": {
         "data": {
          "bar": [
           {
            "error_x": {
             "color": "#2a3f5f"
            },
            "error_y": {
             "color": "#2a3f5f"
            },
            "marker": {
             "line": {
              "color": "#E5ECF6",
              "width": 0.5
             },
             "pattern": {
              "fillmode": "overlay",
              "size": 10,
              "solidity": 0.2
             }
            },
            "type": "bar"
           }
          ],
          "barpolar": [
           {
            "marker": {
             "line": {
              "color": "#E5ECF6",
              "width": 0.5
             },
             "pattern": {
              "fillmode": "overlay",
              "size": 10,
              "solidity": 0.2
             }
            },
            "type": "barpolar"
           }
          ],
          "carpet": [
           {
            "aaxis": {
             "endlinecolor": "#2a3f5f",
             "gridcolor": "white",
             "linecolor": "white",
             "minorgridcolor": "white",
             "startlinecolor": "#2a3f5f"
            },
            "baxis": {
             "endlinecolor": "#2a3f5f",
             "gridcolor": "white",
             "linecolor": "white",
             "minorgridcolor": "white",
             "startlinecolor": "#2a3f5f"
            },
            "type": "carpet"
           }
          ],
          "choropleth": [
           {
            "colorbar": {
             "outlinewidth": 0,
             "ticks": ""
            },
            "type": "choropleth"
           }
          ],
          "contour": [
           {
            "colorbar": {
             "outlinewidth": 0,
             "ticks": ""
            },
            "colorscale": [
             [
              0,
              "#0d0887"
             ],
             [
              0.1111111111111111,
              "#46039f"
             ],
             [
              0.2222222222222222,
              "#7201a8"
             ],
             [
              0.3333333333333333,
              "#9c179e"
             ],
             [
              0.4444444444444444,
              "#bd3786"
             ],
             [
              0.5555555555555556,
              "#d8576b"
             ],
             [
              0.6666666666666666,
              "#ed7953"
             ],
             [
              0.7777777777777778,
              "#fb9f3a"
             ],
             [
              0.8888888888888888,
              "#fdca26"
             ],
             [
              1,
              "#f0f921"
             ]
            ],
            "type": "contour"
           }
          ],
          "contourcarpet": [
           {
            "colorbar": {
             "outlinewidth": 0,
             "ticks": ""
            },
            "type": "contourcarpet"
           }
          ],
          "heatmap": [
           {
            "colorbar": {
             "outlinewidth": 0,
             "ticks": ""
            },
            "colorscale": [
             [
              0,
              "#0d0887"
             ],
             [
              0.1111111111111111,
              "#46039f"
             ],
             [
              0.2222222222222222,
              "#7201a8"
             ],
             [
              0.3333333333333333,
              "#9c179e"
             ],
             [
              0.4444444444444444,
              "#bd3786"
             ],
             [
              0.5555555555555556,
              "#d8576b"
             ],
             [
              0.6666666666666666,
              "#ed7953"
             ],
             [
              0.7777777777777778,
              "#fb9f3a"
             ],
             [
              0.8888888888888888,
              "#fdca26"
             ],
             [
              1,
              "#f0f921"
             ]
            ],
            "type": "heatmap"
           }
          ],
          "heatmapgl": [
           {
            "colorbar": {
             "outlinewidth": 0,
             "ticks": ""
            },
            "colorscale": [
             [
              0,
              "#0d0887"
             ],
             [
              0.1111111111111111,
              "#46039f"
             ],
             [
              0.2222222222222222,
              "#7201a8"
             ],
             [
              0.3333333333333333,
              "#9c179e"
             ],
             [
              0.4444444444444444,
              "#bd3786"
             ],
             [
              0.5555555555555556,
              "#d8576b"
             ],
             [
              0.6666666666666666,
              "#ed7953"
             ],
             [
              0.7777777777777778,
              "#fb9f3a"
             ],
             [
              0.8888888888888888,
              "#fdca26"
             ],
             [
              1,
              "#f0f921"
             ]
            ],
            "type": "heatmapgl"
           }
          ],
          "histogram": [
           {
            "marker": {
             "pattern": {
              "fillmode": "overlay",
              "size": 10,
              "solidity": 0.2
             }
            },
            "type": "histogram"
           }
          ],
          "histogram2d": [
           {
            "colorbar": {
             "outlinewidth": 0,
             "ticks": ""
            },
            "colorscale": [
             [
              0,
              "#0d0887"
             ],
             [
              0.1111111111111111,
              "#46039f"
             ],
             [
              0.2222222222222222,
              "#7201a8"
             ],
             [
              0.3333333333333333,
              "#9c179e"
             ],
             [
              0.4444444444444444,
              "#bd3786"
             ],
             [
              0.5555555555555556,
              "#d8576b"
             ],
             [
              0.6666666666666666,
              "#ed7953"
             ],
             [
              0.7777777777777778,
              "#fb9f3a"
             ],
             [
              0.8888888888888888,
              "#fdca26"
             ],
             [
              1,
              "#f0f921"
             ]
            ],
            "type": "histogram2d"
           }
          ],
          "histogram2dcontour": [
           {
            "colorbar": {
             "outlinewidth": 0,
             "ticks": ""
            },
            "colorscale": [
             [
              0,
              "#0d0887"
             ],
             [
              0.1111111111111111,
              "#46039f"
             ],
             [
              0.2222222222222222,
              "#7201a8"
             ],
             [
              0.3333333333333333,
              "#9c179e"
             ],
             [
              0.4444444444444444,
              "#bd3786"
             ],
             [
              0.5555555555555556,
              "#d8576b"
             ],
             [
              0.6666666666666666,
              "#ed7953"
             ],
             [
              0.7777777777777778,
              "#fb9f3a"
             ],
             [
              0.8888888888888888,
              "#fdca26"
             ],
             [
              1,
              "#f0f921"
             ]
            ],
            "type": "histogram2dcontour"
           }
          ],
          "mesh3d": [
           {
            "colorbar": {
             "outlinewidth": 0,
             "ticks": ""
            },
            "type": "mesh3d"
           }
          ],
          "parcoords": [
           {
            "line": {
             "colorbar": {
              "outlinewidth": 0,
              "ticks": ""
             }
            },
            "type": "parcoords"
           }
          ],
          "pie": [
           {
            "automargin": true,
            "type": "pie"
           }
          ],
          "scatter": [
           {
            "fillpattern": {
             "fillmode": "overlay",
             "size": 10,
             "solidity": 0.2
            },
            "type": "scatter"
           }
          ],
          "scatter3d": [
           {
            "line": {
             "colorbar": {
              "outlinewidth": 0,
              "ticks": ""
             }
            },
            "marker": {
             "colorbar": {
              "outlinewidth": 0,
              "ticks": ""
             }
            },
            "type": "scatter3d"
           }
          ],
          "scattercarpet": [
           {
            "marker": {
             "colorbar": {
              "outlinewidth": 0,
              "ticks": ""
             }
            },
            "type": "scattercarpet"
           }
          ],
          "scattergeo": [
           {
            "marker": {
             "colorbar": {
              "outlinewidth": 0,
              "ticks": ""
             }
            },
            "type": "scattergeo"
           }
          ],
          "scattergl": [
           {
            "marker": {
             "colorbar": {
              "outlinewidth": 0,
              "ticks": ""
             }
            },
            "type": "scattergl"
           }
          ],
          "scattermapbox": [
           {
            "marker": {
             "colorbar": {
              "outlinewidth": 0,
              "ticks": ""
             }
            },
            "type": "scattermapbox"
           }
          ],
          "scatterpolar": [
           {
            "marker": {
             "colorbar": {
              "outlinewidth": 0,
              "ticks": ""
             }
            },
            "type": "scatterpolar"
           }
          ],
          "scatterpolargl": [
           {
            "marker": {
             "colorbar": {
              "outlinewidth": 0,
              "ticks": ""
             }
            },
            "type": "scatterpolargl"
           }
          ],
          "scatterternary": [
           {
            "marker": {
             "colorbar": {
              "outlinewidth": 0,
              "ticks": ""
             }
            },
            "type": "scatterternary"
           }
          ],
          "surface": [
           {
            "colorbar": {
             "outlinewidth": 0,
             "ticks": ""
            },
            "colorscale": [
             [
              0,
              "#0d0887"
             ],
             [
              0.1111111111111111,
              "#46039f"
             ],
             [
              0.2222222222222222,
              "#7201a8"
             ],
             [
              0.3333333333333333,
              "#9c179e"
             ],
             [
              0.4444444444444444,
              "#bd3786"
             ],
             [
              0.5555555555555556,
              "#d8576b"
             ],
             [
              0.6666666666666666,
              "#ed7953"
             ],
             [
              0.7777777777777778,
              "#fb9f3a"
             ],
             [
              0.8888888888888888,
              "#fdca26"
             ],
             [
              1,
              "#f0f921"
             ]
            ],
            "type": "surface"
           }
          ],
          "table": [
           {
            "cells": {
             "fill": {
              "color": "#EBF0F8"
             },
             "line": {
              "color": "white"
             }
            },
            "header": {
             "fill": {
              "color": "#C8D4E3"
             },
             "line": {
              "color": "white"
             }
            },
            "type": "table"
           }
          ]
         },
         "layout": {
          "annotationdefaults": {
           "arrowcolor": "#2a3f5f",
           "arrowhead": 0,
           "arrowwidth": 1
          },
          "autotypenumbers": "strict",
          "coloraxis": {
           "colorbar": {
            "outlinewidth": 0,
            "ticks": ""
           }
          },
          "colorscale": {
           "diverging": [
            [
             0,
             "#8e0152"
            ],
            [
             0.1,
             "#c51b7d"
            ],
            [
             0.2,
             "#de77ae"
            ],
            [
             0.3,
             "#f1b6da"
            ],
            [
             0.4,
             "#fde0ef"
            ],
            [
             0.5,
             "#f7f7f7"
            ],
            [
             0.6,
             "#e6f5d0"
            ],
            [
             0.7,
             "#b8e186"
            ],
            [
             0.8,
             "#7fbc41"
            ],
            [
             0.9,
             "#4d9221"
            ],
            [
             1,
             "#276419"
            ]
           ],
           "sequential": [
            [
             0,
             "#0d0887"
            ],
            [
             0.1111111111111111,
             "#46039f"
            ],
            [
             0.2222222222222222,
             "#7201a8"
            ],
            [
             0.3333333333333333,
             "#9c179e"
            ],
            [
             0.4444444444444444,
             "#bd3786"
            ],
            [
             0.5555555555555556,
             "#d8576b"
            ],
            [
             0.6666666666666666,
             "#ed7953"
            ],
            [
             0.7777777777777778,
             "#fb9f3a"
            ],
            [
             0.8888888888888888,
             "#fdca26"
            ],
            [
             1,
             "#f0f921"
            ]
           ],
           "sequentialminus": [
            [
             0,
             "#0d0887"
            ],
            [
             0.1111111111111111,
             "#46039f"
            ],
            [
             0.2222222222222222,
             "#7201a8"
            ],
            [
             0.3333333333333333,
             "#9c179e"
            ],
            [
             0.4444444444444444,
             "#bd3786"
            ],
            [
             0.5555555555555556,
             "#d8576b"
            ],
            [
             0.6666666666666666,
             "#ed7953"
            ],
            [
             0.7777777777777778,
             "#fb9f3a"
            ],
            [
             0.8888888888888888,
             "#fdca26"
            ],
            [
             1,
             "#f0f921"
            ]
           ]
          },
          "colorway": [
           "#636efa",
           "#EF553B",
           "#00cc96",
           "#ab63fa",
           "#FFA15A",
           "#19d3f3",
           "#FF6692",
           "#B6E880",
           "#FF97FF",
           "#FECB52"
          ],
          "font": {
           "color": "#2a3f5f"
          },
          "geo": {
           "bgcolor": "white",
           "lakecolor": "white",
           "landcolor": "#E5ECF6",
           "showlakes": true,
           "showland": true,
           "subunitcolor": "white"
          },
          "hoverlabel": {
           "align": "left"
          },
          "hovermode": "closest",
          "mapbox": {
           "style": "light"
          },
          "paper_bgcolor": "white",
          "plot_bgcolor": "#E5ECF6",
          "polar": {
           "angularaxis": {
            "gridcolor": "white",
            "linecolor": "white",
            "ticks": ""
           },
           "bgcolor": "#E5ECF6",
           "radialaxis": {
            "gridcolor": "white",
            "linecolor": "white",
            "ticks": ""
           }
          },
          "scene": {
           "xaxis": {
            "backgroundcolor": "#E5ECF6",
            "gridcolor": "white",
            "gridwidth": 2,
            "linecolor": "white",
            "showbackground": true,
            "ticks": "",
            "zerolinecolor": "white"
           },
           "yaxis": {
            "backgroundcolor": "#E5ECF6",
            "gridcolor": "white",
            "gridwidth": 2,
            "linecolor": "white",
            "showbackground": true,
            "ticks": "",
            "zerolinecolor": "white"
           },
           "zaxis": {
            "backgroundcolor": "#E5ECF6",
            "gridcolor": "white",
            "gridwidth": 2,
            "linecolor": "white",
            "showbackground": true,
            "ticks": "",
            "zerolinecolor": "white"
           }
          },
          "shapedefaults": {
           "line": {
            "color": "#2a3f5f"
           }
          },
          "ternary": {
           "aaxis": {
            "gridcolor": "white",
            "linecolor": "white",
            "ticks": ""
           },
           "baxis": {
            "gridcolor": "white",
            "linecolor": "white",
            "ticks": ""
           },
           "bgcolor": "#E5ECF6",
           "caxis": {
            "gridcolor": "white",
            "linecolor": "white",
            "ticks": ""
           }
          },
          "title": {
           "x": 0.05
          },
          "xaxis": {
           "automargin": true,
           "gridcolor": "white",
           "linecolor": "white",
           "ticks": "",
           "title": {
            "standoff": 15
           },
           "zerolinecolor": "white",
           "zerolinewidth": 2
          },
          "yaxis": {
           "automargin": true,
           "gridcolor": "white",
           "linecolor": "white",
           "ticks": "",
           "title": {
            "standoff": 15
           },
           "zerolinecolor": "white",
           "zerolinewidth": 2
          }
         }
        }
       }
      },
      "text/html": [
       "<div>                            <div id=\"155690c5-7de2-4a36-8b75-f25761e17939\" class=\"plotly-graph-div\" style=\"height:525px; width:100%;\"></div>            <script type=\"text/javascript\">                require([\"plotly\"], function(Plotly) {                    window.PLOTLYENV=window.PLOTLYENV || {};                                    if (document.getElementById(\"155690c5-7de2-4a36-8b75-f25761e17939\")) {                    Plotly.newPlot(                        \"155690c5-7de2-4a36-8b75-f25761e17939\",                        [{\"close\":[17895.7,17895.7,17895.7,17895.7,17895.7,17895.7,17895.7,17895.7,17895.7,17895.7,17895.7,17895.7,17895.7,17895.7,17895.7,17895.7,17895.7,17895.7,17895.7,17895.7,17895.7,17895.7,17895.7,17895.7,17895.7,17895.7,17895.7,17895.7,17895.7,17895.7,17895.7,17895.7,17895.7,17895.7,17895.7,17895.7,17895.7,17895.7,17895.7,17895.7,17895.7,17895.7,17895.7,17895.7,17895.7,17895.7,17895.7,17895.7,17895.7,17895.7,17895.7,17895.7,17895.7,17895.7,17895.7,17895.7,17895.7,17895.7,17895.7,17895.7,17895.7,17895.7,17895.7,17895.7,17895.7,17895.7,17895.7,17895.7,17895.7,17895.7,17895.7,17895.7,17895.7,17895.7,17895.7,17895.7,17895.7,17895.7,17895.7,17895.7,17895.7,17895.7,17895.7,17895.7,17895.7,17895.7,17895.7,17895.7,17895.7,17895.7,17895.7,17895.7,17895.7,17895.7,17895.7,17895.7,17895.7,17895.7,17895.7,17895.7],\"high\":[17945.8,17945.8,17945.8,17945.8,17945.8,17945.8,17945.8,17945.8,17945.8,17945.8,17945.8,17945.8,17945.8,17945.8,17945.8,17945.8,17945.8,17945.8,17945.8,17945.8,17945.8,17945.8,17945.8,17945.8,17945.8,17945.8,17945.8,17945.8,17945.8,17945.8,17945.8,17945.8,17945.8,17945.8,17945.8,17945.8,17945.8,17945.8,17945.8,17945.8,17945.8,17945.8,17945.8,17945.8,17945.8,17945.8,17945.8,17945.8,17945.8,17945.8,17945.8,17945.8,17945.8,17945.8,17945.8,17945.8,17945.8,17945.8,17945.8,17945.8,17945.8,17945.8,17945.8,17945.8,17945.8,17945.8,17945.8,17945.8,17945.8,17945.8,17945.8,17945.8,17945.8,17945.8,17945.8,17945.8,17945.8,17945.8,17945.8,17945.8,17945.8,17945.8,17945.8,17945.8,17945.8,17945.8,17945.8,17945.8,17945.8,17945.8,17945.8,17945.8,17945.8,17945.8,17945.8,17945.8,17945.8,17945.8,17945.8,17945.8],\"low\":[17761.65,17761.65,17761.65,17761.65,17761.65,17761.65,17761.65,17761.65,17761.65,17761.65,17761.65,17761.65,17761.65,17761.65,17761.65,17761.65,17761.65,17761.65,17761.65,17761.65,17761.65,17761.65,17761.65,17761.65,17761.65,17761.65,17761.65,17761.65,17761.65,17761.65,17761.65,17761.65,17761.65,17761.65,17761.65,17761.65,17761.65,17761.65,17761.65,17761.65,17761.65,17761.65,17761.65,17761.65,17761.65,17761.65,17761.65,17761.65,17761.65,17761.65,17761.65,17761.65,17761.65,17761.65,17761.65,17761.65,17761.65,17761.65,17761.65,17761.65,17761.65,17761.65,17761.65,17761.65,17761.65,17761.65,17761.65,17761.65,17761.65,17761.65,17761.65,17761.65,17761.65,17761.65,17761.65,17761.65,17761.65,17761.65,17761.65,17761.65,17761.65,17761.65,17761.65,17761.65,17761.65,17761.65,17761.65,17761.65,17761.65,17761.65,17761.65,17761.65,17761.65,17761.65,17761.65,17761.65,17761.65,17761.65,17761.65,17761.65],\"open\":[17920.85,17920.85,17920.85,17920.85,17920.85,17920.85,17920.85,17920.85,17920.85,17920.85,17920.85,17920.85,17920.85,17920.85,17920.85,17920.85,17920.85,17920.85,17920.85,17920.85,17920.85,17920.85,17920.85,17920.85,17920.85,17920.85,17920.85,17920.85,17920.85,17920.85,17920.85,17920.85,17920.85,17920.85,17920.85,17920.85,17920.85,17920.85,17920.85,17920.85,17920.85,17920.85,17920.85,17920.85,17920.85,17920.85,17920.85,17920.85,17920.85,17920.85,17920.85,17920.85,17920.85,17920.85,17920.85,17920.85,17920.85,17920.85,17920.85,17920.85,17920.85,17920.85,17920.85,17920.85,17920.85,17920.85,17920.85,17920.85,17920.85,17920.85,17920.85,17920.85,17920.85,17920.85,17920.85,17920.85,17920.85,17920.85,17920.85,17920.85,17920.85,17920.85,17920.85,17920.85,17920.85,17920.85,17920.85,17920.85,17920.85,17920.85,17920.85,17920.85,17920.85,17920.85,17920.85,17920.85,17920.85,17920.85,17920.85,17920.85],\"x\":[\"2023-01-12 15:07:15\",\"2023-01-12 15:07:20\",\"2023-01-12 15:07:26\",\"2023-01-12 15:07:31\",\"2023-01-12 15:07:36\",\"2023-01-12 15:07:41\",\"2023-01-12 15:07:46\",\"2023-01-12 15:07:51\",\"2023-01-12 15:07:55\",\"2023-01-12 15:08:01\",\"2023-01-12 15:08:07\",\"2023-01-12 15:08:12\",\"2023-01-12 15:08:17\",\"2023-01-12 15:08:23\",\"2023-01-12 15:08:28\",\"2023-01-12 15:08:33\",\"2023-01-12 15:08:38\",\"2023-01-12 15:08:44\",\"2023-01-12 15:08:49\",\"2023-01-12 15:08:54\",\"2023-01-12 15:08:59\",\"2023-01-12 15:09:04\",\"2023-01-12 15:09:09\",\"2023-01-12 15:09:15\",\"2023-01-12 15:09:20\",\"2023-01-12 15:09:25\",\"2023-01-12 15:09:29\",\"2023-01-12 15:09:35\",\"2023-01-12 15:09:41\",\"2023-01-12 15:09:46\",\"2023-01-12 15:09:51\",\"2023-01-12 15:09:56\",\"2023-01-12 15:10:01\",\"2023-01-12 15:10:06\",\"2023-01-12 15:10:11\",\"2023-01-12 15:10:16\",\"2023-01-12 15:10:22\",\"2023-01-12 15:10:27\",\"2023-01-12 15:10:31\",\"2023-01-12 15:10:38\",\"2023-01-12 15:10:43\",\"2023-01-12 15:10:48\",\"2023-01-12 15:10:53\",\"2023-01-12 15:10:58\",\"2023-01-12 15:11:03\",\"2023-01-12 15:11:08\",\"2023-01-12 15:11:14\",\"2023-01-12 15:11:19\",\"2023-01-12 15:11:24\",\"2023-01-12 15:11:29\",\"2023-01-12 15:11:34\",\"2023-01-12 15:11:39\",\"2023-01-12 15:11:44\",\"2023-01-12 15:11:50\",\"2023-01-12 15:11:55\",\"2023-01-12 15:12:00\",\"2023-01-12 15:12:05\",\"2023-01-12 15:12:11\",\"2023-01-12 15:12:16\",\"2023-01-12 15:12:21\",\"2023-01-12 15:12:26\",\"2023-01-12 15:12:31\",\"2023-01-12 15:12:36\",\"2023-01-12 15:12:41\",\"2023-01-12 15:12:47\",\"2023-01-12 15:12:52\",\"2023-01-12 15:12:57\",\"2023-01-12 15:13:02\",\"2023-01-12 15:13:07\",\"2023-01-12 15:13:12\",\"2023-01-12 15:13:17\",\"2023-01-12 15:13:23\",\"2023-01-12 15:13:28\",\"2023-01-12 15:13:33\",\"2023-01-12 15:13:38\",\"2023-01-12 15:13:43\",\"2023-01-12 15:13:48\",\"2023-01-12 15:13:53\",\"2023-01-12 15:13:59\",\"2023-01-12 15:14:04\",\"2023-01-12 15:14:09\",\"2023-01-12 15:14:14\",\"2023-01-12 15:14:19\",\"2023-01-12 15:14:24\",\"2023-01-12 15:14:29\",\"2023-01-12 15:14:35\",\"2023-01-12 15:14:39\",\"2023-01-12 15:14:45\",\"2023-01-12 15:14:50\",\"2023-01-12 15:14:55\",\"2023-01-12 15:15:00\",\"2023-01-12 15:15:06\",\"2023-01-12 15:15:11\",\"2023-01-12 15:15:16\",\"2023-01-12 15:15:21\",\"2023-01-12 15:15:26\",\"2023-01-12 15:15:32\",\"2023-01-12 15:15:37\",\"2023-01-12 15:15:42\",\"2023-01-12 15:15:47\"],\"type\":\"candlestick\"}],                        {\"template\":{\"data\":{\"histogram2dcontour\":[{\"type\":\"histogram2dcontour\",\"colorbar\":{\"outlinewidth\":0,\"ticks\":\"\"},\"colorscale\":[[0.0,\"#0d0887\"],[0.1111111111111111,\"#46039f\"],[0.2222222222222222,\"#7201a8\"],[0.3333333333333333,\"#9c179e\"],[0.4444444444444444,\"#bd3786\"],[0.5555555555555556,\"#d8576b\"],[0.6666666666666666,\"#ed7953\"],[0.7777777777777778,\"#fb9f3a\"],[0.8888888888888888,\"#fdca26\"],[1.0,\"#f0f921\"]]}],\"choropleth\":[{\"type\":\"choropleth\",\"colorbar\":{\"outlinewidth\":0,\"ticks\":\"\"}}],\"histogram2d\":[{\"type\":\"histogram2d\",\"colorbar\":{\"outlinewidth\":0,\"ticks\":\"\"},\"colorscale\":[[0.0,\"#0d0887\"],[0.1111111111111111,\"#46039f\"],[0.2222222222222222,\"#7201a8\"],[0.3333333333333333,\"#9c179e\"],[0.4444444444444444,\"#bd3786\"],[0.5555555555555556,\"#d8576b\"],[0.6666666666666666,\"#ed7953\"],[0.7777777777777778,\"#fb9f3a\"],[0.8888888888888888,\"#fdca26\"],[1.0,\"#f0f921\"]]}],\"heatmap\":[{\"type\":\"heatmap\",\"colorbar\":{\"outlinewidth\":0,\"ticks\":\"\"},\"colorscale\":[[0.0,\"#0d0887\"],[0.1111111111111111,\"#46039f\"],[0.2222222222222222,\"#7201a8\"],[0.3333333333333333,\"#9c179e\"],[0.4444444444444444,\"#bd3786\"],[0.5555555555555556,\"#d8576b\"],[0.6666666666666666,\"#ed7953\"],[0.7777777777777778,\"#fb9f3a\"],[0.8888888888888888,\"#fdca26\"],[1.0,\"#f0f921\"]]}],\"heatmapgl\":[{\"type\":\"heatmapgl\",\"colorbar\":{\"outlinewidth\":0,\"ticks\":\"\"},\"colorscale\":[[0.0,\"#0d0887\"],[0.1111111111111111,\"#46039f\"],[0.2222222222222222,\"#7201a8\"],[0.3333333333333333,\"#9c179e\"],[0.4444444444444444,\"#bd3786\"],[0.5555555555555556,\"#d8576b\"],[0.6666666666666666,\"#ed7953\"],[0.7777777777777778,\"#fb9f3a\"],[0.8888888888888888,\"#fdca26\"],[1.0,\"#f0f921\"]]}],\"contourcarpet\":[{\"type\":\"contourcarpet\",\"colorbar\":{\"outlinewidth\":0,\"ticks\":\"\"}}],\"contour\":[{\"type\":\"contour\",\"colorbar\":{\"outlinewidth\":0,\"ticks\":\"\"},\"colorscale\":[[0.0,\"#0d0887\"],[0.1111111111111111,\"#46039f\"],[0.2222222222222222,\"#7201a8\"],[0.3333333333333333,\"#9c179e\"],[0.4444444444444444,\"#bd3786\"],[0.5555555555555556,\"#d8576b\"],[0.6666666666666666,\"#ed7953\"],[0.7777777777777778,\"#fb9f3a\"],[0.8888888888888888,\"#fdca26\"],[1.0,\"#f0f921\"]]}],\"surface\":[{\"type\":\"surface\",\"colorbar\":{\"outlinewidth\":0,\"ticks\":\"\"},\"colorscale\":[[0.0,\"#0d0887\"],[0.1111111111111111,\"#46039f\"],[0.2222222222222222,\"#7201a8\"],[0.3333333333333333,\"#9c179e\"],[0.4444444444444444,\"#bd3786\"],[0.5555555555555556,\"#d8576b\"],[0.6666666666666666,\"#ed7953\"],[0.7777777777777778,\"#fb9f3a\"],[0.8888888888888888,\"#fdca26\"],[1.0,\"#f0f921\"]]}],\"mesh3d\":[{\"type\":\"mesh3d\",\"colorbar\":{\"outlinewidth\":0,\"ticks\":\"\"}}],\"scatter\":[{\"fillpattern\":{\"fillmode\":\"overlay\",\"size\":10,\"solidity\":0.2},\"type\":\"scatter\"}],\"parcoords\":[{\"type\":\"parcoords\",\"line\":{\"colorbar\":{\"outlinewidth\":0,\"ticks\":\"\"}}}],\"scatterpolargl\":[{\"type\":\"scatterpolargl\",\"marker\":{\"colorbar\":{\"outlinewidth\":0,\"ticks\":\"\"}}}],\"bar\":[{\"error_x\":{\"color\":\"#2a3f5f\"},\"error_y\":{\"color\":\"#2a3f5f\"},\"marker\":{\"line\":{\"color\":\"#E5ECF6\",\"width\":0.5},\"pattern\":{\"fillmode\":\"overlay\",\"size\":10,\"solidity\":0.2}},\"type\":\"bar\"}],\"scattergeo\":[{\"type\":\"scattergeo\",\"marker\":{\"colorbar\":{\"outlinewidth\":0,\"ticks\":\"\"}}}],\"scatterpolar\":[{\"type\":\"scatterpolar\",\"marker\":{\"colorbar\":{\"outlinewidth\":0,\"ticks\":\"\"}}}],\"histogram\":[{\"marker\":{\"pattern\":{\"fillmode\":\"overlay\",\"size\":10,\"solidity\":0.2}},\"type\":\"histogram\"}],\"scattergl\":[{\"type\":\"scattergl\",\"marker\":{\"colorbar\":{\"outlinewidth\":0,\"ticks\":\"\"}}}],\"scatter3d\":[{\"type\":\"scatter3d\",\"line\":{\"colorbar\":{\"outlinewidth\":0,\"ticks\":\"\"}},\"marker\":{\"colorbar\":{\"outlinewidth\":0,\"ticks\":\"\"}}}],\"scattermapbox\":[{\"type\":\"scattermapbox\",\"marker\":{\"colorbar\":{\"outlinewidth\":0,\"ticks\":\"\"}}}],\"scatterternary\":[{\"type\":\"scatterternary\",\"marker\":{\"colorbar\":{\"outlinewidth\":0,\"ticks\":\"\"}}}],\"scattercarpet\":[{\"type\":\"scattercarpet\",\"marker\":{\"colorbar\":{\"outlinewidth\":0,\"ticks\":\"\"}}}],\"carpet\":[{\"aaxis\":{\"endlinecolor\":\"#2a3f5f\",\"gridcolor\":\"white\",\"linecolor\":\"white\",\"minorgridcolor\":\"white\",\"startlinecolor\":\"#2a3f5f\"},\"baxis\":{\"endlinecolor\":\"#2a3f5f\",\"gridcolor\":\"white\",\"linecolor\":\"white\",\"minorgridcolor\":\"white\",\"startlinecolor\":\"#2a3f5f\"},\"type\":\"carpet\"}],\"table\":[{\"cells\":{\"fill\":{\"color\":\"#EBF0F8\"},\"line\":{\"color\":\"white\"}},\"header\":{\"fill\":{\"color\":\"#C8D4E3\"},\"line\":{\"color\":\"white\"}},\"type\":\"table\"}],\"barpolar\":[{\"marker\":{\"line\":{\"color\":\"#E5ECF6\",\"width\":0.5},\"pattern\":{\"fillmode\":\"overlay\",\"size\":10,\"solidity\":0.2}},\"type\":\"barpolar\"}],\"pie\":[{\"automargin\":true,\"type\":\"pie\"}]},\"layout\":{\"autotypenumbers\":\"strict\",\"colorway\":[\"#636efa\",\"#EF553B\",\"#00cc96\",\"#ab63fa\",\"#FFA15A\",\"#19d3f3\",\"#FF6692\",\"#B6E880\",\"#FF97FF\",\"#FECB52\"],\"font\":{\"color\":\"#2a3f5f\"},\"hovermode\":\"closest\",\"hoverlabel\":{\"align\":\"left\"},\"paper_bgcolor\":\"white\",\"plot_bgcolor\":\"#E5ECF6\",\"polar\":{\"bgcolor\":\"#E5ECF6\",\"angularaxis\":{\"gridcolor\":\"white\",\"linecolor\":\"white\",\"ticks\":\"\"},\"radialaxis\":{\"gridcolor\":\"white\",\"linecolor\":\"white\",\"ticks\":\"\"}},\"ternary\":{\"bgcolor\":\"#E5ECF6\",\"aaxis\":{\"gridcolor\":\"white\",\"linecolor\":\"white\",\"ticks\":\"\"},\"baxis\":{\"gridcolor\":\"white\",\"linecolor\":\"white\",\"ticks\":\"\"},\"caxis\":{\"gridcolor\":\"white\",\"linecolor\":\"white\",\"ticks\":\"\"}},\"coloraxis\":{\"colorbar\":{\"outlinewidth\":0,\"ticks\":\"\"}},\"colorscale\":{\"sequential\":[[0.0,\"#0d0887\"],[0.1111111111111111,\"#46039f\"],[0.2222222222222222,\"#7201a8\"],[0.3333333333333333,\"#9c179e\"],[0.4444444444444444,\"#bd3786\"],[0.5555555555555556,\"#d8576b\"],[0.6666666666666666,\"#ed7953\"],[0.7777777777777778,\"#fb9f3a\"],[0.8888888888888888,\"#fdca26\"],[1.0,\"#f0f921\"]],\"sequentialminus\":[[0.0,\"#0d0887\"],[0.1111111111111111,\"#46039f\"],[0.2222222222222222,\"#7201a8\"],[0.3333333333333333,\"#9c179e\"],[0.4444444444444444,\"#bd3786\"],[0.5555555555555556,\"#d8576b\"],[0.6666666666666666,\"#ed7953\"],[0.7777777777777778,\"#fb9f3a\"],[0.8888888888888888,\"#fdca26\"],[1.0,\"#f0f921\"]],\"diverging\":[[0,\"#8e0152\"],[0.1,\"#c51b7d\"],[0.2,\"#de77ae\"],[0.3,\"#f1b6da\"],[0.4,\"#fde0ef\"],[0.5,\"#f7f7f7\"],[0.6,\"#e6f5d0\"],[0.7,\"#b8e186\"],[0.8,\"#7fbc41\"],[0.9,\"#4d9221\"],[1,\"#276419\"]]},\"xaxis\":{\"gridcolor\":\"white\",\"linecolor\":\"white\",\"ticks\":\"\",\"title\":{\"standoff\":15},\"zerolinecolor\":\"white\",\"automargin\":true,\"zerolinewidth\":2},\"yaxis\":{\"gridcolor\":\"white\",\"linecolor\":\"white\",\"ticks\":\"\",\"title\":{\"standoff\":15},\"zerolinecolor\":\"white\",\"automargin\":true,\"zerolinewidth\":2},\"scene\":{\"xaxis\":{\"backgroundcolor\":\"#E5ECF6\",\"gridcolor\":\"white\",\"linecolor\":\"white\",\"showbackground\":true,\"ticks\":\"\",\"zerolinecolor\":\"white\",\"gridwidth\":2},\"yaxis\":{\"backgroundcolor\":\"#E5ECF6\",\"gridcolor\":\"white\",\"linecolor\":\"white\",\"showbackground\":true,\"ticks\":\"\",\"zerolinecolor\":\"white\",\"gridwidth\":2},\"zaxis\":{\"backgroundcolor\":\"#E5ECF6\",\"gridcolor\":\"white\",\"linecolor\":\"white\",\"showbackground\":true,\"ticks\":\"\",\"zerolinecolor\":\"white\",\"gridwidth\":2}},\"shapedefaults\":{\"line\":{\"color\":\"#2a3f5f\"}},\"annotationdefaults\":{\"arrowcolor\":\"#2a3f5f\",\"arrowhead\":0,\"arrowwidth\":1},\"geo\":{\"bgcolor\":\"white\",\"landcolor\":\"#E5ECF6\",\"subunitcolor\":\"white\",\"showland\":true,\"showlakes\":true,\"lakecolor\":\"white\"},\"title\":{\"x\":0.05},\"mapbox\":{\"style\":\"light\"}}}},                        {\"responsive\": true}                    ).then(function(){\n",
       "                            \n",
       "var gd = document.getElementById('155690c5-7de2-4a36-8b75-f25761e17939');\n",
       "var x = new MutationObserver(function (mutations, observer) {{\n",
       "        var display = window.getComputedStyle(gd).display;\n",
       "        if (!display || display === 'none') {{\n",
       "            console.log([gd, 'removed!']);\n",
       "            Plotly.purge(gd);\n",
       "            observer.disconnect();\n",
       "        }}\n",
       "}});\n",
       "\n",
       "// Listen for the removal of the full notebook cells\n",
       "var notebookContainer = gd.closest('#notebook-container');\n",
       "if (notebookContainer) {{\n",
       "    x.observe(notebookContainer, {childList: true});\n",
       "}}\n",
       "\n",
       "// Listen for the clearing of the current output cell\n",
       "var outputEl = gd.closest('.output');\n",
       "if (outputEl) {{\n",
       "    x.observe(outputEl, {childList: true});\n",
       "}}\n",
       "\n",
       "                        })                };                });            </script>        </div>"
      ]
     },
     "metadata": {},
     "output_type": "display_data"
    }
   ],
   "source": [
    "fig = go.Figure(data=[go.Candlestick(x=df_1['Date'],\n",
    "                open=df_1['open'],\n",
    "                high=df_1['high'],\n",
    "                low=df_1['low'],\n",
    "                close=df_1['close'])])\n",
    "\n",
    "fig.show()"
   ]
  },
  {
   "cell_type": "code",
   "execution_count": 45,
   "id": "4110895f",
   "metadata": {},
   "outputs": [
    {
     "data": {
      "text/html": [
       "<div>\n",
       "<style scoped>\n",
       "    .dataframe tbody tr th:only-of-type {\n",
       "        vertical-align: middle;\n",
       "    }\n",
       "\n",
       "    .dataframe tbody tr th {\n",
       "        vertical-align: top;\n",
       "    }\n",
       "\n",
       "    .dataframe thead th {\n",
       "        text-align: right;\n",
       "    }\n",
       "</style>\n",
       "<table border=\"1\" class=\"dataframe\">\n",
       "  <thead>\n",
       "    <tr style=\"text-align: right;\">\n",
       "      <th></th>\n",
       "      <th>timestamp</th>\n",
       "      <th>index</th>\n",
       "      <th>ohlc</th>\n",
       "    </tr>\n",
       "  </thead>\n",
       "  <tbody>\n",
       "    <tr>\n",
       "      <th>0</th>\n",
       "      <td>2023-01-12 14:51:54</td>\n",
       "      <td>close</td>\n",
       "      <td>17895.70</td>\n",
       "    </tr>\n",
       "    <tr>\n",
       "      <th>1</th>\n",
       "      <td>2023-01-12 14:51:54</td>\n",
       "      <td>high</td>\n",
       "      <td>17945.80</td>\n",
       "    </tr>\n",
       "    <tr>\n",
       "      <th>2</th>\n",
       "      <td>2023-01-12 14:51:54</td>\n",
       "      <td>low</td>\n",
       "      <td>17761.65</td>\n",
       "    </tr>\n",
       "    <tr>\n",
       "      <th>3</th>\n",
       "      <td>2023-01-12 14:51:54</td>\n",
       "      <td>open</td>\n",
       "      <td>17920.85</td>\n",
       "    </tr>\n",
       "  </tbody>\n",
       "</table>\n",
       "</div>"
      ],
      "text/plain": [
       "             timestamp  index      ohlc\n",
       "0  2023-01-12 14:51:54  close  17895.70\n",
       "1  2023-01-12 14:51:54   high  17945.80\n",
       "2  2023-01-12 14:51:54    low  17761.65\n",
       "3  2023-01-12 14:51:54   open  17920.85"
      ]
     },
     "execution_count": 45,
     "metadata": {},
     "output_type": "execute_result"
    }
   ],
   "source": []
  },
  {
   "cell_type": "code",
   "execution_count": 41,
   "id": "e309801c",
   "metadata": {},
   "outputs": [],
   "source": [
    "start_dt = '2022-01-01'\n",
    "end_dt = '2022-10-31'"
   ]
  },
  {
   "cell_type": "code",
   "execution_count": 1,
   "id": "cb0dd689",
   "metadata": {},
   "outputs": [],
   "source": [
    "# for tf in tqdm(timerframe_list[0:1]):\n",
    "#     print(tf)\n",
    "#     comp_df = pd.DataFrame()\n",
    "#     for ist in tqdm(inst_filter.instrument_token):\n",
    "#         df = pd.DataFrame(pd.date_range(start_dt,end_dt)).rename(columns={0:'start_dt'})\n",
    "#         df['end_dt'] = df.shift(-1)\n",
    "#         df = df[df.index %2 == 0]\n",
    "#         df.dropna(inplace = True)\n",
    "#         try:\n",
    "#             if tf == 'day':\n",
    "#                 temp = pd.DataFrame(kite.historical_data(ist,pd.to_datetime(start_dt),pd.to_datetime(end_dt),tf))\n",
    "#                 temp['company'] = ist\n",
    "#                 comp_df = comp_df.append(temp)\n",
    "#             else:        \n",
    "#                 for r,c in df.iterrows():\n",
    "#                     temp = pd.DataFrame(kite.historical_data(ist,c.start_dt,c.end_dt,tf))\n",
    "#                     temp['company'] = ist\n",
    "#                     comp_df = comp_df.append(temp)\n",
    "#         except:\n",
    "#             print(f\"error in {inst}\")\n",
    "#             continue\n",
    "#     table = pa.Table.from_pandas(comp_df)\n",
    "#     pq.write_to_dataset(table,root_path = f\"historical_data/{tf}/\",partition_cols=['company'],use_threads=True)  \n",
    "#     break\n",
    "# df_log = pd.DataFrame([[start_dt,end_dt,datetime.datetime.now(),tf]], columns = ['min_dt',\"max_dt\",'time','level'])\n",
    "# log_table = pa.Table.from_pandas(comp_df)\n",
    "# pq.write_to_dataset(log_table, root_path = 'log/')"
   ]
  },
  {
   "cell_type": "code",
   "execution_count": 45,
   "id": "8413b2a0",
   "metadata": {},
   "outputs": [],
   "source": [
    "df = pd.read_parquet('historical_data/day/').sort_values('date')"
   ]
  },
  {
   "cell_type": "code",
   "execution_count": 48,
   "id": "cee14789",
   "metadata": {},
   "outputs": [
    {
     "data": {
      "text/plain": [
       "<matplotlib.axes._subplots.AxesSubplot at 0x13c5b6160>"
      ]
     },
     "execution_count": 48,
     "metadata": {},
     "output_type": "execute_result"
    },
    {
     "data": {
      "image/png": "[encoded data removed]",
      "text/plain": [
       "<Figure size 640x480 with 1 Axes>"
      ]
     },
     "metadata": {},
     "output_type": "display_data"
    }
   ],
   "source": [
    "df.plot(x = 'date', y = \"close\", kind = 'scatter')"
   ]
  },
  {
   "cell_type": "code",
   "execution_count": 9,
   "id": "c0b00711",
   "metadata": {},
   "outputs": [],
   "source": [
    "# %%time\n",
    "# import pandas as pd\n",
    "# import pyarrow.parquet\n",
    "\n",
    "# dfall = pd.read_parquet(\n",
    "#             'historical_data/minute/', engine=\"pyarrow\",  use_threads=8\n",
    "#         )"
   ]
  },
  {
   "cell_type": "code",
   "execution_count": 1,
   "id": "9a17684a",
   "metadata": {},
   "outputs": [],
   "source": [
    "#%%\n",
    "import numpy as np\n",
    "import pandas as pd\n",
    "from kite_trade import *\n",
    "import os\n",
    "# import ta\n",
    "from tqdm import tqdm\n",
    "import util_fun as uf\n",
    "from enctoken import get_kite\n",
    "kite = get_kite()\n"
   ]
  },
  {
   "cell_type": "code",
   "execution_count": 3,
   "id": "64896e1c",
   "metadata": {},
   "outputs": [
    {
     "name": "stderr",
     "output_type": "stream",
     "text": [
      "  0%|          | 0/478 [00:00<?, ?it/s]"
     ]
    },
    {
     "name": "stdout",
     "output_type": "stream",
     "text": [
      "ABB 3329\n"
     ]
    },
    {
     "data": {
      "application/vnd.jupyter.widget-view+json": {
       "model_id": "a5af6fe1e1a94ae0ab301cf4651c2bdc",
       "version_major": 2,
       "version_minor": 0
      },
      "text/plain": [
       "Pandas Apply:   0%|          | 0/62 [00:00<?, ?it/s]"
      ]
     },
     "metadata": {},
     "output_type": "display_data"
    },
    {
     "name": "stderr",
     "output_type": "stream",
     "text": [
      "  0%|          | 1/478 [00:29<3:55:31, 29.63s/it]"
     ]
    },
    {
     "name": "stdout",
     "output_type": "stream",
     "text": [
      "[]\n"
     ]
    },
    {
     "name": "stderr",
     "output_type": "stream",
     "text": [
      "\n"
     ]
    }
   ],
   "source": [
    "\n",
    "# import dask.dataframe as dd\n",
    "\n",
    "# %%\n",
    "timerframe_list = [\n",
    "\"day\",\n",
    "\"minute\",\n",
    " \"3minute\",\n",
    " \"5minute\",\n",
    " \"10minute\",\n",
    " \"15minute\",\n",
    " \"30minute\",\n",
    " \"60minute\",]\n",
    "\n",
    "i=0\n",
    "error_list = []\n",
    "# instument in nse\n",
    "inst = pd.DataFrame(kite.instruments(\"NSE\"))\n",
    "inst_filter = inst.query('(name != \"\")').copy()\n",
    "inst_filter.rename(columns = {\"tradingsymbol\":'Symbol'},inplace = True)\n",
    "# inst_filter.query(\"Symbol == 'HDFCBANK'\")\n",
    "\n",
    "nifty_500 = pd.read_csv('../data/ind_nifty500list.csv')\n",
    "nifty_500 = nifty_500.merge(inst_filter, on = 'Symbol')\n",
    "inst_dict = dict(zip(nifty_500.Symbol, nifty_500.instrument_token))\n",
    "\n",
    "start_dt = '2018-01-01'\n",
    "end_dt = '2023-02-27'\n",
    "time_frame = 'day'\n",
    "for symbol, instument in tqdm(inst_dict.items()):\n",
    "    if i :\n",
    "        print(symbol, instument)\n",
    "        try:\n",
    "            df_day = uf.get_data_parllel(kite, instument, time_frame , start_dt,end_dt)\n",
    "            directory = f'../data/historical/{time_frame}/{symbol}'\n",
    "            if not os.path.exists(directory):\n",
    "                os.makedirs(directory)\n",
    "            df_day.to_parquet(f'{directory}/part0.parquet')\n",
    "            break\n",
    "        except:\n",
    "            print(instument)\n",
    "            error_list.append(instument)\n",
    "\n",
    "    i += 1\n",
    "    \n",
    "print(error_list)\n",
    "    # break\n",
    "          \n",
    "# %%\n"
   ]
  },
  {
   "cell_type": "code",
   "execution_count": 4,
   "id": "bcf02b38",
   "metadata": {},
   "outputs": [
    {
     "data": {
      "text/html": [
       "<div>\n",
       "<style scoped>\n",
       "    .dataframe tbody tr th:only-of-type {\n",
       "        vertical-align: middle;\n",
       "    }\n",
       "\n",
       "    .dataframe tbody tr th {\n",
       "        vertical-align: top;\n",
       "    }\n",
       "\n",
       "    .dataframe thead th {\n",
       "        text-align: right;\n",
       "    }\n",
       "</style>\n",
       "<table border=\"1\" class=\"dataframe\">\n",
       "  <thead>\n",
       "    <tr style=\"text-align: right;\">\n",
       "      <th></th>\n",
       "      <th>Open</th>\n",
       "      <th>High</th>\n",
       "      <th>Low</th>\n",
       "      <th>Close</th>\n",
       "      <th>Volume</th>\n",
       "    </tr>\n",
       "    <tr>\n",
       "      <th>Date</th>\n",
       "      <th></th>\n",
       "      <th></th>\n",
       "      <th></th>\n",
       "      <th></th>\n",
       "      <th></th>\n",
       "    </tr>\n",
       "  </thead>\n",
       "  <tbody>\n",
       "    <tr>\n",
       "      <th>2018-01-01 00:00:00+05:30</th>\n",
       "      <td>1104.05</td>\n",
       "      <td>1104.80</td>\n",
       "      <td>1086.90</td>\n",
       "      <td>1094.40</td>\n",
       "      <td>57194</td>\n",
       "    </tr>\n",
       "    <tr>\n",
       "      <th>2018-01-02 00:00:00+05:30</th>\n",
       "      <td>1094.65</td>\n",
       "      <td>1114.05</td>\n",
       "      <td>1088.45</td>\n",
       "      <td>1094.80</td>\n",
       "      <td>80467</td>\n",
       "    </tr>\n",
       "    <tr>\n",
       "      <th>2018-01-03 00:00:00+05:30</th>\n",
       "      <td>1095.45</td>\n",
       "      <td>1113.80</td>\n",
       "      <td>1095.45</td>\n",
       "      <td>1105.95</td>\n",
       "      <td>73500</td>\n",
       "    </tr>\n",
       "    <tr>\n",
       "      <th>2018-01-04 00:00:00+05:30</th>\n",
       "      <td>1110.30</td>\n",
       "      <td>1133.70</td>\n",
       "      <td>1106.40</td>\n",
       "      <td>1120.70</td>\n",
       "      <td>197390</td>\n",
       "    </tr>\n",
       "    <tr>\n",
       "      <th>2018-01-05 00:00:00+05:30</th>\n",
       "      <td>1119.70</td>\n",
       "      <td>1140.00</td>\n",
       "      <td>1118.10</td>\n",
       "      <td>1122.10</td>\n",
       "      <td>126813</td>\n",
       "    </tr>\n",
       "    <tr>\n",
       "      <th>...</th>\n",
       "      <td>...</td>\n",
       "      <td>...</td>\n",
       "      <td>...</td>\n",
       "      <td>...</td>\n",
       "      <td>...</td>\n",
       "    </tr>\n",
       "    <tr>\n",
       "      <th>2023-02-21 00:00:00+05:30</th>\n",
       "      <td>3195.65</td>\n",
       "      <td>3207.25</td>\n",
       "      <td>3145.00</td>\n",
       "      <td>3169.40</td>\n",
       "      <td>314522</td>\n",
       "    </tr>\n",
       "    <tr>\n",
       "      <th>2023-02-22 00:00:00+05:30</th>\n",
       "      <td>3169.95</td>\n",
       "      <td>3188.90</td>\n",
       "      <td>3129.30</td>\n",
       "      <td>3172.80</td>\n",
       "      <td>218407</td>\n",
       "    </tr>\n",
       "    <tr>\n",
       "      <th>2023-02-23 00:00:00+05:30</th>\n",
       "      <td>3178.00</td>\n",
       "      <td>3180.00</td>\n",
       "      <td>3122.10</td>\n",
       "      <td>3138.35</td>\n",
       "      <td>155736</td>\n",
       "    </tr>\n",
       "    <tr>\n",
       "      <th>2023-02-24 00:00:00+05:30</th>\n",
       "      <td>3154.00</td>\n",
       "      <td>3174.00</td>\n",
       "      <td>3132.10</td>\n",
       "      <td>3142.00</td>\n",
       "      <td>141718</td>\n",
       "    </tr>\n",
       "    <tr>\n",
       "      <th>2023-02-27 00:00:00+05:30</th>\n",
       "      <td>3149.70</td>\n",
       "      <td>3179.00</td>\n",
       "      <td>3053.10</td>\n",
       "      <td>3108.05</td>\n",
       "      <td>220001</td>\n",
       "    </tr>\n",
       "  </tbody>\n",
       "</table>\n",
       "<p>1319 rows × 5 columns</p>\n",
       "</div>"
      ],
      "text/plain": [
       "                              Open     High      Low    Close  Volume\n",
       "Date                                                                 \n",
       "2018-01-01 00:00:00+05:30  1104.05  1104.80  1086.90  1094.40   57194\n",
       "2018-01-02 00:00:00+05:30  1094.65  1114.05  1088.45  1094.80   80467\n",
       "2018-01-03 00:00:00+05:30  1095.45  1113.80  1095.45  1105.95   73500\n",
       "2018-01-04 00:00:00+05:30  1110.30  1133.70  1106.40  1120.70  197390\n",
       "2018-01-05 00:00:00+05:30  1119.70  1140.00  1118.10  1122.10  126813\n",
       "...                            ...      ...      ...      ...     ...\n",
       "2023-02-21 00:00:00+05:30  3195.65  3207.25  3145.00  3169.40  314522\n",
       "2023-02-22 00:00:00+05:30  3169.95  3188.90  3129.30  3172.80  218407\n",
       "2023-02-23 00:00:00+05:30  3178.00  3180.00  3122.10  3138.35  155736\n",
       "2023-02-24 00:00:00+05:30  3154.00  3174.00  3132.10  3142.00  141718\n",
       "2023-02-27 00:00:00+05:30  3149.70  3179.00  3053.10  3108.05  220001\n",
       "\n",
       "[1319 rows x 5 columns]"
      ]
     },
     "execution_count": 4,
     "metadata": {},
     "output_type": "execute_result"
    }
   ],
   "source": [
    "df_day"
   ]
  },
  {
   "cell_type": "markdown",
   "id": "c6cf4850",
   "metadata": {},
   "source": [
    "### parllel processing"
   ]
  },
  {
   "cell_type": "code",
   "execution_count": 12,
   "id": "24be498d",
   "metadata": {},
   "outputs": [],
   "source": [
    "import multiprocessing\n",
    "import time\n",
    "import defs\n",
    "from tqdm import tqdm\n",
    "multiprocessing.cpu_count()\n",
    "\n",
    "from pandas.tseries.offsets import MonthEnd\n",
    "from datetime import timedelta"
   ]
  },
  {
   "cell_type": "code",
   "execution_count": 11,
   "id": "a0abd1ba",
   "metadata": {},
   "outputs": [],
   "source": [
    "years_st = ['2016-01-01','2017-01-01','2018-01-01','2019-01-01','2020-01-01','2021-01-01','2022-01-01',]\n",
    "years_end = ['2016-12-31','2017-12-31','2018-12-31','2019-12-31','2020-12-31','2021-12-31','2022-12-31',]\n",
    "timerframe_list = [\n",
    "\"day\",\n",
    "\"minute\",\n",
    " \"3minute\",\n",
    " \"5minute\",\n",
    " \"10minute\",\n",
    " \"15minute\",\n",
    " \"30minute\",\n",
    " \"60minute\",]"
   ]
  },
  {
   "cell_type": "code",
   "execution_count": 12,
   "id": "d1498176",
   "metadata": {},
   "outputs": [
    {
     "name": "stdout",
     "output_type": "stream",
     "text": [
      "2020-01-01 2020-12-31\n",
      "3minute\n"
     ]
    },
    {
     "name": "stderr",
     "output_type": "stream",
     "text": [
      "100%|█████████████████████████████████████████| 498/498 [16:10<00:00,  1.95s/it]\n"
     ]
    },
    {
     "name": "stdout",
     "output_type": "stream",
     "text": [
      "2021-01-01 2021-12-31\n",
      "3minute\n"
     ]
    },
    {
     "name": "stderr",
     "output_type": "stream",
     "text": [
      "100%|█████████████████████████████████████████| 498/498 [17:15<00:00,  2.08s/it]\n"
     ]
    },
    {
     "name": "stdout",
     "output_type": "stream",
     "text": [
      "2022-01-01 2022-12-31\n",
      "3minute\n"
     ]
    },
    {
     "name": "stderr",
     "output_type": "stream",
     "text": [
      "100%|█████████████████████████████████████████| 498/498 [16:48<00:00,  2.03s/it]\n"
     ]
    }
   ],
   "source": [
    "for yr in range(len(years_st)):\n",
    "    start_date = years_st[yr]\n",
    "    end_date = years_end[yr]\n",
    "    print(start_date,end_date)\n",
    "    \n",
    "    for tf in (timerframe_list[0:1]):   \n",
    "        print(tf)\n",
    "        comp_df = pd.DataFrame()\n",
    "        for ist in tqdm(inst_filter.instrument_token):\n",
    "            final_res = pd.DataFrame()\n",
    "            start_mth = pd.date_range(start_date, end_date,freq=\"MS\")\n",
    "\n",
    "            start_mth = pd.DataFrame(start_mth).rename(columns = {0:'start_dt'})\n",
    "            start_mth['end_dt'] = pd.to_datetime(start_mth.start_dt, format=\"%Y%m\") + MonthEnd(0)\n",
    "            start_mth['tf'] = tf\n",
    "            start_mth['inst'] = ist\n",
    "            start_mth['kite'] = kite\n",
    "\n",
    "            pool = multiprocessing.Pool()\n",
    "            args_lst = start_mth.values.tolist()\n",
    "            async_result = [pool.apply_async(defs.temp_fun1, args=(i[0], i[1], i[2], i[3], i[4])) for i in args_lst]\n",
    "#             time.sleep(1)\n",
    "            results = pd.concat([(ar.get()) for ar in async_result] )\n",
    "\n",
    "            results['company'] = ist\n",
    "            comp_df = comp_df.append(results)\n",
    "        table = pa.Table.from_pandas(comp_df)\n",
    "        pq.write_to_dataset(table,root_path = f\"historical_data/{tf}/\",partition_cols=['company'],use_threads=True)  \n",
    "        break\n",
    "    df_log = pd.DataFrame([[start_date,end_date,datetime.datetime.now(),tf]], columns = ['min_dt',\"max_dt\",'time','level'])\n",
    "    log_table = pa.Table.from_pandas(comp_df)\n",
    "    pq.write_to_dataset(log_table, root_path = 'log/')"
   ]
  },
  {
   "cell_type": "code",
   "execution_count": 13,
   "id": "a8e84191",
   "metadata": {},
   "outputs": [
    {
     "data": {
      "text/html": [
       "<div>\n",
       "<style scoped>\n",
       "    .dataframe tbody tr th:only-of-type {\n",
       "        vertical-align: middle;\n",
       "    }\n",
       "\n",
       "    .dataframe tbody tr th {\n",
       "        vertical-align: top;\n",
       "    }\n",
       "\n",
       "    .dataframe thead th {\n",
       "        text-align: right;\n",
       "    }\n",
       "</style>\n",
       "<table border=\"1\" class=\"dataframe\">\n",
       "  <thead>\n",
       "    <tr style=\"text-align: right;\">\n",
       "      <th></th>\n",
       "      <th>date</th>\n",
       "      <th>open</th>\n",
       "      <th>high</th>\n",
       "      <th>low</th>\n",
       "      <th>close</th>\n",
       "      <th>volume</th>\n",
       "      <th>company</th>\n",
       "    </tr>\n",
       "  </thead>\n",
       "  <tbody>\n",
       "    <tr>\n",
       "      <th>0</th>\n",
       "      <td>2022-01-03 09:15:00+05:30</td>\n",
       "      <td>25448.00</td>\n",
       "      <td>25448.00</td>\n",
       "      <td>25361.00</td>\n",
       "      <td>25401.85</td>\n",
       "      <td>31</td>\n",
       "      <td>121345</td>\n",
       "    </tr>\n",
       "    <tr>\n",
       "      <th>1</th>\n",
       "      <td>2022-01-03 09:16:00+05:30</td>\n",
       "      <td>25401.85</td>\n",
       "      <td>25439.80</td>\n",
       "      <td>25358.55</td>\n",
       "      <td>25371.55</td>\n",
       "      <td>16</td>\n",
       "      <td>121345</td>\n",
       "    </tr>\n",
       "    <tr>\n",
       "      <th>2</th>\n",
       "      <td>2022-01-03 09:17:00+05:30</td>\n",
       "      <td>25371.55</td>\n",
       "      <td>25439.95</td>\n",
       "      <td>25371.55</td>\n",
       "      <td>25439.95</td>\n",
       "      <td>12</td>\n",
       "      <td>121345</td>\n",
       "    </tr>\n",
       "    <tr>\n",
       "      <th>3</th>\n",
       "      <td>2022-01-03 09:18:00+05:30</td>\n",
       "      <td>25439.95</td>\n",
       "      <td>25498.95</td>\n",
       "      <td>25417.65</td>\n",
       "      <td>25450.75</td>\n",
       "      <td>10</td>\n",
       "      <td>121345</td>\n",
       "    </tr>\n",
       "    <tr>\n",
       "      <th>4</th>\n",
       "      <td>2022-01-03 09:19:00+05:30</td>\n",
       "      <td>25450.75</td>\n",
       "      <td>25611.95</td>\n",
       "      <td>25432.80</td>\n",
       "      <td>25607.05</td>\n",
       "      <td>12</td>\n",
       "      <td>121345</td>\n",
       "    </tr>\n",
       "    <tr>\n",
       "      <th>...</th>\n",
       "      <td>...</td>\n",
       "      <td>...</td>\n",
       "      <td>...</td>\n",
       "      <td>...</td>\n",
       "      <td>...</td>\n",
       "      <td>...</td>\n",
       "      <td>...</td>\n",
       "    </tr>\n",
       "    <tr>\n",
       "      <th>5205</th>\n",
       "      <td>2022-10-21 15:25:00+05:30</td>\n",
       "      <td>1711.95</td>\n",
       "      <td>1711.95</td>\n",
       "      <td>1710.00</td>\n",
       "      <td>1710.00</td>\n",
       "      <td>267</td>\n",
       "      <td>4514561</td>\n",
       "    </tr>\n",
       "    <tr>\n",
       "      <th>5206</th>\n",
       "      <td>2022-10-21 15:26:00+05:30</td>\n",
       "      <td>1710.00</td>\n",
       "      <td>1715.00</td>\n",
       "      <td>1710.00</td>\n",
       "      <td>1714.90</td>\n",
       "      <td>80</td>\n",
       "      <td>4514561</td>\n",
       "    </tr>\n",
       "    <tr>\n",
       "      <th>5207</th>\n",
       "      <td>2022-10-21 15:27:00+05:30</td>\n",
       "      <td>1714.90</td>\n",
       "      <td>1719.95</td>\n",
       "      <td>1710.05</td>\n",
       "      <td>1710.05</td>\n",
       "      <td>168</td>\n",
       "      <td>4514561</td>\n",
       "    </tr>\n",
       "    <tr>\n",
       "      <th>5208</th>\n",
       "      <td>2022-10-21 15:28:00+05:30</td>\n",
       "      <td>1710.05</td>\n",
       "      <td>1722.00</td>\n",
       "      <td>1704.00</td>\n",
       "      <td>1704.00</td>\n",
       "      <td>247</td>\n",
       "      <td>4514561</td>\n",
       "    </tr>\n",
       "    <tr>\n",
       "      <th>5209</th>\n",
       "      <td>2022-10-21 15:29:00+05:30</td>\n",
       "      <td>1703.55</td>\n",
       "      <td>1710.60</td>\n",
       "      <td>1701.00</td>\n",
       "      <td>1702.00</td>\n",
       "      <td>1012</td>\n",
       "      <td>4514561</td>\n",
       "    </tr>\n",
       "  </tbody>\n",
       "</table>\n",
       "<p>35935562 rows × 7 columns</p>\n",
       "</div>"
      ],
      "text/plain": [
       "                          date      open      high       low     close  \\\n",
       "0    2022-01-03 09:15:00+05:30  25448.00  25448.00  25361.00  25401.85   \n",
       "1    2022-01-03 09:16:00+05:30  25401.85  25439.80  25358.55  25371.55   \n",
       "2    2022-01-03 09:17:00+05:30  25371.55  25439.95  25371.55  25439.95   \n",
       "3    2022-01-03 09:18:00+05:30  25439.95  25498.95  25417.65  25450.75   \n",
       "4    2022-01-03 09:19:00+05:30  25450.75  25611.95  25432.80  25607.05   \n",
       "...                        ...       ...       ...       ...       ...   \n",
       "5205 2022-10-21 15:25:00+05:30   1711.95   1711.95   1710.00   1710.00   \n",
       "5206 2022-10-21 15:26:00+05:30   1710.00   1715.00   1710.00   1714.90   \n",
       "5207 2022-10-21 15:27:00+05:30   1714.90   1719.95   1710.05   1710.05   \n",
       "5208 2022-10-21 15:28:00+05:30   1710.05   1722.00   1704.00   1704.00   \n",
       "5209 2022-10-21 15:29:00+05:30   1703.55   1710.60   1701.00   1702.00   \n",
       "\n",
       "      volume  company  \n",
       "0         31   121345  \n",
       "1         16   121345  \n",
       "2         12   121345  \n",
       "3         10   121345  \n",
       "4         12   121345  \n",
       "...      ...      ...  \n",
       "5205     267  4514561  \n",
       "5206      80  4514561  \n",
       "5207     168  4514561  \n",
       "5208     247  4514561  \n",
       "5209    1012  4514561  \n",
       "\n",
       "[35935562 rows x 7 columns]"
      ]
     },
     "execution_count": 13,
     "metadata": {},
     "output_type": "execute_result"
    }
   ],
   "source": [
    "comp_df"
   ]
  },
  {
   "cell_type": "code",
   "execution_count": 13,
   "id": "e8ccf5bf",
   "metadata": {},
   "outputs": [
    {
     "data": {
      "text/html": [
       "<div>\n",
       "<style scoped>\n",
       "    .dataframe tbody tr th:only-of-type {\n",
       "        vertical-align: middle;\n",
       "    }\n",
       "\n",
       "    .dataframe tbody tr th {\n",
       "        vertical-align: top;\n",
       "    }\n",
       "\n",
       "    .dataframe thead th {\n",
       "        text-align: right;\n",
       "    }\n",
       "</style>\n",
       "<table border=\"1\" class=\"dataframe\">\n",
       "  <thead>\n",
       "    <tr style=\"text-align: right;\">\n",
       "      <th></th>\n",
       "      <th>date</th>\n",
       "      <th>open</th>\n",
       "      <th>high</th>\n",
       "      <th>low</th>\n",
       "      <th>close</th>\n",
       "      <th>volume</th>\n",
       "      <th>company</th>\n",
       "    </tr>\n",
       "  </thead>\n",
       "  <tbody>\n",
       "    <tr>\n",
       "      <th>0</th>\n",
       "      <td>2016-01-01 00:00:00+05:30</td>\n",
       "      <td>23.35</td>\n",
       "      <td>23.35</td>\n",
       "      <td>23.35</td>\n",
       "      <td>23.35</td>\n",
       "      <td>7000.0</td>\n",
       "      <td>1000449</td>\n",
       "    </tr>\n",
       "    <tr>\n",
       "      <th>1</th>\n",
       "      <td>2016-01-04 00:00:00+05:30</td>\n",
       "      <td>24.50</td>\n",
       "      <td>24.50</td>\n",
       "      <td>24.50</td>\n",
       "      <td>24.50</td>\n",
       "      <td>10.0</td>\n",
       "      <td>1000449</td>\n",
       "    </tr>\n",
       "    <tr>\n",
       "      <th>2</th>\n",
       "      <td>2016-01-05 00:00:00+05:30</td>\n",
       "      <td>25.70</td>\n",
       "      <td>25.70</td>\n",
       "      <td>25.70</td>\n",
       "      <td>25.70</td>\n",
       "      <td>5.0</td>\n",
       "      <td>1000449</td>\n",
       "    </tr>\n",
       "    <tr>\n",
       "      <th>3</th>\n",
       "      <td>2016-01-07 00:00:00+05:30</td>\n",
       "      <td>26.95</td>\n",
       "      <td>26.95</td>\n",
       "      <td>26.95</td>\n",
       "      <td>26.95</td>\n",
       "      <td>150.0</td>\n",
       "      <td>1000449</td>\n",
       "    </tr>\n",
       "    <tr>\n",
       "      <th>4</th>\n",
       "      <td>2016-01-08 00:00:00+05:30</td>\n",
       "      <td>28.25</td>\n",
       "      <td>28.25</td>\n",
       "      <td>28.25</td>\n",
       "      <td>28.25</td>\n",
       "      <td>100.0</td>\n",
       "      <td>1000449</td>\n",
       "    </tr>\n",
       "    <tr>\n",
       "      <th>...</th>\n",
       "      <td>...</td>\n",
       "      <td>...</td>\n",
       "      <td>...</td>\n",
       "      <td>...</td>\n",
       "      <td>...</td>\n",
       "      <td>...</td>\n",
       "      <td>...</td>\n",
       "    </tr>\n",
       "    <tr>\n",
       "      <th>242</th>\n",
       "      <td>2016-12-26 00:00:00+05:30</td>\n",
       "      <td>341.00</td>\n",
       "      <td>341.40</td>\n",
       "      <td>330.00</td>\n",
       "      <td>331.00</td>\n",
       "      <td>32160.0</td>\n",
       "      <td>999937</td>\n",
       "    </tr>\n",
       "    <tr>\n",
       "      <th>243</th>\n",
       "      <td>2016-12-27 00:00:00+05:30</td>\n",
       "      <td>334.95</td>\n",
       "      <td>336.50</td>\n",
       "      <td>330.95</td>\n",
       "      <td>335.50</td>\n",
       "      <td>22998.0</td>\n",
       "      <td>999937</td>\n",
       "    </tr>\n",
       "    <tr>\n",
       "      <th>244</th>\n",
       "      <td>2016-12-28 00:00:00+05:30</td>\n",
       "      <td>337.05</td>\n",
       "      <td>343.60</td>\n",
       "      <td>335.05</td>\n",
       "      <td>337.00</td>\n",
       "      <td>26620.0</td>\n",
       "      <td>999937</td>\n",
       "    </tr>\n",
       "    <tr>\n",
       "      <th>245</th>\n",
       "      <td>2016-12-29 00:00:00+05:30</td>\n",
       "      <td>336.05</td>\n",
       "      <td>349.50</td>\n",
       "      <td>334.55</td>\n",
       "      <td>344.40</td>\n",
       "      <td>47997.0</td>\n",
       "      <td>999937</td>\n",
       "    </tr>\n",
       "    <tr>\n",
       "      <th>246</th>\n",
       "      <td>2016-12-30 00:00:00+05:30</td>\n",
       "      <td>346.45</td>\n",
       "      <td>354.60</td>\n",
       "      <td>341.35</td>\n",
       "      <td>343.15</td>\n",
       "      <td>44861.0</td>\n",
       "      <td>999937</td>\n",
       "    </tr>\n",
       "  </tbody>\n",
       "</table>\n",
       "<p>313209 rows × 7 columns</p>\n",
       "</div>"
      ],
      "text/plain": [
       "                         date    open    high     low   close   volume  \\\n",
       "0   2016-01-01 00:00:00+05:30   23.35   23.35   23.35   23.35   7000.0   \n",
       "1   2016-01-04 00:00:00+05:30   24.50   24.50   24.50   24.50     10.0   \n",
       "2   2016-01-05 00:00:00+05:30   25.70   25.70   25.70   25.70      5.0   \n",
       "3   2016-01-07 00:00:00+05:30   26.95   26.95   26.95   26.95    150.0   \n",
       "4   2016-01-08 00:00:00+05:30   28.25   28.25   28.25   28.25    100.0   \n",
       "..                        ...     ...     ...     ...     ...      ...   \n",
       "242 2016-12-26 00:00:00+05:30  341.00  341.40  330.00  331.00  32160.0   \n",
       "243 2016-12-27 00:00:00+05:30  334.95  336.50  330.95  335.50  22998.0   \n",
       "244 2016-12-28 00:00:00+05:30  337.05  343.60  335.05  337.00  26620.0   \n",
       "245 2016-12-29 00:00:00+05:30  336.05  349.50  334.55  344.40  47997.0   \n",
       "246 2016-12-30 00:00:00+05:30  346.45  354.60  341.35  343.15  44861.0   \n",
       "\n",
       "     company  \n",
       "0    1000449  \n",
       "1    1000449  \n",
       "2    1000449  \n",
       "3    1000449  \n",
       "4    1000449  \n",
       "..       ...  \n",
       "242   999937  \n",
       "243   999937  \n",
       "244   999937  \n",
       "245   999937  \n",
       "246   999937  \n",
       "\n",
       "[313209 rows x 7 columns]"
      ]
     },
     "execution_count": 13,
     "metadata": {},
     "output_type": "execute_result"
    }
   ],
   "source": [
    "pd.read_parquet('historical_data/day/')"
   ]
  },
  {
   "cell_type": "code",
   "execution_count": null,
   "id": "ad92c50a",
   "metadata": {},
   "outputs": [],
   "source": []
  },
  {
   "cell_type": "code",
   "execution_count": null,
   "id": "59dd5b34",
   "metadata": {},
   "outputs": [],
   "source": []
  },
  {
   "cell_type": "code",
   "execution_count": null,
   "id": "b0b9e7de",
   "metadata": {},
   "outputs": [],
   "source": []
  },
  {
   "cell_type": "code",
   "execution_count": null,
   "id": "8013dc41",
   "metadata": {},
   "outputs": [],
   "source": []
  },
  {
   "cell_type": "code",
   "execution_count": 14,
   "id": "0a0e942d",
   "metadata": {},
   "outputs": [],
   "source": [
    "# def get_diffrent_time_data(instrument_token,start_dt, end_dt,interval):\n",
    "#     data = pd.DataFrame()\n",
    "#     range_of_date = pd.date_range(start_dt,end_dt)\n",
    "\n",
    "#     index_val_1 = [i for i in pd.Series(range_of_date).index if i%2 == 0]\n",
    "#     index_val_2 = [i for i in pd.Series(range_of_date).index if i%2 != 0]\n",
    "#     x = pd.Series(range_of_date).iloc[index_val_1].reset_index(drop = True)\n",
    "#     y = pd.Series(range_of_date).iloc[index_val_2].reset_index(drop = True)\n",
    "#     df_1 = pd.concat([x,y],axis = 1).rename(columns = {0:\"start_dt\",1:\"end_dt\"})\n",
    "#     df_1.start_dt = pd.to_datetime(df_1.start_dt)\n",
    "#     df_1.end_dt = pd.to_datetime(df_1.end_dt)\n",
    "#     df_1.dropna(inplace = True)\n",
    "    \n",
    "#     for r,c in df_1.iterrows():\n",
    "#         print(c.start_dt,c.end_dt)\n",
    "#         temp = pd.DataFrame(kite.historical_data(instrument_token,c.start_dt,c.end_dt,interval))\n",
    "# #     temp = pd.DataFrame(kite.historical_data(instrument_token,start_dt,end_dt,interval))\n",
    "#         data = data.append(temp)\n",
    "#     return data"
   ]
  },
  {
   "cell_type": "code",
   "execution_count": null,
   "id": "9ad778ad",
   "metadata": {},
   "outputs": [],
   "source": []
  },
  {
   "cell_type": "code",
   "execution_count": 15,
   "id": "1c6044b5",
   "metadata": {},
   "outputs": [],
   "source": [
    "# instrument_token = 6401\n",
    "# start_dt = datetime.datetime(2022,1,1)    # From last & days\n",
    "# end_dt = datetime.datetime.now()\n",
    "# interval = \"minute\"\n",
    "# data = get_diffrent_time_data(instrument_token,start_dt, end_dt,interval)\n",
    "# #     data.date = pd.to_datetime(data.date,unit = \"ms\")\n",
    "# # data.date = pd.to_datetime(pd.to_datetime(data.date).dt.date)\n",
    "# data.rename(columns = {'date': \"Date\"},inplace = True)\n",
    "# data.set_index('Date', inplace = True)\n",
    "# data.columns = ['Open','High','Low',\"Close\",\"Volumne\"]"
   ]
  },
  {
   "cell_type": "code",
   "execution_count": null,
   "id": "d417a29b",
   "metadata": {},
   "outputs": [],
   "source": []
  }
 ],
 "metadata": {
  "kernelspec": {
   "display_name": "py37",
   "language": "python",
   "name": "python3"
  },
  "language_info": {
   "codemirror_mode": {
    "name": "ipython",
    "version": 3
   },
   "file_extension": ".py",
   "mimetype": "text/x-python",
   "name": "python",
   "nbconvert_exporter": "python",
   "pygments_lexer": "ipython3",
   "version": "3.7.15"
  },
  "vscode": {
   "interpreter": {
    "hash": "97d50b693ffbaf6eb8807b14742d2feb502574f7e9d5678d8f7eb867bb49ea50"
   }
  }
 },
 "nbformat": 4,
 "nbformat_minor": 5
}
