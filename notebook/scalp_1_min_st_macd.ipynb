{
 "cells": [
  {
   "cell_type": "code",
   "execution_count": 1,
   "metadata": {},
   "outputs": [],
   "source": [
    "import pandas as pd\n",
    "import numpy as np\n",
    "from kite_trade import *\n",
    "from enctoken import get_kite\n",
    "kite = get_kite()\n",
    "import warnings\n",
    "warnings.filterwarnings(action = 'ignore')\n",
    "import time\n",
    "from IPython.display import clear_output\n",
    "import talib\n",
    "# from joblib import Parallel, delayed\n",
    "# from tqdm import tqdm\n",
    "# import xlwings\n",
    "# import datetime\n",
    "# import mibian\n",
    "# import swifter\n",
    "# from joblib import Parallel, delayed"
   ]
  },
  {
   "cell_type": "code",
   "execution_count": 3,
   "metadata": {},
   "outputs": [],
   "source": [
    "inst = pd.DataFrame(kite.instruments(\"NFO\"))\n",
    "inst_nse = pd.DataFrame(kite.instruments(\"NSE\"))"
   ]
  },
  {
   "cell_type": "code",
   "execution_count": 4,
   "metadata": {},
   "outputs": [],
   "source": [
    "nifty_token = 256265 # NIFTY 50\t\n",
    "expiry_day = 'NIFTY24215'\n",
    "\n",
    "expiry_march = (\n",
    "    inst[(inst.name == \"NIFTY\") & (inst.tradingsymbol.str.contains(expiry_day))]\n",
    "    # .query(\"(strike >= @lower_price )&( strike <= @upper_price)\")\n",
    "    # .assign(strike_type=lambda x: x[\"strike\"].astype(int).astype(str) + x[\"instrument_type\"])\n",
    ")"
   ]
  },
  {
   "cell_type": "code",
   "execution_count": null,
   "metadata": {},
   "outputs": [],
   "source": [
    "import time \n",
    "start_dt = '2024-02-07'\n",
    "end_dt = '2024-02-16'\n",
    "time_frame = 'minute'\n",
    "\n",
    "while True:\n",
    "    df = pd.DataFrame(kite.historical_data(nifty_token, from_date = start_dt, to_date = end_dt, interval = time_frame, continuous=False, oi=True))\n",
    "\n",
    "    # Stochastic Oscillator with specified settings\n",
    "    df['slowk'], df['slowd'] = talib.STOCH(df['high'], df['low'], df['close'],\n",
    "                                        fastk_period=7, slowk_period=3, slowk_matype=0,\n",
    "                                        slowd_period=3, slowd_matype=0)\n",
    "\n",
    "    # First MACD Indicator with specified settings\n",
    "    df['macd_13_21'], df['macdsignal_13_21'], df['macdhist_13_21'] = talib.MACD(df['close'],\n",
    "                                                                                fastperiod=13, slowperiod=21,\n",
    "                                                                                signalperiod=9)\n",
    "\n",
    "    # Second MACD Indicator with specified settings\n",
    "    df['macd_34_150'], df['macdsignal_34_150'], df['macdhist_34_150'] = talib.MACD(df['close'],\n",
    "                                                                                fastperiod=34, slowperiod=150,\n",
    "                                                                                signalperiod=9)\n",
    "    df.dropna(inplace=True)\n",
    "    # Calculate the crossover of slowk and slowd for Stochastic Oscillator\n",
    "    df['stoch_cross_up'] = ((df['slowk'] > df['slowd']) & (df['slowk'].shift(1) < df['slowd'].shift(1)))\n",
    "    df['stoch_cross_down'] = ((df['slowk'] < df['slowd']) & (df['slowk'].shift(1) > df['slowd'].shift(1)))\n",
    "\n",
    "    # Define the buy and sell conditions\n",
    "    buy_condition = ((df['macdhist_13_21'] < 0) & (df['macdhist_34_150'] > 0) &\n",
    "                    (df['stoch_cross_up']) & (df['slowk'] < 20) & (df['slowd'] < 20))\n",
    "\n",
    "    sell_condition = ((df['macdhist_13_21'] > 0) & (df['macdhist_34_150'] < 0) &\n",
    "                    (df['stoch_cross_down']) & (df['slowk'] > 80) & (df['slowd'] > 80))\n",
    "\n",
    "    # Add buy and sell signals to the dataframe\n",
    "    df['buy_signal'] = 0  # Initialize the column with zeros\n",
    "    df['sell_signal'] = 0  # Initialize the column with zeros\n",
    "\n",
    "    # If conditions are met, mark the signal\n",
    "    df.loc[buy_condition, 'buy_signal'] = 1\n",
    "    df.loc[sell_condition, 'sell_signal'] = 1\n",
    "\n",
    "    # Print the buy and sell signals on date 14th February 2024\n",
    "    df[\"date_only\"] = pd.to_datetime(df.date.dt.date)\n",
    "    df = df.query(\"date_only == '2024-02-15'\")\n",
    "    print(\"buy: \",df.query(\"buy_signal == 1 \"))\n",
    "    print(\"\\n\\n\")\n",
    "    print(\"sell: \",df.query(\"sell_signal == 1 \"))\n",
    "\n",
    "    time.sleep(60)\n",
    "    clear_output(wait=True)\n",
    "\n"
   ]
  },
  {
   "cell_type": "code",
   "execution_count": 10,
   "metadata": {},
   "outputs": [
    {
     "name": "stdout",
     "output_type": "stream",
     "text": [
      "CE buy and target 141.78 153.85999999999999\n",
      "PE  buy and target 151.98 182.28\n",
      "ce stop loss 132.04999999999998\n",
      "pe stop loss 141.54999999999998\n",
      "True True\n"
     ]
    }
   ],
   "source": [
    "import json\n",
    "import time\n",
    "\n",
    "while True:\n",
    "    # Load the configuration file\n",
    "    with open('config.json', 'r') as file:\n",
    "        config = json.load(file)\n",
    "\n",
    "    # Access the variables from the config\n",
    "    strike_price_ce = config[\"strike_price\"][\"ce\"]\n",
    "    strike_price_pe = config[\"strike_price\"][\"pe\"]\n",
    "    symbol_ce = f\"NFO:NIFTY24FEB{strike_price_ce}CE\"\n",
    "    symbol_pe = f\"NFO:NIFTY24FEB{strike_price_pe}PE\"\n",
    "\n",
    "    support_ce = config[\"support\"][\"ce\"]\n",
    "    support_pe = config[\"support\"][\"pe\"]\n",
    "    resistance_ce = config[\"resistance\"][\"ce\"]\n",
    "    resistance_pe = config[\"resistance\"][\"pe\"]\n",
    "\n",
    "    position_call = config[\"position\"][\"call\"]\n",
    "    position_put = config[\"position\"][\"put\"]\n",
    "    call_side = config[\"side\"][\"call\"]\n",
    "    put_side = config[\"side\"][\"put\"]\n",
    "    breakout = config[\"breakout\"]\n",
    "    position_put_breakout = config[\"position\"][\"put_breakout\"]\n",
    "    position_call_breakout = config[\"position\"][\"call_breakout\"]\n",
    "\n",
    "    range_ce = config[\"range\"][\"ce\"]\n",
    "    range_pe = config[\"range\"][\"pe\"]\n",
    "    stop_loss_ce = config[\"stop_loss\"][\"ce\"]\n",
    "    stop_loss_pe = config[\"stop_loss\"][\"pe\"]\n",
    "    breakout_target = config[\"breakout_target\"]\n",
    "    breakout_stop_loss = config[\"stop_loss\"][\"breakout\"]\n",
    "    sl_ce_hit = config[\"sl_hit\"][\"ce\"]\n",
    "    sl_pe_hit = config[\"sl_hit\"][\"pe\"]\n",
    "    \n",
    "\n",
    "\n",
    "    print(\"CE buy and target\",support_ce*(1+range_ce), resistance_ce*(1-range_ce),)\n",
    "    print(\"PE  buy and target\",support_pe*(1+range_pe), resistance_pe*(1-range_pe))\n",
    "    print(\"ce stop loss\",support_ce*(1-stop_loss_ce))\n",
    "    print(\"pe stop loss\",support_pe*(1-stop_loss_pe))\n",
    "    print(call_side, put_side)\n",
    "    time.sleep(5)\n",
    "    break"
   ]
  },
  {
   "cell_type": "code",
   "execution_count": null,
   "metadata": {},
   "outputs": [],
   "source": []
  }
 ],
 "metadata": {
  "kernelspec": {
   "display_name": "py37",
   "language": "python",
   "name": "python3"
  },
  "language_info": {
   "codemirror_mode": {
    "name": "ipython",
    "version": 3
   },
   "file_extension": ".py",
   "mimetype": "text/x-python",
   "name": "python",
   "nbconvert_exporter": "python",
   "pygments_lexer": "ipython3",
   "version": "3.7.15"
  }
 },
 "nbformat": 4,
 "nbformat_minor": 2
}
