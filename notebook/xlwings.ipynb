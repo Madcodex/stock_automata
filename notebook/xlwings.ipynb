{
 "cells": [
  {
   "cell_type": "code",
   "execution_count": null,
   "metadata": {},
   "outputs": [],
   "source": [
    "import pandas as pd\n",
    "import numpy as np\n",
    "import xlwings as xw"
   ]
  },
  {
   "cell_type": "code",
   "execution_count": null,
   "metadata": {},
   "outputs": [],
   "source": [
    "df = pd.read_excel(\"option_chain_bank.xlsx\")"
   ]
  },
  {
   "cell_type": "code",
   "execution_count": null,
   "metadata": {},
   "outputs": [],
   "source": [
    "## 4 main object -> App, Book, Sheet, Range, chart , shape\n",
    "wb = xw.Book()\n",
    "ws = wb.sheets[\"Sheet1\"]\n",
    "#checks that wb.sheets[0] equals ws\n",
    "print(ws == wb.sheets[0])\n",
    "ws.name = \"first_sheet\""
   ]
  },
  {
   "cell_type": "code",
   "execution_count": null,
   "metadata": {},
   "outputs": [],
   "source": [
    "expiry_date = \"2023-03-23\"\n",
    "lower_sp = 38000\n",
    "upper_sp = 43000\n",
    "\n",
    "req_cols = ['strikePrice','expiryDate','openInterest','pchangeinOpenInterest','changeinOpenInterest','instrumentType']\n",
    "df_filter = df[req_cols]\n",
    "df_total = df.groupby(['expiryDate','instrumentType']).agg(\n",
    "    {\n",
    "    'openInterest': sum \n",
    "    }\n",
    "    ).reset_index()\n",
    "df_filter = df_filter.append(df_total)\n",
    "df_filter['strikePrice'].fillna(0, inplace=True)"
   ]
  },
  {
   "cell_type": "code",
   "execution_count": null,
   "metadata": {},
   "outputs": [],
   "source": [
    "\n",
    "df_filter = (\n",
    "    df_filter.query('instrumentType == \"CE\"')\n",
    "    .merge(df_filter.query('instrumentType == \"PE\"'),\n",
    "    how = 'inner',\n",
    "    on = ['strikePrice','expiryDate'],\n",
    "    suffixes=('_CE','_PE')\n",
    "    )\n",
    "    .drop(['instrumentType_CE','instrumentType_PE'],axis = 1)\n",
    "    .query(f'expiryDate == \"{expiry_date}\"')\n",
    "    .query(f'(strikePrice == 0) | ((strikePrice >={lower_sp}) & (strikePrice <= {upper_sp}))' )\n",
    ")\n",
    "df_filter.sort_values('strikePrice',ascending=True,inplace=True)\n",
    "\n",
    "df_filter.reset_index(drop=True, inplace=True)\n",
    "df_filter['overall_pchange_CE'] = (df_filter['openInterest_CE']/ df_filter['openInterest_CE'][0]) * 100\n",
    "df_filter['overall_pchange_PE'] = (df_filter['openInterest_PE']/ df_filter['openInterest_PE'][0]) * 100\n",
    "df_filter = df_filter[['expiryDate', 'openInterest_CE','changeinOpenInterest_CE',\n",
    "       'pchangeinOpenInterest_CE','overall_pchange_CE' ,\n",
    "       'strikePrice','overall_pchange_PE','pchangeinOpenInterest_PE',\n",
    "       'openInterest_PE', 'changeinOpenInterest_PE'\n",
    "       ]]\n",
    "df_filter = df_filter.round(2)\n",
    "df_filter= df_filter.loc[1:,]"
   ]
  },
  {
   "cell_type": "code",
   "execution_count": null,
   "metadata": {},
   "outputs": [],
   "source": [
    "ws.clear_contents()\n",
    "ws.range(\"A1\").options(index=False).value = df_filter"
   ]
  },
  {
   "cell_type": "code",
   "execution_count": null,
   "metadata": {},
   "outputs": [],
   "source": []
  }
 ],
 "metadata": {
  "kernelspec": {
   "display_name": "py37",
   "language": "python",
   "name": "python3"
  },
  "language_info": {
   "codemirror_mode": {
    "name": "ipython",
    "version": 3
   },
   "file_extension": ".py",
   "mimetype": "text/x-python",
   "name": "python",
   "nbconvert_exporter": "python",
   "pygments_lexer": "ipython3",
   "version": "3.7.15"
  },
  "orig_nbformat": 4
 },
 "nbformat": 4,
 "nbformat_minor": 2
}
