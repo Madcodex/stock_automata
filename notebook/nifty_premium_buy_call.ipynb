{
 "cells": [
  {
   "cell_type": "code",
   "execution_count": 2,
   "metadata": {},
   "outputs": [
    {
     "name": "stdout",
     "output_type": "stream",
     "text": [
      "The autoreload extension is already loaded. To reload it, use:\n",
      "  %reload_ext autoreload\n"
     ]
    }
   ],
   "source": [
    "%load_ext autoreload\n",
    "%autoreload 2\n",
    "import pandas as pd\n",
    "import numpy as np\n",
    "from kite_trade import *\n",
    "from enctoken import get_kite\n",
    "kite = get_kite()\n",
    "import warnings\n",
    "warnings.filterwarnings(action = 'ignore')\n",
    "import time\n",
    "from IPython.display import clear_output\n",
    "# from joblib import Parallel, delayed\n",
    "# from tqdm import tqdm\n",
    "# import xlwings\n",
    "# import datetime\n",
    "# import mibian\n",
    "# import swifter\n",
    "# from joblib import Parallel, delayed\n",
    "# kite.ltp(\"NFO:NIFTY24FEB22200CE\")\n",
    "from nifty_utils import *"
   ]
  },
  {
   "cell_type": "markdown",
   "metadata": {},
   "source": [
    "## trade"
   ]
  },
  {
   "cell_type": "code",
   "execution_count": null,
   "metadata": {},
   "outputs": [],
   "source": [
    "config = load_config()\n",
    "\n",
    "position_call = config[\"position\"][\"call\"]\n",
    "position_put = config[\"position\"][\"put\"]\n",
    "position_put_breakout = config[\"position\"][\"put_breakout\"]\n",
    "position_call_breakout = config[\"position\"][\"call_breakout\"]\n",
    "sl_ce_hit = config[\"sl_hit\"][\"ce\"]\n",
    "sl_pe_hit = config[\"sl_hit\"][\"pe\"]\n",
    "\n",
    "(strike_price_ce, strike_price_pe, symbol_ce, symbol_pe, support_ce, support_pe, resistance_ce, \n",
    "    resistance_pe, call_side, put_side, breakout, range_ce, range_pe, stop_loss_ce, stop_loss_pe, breakout_target, breakout_stop_loss,\n",
    "        ) = variable_assign()\n",
    "\n",
    "print(\"CE buy and target\",support_ce*(1+range_ce), resistance_ce*(1-range_ce),)\n",
    "print(\"PE  buy and target\",support_pe*(1+range_pe), resistance_pe*(1-range_pe))\n",
    "print(\"ce stop loss\",support_ce*(1-stop_loss_ce))\n",
    "print(\"pe stop loss\",support_pe*(1-stop_loss_pe))\n",
    "\n",
    "while True:\n",
    "    try:\n",
    "        (strike_price_ce, strike_price_pe, symbol_ce, symbol_pe, support_ce, support_pe, resistance_ce, \n",
    "         resistance_pe, call_side, put_side, breakout, range_ce, range_pe, stop_loss_ce, stop_loss_pe, breakout_target, breakout_stop_loss,\n",
    "             ) = variable_assign()\n",
    "        \n",
    "        # Fetch current price for the call option\n",
    "        price_ce = kite.ltp(symbol_ce)[symbol_ce]['last_price']\n",
    "        price_pe = kite.ltp(symbol_pe)[symbol_pe]['last_price']\n",
    "        print(f\"CE: {price_ce}, PE: {price_pe}\")\n",
    "        # buy call\n",
    "        if call_side:\n",
    "            if ( price_ce <= support_ce*(1+range_ce) and position_call == 0 \n",
    "                    and position_put == 0 and position_call_breakout == 0 and position_put_breakout == 0 and sl_ce_hit == 0):\n",
    "                buy_sell_order(kite,strike_price = strike_price_ce,ce_pe = \"CE\", price = None,trans_type=\"BUY\")  \n",
    "                position_call = 1\n",
    "                print(f\"Bought call at {price_ce}\",\"target and stop loss\",resistance_ce*(1-range_ce), support_ce*(1-stop_loss_ce))\n",
    "\n",
    "            # profit book\n",
    "            if position_call == 1 and price_ce > resistance_ce*(1-range_ce):\n",
    "                buy_sell_order(kite,strike_price = strike_price_ce,ce_pe = \"CE\", price = None,trans_type=\"SELL\") \n",
    "                position_call = 0\n",
    "                print(f\"Sold call at {price_ce}\")\n",
    "\n",
    "            # stop loss\n",
    "            if position_call == 1 and price_ce <= support_ce*(1-stop_loss_ce):\n",
    "                buy_sell_order(kite,strike_price = strike_price_ce,ce_pe = \"CE\", price = None,trans_type=\"SELL\") \n",
    "                position_call = 0\n",
    "                sl_ce_hit = 1\n",
    "                print(f\"Sold call at {price_ce}\")\n",
    "                # breakout\n",
    "            if breakout and sl_ce_hit ==1 and price_pe >= (resistance_pe + 3):\n",
    "                buy_sell_order(kite,strike_price = strike_price_pe,ce_pe = \"PE\", price = None,trans_type=\"BUY\") \n",
    "                position_put_breakout = 1\n",
    "                breakout_price_pe = price_pe\n",
    "                print(f\"Bought put at breakout  {price_pe}\",\"target and stop loss\", breakout_price_pe*(1+breakout_target), breakout_price_pe*(1-breakout_stop_loss))\n",
    "\n",
    "\n",
    "            # breakout position SL hit\n",
    "            if position_put_breakout == 1 and price_pe < breakout_price_pe*(1-breakout_stop_loss):\n",
    "                buy_sell_order(kite,strike_price = strike_price_pe,ce_pe = \"PE\", price = None,trans_type=\"SELL\")\n",
    "                break\n",
    "            \n",
    "            # breakout position profit book\n",
    "            if position_put_breakout ==1 and price_pe > breakout_price_pe*(1+breakout_target):\n",
    "                buy_sell_order(kite,strike_price = strike_price_pe,ce_pe = \"PE\", price = None,trans_type=\"SELL\")\n",
    "                break\n",
    "                \n",
    "        \n",
    "        # buy put\n",
    "        if put_side:\n",
    "            if price_pe <= support_pe*(1+range_pe)and position_call == 0 and position_put == 0 and position_call_breakout == 0 and position_put_breakout == 0 and sl_pe_hit == 0:\n",
    "                buy_sell_order(kite,strike_price = strike_price_pe,ce_pe = \"PE\", price = None,trans_type=\"BUY\")  \n",
    "                position_put = 1\n",
    "                print(f\"Bought put at {price_pe}\",\"target and stop loss\", resistance_pe*(1-range_pe), support_ce*(1-stop_loss_pe))\n",
    "            \n",
    "            # profit book\n",
    "            if position_put == 1 and price_pe > resistance_pe*(1-range_pe):\n",
    "                buy_sell_order(kite,strike_price = strike_price_pe,ce_pe = \"PE\", price = None,trans_type=\"SELL\")\n",
    "                position_put = 0\n",
    "                print(f\"Sold put at {price_pe}\")\n",
    "\n",
    "            \n",
    "            # stop loss\n",
    "            if position_put == 1 and price_pe <= support_pe*(1-stop_loss_pe):\n",
    "                buy_sell_order(kite,strike_price = strike_price_pe,ce_pe = \"PE\", price = None,trans_type=\"SELL\") \n",
    "                position_put = 0\n",
    "                sl_pe_hit = 1\n",
    "                print(f\"Sold put at {price_pe}\")\n",
    "                # breakout\n",
    "\n",
    "        if breakout and sl_pe_hit == 1 and price_ce >= (resistance_ce + 3) and position_call == 0 and position_put == 0 and position_call_breakout == 0 and position_put_breakout == 0:\n",
    "            buy_sell_order(kite,strike_price = strike_price_ce,ce_pe = \"CE\", price = None,trans_type=\"BUY\")\n",
    "            position_call_breakout = 1\n",
    "            breakout_price_ce= price_ce\n",
    "            print(f\"Bought CALL at breakout  {price_ce}\",\"target and stop loss\", breakout_price_ce*(1+breakout_target), breakout_price_ce*(1-breakout_stop_loss))\n",
    "\n",
    "\n",
    "        # breakout position SL hit\n",
    "        if position_put_breakout == 1 and price_ce < breakout_price_ce*(1-breakout_stop_loss):\n",
    "            buy_sell_order(kite,strike_price = strike_price_ce,ce_pe = \"CE\", price = None,trans_type=\"SELL\")\n",
    "            break\n",
    "        \n",
    "        # breakout position profit book\n",
    "        if position_put_breakout ==1 and price_ce > breakout_price_ce*(1+breakout_target):\n",
    "            buy_sell_order(kite,strike_price = strike_price_ce,ce_pe = \"CE\", price = None,trans_type=\"SELL\")\n",
    "            break\n",
    "                            \n",
    "        time.sleep(5)\n",
    "    except Exception as e:\n",
    "        print(e)\n",
    "        time.sleep(10)\n",
    "            # Bought call at 141.5 target and stop loss 161.7 132.04999999999998"
   ]
  },
  {
   "cell_type": "markdown",
   "metadata": {},
   "source": [
    "# backtesting "
   ]
  },
  {
   "cell_type": "code",
   "execution_count": null,
   "metadata": {},
   "outputs": [],
   "source": [
    "# identify the support and resistance\n",
    "# filter the time \n",
    "# run the for loop with all condition "
   ]
  },
  {
   "cell_type": "code",
   "execution_count": null,
   "metadata": {},
   "outputs": [
    {
     "data": {
      "text/html": [
       "<div>\n",
       "<style scoped>\n",
       "    .dataframe tbody tr th:only-of-type {\n",
       "        vertical-align: middle;\n",
       "    }\n",
       "\n",
       "    .dataframe tbody tr th {\n",
       "        vertical-align: top;\n",
       "    }\n",
       "\n",
       "    .dataframe thead th {\n",
       "        text-align: right;\n",
       "    }\n",
       "</style>\n",
       "<table border=\"1\" class=\"dataframe\">\n",
       "  <thead>\n",
       "    <tr style=\"text-align: right;\">\n",
       "      <th></th>\n",
       "      <th>date</th>\n",
       "      <th>open</th>\n",
       "      <th>high</th>\n",
       "      <th>low</th>\n",
       "      <th>close</th>\n",
       "      <th>volume</th>\n",
       "      <th>oi</th>\n",
       "      <th>strike_type</th>\n",
       "    </tr>\n",
       "  </thead>\n",
       "  <tbody>\n",
       "    <tr>\n",
       "      <th>0</th>\n",
       "      <td>2024-02-15 10:19:00+05:30</td>\n",
       "      <td>2405.0</td>\n",
       "      <td>2405.0</td>\n",
       "      <td>2405.0</td>\n",
       "      <td>2405.0</td>\n",
       "      <td>0.0</td>\n",
       "      <td>50.0</td>\n",
       "      <td>19500CE</td>\n",
       "    </tr>\n",
       "    <tr>\n",
       "      <th>1</th>\n",
       "      <td>2024-02-15 10:20:00+05:30</td>\n",
       "      <td>2405.0</td>\n",
       "      <td>2405.0</td>\n",
       "      <td>2405.0</td>\n",
       "      <td>2405.0</td>\n",
       "      <td>0.0</td>\n",
       "      <td>50.0</td>\n",
       "      <td>19500CE</td>\n",
       "    </tr>\n",
       "  </tbody>\n",
       "</table>\n",
       "</div>"
      ],
      "text/plain": [
       "                       date    open    high     low   close  volume    oi  \\\n",
       "0 2024-02-15 10:19:00+05:30  2405.0  2405.0  2405.0  2405.0     0.0  50.0   \n",
       "1 2024-02-15 10:20:00+05:30  2405.0  2405.0  2405.0  2405.0     0.0  50.0   \n",
       "\n",
       "  strike_type  \n",
       "0     19500CE  \n",
       "1     19500CE  "
      ]
     },
     "execution_count": 37,
     "metadata": {},
     "output_type": "execute_result"
    }
   ],
   "source": []
  },
  {
   "cell_type": "code",
   "execution_count": null,
   "metadata": {},
   "outputs": [],
   "source": [
    "\n",
    "\n",
    "def buy_sell_order(strike_price, ce_pe, price, trans_type, quantity=50):\n",
    "    global overall_profit_loss, trade_count, positions\n",
    "    key = f\"{strike_price}_{ce_pe}\"\n",
    "    \n",
    "    if trans_type == \"BUY\":\n",
    "        # Record the buy transaction\n",
    "        trade_count += 1\n",
    "        positions[key] = [price, quantity]\n",
    "        # print(f\"Bought {quantity} {strike_price} at {price}\")\n",
    "    \n",
    "    elif trans_type == \"SELL\":\n",
    "        # Calculate profit or loss from the sell transaction if the position exists\n",
    "        if key in positions:\n",
    "            buy_price, buy_quantity = positions[key]\n",
    "            profit_loss = (price - buy_price) * min(quantity, buy_quantity)\n",
    "            overall_profit_loss += profit_loss\n",
    "            print(f\"Sold {quantity} {ce_pe} at {price}, Profit/Loss: {profit_loss}\")\n",
    "            # Adjust the quantity or remove the position if completely sold\n",
    "            if quantity >= buy_quantity:\n",
    "                del positions[key]\n",
    "            else:\n",
    "                positions[key][1] -= quantity\n",
    "        else:\n",
    "            print(\"No position to sell\")\n",
    "    \n",
    "    else:\n",
    "        print(\"Invalid transaction type\")\n",
    "\n",
    "# Example usage:\n",
    "# buy_sell_order(strike_price=100, ce_pe=\"CE\", price=10, trans_type=\"BUY\", quantity=10)\n",
    "# buy_sell_order(strike_price=100, ce_pe=\"CE\", price=12, trans_type=\"SELL\", quantity=5)\n",
    "# buy_sell_order(strike_price=100, ce_pe=\"CE\", price=8, trans_type=\"SELL\", quantity=5)\n",
    "\n"
   ]
  },
  {
   "cell_type": "code",
   "execution_count": null,
   "metadata": {},
   "outputs": [],
   "source": []
  },
  {
   "cell_type": "code",
   "execution_count": null,
   "metadata": {},
   "outputs": [
    {
     "name": "stdout",
     "output_type": "stream",
     "text": [
      "\n",
      "2024-02-16 12:35:00+05:30 Bought call at 132.3 stop_Loss and target: 120.75 145.5\n",
      "\n",
      "Sold 50 CE at 147.0, Profit/Loss: 734.9999999999994\n",
      "Sold call at 147.0 2024-02-16 12:54:00+05:30\n",
      "\n",
      "2024-02-16 12:55:00+05:30 Bought put at 165.3 stop_Loss and target: 167.79000000000002 180.42\n",
      "\n",
      "Sold 50 PE at 165.2, Profit/Loss: -5.000000000001137\n",
      "Sold put at 165.2 2024-02-16 13:00:00+05:30\n",
      "\n",
      "Bought call at breakout  147.0 2024-02-16 13:00:00+05:30 stop loss and target 139.65 191.1\n",
      "\n",
      "2024-02-16 13:31:00+05:30 Bought call at 130.9 stop_Loss and target: 120.75 145.5\n",
      "\n",
      "Sold 50 CE at 130.1, Profit/Loss: -40.00000000000057\n",
      "overall profit 689.9999999999977 4\n"
     ]
    }
   ],
   "source": [
    "df_expiry_hist_data = pd.read_parquet('../data/nifty_expiry_22feb2024_min.parquet')\n",
    "df_expiry_hist_data.head(2)\n",
    "\n",
    "sp_call =  df_expiry_hist_data.query(\"strike_type == '22100CE'\")\n",
    "sp_put =  df_expiry_hist_data.query(\"strike_type == '22100PE'\")\n",
    "\n",
    "positions = {}  # Keeps track of positions bought: {strike_price+ce_pe: [price, quantity]}\n",
    "overall_profit_loss = 0  # Tracks overall profit or loss from all transactions\n",
    "trade_count = 0\n",
    "\n",
    "# Assuming 'kite' object is already defined and has necessary methods to fetch option prices\n",
    "strike_price_ce = 22100\n",
    "strike_price_pe = 22100\n",
    "symbol_ce = f\"NFO:NIFTY24222{strike_price_ce}CE\"\n",
    "symbol_pe = f\"NFO:NIFTY24222{strike_price_pe}PE\"\n",
    "\n",
    "support_ce = 129\n",
    "resistance_ce = 150\n",
    "support_pe = 172\n",
    "resistance_pe = 186\n",
    "\n",
    "position_call  = 0 \n",
    "position_put = 0 \n",
    "call_side = True\n",
    "put_side= True\n",
    "breakout = True\n",
    "position_put_breakout = 0\n",
    "position_call_breakout = 0\n",
    "exit_outside_loop = False\n",
    "\n",
    "sp_call[\"date_only\"] = pd.to_datetime(sp_call.date.dt.date)\n",
    "sp_call = sp_call[sp_call.date_only == pd.to_datetime('2024-02-16')]\n",
    "# filter time between 9:20 to 3:25 for date column\n",
    "sp_call = sp_call[(sp_call['date'].dt.time >= pd.to_datetime('12:35').time())\n",
    "                   & (sp_call['date'].dt.time <= pd.to_datetime('15:25').time())]\n",
    "\n",
    "for r,c in sp_call.iterrows():\n",
    "    # Fetch current price for the call option\n",
    "   \n",
    "    for price_point in ['low', 'high', 'open', 'close']:\n",
    "        price_ce = c[price_point]\n",
    "        price_pe = sp_put[sp_put['date'] == c['date']][price_point].values[0]\n",
    "\n",
    "        # print(f\"CE: {price_ce}, PE: {price_pe}\")\n",
    "        # buy call\n",
    "        if call_side:\n",
    "            if price_ce <= support_ce*1.03 and position_call == 0 and position_put == 0 and position_put_breakout == 0:\n",
    "                buy_sell_order(strike_price = strike_price_ce,ce_pe = \"CE\", price = price_ce,trans_type=\"BUY\") \n",
    "                position_call = 1\n",
    "                print()\n",
    "                print(c['date'],f\"Bought call at {price_ce}\",\"stop_Loss and target:\", support_ce-((resistance_ce*0.97 - support_ce)/2), resistance_ce*0.97)\n",
    "                print()\n",
    "                break\n",
    "\n",
    "            # profit book\n",
    "            if position_call == 1 and price_ce > resistance_ce*0.97  and position_put_breakout == 0:\n",
    "                buy_sell_order(strike_price = strike_price_ce,ce_pe = \"CE\", price = price_ce,trans_type=\"SELL\") \n",
    "                position_call = 0\n",
    "                print(f\"Sold call at {price_ce}\",c['date'])\n",
    "                break\n",
    "\n",
    "            # stop loss\n",
    "            if position_call == 1 and price_ce <= support_ce-((resistance_ce*0.97 - support_ce)/2)  and position_put_breakout == 0:\n",
    "                buy_sell_order(strike_price = strike_price_ce,ce_pe = \"CE\", price = price_ce,trans_type=\"SELL\") \n",
    "                position_call = 0\n",
    "                print(f\"Sold call at {price_ce}\",c['date'])\n",
    "                print()\n",
    "                # breakout\n",
    "                if breakout:\n",
    "                    buy_sell_order(strike_price = strike_price_pe,ce_pe = \"PE\", price = price_pe,trans_type=\"BUY\") \n",
    "                    position_put_breakout = 1\n",
    "                    breakout_price_pe = price_pe\n",
    "                    print(f\"Bought put at breakout  {price_pe}\",c['date'], \"stop loss and target\", breakout_price_pe*.95, breakout_price_pe*1.3)\n",
    "                    break\n",
    "    \n",
    "\n",
    "\n",
    "            # breakout position SL hit\n",
    "            if position_put_breakout == 1 and price_pe < breakout_price_pe*.90:\n",
    "                print(\"sl\")\n",
    "                buy_sell_order(strike_price = strike_price_pe,ce_pe = \"PE\", price = price_pe,trans_type=\"SELL\")\n",
    "                exit_outside_loop = True\n",
    "                break\n",
    "            \n",
    "            # breakout position profit book\n",
    "            if position_put_breakout ==1 and price_pe > breakout_price_pe*1.3:\n",
    "                print('target')\n",
    "                buy_sell_order(strike_price = strike_price_pe,ce_pe = \"PE\", price = price_pe,trans_type=\"SELL\")\n",
    "                exit_outside_loop = True\n",
    "                break\n",
    "    \n",
    "                \n",
    "        if put_side:\n",
    "            if price_pe <= support_pe*1.03 and position_call == 0 and position_put == 0 and position_call_breakout == 0:\n",
    "                    buy_sell_order(strike_price = strike_price_pe,ce_pe = \"PE\", price = price_pe,trans_type=\"BUY\") \n",
    "                    position_put = 1\n",
    "                    print()\n",
    "                    print(c['date'],f\"Bought put at {price_pe}\",\"stop_Loss and target:\", support_pe-((resistance_pe*0.97 - support_pe)/2), resistance_pe*0.97)\n",
    "                    print()\n",
    "                    break\n",
    "\n",
    "            # profit book\n",
    "            if position_put == 1 and price_pe > resistance_pe*0.97  and position_call_breakout == 0:\n",
    "                buy_sell_order(strike_price = strike_price_pe,ce_pe = \"PE\", price = price_pe,trans_type=\"SELL\") \n",
    "                position_put = 0\n",
    "                print(f\"Sold put at {price_pe}\",c['date'])\n",
    "                break\n",
    "\n",
    "            # stop loss\n",
    "            if position_put == 1 and price_pe <= support_pe-((resistance_pe*0.97 - support_pe)/2)  and position_call_breakout == 0:\n",
    "                buy_sell_order(strike_price = strike_price_pe,ce_pe = \"PE\", price = price_pe,trans_type=\"SELL\") \n",
    "                position_put = 0\n",
    "                print(f\"Sold put at {price_pe}\",c['date'])\n",
    "                print()\n",
    "                # breakout\n",
    "                if breakout:\n",
    "                    buy_sell_order(strike_price = strike_price_ce,ce_pe = \"CE\", price = price_ce,trans_type=\"BUY\") \n",
    "                    position_call_breakout = 1\n",
    "                    breakout_price_ce = price_ce\n",
    "                    print(f\"Bought call at breakout  {price_ce}\",c['date'], \"stop loss and target\", breakout_price_ce*.95, breakout_price_ce*1.3)\n",
    "                    break\n",
    "\n",
    "\n",
    "\n",
    "            # breakout position SL hit\n",
    "            if position_call_breakout == 1 and price_ce < breakout_price_ce*.90:\n",
    "                buy_sell_order(strike_price = strike_price_ce,ce_pe = \"CE\", price = price_ce,trans_type=\"SELL\")\n",
    "                exit_outside_loop = True\n",
    "                break\n",
    "            \n",
    "            # breakout position profit book\n",
    "            if position_call_breakout ==1 and price_ce > breakout_price_ce*1.3:\n",
    "                buy_sell_order(strike_price = strike_price_ce,ce_pe = \"CE\", price = price_ce,trans_type=\"SELL\")\n",
    "                exit_outside_loop = True\n",
    "                break\n",
    "    if exit_outside_loop:\n",
    "        break\n",
    "        \n",
    "                            \n",
    "        # time.sleep(1)\n",
    "print(\"overall profit\",overall_profit_loss,trade_count)      "
   ]
  },
  {
   "cell_type": "code",
   "execution_count": null,
   "metadata": {},
   "outputs": [],
   "source": [
    "xx"
   ]
  },
  {
   "cell_type": "markdown",
   "metadata": {},
   "source": [
    "# pattern "
   ]
  },
  {
   "cell_type": "code",
   "execution_count": 20,
   "metadata": {},
   "outputs": [],
   "source": [
    "df_expiry_hist_data = pd.read_parquet('../data/nifty_expiry_22feb2024_5min.parquet')\n",
    "df_expiry_hist_data.head(2)\n",
    "\n",
    "sp_call =  df_expiry_hist_data.query(\"strike_type == '22100CE'\")\n",
    "sp_put =  df_expiry_hist_data.query(\"strike_type == '22100PE'\")\n",
    "sp_call[\"date_only\"] = pd.to_datetime(sp_call.date.dt.date)\n",
    "sp_call = sp_call[sp_call.date_only == pd.to_datetime('2024-02-21')]\n",
    "# sp_call.rename(columns = {'open': 'Open', 'high': 'High', 'low': 'Low', 'close': 'Close', 'volume': 'Volume'}, inplace = True)"
   ]
  },
  {
   "cell_type": "code",
   "execution_count": 11,
   "metadata": {},
   "outputs": [
    {
     "data": {
      "text/html": [
       "<div>\n",
       "<style scoped>\n",
       "    .dataframe tbody tr th:only-of-type {\n",
       "        vertical-align: middle;\n",
       "    }\n",
       "\n",
       "    .dataframe tbody tr th {\n",
       "        vertical-align: top;\n",
       "    }\n",
       "\n",
       "    .dataframe thead th {\n",
       "        text-align: right;\n",
       "    }\n",
       "</style>\n",
       "<table border=\"1\" class=\"dataframe\">\n",
       "  <thead>\n",
       "    <tr style=\"text-align: right;\">\n",
       "      <th></th>\n",
       "      <th>date</th>\n",
       "      <th>open</th>\n",
       "      <th>high</th>\n",
       "      <th>low</th>\n",
       "      <th>close</th>\n",
       "      <th>volume</th>\n",
       "      <th>oi</th>\n",
       "      <th>strike_type</th>\n",
       "      <th>date_only</th>\n",
       "    </tr>\n",
       "  </thead>\n",
       "  <tbody>\n",
       "    <tr>\n",
       "      <th>300</th>\n",
       "      <td>2024-02-21 09:15:00+05:30</td>\n",
       "      <td>184.05</td>\n",
       "      <td>187.55</td>\n",
       "      <td>163.40</td>\n",
       "      <td>170.00</td>\n",
       "      <td>1499000.0</td>\n",
       "      <td>4805450.0</td>\n",
       "      <td>22100CE</td>\n",
       "      <td>2024-02-21</td>\n",
       "    </tr>\n",
       "    <tr>\n",
       "      <th>301</th>\n",
       "      <td>2024-02-21 09:20:00+05:30</td>\n",
       "      <td>170.00</td>\n",
       "      <td>174.00</td>\n",
       "      <td>156.65</td>\n",
       "      <td>166.75</td>\n",
       "      <td>1024300.0</td>\n",
       "      <td>4895500.0</td>\n",
       "      <td>22100CE</td>\n",
       "      <td>2024-02-21</td>\n",
       "    </tr>\n",
       "    <tr>\n",
       "      <th>302</th>\n",
       "      <td>2024-02-21 09:25:00+05:30</td>\n",
       "      <td>167.45</td>\n",
       "      <td>172.15</td>\n",
       "      <td>154.00</td>\n",
       "      <td>163.25</td>\n",
       "      <td>960900.0</td>\n",
       "      <td>4941550.0</td>\n",
       "      <td>22100CE</td>\n",
       "      <td>2024-02-21</td>\n",
       "    </tr>\n",
       "    <tr>\n",
       "      <th>303</th>\n",
       "      <td>2024-02-21 09:30:00+05:30</td>\n",
       "      <td>162.25</td>\n",
       "      <td>165.60</td>\n",
       "      <td>151.55</td>\n",
       "      <td>163.70</td>\n",
       "      <td>887250.0</td>\n",
       "      <td>5054500.0</td>\n",
       "      <td>22100CE</td>\n",
       "      <td>2024-02-21</td>\n",
       "    </tr>\n",
       "    <tr>\n",
       "      <th>304</th>\n",
       "      <td>2024-02-21 09:35:00+05:30</td>\n",
       "      <td>162.75</td>\n",
       "      <td>183.15</td>\n",
       "      <td>161.85</td>\n",
       "      <td>176.60</td>\n",
       "      <td>1363650.0</td>\n",
       "      <td>5010850.0</td>\n",
       "      <td>22100CE</td>\n",
       "      <td>2024-02-21</td>\n",
       "    </tr>\n",
       "  </tbody>\n",
       "</table>\n",
       "</div>"
      ],
      "text/plain": [
       "                         date    open    high     low   close     volume  \\\n",
       "300 2024-02-21 09:15:00+05:30  184.05  187.55  163.40  170.00  1499000.0   \n",
       "301 2024-02-21 09:20:00+05:30  170.00  174.00  156.65  166.75  1024300.0   \n",
       "302 2024-02-21 09:25:00+05:30  167.45  172.15  154.00  163.25   960900.0   \n",
       "303 2024-02-21 09:30:00+05:30  162.25  165.60  151.55  163.70   887250.0   \n",
       "304 2024-02-21 09:35:00+05:30  162.75  183.15  161.85  176.60  1363650.0   \n",
       "\n",
       "            oi strike_type  date_only  \n",
       "300  4805450.0     22100CE 2024-02-21  \n",
       "301  4895500.0     22100CE 2024-02-21  \n",
       "302  4941550.0     22100CE 2024-02-21  \n",
       "303  5054500.0     22100CE 2024-02-21  \n",
       "304  5010850.0     22100CE 2024-02-21  "
      ]
     },
     "execution_count": 11,
     "metadata": {},
     "output_type": "execute_result"
    }
   ],
   "source": [
    "sp_call.head()"
   ]
  },
  {
   "cell_type": "code",
   "execution_count": 21,
   "metadata": {},
   "outputs": [
    {
     "data": {
      "text/plain": [
       "[(Timestamp('2024-02-21 12:20:00+0530', tz='pytz.FixedOffset(330)'),\n",
       "  'Double Top Potential Reversal'),\n",
       " (Timestamp('2024-02-21 13:40:00+0530', tz='pytz.FixedOffset(330)'),\n",
       "  'Double Top Potential Reversal'),\n",
       " (Timestamp('2024-02-21 13:40:00+0530', tz='pytz.FixedOffset(330)'),\n",
       "  'Double Top Potential Reversal')]"
      ]
     },
     "execution_count": 21,
     "metadata": {},
     "output_type": "execute_result"
    }
   ],
   "source": [
    "import pandas as pd\n",
    "import numpy as np\n",
    "\n",
    "# Placeholder 5-minute candlestick data\n",
    "data = sp_call.copy()\n",
    "df = pd.DataFrame(data)\n",
    "\n",
    "# Simplified logic to identify the pattern\n",
    "# def find_pattern(df):\n",
    "#     signals = []\n",
    "#     for i in range(2, len(df)-1):  # Start from the 3rd row to have two previous points for comparison\n",
    "#         # Check if current low is near the previous lows (within 1% of the previous lows)\n",
    "#         if df['low'].iloc[i] <= df['low'].iloc[i-1]*1.01 and df['low'].iloc[i] <= df['low'].iloc[i-2]*1.01:\n",
    "#             # Check for pullbacks after first and second near lows (close higher than low by at least 0.5%)\n",
    "#             if df['close'].iloc[i-1] > df['low'].iloc[i-1]*1.005 and df['close'].iloc[i-2] > df['low'].iloc[i-2]*1.005:\n",
    "#                 # Assuming the current point is the third low, check if there's a pullback\n",
    "#                 if df['close'].iloc[i] > df['low'].iloc[i]*1.005:\n",
    "#                     signals.append((df['date'].iloc[i], 'Potential Triple Bottom'))\n",
    "#     return signals\n",
    "\n",
    "# # Find and print pattern signals\n",
    "# signals = find_pattern(df)\n",
    "# signals\n",
    "\n",
    "\n",
    "# Adjusted logic to identify the pattern with specified pullbacks between lows\n",
    "\n",
    "# def find_refined_pattern(df):\n",
    "#     signals = []\n",
    "#     for i in range(4, len(df)):  # Start from the 5th row to allow space for lows and pullbacks\n",
    "#         # Conditions for three sequential lows with pullbacks in between\n",
    "#         if (df['low'].iloc[i] <= df['low'].iloc[i-2]*1.01 and df['close'].iloc[i-1] > df['low'].iloc[i-1]*1.005 and\n",
    "#             df['low'].iloc[i-2] <= df['low'].iloc[i-4]*1.01 and df['close'].iloc[i-3] > df['low'].iloc[i-3]*1.005):\n",
    "#             signals.append((df['date'].iloc[i], 'Refined Potential Triple Bottom'))\n",
    "#     return signals\n",
    "\n",
    "# # Find and print refined pattern signals\n",
    "# refined_signals = find_refined_pattern(df)\n",
    "# refined_signals\n",
    "\n",
    "# Simplified Triple Bottom pattern detection in 5-minute candlestick data\n",
    "\n",
    "# def is_downtrend(df, start_index, lookback_periods=20):\n",
    "#     \"\"\"Check if there's a downtrend before the start_index\"\"\"\n",
    "#     if start_index < lookback_periods:\n",
    "#         return False\n",
    "#     trend_section = df['close'][start_index-lookback_periods:start_index]\n",
    "#     return trend_section.is_monotonic_decreasing\n",
    "\n",
    "# def find_triple_bottom(df):\n",
    "#     triple_bottom_signals = []\n",
    "#     resistance_levels = []\n",
    "#     for i in range(50, len(df)):  # Starting from 50 to allow for downtrend and bottoms identification\n",
    "#         if is_downtrend(df, i-30, 30):  # Check for downtrend before the pattern\n",
    "#             for j in range(i-49, i-20):  # Look for bottoms within a window\n",
    "#                 # Identify three bottoms\n",
    "#                 if (abs(df['low'].iloc[j] - df['low'].iloc[j-10]) <= df['low'].iloc[j]*0.01 and\n",
    "#                     abs(df['low'].iloc[j] - df['low'].iloc[j+10]) <= df['low'].iloc[j]*0.01):\n",
    "#                     # Identify resistance level\n",
    "#                     resistance_level = max(df['high'].iloc[j-10:j+10])\n",
    "#                     resistance_levels.append((df['date'].iloc[j], resistance_level))\n",
    "#                     # Check if there's a breakout through resistance after the third bottom\n",
    "#                     if df['high'].iloc[i] > resistance_level:\n",
    "#                         triple_bottom_signals.append((df['date'].iloc[i], 'Triple Bottom Breakout'))\n",
    "#                         break  # Break after finding the first valid pattern in the window\n",
    "#     return triple_bottom_signals, resistance_levels\n",
    "\n",
    "# # Find Triple Bottom patterns\n",
    "# triple_bottom_signals, resistance_levels = find_triple_bottom(data)\n",
    "# triple_bottom_signals\n",
    "\n",
    "\n",
    "def find_double_top(df):\n",
    "    double_top_signals = []\n",
    "    for i in range(20, len(df)-20):  # Starting from 20 to allow for preceding data\n",
    "        # Identify first top\n",
    "        if df['high'].iloc[i] > df['high'].iloc[i-1] and df['high'].iloc[i] > df['high'].iloc[i+1]:\n",
    "            for j in range(i+5, i+20):  # Look for second top after at least 5 candles to allow for retracement\n",
    "                # Identify second top close to the first top within a tolerance level\n",
    "                if (df['high'].iloc[j] > df['high'].iloc[j-1] and \n",
    "                    df['high'].iloc[j] > df['high'].iloc[j+1] and\n",
    "                    abs(df['high'].iloc[i] - df['high'].iloc[j]) <= df['high'].iloc[i]*0.02):\n",
    "                    # Check for retracement to support level between the tops\n",
    "                    support_level = min(df['low'].iloc[i:j])  # Minimum low between the two tops\n",
    "                    if support_level < df['high'].iloc[i]*0.95:  # Example criterion for a valid support level\n",
    "                        double_top_signals.append((df['date'].iloc[j], 'Double Top Potential Reversal'))\n",
    "                        break  # Break to avoid detecting multiple signals in the same region\n",
    "    return double_top_signals\n",
    "\n",
    "# Find Double Top patterns\n",
    "double_top_signals = find_double_top(data)\n",
    "double_top_signals\n",
    "\n"
   ]
  },
  {
   "cell_type": "code",
   "execution_count": 4,
   "metadata": {},
   "outputs": [
    {
     "data": {
      "image/png": "[encoded data removed]",
      "text/plain": [
       "<Figure size 1000x500 with 1 Axes>"
      ]
     },
     "metadata": {},
     "output_type": "display_data"
    }
   ],
   "source": [
    "import pandas as pd\n",
    "import numpy as np\n",
    "import matplotlib.pyplot as plt\n",
    "\n",
    "# Load historical data from a CSV file\n",
    "# df = pd.read_csv('path_to_your_csv.csv')\n",
    "df = sp_call.copy()\n",
    "# Identify significant peaks (for resistance trendline)\n",
    "df['Peak'] = df['High'][(df['High'].shift(1) < df['High']) & (df['High'].shift(-1) < df['High'])]\n",
    "\n",
    "# Identify significant troughs (for support trendline)\n",
    "df['Trough'] = df['Low'][(df['Low'].shift(1) > df['Low']) & (df['Low'].shift(-1) > df['Low'])]\n",
    "\n",
    "# Function to draw trendline between two points\n",
    "def draw_trendline(ax, date1, price1, date2, price2):\n",
    "    ax.plot([date1, date2], [price1, price2], 'r')\n",
    "\n",
    "# Plot the price data\n",
    "fig, ax = plt.subplots(figsize=(10,5))\n",
    "df['High'].plot(ax=ax)\n",
    "df['Low'].plot(ax=ax)\n",
    "\n",
    "# Plot the peaks and troughs\n",
    "ax.scatter(df.index[df['Peak'].notnull()], df['Peak'].dropna(), color='green')\n",
    "ax.scatter(df.index[df['Trough'].notnull()], df['Trough'].dropna(), color='red')\n",
    "\n",
    "# Draw trendlines (This is a simplified example, ideally you would use a more sophisticated method to choose which points to connect)\n",
    "if df['Peak'].dropna().shape[0] >= 2:\n",
    "    peak_dates = df.index[df['Peak'].notnull()]\n",
    "    draw_trendline(ax, peak_dates[0], df['Peak'].dropna().iloc[0], peak_dates[-1], df['Peak'].dropna().iloc[-1])\n",
    "\n",
    "if df['Trough'].dropna().shape[0] >= 2:\n",
    "    trough_dates = df.index[df['Trough'].notnull()]\n",
    "    draw_trendline(ax, trough_dates[0], df['Trough'].dropna().iloc[0], trough_dates[-1], df['Trough'].dropna().iloc[-1])\n",
    "\n",
    "# Show the plot\n",
    "plt.show()\n"
   ]
  },
  {
   "cell_type": "code",
   "execution_count": 29,
   "metadata": {},
   "outputs": [],
   "source": [
    "sp_call.to_csv(\"sp_call.csv\",index = False)"
   ]
  },
  {
   "cell_type": "code",
   "execution_count": 5,
   "metadata": {},
   "outputs": [
    {
     "data": {
      "application/vnd.plotly.v1+json": {
       "config": {
        "plotlyServerURL": "https://plot.ly"
       },
       "data": [
        {
         "close": [
          170,
          166.75,
          163.25,
          163.7,
          176.6,
          174.5,
          173,
          171.35,
          174.15,
          175.35,
          175.85,
          155,
          149.05,
          149.45,
          137.95,
          147.2,
          138.85,
          131.5,
          128.9,
          125.85,
          138.75,
          140.2,
          142.5,
          143.6,
          141.2,
          128.65,
          133.6,
          136.3,
          144,
          149.25,
          150.1,
          156.4,
          155,
          148.3,
          146,
          151.25,
          156.75,
          156,
          152.2,
          161.1,
          154.75,
          146.8,
          157.7,
          169.7,
          166.4,
          162.55,
          151.55,
          154,
          153,
          150.1,
          138.95,
          148,
          158.35,
          148.55,
          118.2,
          114.2,
          114.55,
          103.55,
          98.15,
          88.25,
          98.2,
          61.55,
          62.1,
          58.65,
          45.3,
          44.25,
          43.2,
          41.9,
          37.25,
          38.2,
          51.4,
          58.6,
          45.35,
          37.45,
          32.25
         ],
         "high": [
          187.55,
          174,
          172.15,
          165.6,
          183.15,
          178.8,
          181.3,
          185.15,
          179.1,
          178.5,
          178.5,
          176.9,
          162.4,
          151,
          155.25,
          152,
          150.8,
          142.55,
          131.95,
          129.25,
          139.8,
          145.6,
          143.55,
          147.9,
          144.6,
          146,
          135,
          139.75,
          145.85,
          155.65,
          152.25,
          156.4,
          161.9,
          156.6,
          151.35,
          151.65,
          159.4,
          163.35,
          159.8,
          162.9,
          166.45,
          159.5,
          158.8,
          171.55,
          174.8,
          171.3,
          163.25,
          157.3,
          159,
          154.75,
          151.25,
          149.45,
          159.9,
          162.15,
          148.85,
          125.6,
          119.5,
          115.45,
          107.2,
          103.65,
          98.35,
          98.3,
          64.6,
          64.15,
          59.35,
          45.7,
          45.5,
          47.7,
          42.2,
          42.6,
          52.2,
          62.1,
          61.3,
          49.55,
          38.3
         ],
         "low": [
          163.4,
          156.65,
          154,
          151.55,
          161.85,
          166.65,
          169.55,
          170.25,
          160.8,
          171.2,
          167.2,
          144.45,
          147.4,
          137.35,
          128.7,
          131.8,
          137.9,
          129,
          120.6,
          118.25,
          122.1,
          133.25,
          131.5,
          140.25,
          135.7,
          126.8,
          123.7,
          131.05,
          135,
          141.55,
          142.9,
          146.5,
          152.5,
          147.95,
          141.6,
          142.95,
          149.2,
          152.85,
          149.2,
          151.75,
          153.75,
          146.3,
          144.5,
          154,
          162.8,
          160.75,
          147.8,
          148.75,
          152.6,
          146.55,
          138.55,
          134.2,
          146.65,
          148.2,
          112.7,
          113.9,
          107.15,
          87.2,
          93.65,
          85.2,
          85.5,
          59.6,
          53.8,
          55,
          45.2,
          39.6,
          38.5,
          40.25,
          32.25,
          33.75,
          37.75,
          44.95,
          42.4,
          36.9,
          30
         ],
         "open": [
          184.05,
          170,
          167.45,
          162.25,
          162.75,
          176.7,
          174.5,
          173.35,
          171.55,
          175.25,
          175.35,
          176.2,
          152.3,
          149.5,
          149.75,
          137.9,
          147.2,
          138.75,
          131,
          128.9,
          126.95,
          138.75,
          140.2,
          143.4,
          144.55,
          141.4,
          128.6,
          133.6,
          136.6,
          144,
          149.25,
          150.05,
          156.4,
          155,
          148.55,
          145.8,
          151.05,
          157,
          156,
          151.75,
          162.25,
          155.55,
          149.55,
          157.7,
          169.4,
          166.95,
          162.55,
          152.2,
          153.95,
          152.5,
          150.2,
          139.15,
          148.35,
          158.9,
          148.55,
          119.45,
          114.4,
          114.25,
          103.55,
          97.55,
          88.6,
          98.25,
          61.5,
          61.9,
          58.8,
          45.7,
          44.5,
          43.05,
          42.2,
          37.1,
          38.5,
          51.4,
          58.45,
          44.55,
          37.05
         ],
         "type": "candlestick",
         "x": [
          "2024-02-21T09:15:00+05:30",
          "2024-02-21T09:20:00+05:30",
          "2024-02-21T09:25:00+05:30",
          "2024-02-21T09:30:00+05:30",
          "2024-02-21T09:35:00+05:30",
          "2024-02-21T09:40:00+05:30",
          "2024-02-21T09:45:00+05:30",
          "2024-02-21T09:50:00+05:30",
          "2024-02-21T09:55:00+05:30",
          "2024-02-21T10:00:00+05:30",
          "2024-02-21T10:05:00+05:30",
          "2024-02-21T10:10:00+05:30",
          "2024-02-21T10:15:00+05:30",
          "2024-02-21T10:20:00+05:30",
          "2024-02-21T10:25:00+05:30",
          "2024-02-21T10:30:00+05:30",
          "2024-02-21T10:35:00+05:30",
          "2024-02-21T10:40:00+05:30",
          "2024-02-21T10:45:00+05:30",
          "2024-02-21T10:50:00+05:30",
          "2024-02-21T10:55:00+05:30",
          "2024-02-21T11:00:00+05:30",
          "2024-02-21T11:05:00+05:30",
          "2024-02-21T11:10:00+05:30",
          "2024-02-21T11:15:00+05:30",
          "2024-02-21T11:20:00+05:30",
          "2024-02-21T11:25:00+05:30",
          "2024-02-21T11:30:00+05:30",
          "2024-02-21T11:35:00+05:30",
          "2024-02-21T11:40:00+05:30",
          "2024-02-21T11:45:00+05:30",
          "2024-02-21T11:50:00+05:30",
          "2024-02-21T11:55:00+05:30",
          "2024-02-21T12:00:00+05:30",
          "2024-02-21T12:05:00+05:30",
          "2024-02-21T12:10:00+05:30",
          "2024-02-21T12:15:00+05:30",
          "2024-02-21T12:20:00+05:30",
          "2024-02-21T12:25:00+05:30",
          "2024-02-21T12:30:00+05:30",
          "2024-02-21T12:35:00+05:30",
          "2024-02-21T12:40:00+05:30",
          "2024-02-21T12:45:00+05:30",
          "2024-02-21T12:50:00+05:30",
          "2024-02-21T12:55:00+05:30",
          "2024-02-21T13:00:00+05:30",
          "2024-02-21T13:05:00+05:30",
          "2024-02-21T13:10:00+05:30",
          "2024-02-21T13:15:00+05:30",
          "2024-02-21T13:20:00+05:30",
          "2024-02-21T13:25:00+05:30",
          "2024-02-21T13:30:00+05:30",
          "2024-02-21T13:35:00+05:30",
          "2024-02-21T13:40:00+05:30",
          "2024-02-21T13:45:00+05:30",
          "2024-02-21T13:50:00+05:30",
          "2024-02-21T13:55:00+05:30",
          "2024-02-21T14:00:00+05:30",
          "2024-02-21T14:05:00+05:30",
          "2024-02-21T14:10:00+05:30",
          "2024-02-21T14:15:00+05:30",
          "2024-02-21T14:20:00+05:30",
          "2024-02-21T14:25:00+05:30",
          "2024-02-21T14:30:00+05:30",
          "2024-02-21T14:35:00+05:30",
          "2024-02-21T14:40:00+05:30",
          "2024-02-21T14:45:00+05:30",
          "2024-02-21T14:50:00+05:30",
          "2024-02-21T14:55:00+05:30",
          "2024-02-21T15:00:00+05:30",
          "2024-02-21T15:05:00+05:30",
          "2024-02-21T15:10:00+05:30",
          "2024-02-21T15:15:00+05:30",
          "2024-02-21T15:20:00+05:30",
          "2024-02-21T15:25:00+05:30"
         ]
        }
       ],
       "layout": {
        "template": {
         "data": {
          "bar": [
           {
            "error_x": {
             "color": "#2a3f5f"
            },
            "error_y": {
             "color": "#2a3f5f"
            },
            "marker": {
             "line": {
              "color": "#E5ECF6",
              "width": 0.5
             },
             "pattern": {
              "fillmode": "overlay",
              "size": 10,
              "solidity": 0.2
             }
            },
            "type": "bar"
           }
          ],
          "barpolar": [
           {
            "marker": {
             "line": {
              "color": "#E5ECF6",
              "width": 0.5
             },
             "pattern": {
              "fillmode": "overlay",
              "size": 10,
              "solidity": 0.2
             }
            },
            "type": "barpolar"
           }
          ],
          "carpet": [
           {
            "aaxis": {
             "endlinecolor": "#2a3f5f",
             "gridcolor": "white",
             "linecolor": "white",
             "minorgridcolor": "white",
             "startlinecolor": "#2a3f5f"
            },
            "baxis": {
             "endlinecolor": "#2a3f5f",
             "gridcolor": "white",
             "linecolor": "white",
             "minorgridcolor": "white",
             "startlinecolor": "#2a3f5f"
            },
            "type": "carpet"
           }
          ],
          "choropleth": [
           {
            "colorbar": {
             "outlinewidth": 0,
             "ticks": ""
            },
            "type": "choropleth"
           }
          ],
          "contour": [
           {
            "colorbar": {
             "outlinewidth": 0,
             "ticks": ""
            },
            "colorscale": [
             [
              0,
              "#0d0887"
             ],
             [
              0.1111111111111111,
              "#46039f"
             ],
             [
              0.2222222222222222,
              "#7201a8"
             ],
             [
              0.3333333333333333,
              "#9c179e"
             ],
             [
              0.4444444444444444,
              "#bd3786"
             ],
             [
              0.5555555555555556,
              "#d8576b"
             ],
             [
              0.6666666666666666,
              "#ed7953"
             ],
             [
              0.7777777777777778,
              "#fb9f3a"
             ],
             [
              0.8888888888888888,
              "#fdca26"
             ],
             [
              1,
              "#f0f921"
             ]
            ],
            "type": "contour"
           }
          ],
          "contourcarpet": [
           {
            "colorbar": {
             "outlinewidth": 0,
             "ticks": ""
            },
            "type": "contourcarpet"
           }
          ],
          "heatmap": [
           {
            "colorbar": {
             "outlinewidth": 0,
             "ticks": ""
            },
            "colorscale": [
             [
              0,
              "#0d0887"
             ],
             [
              0.1111111111111111,
              "#46039f"
             ],
             [
              0.2222222222222222,
              "#7201a8"
             ],
             [
              0.3333333333333333,
              "#9c179e"
             ],
             [
              0.4444444444444444,
              "#bd3786"
             ],
             [
              0.5555555555555556,
              "#d8576b"
             ],
             [
              0.6666666666666666,
              "#ed7953"
             ],
             [
              0.7777777777777778,
              "#fb9f3a"
             ],
             [
              0.8888888888888888,
              "#fdca26"
             ],
             [
              1,
              "#f0f921"
             ]
            ],
            "type": "heatmap"
           }
          ],
          "heatmapgl": [
           {
            "colorbar": {
             "outlinewidth": 0,
             "ticks": ""
            },
            "colorscale": [
             [
              0,
              "#0d0887"
             ],
             [
              0.1111111111111111,
              "#46039f"
             ],
             [
              0.2222222222222222,
              "#7201a8"
             ],
             [
              0.3333333333333333,
              "#9c179e"
             ],
             [
              0.4444444444444444,
              "#bd3786"
             ],
             [
              0.5555555555555556,
              "#d8576b"
             ],
             [
              0.6666666666666666,
              "#ed7953"
             ],
             [
              0.7777777777777778,
              "#fb9f3a"
             ],
             [
              0.8888888888888888,
              "#fdca26"
             ],
             [
              1,
              "#f0f921"
             ]
            ],
            "type": "heatmapgl"
           }
          ],
          "histogram": [
           {
            "marker": {
             "pattern": {
              "fillmode": "overlay",
              "size": 10,
              "solidity": 0.2
             }
            },
            "type": "histogram"
           }
          ],
          "histogram2d": [
           {
            "colorbar": {
             "outlinewidth": 0,
             "ticks": ""
            },
            "colorscale": [
             [
              0,
              "#0d0887"
             ],
             [
              0.1111111111111111,
              "#46039f"
             ],
             [
              0.2222222222222222,
              "#7201a8"
             ],
             [
              0.3333333333333333,
              "#9c179e"
             ],
             [
              0.4444444444444444,
              "#bd3786"
             ],
             [
              0.5555555555555556,
              "#d8576b"
             ],
             [
              0.6666666666666666,
              "#ed7953"
             ],
             [
              0.7777777777777778,
              "#fb9f3a"
             ],
             [
              0.8888888888888888,
              "#fdca26"
             ],
             [
              1,
              "#f0f921"
             ]
            ],
            "type": "histogram2d"
           }
          ],
          "histogram2dcontour": [
           {
            "colorbar": {
             "outlinewidth": 0,
             "ticks": ""
            },
            "colorscale": [
             [
              0,
              "#0d0887"
             ],
             [
              0.1111111111111111,
              "#46039f"
             ],
             [
              0.2222222222222222,
              "#7201a8"
             ],
             [
              0.3333333333333333,
              "#9c179e"
             ],
             [
              0.4444444444444444,
              "#bd3786"
             ],
             [
              0.5555555555555556,
              "#d8576b"
             ],
             [
              0.6666666666666666,
              "#ed7953"
             ],
             [
              0.7777777777777778,
              "#fb9f3a"
             ],
             [
              0.8888888888888888,
              "#fdca26"
             ],
             [
              1,
              "#f0f921"
             ]
            ],
            "type": "histogram2dcontour"
           }
          ],
          "mesh3d": [
           {
            "colorbar": {
             "outlinewidth": 0,
             "ticks": ""
            },
            "type": "mesh3d"
           }
          ],
          "parcoords": [
           {
            "line": {
             "colorbar": {
              "outlinewidth": 0,
              "ticks": ""
             }
            },
            "type": "parcoords"
           }
          ],
          "pie": [
           {
            "automargin": true,
            "type": "pie"
           }
          ],
          "scatter": [
           {
            "fillpattern": {
             "fillmode": "overlay",
             "size": 10,
             "solidity": 0.2
            },
            "type": "scatter"
           }
          ],
          "scatter3d": [
           {
            "line": {
             "colorbar": {
              "outlinewidth": 0,
              "ticks": ""
             }
            },
            "marker": {
             "colorbar": {
              "outlinewidth": 0,
              "ticks": ""
             }
            },
            "type": "scatter3d"
           }
          ],
          "scattercarpet": [
           {
            "marker": {
             "colorbar": {
              "outlinewidth": 0,
              "ticks": ""
             }
            },
            "type": "scattercarpet"
           }
          ],
          "scattergeo": [
           {
            "marker": {
             "colorbar": {
              "outlinewidth": 0,
              "ticks": ""
             }
            },
            "type": "scattergeo"
           }
          ],
          "scattergl": [
           {
            "marker": {
             "colorbar": {
              "outlinewidth": 0,
              "ticks": ""
             }
            },
            "type": "scattergl"
           }
          ],
          "scattermapbox": [
           {
            "marker": {
             "colorbar": {
              "outlinewidth": 0,
              "ticks": ""
             }
            },
            "type": "scattermapbox"
           }
          ],
          "scatterpolar": [
           {
            "marker": {
             "colorbar": {
              "outlinewidth": 0,
              "ticks": ""
             }
            },
            "type": "scatterpolar"
           }
          ],
          "scatterpolargl": [
           {
            "marker": {
             "colorbar": {
              "outlinewidth": 0,
              "ticks": ""
             }
            },
            "type": "scatterpolargl"
           }
          ],
          "scatterternary": [
           {
            "marker": {
             "colorbar": {
              "outlinewidth": 0,
              "ticks": ""
             }
            },
            "type": "scatterternary"
           }
          ],
          "surface": [
           {
            "colorbar": {
             "outlinewidth": 0,
             "ticks": ""
            },
            "colorscale": [
             [
              0,
              "#0d0887"
             ],
             [
              0.1111111111111111,
              "#46039f"
             ],
             [
              0.2222222222222222,
              "#7201a8"
             ],
             [
              0.3333333333333333,
              "#9c179e"
             ],
             [
              0.4444444444444444,
              "#bd3786"
             ],
             [
              0.5555555555555556,
              "#d8576b"
             ],
             [
              0.6666666666666666,
              "#ed7953"
             ],
             [
              0.7777777777777778,
              "#fb9f3a"
             ],
             [
              0.8888888888888888,
              "#fdca26"
             ],
             [
              1,
              "#f0f921"
             ]
            ],
            "type": "surface"
           }
          ],
          "table": [
           {
            "cells": {
             "fill": {
              "color": "#EBF0F8"
             },
             "line": {
              "color": "white"
             }
            },
            "header": {
             "fill": {
              "color": "#C8D4E3"
             },
             "line": {
              "color": "white"
             }
            },
            "type": "table"
           }
          ]
         },
         "layout": {
          "annotationdefaults": {
           "arrowcolor": "#2a3f5f",
           "arrowhead": 0,
           "arrowwidth": 1
          },
          "autotypenumbers": "strict",
          "coloraxis": {
           "colorbar": {
            "outlinewidth": 0,
            "ticks": ""
           }
          },
          "colorscale": {
           "diverging": [
            [
             0,
             "#8e0152"
            ],
            [
             0.1,
             "#c51b7d"
            ],
            [
             0.2,
             "#de77ae"
            ],
            [
             0.3,
             "#f1b6da"
            ],
            [
             0.4,
             "#fde0ef"
            ],
            [
             0.5,
             "#f7f7f7"
            ],
            [
             0.6,
             "#e6f5d0"
            ],
            [
             0.7,
             "#b8e186"
            ],
            [
             0.8,
             "#7fbc41"
            ],
            [
             0.9,
             "#4d9221"
            ],
            [
             1,
             "#276419"
            ]
           ],
           "sequential": [
            [
             0,
             "#0d0887"
            ],
            [
             0.1111111111111111,
             "#46039f"
            ],
            [
             0.2222222222222222,
             "#7201a8"
            ],
            [
             0.3333333333333333,
             "#9c179e"
            ],
            [
             0.4444444444444444,
             "#bd3786"
            ],
            [
             0.5555555555555556,
             "#d8576b"
            ],
            [
             0.6666666666666666,
             "#ed7953"
            ],
            [
             0.7777777777777778,
             "#fb9f3a"
            ],
            [
             0.8888888888888888,
             "#fdca26"
            ],
            [
             1,
             "#f0f921"
            ]
           ],
           "sequentialminus": [
            [
             0,
             "#0d0887"
            ],
            [
             0.1111111111111111,
             "#46039f"
            ],
            [
             0.2222222222222222,
             "#7201a8"
            ],
            [
             0.3333333333333333,
             "#9c179e"
            ],
            [
             0.4444444444444444,
             "#bd3786"
            ],
            [
             0.5555555555555556,
             "#d8576b"
            ],
            [
             0.6666666666666666,
             "#ed7953"
            ],
            [
             0.7777777777777778,
             "#fb9f3a"
            ],
            [
             0.8888888888888888,
             "#fdca26"
            ],
            [
             1,
             "#f0f921"
            ]
           ]
          },
          "colorway": [
           "#636efa",
           "#EF553B",
           "#00cc96",
           "#ab63fa",
           "#FFA15A",
           "#19d3f3",
           "#FF6692",
           "#B6E880",
           "#FF97FF",
           "#FECB52"
          ],
          "font": {
           "color": "#2a3f5f"
          },
          "geo": {
           "bgcolor": "white",
           "lakecolor": "white",
           "landcolor": "#E5ECF6",
           "showlakes": true,
           "showland": true,
           "subunitcolor": "white"
          },
          "hoverlabel": {
           "align": "left"
          },
          "hovermode": "closest",
          "mapbox": {
           "style": "light"
          },
          "paper_bgcolor": "white",
          "plot_bgcolor": "#E5ECF6",
          "polar": {
           "angularaxis": {
            "gridcolor": "white",
            "linecolor": "white",
            "ticks": ""
           },
           "bgcolor": "#E5ECF6",
           "radialaxis": {
            "gridcolor": "white",
            "linecolor": "white",
            "ticks": ""
           }
          },
          "scene": {
           "xaxis": {
            "backgroundcolor": "#E5ECF6",
            "gridcolor": "white",
            "gridwidth": 2,
            "linecolor": "white",
            "showbackground": true,
            "ticks": "",
            "zerolinecolor": "white"
           },
           "yaxis": {
            "backgroundcolor": "#E5ECF6",
            "gridcolor": "white",
            "gridwidth": 2,
            "linecolor": "white",
            "showbackground": true,
            "ticks": "",
            "zerolinecolor": "white"
           },
           "zaxis": {
            "backgroundcolor": "#E5ECF6",
            "gridcolor": "white",
            "gridwidth": 2,
            "linecolor": "white",
            "showbackground": true,
            "ticks": "",
            "zerolinecolor": "white"
           }
          },
          "shapedefaults": {
           "line": {
            "color": "#2a3f5f"
           }
          },
          "ternary": {
           "aaxis": {
            "gridcolor": "white",
            "linecolor": "white",
            "ticks": ""
           },
           "baxis": {
            "gridcolor": "white",
            "linecolor": "white",
            "ticks": ""
           },
           "bgcolor": "#E5ECF6",
           "caxis": {
            "gridcolor": "white",
            "linecolor": "white",
            "ticks": ""
           }
          },
          "title": {
           "x": 0.05
          },
          "xaxis": {
           "automargin": true,
           "gridcolor": "white",
           "linecolor": "white",
           "ticks": "",
           "title": {
            "standoff": 15
           },
           "zerolinecolor": "white",
           "zerolinewidth": 2
          },
          "yaxis": {
           "automargin": true,
           "gridcolor": "white",
           "linecolor": "white",
           "ticks": "",
           "title": {
            "standoff": 15
           },
           "zerolinecolor": "white",
           "zerolinewidth": 2
          }
         }
        },
        "title": {
         "text": "Candlestick Chart"
        },
        "xaxis": {
         "rangeslider": {
          "visible": false
         },
         "title": {
          "text": "Date"
         }
        },
        "yaxis": {
         "title": {
          "text": "Price"
         }
        }
       }
      }
     },
     "metadata": {},
     "output_type": "display_data"
    }
   ],
   "source": [
    "import plotly.graph_objects as go\n",
    "import pandas as pd\n",
    "\n",
    "# Assuming 'data' is your DataFrame with columns: 'date', 'Open', 'High', 'Low', 'Close'\n",
    "# Make sure your 'date' column is in datetime format\n",
    "data = sp_call.copy()\n",
    "data['date'] = pd.to_datetime(data['date'])\n",
    "\n",
    "# Create a candlestick chart\n",
    "fig = go.Figure(data=[go.Candlestick(x=data['date'],\n",
    "                open=data['Open'],\n",
    "                high=data['High'],\n",
    "                low=data['Low'],\n",
    "                close=data['Close'])])\n",
    "\n",
    "# Update the layout for a more comprehensive view\n",
    "fig.update_layout(title='Candlestick Chart',\n",
    "                  xaxis_title='Date',\n",
    "                  yaxis_title='Price',\n",
    "                  xaxis_rangeslider_visible=False)  # Hide the range slider for a cleaner look\n",
    "\n",
    "# Show the figure\n",
    "fig.show()\n"
   ]
  },
  {
   "cell_type": "code",
   "execution_count": 7,
   "metadata": {},
   "outputs": [
    {
     "data": {
      "application/javascript": "(function(root) {\n  function now() {\n    return new Date();\n  }\n\n  var force = true;\n\n  if (typeof root._bokeh_onload_callbacks === \"undefined\" || force === true) {\n    root._bokeh_onload_callbacks = [];\n    root._bokeh_is_loading = undefined;\n  }\n\n  if (typeof (root._bokeh_timeout) === \"undefined\" || force === true) {\n    root._bokeh_timeout = Date.now() + 5000;\n    root._bokeh_failed_load = false;\n  }\n\n  function run_callbacks() {\n    try {\n      root._bokeh_onload_callbacks.forEach(function(callback) {\n        if (callback != null)\n          callback();\n      });\n    } finally {\n      delete root._bokeh_onload_callbacks\n    }\n    console.debug(\"Bokeh: all callbacks have finished\");\n  }\n\n  function load_libs(css_urls, js_urls, js_modules, callback) {\n    if (css_urls == null) css_urls = [];\n    if (js_urls == null) js_urls = [];\n    if (js_modules == null) js_modules = [];\n\n    root._bokeh_onload_callbacks.push(callback);\n    if (root._bokeh_is_loading > 0) {\n      console.debug(\"Bokeh: BokehJS is being loaded, scheduling callback at\", now());\n      return null;\n    }\n    if (js_urls.length === 0 && js_modules.length === 0) {\n      run_callbacks();\n      return null;\n    }\n    console.debug(\"Bokeh: BokehJS not loaded, scheduling load and callback at\", now());\n\n    function on_load() {\n      root._bokeh_is_loading--;\n      if (root._bokeh_is_loading === 0) {\n        console.debug(\"Bokeh: all BokehJS libraries/stylesheets loaded\");\n        run_callbacks()\n      }\n    }\n\n    function on_error() {\n      console.error(\"failed to load \" + url);\n    }\n\n    for (var i = 0; i < css_urls.length; i++) {\n      var url = css_urls[i];\n      const element = document.createElement(\"link\");\n      element.onload = on_load;\n      element.onerror = on_error;\n      element.rel = \"stylesheet\";\n      element.type = \"text/css\";\n      element.href = url;\n      console.debug(\"Bokeh: injecting link tag for BokehJS stylesheet: \", url);\n      document.body.appendChild(element);\n    }\n\n    var skip = [];\n    if (window.requirejs) {\n      window.requirejs.config({'packages': {}, 'paths': {'gridstack': 'https://cdn.jsdelivr.net/npm/gridstack@4.2.5/dist/gridstack-h5', 'notyf': 'https://cdn.jsdelivr.net/npm/notyf@3/notyf.min'}, 'shim': {'gridstack': {'exports': 'GridStack'}}});\n      require([\"gridstack\"], function(GridStack) {\n\twindow.GridStack = GridStack\n\ton_load()\n      })\n      require([\"notyf\"], function() {\n\ton_load()\n      })\n      root._bokeh_is_loading = css_urls.length + 2;\n    } else {\n      root._bokeh_is_loading = css_urls.length + js_urls.length + js_modules.length;\n    }    if (((window['GridStack'] !== undefined) && (!(window['GridStack'] instanceof HTMLElement))) || window.requirejs) {\n      var urls = ['https://cdn.holoviz.org/panel/0.14.4/dist/bundled/gridstack/gridstack@4.2.5/dist/gridstack-h5.js'];\n      for (var i = 0; i < urls.length; i++) {\n        skip.push(urls[i])\n      }\n    }    if (((window['Notyf'] !== undefined) && (!(window['Notyf'] instanceof HTMLElement))) || window.requirejs) {\n      var urls = ['https://cdn.holoviz.org/panel/0.14.4/dist/bundled/notificationarea/notyf@3/notyf.min.js'];\n      for (var i = 0; i < urls.length; i++) {\n        skip.push(urls[i])\n      }\n    }    for (var i = 0; i < js_urls.length; i++) {\n      var url = js_urls[i];\n      if (skip.indexOf(url) >= 0) {\n\tif (!window.requirejs) {\n\t  on_load();\n\t}\n\tcontinue;\n      }\n      var element = document.createElement('script');\n      element.onload = on_load;\n      element.onerror = on_error;\n      element.async = false;\n      element.src = url;\n      console.debug(\"Bokeh: injecting script tag for BokehJS library: \", url);\n      document.head.appendChild(element);\n    }\n    for (var i = 0; i < js_modules.length; i++) {\n      var url = js_modules[i];\n      if (skip.indexOf(url) >= 0) {\n\tif (!window.requirejs) {\n\t  on_load();\n\t}\n\tcontinue;\n      }\n      var element = document.createElement('script');\n      element.onload = on_load;\n      element.onerror = on_error;\n      element.async = false;\n      element.src = url;\n      element.type = \"module\";\n      console.debug(\"Bokeh: injecting script tag for BokehJS library: \", url);\n      document.head.appendChild(element);\n    }\n    if (!js_urls.length && !js_modules.length) {\n      on_load()\n    }\n  };\n\n  function inject_raw_css(css) {\n    const element = document.createElement(\"style\");\n    element.appendChild(document.createTextNode(css));\n    document.body.appendChild(element);\n  }\n\n  var js_urls = [\"https://cdn.bokeh.org/bokeh/release/bokeh-2.4.3.min.js\", \"https://cdn.bokeh.org/bokeh/release/bokeh-gl-2.4.3.min.js\", \"https://cdn.bokeh.org/bokeh/release/bokeh-widgets-2.4.3.min.js\", \"https://cdn.bokeh.org/bokeh/release/bokeh-tables-2.4.3.min.js\", \"https://cdn.bokeh.org/bokeh/release/bokeh-mathjax-2.4.3.min.js\", \"https://unpkg.com/@holoviz/panel@0.14.4/dist/panel.min.js\"];\n  var js_modules = [];\n  var css_urls = [\"https://cdn.holoviz.org/panel/0.14.4/dist/css/alerts.css\", \"https://cdn.holoviz.org/panel/0.14.4/dist/css/card.css\", \"https://cdn.holoviz.org/panel/0.14.4/dist/css/dataframe.css\", \"https://cdn.holoviz.org/panel/0.14.4/dist/css/debugger.css\", \"https://cdn.holoviz.org/panel/0.14.4/dist/css/json.css\", \"https://cdn.holoviz.org/panel/0.14.4/dist/css/loading.css\", \"https://cdn.holoviz.org/panel/0.14.4/dist/css/markdown.css\", \"https://cdn.holoviz.org/panel/0.14.4/dist/css/widgets.css\"];\n  var inline_js = [    function(Bokeh) {\n      inject_raw_css(\"\\n    .bk.pn-loading.arc:before {\\n      background-image: url(\\\"data:image/svg+xml;base64,PHN2ZyB4bWxucz0iaHR0cDovL3d3dy53My5vcmcvMjAwMC9zdmciIHN0eWxlPSJtYXJnaW46IGF1dG87IGJhY2tncm91bmQ6IG5vbmU7IGRpc3BsYXk6IGJsb2NrOyBzaGFwZS1yZW5kZXJpbmc6IGF1dG87IiB2aWV3Qm94PSIwIDAgMTAwIDEwMCIgcHJlc2VydmVBc3BlY3RSYXRpbz0ieE1pZFlNaWQiPiAgPGNpcmNsZSBjeD0iNTAiIGN5PSI1MCIgZmlsbD0ibm9uZSIgc3Ryb2tlPSIjYzNjM2MzIiBzdHJva2Utd2lkdGg9IjEwIiByPSIzNSIgc3Ryb2tlLWRhc2hhcnJheT0iMTY0LjkzMzYxNDMxMzQ2NDE1IDU2Ljk3Nzg3MTQzNzgyMTM4Ij4gICAgPGFuaW1hdGVUcmFuc2Zvcm0gYXR0cmlidXRlTmFtZT0idHJhbnNmb3JtIiB0eXBlPSJyb3RhdGUiIHJlcGVhdENvdW50PSJpbmRlZmluaXRlIiBkdXI9IjFzIiB2YWx1ZXM9IjAgNTAgNTA7MzYwIDUwIDUwIiBrZXlUaW1lcz0iMDsxIj48L2FuaW1hdGVUcmFuc2Zvcm0+ICA8L2NpcmNsZT48L3N2Zz4=\\\");\\n      background-size: auto calc(min(50%, 400px));\\n    }\\n    \");\n    },    function(Bokeh) {\n      Bokeh.set_log_level(\"info\");\n    },\nfunction(Bokeh) {} // ensure no trailing comma for IE\n  ];\n\n  function run_inline_js() {\n    if ((root.Bokeh !== undefined) || (force === true)) {\n      for (var i = 0; i < inline_js.length; i++) {\n        inline_js[i].call(root, root.Bokeh);\n      }} else if (Date.now() < root._bokeh_timeout) {\n      setTimeout(run_inline_js, 100);\n    } else if (!root._bokeh_failed_load) {\n      console.log(\"Bokeh: BokehJS failed to load within specified timeout.\");\n      root._bokeh_failed_load = true;\n    }\n  }\n\n  if (root._bokeh_is_loading === 0) {\n    console.debug(\"Bokeh: BokehJS loaded, going straight to plotting\");\n    run_inline_js();\n  } else {\n    load_libs(css_urls, js_urls, js_modules, function() {\n      console.debug(\"Bokeh: BokehJS plotting callback run at\", now());\n      run_inline_js();\n    });\n  }\n}(window));",
      "application/vnd.holoviews_load.v0+json": ""
     },
     "metadata": {},
     "output_type": "display_data"
    },
    {
     "data": {
      "application/javascript": "\nif ((window.PyViz === undefined) || (window.PyViz instanceof HTMLElement)) {\n  window.PyViz = {comms: {}, comm_status:{}, kernels:{}, receivers: {}, plot_index: []}\n}\n\n\n    function JupyterCommManager() {\n    }\n\n    JupyterCommManager.prototype.register_target = function(plot_id, comm_id, msg_handler) {\n      if (window.comm_manager || ((window.Jupyter !== undefined) && (Jupyter.notebook.kernel != null))) {\n        var comm_manager = window.comm_manager || Jupyter.notebook.kernel.comm_manager;\n        comm_manager.register_target(comm_id, function(comm) {\n          comm.on_msg(msg_handler);\n        });\n      } else if ((plot_id in window.PyViz.kernels) && (window.PyViz.kernels[plot_id])) {\n        window.PyViz.kernels[plot_id].registerCommTarget(comm_id, function(comm) {\n          comm.onMsg = msg_handler;\n        });\n      } else if (typeof google != 'undefined' && google.colab.kernel != null) {\n        google.colab.kernel.comms.registerTarget(comm_id, (comm) => {\n          var messages = comm.messages[Symbol.asyncIterator]();\n          function processIteratorResult(result) {\n            var message = result.value;\n            console.log(message)\n            var content = {data: message.data, comm_id};\n            var buffers = []\n            for (var buffer of message.buffers || []) {\n              buffers.push(new DataView(buffer))\n            }\n            var metadata = message.metadata || {};\n            var msg = {content, buffers, metadata}\n            msg_handler(msg);\n            return messages.next().then(processIteratorResult);\n          }\n          return messages.next().then(processIteratorResult);\n        })\n      }\n    }\n\n    JupyterCommManager.prototype.get_client_comm = function(plot_id, comm_id, msg_handler) {\n      if (comm_id in window.PyViz.comms) {\n        return window.PyViz.comms[comm_id];\n      } else if (window.comm_manager || ((window.Jupyter !== undefined) && (Jupyter.notebook.kernel != null))) {\n        var comm_manager = window.comm_manager || Jupyter.notebook.kernel.comm_manager;\n        var comm = comm_manager.new_comm(comm_id, {}, {}, {}, comm_id);\n        if (msg_handler) {\n          comm.on_msg(msg_handler);\n        }\n      } else if ((plot_id in window.PyViz.kernels) && (window.PyViz.kernels[plot_id])) {\n        var comm = window.PyViz.kernels[plot_id].connectToComm(comm_id);\n        comm.open();\n        if (msg_handler) {\n          comm.onMsg = msg_handler;\n        }\n      } else if (typeof google != 'undefined' && google.colab.kernel != null) {\n        var comm_promise = google.colab.kernel.comms.open(comm_id)\n        comm_promise.then((comm) => {\n          window.PyViz.comms[comm_id] = comm;\n          if (msg_handler) {\n            var messages = comm.messages[Symbol.asyncIterator]();\n            function processIteratorResult(result) {\n              var message = result.value;\n              var content = {data: message.data};\n              var metadata = message.metadata || {comm_id};\n              var msg = {content, metadata}\n              msg_handler(msg);\n              return messages.next().then(processIteratorResult);\n            }\n            return messages.next().then(processIteratorResult);\n          }\n        }) \n        var sendClosure = (data, metadata, buffers, disposeOnDone) => {\n          return comm_promise.then((comm) => {\n            comm.send(data, metadata, buffers, disposeOnDone);\n          });\n        };\n        var comm = {\n          send: sendClosure\n        };\n      }\n      window.PyViz.comms[comm_id] = comm;\n      return comm;\n    }\n    window.PyViz.comm_manager = new JupyterCommManager();\n    \n\n\nvar JS_MIME_TYPE = 'application/javascript';\nvar HTML_MIME_TYPE = 'text/html';\nvar EXEC_MIME_TYPE = 'application/vnd.holoviews_exec.v0+json';\nvar CLASS_NAME = 'output';\n\n/**\n * Render data to the DOM node\n */\nfunction render(props, node) {\n  var div = document.createElement(\"div\");\n  var script = document.createElement(\"script\");\n  node.appendChild(div);\n  node.appendChild(script);\n}\n\n/**\n * Handle when a new output is added\n */\nfunction handle_add_output(event, handle) {\n  var output_area = handle.output_area;\n  var output = handle.output;\n  if ((output.data == undefined) || (!output.data.hasOwnProperty(EXEC_MIME_TYPE))) {\n    return\n  }\n  var id = output.metadata[EXEC_MIME_TYPE][\"id\"];\n  var toinsert = output_area.element.find(\".\" + CLASS_NAME.split(' ')[0]);\n  if (id !== undefined) {\n    var nchildren = toinsert.length;\n    var html_node = toinsert[nchildren-1].children[0];\n    html_node.innerHTML = output.data[HTML_MIME_TYPE];\n    var scripts = [];\n    var nodelist = html_node.querySelectorAll(\"script\");\n    for (var i in nodelist) {\n      if (nodelist.hasOwnProperty(i)) {\n        scripts.push(nodelist[i])\n      }\n    }\n\n    scripts.forEach( function (oldScript) {\n      var newScript = document.createElement(\"script\");\n      var attrs = [];\n      var nodemap = oldScript.attributes;\n      for (var j in nodemap) {\n        if (nodemap.hasOwnProperty(j)) {\n          attrs.push(nodemap[j])\n        }\n      }\n      attrs.forEach(function(attr) { newScript.setAttribute(attr.name, attr.value) });\n      newScript.appendChild(document.createTextNode(oldScript.innerHTML));\n      oldScript.parentNode.replaceChild(newScript, oldScript);\n    });\n    if (JS_MIME_TYPE in output.data) {\n      toinsert[nchildren-1].children[1].textContent = output.data[JS_MIME_TYPE];\n    }\n    output_area._hv_plot_id = id;\n    if ((window.Bokeh !== undefined) && (id in Bokeh.index)) {\n      window.PyViz.plot_index[id] = Bokeh.index[id];\n    } else {\n      window.PyViz.plot_index[id] = null;\n    }\n  } else if (output.metadata[EXEC_MIME_TYPE][\"server_id\"] !== undefined) {\n    var bk_div = document.createElement(\"div\");\n    bk_div.innerHTML = output.data[HTML_MIME_TYPE];\n    var script_attrs = bk_div.children[0].attributes;\n    for (var i = 0; i < script_attrs.length; i++) {\n      toinsert[toinsert.length - 1].childNodes[1].setAttribute(script_attrs[i].name, script_attrs[i].value);\n    }\n    // store reference to server id on output_area\n    output_area._bokeh_server_id = output.metadata[EXEC_MIME_TYPE][\"server_id\"];\n  }\n}\n\n/**\n * Handle when an output is cleared or removed\n */\nfunction handle_clear_output(event, handle) {\n  var id = handle.cell.output_area._hv_plot_id;\n  var server_id = handle.cell.output_area._bokeh_server_id;\n  if (((id === undefined) || !(id in PyViz.plot_index)) && (server_id !== undefined)) { return; }\n  var comm = window.PyViz.comm_manager.get_client_comm(\"hv-extension-comm\", \"hv-extension-comm\", function () {});\n  if (server_id !== null) {\n    comm.send({event_type: 'server_delete', 'id': server_id});\n    return;\n  } else if (comm !== null) {\n    comm.send({event_type: 'delete', 'id': id});\n  }\n  delete PyViz.plot_index[id];\n  if ((window.Bokeh !== undefined) & (id in window.Bokeh.index)) {\n    var doc = window.Bokeh.index[id].model.document\n    doc.clear();\n    const i = window.Bokeh.documents.indexOf(doc);\n    if (i > -1) {\n      window.Bokeh.documents.splice(i, 1);\n    }\n  }\n}\n\n/**\n * Handle kernel restart event\n */\nfunction handle_kernel_cleanup(event, handle) {\n  delete PyViz.comms[\"hv-extension-comm\"];\n  window.PyViz.plot_index = {}\n}\n\n/**\n * Handle update_display_data messages\n */\nfunction handle_update_output(event, handle) {\n  handle_clear_output(event, {cell: {output_area: handle.output_area}})\n  handle_add_output(event, handle)\n}\n\nfunction register_renderer(events, OutputArea) {\n  function append_mime(data, metadata, element) {\n    // create a DOM node to render to\n    var toinsert = this.create_output_subarea(\n    metadata,\n    CLASS_NAME,\n    EXEC_MIME_TYPE\n    );\n    this.keyboard_manager.register_events(toinsert);\n    // Render to node\n    var props = {data: data, metadata: metadata[EXEC_MIME_TYPE]};\n    render(props, toinsert[0]);\n    element.append(toinsert);\n    return toinsert\n  }\n\n  events.on('output_added.OutputArea', handle_add_output);\n  events.on('output_updated.OutputArea', handle_update_output);\n  events.on('clear_output.CodeCell', handle_clear_output);\n  events.on('delete.Cell', handle_clear_output);\n  events.on('kernel_ready.Kernel', handle_kernel_cleanup);\n\n  OutputArea.prototype.register_mime_type(EXEC_MIME_TYPE, append_mime, {\n    safe: true,\n    index: 0\n  });\n}\n\nif (window.Jupyter !== undefined) {\n  try {\n    var events = require('base/js/events');\n    var OutputArea = require('notebook/js/outputarea').OutputArea;\n    if (OutputArea.prototype.mime_types().indexOf(EXEC_MIME_TYPE) == -1) {\n      register_renderer(events, OutputArea);\n    }\n  } catch(err) {\n  }\n}\n",
      "application/vnd.holoviews_load.v0+json": ""
     },
     "metadata": {},
     "output_type": "display_data"
    },
    {
     "data": {
      "text/html": [
       "<style>.bk-root, .bk-root .bk:before, .bk-root .bk:after {\n",
       "  font-family: var(--jp-ui-font-size1);\n",
       "  font-size: var(--jp-ui-font-size1);\n",
       "  color: var(--jp-ui-font-color1);\n",
       "}\n",
       "</style>"
      ]
     },
     "metadata": {},
     "output_type": "display_data"
    },
    {
     "data": {
      "text/html": [
       "\n",
       "<div class=\"logo-block\">\n",
       "<img src='data:image/png;base64,iVBORw0KGgoAAAANSUhEUgAAAEAAAABACAYAAACqaXHeAAAABHNCSVQICAgIfAhkiAAAAAlwSFlz\n",
       "AAAB+wAAAfsBxc2miwAAABl0RVh0U29mdHdhcmUAd3d3Lmlua3NjYXBlLm9yZ5vuPBoAAA6zSURB\n",
       "VHic7ZtpeFRVmsf/5966taWqUlUJ2UioBBJiIBAwCZtog9IOgjqACsogKtqirT2ttt069nQ/zDzt\n",
       "tI4+CrJIREFaFgWhBXpUNhHZQoKBkIUASchWla1S+3ar7r1nPkDaCAnZKoQP/D7mnPOe9/xy76n3\n",
       "nFSAW9ziFoPFNED2LLK5wcyBDObkb8ZkxuaoSYlI6ZcOKq1eWFdedqNzGHQBk9RMEwFAASkk0Xw3\n",
       "ETacDNi2vtvc7L0ROdw0AjoSotQVkKSvHQz/wRO1lScGModBFbDMaNRN1A4tUBCS3lk7BWhQkgpD\n",
       "lG4852/+7DWr1R3uHAZVQDsbh6ZPN7CyxUrCzJMRouusj0ipRwD2uKm0Zn5d2dFwzX1TCGhnmdGo\n",
       "G62Nna+isiUqhkzuKrkQaJlPEv5mFl2fvGg2t/VnzkEV8F5ioioOEWkLG86fvbpthynjdhXYZziQ\n",
       "x1hC9J2NFyi8vCTt91Fh04KGip0AaG9zuCk2wQCVyoNU3Hjezee9bq92duzzTmxsRJoy+jEZZZYo\n",
       "GTKJ6SJngdJqAfRzpze0+jHreUtPc7gpBLQnIYK6BYp/uGhw9YK688eu7v95ysgshcg9qSLMo3JC\n",
       "4jqLKQFBgdKDPoQ+Pltb8dUyQLpeDjeVgI6EgLIQFT5tEl3rn2losHVsexbZ3EyT9wE1uGdkIPcy\n",
       "BGxn8QUq1QrA5nqW5i2tLqvrrM9NK6AdkVIvL9E9bZL/oyfMVd/jqvc8LylzRBKDJSzIExwhQzuL\n",
       "QYGQj4rHfFTc8mUdu3E7yoLtbTe9gI4EqVgVkug2i5+uXGo919ixbRog+3fTbQ8qJe4ZOYNfMoTI\n",
       "OoshUNosgO60AisX15aeI2PSIp5KiFLI9ubb1vV3Qb2ltwLakUCDAkWX7/nHKRmmGIl9VgYsUhJm\n",
       "2NXjKYADtM1ygne9QQDIXlk49FBstMKx66D1v4+XuQr7vqTe0VcBHQlRWiOCbmmSYe2SqtL6q5rJ\n",
       "zsTb7lKx3FKOYC4DoqyS/B5bvLPxvD9Qtf6saxYLQGJErmDOdOMr/zo96km1nElr8bmPOBwI9COv\n",
       "HnFPRIwmkSOv9kcAS4heRsidOkpeWBgZM+UBrTFAXNYL5Vf2ii9c1trNzpYdaoVil3WIc+wdk+gQ\n",
       "noie3ecCcxt9ITcLAPWt/laGEO/9U6PmzZkenTtsSMQ8uYywJVW+grCstAvCIaAdArAsIWkRDDs/\n",
       "KzLm2YcjY1Lv0UdW73HabE9n6V66cxSzfEmuJssTpKGVp+0vHq73FwL46eOjpMpbRAnNmJFrGJNu\n",
       "Ukf9Yrz+3rghiumCKNXXWPhLYcjxGsIpoCMsIRoFITkW8AuyM8jC1+/QLx4bozCEJIq38+1rtpR6\n",
       "V/yzb8eBlRb3fo5l783N0CWolAzJHaVNzkrTzlEp2bQ2q3TC5gn6wpnoQAmwSiGh2GitnTmVMc5O\n",
       "UyfKWUKCIsU7+fZDKwqdT6DDpvkzAX4/+AMFjk0tDp5GRXLpQ2MUmhgDp5gxQT8+Y7hyPsMi8uxF\n",
       "71H0oebujHALECjFKaW9Lm68n18wXp2kVzIcABytD5iXFzg+WVXkegpAsOOYziqo0OkK76GyquC3\n",
       "ltZAzMhhqlSNmmWTE5T6e3IN05ITFLM4GdN0vtZ3ob8Jh1NAKXFbm5PtLU/eqTSlGjkNAJjdgn/N\n",
       "aedXa0tdi7+t9G0FIF49rtMSEgAs1kDLkTPO7ebm4IUWeyh1bKomXqlgMG6kJmHcSM0clYLJ8XtR\n",
       "1GTnbV3F6I5wCGikAb402npp1h1s7LQUZZSMIfALFOuL3UUrfnS8+rez7v9qcold5tilgHbO1fjK\n",
       "9ubb17u9oshxzMiUBKXWqJNxd+fqb0tLVs4lILFnK71H0Ind7uiPgACVcFJlrb0tV6DzxqqTIhUM\n",
       "CwDf1/rrVhTa33/3pGPxJYdQ2l2cbgVcQSosdx8uqnDtbGjh9SlDVSMNWhlnilfqZk42Th2ZpLpf\n",
       "xrHec5e815zrr0dfBZSwzkZfqsv+1FS1KUknUwPARVvItfKUY+cn57yP7qv07UE3p8B2uhUwLk09\n",
       "e0SCOrK+hbdYHYLjRIl71wWzv9jpEoeOHhGRrJAzyEyNiJuUqX0g2sBN5kGK6y2Blp5M3lsB9Qh4\n",
       "y2Ja6x6+i0ucmKgwMATwhSjdUu49tKrQ/pvN5d53ml2CGwCmJipmKjgmyuaXzNeL2a0AkQ01Th5j\n",
       "2DktO3Jyk8f9vcOBQHV94OK+fPumJmvQHxJoWkaKWq9Vs+yUsbq0zGT1I4RgeH2b5wef7+c7bl8F\n",
       "eKgoHVVZa8ZPEORzR6sT1BzDUAD/d9F78e2Tzv99v8D+fLVTqAKAsbGamKey1Mt9Ann4eH3gTXTz\n",
       "idWtAJ8PQWOk7NzSeQn/OTHDuEikVF1R4z8BQCy+6D1aWRfY0tTGG2OM8rRoPaeIj5ZHzJxszElN\n",
       "VM8K8JS5WOfv8mzRnQAKoEhmt8gyPM4lU9SmBK1MCQBnW4KONT86v1hZ1PbwSXPw4JWussVjtH9Y\n",
       "NCoiL9UoH/6PSu8jFrfY2t36erQHXLIEakMi1SydmzB31h3GGXFDFNPaK8Rme9B79Ixrd0WN+1ij\n",
       "NRQ/doRmuFLBkHSTOm5GruG+pFjFdAmorG4IXH1Qua6ASniclfFtDYt+oUjKipPrCQB7QBQ2lrgP\n",
       "fFzm+9XWUtcqJ3/5vDLDpJ79XHZk3u8nGZ42qlj1+ydtbxysCezrydp6ugmipNJ7WBPB5tydY0jP\n",
       "HaVNzs3QzeE4ZpTbI+ZbnSFPbVOw9vsfnVvqWnirPyCNGD08IlqtYkh2hjZ5dErEQzoNm+6ykyOt\n",
       "Lt5/PQEuSRRKo22VkydK+vvS1XEKlhCJAnsqvcVvH7f/ZU2R67eXbMEGAMiIV5oWZWiWvz5Fv2xG\n",
       "sjqNJQRvn3Rs2lji/lNP19VjAQDgD7FHhujZB9OGqYxRkZxixgRDVlqS6uEOFaJUVu0rPFzctrnF\n",
       "JqijImVp8dEKVWyUXDk92zAuMZ6bFwpBU1HrOw6AdhQgUooChb0+ItMbWJitSo5Ws3IAOGEOtL53\n",
       "0vHZih9sC4vtofZ7Qu6523V/fmGcds1TY3V36pUsBwAbSlxnVh2xLfAD/IAIMDf7XYIkNmXfpp2l\n",
       "18rkAJAy9HKFaIr/qULkeQQKy9zf1JgDB2uaeFNGijo5QsUyacNUUTOnGO42xSnv4oOwpDi1zYkc\n",
       "efUc3I5Gk6PhyTuVKaOGyLUAYPGIoY9Pu/atL/L92+4q9wbflRJ2Trpm/jPjdBtfnqB/dIThcl8A\n",
       "KG7hbRuKnb8qsQsVvVlTrwQAQMUlf3kwJI24Z4JhPMtcfng5GcH49GsrxJpGvvHIaeem2ma+KSjQ\n",
       "lIwUdYyCY8j4dE1KzijNnIP2llF2wcXNnsoapw9XxsgYAl6k+KzUXbi2yP3KR2ecf6z3BFsBICdW\n",
       "nvnIaG3eHybqX7vbpEqUMT+9OL4Qpe8VON7dXuFd39v19FoAABRVePbGGuXTszO0P7tu6lghUonE\n",
       "llRdrhArLvmKdh9u29jcFiRRkfLUxBiFNiqSU9icoZQHo5mYBI1MBgBH6wMNb+U7Pnw337H4gi1Y\n",
       "ciWs+uks3Z9fztUvfzxTm9Ne8XXkvQLHNytOOZeiD4e0PgkAIAYCYknKUNUDSXEKzdWNpnil7r4p\n",
       "xqkjTarZMtk/K8TQ6Qve78qqvXurGwIJqcOUKfUWHsm8KGvxSP68YudXq4pcj39X49uOK2X142O0\n",
       "Tz5/u/7TVybqH0rSya6ZBwD21/gubbrgWdDgEOx9WUhfBaC2ibcEBYm7a7x+ukrBMNcEZggyR0TE\n",
       "T8zUPjikQ4VosQZbTpS4vqizBKvqmvjsqnpfzaZyx9JPiz1/bfGKdgD45XB1zoIMzYbfTdS/NClB\n",
       "Gct0USiY3YL/g0LHy/uq/Ef6uo5+n0R/vyhp17Klpge763f8rMu6YU/zrn2nml+2WtH+Z+5IAAFc\n",
       "2bUTdTDOSNa9+cQY7YLsOIXhevEkCvzph7a8laecz/Un/z4/Ae04XeL3UQb57IwU9ZDr9UuKVajv\n",
       "nxp1+1UVIo/LjztZkKH59fO3G/JemqCfmaCRqbqbd90ZZ8FfjtkfAyD0J/9+C2h1hDwsSxvGjNDc\n",
       "b4zk5NfrSwiQblLHzZhg+Jf4aPlUwpDqkQqa9nimbt1/TDH8OitGMaQnj+RJS6B1fbF7SY1TqO5v\n",
       "/v0WAADl1f7zokgS7s7VT2DZ7pegUjBM7mjtiDZbcN4j0YrHH0rXpCtY0qPX0cVL0rv5jv/ZXend\n",
       "0u/EESYBAFBU4T4Qa5TflZOhTe7pmKpaP8kCVUVw1+yhXfJWvn1P3hnXi33JsTN6PnP3hHZ8Z3/h\n",
       "aLHzmkNPuPj7Bc/F/Q38CwjTpSwQXgE4Vmwry9tpfq/ZFgqFMy4AVDtCvi8rvMvOmv0N4YwbVgEA\n",
       "sPM72/KVnzfspmH7HQGCRLG2yL1+z8XwvPcdCbsAANh+xPzstgMtxeGKt+6MK3/tacfvwhWvIwMi\n",
       "oKEBtm0H7W+UVfkc/Y1V0BhoPlDr/w1w/eu1vjIgAgDg22OtX6/eYfnEz/focrZTHAFR+PSs56/7\n",
       "q32nwpjazxgwAQCwcU/T62t3WL7r6/jVRa6/byp1rei+Z98ZUAEAhEPHPc8fKnTU9nbgtnOe8h0l\n",
       "9hcGIqmODLQAHCy2Xti6v/XNRivf43f4fFvIteu854+VHnR7q9tfBlwAAGz+pnndB9vM26UebAe8\n",
       "SLHujPOTPVW+rwY+sxskAAC2HrA8t2Vvc7ffP1r9o+vwR2dcr92InIAbKKC1FZ5tB1tf+/G8p8sv\n",
       "N/9Q5zd/XR34LYCwV5JdccMEAMDBk45DH243r/X4xGvqxFa/GNpS7n6rwOwNWwHVE26oAADYurf1\n",
       "zx/utOzt+DMKYM0p17YtZZ5VNzqfsB2HewG1WXE8PoZ7gOclbTIvynZf9JV+fqZtfgs/8F/Nu5rB\n",
       "EIBmJ+8QRMmpU7EzGRsf2FzuePqYRbzh/zE26EwdrT10f6r6o8HOYzCJB9Dpff8tbnGLG8L/A/WE\n",
       "roTBs2RqAAAAAElFTkSuQmCC'\n",
       "     style='height:25px; border-radius:12px; display: inline-block; float: left; vertical-align: middle'></img>\n",
       "\n",
       "\n",
       "  <img src='data:image/png;base64,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'\n",
       "       style='height:15px; border-radius:12px; display: inline-block; float: left'></img>\n",
       "  \n",
       "\n",
       "\n",
       "\n",
       "\n",
       "</div>\n"
      ]
     },
     "metadata": {},
     "output_type": "display_data"
    },
    {
     "data": {},
     "metadata": {},
     "output_type": "display_data"
    },
    {
     "data": {
      "application/vnd.holoviews_exec.v0+json": "",
      "text/html": [
       "<div id='1002'>\n",
       "  <div class=\"bk-root\" id=\"b9c8d80d-62f5-404c-9ee5-60768c3529c4\" data-root-id=\"1002\"></div>\n",
       "</div>\n",
       "<script type=\"application/javascript\">(function(root) {\n",
       "  function embed_document(root) {\n",
       "    var docs_json = {\"b158f2f8-6114-4f5f-8047-7293ec4a2f9e\":{\"defs\":[{\"extends\":null,\"module\":null,\"name\":\"ReactiveHTML1\",\"overrides\":[],\"properties\":[]},{\"extends\":null,\"module\":null,\"name\":\"FlexBox1\",\"overrides\":[],\"properties\":[{\"default\":\"flex-start\",\"kind\":null,\"name\":\"align_content\"},{\"default\":\"flex-start\",\"kind\":null,\"name\":\"align_items\"},{\"default\":\"row\",\"kind\":null,\"name\":\"flex_direction\"},{\"default\":\"wrap\",\"kind\":null,\"name\":\"flex_wrap\"},{\"default\":\"flex-start\",\"kind\":null,\"name\":\"justify_content\"}]},{\"extends\":null,\"module\":null,\"name\":\"GridStack1\",\"overrides\":[],\"properties\":[{\"default\":\"warn\",\"kind\":null,\"name\":\"mode\"},{\"default\":null,\"kind\":null,\"name\":\"ncols\"},{\"default\":null,\"kind\":null,\"name\":\"nrows\"},{\"default\":true,\"kind\":null,\"name\":\"allow_resize\"},{\"default\":true,\"kind\":null,\"name\":\"allow_drag\"},{\"default\":[],\"kind\":null,\"name\":\"state\"}]},{\"extends\":null,\"module\":null,\"name\":\"click1\",\"overrides\":[],\"properties\":[{\"default\":\"\",\"kind\":null,\"name\":\"terminal_output\"},{\"default\":\"\",\"kind\":null,\"name\":\"debug_name\"},{\"default\":0,\"kind\":null,\"name\":\"clears\"}]},{\"extends\":null,\"module\":null,\"name\":\"NotificationAreaBase1\",\"overrides\":[],\"properties\":[{\"default\":\"bottom-right\",\"kind\":null,\"name\":\"position\"},{\"default\":0,\"kind\":null,\"name\":\"_clear\"}]},{\"extends\":null,\"module\":null,\"name\":\"NotificationArea1\",\"overrides\":[],\"properties\":[{\"default\":[],\"kind\":null,\"name\":\"notifications\"},{\"default\":\"bottom-right\",\"kind\":null,\"name\":\"position\"},{\"default\":0,\"kind\":null,\"name\":\"_clear\"},{\"default\":[{\"background\":\"#ffc107\",\"icon\":{\"className\":\"fas fa-exclamation-triangle\",\"color\":\"white\",\"tagName\":\"i\"},\"type\":\"warning\"},{\"background\":\"#007bff\",\"icon\":{\"className\":\"fas fa-info-circle\",\"color\":\"white\",\"tagName\":\"i\"},\"type\":\"info\"}],\"kind\":null,\"name\":\"types\"}]},{\"extends\":null,\"module\":null,\"name\":\"Notification\",\"overrides\":[],\"properties\":[{\"default\":null,\"kind\":null,\"name\":\"background\"},{\"default\":3000,\"kind\":null,\"name\":\"duration\"},{\"default\":null,\"kind\":null,\"name\":\"icon\"},{\"default\":\"\",\"kind\":null,\"name\":\"message\"},{\"default\":null,\"kind\":null,\"name\":\"notification_type\"},{\"default\":false,\"kind\":null,\"name\":\"_destroyed\"}]},{\"extends\":null,\"module\":null,\"name\":\"TemplateActions1\",\"overrides\":[],\"properties\":[{\"default\":0,\"kind\":null,\"name\":\"open_modal\"},{\"default\":0,\"kind\":null,\"name\":\"close_modal\"}]},{\"extends\":null,\"module\":null,\"name\":\"MaterialTemplateActions1\",\"overrides\":[],\"properties\":[{\"default\":0,\"kind\":null,\"name\":\"open_modal\"},{\"default\":0,\"kind\":null,\"name\":\"close_modal\"}]}],\"roots\":{\"references\":[{\"attributes\":{\"line_alpha\":{\"value\":1.0},\"line_cap\":{\"value\":\"butt\"},\"line_color\":{\"value\":\"black\"},\"line_dash\":{\"value\":[]},\"line_dash_offset\":{\"value\":0},\"line_join\":{\"value\":\"bevel\"},\"line_width\":{\"value\":1},\"tags\":[\"apply_ranges\"],\"x0\":{\"field\":\"x0\"},\"x1\":{\"field\":\"x1\"},\"y0\":{\"field\":\"y0\"},\"y1\":{\"field\":\"y1\"}},\"id\":\"1048\",\"type\":\"Segment\"},{\"attributes\":{\"end\":1708530236400.0,\"reset_end\":1708530236400.0,\"reset_start\":1708505763600.0,\"start\":1708505763600.0,\"tags\":[[[\"x0\",\"x0\",null]]]},\"id\":\"1003\",\"type\":\"Range1d\"},{\"attributes\":{\"coordinates\":null,\"data_source\":{\"id\":\"1058\"},\"glyph\":{\"id\":\"1061\"},\"group\":null,\"hover_glyph\":null,\"muted_glyph\":{\"id\":\"1063\"},\"nonselection_glyph\":{\"id\":\"1062\"},\"selection_glyph\":{\"id\":\"1066\"},\"view\":{\"id\":\"1065\"}},\"id\":\"1064\",\"type\":\"GlyphRenderer\"},{\"attributes\":{\"source\":{\"id\":\"1058\"}},\"id\":\"1065\",\"type\":\"CDSView\"},{\"attributes\":{},\"id\":\"1059\",\"type\":\"Selection\"},{\"attributes\":{\"base\":60,\"mantissas\":[1,2,5,10,15,20,30],\"max_interval\":1800000.0,\"min_interval\":1000.0,\"num_minor_ticks\":0},\"id\":\"1086\",\"type\":\"AdaptiveTicker\"},{\"attributes\":{\"data\":{\"bottom\":{\"__ndarray__\":\"AAAAAABAZUAAAAAAANhkQAAAAAAAaGRAAAAAAADQZUAAAAAAAKBlQDMzMzMza2VAAAAAAABgY0CamZmZmaFiQGZmZmZmrmJAZmZmZmY+YUAzMzMzM1thQAAAAAAAcGBAzczMzMwcYEBmZmZmZnZfQGZmZmZmpmFAzczMzMwUYEAAAAAAAGBjQJqZmZmZiWJAAAAAAABAYkAAAAAAAIBjQGZmZmZmBmNAAAAAAABYY0CamZmZmVliQM3MzMzMzGRAmpmZmZlRZECamZmZmfFiQAAAAAAAIGNAMzMzMzPDYkBmZmZmZl5hQJqZmZmZkWJAzczMzMyMXUDNzMzMzIxcQDMzMzMz41lAmpmZmZmJWEAAAAAAABBWQGZmZmZmxk5AMzMzMzNTTUBmZmZmZqZGQAAAAAAAIEZAmpmZmZmZRUAzMzMzM/NEQAAAAAAAoEJAzczMzMysRkCamZmZmblCQAAAAAAAIEBA\",\"dtype\":\"float64\",\"order\":\"little\",\"shape\":[45]},\"left\":{\"__ndarray__\":\"AACGIK/ceEIAAMRpr9x4QgAAArOv3HhCAAC8jrDceEIAAPrXsNx4QgAAOCGx3HhCAAAwRrLceEIAAG6Pstx4QgAArNiy3HhCAADqIbPceEIAAGa0s9x4QgAApP2z3HhCAADiRrTceEIAACCQtNx4QgAAVv613HhCAACUR7bceEIAAEZIuNx4QgAAhJG43HhCAADC2rjceEIAAHy2udx4QgAAuv+53HhCAAA2krrceEIAAHTbutx4QgAALre73HhCAABsALzceEIAAKpJvNx4QgAAJty83HhCAABkJb3ceEIAAKJuvdx4QgAAXEq+3HhCAACak77ceEIAANjcvtx4QgAAVG+/3HhCAACSuL/ceEIAANABwNx4QgAATJTA3HhCAADIJsHceEIAAAZwwdx4QgAARLnB3HhCAACCAsLceEIAAMBLwtx4QgAA/pTC3HhCAAD2ucPceEIAADQDxNx4QgAAckzE3HhC\",\"dtype\":\"float64\",\"order\":\"little\",\"shape\":[45]},\"right\":{\"__ndarray__\":\"AAA+LK/ceEIAAHx1r9x4QgAAur6v3HhCAAB0mrDceEIAALLjsNx4QgAA8Cyx3HhCAADoUbLceEIAACabstx4QgAAZOSy3HhCAACiLbPceEIAAB7As9x4QgAAXAm03HhCAACaUrTceEIAANibtNx4QgAADgq23HhCAABMU7bceEIAAP5TuNx4QgAAPJ243HhCAAB65rjceEIAADTCudx4QgAAcgu63HhCAADunbrceEIAACznutx4QgAA5sK73HhCAAAkDLzceEIAAGJVvNx4QgAA3ue83HhCAAAcMb3ceEIAAFp6vdx4QgAAFFa+3HhCAABSn77ceEIAAJDovtx4QgAADHu/3HhCAABKxL/ceEIAAIgNwNx4QgAABKDA3HhCAACAMsHceEIAAL57wdx4QgAA/MTB3HhCAAA6DsLceEIAAHhXwtx4QgAAtqDC3HhCAACuxcPceEIAAOwOxNx4QgAAKljE3HhC\",\"dtype\":\"float64\",\"order\":\"little\",\"shape\":[45]},\"top\":{\"__ndarray__\":\"mpmZmZkBZ0AAAAAAAEBlQGZmZmZm7mRAZmZmZmYWZkAAAAAAANBlQDMzMzMzq2VAZmZmZmYGZkCamZmZmQljQAAAAAAAsGJAAAAAAAC4YkBmZmZmZmZiQAAAAAAAWGFAAAAAAABgYEDNzMzMzBxgQJqZmZmZEWJAzczMzMysYUDNzMzMzIxjQAAAAAAAYGNAmpmZmZmRYkAAAAAAAKBjQAAAAAAAgGNAAAAAAABIZECamZmZmXFjQM3MzMzMLGVAZmZmZmbeZECamZmZmVFkQGZmZmZmPmNAAAAAAAAQY0BmZmZmZsZiQM3MzMzM3GNAmpmZmZmRYkDNzMzMzNxdQAAAAAAAkFxAMzMzMzPjWUAzMzMzM2NYQAAAAAAAkFhAMzMzMzPzTkBmZmZmZmZNQJqZmZmZ2UZAAAAAAABARkBmZmZmZoZFQJqZmZmZGUVAmpmZmZk5TUBmZmZmZkZGQGZmZmZmhkJA\",\"dtype\":\"float64\",\"order\":\"little\",\"shape\":[45]}},\"selected\":{\"id\":\"1059\"},\"selection_policy\":{\"id\":\"1082\"}},\"id\":\"1058\",\"type\":\"ColumnDataSource\"},{\"attributes\":{},\"id\":\"1035\",\"type\":\"DatetimeTickFormatter\"},{\"attributes\":{},\"id\":\"1036\",\"type\":\"AllLabels\"},{\"attributes\":{\"mantissas\":[1,2,5],\"max_interval\":500.0,\"num_minor_ticks\":0},\"id\":\"1085\",\"type\":\"AdaptiveTicker\"},{\"attributes\":{},\"id\":\"1012\",\"type\":\"LinearScale\"},{\"attributes\":{\"days\":[1,2,3,4,5,6,7,8,9,10,11,12,13,14,15,16,17,18,19,20,21,22,23,24,25,26,27,28,29,30,31]},\"id\":\"1088\",\"type\":\"DaysTicker\"},{\"attributes\":{\"base\":24,\"mantissas\":[1,2,4,6,8,12],\"max_interval\":43200000.0,\"min_interval\":3600000.0,\"num_minor_ticks\":0},\"id\":\"1087\",\"type\":\"AdaptiveTicker\"},{\"attributes\":{\"bottom\":{\"field\":\"bottom\"},\"fill_alpha\":{\"value\":0.2},\"fill_color\":{\"value\":\"green\"},\"hatch_alpha\":{\"value\":0.2},\"left\":{\"field\":\"left\"},\"line_alpha\":{\"value\":0.2},\"right\":{\"field\":\"right\"},\"tags\":[\"apply_ranges\"],\"top\":{\"field\":\"top\"}},\"id\":\"1054\",\"type\":\"Quad\"},{\"attributes\":{\"bottom\":{\"field\":\"bottom\"},\"fill_alpha\":{\"value\":0.1},\"fill_color\":{\"value\":\"green\"},\"hatch_alpha\":{\"value\":0.1},\"left\":{\"field\":\"left\"},\"line_alpha\":{\"value\":0.1},\"right\":{\"field\":\"right\"},\"tags\":[\"apply_ranges\"],\"top\":{\"field\":\"top\"}},\"id\":\"1053\",\"type\":\"Quad\"},{\"attributes\":{\"days\":[1,4,7,10,13,16,19,22,25,28]},\"id\":\"1089\",\"type\":\"DaysTicker\"},{\"attributes\":{\"children\":[{\"id\":\"1005\"}],\"height\":400,\"margin\":[0,0,0,0],\"name\":\"Row01002\",\"sizing_mode\":\"fixed\",\"tags\":[\"embedded\"],\"width\":800},\"id\":\"1002\",\"type\":\"Row\"},{\"attributes\":{},\"id\":\"1082\",\"type\":\"UnionRenderers\"},{\"attributes\":{},\"id\":\"1010\",\"type\":\"LinearScale\"},{\"attributes\":{\"bottom\":{\"field\":\"bottom\"},\"fill_color\":{\"value\":\"green\"},\"left\":{\"field\":\"left\"},\"right\":{\"field\":\"right\"},\"tags\":[\"apply_ranges\"],\"top\":{\"field\":\"top\"}},\"id\":\"1052\",\"type\":\"Quad\"},{\"attributes\":{},\"id\":\"1022\",\"type\":\"SaveTool\"},{\"attributes\":{},\"id\":\"1023\",\"type\":\"PanTool\"},{\"attributes\":{\"months\":[0,1,2,3,4,5,6,7,8,9,10,11]},\"id\":\"1092\",\"type\":\"MonthsTicker\"},{\"attributes\":{\"data\":{\"x0\":{\"__ndarray__\":\"AABiJq/ceEIAAKBvr9x4QgAA3riv3HhCAAAcArDceEIAAFpLsNx4QgAAmJSw3HhCAADW3bDceEIAABQnsdx4QgAAUnCx3HhCAACQubHceEIAAM4Cstx4QgAADEyy3HhCAABKlbLceEIAAIjestx4QgAAxiez3HhCAAAEcbPceEIAAEK6s9x4QgAAgAO03HhCAAC+TLTceEIAAPyVtNx4QgAAOt+03HhCAAB4KLXceEIAALZxtdx4QgAA9Lq13HhCAAAyBLbceEIAAHBNttx4QgAArpa23HhCAADs37bceEIAACopt9x4QgAAaHK33HhCAACmu7fceEIAAOQEuNx4QgAAIk643HhCAABgl7jceEIAAJ7guNx4QgAA3Cm53HhCAAAac7nceEIAAFi8udx4QgAAlgW63HhCAADUTrrceEIAABKYutx4QgAAUOG63HhCAACOKrvceEIAAMxzu9x4QgAACr273HhCAABIBrzceEIAAIZPvNx4QgAAxJi83HhCAAAC4rzceEIAAEArvdx4QgAAfnS93HhCAAC8vb3ceEIAAPoGvtx4QgAAOFC+3HhCAAB2mb7ceEIAALTivtx4QgAA8iu/3HhCAAAwdb/ceEIAAG6+v9x4QgAArAfA3HhCAADqUMDceEIAACiawNx4QgAAZuPA3HhCAACkLMHceEIAAOJ1wdx4QgAAIL/B3HhCAABeCMLceEIAAJxRwtx4QgAA2prC3HhCAAAY5MLceEIAAFYtw9x4QgAAlHbD3HhCAADSv8PceEIAABAJxNx4QgAATlLE3HhC\",\"dtype\":\"float64\",\"order\":\"little\",\"shape\":[75]},\"x1\":{\"__ndarray__\":\"AABiJq/ceEIAAKBvr9x4QgAA3riv3HhCAAAcArDceEIAAFpLsNx4QgAAmJSw3HhCAADW3bDceEIAABQnsdx4QgAAUnCx3HhCAACQubHceEIAAM4Cstx4QgAADEyy3HhCAABKlbLceEIAAIjestx4QgAAxiez3HhCAAAEcbPceEIAAEK6s9x4QgAAgAO03HhCAAC+TLTceEIAAPyVtNx4QgAAOt+03HhCAAB4KLXceEIAALZxtdx4QgAA9Lq13HhCAAAyBLbceEIAAHBNttx4QgAArpa23HhCAADs37bceEIAACopt9x4QgAAaHK33HhCAACmu7fceEIAAOQEuNx4QgAAIk643HhCAABgl7jceEIAAJ7guNx4QgAA3Cm53HhCAAAac7nceEIAAFi8udx4QgAAlgW63HhCAADUTrrceEIAABKYutx4QgAAUOG63HhCAACOKrvceEIAAMxzu9x4QgAACr273HhCAABIBrzceEIAAIZPvNx4QgAAxJi83HhCAAAC4rzceEIAAEArvdx4QgAAfnS93HhCAAC8vb3ceEIAAPoGvtx4QgAAOFC+3HhCAAB2mb7ceEIAALTivtx4QgAA8iu/3HhCAAAwdb/ceEIAAG6+v9x4QgAArAfA3HhCAADqUMDceEIAACiawNx4QgAAZuPA3HhCAACkLMHceEIAAOJ1wdx4QgAAIL/B3HhCAABeCMLceEIAAJxRwtx4QgAA2prC3HhCAAAY5MLceEIAAFYtw9x4QgAAlHbD3HhCAADSv8PceEIAABAJxNx4QgAATlLE3HhC\",\"dtype\":\"float64\",\"order\":\"little\",\"shape\":[75]},\"y0\":{\"__ndarray__\":\"zczMzMxsZEDNzMzMzJRjQAAAAAAAQGNAmpmZmZnxYkAzMzMzMztkQM3MzMzM1GRAmpmZmZkxZUAAAAAAAEhlQJqZmZmZGWRAZmZmZmZmZUBmZmZmZuZkQGZmZmZmDmJAzczMzMxsYkAzMzMzMythQGZmZmZmFmBAmpmZmZl5YEDNzMzMzDxhQAAAAAAAIGBAZmZmZmYmXkAAAAAAAJBdQGZmZmZmhl5AAAAAAACoYEAAAAAAAHBgQAAAAAAAiGFAZmZmZmb2YEAzMzMzM7NfQM3MzMzM7F5AmpmZmZlhYEAAAAAAAOBgQJqZmZmZsWFAzczMzMzcYUAAAAAAAFBiQAAAAAAAEGNAZmZmZmZ+YkAzMzMzM7NhQGZmZmZm3mFAZmZmZmamYkAzMzMzMxtjQGZmZmZmpmJAAAAAAAD4YkAAAAAAADhjQJqZmZmZSWJAAAAAAAAQYkAAAAAAAEBjQJqZmZmZWWRAAAAAAAAYZECamZmZmXliQAAAAAAAmGJAMzMzMzMTY0CamZmZmVFiQJqZmZmZUWFAZmZmZmbGYEDNzMzMzFRiQGZmZmZmhmJAzczMzMwsXECamZmZmXlcQJqZmZmZyVpAzczMzMzMVUCamZmZmWlXQM3MzMzMTFVAAAAAAABgVUDNzMzMzMxNQGZmZmZm5kpAAAAAAACAS0CamZmZmZlGQM3MzMzMzENAAAAAAABAQ0AAAAAAACBEQAAAAAAAIEBAAAAAAADgQEAAAAAAAOBCQJqZmZmZeUZAMzMzMzMzRUAzMzMzM3NCQAAAAAAAAD5A\",\"dtype\":\"float64\",\"order\":\"little\",\"shape\":[75]},\"y1\":{\"__ndarray__\":\"mpmZmZlxZ0AAAAAAAMBlQM3MzMzMhGVAMzMzMzOzZEDNzMzMzORmQJqZmZmZWWZAmpmZmZmpZkDNzMzMzCRnQDMzMzMzY2ZAAAAAAABQZkAAAAAAAFBmQM3MzMzMHGZAzczMzMxMZEAAAAAAAOBiQAAAAAAAaGNAAAAAAAAAY0CamZmZmdliQJqZmZmZ0WFAZmZmZmZ+YEAAAAAAAChgQJqZmZmZeWFAMzMzMzMzYkCamZmZmfFhQM3MzMzMfGJAMzMzMzMTYkAAAAAAAEBiQAAAAAAA4GBAAAAAAAB4YUAzMzMzMztiQM3MzMzMdGNAAAAAAAAIY0DNzMzMzIxjQM3MzMzMPGRAMzMzMzOTY0AzMzMzM+tiQM3MzMzM9GJAzczMzMzsY0AzMzMzM2tkQJqZmZmZ+WNAzczMzMxcZEBmZmZmZs5kQAAAAAAA8GNAmpmZmZnZY0CamZmZmXFlQJqZmZmZ2WVAmpmZmZlpZUAAAAAAAGhkQJqZmZmZqWNAAAAAAADgY0AAAAAAAFhjQAAAAAAA6GJAZmZmZmauYkDNzMzMzPxjQM3MzMzMRGRAMzMzMzObYkBmZmZmZmZfQAAAAAAA4F1AzczMzMzcXEDNzMzMzMxaQJqZmZmZ6VlAZmZmZmaWWEAzMzMzM5NYQGZmZmZmJlBAmpmZmZkJUEDNzMzMzKxNQJqZmZmZ2UZAAAAAAADARkCamZmZmdlHQJqZmZmZGUVAzczMzMxMRUCamZmZmRlKQM3MzMzMDE9AZmZmZmamTkBmZmZmZsZIQGZmZmZmJkNA\",\"dtype\":\"float64\",\"order\":\"little\",\"shape\":[75]}},\"selected\":{\"id\":\"1041\"},\"selection_policy\":{\"id\":\"1078\"}},\"id\":\"1040\",\"type\":\"ColumnDataSource\"},{\"attributes\":{\"data\":{\"bottom\":{\"__ndarray__\":\"AAAAAABIZEAAAAAAAFhkQJqZmZmZcWVAAAAAAADoZUAzMzMzM+tlQM3MzMzMPGFAzczMzMy8X0AAAAAAAFhhQGZmZmZmhmFAzczMzMzsYUAzMzMzMxNgQDMzMzMzs2BAMzMzMzMTYUAAAAAAAABiQAAAAAAAqGJAmpmZmZnBYkCamZmZmTliQJqZmZmZ4WJAAAAAAAD4YkCamZmZmbFiQGZmZmZmtmNAZmZmZmYGY0DNzMzMzGRhQDMzMzMzi2JAmpmZmZmZXEBmZmZmZiZWQAAAAAAAwE5AzczMzMyMQkAAAAAAAEBDQDMzMzMzs0lA\",\"dtype\":\"float64\",\"order\":\"little\",\"shape\":[30]},\"left\":{\"__ndarray__\":\"AABA/K/ceEIAAH5FsNx4QgAAdmqx3HhCAAC0s7HceEIAAPL8sdx4QgAAKGuz3HhCAABe2bTceEIAAJwitdx4QgAA2mu13HhCAAAYtbXceEIAANKQttx4QgAAENq23HhCAABOI7fceEIAAIxst9x4QgAAyrW33HhCAAAI/7fceEIAAAAkudx4QgAAPm253HhCAAD4SLrceEIAALIku9x4QgAA8G273HhCAADokrzceEIAAOC3vdx4QgAAHgG+3HhCAAAWJr/ceEIAAA5LwNx4QgAAit3A3HhCAAA83sLceEIAAHonw9x4QgAAuHDD3HhC\",\"dtype\":\"float64\",\"order\":\"little\",\"shape\":[30]},\"right\":{\"__ndarray__\":\"AAD4B7DceEIAADZRsNx4QgAALnax3HhCAABsv7HceEIAAKoIstx4QgAA4Haz3HhCAAAW5bTceEIAAFQutdx4QgAAkne13HhCAADQwLXceEIAAIqcttx4QgAAyOW23HhCAAAGL7fceEIAAER4t9x4QgAAgsG33HhCAADACrjceEIAALgvudx4QgAA9ni53HhCAACwVLrceEIAAGowu9x4QgAAqHm73HhCAACgnrzceEIAAJjDvdx4QgAA1gy+3HhCAADOMb/ceEIAAMZWwNx4QgAAQunA3HhCAAD06cLceEIAADIzw9x4QgAAcHzD3HhC\",\"dtype\":\"float64\",\"order\":\"little\",\"shape\":[30]},\"top\":{\"__ndarray__\":\"ZmZmZmZ2ZEAzMzMzMxNmQM3MzMzMxGVAMzMzMzPrZUAzMzMzM/tlQGZmZmZmZmJAAAAAAABYYUBmZmZmZoZhQAAAAAAA0GFAMzMzMzPzYUAzMzMzM7NgQJqZmZmZCWFAAAAAAAAAYkAAAAAAAKhiQDMzMzMzw2JAzczMzMyMY0AAAAAAAOhiQAAAAAAAmGNAMzMzMzMjZEBmZmZmZrZjQGZmZmZmNmVAAAAAAABAY0AAAAAAAIBiQDMzMzMzy2NAMzMzMzOjXEDNzMzMzIxYQM3MzMzMDE9AmpmZmZkZQ0AzMzMzM7NJQM3MzMzMTE1A\",\"dtype\":\"float64\",\"order\":\"little\",\"shape\":[30]}},\"selected\":{\"id\":\"1050\"},\"selection_policy\":{\"id\":\"1080\"}},\"id\":\"1049\",\"type\":\"ColumnDataSource\"},{\"attributes\":{},\"id\":\"1024\",\"type\":\"WheelZoomTool\"},{\"attributes\":{},\"id\":\"1039\",\"type\":\"AllLabels\"},{\"attributes\":{\"days\":[1,8,15,22]},\"id\":\"1090\",\"type\":\"DaysTicker\"},{\"attributes\":{\"days\":[1,15]},\"id\":\"1091\",\"type\":\"DaysTicker\"},{\"attributes\":{\"source\":{\"id\":\"1049\"}},\"id\":\"1056\",\"type\":\"CDSView\"},{\"attributes\":{\"overlay\":{\"id\":\"1027\"}},\"id\":\"1025\",\"type\":\"BoxZoomTool\"},{\"attributes\":{},\"id\":\"1080\",\"type\":\"UnionRenderers\"},{\"attributes\":{},\"id\":\"1096\",\"type\":\"YearsTicker\"},{\"attributes\":{\"coordinates\":null,\"data_source\":{\"id\":\"1049\"},\"glyph\":{\"id\":\"1052\"},\"group\":null,\"hover_glyph\":null,\"muted_glyph\":{\"id\":\"1054\"},\"nonselection_glyph\":{\"id\":\"1053\"},\"selection_glyph\":{\"id\":\"1057\"},\"view\":{\"id\":\"1056\"}},\"id\":\"1055\",\"type\":\"GlyphRenderer\"},{\"attributes\":{},\"id\":\"1026\",\"type\":\"ResetTool\"},{\"attributes\":{\"below\":[{\"id\":\"1014\"}],\"center\":[{\"id\":\"1017\"},{\"id\":\"1021\"}],\"height\":400,\"left\":[{\"id\":\"1018\"}],\"margin\":[5,5,5,5],\"min_border_bottom\":10,\"min_border_left\":10,\"min_border_right\":10,\"min_border_top\":10,\"output_backend\":\"webgl\",\"renderers\":[{\"id\":\"1046\"},{\"id\":\"1055\"},{\"id\":\"1064\"}],\"sizing_mode\":\"fixed\",\"title\":{\"id\":\"1006\"},\"toolbar\":{\"id\":\"1028\"},\"toolbar_location\":\"above\",\"width\":800,\"x_range\":{\"id\":\"1003\"},\"x_scale\":{\"id\":\"1010\"},\"y_range\":{\"id\":\"1004\"},\"y_scale\":{\"id\":\"1012\"}},\"id\":\"1005\",\"subtype\":\"Figure\",\"type\":\"Plot\"},{\"attributes\":{},\"id\":\"1078\",\"type\":\"UnionRenderers\"},{\"attributes\":{\"months\":[0,2,4,6,8,10]},\"id\":\"1093\",\"type\":\"MonthsTicker\"},{\"attributes\":{\"source\":{\"id\":\"1040\"}},\"id\":\"1047\",\"type\":\"CDSView\"},{\"attributes\":{\"num_minor_ticks\":5,\"tickers\":[{\"id\":\"1085\"},{\"id\":\"1086\"},{\"id\":\"1087\"},{\"id\":\"1088\"},{\"id\":\"1089\"},{\"id\":\"1090\"},{\"id\":\"1091\"},{\"id\":\"1092\"},{\"id\":\"1093\"},{\"id\":\"1094\"},{\"id\":\"1095\"},{\"id\":\"1096\"}]},\"id\":\"1015\",\"type\":\"DatetimeTicker\"},{\"attributes\":{\"axis\":{\"id\":\"1018\"},\"coordinates\":null,\"dimension\":1,\"grid_line_color\":null,\"group\":null,\"ticker\":null},\"id\":\"1021\",\"type\":\"Grid\"},{\"attributes\":{\"bottom\":{\"field\":\"bottom\"},\"fill_alpha\":{\"value\":0.1},\"fill_color\":{\"value\":\"red\"},\"hatch_alpha\":{\"value\":0.1},\"left\":{\"field\":\"left\"},\"line_alpha\":{\"value\":0.1},\"right\":{\"field\":\"right\"},\"tags\":[\"apply_ranges\"],\"top\":{\"field\":\"top\"}},\"id\":\"1062\",\"type\":\"Quad\"},{\"attributes\":{\"bottom_units\":\"screen\",\"coordinates\":null,\"fill_alpha\":0.5,\"fill_color\":\"lightgrey\",\"group\":null,\"left_units\":\"screen\",\"level\":\"overlay\",\"line_alpha\":1.0,\"line_color\":\"black\",\"line_dash\":[4,4],\"line_width\":2,\"right_units\":\"screen\",\"syncable\":false,\"top_units\":\"screen\"},\"id\":\"1027\",\"type\":\"BoxAnnotation\"},{\"attributes\":{\"months\":[0,4,8]},\"id\":\"1094\",\"type\":\"MonthsTicker\"},{\"attributes\":{\"coordinates\":null,\"data_source\":{\"id\":\"1040\"},\"glyph\":{\"id\":\"1043\"},\"group\":null,\"hover_glyph\":null,\"muted_glyph\":{\"id\":\"1045\"},\"nonselection_glyph\":{\"id\":\"1044\"},\"selection_glyph\":{\"id\":\"1048\"},\"view\":{\"id\":\"1047\"}},\"id\":\"1046\",\"type\":\"GlyphRenderer\"},{\"attributes\":{\"bottom\":{\"field\":\"bottom\"},\"fill_color\":{\"value\":\"red\"},\"left\":{\"field\":\"left\"},\"right\":{\"field\":\"right\"},\"tags\":[\"apply_ranges\"],\"top\":{\"field\":\"top\"}},\"id\":\"1061\",\"type\":\"Quad\"},{\"attributes\":{\"coordinates\":null,\"group\":null,\"text_color\":\"black\",\"text_font_size\":\"12pt\"},\"id\":\"1006\",\"type\":\"Title\"},{\"attributes\":{\"line_alpha\":{\"value\":0.2},\"tags\":[\"apply_ranges\"],\"x0\":{\"field\":\"x0\"},\"x1\":{\"field\":\"x1\"},\"y0\":{\"field\":\"y0\"},\"y1\":{\"field\":\"y1\"}},\"id\":\"1045\",\"type\":\"Segment\"},{\"attributes\":{\"bottom\":{\"field\":\"bottom\"},\"fill_alpha\":{\"value\":1.0},\"fill_color\":{\"value\":\"red\"},\"hatch_alpha\":{\"value\":1.0},\"hatch_color\":{\"value\":\"black\"},\"hatch_scale\":{\"value\":12.0},\"hatch_weight\":{\"value\":1.0},\"left\":{\"field\":\"left\"},\"line_alpha\":{\"value\":1.0},\"line_cap\":{\"value\":\"butt\"},\"line_color\":{\"value\":\"black\"},\"line_dash\":{\"value\":[]},\"line_dash_offset\":{\"value\":0},\"line_join\":{\"value\":\"bevel\"},\"line_width\":{\"value\":1},\"right\":{\"field\":\"right\"},\"tags\":[\"apply_ranges\"],\"top\":{\"field\":\"top\"}},\"id\":\"1066\",\"type\":\"Quad\"},{\"attributes\":{},\"id\":\"1038\",\"type\":\"BasicTickFormatter\"},{\"attributes\":{\"active_drag\":{\"id\":\"1023\"},\"active_scroll\":{\"id\":\"1024\"},\"tools\":[{\"id\":\"1022\"},{\"id\":\"1023\"},{\"id\":\"1024\"},{\"id\":\"1025\"},{\"id\":\"1026\"}]},\"id\":\"1028\",\"type\":\"Toolbar\"},{\"attributes\":{\"tags\":[\"apply_ranges\"],\"x0\":{\"field\":\"x0\"},\"x1\":{\"field\":\"x1\"},\"y0\":{\"field\":\"y0\"},\"y1\":{\"field\":\"y1\"}},\"id\":\"1043\",\"type\":\"Segment\"},{\"attributes\":{\"line_alpha\":{\"value\":0.1},\"tags\":[\"apply_ranges\"],\"x0\":{\"field\":\"x0\"},\"x1\":{\"field\":\"x1\"},\"y0\":{\"field\":\"y0\"},\"y1\":{\"field\":\"y1\"}},\"id\":\"1044\",\"type\":\"Segment\"},{\"attributes\":{\"months\":[0,6]},\"id\":\"1095\",\"type\":\"MonthsTicker\"},{\"attributes\":{\"axis_label\":\"x0\",\"coordinates\":null,\"formatter\":{\"id\":\"1035\"},\"group\":null,\"major_label_policy\":{\"id\":\"1036\"},\"ticker\":{\"id\":\"1015\"}},\"id\":\"1014\",\"type\":\"DatetimeAxis\"},{\"attributes\":{},\"id\":\"1050\",\"type\":\"Selection\"},{\"attributes\":{\"end\":203.305,\"reset_end\":203.305,\"reset_start\":14.244999999999997,\"start\":14.244999999999997,\"tags\":[[[\"y0\",\"y0\",null]]]},\"id\":\"1004\",\"type\":\"Range1d\"},{\"attributes\":{\"axis_label\":\"y0\",\"coordinates\":null,\"formatter\":{\"id\":\"1038\"},\"group\":null,\"major_label_policy\":{\"id\":\"1039\"},\"ticker\":{\"id\":\"1019\"}},\"id\":\"1018\",\"type\":\"LinearAxis\"},{\"attributes\":{\"bottom\":{\"field\":\"bottom\"},\"fill_alpha\":{\"value\":1.0},\"fill_color\":{\"value\":\"green\"},\"hatch_alpha\":{\"value\":1.0},\"hatch_color\":{\"value\":\"black\"},\"hatch_scale\":{\"value\":12.0},\"hatch_weight\":{\"value\":1.0},\"left\":{\"field\":\"left\"},\"line_alpha\":{\"value\":1.0},\"line_cap\":{\"value\":\"butt\"},\"line_color\":{\"value\":\"black\"},\"line_dash\":{\"value\":[]},\"line_dash_offset\":{\"value\":0},\"line_join\":{\"value\":\"bevel\"},\"line_width\":{\"value\":1},\"right\":{\"field\":\"right\"},\"tags\":[\"apply_ranges\"],\"top\":{\"field\":\"top\"}},\"id\":\"1057\",\"type\":\"Quad\"},{\"attributes\":{},\"id\":\"1019\",\"type\":\"BasicTicker\"},{\"attributes\":{\"axis\":{\"id\":\"1014\"},\"coordinates\":null,\"grid_line_color\":null,\"group\":null,\"ticker\":null},\"id\":\"1017\",\"type\":\"Grid\"},{\"attributes\":{},\"id\":\"1041\",\"type\":\"Selection\"},{\"attributes\":{\"bottom\":{\"field\":\"bottom\"},\"fill_alpha\":{\"value\":0.2},\"fill_color\":{\"value\":\"red\"},\"hatch_alpha\":{\"value\":0.2},\"left\":{\"field\":\"left\"},\"line_alpha\":{\"value\":0.2},\"right\":{\"field\":\"right\"},\"tags\":[\"apply_ranges\"],\"top\":{\"field\":\"top\"}},\"id\":\"1063\",\"type\":\"Quad\"}],\"root_ids\":[\"1002\"]},\"title\":\"Bokeh Application\",\"version\":\"2.4.3\"}};\n",
       "    var render_items = [{\"docid\":\"b158f2f8-6114-4f5f-8047-7293ec4a2f9e\",\"root_ids\":[\"1002\"],\"roots\":{\"1002\":\"b9c8d80d-62f5-404c-9ee5-60768c3529c4\"}}];\n",
       "    root.Bokeh.embed.embed_items_notebook(docs_json, render_items);\n",
       "    for (const render_item of render_items) {\n",
       "      for (const root_id of render_item.root_ids) {\n",
       "\tconst id_el = document.getElementById(root_id)\n",
       "\tif (id_el.children.length && (id_el.children[0].className === 'bk-root')) {\n",
       "\t  const root_el = id_el.children[0]\n",
       "\t  root_el.id = root_el.id + '-rendered'\n",
       "\t}\n",
       "      }\n",
       "    }\n",
       "  }\n",
       "  if (root.Bokeh !== undefined && root.Bokeh.Panel !== undefined) {\n",
       "    embed_document(root);\n",
       "  } else {\n",
       "    var attempts = 0;\n",
       "    var timer = setInterval(function(root) {\n",
       "      if (root.Bokeh !== undefined && root.Bokeh.Panel !== undefined) {\n",
       "        clearInterval(timer);\n",
       "        embed_document(root);\n",
       "      } else if (document.readyState == \"complete\") {\n",
       "        attempts++;\n",
       "        if (attempts > 200) {\n",
       "          clearInterval(timer);\n",
       "          console.log(\"Bokeh: ERROR: Unable to run BokehJS code because BokehJS library is missing\");\n",
       "        }\n",
       "      }\n",
       "    }, 25, root)\n",
       "  }\n",
       "})(window);</script>"
      ],
      "text/plain": [
       ":Overlay\n",
       "   .Segments.I    :Segments   [x0,y0,x1,y1]\n",
       "   .Rectangles.I  :Rectangles   [x0,y0,x1,y1]\n",
       "   .Rectangles.II :Rectangles   [x0,y0,x1,y1]"
      ]
     },
     "execution_count": 7,
     "metadata": {
      "application/vnd.holoviews_exec.v0+json": {
       "id": "1002"
      }
     },
     "output_type": "execute_result"
    }
   ],
   "source": [
    "import holoviews as hv\n",
    "import pandas as pd\n",
    "from holoviews import opts, dim\n",
    "\n",
    "# Ensure HoloViews is loaded with the Bokeh backend\n",
    "hv.extension('bokeh')\n",
    "\n",
    "# Assuming 'data' is your DataFrame and has been loaded correctly\n",
    "data['date'] = pd.to_datetime(data['date'])\n",
    "\n",
    "# Define segments for the high-low prices\n",
    "segments = hv.Segments((data['date'], data['Low'], data['date'], data['High'])).opts(\n",
    "    line_width=1, color='black')\n",
    "\n",
    "# Define rectangles for the open-close prices\n",
    "# The width of the rectangles is arbitrary and may need adjustment\n",
    "width = 0.8\n",
    "\n",
    "# Positive changes (close > open)\n",
    "pos_bars = hv.Rectangles((data.loc[data['Close'] > data['Open'], 'date'] - pd.Timedelta(minutes=width/2),\n",
    "                           data.loc[data['Close'] > data['Open'], 'Open'],\n",
    "                           data.loc[data['Close'] > data['Open'], 'date'] + pd.Timedelta(minutes=width/2),\n",
    "                           data.loc[data['Close'] > data['Open'], 'Close'])).opts(fill_color='green')\n",
    "\n",
    "# Negative changes (close < open)\n",
    "neg_bars = hv.Rectangles((data.loc[data['Close'] < data['Open'], 'date'] - pd.Timedelta(minutes=width/2),\n",
    "                           data.loc[data['Close'] < data['Open'], 'Close'],\n",
    "                           data.loc[data['Close'] < data['Open'], 'date'] + pd.Timedelta(minutes=width/2),\n",
    "                           data.loc[data['Close'] < data['Open'], 'Open'])).opts(fill_color='red')\n",
    "\n",
    "# Overlay the plots\n",
    "candlestick_chart = (segments * pos_bars * neg_bars).opts(\n",
    "    opts.Rectangles(line_color='black'),\n",
    "    opts.Segments(toolbar='above', width=800, height=400, xaxis=None),\n",
    "    opts.Overlay(show_legend=False)).opts(\n",
    "    xaxis='bottom')\n",
    "\n",
    "# Display the plot\n",
    "candlestick_chart\n"
   ]
  },
  {
   "cell_type": "code",
   "execution_count": 27,
   "metadata": {},
   "outputs": [
    {
     "data": {},
     "metadata": {},
     "output_type": "display_data"
    },
    {
     "data": {
      "application/vnd.holoviews_exec.v0+json": "",
      "text/html": [
       "<div id='1349'>\n",
       "  <div class=\"bk-root\" id=\"8e3ea16e-c042-4d8d-993c-bfa5f9c1bef2\" data-root-id=\"1349\"></div>\n",
       "</div>\n",
       "<script type=\"application/javascript\">(function(root) {\n",
       "  function embed_document(root) {\n",
       "    var docs_json = {\"f99b6383-882a-48f5-924a-fb59b189730e\":{\"defs\":[{\"extends\":null,\"module\":null,\"name\":\"ReactiveHTML1\",\"overrides\":[],\"properties\":[]},{\"extends\":null,\"module\":null,\"name\":\"FlexBox1\",\"overrides\":[],\"properties\":[{\"default\":\"flex-start\",\"kind\":null,\"name\":\"align_content\"},{\"default\":\"flex-start\",\"kind\":null,\"name\":\"align_items\"},{\"default\":\"row\",\"kind\":null,\"name\":\"flex_direction\"},{\"default\":\"wrap\",\"kind\":null,\"name\":\"flex_wrap\"},{\"default\":\"flex-start\",\"kind\":null,\"name\":\"justify_content\"}]},{\"extends\":null,\"module\":null,\"name\":\"GridStack1\",\"overrides\":[],\"properties\":[{\"default\":\"warn\",\"kind\":null,\"name\":\"mode\"},{\"default\":null,\"kind\":null,\"name\":\"ncols\"},{\"default\":null,\"kind\":null,\"name\":\"nrows\"},{\"default\":true,\"kind\":null,\"name\":\"allow_resize\"},{\"default\":true,\"kind\":null,\"name\":\"allow_drag\"},{\"default\":[],\"kind\":null,\"name\":\"state\"}]},{\"extends\":null,\"module\":null,\"name\":\"click1\",\"overrides\":[],\"properties\":[{\"default\":\"\",\"kind\":null,\"name\":\"terminal_output\"},{\"default\":\"\",\"kind\":null,\"name\":\"debug_name\"},{\"default\":0,\"kind\":null,\"name\":\"clears\"}]},{\"extends\":null,\"module\":null,\"name\":\"NotificationAreaBase1\",\"overrides\":[],\"properties\":[{\"default\":\"bottom-right\",\"kind\":null,\"name\":\"position\"},{\"default\":0,\"kind\":null,\"name\":\"_clear\"}]},{\"extends\":null,\"module\":null,\"name\":\"NotificationArea1\",\"overrides\":[],\"properties\":[{\"default\":[],\"kind\":null,\"name\":\"notifications\"},{\"default\":\"bottom-right\",\"kind\":null,\"name\":\"position\"},{\"default\":0,\"kind\":null,\"name\":\"_clear\"},{\"default\":[{\"background\":\"#ffc107\",\"icon\":{\"className\":\"fas fa-exclamation-triangle\",\"color\":\"white\",\"tagName\":\"i\"},\"type\":\"warning\"},{\"background\":\"#007bff\",\"icon\":{\"className\":\"fas fa-info-circle\",\"color\":\"white\",\"tagName\":\"i\"},\"type\":\"info\"}],\"kind\":null,\"name\":\"types\"}]},{\"extends\":null,\"module\":null,\"name\":\"Notification\",\"overrides\":[],\"properties\":[{\"default\":null,\"kind\":null,\"name\":\"background\"},{\"default\":3000,\"kind\":null,\"name\":\"duration\"},{\"default\":null,\"kind\":null,\"name\":\"icon\"},{\"default\":\"\",\"kind\":null,\"name\":\"message\"},{\"default\":null,\"kind\":null,\"name\":\"notification_type\"},{\"default\":false,\"kind\":null,\"name\":\"_destroyed\"}]},{\"extends\":null,\"module\":null,\"name\":\"TemplateActions1\",\"overrides\":[],\"properties\":[{\"default\":0,\"kind\":null,\"name\":\"open_modal\"},{\"default\":0,\"kind\":null,\"name\":\"close_modal\"}]},{\"extends\":null,\"module\":null,\"name\":\"MaterialTemplateActions1\",\"overrides\":[],\"properties\":[{\"default\":0,\"kind\":null,\"name\":\"open_modal\"},{\"default\":0,\"kind\":null,\"name\":\"close_modal\"}]}],\"roots\":{\"references\":[{\"attributes\":{\"axis_label\":\"\",\"coordinates\":null,\"formatter\":{\"id\":\"1394\"},\"group\":null,\"major_label_policy\":{\"id\":\"1395\"},\"ticker\":{\"id\":\"1372\"}},\"id\":\"1371\",\"type\":\"LinearAxis\"},{\"attributes\":{\"days\":[1,4,7,10,13,16,19,22,25,28]},\"id\":\"1418\",\"type\":\"DaysTicker\"},{\"attributes\":{\"data\":{\"Variable\":[\"High\",\"High\",\"High\",\"High\",\"High\",\"High\",\"High\",\"High\",\"High\",\"High\",\"High\",\"High\",\"High\",\"High\",\"High\",\"High\",\"High\",\"High\",\"High\",\"High\",\"High\",\"High\",\"High\",\"High\",\"High\",\"High\",\"High\",\"High\",\"High\",\"High\",\"High\",\"High\",\"High\",\"High\",\"High\",\"High\",\"High\",\"High\",\"High\",\"High\",\"High\",\"High\",\"High\",\"High\",\"High\",\"High\",\"High\",\"High\",\"High\",\"High\",\"High\",\"High\",\"High\",\"High\",\"High\",\"High\",\"High\",\"High\",\"High\",\"High\",\"High\",\"High\",\"High\",\"High\",\"High\",\"High\",\"High\",\"High\",\"High\",\"High\",\"High\",\"High\",\"High\",\"High\",\"High\"],\"date\":{\"__ndarray__\":\"AABiJq/ceEIAAKBvr9x4QgAA3riv3HhCAAAcArDceEIAAFpLsNx4QgAAmJSw3HhCAADW3bDceEIAABQnsdx4QgAAUnCx3HhCAACQubHceEIAAM4Cstx4QgAADEyy3HhCAABKlbLceEIAAIjestx4QgAAxiez3HhCAAAEcbPceEIAAEK6s9x4QgAAgAO03HhCAAC+TLTceEIAAPyVtNx4QgAAOt+03HhCAAB4KLXceEIAALZxtdx4QgAA9Lq13HhCAAAyBLbceEIAAHBNttx4QgAArpa23HhCAADs37bceEIAACopt9x4QgAAaHK33HhCAACmu7fceEIAAOQEuNx4QgAAIk643HhCAABgl7jceEIAAJ7guNx4QgAA3Cm53HhCAAAac7nceEIAAFi8udx4QgAAlgW63HhCAADUTrrceEIAABKYutx4QgAAUOG63HhCAACOKrvceEIAAMxzu9x4QgAACr273HhCAABIBrzceEIAAIZPvNx4QgAAxJi83HhCAAAC4rzceEIAAEArvdx4QgAAfnS93HhCAAC8vb3ceEIAAPoGvtx4QgAAOFC+3HhCAAB2mb7ceEIAALTivtx4QgAA8iu/3HhCAAAwdb/ceEIAAG6+v9x4QgAArAfA3HhCAADqUMDceEIAACiawNx4QgAAZuPA3HhCAACkLMHceEIAAOJ1wdx4QgAAIL/B3HhCAABeCMLceEIAAJxRwtx4QgAA2prC3HhCAAAY5MLceEIAAFYtw9x4QgAAlHbD3HhCAADSv8PceEIAABAJxNx4QgAATlLE3HhC\",\"dtype\":\"float64\",\"order\":\"little\",\"shape\":[75]},\"value\":{\"__ndarray__\":\"mpmZmZlxZ0AAAAAAAMBlQM3MzMzMhGVAMzMzMzOzZEDNzMzMzORmQJqZmZmZWWZAmpmZmZmpZkDNzMzMzCRnQDMzMzMzY2ZAAAAAAABQZkAAAAAAAFBmQM3MzMzMHGZAzczMzMxMZEAAAAAAAOBiQAAAAAAAaGNAAAAAAAAAY0CamZmZmdliQJqZmZmZ0WFAZmZmZmZ+YEAAAAAAAChgQJqZmZmZeWFAMzMzMzMzYkCamZmZmfFhQM3MzMzMfGJAMzMzMzMTYkAAAAAAAEBiQAAAAAAA4GBAAAAAAAB4YUAzMzMzMztiQM3MzMzMdGNAAAAAAAAIY0DNzMzMzIxjQM3MzMzMPGRAMzMzMzOTY0AzMzMzM+tiQM3MzMzM9GJAzczMzMzsY0AzMzMzM2tkQJqZmZmZ+WNAzczMzMxcZEBmZmZmZs5kQAAAAAAA8GNAmpmZmZnZY0CamZmZmXFlQJqZmZmZ2WVAmpmZmZlpZUAAAAAAAGhkQJqZmZmZqWNAAAAAAADgY0AAAAAAAFhjQAAAAAAA6GJAZmZmZmauYkDNzMzMzPxjQM3MzMzMRGRAMzMzMzObYkBmZmZmZmZfQAAAAAAA4F1AzczMzMzcXEDNzMzMzMxaQJqZmZmZ6VlAZmZmZmaWWEAzMzMzM5NYQGZmZmZmJlBAmpmZmZkJUEDNzMzMzKxNQJqZmZmZ2UZAAAAAAADARkCamZmZmdlHQJqZmZmZGUVAzczMzMxMRUCamZmZmRlKQM3MzMzMDE9AZmZmZmamTkBmZmZmZsZIQGZmZmZmJkNA\",\"dtype\":\"float64\",\"order\":\"little\",\"shape\":[75]}},\"selected\":{\"id\":\"1397\"},\"selection_policy\":{\"id\":\"1411\"}},\"id\":\"1396\",\"type\":\"ColumnDataSource\"},{\"attributes\":{\"days\":[1,2,3,4,5,6,7,8,9,10,11,12,13,14,15,16,17,18,19,20,21,22,23,24,25,26,27,28,29,30,31]},\"id\":\"1417\",\"type\":\"DaysTicker\"},{\"attributes\":{\"data\":{\"Trough\":{\"__ndarray__\":\"mpmZmZnxYkCamZmZmRlkQGZmZmZmDmJAZmZmZmYWYEAAAAAAAJBdQAAAAAAAcGBAzczMzMzsXkAzMzMzM7NhQGZmZmZmpmJAAAAAAAAQYkCamZmZmXliQGZmZmZmxmBAzczMzMwsXEDNzMzMzMxVQM3MzMzMTFVAZmZmZmbmSkAAAAAAAEBDQAAAAAAAIEBA\",\"dtype\":\"float64\",\"order\":\"little\",\"shape\":[18]},\"date\":{\"__ndarray__\":\"AAAcArDceEIAAFJwsdx4QgAADEyy3HhCAADGJ7PceEIAAPyVtNx4QgAAtnG13HhCAACulrbceEIAAJ7guNx4QgAAlgW63HhCAACOKrvceEIAAIZPvNx4QgAAvL293HhCAAB2mb7ceEIAADB1v9x4QgAArAfA3HhCAABm48DceEIAAF4Iwtx4QgAA2prC3HhC\",\"dtype\":\"float64\",\"order\":\"little\",\"shape\":[18]}},\"selected\":{\"id\":\"1473\"},\"selection_policy\":{\"id\":\"1516\"}},\"id\":\"1472\",\"type\":\"ColumnDataSource\"},{\"attributes\":{\"months\":[0,1,2,3,4,5,6,7,8,9,10,11]},\"id\":\"1421\",\"type\":\"MonthsTicker\"},{\"attributes\":{\"source\":{\"id\":\"1490\"}},\"id\":\"1497\",\"type\":\"CDSView\"},{\"attributes\":{\"days\":[1,8,15,22]},\"id\":\"1419\",\"type\":\"DaysTicker\"},{\"attributes\":{},\"id\":\"1520\",\"type\":\"UnionRenderers\"},{\"attributes\":{\"days\":[1,15]},\"id\":\"1420\",\"type\":\"DaysTicker\"},{\"attributes\":{\"line_color\":\"red\",\"line_width\":2,\"tags\":[\"apply_ranges\"],\"x\":{\"field\":\"date\"},\"y\":{\"field\":\"Trough\"}},\"id\":\"1498\",\"type\":\"Line\"},{\"attributes\":{\"fill_alpha\":{\"value\":0.1},\"fill_color\":{\"value\":\"green\"},\"hatch_alpha\":{\"value\":0.1},\"hatch_color\":{\"value\":\"green\"},\"line_alpha\":{\"value\":0.1},\"line_color\":{\"value\":\"green\"},\"marker\":{\"value\":\"triangle\"},\"size\":{\"value\":10.0},\"tags\":[\"apply_ranges\"],\"x\":{\"field\":\"date\"},\"y\":{\"field\":\"Peak\"}},\"id\":\"1467\",\"type\":\"Scatter\"},{\"attributes\":{},\"id\":\"1514\",\"type\":\"UnionRenderers\"},{\"attributes\":{\"axis_label\":\"date\",\"coordinates\":null,\"formatter\":{\"id\":\"1391\"},\"group\":null,\"major_label_policy\":{\"id\":\"1392\"},\"ticker\":{\"id\":\"1368\"}},\"id\":\"1367\",\"type\":\"DatetimeAxis\"},{\"attributes\":{\"coordinates\":null,\"data_source\":{\"id\":\"1429\"},\"glyph\":{\"id\":\"1432\"},\"group\":null,\"hover_glyph\":null,\"muted_glyph\":{\"id\":\"1434\"},\"nonselection_glyph\":{\"id\":\"1433\"},\"selection_glyph\":{\"id\":\"1462\"},\"view\":{\"id\":\"1436\"}},\"id\":\"1435\",\"type\":\"GlyphRenderer\"},{\"attributes\":{\"line_alpha\":0.1,\"line_color\":\"#30a2da\",\"line_width\":2,\"tags\":[\"apply_ranges\"],\"x\":{\"field\":\"date\"},\"y\":{\"field\":\"value\"}},\"id\":\"1400\",\"type\":\"Line\"},{\"attributes\":{\"months\":[0,2,4,6,8,10]},\"id\":\"1422\",\"type\":\"MonthsTicker\"},{\"attributes\":{\"line_alpha\":0.1,\"line_color\":\"red\",\"line_width\":2,\"tags\":[\"apply_ranges\"],\"x\":{\"field\":\"date\"},\"y\":{\"field\":\"Trough\"}},\"id\":\"1494\",\"type\":\"Line\"},{\"attributes\":{\"callback\":null,\"formatters\":{\"@{date}\":\"datetime\"},\"renderers\":[{\"id\":\"1478\"},{\"id\":\"1496\"}],\"tags\":[\"hv_created\"],\"tooltips\":[[\"date\",\"@{date}{%F %T}\"],[\"Trough\",\"@{Trough}\"]]},\"id\":\"1355\",\"type\":\"HoverTool\"},{\"attributes\":{\"below\":[{\"id\":\"1367\"}],\"center\":[{\"id\":\"1370\"},{\"id\":\"1374\"}],\"height\":400,\"left\":[{\"id\":\"1371\"}],\"margin\":[5,5,5,5],\"min_border_bottom\":10,\"min_border_left\":10,\"min_border_right\":10,\"min_border_top\":10,\"output_backend\":\"webgl\",\"renderers\":[{\"id\":\"1402\"},{\"id\":\"1435\"},{\"id\":\"1469\"},{\"id\":\"1478\"},{\"id\":\"1487\"},{\"id\":\"1496\"}],\"right\":[{\"id\":\"1426\"}],\"sizing_mode\":\"fixed\",\"title\":{\"id\":\"1359\"},\"toolbar\":{\"id\":\"1381\"},\"width\":800,\"x_range\":{\"id\":\"1350\"},\"x_scale\":{\"id\":\"1363\"},\"y_range\":{\"id\":\"1351\"},\"y_scale\":{\"id\":\"1365\"}},\"id\":\"1358\",\"subtype\":\"Figure\",\"type\":\"Plot\"},{\"attributes\":{\"months\":[0,4,8]},\"id\":\"1423\",\"type\":\"MonthsTicker\"},{\"attributes\":{\"fill_alpha\":{\"value\":0.2},\"fill_color\":{\"value\":\"green\"},\"hatch_alpha\":{\"value\":0.2},\"hatch_color\":{\"value\":\"green\"},\"line_alpha\":{\"value\":0.2},\"line_color\":{\"value\":\"green\"},\"marker\":{\"value\":\"triangle\"},\"size\":{\"value\":10.0},\"tags\":[\"apply_ranges\"],\"x\":{\"field\":\"date\"},\"y\":{\"field\":\"Peak\"}},\"id\":\"1468\",\"type\":\"Scatter\"},{\"attributes\":{\"data\":{\"Trough\":{\"__ndarray__\":\"mpmZmZnxYkCamZmZmRlkQGZmZmZmDmJAZmZmZmYWYEAAAAAAAJBdQAAAAAAAcGBAzczMzMzsXkAzMzMzM7NhQGZmZmZmpmJAAAAAAAAQYkCamZmZmXliQGZmZmZmxmBAzczMzMwsXEDNzMzMzMxVQM3MzMzMTFVAZmZmZmbmSkAAAAAAAEBDQAAAAAAAIEBA\",\"dtype\":\"float64\",\"order\":\"little\",\"shape\":[18]},\"date\":{\"__ndarray__\":\"AAAcArDceEIAAFJwsdx4QgAADEyy3HhCAADGJ7PceEIAAPyVtNx4QgAAtnG13HhCAACulrbceEIAAJ7guNx4QgAAlgW63HhCAACOKrvceEIAAIZPvNx4QgAAvL293HhCAAB2mb7ceEIAADB1v9x4QgAArAfA3HhCAABm48DceEIAAF4Iwtx4QgAA2prC3HhC\",\"dtype\":\"float64\",\"order\":\"little\",\"shape\":[18]}},\"selected\":{\"id\":\"1491\"},\"selection_policy\":{\"id\":\"1520\"}},\"id\":\"1490\",\"type\":\"ColumnDataSource\"},{\"attributes\":{\"callback\":null,\"formatters\":{\"@{date}\":\"datetime\"},\"renderers\":[{\"id\":\"1402\"},{\"id\":\"1435\"}],\"tags\":[\"hv_created\"],\"tooltips\":[[\"Variable\",\"@{Variable}\"],[\"date\",\"@{date}{%F %T}\"],[\"value\",\"@{value}\"]]},\"id\":\"1352\",\"type\":\"HoverTool\"},{\"attributes\":{},\"id\":\"1397\",\"type\":\"Selection\"},{\"attributes\":{\"children\":[{\"id\":\"1358\"}],\"height\":400,\"margin\":[0,0,0,0],\"name\":\"Row02997\",\"sizing_mode\":\"fixed\",\"tags\":[\"embedded\"],\"width\":800},\"id\":\"1349\",\"type\":\"Row\"},{\"attributes\":{\"angle\":{\"value\":0},\"fill_alpha\":{\"value\":1.0},\"fill_color\":{\"value\":\"green\"},\"hatch_alpha\":{\"value\":1.0},\"hatch_color\":{\"value\":\"green\"},\"hatch_scale\":{\"value\":12.0},\"hatch_weight\":{\"value\":1.0},\"line_alpha\":{\"value\":1.0},\"line_cap\":{\"value\":\"butt\"},\"line_color\":{\"value\":\"green\"},\"line_dash\":{\"value\":[]},\"line_dash_offset\":{\"value\":0},\"line_join\":{\"value\":\"bevel\"},\"line_width\":{\"value\":1},\"marker\":{\"value\":\"triangle\"},\"size\":{\"value\":10.0},\"tags\":[\"apply_ranges\"],\"x\":{\"field\":\"date\"},\"y\":{\"field\":\"Peak\"}},\"id\":\"1471\",\"type\":\"Scatter\"},{\"attributes\":{\"data\":{\"Peak\":{\"__ndarray__\":\"zczMzMzkZkDNzMzMzCRnQAAAAAAAaGNAMzMzMzMzYkDNzMzMzHxiQAAAAAAAQGJAzczMzMx0Y0DNzMzMzDxkQDMzMzMza2RAZmZmZmbOZECamZmZmdllQAAAAAAA4GNAzczMzMxEZECamZmZmdlHQM3MzMzMDE9A\",\"dtype\":\"float64\",\"order\":\"little\",\"shape\":[15]},\"date\":{\"__ndarray__\":\"AABaS7DceEIAABQnsdx4QgAAxiez3HhCAAB4KLXceEIAAPS6tdx4QgAAcE223HhCAABocrfceEIAACJOuNx4QgAAWLy53HhCAAASmLrceEIAAAq9u9x4QgAAAuK83HhCAAA4UL7ceEIAAJxRwtx4QgAAlHbD3HhC\",\"dtype\":\"float64\",\"order\":\"little\",\"shape\":[15]}},\"selected\":{\"id\":\"1482\"},\"selection_policy\":{\"id\":\"1518\"}},\"id\":\"1481\",\"type\":\"ColumnDataSource\"},{\"attributes\":{\"months\":[0,6]},\"id\":\"1424\",\"type\":\"MonthsTicker\"},{\"attributes\":{\"line_color\":\"green\",\"line_width\":2,\"tags\":[\"apply_ranges\"],\"x\":{\"field\":\"date\"},\"y\":{\"field\":\"Peak\"}},\"id\":\"1484\",\"type\":\"Line\"},{\"attributes\":{\"line_color\":\"red\",\"line_width\":2,\"tags\":[\"apply_ranges\"],\"x\":{\"field\":\"date\"},\"y\":{\"field\":\"Trough\"}},\"id\":\"1493\",\"type\":\"Line\"},{\"attributes\":{\"line_alpha\":0.2,\"line_color\":\"green\",\"line_width\":2,\"tags\":[\"apply_ranges\"],\"x\":{\"field\":\"date\"},\"y\":{\"field\":\"Peak\"}},\"id\":\"1486\",\"type\":\"Line\"},{\"attributes\":{\"num_minor_ticks\":5,\"tickers\":[{\"id\":\"1414\"},{\"id\":\"1415\"},{\"id\":\"1416\"},{\"id\":\"1417\"},{\"id\":\"1418\"},{\"id\":\"1419\"},{\"id\":\"1420\"},{\"id\":\"1421\"},{\"id\":\"1422\"},{\"id\":\"1423\"},{\"id\":\"1424\"},{\"id\":\"1425\"}]},\"id\":\"1368\",\"type\":\"DatetimeTicker\"},{\"attributes\":{\"coordinates\":null,\"group\":null,\"text_color\":\"black\",\"text_font_size\":\"12pt\"},\"id\":\"1359\",\"type\":\"Title\"},{\"attributes\":{},\"id\":\"1425\",\"type\":\"YearsTicker\"},{\"attributes\":{\"click_policy\":\"mute\",\"coordinates\":null,\"group\":null,\"items\":[{\"id\":\"1427\"},{\"id\":\"1461\"}],\"location\":[0,0]},\"id\":\"1426\",\"type\":\"Legend\"},{\"attributes\":{\"axis\":{\"id\":\"1367\"},\"coordinates\":null,\"grid_line_color\":null,\"group\":null,\"ticker\":null},\"id\":\"1370\",\"type\":\"Grid\"},{\"attributes\":{\"source\":{\"id\":\"1429\"}},\"id\":\"1436\",\"type\":\"CDSView\"},{\"attributes\":{},\"id\":\"1365\",\"type\":\"LinearScale\"},{\"attributes\":{\"line_color\":\"#fc4f30\",\"line_width\":2,\"tags\":[\"apply_ranges\"],\"x\":{\"field\":\"date\"},\"y\":{\"field\":\"value\"}},\"id\":\"1462\",\"type\":\"Line\"},{\"attributes\":{},\"id\":\"1372\",\"type\":\"BasicTicker\"},{\"attributes\":{},\"id\":\"1446\",\"type\":\"UnionRenderers\"},{\"attributes\":{\"label\":{\"value\":\"High\"},\"renderers\":[{\"id\":\"1402\"}]},\"id\":\"1427\",\"type\":\"LegendItem\"},{\"attributes\":{\"source\":{\"id\":\"1463\"}},\"id\":\"1470\",\"type\":\"CDSView\"},{\"attributes\":{\"axis\":{\"id\":\"1371\"},\"coordinates\":null,\"dimension\":1,\"grid_line_color\":null,\"group\":null,\"ticker\":null},\"id\":\"1374\",\"type\":\"Grid\"},{\"attributes\":{},\"id\":\"1473\",\"type\":\"Selection\"},{\"attributes\":{\"end\":203.305,\"reset_end\":203.305,\"reset_start\":14.244999999999997,\"start\":14.244999999999997,\"tags\":[[[\"value\",\"value\",null]]]},\"id\":\"1351\",\"type\":\"Range1d\"},{\"attributes\":{\"line_color\":\"#fc4f30\",\"line_width\":2,\"tags\":[\"apply_ranges\"],\"x\":{\"field\":\"date\"},\"y\":{\"field\":\"value\"}},\"id\":\"1432\",\"type\":\"Line\"},{\"attributes\":{\"end\":1708529100000.0,\"reset_end\":1708529100000.0,\"reset_start\":1708506900000.0,\"start\":1708506900000.0,\"tags\":[[[\"date\",\"date\",null]]]},\"id\":\"1350\",\"type\":\"Range1d\"},{\"attributes\":{\"line_color\":\"#30a2da\",\"line_width\":2,\"tags\":[\"apply_ranges\"],\"x\":{\"field\":\"date\"},\"y\":{\"field\":\"value\"}},\"id\":\"1399\",\"type\":\"Line\"},{\"attributes\":{},\"id\":\"1363\",\"type\":\"LinearScale\"},{\"attributes\":{\"line_color\":\"#30a2da\",\"line_width\":2,\"tags\":[\"apply_ranges\"],\"x\":{\"field\":\"date\"},\"y\":{\"field\":\"value\"}},\"id\":\"1428\",\"type\":\"Line\"},{\"attributes\":{\"coordinates\":null,\"data_source\":{\"id\":\"1463\"},\"glyph\":{\"id\":\"1466\"},\"group\":null,\"hover_glyph\":null,\"muted_glyph\":{\"id\":\"1468\"},\"nonselection_glyph\":{\"id\":\"1467\"},\"selection_glyph\":{\"id\":\"1471\"},\"view\":{\"id\":\"1470\"}},\"id\":\"1469\",\"type\":\"GlyphRenderer\"},{\"attributes\":{},\"id\":\"1482\",\"type\":\"Selection\"},{\"attributes\":{\"line_alpha\":0.2,\"line_color\":\"red\",\"line_width\":2,\"tags\":[\"apply_ranges\"],\"x\":{\"field\":\"date\"},\"y\":{\"field\":\"Trough\"}},\"id\":\"1495\",\"type\":\"Line\"},{\"attributes\":{\"line_alpha\":0.1,\"line_color\":\"#fc4f30\",\"line_width\":2,\"tags\":[\"apply_ranges\"],\"x\":{\"field\":\"date\"},\"y\":{\"field\":\"value\"}},\"id\":\"1433\",\"type\":\"Line\"},{\"attributes\":{},\"id\":\"1394\",\"type\":\"BasicTickFormatter\"},{\"attributes\":{\"bottom_units\":\"screen\",\"coordinates\":null,\"fill_alpha\":0.5,\"fill_color\":\"lightgrey\",\"group\":null,\"left_units\":\"screen\",\"level\":\"overlay\",\"line_alpha\":1.0,\"line_color\":\"black\",\"line_dash\":[4,4],\"line_width\":2,\"right_units\":\"screen\",\"syncable\":false,\"top_units\":\"screen\"},\"id\":\"1380\",\"type\":\"BoxAnnotation\"},{\"attributes\":{},\"id\":\"1375\",\"type\":\"SaveTool\"},{\"attributes\":{\"data\":{\"Variable\":[\"Low\",\"Low\",\"Low\",\"Low\",\"Low\",\"Low\",\"Low\",\"Low\",\"Low\",\"Low\",\"Low\",\"Low\",\"Low\",\"Low\",\"Low\",\"Low\",\"Low\",\"Low\",\"Low\",\"Low\",\"Low\",\"Low\",\"Low\",\"Low\",\"Low\",\"Low\",\"Low\",\"Low\",\"Low\",\"Low\",\"Low\",\"Low\",\"Low\",\"Low\",\"Low\",\"Low\",\"Low\",\"Low\",\"Low\",\"Low\",\"Low\",\"Low\",\"Low\",\"Low\",\"Low\",\"Low\",\"Low\",\"Low\",\"Low\",\"Low\",\"Low\",\"Low\",\"Low\",\"Low\",\"Low\",\"Low\",\"Low\",\"Low\",\"Low\",\"Low\",\"Low\",\"Low\",\"Low\",\"Low\",\"Low\",\"Low\",\"Low\",\"Low\",\"Low\",\"Low\",\"Low\",\"Low\",\"Low\",\"Low\",\"Low\"],\"date\":{\"__ndarray__\":\"AABiJq/ceEIAAKBvr9x4QgAA3riv3HhCAAAcArDceEIAAFpLsNx4QgAAmJSw3HhCAADW3bDceEIAABQnsdx4QgAAUnCx3HhCAACQubHceEIAAM4Cstx4QgAADEyy3HhCAABKlbLceEIAAIjestx4QgAAxiez3HhCAAAEcbPceEIAAEK6s9x4QgAAgAO03HhCAAC+TLTceEIAAPyVtNx4QgAAOt+03HhCAAB4KLXceEIAALZxtdx4QgAA9Lq13HhCAAAyBLbceEIAAHBNttx4QgAArpa23HhCAADs37bceEIAACopt9x4QgAAaHK33HhCAACmu7fceEIAAOQEuNx4QgAAIk643HhCAABgl7jceEIAAJ7guNx4QgAA3Cm53HhCAAAac7nceEIAAFi8udx4QgAAlgW63HhCAADUTrrceEIAABKYutx4QgAAUOG63HhCAACOKrvceEIAAMxzu9x4QgAACr273HhCAABIBrzceEIAAIZPvNx4QgAAxJi83HhCAAAC4rzceEIAAEArvdx4QgAAfnS93HhCAAC8vb3ceEIAAPoGvtx4QgAAOFC+3HhCAAB2mb7ceEIAALTivtx4QgAA8iu/3HhCAAAwdb/ceEIAAG6+v9x4QgAArAfA3HhCAADqUMDceEIAACiawNx4QgAAZuPA3HhCAACkLMHceEIAAOJ1wdx4QgAAIL/B3HhCAABeCMLceEIAAJxRwtx4QgAA2prC3HhCAAAY5MLceEIAAFYtw9x4QgAAlHbD3HhCAADSv8PceEIAABAJxNx4QgAATlLE3HhC\",\"dtype\":\"float64\",\"order\":\"little\",\"shape\":[75]},\"value\":{\"__ndarray__\":\"zczMzMxsZEDNzMzMzJRjQAAAAAAAQGNAmpmZmZnxYkAzMzMzMztkQM3MzMzM1GRAmpmZmZkxZUAAAAAAAEhlQJqZmZmZGWRAZmZmZmZmZUBmZmZmZuZkQGZmZmZmDmJAzczMzMxsYkAzMzMzMythQGZmZmZmFmBAmpmZmZl5YEDNzMzMzDxhQAAAAAAAIGBAZmZmZmYmXkAAAAAAAJBdQGZmZmZmhl5AAAAAAACoYEAAAAAAAHBgQAAAAAAAiGFAZmZmZmb2YEAzMzMzM7NfQM3MzMzM7F5AmpmZmZlhYEAAAAAAAOBgQJqZmZmZsWFAzczMzMzcYUAAAAAAAFBiQAAAAAAAEGNAZmZmZmZ+YkAzMzMzM7NhQGZmZmZm3mFAZmZmZmamYkAzMzMzMxtjQGZmZmZmpmJAAAAAAAD4YkAAAAAAADhjQJqZmZmZSWJAAAAAAAAQYkAAAAAAAEBjQJqZmZmZWWRAAAAAAAAYZECamZmZmXliQAAAAAAAmGJAMzMzMzMTY0CamZmZmVFiQJqZmZmZUWFAZmZmZmbGYEDNzMzMzFRiQGZmZmZmhmJAzczMzMwsXECamZmZmXlcQJqZmZmZyVpAzczMzMzMVUCamZmZmWlXQM3MzMzMTFVAAAAAAABgVUDNzMzMzMxNQGZmZmZm5kpAAAAAAACAS0CamZmZmZlGQM3MzMzMzENAAAAAAABAQ0AAAAAAACBEQAAAAAAAIEBAAAAAAADgQEAAAAAAAOBCQJqZmZmZeUZAMzMzMzMzRUAzMzMzM3NCQAAAAAAAAD5A\",\"dtype\":\"float64\",\"order\":\"little\",\"shape\":[75]}},\"selected\":{\"id\":\"1430\"},\"selection_policy\":{\"id\":\"1446\"}},\"id\":\"1429\",\"type\":\"ColumnDataSource\"},{\"attributes\":{},\"id\":\"1376\",\"type\":\"PanTool\"},{\"attributes\":{},\"id\":\"1377\",\"type\":\"WheelZoomTool\"},{\"attributes\":{\"line_color\":\"green\",\"line_width\":2,\"tags\":[\"apply_ranges\"],\"x\":{\"field\":\"date\"},\"y\":{\"field\":\"Peak\"}},\"id\":\"1489\",\"type\":\"Line\"},{\"attributes\":{\"fill_color\":{\"value\":\"green\"},\"hatch_color\":{\"value\":\"green\"},\"line_color\":{\"value\":\"green\"},\"marker\":{\"value\":\"triangle\"},\"size\":{\"value\":10.0},\"tags\":[\"apply_ranges\"],\"x\":{\"field\":\"date\"},\"y\":{\"field\":\"Peak\"}},\"id\":\"1466\",\"type\":\"Scatter\"},{\"attributes\":{\"source\":{\"id\":\"1472\"}},\"id\":\"1479\",\"type\":\"CDSView\"},{\"attributes\":{},\"id\":\"1518\",\"type\":\"UnionRenderers\"},{\"attributes\":{\"angle\":{\"value\":3.141592653589793},\"fill_alpha\":{\"value\":0.2},\"fill_color\":{\"value\":\"red\"},\"hatch_alpha\":{\"value\":0.2},\"hatch_color\":{\"value\":\"red\"},\"line_alpha\":{\"value\":0.2},\"line_color\":{\"value\":\"red\"},\"marker\":{\"value\":\"triangle\"},\"size\":{\"value\":10.0},\"tags\":[\"apply_ranges\"],\"x\":{\"field\":\"date\"},\"y\":{\"field\":\"Trough\"}},\"id\":\"1477\",\"type\":\"Scatter\"},{\"attributes\":{\"angle\":{\"value\":3.141592653589793},\"fill_color\":{\"value\":\"red\"},\"hatch_color\":{\"value\":\"red\"},\"line_color\":{\"value\":\"red\"},\"marker\":{\"value\":\"triangle\"},\"size\":{\"value\":10.0},\"tags\":[\"apply_ranges\"],\"x\":{\"field\":\"date\"},\"y\":{\"field\":\"Trough\"}},\"id\":\"1475\",\"type\":\"Scatter\"},{\"attributes\":{},\"id\":\"1491\",\"type\":\"Selection\"},{\"attributes\":{\"overlay\":{\"id\":\"1380\"}},\"id\":\"1378\",\"type\":\"BoxZoomTool\"},{\"attributes\":{},\"id\":\"1379\",\"type\":\"ResetTool\"},{\"attributes\":{},\"id\":\"1430\",\"type\":\"Selection\"},{\"attributes\":{},\"id\":\"1464\",\"type\":\"Selection\"},{\"attributes\":{\"source\":{\"id\":\"1396\"}},\"id\":\"1403\",\"type\":\"CDSView\"},{\"attributes\":{\"line_alpha\":0.1,\"line_color\":\"green\",\"line_width\":2,\"tags\":[\"apply_ranges\"],\"x\":{\"field\":\"date\"},\"y\":{\"field\":\"Peak\"}},\"id\":\"1485\",\"type\":\"Line\"},{\"attributes\":{\"source\":{\"id\":\"1481\"}},\"id\":\"1488\",\"type\":\"CDSView\"},{\"attributes\":{},\"id\":\"1391\",\"type\":\"DatetimeTickFormatter\"},{\"attributes\":{\"coordinates\":null,\"data_source\":{\"id\":\"1472\"},\"glyph\":{\"id\":\"1475\"},\"group\":null,\"hover_glyph\":null,\"muted_glyph\":{\"id\":\"1477\"},\"nonselection_glyph\":{\"id\":\"1476\"},\"selection_glyph\":{\"id\":\"1480\"},\"view\":{\"id\":\"1479\"}},\"id\":\"1478\",\"type\":\"GlyphRenderer\"},{\"attributes\":{\"coordinates\":null,\"data_source\":{\"id\":\"1396\"},\"glyph\":{\"id\":\"1399\"},\"group\":null,\"hover_glyph\":null,\"muted_glyph\":{\"id\":\"1401\"},\"nonselection_glyph\":{\"id\":\"1400\"},\"selection_glyph\":{\"id\":\"1428\"},\"view\":{\"id\":\"1403\"}},\"id\":\"1402\",\"type\":\"GlyphRenderer\"},{\"attributes\":{\"angle\":{\"value\":3.141592653589793},\"fill_alpha\":{\"value\":0.1},\"fill_color\":{\"value\":\"red\"},\"hatch_alpha\":{\"value\":0.1},\"hatch_color\":{\"value\":\"red\"},\"line_alpha\":{\"value\":0.1},\"line_color\":{\"value\":\"red\"},\"marker\":{\"value\":\"triangle\"},\"size\":{\"value\":10.0},\"tags\":[\"apply_ranges\"],\"x\":{\"field\":\"date\"},\"y\":{\"field\":\"Trough\"}},\"id\":\"1476\",\"type\":\"Scatter\"},{\"attributes\":{\"callback\":null,\"formatters\":{\"@{date}\":\"datetime\"},\"renderers\":[{\"id\":\"1469\"},{\"id\":\"1487\"}],\"tags\":[\"hv_created\"],\"tooltips\":[[\"date\",\"@{date}{%F %T}\"],[\"Peak\",\"@{Peak}\"]]},\"id\":\"1354\",\"type\":\"HoverTool\"},{\"attributes\":{\"line_alpha\":0.2,\"line_color\":\"#30a2da\",\"line_width\":2,\"tags\":[\"apply_ranges\"],\"x\":{\"field\":\"date\"},\"y\":{\"field\":\"value\"}},\"id\":\"1401\",\"type\":\"Line\"},{\"attributes\":{\"mantissas\":[1,2,5],\"max_interval\":500.0,\"num_minor_ticks\":0},\"id\":\"1414\",\"type\":\"AdaptiveTicker\"},{\"attributes\":{\"angle\":{\"value\":3.141592653589793},\"fill_alpha\":{\"value\":1.0},\"fill_color\":{\"value\":\"red\"},\"hatch_alpha\":{\"value\":1.0},\"hatch_color\":{\"value\":\"red\"},\"hatch_scale\":{\"value\":12.0},\"hatch_weight\":{\"value\":1.0},\"line_alpha\":{\"value\":1.0},\"line_cap\":{\"value\":\"butt\"},\"line_color\":{\"value\":\"red\"},\"line_dash\":{\"value\":[]},\"line_dash_offset\":{\"value\":0},\"line_join\":{\"value\":\"bevel\"},\"line_width\":{\"value\":1},\"marker\":{\"value\":\"triangle\"},\"size\":{\"value\":10.0},\"tags\":[\"apply_ranges\"],\"x\":{\"field\":\"date\"},\"y\":{\"field\":\"Trough\"}},\"id\":\"1480\",\"type\":\"Scatter\"},{\"attributes\":{},\"id\":\"1411\",\"type\":\"UnionRenderers\"},{\"attributes\":{\"line_alpha\":0.2,\"line_color\":\"#fc4f30\",\"line_width\":2,\"tags\":[\"apply_ranges\"],\"x\":{\"field\":\"date\"},\"y\":{\"field\":\"value\"}},\"id\":\"1434\",\"type\":\"Line\"},{\"attributes\":{\"base\":24,\"mantissas\":[1,2,4,6,8,12],\"max_interval\":43200000.0,\"min_interval\":3600000.0,\"num_minor_ticks\":0},\"id\":\"1416\",\"type\":\"AdaptiveTicker\"},{\"attributes\":{},\"id\":\"1392\",\"type\":\"AllLabels\"},{\"attributes\":{\"data\":{\"Peak\":{\"__ndarray__\":\"zczMzMzkZkDNzMzMzCRnQAAAAAAAaGNAMzMzMzMzYkDNzMzMzHxiQAAAAAAAQGJAzczMzMx0Y0DNzMzMzDxkQDMzMzMza2RAZmZmZmbOZECamZmZmdllQAAAAAAA4GNAzczMzMxEZECamZmZmdlHQM3MzMzMDE9A\",\"dtype\":\"float64\",\"order\":\"little\",\"shape\":[15]},\"date\":{\"__ndarray__\":\"AABaS7DceEIAABQnsdx4QgAAxiez3HhCAAB4KLXceEIAAPS6tdx4QgAAcE223HhCAABocrfceEIAACJOuNx4QgAAWLy53HhCAAASmLrceEIAAAq9u9x4QgAAAuK83HhCAAA4UL7ceEIAAJxRwtx4QgAAlHbD3HhC\",\"dtype\":\"float64\",\"order\":\"little\",\"shape\":[15]}},\"selected\":{\"id\":\"1464\"},\"selection_policy\":{\"id\":\"1514\"}},\"id\":\"1463\",\"type\":\"ColumnDataSource\"},{\"attributes\":{},\"id\":\"1395\",\"type\":\"AllLabels\"},{\"attributes\":{\"label\":{\"value\":\"Low\"},\"renderers\":[{\"id\":\"1435\"}]},\"id\":\"1461\",\"type\":\"LegendItem\"},{\"attributes\":{\"active_drag\":{\"id\":\"1376\"},\"active_scroll\":{\"id\":\"1377\"},\"tools\":[{\"id\":\"1352\"},{\"id\":\"1354\"},{\"id\":\"1355\"},{\"id\":\"1375\"},{\"id\":\"1376\"},{\"id\":\"1377\"},{\"id\":\"1378\"},{\"id\":\"1379\"}]},\"id\":\"1381\",\"type\":\"Toolbar\"},{\"attributes\":{\"coordinates\":null,\"data_source\":{\"id\":\"1481\"},\"glyph\":{\"id\":\"1484\"},\"group\":null,\"hover_glyph\":null,\"muted_glyph\":{\"id\":\"1486\"},\"nonselection_glyph\":{\"id\":\"1485\"},\"selection_glyph\":{\"id\":\"1489\"},\"view\":{\"id\":\"1488\"}},\"id\":\"1487\",\"type\":\"GlyphRenderer\"},{\"attributes\":{},\"id\":\"1516\",\"type\":\"UnionRenderers\"},{\"attributes\":{\"base\":60,\"mantissas\":[1,2,5,10,15,20,30],\"max_interval\":1800000.0,\"min_interval\":1000.0,\"num_minor_ticks\":0},\"id\":\"1415\",\"type\":\"AdaptiveTicker\"},{\"attributes\":{\"coordinates\":null,\"data_source\":{\"id\":\"1490\"},\"glyph\":{\"id\":\"1493\"},\"group\":null,\"hover_glyph\":null,\"muted_glyph\":{\"id\":\"1495\"},\"nonselection_glyph\":{\"id\":\"1494\"},\"selection_glyph\":{\"id\":\"1498\"},\"view\":{\"id\":\"1497\"}},\"id\":\"1496\",\"type\":\"GlyphRenderer\"}],\"root_ids\":[\"1349\"]},\"title\":\"Bokeh Application\",\"version\":\"2.4.3\"}};\n",
       "    var render_items = [{\"docid\":\"f99b6383-882a-48f5-924a-fb59b189730e\",\"root_ids\":[\"1349\"],\"roots\":{\"1349\":\"8e3ea16e-c042-4d8d-993c-bfa5f9c1bef2\"}}];\n",
       "    root.Bokeh.embed.embed_items_notebook(docs_json, render_items);\n",
       "    for (const render_item of render_items) {\n",
       "      for (const root_id of render_item.root_ids) {\n",
       "\tconst id_el = document.getElementById(root_id)\n",
       "\tif (id_el.children.length && (id_el.children[0].className === 'bk-root')) {\n",
       "\t  const root_el = id_el.children[0]\n",
       "\t  root_el.id = root_el.id + '-rendered'\n",
       "\t}\n",
       "      }\n",
       "    }\n",
       "  }\n",
       "  if (root.Bokeh !== undefined && root.Bokeh.Panel !== undefined) {\n",
       "    embed_document(root);\n",
       "  } else {\n",
       "    var attempts = 0;\n",
       "    var timer = setInterval(function(root) {\n",
       "      if (root.Bokeh !== undefined && root.Bokeh.Panel !== undefined) {\n",
       "        clearInterval(timer);\n",
       "        embed_document(root);\n",
       "      } else if (document.readyState == \"complete\") {\n",
       "        attempts++;\n",
       "        if (attempts > 200) {\n",
       "          clearInterval(timer);\n",
       "          console.log(\"Bokeh: ERROR: Unable to run BokehJS code because BokehJS library is missing\");\n",
       "        }\n",
       "      }\n",
       "    }, 25, root)\n",
       "  }\n",
       "})(window);</script>"
      ],
      "text/plain": [
       ":Overlay\n",
       "   .NdOverlay.I :NdOverlay   [Variable]\n",
       "      :Curve   [date]   (value)\n",
       "   .Scatter.I   :Scatter   [date]   (Peak)\n",
       "   .Scatter.II  :Scatter   [date]   (Trough)\n",
       "   .Curve.I     :Curve   [date]   (Peak)\n",
       "   .Curve.II    :Curve   [date]   (Trough)"
      ]
     },
     "execution_count": 27,
     "metadata": {
      "application/vnd.holoviews_exec.v0+json": {
       "id": "1349"
      }
     },
     "output_type": "execute_result"
    }
   ],
   "source": [
    "import pandas as pd\n",
    "import hvplot.pandas  # adds hvplot method to pandas objects\n",
    "\n",
    "# Load historical data from a CSV file\n",
    "# df = pd.read_csv('path_to_your_csv.csv', parse_dates=['date'])\n",
    "df = sp_call.copy()\n",
    "df = df.sort_values('date')\n",
    "\n",
    "# Assume that df has columns 'date', 'High', 'Low'\n",
    "\n",
    "# Identify significant peaks for resistance trendlines\n",
    "df['Peak'] = df['High'][(df['High'].shift(1) < df['High']) & (df['High'].shift(-1) < df['High'])]\n",
    "\n",
    "# Identify significant troughs for support trendlines\n",
    "df['Trough'] = df['Low'][(df['Low'].shift(1) > df['Low']) & (df['Low'].shift(-1) > df['Low'])]\n",
    "\n",
    "# Plot the High and Low prices using hvplot\n",
    "plot = df.hvplot(x='date', y=['High', 'Low'], width=800, height=400)\n",
    "\n",
    "# Overlay scatter plots for Peaks and Troughs using hvplot.scatter\n",
    "plot *= df.dropna(subset=['Peak']).hvplot.scatter(x='date', y='Peak', color='green', marker='^', size=100)\n",
    "plot *= df.dropna(subset=['Trough']).hvplot.scatter(x='date', y='Trough', color='red', marker='v', size=100)\n",
    "\n",
    "# Draw trendlines for Peaks and Troughs using the hvplot.line method\n",
    "peaks = df.dropna(subset=['Peak'])\n",
    "if len(peaks) > 1:\n",
    "    plot *= peaks.hvplot.line(x='date', y='Peak', color='green')\n",
    "\n",
    "troughs = df.dropna(subset=['Trough'])\n",
    "if len(troughs) > 1:\n",
    "    plot *= troughs.hvplot.line(x='date', y='Trough', color='red')\n",
    "\n",
    "plot"
   ]
  },
  {
   "cell_type": "code",
   "execution_count": null,
   "metadata": {},
   "outputs": [
    {
     "name": "stdout",
     "output_type": "stream",
     "text": [
      "CE: 35.3, PE: 34.05\n"
     ]
    }
   ],
   "source": [
    "# # Assuming 'kite' object is already defined and has necessary methods to fetch option prices\n",
    "# strike_price = 21950\n",
    "# symbol_ce = f\"NFO:NIFTY24222{strike_price}CE\"\n",
    "# symbol_pe = f\"NFO:NIFTY24222{strike_price}PE\"\n",
    "# support = 25\n",
    "# resistance = 41\n",
    "\n",
    "# position_call  = 0 \n",
    "# position_put = 0 \n",
    "# price = None  # Placeholder for the option premium price\n",
    "\n",
    "# while True:\n",
    "#     # Fetch current price for the call option\n",
    "#     price_ce = kite.ltp(symbol_ce)[symbol_ce]['last_price']\n",
    "#     price_pe = kite.ltp(symbol_pe)[symbol_pe]['last_price']\n",
    "#     print(f\"CE: {price_ce}, PE: {price_pe}\")\n",
    "\n",
    "#     break\n",
    "#     # Buy call if price reached near support and no position is open\n",
    "#     if price_ce <= support*.99 and price_ce >= support*1.01 and position_call == 0 and position_put == 0:\n",
    "#         buy_sell_order(strike_price = strike_price,ce_pe = \"CE\", price = None,trans_type=\"BUY\")  \n",
    "#         position_call = 1\n",
    "#         print(f\"Bought call at {price_ce}\")\n",
    "    \n",
    "#     # Sell call if price reached near resistance and call position is open\n",
    "#     elif price_ce >= resistance and position_call == 1:\n",
    "#         buy_sell_order(strike_price = strike_price,ce_pe = \"CE\", price = None,trans_type=\"SELL\") \n",
    "#         position_call = 0\n",
    "#         print(f\"Sold call at {price_ce}\")\n",
    "    \n",
    "#     # Sell call and buy put if call position is open and price goes below support by 10%\n",
    "#     elif position_call == 1 and price_ce < (support * 0.90):\n",
    "#         buy_sell_order(strike_price = strike_price,ce_pe = \"CE\", price = None,trans_type=\"SELL\") \n",
    "#         time.sleep(5)\n",
    "#         buy_sell_order(strike_price = strike_price,ce_pe = \"PE\", price = None, trans_type=\"BUY\")\n",
    "#         position_call = 0  \n",
    "#         position_put = 1\n",
    "#         print(f\"Switched to put at {price_pe}\")\n",
    "    \n",
    "#     # Buy call if price crosses the resistance by 5 points and no position is open\n",
    "#     elif price_ce > (resistance + 5) and position_call == 0:\n",
    "#         buy_sell_order(strike_price = strike_price,ce_pe = \"CE\", price = None,trans_type=\"BUY\") \n",
    "#         position_call = 1\n",
    "#         print(f\"Bought call at {price_ce}\")\n",
    "    \n",
    "#     # time.sleep(5)  # Adjust the sleep time as needed\n",
    "#     # clear_output(wait=True)\n",
    "#     break"
   ]
  },
  {
   "cell_type": "code",
   "execution_count": null,
   "metadata": {},
   "outputs": [],
   "source": []
  },
  {
   "cell_type": "code",
   "execution_count": null,
   "metadata": {},
   "outputs": [],
   "source": []
  },
  {
   "cell_type": "code",
   "execution_count": null,
   "metadata": {},
   "outputs": [],
   "source": [
    "inst = pd.DataFrame(kite.instruments(\"NFO\"))\n",
    "inst_nse = pd.DataFrame(kite.instruments(\"NSE\"))"
   ]
  },
  {
   "cell_type": "code",
   "execution_count": null,
   "metadata": {},
   "outputs": [],
   "source": [
    "expiry_sp = 'NIFTY24222'\n",
    "inst = pd.DataFrame(kite.instruments(\"NFO\"))\n",
    "\n",
    "expiry_march  = inst[(inst.name == 'NIFTY') & (inst.tradingsymbol.str.contains(expiry_sp))]\n",
    "# expiry_march = expiry_march.query(\"(strike >= 38500 )&( strike <= 40500)\")\n",
    "# expiry_march['strike_type'] = expiry_march['strike'].astype(int).astype(str) + expiry_march['instrument_type']"
   ]
  },
  {
   "cell_type": "code",
   "execution_count": null,
   "metadata": {},
   "outputs": [
    {
     "data": {
      "text/html": [
       "<div>\n",
       "<style scoped>\n",
       "    .dataframe tbody tr th:only-of-type {\n",
       "        vertical-align: middle;\n",
       "    }\n",
       "\n",
       "    .dataframe tbody tr th {\n",
       "        vertical-align: top;\n",
       "    }\n",
       "\n",
       "    .dataframe thead th {\n",
       "        text-align: right;\n",
       "    }\n",
       "</style>\n",
       "<table border=\"1\" class=\"dataframe\">\n",
       "  <thead>\n",
       "    <tr style=\"text-align: right;\">\n",
       "      <th></th>\n",
       "      <th>instrument_token</th>\n",
       "      <th>exchange_token</th>\n",
       "      <th>tradingsymbol</th>\n",
       "      <th>name</th>\n",
       "      <th>last_price</th>\n",
       "      <th>expiry</th>\n",
       "      <th>strike</th>\n",
       "      <th>tick_size</th>\n",
       "      <th>lot_size</th>\n",
       "      <th>instrument_type</th>\n",
       "      <th>segment</th>\n",
       "      <th>exchange</th>\n",
       "    </tr>\n",
       "  </thead>\n",
       "  <tbody>\n",
       "    <tr>\n",
       "      <th>773</th>\n",
       "      <td>9091074</td>\n",
       "      <td>35512</td>\n",
       "      <td>NIFTY2422219500CE</td>\n",
       "      <td>NIFTY</td>\n",
       "      <td>0.0</td>\n",
       "      <td>2024-02-22</td>\n",
       "      <td>19500.0</td>\n",
       "      <td>0.05</td>\n",
       "      <td>50</td>\n",
       "      <td>CE</td>\n",
       "      <td>NFO-OPT</td>\n",
       "      <td>NFO</td>\n",
       "    </tr>\n",
       "    <tr>\n",
       "      <th>774</th>\n",
       "      <td>9091330</td>\n",
       "      <td>35513</td>\n",
       "      <td>NIFTY2422219500PE</td>\n",
       "      <td>NIFTY</td>\n",
       "      <td>0.0</td>\n",
       "      <td>2024-02-22</td>\n",
       "      <td>19500.0</td>\n",
       "      <td>0.05</td>\n",
       "      <td>50</td>\n",
       "      <td>PE</td>\n",
       "      <td>NFO-OPT</td>\n",
       "      <td>NFO</td>\n",
       "    </tr>\n",
       "    <tr>\n",
       "      <th>775</th>\n",
       "      <td>9092098</td>\n",
       "      <td>35516</td>\n",
       "      <td>NIFTY2422219550CE</td>\n",
       "      <td>NIFTY</td>\n",
       "      <td>0.0</td>\n",
       "      <td>2024-02-22</td>\n",
       "      <td>19550.0</td>\n",
       "      <td>0.05</td>\n",
       "      <td>50</td>\n",
       "      <td>CE</td>\n",
       "      <td>NFO-OPT</td>\n",
       "      <td>NFO</td>\n",
       "    </tr>\n",
       "    <tr>\n",
       "      <th>776</th>\n",
       "      <td>9092354</td>\n",
       "      <td>35517</td>\n",
       "      <td>NIFTY2422219550PE</td>\n",
       "      <td>NIFTY</td>\n",
       "      <td>0.0</td>\n",
       "      <td>2024-02-22</td>\n",
       "      <td>19550.0</td>\n",
       "      <td>0.05</td>\n",
       "      <td>50</td>\n",
       "      <td>PE</td>\n",
       "      <td>NFO-OPT</td>\n",
       "      <td>NFO</td>\n",
       "    </tr>\n",
       "    <tr>\n",
       "      <th>777</th>\n",
       "      <td>9093634</td>\n",
       "      <td>35522</td>\n",
       "      <td>NIFTY2422219600CE</td>\n",
       "      <td>NIFTY</td>\n",
       "      <td>0.0</td>\n",
       "      <td>2024-02-22</td>\n",
       "      <td>19600.0</td>\n",
       "      <td>0.05</td>\n",
       "      <td>50</td>\n",
       "      <td>CE</td>\n",
       "      <td>NFO-OPT</td>\n",
       "      <td>NFO</td>\n",
       "    </tr>\n",
       "    <tr>\n",
       "      <th>...</th>\n",
       "      <td>...</td>\n",
       "      <td>...</td>\n",
       "      <td>...</td>\n",
       "      <td>...</td>\n",
       "      <td>...</td>\n",
       "      <td>...</td>\n",
       "      <td>...</td>\n",
       "      <td>...</td>\n",
       "      <td>...</td>\n",
       "      <td>...</td>\n",
       "      <td>...</td>\n",
       "      <td>...</td>\n",
       "    </tr>\n",
       "    <tr>\n",
       "      <th>948</th>\n",
       "      <td>10363906</td>\n",
       "      <td>40484</td>\n",
       "      <td>NIFTY2422223850PE</td>\n",
       "      <td>NIFTY</td>\n",
       "      <td>0.0</td>\n",
       "      <td>2024-02-22</td>\n",
       "      <td>23850.0</td>\n",
       "      <td>0.05</td>\n",
       "      <td>50</td>\n",
       "      <td>PE</td>\n",
       "      <td>NFO-OPT</td>\n",
       "      <td>NFO</td>\n",
       "    </tr>\n",
       "    <tr>\n",
       "      <th>949</th>\n",
       "      <td>15559170</td>\n",
       "      <td>60778</td>\n",
       "      <td>NIFTY2422223900CE</td>\n",
       "      <td>NIFTY</td>\n",
       "      <td>0.0</td>\n",
       "      <td>2024-02-22</td>\n",
       "      <td>23900.0</td>\n",
       "      <td>0.05</td>\n",
       "      <td>50</td>\n",
       "      <td>CE</td>\n",
       "      <td>NFO-OPT</td>\n",
       "      <td>NFO</td>\n",
       "    </tr>\n",
       "    <tr>\n",
       "      <th>950</th>\n",
       "      <td>15560194</td>\n",
       "      <td>60782</td>\n",
       "      <td>NIFTY2422223900PE</td>\n",
       "      <td>NIFTY</td>\n",
       "      <td>0.0</td>\n",
       "      <td>2024-02-22</td>\n",
       "      <td>23900.0</td>\n",
       "      <td>0.05</td>\n",
       "      <td>50</td>\n",
       "      <td>PE</td>\n",
       "      <td>NFO-OPT</td>\n",
       "      <td>NFO</td>\n",
       "    </tr>\n",
       "    <tr>\n",
       "      <th>951</th>\n",
       "      <td>15560450</td>\n",
       "      <td>60783</td>\n",
       "      <td>NIFTY2422223950CE</td>\n",
       "      <td>NIFTY</td>\n",
       "      <td>0.0</td>\n",
       "      <td>2024-02-22</td>\n",
       "      <td>23950.0</td>\n",
       "      <td>0.05</td>\n",
       "      <td>50</td>\n",
       "      <td>CE</td>\n",
       "      <td>NFO-OPT</td>\n",
       "      <td>NFO</td>\n",
       "    </tr>\n",
       "    <tr>\n",
       "      <th>952</th>\n",
       "      <td>15560706</td>\n",
       "      <td>60784</td>\n",
       "      <td>NIFTY2422223950PE</td>\n",
       "      <td>NIFTY</td>\n",
       "      <td>0.0</td>\n",
       "      <td>2024-02-22</td>\n",
       "      <td>23950.0</td>\n",
       "      <td>0.05</td>\n",
       "      <td>50</td>\n",
       "      <td>PE</td>\n",
       "      <td>NFO-OPT</td>\n",
       "      <td>NFO</td>\n",
       "    </tr>\n",
       "  </tbody>\n",
       "</table>\n",
       "<p>180 rows × 12 columns</p>\n",
       "</div>"
      ],
      "text/plain": [
       "     instrument_token exchange_token      tradingsymbol   name  last_price  \\\n",
       "773           9091074          35512  NIFTY2422219500CE  NIFTY         0.0   \n",
       "774           9091330          35513  NIFTY2422219500PE  NIFTY         0.0   \n",
       "775           9092098          35516  NIFTY2422219550CE  NIFTY         0.0   \n",
       "776           9092354          35517  NIFTY2422219550PE  NIFTY         0.0   \n",
       "777           9093634          35522  NIFTY2422219600CE  NIFTY         0.0   \n",
       "..                ...            ...                ...    ...         ...   \n",
       "948          10363906          40484  NIFTY2422223850PE  NIFTY         0.0   \n",
       "949          15559170          60778  NIFTY2422223900CE  NIFTY         0.0   \n",
       "950          15560194          60782  NIFTY2422223900PE  NIFTY         0.0   \n",
       "951          15560450          60783  NIFTY2422223950CE  NIFTY         0.0   \n",
       "952          15560706          60784  NIFTY2422223950PE  NIFTY         0.0   \n",
       "\n",
       "         expiry   strike  tick_size  lot_size instrument_type  segment  \\\n",
       "773  2024-02-22  19500.0       0.05        50              CE  NFO-OPT   \n",
       "774  2024-02-22  19500.0       0.05        50              PE  NFO-OPT   \n",
       "775  2024-02-22  19550.0       0.05        50              CE  NFO-OPT   \n",
       "776  2024-02-22  19550.0       0.05        50              PE  NFO-OPT   \n",
       "777  2024-02-22  19600.0       0.05        50              CE  NFO-OPT   \n",
       "..          ...      ...        ...       ...             ...      ...   \n",
       "948  2024-02-22  23850.0       0.05        50              PE  NFO-OPT   \n",
       "949  2024-02-22  23900.0       0.05        50              CE  NFO-OPT   \n",
       "950  2024-02-22  23900.0       0.05        50              PE  NFO-OPT   \n",
       "951  2024-02-22  23950.0       0.05        50              CE  NFO-OPT   \n",
       "952  2024-02-22  23950.0       0.05        50              PE  NFO-OPT   \n",
       "\n",
       "    exchange  \n",
       "773      NFO  \n",
       "774      NFO  \n",
       "775      NFO  \n",
       "776      NFO  \n",
       "777      NFO  \n",
       "..       ...  \n",
       "948      NFO  \n",
       "949      NFO  \n",
       "950      NFO  \n",
       "951      NFO  \n",
       "952      NFO  \n",
       "\n",
       "[180 rows x 12 columns]"
      ]
     },
     "execution_count": 12,
     "metadata": {},
     "output_type": "execute_result"
    }
   ],
   "source": [
    "expiry_march"
   ]
  },
  {
   "cell_type": "code",
   "execution_count": null,
   "metadata": {},
   "outputs": [],
   "source": [
    "# nifty_token = 256265 # NIFTY 50\t\n",
    "# expiry_day = 'NIFTY24215'\n",
    "\n",
    "# expiry_march = (\n",
    "#     inst[(inst.name == \"NIFTY\") & (inst.tradingsymbol.str.contains(expiry_day))]\n",
    "#     # .query(\"(strike >= @lower_price )&( strike <= @upper_price)\")\n",
    "#     # .assign(strike_type=lambda x: x[\"strike\"].astype(int).astype(str) + x[\"instrument_type\"])\n",
    "# )\n",
    "# df = pd.DataFrame(kite.historical_data(nifty_token, from_date = start_dt, to_date = end_dt, interval = time_frame, continuous=False, oi=True))"
   ]
  },
  {
   "cell_type": "code",
   "execution_count": null,
   "metadata": {},
   "outputs": [],
   "source": [
    "kite.ltp"
   ]
  },
  {
   "cell_type": "code",
   "execution_count": null,
   "metadata": {},
   "outputs": [],
   "source": [
    "# price consolidation i\n",
    "from IPython.display import clear_output\n",
    "import time\n",
    "strike_price = 42900\n",
    "position = 0\n",
    "market  = False\n",
    "\n",
    "lower_side = 42811\n",
    "upper_side = 42911\n",
    "\n",
    "target_lower = 49000\n",
    "target_upper = 42488\n",
    "\n",
    "sl_lower = 42228\n",
    "sl_upper = 42299\n",
    "\n",
    "\n",
    "if market:\n",
    "    order_type  = kite.ORDER_TYPE_MARKET\n",
    "else:\n",
    "    order_type  = kite.ORDER_TYPE_LIMIT\n",
    "\n",
    "symbol_ce = f\"NFO:BANKNIFTY23504{strike_price}CE\"\n",
    "symbol_pe = f\"NFO:BANKNIFTY23504{strike_price}PE\"\n",
    "# price = 385\n",
    "while(True):\n",
    "    bn_index = kite.ltp('NSE:NIFTY BANK')['NSE:NIFTY BANK']['last_price']\n",
    "    op_begin_ce = kite.ltp(symbol_ce)[symbol_ce]['last_price']\n",
    "    op_begin_pe = kite.ltp(symbol_pe)[symbol_pe]['last_price']\n",
    "    print(bn_index,op_begin_ce,op_begin_pe)\n",
    "    # buy \n",
    "    if bn_index > upper_side and position == 0:\n",
    "        print('buy_up', bn_index) \n",
    "        trans_type = kite.TRANSACTION_TYPE_BUY\n",
    "        op_begin_ce -= 5\n",
    "        buy_sell_order(strike_price = strike_price,price =op_begin_ce, ce_pe = 'CE', trans_type = trans_type,order_type =order_type)\n",
    "        position = 1 \n",
    "        \n",
    "    elif bn_index < lower_side and position == 0:\n",
    "        print(\"buy_down\",bn_index)\n",
    "        trans_type = kite.TRANSACTION_TYPE_BUY\n",
    "        op_begin_pe -= 5\n",
    "        buy_sell_order(strike_price = strike_price,ce_pe = 'PE', trans_type = trans_type,order_type = order_type)\n",
    "        position = 1\n",
    "    \n",
    "    # if position == 1 and (bn_index > target_upper or bn_index < sl_upper): \n",
    "    #     trans_type = kite.TRANSACTION_TYPE_SELL\n",
    "    #     order_type  = kite.ORDER_TYPE_MARKET\n",
    "    #     buy_sell_order(strike_price = strike_price,ce_pe = 'CE',price = None, trans_type = trans_type,order_type = order_type)\n",
    "    #     break\n",
    "    # elif position == 1 and (bn_index < target_lower or bn_index > sl_lower):\n",
    "    #     trans_type = kite.TRANSACTION_TYPE_SELL\n",
    "    #     buy_sell_order(strike_price = strike_price,ce_pe = 'PE',price = None, trans_type = trans_type,order_type = order_type)\n",
    "    #     break\n",
    "        \n",
    "    time.sleep(5)\n",
    "    clear_output(wait=True)\n",
    "    # break\n",
    "\n",
    "    "
   ]
  }
 ],
 "metadata": {
  "kernelspec": {
   "display_name": "py37",
   "language": "python",
   "name": "python3"
  },
  "language_info": {
   "codemirror_mode": {
    "name": "ipython",
    "version": 3
   },
   "file_extension": ".py",
   "mimetype": "text/x-python",
   "name": "python",
   "nbconvert_exporter": "python",
   "pygments_lexer": "ipython3",
   "version": "3.7.15"
  }
 },
 "nbformat": 4,
 "nbformat_minor": 2
}
