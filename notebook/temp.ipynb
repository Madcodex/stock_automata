{
 "cells": [
  {
   "cell_type": "code",
   "execution_count": 9,
   "metadata": {},
   "outputs": [
    {
     "name": "stdout",
     "output_type": "stream",
     "text": [
      "Collecting selenium==4.9.0\n",
      "  Downloading selenium-4.9.0-py3-none-any.whl (6.5 MB)\n",
      "     ---------------------------------------- 6.5/6.5 MB 15.5 MB/s eta 0:00:00\n",
      "Collecting trio-websocket~=0.9\n",
      "  Downloading trio_websocket-0.11.1-py3-none-any.whl (17 kB)\n",
      "Requirement already satisfied: certifi>=2021.10.8 in c:\\users\\akash.verma\\miniconda3\\envs\\py37\\lib\\site-packages (from selenium==4.9.0) (2022.12.7)\n",
      "Collecting trio~=0.17\n",
      "  Downloading trio-0.22.2-py3-none-any.whl (400 kB)\n",
      "     ------------------------------------- 400.2/400.2 kB 26.0 MB/s eta 0:00:00\n",
      "Requirement already satisfied: urllib3[socks]~=1.26 in c:\\users\\akash.verma\\miniconda3\\envs\\py37\\lib\\site-packages (from selenium==4.9.0) (1.26.13)\n",
      "Collecting outcome\n",
      "  Downloading outcome-1.3.0.post0-py2.py3-none-any.whl (10 kB)\n",
      "Requirement already satisfied: sortedcontainers in c:\\users\\akash.verma\\miniconda3\\envs\\py37\\lib\\site-packages (from trio~=0.17->selenium==4.9.0) (2.4.0)\n",
      "Requirement already satisfied: cffi>=1.14 in c:\\users\\akash.verma\\miniconda3\\envs\\py37\\lib\\site-packages (from trio~=0.17->selenium==4.9.0) (1.15.1)\n",
      "Requirement already satisfied: sniffio in c:\\users\\akash.verma\\miniconda3\\envs\\py37\\lib\\site-packages (from trio~=0.17->selenium==4.9.0) (1.2.0)\n",
      "Requirement already satisfied: idna in c:\\users\\akash.verma\\miniconda3\\envs\\py37\\lib\\site-packages (from trio~=0.17->selenium==4.9.0) (3.4)\n",
      "Requirement already satisfied: attrs>=20.1.0 in c:\\users\\akash.verma\\miniconda3\\envs\\py37\\lib\\site-packages (from trio~=0.17->selenium==4.9.0) (22.1.0)\n",
      "Requirement already satisfied: exceptiongroup>=1.0.0rc9 in c:\\users\\akash.verma\\miniconda3\\envs\\py37\\lib\\site-packages (from trio~=0.17->selenium==4.9.0) (1.2.0)\n",
      "Collecting wsproto>=0.14\n",
      "  Downloading wsproto-1.2.0-py3-none-any.whl (24 kB)\n",
      "Requirement already satisfied: PySocks!=1.5.7,<2.0,>=1.5.6 in c:\\users\\akash.verma\\miniconda3\\envs\\py37\\lib\\site-packages (from urllib3[socks]~=1.26->selenium==4.9.0) (1.7.1)\n",
      "Requirement already satisfied: pycparser in c:\\users\\akash.verma\\miniconda3\\envs\\py37\\lib\\site-packages (from cffi>=1.14->trio~=0.17->selenium==4.9.0) (2.21)\n",
      "Requirement already satisfied: h11<1,>=0.9.0 in c:\\users\\akash.verma\\miniconda3\\envs\\py37\\lib\\site-packages (from wsproto>=0.14->trio-websocket~=0.9->selenium==4.9.0) (0.14.0)\n",
      "Requirement already satisfied: typing-extensions in c:\\users\\akash.verma\\miniconda3\\envs\\py37\\lib\\site-packages (from h11<1,>=0.9.0->wsproto>=0.14->trio-websocket~=0.9->selenium==4.9.0) (4.4.0)\n",
      "Installing collected packages: outcome, wsproto, trio, trio-websocket, selenium\n",
      "  Attempting uninstall: selenium\n",
      "    Found existing installation: selenium 3.141.0\n",
      "    Uninstalling selenium-3.141.0:\n",
      "      Successfully uninstalled selenium-3.141.0\n",
      "Successfully installed outcome-1.3.0.post0 selenium-4.9.0 trio-0.22.2 trio-websocket-0.11.1 wsproto-1.2.0\n"
     ]
    }
   ],
   "source": [
    "!pip install selenium==4.9.0"
   ]
  },
  {
   "cell_type": "code",
   "execution_count": null,
   "metadata": {},
   "outputs": [],
   "source": [
    "from selenium import webdriver\n",
    "from selenium.webdriver.chrome.service import Service\n",
    "import time\n",
    "chrome_driver_path = r\"C:\\Users\\akash.verma\\Downloads\\chrome-win64\\chrome-win64\\chrome.exe\"\n",
    "s = Service(chrome_driver_path)\n",
    "browser = webdriver.Chrome(service=s)\n",
    "browser.get('https://pui-rde-petivity.com/catfeeder-pet-events/CF1AX1400058#Events')\n",
    "time.sleep(5)"
   ]
  },
  {
   "cell_type": "code",
   "execution_count": null,
   "metadata": {},
   "outputs": [],
   "source": [
    "try:\n",
    "    # Open the website\n",
    "    driver.get('https://example.com')  # Replace with your URL\n",
    "\n",
    "    # Wait for the page to load completely\n",
    "    time.sleep(2)  # Adjust the sleep time if necessary\n",
    "\n",
    "    # Find the username and password fields and the sign-in button\n",
    "    username_field = driver.find_element(By.NAME, 'username')  # Replace 'username' with the actual name or id of the username field\n",
    "    password_field = driver.find_element(By.NAME, 'password')  # Replace 'password' with the actual name or id of the password field\n",
    "    sign_in_button = driver.find_element(By.XPATH, '//button[@type=\"submit\"]')  # Adjust the XPATH to match the button if necessary\n",
    "\n",
    "    # Enter the username and password\n",
    "    username_field.send_keys('your_username')  # Replace with your actual username\n",
    "    password_field.send_keys('your_password')  # Replace with your actual password\n",
    "\n",
    "    # Click the sign-in button\n",
    "    sign_in_button.click()\n",
    "\n",
    "    # Wait for the next page to load\n",
    "    time.sleep(5)  # Adjust the sleep time if necessary\n",
    "\n",
    "except Exception as e:\n",
    "    print(f\"An error occurred: {e}\")\n",
    "\n",
    "finally:\n",
    "    # Close the WebDriver\n",
    "    driver.quit()"
   ]
  },
  {
   "cell_type": "code",
   "execution_count": 11,
   "metadata": {},
   "outputs": [
    {
     "ename": "KeyboardInterrupt",
     "evalue": "",
     "output_type": "error",
     "traceback": [
      "\u001b[1;31m---------------------------------------------------------------------------\u001b[0m",
      "\u001b[1;31mKeyboardInterrupt\u001b[0m                         Traceback (most recent call last)",
      "\u001b[1;32m~\\AppData\\Local\\Temp\\ipykernel_8904\\3502615443.py\u001b[0m in \u001b[0;36m<module>\u001b[1;34m\u001b[0m\n\u001b[0;32m     13\u001b[0m \u001b[0mchrome_driver_path\u001b[0m \u001b[1;33m=\u001b[0m \u001b[1;34mr\"C:\\Users\\akash.verma\\Downloads\\chrome-win64\\chrome-win64\\chrome.exe\"\u001b[0m\u001b[1;33m\u001b[0m\u001b[1;33m\u001b[0m\u001b[0m\n\u001b[0;32m     14\u001b[0m \u001b[0ms\u001b[0m \u001b[1;33m=\u001b[0m \u001b[0mService\u001b[0m\u001b[1;33m(\u001b[0m\u001b[0mchrome_driver_path\u001b[0m\u001b[1;33m)\u001b[0m\u001b[1;33m\u001b[0m\u001b[1;33m\u001b[0m\u001b[0m\n\u001b[1;32m---> 15\u001b[1;33m \u001b[0mdriver\u001b[0m \u001b[1;33m=\u001b[0m \u001b[0mwebdriver\u001b[0m\u001b[1;33m.\u001b[0m\u001b[0mChrome\u001b[0m\u001b[1;33m(\u001b[0m\u001b[0mservice\u001b[0m\u001b[1;33m=\u001b[0m\u001b[0ms\u001b[0m\u001b[1;33m)\u001b[0m\u001b[1;33m\u001b[0m\u001b[1;33m\u001b[0m\u001b[0m\n\u001b[0m\u001b[0;32m     16\u001b[0m \u001b[0mprint\u001b[0m\u001b[1;33m(\u001b[0m\u001b[1;34m'websote start'\u001b[0m\u001b[1;33m)\u001b[0m\u001b[1;33m\u001b[0m\u001b[1;33m\u001b[0m\u001b[0m\n\u001b[0;32m     17\u001b[0m \u001b[1;31m# Wait for the page to load completely\u001b[0m\u001b[1;33m\u001b[0m\u001b[1;33m\u001b[0m\u001b[1;33m\u001b[0m\u001b[0m\n",
      "\u001b[1;32mc:\\Users\\akash.verma\\Miniconda3\\envs\\py37\\lib\\site-packages\\selenium\\webdriver\\chrome\\webdriver.py\u001b[0m in \u001b[0;36m__init__\u001b[1;34m(self, executable_path, port, options, service_args, desired_capabilities, service_log_path, chrome_options, service, keep_alive)\u001b[0m\n\u001b[0;32m     91\u001b[0m             \u001b[0mservice_log_path\u001b[0m\u001b[1;33m,\u001b[0m\u001b[1;33m\u001b[0m\u001b[1;33m\u001b[0m\u001b[0m\n\u001b[0;32m     92\u001b[0m             \u001b[0mservice\u001b[0m\u001b[1;33m,\u001b[0m\u001b[1;33m\u001b[0m\u001b[1;33m\u001b[0m\u001b[0m\n\u001b[1;32m---> 93\u001b[1;33m             \u001b[0mkeep_alive\u001b[0m\u001b[1;33m,\u001b[0m\u001b[1;33m\u001b[0m\u001b[1;33m\u001b[0m\u001b[0m\n\u001b[0m\u001b[0;32m     94\u001b[0m         )\n\u001b[0;32m     95\u001b[0m \u001b[1;33m\u001b[0m\u001b[0m\n",
      "\u001b[1;32mc:\\Users\\akash.verma\\Miniconda3\\envs\\py37\\lib\\site-packages\\selenium\\webdriver\\chromium\\webdriver.py\u001b[0m in \u001b[0;36m__init__\u001b[1;34m(self, browser_name, vendor_prefix, port, options, service_args, desired_capabilities, service_log_path, service, keep_alive)\u001b[0m\n\u001b[0;32m     99\u001b[0m \u001b[1;33m\u001b[0m\u001b[0m\n\u001b[0;32m    100\u001b[0m         \u001b[0mself\u001b[0m\u001b[1;33m.\u001b[0m\u001b[0mservice\u001b[0m \u001b[1;33m=\u001b[0m \u001b[0mservice\u001b[0m\u001b[1;33m\u001b[0m\u001b[1;33m\u001b[0m\u001b[0m\n\u001b[1;32m--> 101\u001b[1;33m         \u001b[0mself\u001b[0m\u001b[1;33m.\u001b[0m\u001b[0mservice\u001b[0m\u001b[1;33m.\u001b[0m\u001b[0mstart\u001b[0m\u001b[1;33m(\u001b[0m\u001b[1;33m)\u001b[0m\u001b[1;33m\u001b[0m\u001b[1;33m\u001b[0m\u001b[0m\n\u001b[0m\u001b[0;32m    102\u001b[0m \u001b[1;33m\u001b[0m\u001b[0m\n\u001b[0;32m    103\u001b[0m         \u001b[1;32mtry\u001b[0m\u001b[1;33m:\u001b[0m\u001b[1;33m\u001b[0m\u001b[1;33m\u001b[0m\u001b[0m\n",
      "\u001b[1;32mc:\\Users\\akash.verma\\Miniconda3\\envs\\py37\\lib\\site-packages\\selenium\\webdriver\\common\\service.py\u001b[0m in \u001b[0;36mstart\u001b[1;34m(self)\u001b[0m\n\u001b[0;32m    103\u001b[0m \u001b[1;33m\u001b[0m\u001b[0m\n\u001b[0;32m    104\u001b[0m             \u001b[0mcount\u001b[0m \u001b[1;33m+=\u001b[0m \u001b[1;36m1\u001b[0m\u001b[1;33m\u001b[0m\u001b[1;33m\u001b[0m\u001b[0m\n\u001b[1;32m--> 105\u001b[1;33m             \u001b[0msleep\u001b[0m\u001b[1;33m(\u001b[0m\u001b[1;36m0.5\u001b[0m\u001b[1;33m)\u001b[0m\u001b[1;33m\u001b[0m\u001b[1;33m\u001b[0m\u001b[0m\n\u001b[0m\u001b[0;32m    106\u001b[0m             \u001b[1;32mif\u001b[0m \u001b[0mcount\u001b[0m \u001b[1;33m==\u001b[0m \u001b[1;36m60\u001b[0m\u001b[1;33m:\u001b[0m\u001b[1;33m\u001b[0m\u001b[1;33m\u001b[0m\u001b[0m\n\u001b[0;32m    107\u001b[0m                 \u001b[1;32mraise\u001b[0m \u001b[0mWebDriverException\u001b[0m\u001b[1;33m(\u001b[0m\u001b[1;34mf\"Can not connect to the Service {self._path}\"\u001b[0m\u001b[1;33m)\u001b[0m\u001b[1;33m\u001b[0m\u001b[1;33m\u001b[0m\u001b[0m\n",
      "\u001b[1;31mKeyboardInterrupt\u001b[0m: "
     ]
    }
   ],
   "source": [
    "from selenium import webdriver\n",
    "from selenium.webdriver.chrome.service import Service\n",
    "from selenium.webdriver.common.by import By\n",
    "import time\n",
    "\n",
    "from selenium import webdriver\n",
    "from selenium.webdriver.chrome.service import Service\n",
    "from webdriver_manager.chrome import ChromeDriverManager\n",
    "driver = webdriver.Chrome(service=Service(ChromeDriverManager().install()))\n",
    "\n",
    "# try:\n",
    "    # Open the website\n",
    "chrome_driver_path = r\"C:\\Users\\akash.verma\\Downloads\\chrome-win64\\chrome-win64\\chrome.exe\"\n",
    "s = Service(chrome_driver_path)\n",
    "driver = webdriver.Chrome(service=s)\n",
    "print('websote start')\n",
    "# Wait for the page to load completely\n",
    "time.sleep(10)  # Adjust the sleep time if necessary\n",
    "username_field = driver.find_element(By.NAME, 'username')\n",
    "password_field = driver.find_element(By.NAME, 'password')\n",
    "sign_in_button = driver.find_element(By.NAME, 'signInSubmitButton')\n",
    "\n",
    "# Enter the username and password\n",
    "username_field.send_keys('your_username')  # Replace with your actual username\n",
    "password_field.send_keys('your_password')  # Replace with your actual password\n",
    "\n",
    "# Click the sign-in button\n",
    "sign_in_button.click()\n",
    "\n",
    "# Wait for the next page to load\n",
    "time.sleep(5)  # Adjust the sleep time if necessary\n",
    "\n",
    "checkboxes = driver.find_elements(By.CSS_SELECTOR, 'input[type=\"checkbox\"]')\n",
    "for checkbox in checkboxes:\n",
    "    checkbox.click()\n",
    "\n",
    "# Optionally, print the names of the checkboxes\n",
    "for checkbox in checkboxes:\n",
    "    print(checkbox.get_attribute('name'))\n",
    "\n",
    "\n",
    "\n",
    "\n"
   ]
  },
  {
   "cell_type": "code",
   "execution_count": null,
   "metadata": {},
   "outputs": [],
   "source": []
  }
 ],
 "metadata": {
  "kernelspec": {
   "display_name": "py37",
   "language": "python",
   "name": "python3"
  },
  "language_info": {
   "codemirror_mode": {
    "name": "ipython",
    "version": 3
   },
   "file_extension": ".py",
   "mimetype": "text/x-python",
   "name": "python",
   "nbconvert_exporter": "python",
   "pygments_lexer": "ipython3",
   "version": "3.7.15"
  }
 },
 "nbformat": 4,
 "nbformat_minor": 2
}
