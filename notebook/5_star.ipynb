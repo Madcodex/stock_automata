{
 "cells": [
  {
   "cell_type": "code",
   "execution_count": null,
   "metadata": {},
   "outputs": [],
   "source": [
    "%load_ext autoreload\n",
    "%autoreload 2"
   ]
  },
  {
   "cell_type": "code",
   "execution_count": null,
   "metadata": {},
   "outputs": [],
   "source": [
    "import numpy as np\n",
    "import pandas as pd\n",
    "# import ta|\n",
    "\n",
    "import talib\n",
    "import datetime\n",
    "from tqdm import tqdm\n",
    "import util_fun as uf\n",
    "from datetime import timedelta,datetime\n",
    "\n",
    "from kite_trade import *\n",
    "from enctoken import get_kite\n",
    "kite = get_kite()\n",
    "from pandas.tseries.frequencies import to_offset"
   ]
  },
  {
   "cell_type": "code",
   "execution_count": null,
   "metadata": {},
   "outputs": [],
   "source": [
    "# monthly above 60 \n",
    "# weekly above 60 \n",
    "# daily near 40 \n",
    "# daily, hourly and 15 mins"
   ]
  },
  {
   "cell_type": "code",
   "execution_count": null,
   "metadata": {},
   "outputs": [],
   "source": [
    "timerframe_list = [\n",
    "\"day\",\n",
    "\"minute\",\n",
    " \"3minute\",\n",
    " \"5minute\",\n",
    " \"10minute\",\n",
    " \"15minute\",\n",
    " \"30minute\",\n",
    " \"60minute\",]\n",
    "\n",
    "# instument in nse\n",
    "inst = pd.DataFrame(kite.instruments(\"NSE\"))\n",
    "inst_filter = inst.query('(name != \"\")').copy()\n",
    "inst_filter.rename(columns = {\"tradingsymbol\":'Symbol'},inplace = True)\n",
    "# inst_filter.query(\"Symbol. 'NIFTY'\")\n",
    "# inst_filter[inst_filter.Symbol.str.contains('HDFCBANK')]\n",
    "\n",
    "nifty_500_df = pd.read_csv('../data/ind_nifty500list.csv')\n",
    "nifty_500_df = nifty_500_df.merge(inst_filter, how = 'left', on = 'Symbol').dropna(subset = [\"instrument_token\"])\n",
    "inst_dict = dict(zip(nifty_500_df.Symbol, nifty_500_df.instrument_token.astype(int)))"
   ]
  },
  {
   "cell_type": "code",
   "execution_count": null,
   "metadata": {},
   "outputs": [],
   "source": [
    "# df_hour = pd.DataFrame(\n",
    "#                         kite.historical_data(\n",
    "#                             instrument_token=int(itoken),\n",
    "#                             from_date=\"2023-08-01\",\n",
    "#                             to_date=end_dt,\n",
    "#                             interval=\"60minute\",\n",
    "#                         )\n",
    "# )\n",
    "# df_hour"
   ]
  },
  {
   "cell_type": "code",
   "execution_count": null,
   "metadata": {},
   "outputs": [],
   "source": [
    "\n",
    "\n",
    "def get_intraday_rsi_5star(sy, itoken,sht):\n",
    "    # try\n",
    "        df_15 = pd.DataFrame(\n",
    "                        kite.historical_data(\n",
    "                            instrument_token=int(itoken),\n",
    "                            from_date=start_dt,\n",
    "                            to_date=end_dt,\n",
    "                            interval=\"15minute\",\n",
    "                        )\n",
    "        )\n",
    "        df_hour = pd.DataFrame(\n",
    "                        kite.historical_data(\n",
    "                            instrument_token=int(itoken),\n",
    "                            from_date=\"2023-08-01\",\n",
    "                            to_date=end_dt,\n",
    "                            interval=\"60minute\",\n",
    "                        )\n",
    "        )\n",
    "        df_day = pd.DataFrame(\n",
    "                        kite.historical_data(\n",
    "                            instrument_token=int(itoken),\n",
    "                            from_date=\"2023-07-01\",\n",
    "                            to_date=end_dt,\n",
    "                            interval=\"day\",\n",
    "                        )\n",
    "        )\n",
    "\n",
    "        df_15['rsi'] = talib.RSI(df_15['close'], timeperiod=14)\n",
    "        df_hour['rsi'] = talib.RSI(df_hour['close'], timeperiod=14)\n",
    "        df_day['rsi'] = talib.RSI(df_day['close'], timeperiod=14)\n",
    "\n",
    "        df_15.set_index(\"date\", inplace=True)\n",
    "        df_15.index = df_15.index.tz_localize(None)\n",
    "        df_15 = df_15.dropna().reset_index()\n",
    "        df_hour.set_index('date', inplace = True)\n",
    "        df_hour.index = df_hour.index.tz_localize(None)\n",
    "        df_hour = df_hour.dropna().reset_index()\n",
    "\n",
    "        df_15['hourly_date'] = np.where(df_15.date.dt.minute >= 15, pd.to_datetime(df_15.date.dt.strftime('%Y-%m-%d %H:15')),\n",
    "                 pd.to_datetime(df_15.date.dt.strftime('%Y-%m-%d %H:15')) - pd.Timedelta(hours=1))\n",
    "                 \n",
    "        df_15['daily_date'] = pd.to_datetime(df_15['date'].dt.date)\n",
    "\n",
    "        df_hour.rename(columns = {'date': 'hourly_date'}, inplace = True)\n",
    "        df_day = df_day.assign(daily_date = pd.to_datetime(df_day.date.dt.date)).drop('date', axis = 1)\n",
    "        \n",
    "        # return df_15, df_hour, df_day\n",
    "        df_merged = (\n",
    "        df_15\n",
    "        .merge(df_hour, how = 'left', on = 'hourly_date', suffixes=('_son','_father'))\n",
    "        .merge(df_day, how = 'left', on = 'daily_date')\n",
    "        .drop(['volume_son','volume_father','volume'],axis = 1)\n",
    "        .dropna()\n",
    "        .set_index('date')\n",
    "        .rename(columns = {\"rsi\": 'rsi_grand_father'})\n",
    "        )\n",
    "        # return df_merged\n",
    "        # df_merged['cond_1'] = np.where((df_merged['rsi_grand_father'] >= 60) & (df_merged['rsi_grand_father'] <= 80) &\n",
    "        #        (df_merged['rsi_father']>= 60)  ,1,0 )\n",
    "        # df_merged['cond_2'] = np.where((df_merged['rsi_son'] < 43),1,0 )\n",
    "        # df_merged['buy'] =( (df_merged['cond_1'] ==1) &( df_merged['cond_2'] == 1))\n",
    "\n",
    "        df_merged['cond_1'] = np.where((df_merged['rsi_grand_father'] >= 80) & (df_merged['rsi_grand_father'] <= 100),1,0)\n",
    "        df_merged['cond_2'] = np.where((df_merged['rsi_father']>= 60)  ,1,0 )\n",
    "        df_merged['cond_3'] = np.where((df_merged['rsi_son'] < 43),1,0 )\n",
    "        df_merged['buy'] =((df_merged['cond_1'] ==1) &( df_merged['cond_2'] == 1) & ( df_merged['cond_3'] == 1))\n",
    "\n",
    "        # df_merged['cond_1_sell'] = np.where((df_merged['rsi_grand_father'] <= 40) & (df_merged['rsi_grand_father'] >= 20) &\n",
    "        #       (df_merged['rsi_father'] <= 40) ,1,0 )\n",
    "        # df_merged['cond_2_sell'] = np.where((df_merged['rsi_son'] > 57),1,0 )\n",
    "        # df_merged['sell'] =( (df_merged['cond_1_sell'] ==1) &( df_merged['cond_2_sell'] == 1))\n",
    "        df_merged['cond_1_sell'] = np.where((df_merged['rsi_grand_father'] <= 20) & (df_merged['rsi_grand_father'] >= 0),1,0)\n",
    "        df_merged['cond_2_sell'] = np.where((df_merged['rsi_father'] <= 40) ,1,0 )\n",
    "        df_merged['cond_3_sell'] = np.where((df_merged['rsi_son'] > 57),1,0 )\n",
    "        df_merged['sell'] =(df_merged['cond_1_sell'] ==1) &( df_merged['cond_2_sell'] == 1) & ( df_merged['cond_3_sell'] == 1)\n",
    "\n",
    "        df_merged['symbol'] = sy\n",
    "        return df_merged#[df_merged['buy']].assign(symbol = sy)\n",
    "    # except:\n",
    "    #     print('error: ', sy)"
   ]
  },
  {
   "cell_type": "code",
   "execution_count": null,
   "metadata": {},
   "outputs": [],
   "source": [
    "from joblib import Parallel, delayed\n",
    "from tqdm import tqdm\n",
    "import time\n",
    "import xlwings\n",
    "\n",
    "start_dt = \"2023-08-09\"\n",
    "end_dt = \"2023-08-11\"\n",
    "# return n dict pair\n",
    "# def get_n_dict_pair(n, dict):\n",
    "#     return {k: dict[k] for k in list(dict.keys())[:n]}\n",
    "\n",
    "# results = Parallel(n_jobs=2, backend = 'threading')(delayed(get_intraday_rsi_5star)(sy, itoken) for sy, itoken in tqdm(get_n_dict_pair(100, inst_dict).items()))\n",
    "# df_final = pd.concat(results)\n",
    "wb = xlwings.Book(r'D:\\US\\McD-Discount-Portal\\mcdds\\notebooks\\akash_dev\\test.xlsx')\n",
    "sht = wb.sheets['buy_sell']\n",
    "current_time = 0\n",
    "while True:\n",
    "    if current_time%5 == 0: \n",
    "        time.sleep(5) \n",
    "        df_final = pd.DataFrame()\n",
    "\n",
    "        for sy, itoken in tqdm(inst_dict.items()):\n",
    "            try:\n",
    "                df_final = df_final.append(get_intraday_rsi_5star(sy, itoken,sht))\n",
    "            except:\n",
    "                print(sy)\n",
    "                continue\n",
    "            # break\n",
    "\n",
    "        \n",
    "        df_final = df_final.query('daily_date == @end_dt and close <=2000')\n",
    "        df_final.to_csv(f'data/test_11_aug_{datetime.now().strftime(\"%H_%M\")}.csv')\n",
    "        sht.clear_contents()\n",
    "        sht.range('A1').value = df_final[df_final['buy']].sort_index()[['close','symbol']]\n",
    "        sht.range('E1').value = df_final[df_final['sell']].sort_index()[['close','symbol']]\n",
    "        # break\n",
    "        # time.sleep(60*5)\n",
    "    break\n",
    "    current_time = datetime.now().minute"
   ]
  },
  {
   "cell_type": "code",
   "execution_count": null,
   "metadata": {},
   "outputs": [],
   "source": []
  },
  {
   "cell_type": "code",
   "execution_count": null,
   "metadata": {},
   "outputs": [],
   "source": [
    "## break last 1 year high\n",
    "start_dt = '2022-07-01'\n",
    "end_dt = '2023-08-11'\n",
    "df_day = pd.DataFrame()\n",
    "\n",
    "for sy, itoken in tqdm(inst_dict.items()):\n",
    "    df_day = df_day.append(pd.DataFrame(\n",
    "                            kite.historical_data(\n",
    "                                instrument_token=int(itoken),\n",
    "                                from_date=\"2022-07-01\",\n",
    "                                to_date=end_dt,\n",
    "                                interval=\"day\",\n",
    "                            )\n",
    "            ).assign(symbol=sy)\n",
    "    )"
   ]
  },
  {
   "cell_type": "code",
   "execution_count": null,
   "metadata": {},
   "outputs": [],
   "source": [
    "df_day.set_index(\"date\", inplace=True)\n",
    "df_day.index = df_day.index.tz_localize(None)\n",
    "df_day.reset_index(inplace = True)"
   ]
  },
  {
   "cell_type": "code",
   "execution_count": null,
   "metadata": {},
   "outputs": [],
   "source": [
    "df_year_back = df_day.query('date != \"2023-08-11\"')\n",
    "df_today = df_day.query('date == \"2023-08-11\"')\n",
    "df_year_back = df_year_back.groupby('symbol')['close'].max().reset_index()\n",
    "df_today.merge(df_year_back, on = 'symbol').assign(flag = lambda x: x['close_x'] > x['close_y']).query('flag == True').symbol.unique()"
   ]
  },
  {
   "cell_type": "code",
   "execution_count": null,
   "metadata": {},
   "outputs": [],
   "source": [
    "def is_consolidating(df):\n",
    "    recent_closes = df.copy()\n",
    "\n",
    "    max_close = recent_closes[\"close\"].max()\n",
    "    min_close = recent_closes[\"close\"].min()\n",
    "    # print(\"the max close {} and min close {}\".format(max_close, min_close))\n",
    "    if min_close > (max_close * 0.98):\n",
    "        # print(\"is consolidating {}\".format(set(recent_closes['stock'])))\n",
    "        return True\n",
    "    return False\n",
    "\n",
    "def is_breaking_out(df):\n",
    "    last_close = df[-1:][\"close\"].values[0]\n",
    "\n",
    "    if is_consolidating(df[:-1]):\n",
    "        recent_closes = df[-8:-1]\n",
    "        if last_close > recent_closes[\"high\"].max():\n",
    "            print(\"is breaking {}\".format(set(recent_closes[\"symbol\"])))\n",
    "            breakout_up.extend(list(set(recent_closes[\"symbol\"])))\n",
    "            return True\n",
    "        if last_close < recent_closes[\"low\"].min():\n",
    "            print(\"is breaking  below {}\".format(set(recent_closes[\"symbol\"])))\n",
    "            breakout_below.extend(list(set(recent_closes[\"symbol\"])))\n",
    "            return True\n",
    "    return False"
   ]
  },
  {
   "cell_type": "code",
   "execution_count": null,
   "metadata": {},
   "outputs": [],
   "source": [
    "breakout_up = []\n",
    "breakout_below = []\n",
    "df_breakout = df_day.groupby(\"symbol\").apply(is_breaking_out).reset_index()\n",
    "df_breakout.rename(columns = {0:'flag'}).query('flag == True')"
   ]
  },
  {
   "cell_type": "code",
   "execution_count": null,
   "metadata": {},
   "outputs": [],
   "source": [
    "df_day.query('date != \"2023-08-11\" and date >= \"2023-08-01\"').groupby('symbol').apply(is_consolidating) \\\n",
    ".reset_index().rename(columns = {0:'flag'}).query('flag == True').symbol.unique()"
   ]
  },
  {
   "cell_type": "markdown",
   "metadata": {},
   "source": [
    "## RNN"
   ]
  },
  {
   "cell_type": "code",
   "execution_count": 83,
   "metadata": {},
   "outputs": [],
   "source": [
    "df_day.rename(columns={'close':'Close'}, inplace=True)"
   ]
  },
  {
   "cell_type": "code",
   "execution_count": null,
   "metadata": {},
   "outputs": [],
   "source": [
    "import numpy as np\n",
    "import pandas as pd\n",
    "import matplotlib.pyplot as plt\n",
    "import tensorflow as tf\n",
    "from sklearn.preprocessing import MinMaxScaler\n",
    "from sklearn.metrics import mean_squared_error\n",
    "\n",
    "# Load your stock price \n",
    "# For this example, let's assume you have a CSV file with a 'Close' column representing the closing prices.\n",
    "\n",
    "prices = df_day.query('symbol == \"HDFCBANK\"')['open'].values.reshape(-1, 1)\n",
    "\n",
    "# Normalize the \n",
    "scaler = MinMaxScaler()\n",
    "scaled_prices = scaler.fit_transform(prices)\n",
    "\n",
    "# Create sequences for time series prediction\n",
    "sequence_length = 10  # Number of past time steps to consider\n",
    "sequences = []\n",
    "targets = []\n",
    "\n",
    "for i in range(len(scaled_prices) - sequence_length):\n",
    "    sequences.append(scaled_prices[i:i+sequence_length])\n",
    "    targets.append(scaled_prices[i+sequence_length])\n",
    "\n",
    "X = np.array(sequences)\n",
    "y = np.array(targets)\n",
    "\n",
    "# Split the  into training and testing sets\n",
    "train_size = int(0.8 * len(X))\n",
    "X_train, X_test = X[:train_size], X[train_size:]\n",
    "y_train, y_test = y[:train_size], y[train_size:]\n",
    "\n",
    "# Build the RNN model\n",
    "model = tf.keras.Sequential([\n",
    "    tf.keras.layers.LSTM(50, return_sequences=True, input_shape=(sequence_length, 1)),\n",
    "    tf.keras.layers.LSTM(50, return_sequences=False),\n",
    "    tf.keras.layers.Dense(1)\n",
    "])\n",
    "\n",
    "# Compile the model\n",
    "model.compile(optimizer='adam', loss='mean_squared_error')\n",
    "\n",
    "# Train the model\n",
    "model.fit(X_train, y_train, epochs=50, batch_size=64, validation_data=(X_test, y_test))\n",
    "\n",
    "# Make predictions\n",
    "y_pred = model.predict(X_test)\n",
    "\n",
    "# Inverse transform the predictions and actual values\n",
    "y_pred_original = scaler.inverse_transform(y_pred)\n",
    "y_test_original = scaler.inverse_transform(y_test)\n",
    "\n",
    "# Calculate Mean Squared Error\n",
    "mse = mean_squared_error(y_test_original, y_pred_original)\n",
    "print(f\"Mean Squared Error: {mse}\")\n",
    "\n",
    "# Plot the predictions and actual values\n",
    "plt.figure(figsize=(12, 6))\n",
    "plt.plot(y_test_original, label='Actual Prices')\n",
    "plt.plot(y_pred_original, label='Predicted Prices')\n",
    "plt.xlabel('Time')\n",
    "plt.ylabel('Stock Price')\n",
    "plt.title('Stock Price Prediction using RNN')\n",
    "plt.legend()\n",
    "plt.show()\n"
   ]
  },
  {
   "cell_type": "markdown",
   "metadata": {},
   "source": [
    "## suport and resistance"
   ]
  },
  {
   "cell_type": "code",
   "execution_count": 112,
   "metadata": {},
   "outputs": [
    {
     "name": "stdout",
     "output_type": "stream",
     "text": [
      "Support Levels: [(2, 648.5), (7, 676.2), (10, 662.2), (17, 706.45), (20, 724.75), (22, 730.45), (24, 721.6), (27, 739.0), (34, 741.85), (37, 743.35), (39, 728.7), (41, 744.15), (44, 750.0), (52, 789.3), (60, 716.45), (63, 722.75), (71, 800.5), (75, 825.85), (78, 902.85), (80, 903.05), (83, 863.55), (88, 843.7), (92, 855.4), (105, 899.2), (109, 933.7), (114, 935.1), (119, 906.6), (122, 924.7), (124, 933.75), (129, 939.9), (135, 913.15), (146, 857.25), (154, 859.1), (161, 833.35), (165, 844.1), (167, 845.45), (173, 832.35), (175, 824.05), (184, 832.45), (190, 847.35), (192, 851.05), (195, 863.35), (198, 864.2), (200, 878.35), (203, 860.0), (205, 859.85), (207, 865.3), (216, 914.7), (219, 916.15), (225, 914.85), (231, 962.1), (233, 974.2), (236, 977.15), (238, 965.65), (240, 966.0), (242, 958.4), (249, 966.5), (254, 950.0), (256, 957.05), (258, 963.65), (261, 971.3), (263, 962.5), (266, 949.95), (270, 935.55), (272, 947.4)]\n",
      "Resistance Levels: [(1, 654.35), (6, 679.85), (8, 679.9), (15, 730.75), (19, 725.9), (21, 730.8), (23, 730.5), (26, 745.55), (31, 772.1), (36, 750.15), (38, 744.9), (40, 751.5), (43, 756.1), (49, 805.55), (54, 812.75), (62, 733.2), (69, 808.7), (74, 829.85), (77, 909.45), (79, 915.15), (81, 906.0), (87, 873.7), (91, 858.65), (104, 905.15), (108, 939.35), (111, 944.6), (116, 949.75), (121, 932.2), (123, 934.55), (126, 962.3), (130, 958.75), (140, 932.7), (149, 882.65), (155, 870.75), (164, 854.35), (166, 865.15), (171, 867.8), (174, 832.85), (179, 855.6), (187, 864.6), (191, 853.3), (194, 864.55), (196, 873.4), (199, 882.3), (201, 887.65), (204, 870.65), (206, 865.95), (214, 917.8), (217, 924.05), (224, 937.45), (230, 976.75), (232, 974.75), (234, 985.85), (237, 981.55), (239, 974.85), (241, 966.6), (246, 987.45), (250, 980.95), (255, 960.15), (257, 964.85), (260, 977.9), (262, 971.5), (264, 976.8), (268, 959.9), (271, 952.25), (273, 952.9)]\n"
     ]
    },
    {
     "data": {
      "image/png": "[encoded data removed]",
      "text/plain": [
       "<Figure size 2000x1000 with 1 Axes>"
      ]
     },
     "metadata": {},
     "output_type": "display_data"
    }
   ],
   "source": [
    "import numpy as np\n",
    "import matplotlib.pyplot as plt\n",
    "\n",
    "# Sample price data (replace this with your own price data)\n",
    "price_data = df_day.query('symbol == \"AXISBANK\"')['Close'].values\n",
    "\n",
    "def find_support_resistance(data, sensitivity=0.03):\n",
    "    support_levels = []\n",
    "    resistance_levels = []\n",
    "\n",
    "    for i in range(1, len(data) - 1):\n",
    "        if data[i - 1] > data[i] < data[i + 1]:  # Trough\n",
    "            support_levels.append((i, data[i]))\n",
    "\n",
    "        if data[i - 1] < data[i] > data[i + 1]:  # Peak\n",
    "            resistance_levels.append((i, data[i]))\n",
    "\n",
    "    # Filter out levels that are too close to each other\n",
    "    filtered_support = []\n",
    "    for level in support_levels:\n",
    "        if all(abs(level[0] - s[0]) > sensitivity * len(data) for s in resistance_levels):\n",
    "            filtered_support.append(level)\n",
    "\n",
    "    filtered_resistance = []\n",
    "    for level in resistance_levels:\n",
    "        if all(abs(level[0] - r[0]) > sensitivity * len(data) for r in support_levels):\n",
    "            filtered_resistance.append(level)\n",
    "    return support_levels, resistance_levels\n",
    "    return filtered_support, filtered_resistance\n",
    "\n",
    "support_levels, resistance_levels = find_support_resistance(price_data)\n",
    "\n",
    "print(\"Support Levels:\", support_levels)\n",
    "print(\"Resistance Levels:\", resistance_levels)\n",
    "\n",
    "# Plot the price data and identified levels\n",
    "plt.figure(figsize=(20, 10))\n",
    "plt.plot(price_data, marker='o', linestyle='-', color='b', label='Price',)\n",
    "for level in support_levels:\n",
    "    plt.plot(level[0], level[1], marker='o', color='g', label='Support Level')\n",
    "for level in resistance_levels:\n",
    "    plt.plot(level[0], level[1], marker='o', color='r', label='Resistance Level')\n",
    "plt.xlabel('Time')\n",
    "plt.ylabel('Price')\n",
    "plt.title('Support and Resistance Levels')\n",
    "# plt.legend()\n",
    "\n",
    "plt.grid()\n",
    "plt.show()\n"
   ]
  },
  {
   "cell_type": "code",
   "execution_count": 113,
   "metadata": {},
   "outputs": [
    {
     "data": {
      "application/vnd.plotly.v1+json": {
       "config": {
        "plotlyServerURL": "https://plot.ly"
       },
       "data": [
        {
         "line": {
          "color": "blue"
         },
         "marker": {
          "color": "blue"
         },
         "mode": "lines+markers",
         "name": "Price",
         "type": "scatter",
         "x": [
          0,
          1,
          2,
          3,
          4,
          5,
          6,
          7,
          8,
          9,
          10,
          11,
          12,
          13,
          14,
          15,
          16,
          17,
          18,
          19,
          20,
          21,
          22,
          23,
          24,
          25,
          26,
          27,
          28,
          29,
          30,
          31,
          32,
          33,
          34,
          35,
          36,
          37,
          38,
          39,
          40,
          41,
          42,
          43,
          44,
          45,
          46,
          47,
          48,
          49,
          50,
          51,
          52,
          53,
          54,
          55,
          56,
          57,
          58,
          59,
          60,
          61,
          62,
          63,
          64,
          65,
          66,
          67,
          68,
          69,
          70,
          71,
          72,
          73,
          74,
          75,
          76,
          77,
          78,
          79,
          80,
          81,
          82,
          83,
          84,
          85,
          86,
          87,
          88,
          89,
          90,
          91,
          92,
          93,
          94,
          95,
          96,
          97,
          98,
          99,
          100,
          101,
          102,
          103,
          104,
          105,
          106,
          107,
          108,
          109,
          110,
          111,
          112,
          113,
          114,
          115,
          116,
          117,
          118,
          119,
          120,
          121,
          122,
          123,
          124,
          125,
          126,
          127,
          128,
          129,
          130,
          131,
          132,
          133,
          134,
          135,
          136,
          137,
          138,
          139,
          140,
          141,
          142,
          143,
          144,
          145,
          146,
          147,
          148,
          149,
          150,
          151,
          152,
          153,
          154,
          155,
          156,
          157,
          158,
          159,
          160,
          161,
          162,
          163,
          164,
          165,
          166,
          167,
          168,
          169,
          170,
          171,
          172,
          173,
          174,
          175,
          176,
          177,
          178,
          179,
          180,
          181,
          182,
          183,
          184,
          185,
          186,
          187,
          188,
          189,
          190,
          191,
          192,
          193,
          194,
          195,
          196,
          197,
          198,
          199,
          200,
          201,
          202,
          203,
          204,
          205,
          206,
          207,
          208,
          209,
          210,
          211,
          212,
          213,
          214,
          215,
          216,
          217,
          218,
          219,
          220,
          221,
          222,
          223,
          224,
          225,
          226,
          227,
          228,
          229,
          230,
          231,
          232,
          233,
          234,
          235,
          236,
          237,
          238,
          239,
          240,
          241,
          242,
          243,
          244,
          245,
          246,
          247,
          248,
          249,
          250,
          251,
          252,
          253,
          254,
          255,
          256,
          257,
          258,
          259,
          260,
          261,
          262,
          263,
          264,
          265,
          266,
          267,
          268,
          269,
          270,
          271,
          272,
          273,
          274,
          275,
          276
         ],
         "y": [
          643.95,
          654.35,
          648.5,
          657.95,
          658.15,
          669.15,
          679.85,
          676.2,
          679.9,
          668.25,
          662.2,
          684.5,
          700.6,
          705.7,
          715.55,
          730.75,
          727.35,
          706.45,
          718.95,
          725.9,
          724.75,
          730.8,
          730.45,
          730.5,
          721.6,
          728.5,
          745.55,
          739,
          758.85,
          760.55,
          764.65,
          772.1,
          765.05,
          757.5,
          741.85,
          747.05,
          750.15,
          743.35,
          744.9,
          728.7,
          751.5,
          744.15,
          750.2,
          756.1,
          750,
          755.4,
          779.75,
          784.85,
          801,
          805.55,
          803.05,
          790,
          789.3,
          798.1,
          812.75,
          806.55,
          789.2,
          768.6,
          742.6,
          737.5,
          716.45,
          719,
          733.2,
          722.75,
          742.8,
          755.1,
          755.7,
          776.85,
          785.55,
          808.7,
          802,
          800.5,
          814.15,
          816.35,
          829.85,
          825.85,
          900.4,
          909.45,
          902.85,
          915.15,
          903.05,
          906,
          871.75,
          863.55,
          864.05,
          868.1,
          872.95,
          873.7,
          843.7,
          850.7,
          851,
          858.65,
          855.4,
          858.2,
          859.2,
          870.05,
          870.05,
          874.7,
          878.55,
          887.75,
          891.7,
          892.55,
          901.25,
          903.85,
          905.15,
          899.2,
          904.65,
          914.65,
          939.35,
          933.7,
          938.65,
          944.6,
          942.4,
          938.15,
          935.1,
          946.2,
          949.75,
          932.3,
          919.55,
          906.6,
          928.7,
          932.2,
          924.7,
          934.55,
          933.75,
          941.6,
          962.3,
          957.45,
          949.55,
          939.9,
          958.75,
          952.15,
          949.75,
          935.55,
          934.15,
          913.15,
          917.7,
          924,
          928.7,
          930.55,
          932.7,
          910.2,
          892.35,
          873.75,
          871.85,
          871.6,
          857.25,
          868.45,
          882.6,
          882.65,
          879.1,
          871.75,
          867.7,
          867.25,
          859.1,
          870.75,
          868.3,
          864.75,
          854.9,
          846.75,
          844.05,
          833.35,
          844.35,
          851.4,
          854.35,
          844.1,
          865.15,
          845.45,
          852.65,
          859.5,
          860.95,
          867.8,
          851.9,
          832.35,
          832.85,
          824.05,
          830.55,
          837.4,
          837.55,
          855.6,
          849.65,
          848.8,
          839.9,
          833.35,
          832.45,
          842.6,
          858.5,
          864.6,
          860.5,
          851.95,
          847.35,
          853.3,
          851.05,
          864.35,
          864.55,
          863.35,
          873.4,
          868.75,
          864.2,
          882.3,
          878.35,
          887.65,
          881.4,
          860,
          870.65,
          859.85,
          865.95,
          865.3,
          878.45,
          888.25,
          889.9,
          895.95,
          910.65,
          915.8,
          917.8,
          914.8,
          914.7,
          924.05,
          917.55,
          916.15,
          917.7,
          921.05,
          926.95,
          929.8,
          937.45,
          914.85,
          919.7,
          926.1,
          950.85,
          968.2,
          976.75,
          962.1,
          974.75,
          974.2,
          985.85,
          977.7,
          977.15,
          981.55,
          965.65,
          974.85,
          966,
          966.6,
          958.4,
          960.55,
          973.25,
          978.2,
          987.45,
          982.1,
          970.7,
          966.5,
          980.95,
          976.7,
          964.05,
          953.2,
          950,
          960.15,
          957.05,
          964.85,
          963.65,
          964.3,
          977.9,
          971.3,
          971.5,
          962.5,
          976.8,
          959.9,
          949.95,
          953.9,
          959.9,
          945.25,
          935.55,
          952.25,
          947.4,
          952.9,
          950,
          939.75,
          937.1
         ]
        },
        {
         "marker": {
          "color": "green"
         },
         "mode": "markers",
         "name": "Support Level",
         "type": "scatter",
         "x": [
          2
         ],
         "y": [
          648.5
         ]
        },
        {
         "marker": {
          "color": "green"
         },
         "mode": "markers",
         "name": "Support Level",
         "type": "scatter",
         "x": [
          7
         ],
         "y": [
          676.2
         ]
        },
        {
         "marker": {
          "color": "green"
         },
         "mode": "markers",
         "name": "Support Level",
         "type": "scatter",
         "x": [
          10
         ],
         "y": [
          662.2
         ]
        },
        {
         "marker": {
          "color": "green"
         },
         "mode": "markers",
         "name": "Support Level",
         "type": "scatter",
         "x": [
          17
         ],
         "y": [
          706.45
         ]
        },
        {
         "marker": {
          "color": "green"
         },
         "mode": "markers",
         "name": "Support Level",
         "type": "scatter",
         "x": [
          20
         ],
         "y": [
          724.75
         ]
        },
        {
         "marker": {
          "color": "green"
         },
         "mode": "markers",
         "name": "Support Level",
         "type": "scatter",
         "x": [
          22
         ],
         "y": [
          730.45
         ]
        },
        {
         "marker": {
          "color": "green"
         },
         "mode": "markers",
         "name": "Support Level",
         "type": "scatter",
         "x": [
          24
         ],
         "y": [
          721.6
         ]
        },
        {
         "marker": {
          "color": "green"
         },
         "mode": "markers",
         "name": "Support Level",
         "type": "scatter",
         "x": [
          27
         ],
         "y": [
          739
         ]
        },
        {
         "marker": {
          "color": "green"
         },
         "mode": "markers",
         "name": "Support Level",
         "type": "scatter",
         "x": [
          34
         ],
         "y": [
          741.85
         ]
        },
        {
         "marker": {
          "color": "green"
         },
         "mode": "markers",
         "name": "Support Level",
         "type": "scatter",
         "x": [
          37
         ],
         "y": [
          743.35
         ]
        },
        {
         "marker": {
          "color": "green"
         },
         "mode": "markers",
         "name": "Support Level",
         "type": "scatter",
         "x": [
          39
         ],
         "y": [
          728.7
         ]
        },
        {
         "marker": {
          "color": "green"
         },
         "mode": "markers",
         "name": "Support Level",
         "type": "scatter",
         "x": [
          41
         ],
         "y": [
          744.15
         ]
        },
        {
         "marker": {
          "color": "green"
         },
         "mode": "markers",
         "name": "Support Level",
         "type": "scatter",
         "x": [
          44
         ],
         "y": [
          750
         ]
        },
        {
         "marker": {
          "color": "green"
         },
         "mode": "markers",
         "name": "Support Level",
         "type": "scatter",
         "x": [
          52
         ],
         "y": [
          789.3
         ]
        },
        {
         "marker": {
          "color": "green"
         },
         "mode": "markers",
         "name": "Support Level",
         "type": "scatter",
         "x": [
          60
         ],
         "y": [
          716.45
         ]
        },
        {
         "marker": {
          "color": "green"
         },
         "mode": "markers",
         "name": "Support Level",
         "type": "scatter",
         "x": [
          63
         ],
         "y": [
          722.75
         ]
        },
        {
         "marker": {
          "color": "green"
         },
         "mode": "markers",
         "name": "Support Level",
         "type": "scatter",
         "x": [
          71
         ],
         "y": [
          800.5
         ]
        },
        {
         "marker": {
          "color": "green"
         },
         "mode": "markers",
         "name": "Support Level",
         "type": "scatter",
         "x": [
          75
         ],
         "y": [
          825.85
         ]
        },
        {
         "marker": {
          "color": "green"
         },
         "mode": "markers",
         "name": "Support Level",
         "type": "scatter",
         "x": [
          78
         ],
         "y": [
          902.85
         ]
        },
        {
         "marker": {
          "color": "green"
         },
         "mode": "markers",
         "name": "Support Level",
         "type": "scatter",
         "x": [
          80
         ],
         "y": [
          903.05
         ]
        },
        {
         "marker": {
          "color": "green"
         },
         "mode": "markers",
         "name": "Support Level",
         "type": "scatter",
         "x": [
          83
         ],
         "y": [
          863.55
         ]
        },
        {
         "marker": {
          "color": "green"
         },
         "mode": "markers",
         "name": "Support Level",
         "type": "scatter",
         "x": [
          88
         ],
         "y": [
          843.7
         ]
        },
        {
         "marker": {
          "color": "green"
         },
         "mode": "markers",
         "name": "Support Level",
         "type": "scatter",
         "x": [
          92
         ],
         "y": [
          855.4
         ]
        },
        {
         "marker": {
          "color": "green"
         },
         "mode": "markers",
         "name": "Support Level",
         "type": "scatter",
         "x": [
          105
         ],
         "y": [
          899.2
         ]
        },
        {
         "marker": {
          "color": "green"
         },
         "mode": "markers",
         "name": "Support Level",
         "type": "scatter",
         "x": [
          109
         ],
         "y": [
          933.7
         ]
        },
        {
         "marker": {
          "color": "green"
         },
         "mode": "markers",
         "name": "Support Level",
         "type": "scatter",
         "x": [
          114
         ],
         "y": [
          935.1
         ]
        },
        {
         "marker": {
          "color": "green"
         },
         "mode": "markers",
         "name": "Support Level",
         "type": "scatter",
         "x": [
          119
         ],
         "y": [
          906.6
         ]
        },
        {
         "marker": {
          "color": "green"
         },
         "mode": "markers",
         "name": "Support Level",
         "type": "scatter",
         "x": [
          122
         ],
         "y": [
          924.7
         ]
        },
        {
         "marker": {
          "color": "green"
         },
         "mode": "markers",
         "name": "Support Level",
         "type": "scatter",
         "x": [
          124
         ],
         "y": [
          933.75
         ]
        },
        {
         "marker": {
          "color": "green"
         },
         "mode": "markers",
         "name": "Support Level",
         "type": "scatter",
         "x": [
          129
         ],
         "y": [
          939.9
         ]
        },
        {
         "marker": {
          "color": "green"
         },
         "mode": "markers",
         "name": "Support Level",
         "type": "scatter",
         "x": [
          135
         ],
         "y": [
          913.15
         ]
        },
        {
         "marker": {
          "color": "green"
         },
         "mode": "markers",
         "name": "Support Level",
         "type": "scatter",
         "x": [
          146
         ],
         "y": [
          857.25
         ]
        },
        {
         "marker": {
          "color": "green"
         },
         "mode": "markers",
         "name": "Support Level",
         "type": "scatter",
         "x": [
          154
         ],
         "y": [
          859.1
         ]
        },
        {
         "marker": {
          "color": "green"
         },
         "mode": "markers",
         "name": "Support Level",
         "type": "scatter",
         "x": [
          161
         ],
         "y": [
          833.35
         ]
        },
        {
         "marker": {
          "color": "green"
         },
         "mode": "markers",
         "name": "Support Level",
         "type": "scatter",
         "x": [
          165
         ],
         "y": [
          844.1
         ]
        },
        {
         "marker": {
          "color": "green"
         },
         "mode": "markers",
         "name": "Support Level",
         "type": "scatter",
         "x": [
          167
         ],
         "y": [
          845.45
         ]
        },
        {
         "marker": {
          "color": "green"
         },
         "mode": "markers",
         "name": "Support Level",
         "type": "scatter",
         "x": [
          173
         ],
         "y": [
          832.35
         ]
        },
        {
         "marker": {
          "color": "green"
         },
         "mode": "markers",
         "name": "Support Level",
         "type": "scatter",
         "x": [
          175
         ],
         "y": [
          824.05
         ]
        },
        {
         "marker": {
          "color": "green"
         },
         "mode": "markers",
         "name": "Support Level",
         "type": "scatter",
         "x": [
          184
         ],
         "y": [
          832.45
         ]
        },
        {
         "marker": {
          "color": "green"
         },
         "mode": "markers",
         "name": "Support Level",
         "type": "scatter",
         "x": [
          190
         ],
         "y": [
          847.35
         ]
        },
        {
         "marker": {
          "color": "green"
         },
         "mode": "markers",
         "name": "Support Level",
         "type": "scatter",
         "x": [
          192
         ],
         "y": [
          851.05
         ]
        },
        {
         "marker": {
          "color": "green"
         },
         "mode": "markers",
         "name": "Support Level",
         "type": "scatter",
         "x": [
          195
         ],
         "y": [
          863.35
         ]
        },
        {
         "marker": {
          "color": "green"
         },
         "mode": "markers",
         "name": "Support Level",
         "type": "scatter",
         "x": [
          198
         ],
         "y": [
          864.2
         ]
        },
        {
         "marker": {
          "color": "green"
         },
         "mode": "markers",
         "name": "Support Level",
         "type": "scatter",
         "x": [
          200
         ],
         "y": [
          878.35
         ]
        },
        {
         "marker": {
          "color": "green"
         },
         "mode": "markers",
         "name": "Support Level",
         "type": "scatter",
         "x": [
          203
         ],
         "y": [
          860
         ]
        },
        {
         "marker": {
          "color": "green"
         },
         "mode": "markers",
         "name": "Support Level",
         "type": "scatter",
         "x": [
          205
         ],
         "y": [
          859.85
         ]
        },
        {
         "marker": {
          "color": "green"
         },
         "mode": "markers",
         "name": "Support Level",
         "type": "scatter",
         "x": [
          207
         ],
         "y": [
          865.3
         ]
        },
        {
         "marker": {
          "color": "green"
         },
         "mode": "markers",
         "name": "Support Level",
         "type": "scatter",
         "x": [
          216
         ],
         "y": [
          914.7
         ]
        },
        {
         "marker": {
          "color": "green"
         },
         "mode": "markers",
         "name": "Support Level",
         "type": "scatter",
         "x": [
          219
         ],
         "y": [
          916.15
         ]
        },
        {
         "marker": {
          "color": "green"
         },
         "mode": "markers",
         "name": "Support Level",
         "type": "scatter",
         "x": [
          225
         ],
         "y": [
          914.85
         ]
        },
        {
         "marker": {
          "color": "green"
         },
         "mode": "markers",
         "name": "Support Level",
         "type": "scatter",
         "x": [
          231
         ],
         "y": [
          962.1
         ]
        },
        {
         "marker": {
          "color": "green"
         },
         "mode": "markers",
         "name": "Support Level",
         "type": "scatter",
         "x": [
          233
         ],
         "y": [
          974.2
         ]
        },
        {
         "marker": {
          "color": "green"
         },
         "mode": "markers",
         "name": "Support Level",
         "type": "scatter",
         "x": [
          236
         ],
         "y": [
          977.15
         ]
        },
        {
         "marker": {
          "color": "green"
         },
         "mode": "markers",
         "name": "Support Level",
         "type": "scatter",
         "x": [
          238
         ],
         "y": [
          965.65
         ]
        },
        {
         "marker": {
          "color": "green"
         },
         "mode": "markers",
         "name": "Support Level",
         "type": "scatter",
         "x": [
          240
         ],
         "y": [
          966
         ]
        },
        {
         "marker": {
          "color": "green"
         },
         "mode": "markers",
         "name": "Support Level",
         "type": "scatter",
         "x": [
          242
         ],
         "y": [
          958.4
         ]
        },
        {
         "marker": {
          "color": "green"
         },
         "mode": "markers",
         "name": "Support Level",
         "type": "scatter",
         "x": [
          249
         ],
         "y": [
          966.5
         ]
        },
        {
         "marker": {
          "color": "green"
         },
         "mode": "markers",
         "name": "Support Level",
         "type": "scatter",
         "x": [
          254
         ],
         "y": [
          950
         ]
        },
        {
         "marker": {
          "color": "green"
         },
         "mode": "markers",
         "name": "Support Level",
         "type": "scatter",
         "x": [
          256
         ],
         "y": [
          957.05
         ]
        },
        {
         "marker": {
          "color": "green"
         },
         "mode": "markers",
         "name": "Support Level",
         "type": "scatter",
         "x": [
          258
         ],
         "y": [
          963.65
         ]
        },
        {
         "marker": {
          "color": "green"
         },
         "mode": "markers",
         "name": "Support Level",
         "type": "scatter",
         "x": [
          261
         ],
         "y": [
          971.3
         ]
        },
        {
         "marker": {
          "color": "green"
         },
         "mode": "markers",
         "name": "Support Level",
         "type": "scatter",
         "x": [
          263
         ],
         "y": [
          962.5
         ]
        },
        {
         "marker": {
          "color": "green"
         },
         "mode": "markers",
         "name": "Support Level",
         "type": "scatter",
         "x": [
          266
         ],
         "y": [
          949.95
         ]
        },
        {
         "marker": {
          "color": "green"
         },
         "mode": "markers",
         "name": "Support Level",
         "type": "scatter",
         "x": [
          270
         ],
         "y": [
          935.55
         ]
        },
        {
         "marker": {
          "color": "green"
         },
         "mode": "markers",
         "name": "Support Level",
         "type": "scatter",
         "x": [
          272
         ],
         "y": [
          947.4
         ]
        },
        {
         "marker": {
          "color": "red"
         },
         "mode": "markers",
         "name": "Resistance Level",
         "type": "scatter",
         "x": [
          1
         ],
         "y": [
          654.35
         ]
        },
        {
         "marker": {
          "color": "red"
         },
         "mode": "markers",
         "name": "Resistance Level",
         "type": "scatter",
         "x": [
          6
         ],
         "y": [
          679.85
         ]
        },
        {
         "marker": {
          "color": "red"
         },
         "mode": "markers",
         "name": "Resistance Level",
         "type": "scatter",
         "x": [
          8
         ],
         "y": [
          679.9
         ]
        },
        {
         "marker": {
          "color": "red"
         },
         "mode": "markers",
         "name": "Resistance Level",
         "type": "scatter",
         "x": [
          15
         ],
         "y": [
          730.75
         ]
        },
        {
         "marker": {
          "color": "red"
         },
         "mode": "markers",
         "name": "Resistance Level",
         "type": "scatter",
         "x": [
          19
         ],
         "y": [
          725.9
         ]
        },
        {
         "marker": {
          "color": "red"
         },
         "mode": "markers",
         "name": "Resistance Level",
         "type": "scatter",
         "x": [
          21
         ],
         "y": [
          730.8
         ]
        },
        {
         "marker": {
          "color": "red"
         },
         "mode": "markers",
         "name": "Resistance Level",
         "type": "scatter",
         "x": [
          23
         ],
         "y": [
          730.5
         ]
        },
        {
         "marker": {
          "color": "red"
         },
         "mode": "markers",
         "name": "Resistance Level",
         "type": "scatter",
         "x": [
          26
         ],
         "y": [
          745.55
         ]
        },
        {
         "marker": {
          "color": "red"
         },
         "mode": "markers",
         "name": "Resistance Level",
         "type": "scatter",
         "x": [
          31
         ],
         "y": [
          772.1
         ]
        },
        {
         "marker": {
          "color": "red"
         },
         "mode": "markers",
         "name": "Resistance Level",
         "type": "scatter",
         "x": [
          36
         ],
         "y": [
          750.15
         ]
        },
        {
         "marker": {
          "color": "red"
         },
         "mode": "markers",
         "name": "Resistance Level",
         "type": "scatter",
         "x": [
          38
         ],
         "y": [
          744.9
         ]
        },
        {
         "marker": {
          "color": "red"
         },
         "mode": "markers",
         "name": "Resistance Level",
         "type": "scatter",
         "x": [
          40
         ],
         "y": [
          751.5
         ]
        },
        {
         "marker": {
          "color": "red"
         },
         "mode": "markers",
         "name": "Resistance Level",
         "type": "scatter",
         "x": [
          43
         ],
         "y": [
          756.1
         ]
        },
        {
         "marker": {
          "color": "red"
         },
         "mode": "markers",
         "name": "Resistance Level",
         "type": "scatter",
         "x": [
          49
         ],
         "y": [
          805.55
         ]
        },
        {
         "marker": {
          "color": "red"
         },
         "mode": "markers",
         "name": "Resistance Level",
         "type": "scatter",
         "x": [
          54
         ],
         "y": [
          812.75
         ]
        },
        {
         "marker": {
          "color": "red"
         },
         "mode": "markers",
         "name": "Resistance Level",
         "type": "scatter",
         "x": [
          62
         ],
         "y": [
          733.2
         ]
        },
        {
         "marker": {
          "color": "red"
         },
         "mode": "markers",
         "name": "Resistance Level",
         "type": "scatter",
         "x": [
          69
         ],
         "y": [
          808.7
         ]
        },
        {
         "marker": {
          "color": "red"
         },
         "mode": "markers",
         "name": "Resistance Level",
         "type": "scatter",
         "x": [
          74
         ],
         "y": [
          829.85
         ]
        },
        {
         "marker": {
          "color": "red"
         },
         "mode": "markers",
         "name": "Resistance Level",
         "type": "scatter",
         "x": [
          77
         ],
         "y": [
          909.45
         ]
        },
        {
         "marker": {
          "color": "red"
         },
         "mode": "markers",
         "name": "Resistance Level",
         "type": "scatter",
         "x": [
          79
         ],
         "y": [
          915.15
         ]
        },
        {
         "marker": {
          "color": "red"
         },
         "mode": "markers",
         "name": "Resistance Level",
         "type": "scatter",
         "x": [
          81
         ],
         "y": [
          906
         ]
        },
        {
         "marker": {
          "color": "red"
         },
         "mode": "markers",
         "name": "Resistance Level",
         "type": "scatter",
         "x": [
          87
         ],
         "y": [
          873.7
         ]
        },
        {
         "marker": {
          "color": "red"
         },
         "mode": "markers",
         "name": "Resistance Level",
         "type": "scatter",
         "x": [
          91
         ],
         "y": [
          858.65
         ]
        },
        {
         "marker": {
          "color": "red"
         },
         "mode": "markers",
         "name": "Resistance Level",
         "type": "scatter",
         "x": [
          104
         ],
         "y": [
          905.15
         ]
        },
        {
         "marker": {
          "color": "red"
         },
         "mode": "markers",
         "name": "Resistance Level",
         "type": "scatter",
         "x": [
          108
         ],
         "y": [
          939.35
         ]
        },
        {
         "marker": {
          "color": "red"
         },
         "mode": "markers",
         "name": "Resistance Level",
         "type": "scatter",
         "x": [
          111
         ],
         "y": [
          944.6
         ]
        },
        {
         "marker": {
          "color": "red"
         },
         "mode": "markers",
         "name": "Resistance Level",
         "type": "scatter",
         "x": [
          116
         ],
         "y": [
          949.75
         ]
        },
        {
         "marker": {
          "color": "red"
         },
         "mode": "markers",
         "name": "Resistance Level",
         "type": "scatter",
         "x": [
          121
         ],
         "y": [
          932.2
         ]
        },
        {
         "marker": {
          "color": "red"
         },
         "mode": "markers",
         "name": "Resistance Level",
         "type": "scatter",
         "x": [
          123
         ],
         "y": [
          934.55
         ]
        },
        {
         "marker": {
          "color": "red"
         },
         "mode": "markers",
         "name": "Resistance Level",
         "type": "scatter",
         "x": [
          126
         ],
         "y": [
          962.3
         ]
        },
        {
         "marker": {
          "color": "red"
         },
         "mode": "markers",
         "name": "Resistance Level",
         "type": "scatter",
         "x": [
          130
         ],
         "y": [
          958.75
         ]
        },
        {
         "marker": {
          "color": "red"
         },
         "mode": "markers",
         "name": "Resistance Level",
         "type": "scatter",
         "x": [
          140
         ],
         "y": [
          932.7
         ]
        },
        {
         "marker": {
          "color": "red"
         },
         "mode": "markers",
         "name": "Resistance Level",
         "type": "scatter",
         "x": [
          149
         ],
         "y": [
          882.65
         ]
        },
        {
         "marker": {
          "color": "red"
         },
         "mode": "markers",
         "name": "Resistance Level",
         "type": "scatter",
         "x": [
          155
         ],
         "y": [
          870.75
         ]
        },
        {
         "marker": {
          "color": "red"
         },
         "mode": "markers",
         "name": "Resistance Level",
         "type": "scatter",
         "x": [
          164
         ],
         "y": [
          854.35
         ]
        },
        {
         "marker": {
          "color": "red"
         },
         "mode": "markers",
         "name": "Resistance Level",
         "type": "scatter",
         "x": [
          166
         ],
         "y": [
          865.15
         ]
        },
        {
         "marker": {
          "color": "red"
         },
         "mode": "markers",
         "name": "Resistance Level",
         "type": "scatter",
         "x": [
          171
         ],
         "y": [
          867.8
         ]
        },
        {
         "marker": {
          "color": "red"
         },
         "mode": "markers",
         "name": "Resistance Level",
         "type": "scatter",
         "x": [
          174
         ],
         "y": [
          832.85
         ]
        },
        {
         "marker": {
          "color": "red"
         },
         "mode": "markers",
         "name": "Resistance Level",
         "type": "scatter",
         "x": [
          179
         ],
         "y": [
          855.6
         ]
        },
        {
         "marker": {
          "color": "red"
         },
         "mode": "markers",
         "name": "Resistance Level",
         "type": "scatter",
         "x": [
          187
         ],
         "y": [
          864.6
         ]
        },
        {
         "marker": {
          "color": "red"
         },
         "mode": "markers",
         "name": "Resistance Level",
         "type": "scatter",
         "x": [
          191
         ],
         "y": [
          853.3
         ]
        },
        {
         "marker": {
          "color": "red"
         },
         "mode": "markers",
         "name": "Resistance Level",
         "type": "scatter",
         "x": [
          194
         ],
         "y": [
          864.55
         ]
        },
        {
         "marker": {
          "color": "red"
         },
         "mode": "markers",
         "name": "Resistance Level",
         "type": "scatter",
         "x": [
          196
         ],
         "y": [
          873.4
         ]
        },
        {
         "marker": {
          "color": "red"
         },
         "mode": "markers",
         "name": "Resistance Level",
         "type": "scatter",
         "x": [
          199
         ],
         "y": [
          882.3
         ]
        },
        {
         "marker": {
          "color": "red"
         },
         "mode": "markers",
         "name": "Resistance Level",
         "type": "scatter",
         "x": [
          201
         ],
         "y": [
          887.65
         ]
        },
        {
         "marker": {
          "color": "red"
         },
         "mode": "markers",
         "name": "Resistance Level",
         "type": "scatter",
         "x": [
          204
         ],
         "y": [
          870.65
         ]
        },
        {
         "marker": {
          "color": "red"
         },
         "mode": "markers",
         "name": "Resistance Level",
         "type": "scatter",
         "x": [
          206
         ],
         "y": [
          865.95
         ]
        },
        {
         "marker": {
          "color": "red"
         },
         "mode": "markers",
         "name": "Resistance Level",
         "type": "scatter",
         "x": [
          214
         ],
         "y": [
          917.8
         ]
        },
        {
         "marker": {
          "color": "red"
         },
         "mode": "markers",
         "name": "Resistance Level",
         "type": "scatter",
         "x": [
          217
         ],
         "y": [
          924.05
         ]
        },
        {
         "marker": {
          "color": "red"
         },
         "mode": "markers",
         "name": "Resistance Level",
         "type": "scatter",
         "x": [
          224
         ],
         "y": [
          937.45
         ]
        },
        {
         "marker": {
          "color": "red"
         },
         "mode": "markers",
         "name": "Resistance Level",
         "type": "scatter",
         "x": [
          230
         ],
         "y": [
          976.75
         ]
        },
        {
         "marker": {
          "color": "red"
         },
         "mode": "markers",
         "name": "Resistance Level",
         "type": "scatter",
         "x": [
          232
         ],
         "y": [
          974.75
         ]
        },
        {
         "marker": {
          "color": "red"
         },
         "mode": "markers",
         "name": "Resistance Level",
         "type": "scatter",
         "x": [
          234
         ],
         "y": [
          985.85
         ]
        },
        {
         "marker": {
          "color": "red"
         },
         "mode": "markers",
         "name": "Resistance Level",
         "type": "scatter",
         "x": [
          237
         ],
         "y": [
          981.55
         ]
        },
        {
         "marker": {
          "color": "red"
         },
         "mode": "markers",
         "name": "Resistance Level",
         "type": "scatter",
         "x": [
          239
         ],
         "y": [
          974.85
         ]
        },
        {
         "marker": {
          "color": "red"
         },
         "mode": "markers",
         "name": "Resistance Level",
         "type": "scatter",
         "x": [
          241
         ],
         "y": [
          966.6
         ]
        },
        {
         "marker": {
          "color": "red"
         },
         "mode": "markers",
         "name": "Resistance Level",
         "type": "scatter",
         "x": [
          246
         ],
         "y": [
          987.45
         ]
        },
        {
         "marker": {
          "color": "red"
         },
         "mode": "markers",
         "name": "Resistance Level",
         "type": "scatter",
         "x": [
          250
         ],
         "y": [
          980.95
         ]
        },
        {
         "marker": {
          "color": "red"
         },
         "mode": "markers",
         "name": "Resistance Level",
         "type": "scatter",
         "x": [
          255
         ],
         "y": [
          960.15
         ]
        },
        {
         "marker": {
          "color": "red"
         },
         "mode": "markers",
         "name": "Resistance Level",
         "type": "scatter",
         "x": [
          257
         ],
         "y": [
          964.85
         ]
        },
        {
         "marker": {
          "color": "red"
         },
         "mode": "markers",
         "name": "Resistance Level",
         "type": "scatter",
         "x": [
          260
         ],
         "y": [
          977.9
         ]
        },
        {
         "marker": {
          "color": "red"
         },
         "mode": "markers",
         "name": "Resistance Level",
         "type": "scatter",
         "x": [
          262
         ],
         "y": [
          971.5
         ]
        },
        {
         "marker": {
          "color": "red"
         },
         "mode": "markers",
         "name": "Resistance Level",
         "type": "scatter",
         "x": [
          264
         ],
         "y": [
          976.8
         ]
        },
        {
         "marker": {
          "color": "red"
         },
         "mode": "markers",
         "name": "Resistance Level",
         "type": "scatter",
         "x": [
          268
         ],
         "y": [
          959.9
         ]
        },
        {
         "marker": {
          "color": "red"
         },
         "mode": "markers",
         "name": "Resistance Level",
         "type": "scatter",
         "x": [
          271
         ],
         "y": [
          952.25
         ]
        },
        {
         "marker": {
          "color": "red"
         },
         "mode": "markers",
         "name": "Resistance Level",
         "type": "scatter",
         "x": [
          273
         ],
         "y": [
          952.9
         ]
        }
       ],
       "layout": {
        "showlegend": true,
        "template": {
         "data": {
          "bar": [
           {
            "error_x": {
             "color": "#2a3f5f"
            },
            "error_y": {
             "color": "#2a3f5f"
            },
            "marker": {
             "line": {
              "color": "#E5ECF6",
              "width": 0.5
             },
             "pattern": {
              "fillmode": "overlay",
              "size": 10,
              "solidity": 0.2
             }
            },
            "type": "bar"
           }
          ],
          "barpolar": [
           {
            "marker": {
             "line": {
              "color": "#E5ECF6",
              "width": 0.5
             },
             "pattern": {
              "fillmode": "overlay",
              "size": 10,
              "solidity": 0.2
             }
            },
            "type": "barpolar"
           }
          ],
          "carpet": [
           {
            "aaxis": {
             "endlinecolor": "#2a3f5f",
             "gridcolor": "white",
             "linecolor": "white",
             "minorgridcolor": "white",
             "startlinecolor": "#2a3f5f"
            },
            "baxis": {
             "endlinecolor": "#2a3f5f",
             "gridcolor": "white",
             "linecolor": "white",
             "minorgridcolor": "white",
             "startlinecolor": "#2a3f5f"
            },
            "type": "carpet"
           }
          ],
          "choropleth": [
           {
            "colorbar": {
             "outlinewidth": 0,
             "ticks": ""
            },
            "type": "choropleth"
           }
          ],
          "contour": [
           {
            "colorbar": {
             "outlinewidth": 0,
             "ticks": ""
            },
            "colorscale": [
             [
              0,
              "#0d0887"
             ],
             [
              0.1111111111111111,
              "#46039f"
             ],
             [
              0.2222222222222222,
              "#7201a8"
             ],
             [
              0.3333333333333333,
              "#9c179e"
             ],
             [
              0.4444444444444444,
              "#bd3786"
             ],
             [
              0.5555555555555556,
              "#d8576b"
             ],
             [
              0.6666666666666666,
              "#ed7953"
             ],
             [
              0.7777777777777778,
              "#fb9f3a"
             ],
             [
              0.8888888888888888,
              "#fdca26"
             ],
             [
              1,
              "#f0f921"
             ]
            ],
            "type": "contour"
           }
          ],
          "contourcarpet": [
           {
            "colorbar": {
             "outlinewidth": 0,
             "ticks": ""
            },
            "type": "contourcarpet"
           }
          ],
          "heatmap": [
           {
            "colorbar": {
             "outlinewidth": 0,
             "ticks": ""
            },
            "colorscale": [
             [
              0,
              "#0d0887"
             ],
             [
              0.1111111111111111,
              "#46039f"
             ],
             [
              0.2222222222222222,
              "#7201a8"
             ],
             [
              0.3333333333333333,
              "#9c179e"
             ],
             [
              0.4444444444444444,
              "#bd3786"
             ],
             [
              0.5555555555555556,
              "#d8576b"
             ],
             [
              0.6666666666666666,
              "#ed7953"
             ],
             [
              0.7777777777777778,
              "#fb9f3a"
             ],
             [
              0.8888888888888888,
              "#fdca26"
             ],
             [
              1,
              "#f0f921"
             ]
            ],
            "type": "heatmap"
           }
          ],
          "heatmapgl": [
           {
            "colorbar": {
             "outlinewidth": 0,
             "ticks": ""
            },
            "colorscale": [
             [
              0,
              "#0d0887"
             ],
             [
              0.1111111111111111,
              "#46039f"
             ],
             [
              0.2222222222222222,
              "#7201a8"
             ],
             [
              0.3333333333333333,
              "#9c179e"
             ],
             [
              0.4444444444444444,
              "#bd3786"
             ],
             [
              0.5555555555555556,
              "#d8576b"
             ],
             [
              0.6666666666666666,
              "#ed7953"
             ],
             [
              0.7777777777777778,
              "#fb9f3a"
             ],
             [
              0.8888888888888888,
              "#fdca26"
             ],
             [
              1,
              "#f0f921"
             ]
            ],
            "type": "heatmapgl"
           }
          ],
          "histogram": [
           {
            "marker": {
             "pattern": {
              "fillmode": "overlay",
              "size": 10,
              "solidity": 0.2
             }
            },
            "type": "histogram"
           }
          ],
          "histogram2d": [
           {
            "colorbar": {
             "outlinewidth": 0,
             "ticks": ""
            },
            "colorscale": [
             [
              0,
              "#0d0887"
             ],
             [
              0.1111111111111111,
              "#46039f"
             ],
             [
              0.2222222222222222,
              "#7201a8"
             ],
             [
              0.3333333333333333,
              "#9c179e"
             ],
             [
              0.4444444444444444,
              "#bd3786"
             ],
             [
              0.5555555555555556,
              "#d8576b"
             ],
             [
              0.6666666666666666,
              "#ed7953"
             ],
             [
              0.7777777777777778,
              "#fb9f3a"
             ],
             [
              0.8888888888888888,
              "#fdca26"
             ],
             [
              1,
              "#f0f921"
             ]
            ],
            "type": "histogram2d"
           }
          ],
          "histogram2dcontour": [
           {
            "colorbar": {
             "outlinewidth": 0,
             "ticks": ""
            },
            "colorscale": [
             [
              0,
              "#0d0887"
             ],
             [
              0.1111111111111111,
              "#46039f"
             ],
             [
              0.2222222222222222,
              "#7201a8"
             ],
             [
              0.3333333333333333,
              "#9c179e"
             ],
             [
              0.4444444444444444,
              "#bd3786"
             ],
             [
              0.5555555555555556,
              "#d8576b"
             ],
             [
              0.6666666666666666,
              "#ed7953"
             ],
             [
              0.7777777777777778,
              "#fb9f3a"
             ],
             [
              0.8888888888888888,
              "#fdca26"
             ],
             [
              1,
              "#f0f921"
             ]
            ],
            "type": "histogram2dcontour"
           }
          ],
          "mesh3d": [
           {
            "colorbar": {
             "outlinewidth": 0,
             "ticks": ""
            },
            "type": "mesh3d"
           }
          ],
          "parcoords": [
           {
            "line": {
             "colorbar": {
              "outlinewidth": 0,
              "ticks": ""
             }
            },
            "type": "parcoords"
           }
          ],
          "pie": [
           {
            "automargin": true,
            "type": "pie"
           }
          ],
          "scatter": [
           {
            "fillpattern": {
             "fillmode": "overlay",
             "size": 10,
             "solidity": 0.2
            },
            "type": "scatter"
           }
          ],
          "scatter3d": [
           {
            "line": {
             "colorbar": {
              "outlinewidth": 0,
              "ticks": ""
             }
            },
            "marker": {
             "colorbar": {
              "outlinewidth": 0,
              "ticks": ""
             }
            },
            "type": "scatter3d"
           }
          ],
          "scattercarpet": [
           {
            "marker": {
             "colorbar": {
              "outlinewidth": 0,
              "ticks": ""
             }
            },
            "type": "scattercarpet"
           }
          ],
          "scattergeo": [
           {
            "marker": {
             "colorbar": {
              "outlinewidth": 0,
              "ticks": ""
             }
            },
            "type": "scattergeo"
           }
          ],
          "scattergl": [
           {
            "marker": {
             "colorbar": {
              "outlinewidth": 0,
              "ticks": ""
             }
            },
            "type": "scattergl"
           }
          ],
          "scattermapbox": [
           {
            "marker": {
             "colorbar": {
              "outlinewidth": 0,
              "ticks": ""
             }
            },
            "type": "scattermapbox"
           }
          ],
          "scatterpolar": [
           {
            "marker": {
             "colorbar": {
              "outlinewidth": 0,
              "ticks": ""
             }
            },
            "type": "scatterpolar"
           }
          ],
          "scatterpolargl": [
           {
            "marker": {
             "colorbar": {
              "outlinewidth": 0,
              "ticks": ""
             }
            },
            "type": "scatterpolargl"
           }
          ],
          "scatterternary": [
           {
            "marker": {
             "colorbar": {
              "outlinewidth": 0,
              "ticks": ""
             }
            },
            "type": "scatterternary"
           }
          ],
          "surface": [
           {
            "colorbar": {
             "outlinewidth": 0,
             "ticks": ""
            },
            "colorscale": [
             [
              0,
              "#0d0887"
             ],
             [
              0.1111111111111111,
              "#46039f"
             ],
             [
              0.2222222222222222,
              "#7201a8"
             ],
             [
              0.3333333333333333,
              "#9c179e"
             ],
             [
              0.4444444444444444,
              "#bd3786"
             ],
             [
              0.5555555555555556,
              "#d8576b"
             ],
             [
              0.6666666666666666,
              "#ed7953"
             ],
             [
              0.7777777777777778,
              "#fb9f3a"
             ],
             [
              0.8888888888888888,
              "#fdca26"
             ],
             [
              1,
              "#f0f921"
             ]
            ],
            "type": "surface"
           }
          ],
          "table": [
           {
            "cells": {
             "fill": {
              "color": "#EBF0F8"
             },
             "line": {
              "color": "white"
             }
            },
            "header": {
             "fill": {
              "color": "#C8D4E3"
             },
             "line": {
              "color": "white"
             }
            },
            "type": "table"
           }
          ]
         },
         "layout": {
          "annotationdefaults": {
           "arrowcolor": "#2a3f5f",
           "arrowhead": 0,
           "arrowwidth": 1
          },
          "autotypenumbers": "strict",
          "coloraxis": {
           "colorbar": {
            "outlinewidth": 0,
            "ticks": ""
           }
          },
          "colorscale": {
           "diverging": [
            [
             0,
             "#8e0152"
            ],
            [
             0.1,
             "#c51b7d"
            ],
            [
             0.2,
             "#de77ae"
            ],
            [
             0.3,
             "#f1b6da"
            ],
            [
             0.4,
             "#fde0ef"
            ],
            [
             0.5,
             "#f7f7f7"
            ],
            [
             0.6,
             "#e6f5d0"
            ],
            [
             0.7,
             "#b8e186"
            ],
            [
             0.8,
             "#7fbc41"
            ],
            [
             0.9,
             "#4d9221"
            ],
            [
             1,
             "#276419"
            ]
           ],
           "sequential": [
            [
             0,
             "#0d0887"
            ],
            [
             0.1111111111111111,
             "#46039f"
            ],
            [
             0.2222222222222222,
             "#7201a8"
            ],
            [
             0.3333333333333333,
             "#9c179e"
            ],
            [
             0.4444444444444444,
             "#bd3786"
            ],
            [
             0.5555555555555556,
             "#d8576b"
            ],
            [
             0.6666666666666666,
             "#ed7953"
            ],
            [
             0.7777777777777778,
             "#fb9f3a"
            ],
            [
             0.8888888888888888,
             "#fdca26"
            ],
            [
             1,
             "#f0f921"
            ]
           ],
           "sequentialminus": [
            [
             0,
             "#0d0887"
            ],
            [
             0.1111111111111111,
             "#46039f"
            ],
            [
             0.2222222222222222,
             "#7201a8"
            ],
            [
             0.3333333333333333,
             "#9c179e"
            ],
            [
             0.4444444444444444,
             "#bd3786"
            ],
            [
             0.5555555555555556,
             "#d8576b"
            ],
            [
             0.6666666666666666,
             "#ed7953"
            ],
            [
             0.7777777777777778,
             "#fb9f3a"
            ],
            [
             0.8888888888888888,
             "#fdca26"
            ],
            [
             1,
             "#f0f921"
            ]
           ]
          },
          "colorway": [
           "#636efa",
           "#EF553B",
           "#00cc96",
           "#ab63fa",
           "#FFA15A",
           "#19d3f3",
           "#FF6692",
           "#B6E880",
           "#FF97FF",
           "#FECB52"
          ],
          "font": {
           "color": "#2a3f5f"
          },
          "geo": {
           "bgcolor": "white",
           "lakecolor": "white",
           "landcolor": "#E5ECF6",
           "showlakes": true,
           "showland": true,
           "subunitcolor": "white"
          },
          "hoverlabel": {
           "align": "left"
          },
          "hovermode": "closest",
          "mapbox": {
           "style": "light"
          },
          "paper_bgcolor": "white",
          "plot_bgcolor": "#E5ECF6",
          "polar": {
           "angularaxis": {
            "gridcolor": "white",
            "linecolor": "white",
            "ticks": ""
           },
           "bgcolor": "#E5ECF6",
           "radialaxis": {
            "gridcolor": "white",
            "linecolor": "white",
            "ticks": ""
           }
          },
          "scene": {
           "xaxis": {
            "backgroundcolor": "#E5ECF6",
            "gridcolor": "white",
            "gridwidth": 2,
            "linecolor": "white",
            "showbackground": true,
            "ticks": "",
            "zerolinecolor": "white"
           },
           "yaxis": {
            "backgroundcolor": "#E5ECF6",
            "gridcolor": "white",
            "gridwidth": 2,
            "linecolor": "white",
            "showbackground": true,
            "ticks": "",
            "zerolinecolor": "white"
           },
           "zaxis": {
            "backgroundcolor": "#E5ECF6",
            "gridcolor": "white",
            "gridwidth": 2,
            "linecolor": "white",
            "showbackground": true,
            "ticks": "",
            "zerolinecolor": "white"
           }
          },
          "shapedefaults": {
           "line": {
            "color": "#2a3f5f"
           }
          },
          "ternary": {
           "aaxis": {
            "gridcolor": "white",
            "linecolor": "white",
            "ticks": ""
           },
           "baxis": {
            "gridcolor": "white",
            "linecolor": "white",
            "ticks": ""
           },
           "bgcolor": "#E5ECF6",
           "caxis": {
            "gridcolor": "white",
            "linecolor": "white",
            "ticks": ""
           }
          },
          "title": {
           "x": 0.05
          },
          "xaxis": {
           "automargin": true,
           "gridcolor": "white",
           "linecolor": "white",
           "ticks": "",
           "title": {
            "standoff": 15
           },
           "zerolinecolor": "white",
           "zerolinewidth": 2
          },
          "yaxis": {
           "automargin": true,
           "gridcolor": "white",
           "linecolor": "white",
           "ticks": "",
           "title": {
            "standoff": 15
           },
           "zerolinecolor": "white",
           "zerolinewidth": 2
          }
         }
        },
        "title": {
         "text": "Support and Resistance Levels"
        },
        "xaxis": {
         "title": {
          "text": "Time"
         }
        },
        "yaxis": {
         "title": {
          "text": "Price"
         }
        }
       }
      }
     },
     "metadata": {},
     "output_type": "display_data"
    }
   ],
   "source": [
    "import plotly.graph_objects as go\n",
    "\n",
    "fig = go.Figure()\n",
    "\n",
    "# Create the price data trace\n",
    "price_trace = go.Scatter(\n",
    "    x=list(range(len(price_data))),\n",
    "    y=price_data,\n",
    "    mode='lines+markers',\n",
    "    line=dict(color='blue'),\n",
    "    marker=dict(color='blue'),\n",
    "    name='Price'\n",
    ")\n",
    "fig.add_trace(price_trace)\n",
    "\n",
    "# Create support levels traces\n",
    "for level in support_levels:\n",
    "    support_trace = go.Scatter(\n",
    "        x=[level[0]],\n",
    "        y=[level[1]],\n",
    "        mode='markers',\n",
    "        marker=dict(color='green'),\n",
    "        name='Support Level'\n",
    "    )\n",
    "    fig.add_trace(support_trace)\n",
    "\n",
    "# Create resistance levels traces\n",
    "for level in resistance_levels:\n",
    "    resistance_trace = go.Scatter(\n",
    "        x=[level[0]],\n",
    "        y=[level[1]],\n",
    "        mode='markers',\n",
    "        marker=dict(color='red'),\n",
    "        name='Resistance Level'\n",
    "    )\n",
    "    fig.add_trace(resistance_trace)\n",
    "\n",
    "fig.update_layout(\n",
    "    title='Support and Resistance Levels',\n",
    "    xaxis_title='Time',\n",
    "    yaxis_title='Price',\n",
    "    showlegend=True,\n",
    "    # grid=dict(visible=True),\n",
    ")\n",
    "\n",
    "fig.show()\n"
   ]
  },
  {
   "cell_type": "code",
   "execution_count": 109,
   "metadata": {},
   "outputs": [
    {
     "name": "stdout",
     "output_type": "stream",
     "text": [
      "Swing Highs and Lows: []\n"
     ]
    },
    {
     "data": {
      "image/png": "[encoded data removed]",
      "text/plain": [
       "<Figure size 2000x1000 with 1 Axes>"
      ]
     },
     "metadata": {},
     "output_type": "display_data"
    }
   ],
   "source": [
    "import numpy as np\n",
    "import matplotlib.pyplot as plt\n",
    "\n",
    "# Sample price data (replace this with your own price data)\n",
    "price_data = df_day.query('symbol == \"AXISBANK\"')['Close'].values\n",
    "def find_swing_highs_lows(data, sensitivity=0.03):\n",
    "    swing_highs = []\n",
    "    swing_lows = []\n",
    "\n",
    "    for i in range(1, len(data) - 1):\n",
    "        if data[i - 1] < data[i] > data[i + 1]:  # Swing High\n",
    "            swing_highs.append((i, data[i]))\n",
    "\n",
    "        if data[i - 1] > data[i] < data[i + 1]:  # Swing Low\n",
    "            swing_lows.append((i, data[i]))\n",
    "\n",
    "    # Filter out levels that are too close to each other\n",
    "    filtered_swings = []\n",
    "    for high in swing_highs:\n",
    "        if all(abs(high[0] - low[0]) > sensitivity * len(data) for low in swing_lows):\n",
    "            filtered_swings.append(high)\n",
    "\n",
    "    for low in swing_lows:\n",
    "        if all(abs(low[0] - high[0]) > sensitivity * len(data) for high in swing_highs):\n",
    "            filtered_swings.append(low)\n",
    "\n",
    "    return filtered_swings\n",
    "\n",
    "swing_levels = find_swing_highs_lows(price_data)\n",
    "\n",
    "print(\"Swing Highs and Lows:\", swing_levels)\n",
    "\n",
    "# Plot the price data and identified swing levels\n",
    "plt.figure(figsize=(20, 10))\n",
    "plt.plot(price_data, marker='o', linestyle='-', color='b', label='Price')\n",
    "for level in swing_levels:\n",
    "    plt.plot(level[0], level[1], marker='o', color='g', label='Swing Level')\n",
    "plt.xlabel('Time')\n",
    "plt.ylabel('Price')\n",
    "plt.title('Swing Highs and Lows')\n",
    "# plt.legend()\n",
    "plt.grid()\n",
    "plt.show()\n"
   ]
  },
  {
   "cell_type": "code",
   "execution_count": null,
   "metadata": {},
   "outputs": [],
   "source": []
  }
 ],
 "metadata": {
  "kernelspec": {
   "display_name": "py37",
   "language": "python",
   "name": "python3"
  },
  "language_info": {
   "codemirror_mode": {
    "name": "ipython",
    "version": 3
   },
   "file_extension": ".py",
   "mimetype": "text/x-python",
   "name": "python",
   "nbconvert_exporter": "python",
   "pygments_lexer": "ipython3",
   "version": "3.7.15"
  },
  "orig_nbformat": 4
 },
 "nbformat": 4,
 "nbformat_minor": 2
}
