{
 "cells": [
  {
   "cell_type": "code",
   "execution_count": 1,
   "metadata": {},
   "outputs": [],
   "source": [
    "import numpy as np\n",
    "import pandas as pd\n",
    "from kite_trade import *\n"
   ]
  },
  {
   "cell_type": "code",
   "execution_count": 4,
   "metadata": {},
   "outputs": [
    {
     "name": "stdout",
     "output_type": "stream",
     "text": [
      "29 3\n"
     ]
    }
   ],
   "source": [
    "now = datetime.datetime.now()\n",
    "print(now.minute,now.second)"
   ]
  },
  {
   "cell_type": "code",
   "execution_count": 11,
   "metadata": {},
   "outputs": [],
   "source": [
    "import pywhatkit\n",
    "import datetime\n",
    "import time\n",
    "\n",
    "def alert_msg(stock,price,quantity):\n",
    "    now = datetime.datetime.now()\n",
    "    print(now.minute)\n",
    "    pywhatkit.sendwhatmsg('+918439228490', f'{stock} {price} {quantity}', now.hour,now.minute+1,10,True,2)"
   ]
  },
  {
   "cell_type": "code",
   "execution_count": 12,
   "metadata": {},
   "outputs": [
    {
     "name": "stdout",
     "output_type": "stream",
     "text": [
      "32\n",
      "In 49 Seconds WhatsApp will open and after 10 Seconds Message will be Delivered!\n"
     ]
    }
   ],
   "source": [
    "alert_msg('ABB',10,10)"
   ]
  },
  {
   "cell_type": "code",
   "execution_count": 3,
   "metadata": {},
   "outputs": [
    {
     "name": "stdout",
     "output_type": "stream",
     "text": [
      "In 13 Seconds WhatsApp will open and after 15 Seconds Message will be Delivered!\n",
      "In 32 Seconds WhatsApp will open and after 15 Seconds Message will be Delivered!\n"
     ]
    }
   ],
   "source": [
    "while(True):\n",
    "    last_price  =kite.ltp(\"NSE:NIFTY BANK\")['NSE:NIFTY BANK']['last_price'] \n",
    "    if last_price <= 42300:\n",
    "        now = datetime.datetime.now()\n",
    "        pywhatkit.sendwhatmsg('+918439228490', f'price below day low {last_price}', now.hour,now.minute,15,True,2)\n",
    "    time.sleep(10)"
   ]
  },
  {
   "cell_type": "code",
   "execution_count": null,
   "metadata": {},
   "outputs": [],
   "source": []
  }
 ],
 "metadata": {
  "kernelspec": {
   "display_name": "py37",
   "language": "python",
   "name": "python3"
  },
  "language_info": {
   "codemirror_mode": {
    "name": "ipython",
    "version": 3
   },
   "file_extension": ".py",
   "mimetype": "text/x-python",
   "name": "python",
   "nbconvert_exporter": "python",
   "pygments_lexer": "ipython3",
   "version": "3.7.15"
  },
  "orig_nbformat": 4,
  "vscode": {
   "interpreter": {
    "hash": "97d50b693ffbaf6eb8807b14742d2feb502574f7e9d5678d8f7eb867bb49ea50"
   }
  }
 },
 "nbformat": 4,
 "nbformat_minor": 2
}
