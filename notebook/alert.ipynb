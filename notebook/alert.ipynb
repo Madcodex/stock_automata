{
 "cells": [
  {
   "cell_type": "code",
   "execution_count": 1,
   "metadata": {},
   "outputs": [],
   "source": [
    "import numpy as np\n",
    "import pandas as pd\n",
    "from kite_trade import *\n",
    "import pywhatkit\n",
    "\n",
    "import datetime\n",
    "import time"
   ]
  },
  {
   "cell_type": "code",
   "execution_count": 2,
   "metadata": {},
   "outputs": [],
   "source": [
    "enctoken = \"xkgpBYvRSbNnKZCurQICbzKDuNEVay7vpidjrEhIre+T6O5yPAy1RCvBRrbD03wPK3YU7g82Tv6GMnZ+5gHm/22xMj3GLHkzIQpHDUSAt/HlfnImc7ArsA==\"\n",
    "kite = KiteApp(enctoken=enctoken)"
   ]
  },
  {
   "cell_type": "code",
   "execution_count": 3,
   "metadata": {},
   "outputs": [
    {
     "name": "stdout",
     "output_type": "stream",
     "text": [
      "In 13 Seconds WhatsApp will open and after 15 Seconds Message will be Delivered!\n",
      "In 32 Seconds WhatsApp will open and after 15 Seconds Message will be Delivered!\n"
     ]
    }
   ],
   "source": [
    "while(True):\n",
    "    last_price  =kite.ltp(\"NSE:NIFTY BANK\")['NSE:NIFTY BANK']['last_price'] \n",
    "    if last_price <= 42300:\n",
    "        now = datetime.datetime.now()\n",
    "        pywhatkit.sendwhatmsg('+918439228490', f'price below day low {last_price}', now.hour,now.minute+1,15,True,2)\n",
    "    time.sleep(10)"
   ]
  },
  {
   "cell_type": "code",
   "execution_count": null,
   "metadata": {},
   "outputs": [],
   "source": []
  }
 ],
 "metadata": {
  "kernelspec": {
   "display_name": "py37",
   "language": "python",
   "name": "python3"
  },
  "language_info": {
   "codemirror_mode": {
    "name": "ipython",
    "version": 3
   },
   "file_extension": ".py",
   "mimetype": "text/x-python",
   "name": "python",
   "nbconvert_exporter": "python",
   "pygments_lexer": "ipython3",
   "version": "3.7.15 (default, Nov 24 2022, 18:44:54) [MSC v.1916 64 bit (AMD64)]"
  },
  "orig_nbformat": 4,
  "vscode": {
   "interpreter": {
    "hash": "97d50b693ffbaf6eb8807b14742d2feb502574f7e9d5678d8f7eb867bb49ea50"
   }
  }
 },
 "nbformat": 4,
 "nbformat_minor": 2
}
