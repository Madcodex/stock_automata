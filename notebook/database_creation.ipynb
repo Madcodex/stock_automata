{
 "cells": [
  {
   "cell_type": "code",
   "execution_count": 62,
   "metadata": {},
   "outputs": [],
   "source": [
    "import pandas as pd\n",
    "import numpy as np\n",
    "from kite_trade import *\n",
    "from enctoken import get_kite\n",
    "kite = get_kite()\n",
    "import warnings\n",
    "warnings.filterwarnings(action = 'ignore')\n",
    "import time\n",
    "import sqlite3\n",
    "import sql\n",
    "from tqdm import tqdm\n",
    "import util_fun as uf"
   ]
  },
  {
   "cell_type": "code",
   "execution_count": 13,
   "metadata": {},
   "outputs": [],
   "source": [
    "# 1. create database for data\n",
    "# \t1. table for nifty 50 stocks:\n",
    "# \t\tday, 15min, 5min, 1 min\n",
    "# \t2. table for  nifty 500 stocks\n",
    "# \t3. expiry table\n",
    "# \t4.index table\n",
    "conn = sqlite3.connect('../data/stocks.db')\n"
   ]
  },
  {
   "cell_type": "code",
   "execution_count": 58,
   "metadata": {},
   "outputs": [],
   "source": [
    "nifty_50 = pd.read_csv('../data/ind_nifty50list.csv')\n",
    "inst = pd.DataFrame(kite.instruments(\"NSE\"))\n",
    "inst.rename(columns={'tradingsymbol':'Symbol'},inplace=True)\n",
    "inst_cols = ['Symbol','instrument_token','last_price','lot_size','strike','instrument_type']\n",
    "inst = inst[inst_cols]\n",
    "inst = nifty_50.merge(inst, how = 'inner', on  = 'Symbol')"
   ]
  },
  {
   "cell_type": "code",
   "execution_count": 61,
   "metadata": {},
   "outputs": [],
   "source": [
    "timerframe_list = [\n",
    "\"day\",\n",
    "\"minute\",\n",
    " \"5minute\",]\n",
    "\n",
    "i=0\n",
    "error_list = []\n",
    "# instument in nse\n",
    "inst = pd.DataFrame(kite.instruments(\"NSE\"))\n",
    "inst_filter = inst.query('(name != \"\")').copy()\n",
    "inst_filter.rename(columns = {\"tradingsymbol\":'Symbol'},inplace = True)\n",
    "nifty_500 = pd.read_csv('../data/ind_nifty500list.csv')\n",
    "nifty_500 = nifty_500.merge(inst_filter, on = 'Symbol')\n",
    "inst_dict = dict(zip(nifty_500.Symbol, nifty_500.instrument_token))\n",
    "\n",
    "start_dt = '2018-01-01'\n",
    "end_dt = '2023-02-27'\n",
    "time_frame = 'day'\n",
    "for symbol, instument in tqdm(inst_dict.items()):\n",
    "    if i :\n",
    "        print(symbol, instument)\n",
    "        try:\n",
    "            df_day = uf.get_data_parllel(kite, instument, time_frame , start_dt,end_dt)\n",
    "            directory = f'../data/historical/{time_frame}/{symbol}'\n",
    "            if not os.path.exists(directory):\n",
    "                os.makedirs(directory)\n",
    "            df_day.to_parquet(f'{directory}/part0.parquet')\n",
    "        except:\n",
    "            print(instument)\n",
    "            error_list.append(instument)\n",
    "\n",
    "    i += 1\n",
    "print(error_list)"
   ]
  },
  {
   "cell_type": "code",
   "execution_count": null,
   "metadata": {},
   "outputs": [],
   "source": [
    "I will read the dataframe and append the data in table \n"
   ]
  },
  {
   "cell_type": "code",
   "execution_count": 14,
   "metadata": {},
   "outputs": [
    {
     "name": "stdout",
     "output_type": "stream",
     "text": [
      "Table is Ready\n"
     ]
    }
   ],
   "source": [
    "cursor_obj = conn.cursor()\n",
    " \n",
    "# Drop the GEEK table if already exists.\n",
    "cursor_obj.execute(\"DROP TABLE IF EXISTS GEEK\")\n",
    " \n",
    "# Creating table\n",
    "table = \"\"\" CREATE TABLE GEEK (\n",
    "            Email VARCHAR(255) NOT NULL,\n",
    "            First_Name CHAR(25) NOT NULL,\n",
    "            Last_Name CHAR(25),\n",
    "            Score INT\n",
    "        ); \"\"\"\n",
    " \n",
    "cursor_obj.execute(table)\n",
    " \n",
    "print(\"Table is Ready\")\n",
    " \n",
    "# Close the connection\n",
    "# conn.close()"
   ]
  },
  {
   "cell_type": "code",
   "execution_count": 15,
   "metadata": {},
   "outputs": [
    {
     "data": {
      "text/plain": [
       "['GEEK']"
      ]
     },
     "execution_count": 15,
     "metadata": {},
     "output_type": "execute_result"
    }
   ],
   "source": [
    "sql.get_tablenames_fromsql(conn)"
   ]
  },
  {
   "cell_type": "code",
   "execution_count": null,
   "metadata": {},
   "outputs": [],
   "source": []
  }
 ],
 "metadata": {
  "kernelspec": {
   "display_name": "py37",
   "language": "python",
   "name": "python3"
  },
  "language_info": {
   "codemirror_mode": {
    "name": "ipython",
    "version": 3
   },
   "file_extension": ".py",
   "mimetype": "text/x-python",
   "name": "python",
   "nbconvert_exporter": "python",
   "pygments_lexer": "ipython3",
   "version": "3.7.15"
  },
  "orig_nbformat": 4
 },
 "nbformat": 4,
 "nbformat_minor": 2
}
