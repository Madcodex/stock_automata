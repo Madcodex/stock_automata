{
 "cells": [
  {
   "cell_type": "code",
   "execution_count": null,
   "metadata": {},
   "outputs": [],
   "source": [
    "# step 1-> identify oi cross over in trending OI\n",
    "\n",
    "# first i need oi data of all strikes\n",
    "# then i will select the trending oi \n",
    "# then I will do the sum and check the cross over happening or not \n",
    "\n",
    "# Always there are two things \n",
    "# 1. check on historical data \n",
    "#     for this i need data and i will loop over each date and check the condition \n",
    "#         if condition meet print the datetime\n",
    "# 2. check in live market \n",
    "#     fetch the live data and do the same computation \n"
   ]
  },
  {
   "cell_type": "code",
   "execution_count": 1,
   "metadata": {},
   "outputs": [],
   "source": [
    "%load_ext autoreload\n",
    "%autoreload 2\n",
    "import pandas as pd\n",
    "import numpy as np\n",
    "from kite_trade import *\n",
    "from enctoken import get_kite\n",
    "kite = get_kite()\n",
    "import warnings\n",
    "warnings.filterwarnings(action = 'ignore')\n",
    "from IPython.display import clear_output\n",
    "import datetime"
   ]
  },
  {
   "cell_type": "markdown",
   "metadata": {},
   "source": [
    "# oi data"
   ]
  },
  {
   "cell_type": "code",
   "execution_count": null,
   "metadata": {},
   "outputs": [],
   "source": [
    "def fetch_market_data(expiry_march, start_dt, end_dt, time_frame=\"minute\"):\n",
    "    df_expiry_hist_data = pd.DataFrame()\n",
    "    strike_symbol_dict = dict(\n",
    "        zip(expiry_march.instrument_token, expiry_march[\"strike_type\"])\n",
    "    )\n",
    "    inst_expiry = expiry_march[\"instrument_token\"].unique().tolist()\n",
    "    for i in inst_expiry:\n",
    "        df = pd.DataFrame(\n",
    "            kite.historical_data(\n",
    "                i,\n",
    "                from_date=start_dt,\n",
    "                to_date=end_dt,\n",
    "                interval=time_frame,\n",
    "                continuous=False,\n",
    "                oi=True,\n",
    "            )\n",
    "        )\n",
    "        df[\"strike_type\"] = strike_symbol_dict[i]\n",
    "        df_expiry_hist_data = df_expiry_hist_data.append(df)\n",
    "    df_expiry_hist_data[\"date\"] = pd.to_datetime(\n",
    "        df_expiry_hist_data[\"date\"]\n",
    "    ).dt.tz_localize(None)\n",
    "    df_expiry_hist_data[\"date_only\"] = pd.to_datetime(\n",
    "        df_expiry_hist_data[\"date\"].dt.date\n",
    "    )\n",
    "    return df_expiry_hist_data\n",
    "\n",
    "\n",
    "def reorder_column(df):\n",
    "    strike_prices = sorted(\n",
    "        set(int(col.split(\"_\")[1]) for col in df.columns if \"oi\" or \"chg\" in col)\n",
    "    )\n",
    "    reordered_columns = []\n",
    "    for price in strike_prices:\n",
    "        reordered_columns.extend(\n",
    "            [f\"oi_{price}_CE\", f\"chg_{price}_CE\",f\"chg_{price}_PE\", f\"oi_{price}_PE\" ]\n",
    "        )\n",
    "    return reordered_columns\n",
    "\n",
    "\n",
    "def prev_day_oi(oi_strike, itm_strike, atm_strike, otm_strike):\n",
    "    for i in range(1, 6):\n",
    "        day = datetime.datetime.now() - datetime.timedelta(days=i)\n",
    "        start_dt_prev = day.strftime(\"%Y-%m-%d\")\n",
    "        end_dt_prev = day.strftime(\"%Y-%m-%d\")\n",
    "        time_frame = \"minute\"\n",
    "        print(start_dt_prev, end_dt_prev)\n",
    "        df_prev = fetch_market_data(oi_strike, start_dt_prev, end_dt_prev, time_frame)\n",
    "        print(df_prev.shape)\n",
    "        if df_prev.empty:\n",
    "            continue\n",
    "        else:\n",
    "            df_prev[\"strike\"] = df_prev[\"strike_type\"].str[:-2].astype(int)\n",
    "            df_prev[\"ce_pe\"] = df_prev[\"strike_type\"].str[-2:]\n",
    "            break\n",
    "    df_prev = (\n",
    "        df_prev[df_prev[\"strike\"].isin(itm_strike + [atm_strike] + otm_strike)]\n",
    "        .groupby(\"strike_type\")\n",
    "        .tail(1)\n",
    "    )\n",
    "    return df_prev\n"
   ]
  },
  {
   "cell_type": "code",
   "execution_count": null,
   "metadata": {},
   "outputs": [],
   "source": [
    "expiry_sp = 'BANKNIFTY2465'\n",
    "start_dt = datetime.datetime.now().strftime(\"%Y-%m-%d\")\n",
    "end_dt = datetime.datetime.now().strftime(\"%Y-%m-%d\")\n",
    "time_frame = \"minute\"\n",
    "\n",
    "inst = pd.DataFrame(kite.instruments(\"NFO\"))\n",
    "expiry_march  = inst[(inst.name == 'BANKNIFTY') & (inst.tradingsymbol.str.contains(expiry_sp))]\n",
    "expiry_march['strike_type'] = expiry_march['strike'].astype(int).astype(str) + expiry_march['instrument_type']"
   ]
  },
  {
   "cell_type": "code",
   "execution_count": 125,
   "metadata": {},
   "outputs": [
    {
     "name": "stdout",
     "output_type": "stream",
     "text": [
      "48900 [49000, 49100] [48800, 48700]\n",
      "2024-04-09 2024-04-09\n",
      "(3750, 9)\n"
     ]
    },
    {
     "data": {
      "text/html": [
       "<div>\n",
       "<style scoped>\n",
       "    .dataframe tbody tr th:only-of-type {\n",
       "        vertical-align: middle;\n",
       "    }\n",
       "\n",
       "    .dataframe tbody tr th {\n",
       "        vertical-align: top;\n",
       "    }\n",
       "\n",
       "    .dataframe thead th {\n",
       "        text-align: right;\n",
       "    }\n",
       "</style>\n",
       "<table border=\"1\" class=\"dataframe\">\n",
       "  <thead>\n",
       "    <tr style=\"text-align: right;\">\n",
       "      <th></th>\n",
       "      <th>oi_48700_CE</th>\n",
       "      <th>chg_48700_CE</th>\n",
       "      <th>chg_48700_PE</th>\n",
       "      <th>oi_48700_PE</th>\n",
       "      <th>oi_48800_CE</th>\n",
       "      <th>chg_48800_CE</th>\n",
       "      <th>chg_48800_PE</th>\n",
       "      <th>oi_48800_PE</th>\n",
       "      <th>oi_48900_CE</th>\n",
       "      <th>chg_48900_CE</th>\n",
       "      <th>chg_48900_PE</th>\n",
       "      <th>oi_48900_PE</th>\n",
       "      <th>oi_49000_CE</th>\n",
       "      <th>chg_49000_CE</th>\n",
       "      <th>chg_49000_PE</th>\n",
       "      <th>oi_49000_PE</th>\n",
       "      <th>oi_49100_CE</th>\n",
       "      <th>chg_49100_CE</th>\n",
       "      <th>chg_49100_PE</th>\n",
       "      <th>oi_49100_PE</th>\n",
       "    </tr>\n",
       "    <tr>\n",
       "      <th>date</th>\n",
       "      <th></th>\n",
       "      <th></th>\n",
       "      <th></th>\n",
       "      <th></th>\n",
       "      <th></th>\n",
       "      <th></th>\n",
       "      <th></th>\n",
       "      <th></th>\n",
       "      <th></th>\n",
       "      <th></th>\n",
       "      <th></th>\n",
       "      <th></th>\n",
       "      <th></th>\n",
       "      <th></th>\n",
       "      <th></th>\n",
       "      <th></th>\n",
       "      <th></th>\n",
       "      <th></th>\n",
       "      <th></th>\n",
       "      <th></th>\n",
       "    </tr>\n",
       "  </thead>\n",
       "  <tbody>\n",
       "    <tr>\n",
       "      <th>2024-04-10 15:29:00</th>\n",
       "      <td>1004595</td>\n",
       "      <td>-662700</td>\n",
       "      <td>518850</td>\n",
       "      <td>2248275</td>\n",
       "      <td>1579215</td>\n",
       "      <td>-410970</td>\n",
       "      <td>2828250</td>\n",
       "      <td>3856410</td>\n",
       "      <td>3896610</td>\n",
       "      <td>1989720</td>\n",
       "      <td>6227400</td>\n",
       "      <td>6787830</td>\n",
       "      <td>9183495</td>\n",
       "      <td>6023670</td>\n",
       "      <td>7176885</td>\n",
       "      <td>7824705</td>\n",
       "      <td>4026435</td>\n",
       "      <td>2669790</td>\n",
       "      <td>1288545</td>\n",
       "      <td>1482570</td>\n",
       "    </tr>\n",
       "    <tr>\n",
       "      <th>2024-04-10 15:28:00</th>\n",
       "      <td>1004595</td>\n",
       "      <td>-662700</td>\n",
       "      <td>518850</td>\n",
       "      <td>2248275</td>\n",
       "      <td>1579215</td>\n",
       "      <td>-410970</td>\n",
       "      <td>2828250</td>\n",
       "      <td>3856410</td>\n",
       "      <td>3896610</td>\n",
       "      <td>1989720</td>\n",
       "      <td>6227400</td>\n",
       "      <td>6787830</td>\n",
       "      <td>9183495</td>\n",
       "      <td>6023670</td>\n",
       "      <td>7176885</td>\n",
       "      <td>7824705</td>\n",
       "      <td>4026435</td>\n",
       "      <td>2669790</td>\n",
       "      <td>1288545</td>\n",
       "      <td>1482570</td>\n",
       "    </tr>\n",
       "    <tr>\n",
       "      <th>2024-04-10 15:27:00</th>\n",
       "      <td>1047720</td>\n",
       "      <td>-619575</td>\n",
       "      <td>755325</td>\n",
       "      <td>2484750</td>\n",
       "      <td>1778220</td>\n",
       "      <td>-211965</td>\n",
       "      <td>3312675</td>\n",
       "      <td>4340835</td>\n",
       "      <td>4129140</td>\n",
       "      <td>2222250</td>\n",
       "      <td>7118130</td>\n",
       "      <td>7678560</td>\n",
       "      <td>9856290</td>\n",
       "      <td>6696465</td>\n",
       "      <td>8521425</td>\n",
       "      <td>9169245</td>\n",
       "      <td>4476360</td>\n",
       "      <td>3119715</td>\n",
       "      <td>1441470</td>\n",
       "      <td>1635495</td>\n",
       "    </tr>\n",
       "    <tr>\n",
       "      <th>2024-04-10 15:26:00</th>\n",
       "      <td>1047720</td>\n",
       "      <td>-619575</td>\n",
       "      <td>755325</td>\n",
       "      <td>2484750</td>\n",
       "      <td>1778220</td>\n",
       "      <td>-211965</td>\n",
       "      <td>3312675</td>\n",
       "      <td>4340835</td>\n",
       "      <td>4129140</td>\n",
       "      <td>2222250</td>\n",
       "      <td>7118130</td>\n",
       "      <td>7678560</td>\n",
       "      <td>9856290</td>\n",
       "      <td>6696465</td>\n",
       "      <td>8521425</td>\n",
       "      <td>9169245</td>\n",
       "      <td>4476360</td>\n",
       "      <td>3119715</td>\n",
       "      <td>1441470</td>\n",
       "      <td>1635495</td>\n",
       "    </tr>\n",
       "    <tr>\n",
       "      <th>2024-04-10 15:25:00</th>\n",
       "      <td>1047720</td>\n",
       "      <td>-619575</td>\n",
       "      <td>755325</td>\n",
       "      <td>2484750</td>\n",
       "      <td>1778220</td>\n",
       "      <td>-211965</td>\n",
       "      <td>3312675</td>\n",
       "      <td>4340835</td>\n",
       "      <td>4129140</td>\n",
       "      <td>2222250</td>\n",
       "      <td>7118130</td>\n",
       "      <td>7678560</td>\n",
       "      <td>9856290</td>\n",
       "      <td>6696465</td>\n",
       "      <td>8521425</td>\n",
       "      <td>9169245</td>\n",
       "      <td>4476360</td>\n",
       "      <td>3119715</td>\n",
       "      <td>1441470</td>\n",
       "      <td>1635495</td>\n",
       "    </tr>\n",
       "  </tbody>\n",
       "</table>\n",
       "</div>"
      ],
      "text/plain": [
       "                     oi_48700_CE  chg_48700_CE  chg_48700_PE  oi_48700_PE  \\\n",
       "date                                                                        \n",
       "2024-04-10 15:29:00      1004595       -662700        518850      2248275   \n",
       "2024-04-10 15:28:00      1004595       -662700        518850      2248275   \n",
       "2024-04-10 15:27:00      1047720       -619575        755325      2484750   \n",
       "2024-04-10 15:26:00      1047720       -619575        755325      2484750   \n",
       "2024-04-10 15:25:00      1047720       -619575        755325      2484750   \n",
       "\n",
       "                     oi_48800_CE  chg_48800_CE  chg_48800_PE  oi_48800_PE  \\\n",
       "date                                                                        \n",
       "2024-04-10 15:29:00      1579215       -410970       2828250      3856410   \n",
       "2024-04-10 15:28:00      1579215       -410970       2828250      3856410   \n",
       "2024-04-10 15:27:00      1778220       -211965       3312675      4340835   \n",
       "2024-04-10 15:26:00      1778220       -211965       3312675      4340835   \n",
       "2024-04-10 15:25:00      1778220       -211965       3312675      4340835   \n",
       "\n",
       "                     oi_48900_CE  chg_48900_CE  chg_48900_PE  oi_48900_PE  \\\n",
       "date                                                                        \n",
       "2024-04-10 15:29:00      3896610       1989720       6227400      6787830   \n",
       "2024-04-10 15:28:00      3896610       1989720       6227400      6787830   \n",
       "2024-04-10 15:27:00      4129140       2222250       7118130      7678560   \n",
       "2024-04-10 15:26:00      4129140       2222250       7118130      7678560   \n",
       "2024-04-10 15:25:00      4129140       2222250       7118130      7678560   \n",
       "\n",
       "                     oi_49000_CE  chg_49000_CE  chg_49000_PE  oi_49000_PE  \\\n",
       "date                                                                        \n",
       "2024-04-10 15:29:00      9183495       6023670       7176885      7824705   \n",
       "2024-04-10 15:28:00      9183495       6023670       7176885      7824705   \n",
       "2024-04-10 15:27:00      9856290       6696465       8521425      9169245   \n",
       "2024-04-10 15:26:00      9856290       6696465       8521425      9169245   \n",
       "2024-04-10 15:25:00      9856290       6696465       8521425      9169245   \n",
       "\n",
       "                     oi_49100_CE  chg_49100_CE  chg_49100_PE  oi_49100_PE  \n",
       "date                                                                       \n",
       "2024-04-10 15:29:00      4026435       2669790       1288545      1482570  \n",
       "2024-04-10 15:28:00      4026435       2669790       1288545      1482570  \n",
       "2024-04-10 15:27:00      4476360       3119715       1441470      1635495  \n",
       "2024-04-10 15:26:00      4476360       3119715       1441470      1635495  \n",
       "2024-04-10 15:25:00      4476360       3119715       1441470      1635495  "
      ]
     },
     "execution_count": 125,
     "metadata": {},
     "output_type": "execute_result"
    }
   ],
   "source": [
    "\n",
    "df_prev = pd.DataFrame()\n",
    "ltp_dict = kite.ltp([256265, 260105])\n",
    "nifty_price = ltp_dict[\"256265\"][\"last_price\"]\n",
    "banknifty_price = ltp_dict[\"260105\"][\"last_price\"]\n",
    "atm_strike = int(banknifty_price // 100 * 100)\n",
    "otm_strike = [atm_strike + i * 100 for i in range(1, 3)]\n",
    "itm_strike = [atm_strike - i * 100 for i in range(1, 3)]\n",
    "print(atm_strike, otm_strike, itm_strike)\n",
    "\n",
    "oi_strike = expiry_march.query(\n",
    "    \"strike in @otm_strike or strike in @itm_strike or strike == @atm_strike\"\n",
    ")\n",
    "\n",
    "if df_prev.empty:\n",
    "    df_prev = prev_day_oi(oi_strike, itm_strike, atm_strike, otm_strike)\n",
    "\n",
    "df_oi = fetch_market_data(oi_strike, start_dt, end_dt, time_frame)\n",
    "df_oi[\"strike\"] = df_oi[\"strike_type\"].str[:-2].astype(int)\n",
    "df_oi[\"ce_pe\"] = df_oi[\"strike_type\"].str[-2:]\n",
    "\n",
    "df_oi_merge = pd.merge(\n",
    "    df_oi, df_prev[[\"strike_type\", \"oi\"]], on=\"strike_type\", suffixes=(\"_live\", \"_prev\")\n",
    ").assign(chg=lambda x: x[\"oi_live\"] - x[\"oi_prev\"])\n",
    "df_oi_merge = df_oi_merge.drop([\"oi_prev\"], axis=1).rename(columns={\"oi_live\": \"oi\"})\n",
    "df_oi_merge_pivot = (\n",
    "    df_oi_merge[df_oi_merge[\"strike\"].isin(itm_strike + [atm_strike] + otm_strike)]\n",
    "    .pivot_table(\n",
    "        index=\"date\", columns=[\"strike\", \"ce_pe\"], values=[\"oi\", \"chg\"], aggfunc=\"sum\"\n",
    "    )\n",
    "    .sort_values(\"date\", ascending=False)\n",
    ")\n",
    "df_oi_merge_pivot.columns = [\n",
    "    \"_\".join([str(i) for i in col]) for col in df_oi_merge_pivot.columns\n",
    "]\n",
    "df_oi_merge_pivot[reorder_column(df_oi_merge_pivot)].head()\n"
   ]
  },
  {
   "cell_type": "code",
   "execution_count": 127,
   "metadata": {},
   "outputs": [
    {
     "data": {
      "text/html": [
       "<div>\n",
       "<style scoped>\n",
       "    .dataframe tbody tr th:only-of-type {\n",
       "        vertical-align: middle;\n",
       "    }\n",
       "\n",
       "    .dataframe tbody tr th {\n",
       "        vertical-align: top;\n",
       "    }\n",
       "\n",
       "    .dataframe thead th {\n",
       "        text-align: right;\n",
       "    }\n",
       "</style>\n",
       "<table border=\"1\" class=\"dataframe\">\n",
       "  <thead>\n",
       "    <tr style=\"text-align: right;\">\n",
       "      <th></th>\n",
       "      <th>date</th>\n",
       "      <th>open</th>\n",
       "      <th>high</th>\n",
       "      <th>low</th>\n",
       "      <th>close</th>\n",
       "      <th>volume</th>\n",
       "      <th>oi</th>\n",
       "      <th>strike_type</th>\n",
       "      <th>date_only</th>\n",
       "      <th>strike</th>\n",
       "      <th>ce_pe</th>\n",
       "    </tr>\n",
       "  </thead>\n",
       "  <tbody>\n",
       "    <tr>\n",
       "      <th>370</th>\n",
       "      <td>2024-04-10 15:25:00</td>\n",
       "      <td>185.9</td>\n",
       "      <td>186.65</td>\n",
       "      <td>184.8</td>\n",
       "      <td>185.80</td>\n",
       "      <td>175560</td>\n",
       "      <td>1778220</td>\n",
       "      <td>48800CE</td>\n",
       "      <td>2024-04-10</td>\n",
       "      <td>48800</td>\n",
       "      <td>CE</td>\n",
       "    </tr>\n",
       "    <tr>\n",
       "      <th>371</th>\n",
       "      <td>2024-04-10 15:26:00</td>\n",
       "      <td>185.8</td>\n",
       "      <td>187.65</td>\n",
       "      <td>185.3</td>\n",
       "      <td>185.65</td>\n",
       "      <td>151590</td>\n",
       "      <td>1778220</td>\n",
       "      <td>48800CE</td>\n",
       "      <td>2024-04-10</td>\n",
       "      <td>48800</td>\n",
       "      <td>CE</td>\n",
       "    </tr>\n",
       "    <tr>\n",
       "      <th>372</th>\n",
       "      <td>2024-04-10 15:27:00</td>\n",
       "      <td>185.9</td>\n",
       "      <td>186.05</td>\n",
       "      <td>184.2</td>\n",
       "      <td>185.35</td>\n",
       "      <td>91170</td>\n",
       "      <td>1778220</td>\n",
       "      <td>48800CE</td>\n",
       "      <td>2024-04-10</td>\n",
       "      <td>48800</td>\n",
       "      <td>CE</td>\n",
       "    </tr>\n",
       "    <tr>\n",
       "      <th>373</th>\n",
       "      <td>2024-04-10 15:28:00</td>\n",
       "      <td>185.4</td>\n",
       "      <td>186.45</td>\n",
       "      <td>185.1</td>\n",
       "      <td>186.10</td>\n",
       "      <td>80580</td>\n",
       "      <td>1579215</td>\n",
       "      <td>48800CE</td>\n",
       "      <td>2024-04-10</td>\n",
       "      <td>48800</td>\n",
       "      <td>CE</td>\n",
       "    </tr>\n",
       "    <tr>\n",
       "      <th>374</th>\n",
       "      <td>2024-04-10 15:29:00</td>\n",
       "      <td>186.1</td>\n",
       "      <td>186.70</td>\n",
       "      <td>185.6</td>\n",
       "      <td>186.40</td>\n",
       "      <td>85245</td>\n",
       "      <td>1579215</td>\n",
       "      <td>48800CE</td>\n",
       "      <td>2024-04-10</td>\n",
       "      <td>48800</td>\n",
       "      <td>CE</td>\n",
       "    </tr>\n",
       "  </tbody>\n",
       "</table>\n",
       "</div>"
      ],
      "text/plain": [
       "                   date   open    high    low   close  volume       oi  \\\n",
       "370 2024-04-10 15:25:00  185.9  186.65  184.8  185.80  175560  1778220   \n",
       "371 2024-04-10 15:26:00  185.8  187.65  185.3  185.65  151590  1778220   \n",
       "372 2024-04-10 15:27:00  185.9  186.05  184.2  185.35   91170  1778220   \n",
       "373 2024-04-10 15:28:00  185.4  186.45  185.1  186.10   80580  1579215   \n",
       "374 2024-04-10 15:29:00  186.1  186.70  185.6  186.40   85245  1579215   \n",
       "\n",
       "    strike_type  date_only  strike ce_pe  \n",
       "370     48800CE 2024-04-10   48800    CE  \n",
       "371     48800CE 2024-04-10   48800    CE  \n",
       "372     48800CE 2024-04-10   48800    CE  \n",
       "373     48800CE 2024-04-10   48800    CE  \n",
       "374     48800CE 2024-04-10   48800    CE  "
      ]
     },
     "execution_count": 127,
     "metadata": {},
     "output_type": "execute_result"
    }
   ],
   "source": [
    "df_oi.query(\"strike_type == '48800CE'\").tail(5)\n"
   ]
  },
  {
   "cell_type": "markdown",
   "metadata": {},
   "source": [
    "# live market oi cross over"
   ]
  },
  {
   "cell_type": "code",
   "execution_count": null,
   "metadata": {},
   "outputs": [],
   "source": []
  },
  {
   "cell_type": "code",
   "execution_count": 2,
   "metadata": {},
   "outputs": [],
   "source": [
    "expiry_sp = 'BANKNIFTY24410'\n",
    "inst = pd.DataFrame(kite.instruments(\"NFO\"))\n",
    "expiry_march  = inst[(inst.name == 'BANKNIFTY') & (inst.tradingsymbol.str.contains(expiry_sp))]\n",
    "# expiry_march = expiry_march.query(\"(strike >= 38500 )&( strike <= 40500)\")\n",
    "expiry_march['strike_type'] = expiry_march['strike'].astype(int).astype(str) + expiry_march['instrument_type']\n"
   ]
  },
  {
   "cell_type": "code",
   "execution_count": null,
   "metadata": {},
   "outputs": [],
   "source": []
  },
  {
   "cell_type": "code",
   "execution_count": 3,
   "metadata": {},
   "outputs": [
    {
     "data": {
      "text/html": [
       "<div>\n",
       "<style scoped>\n",
       "    .dataframe tbody tr th:only-of-type {\n",
       "        vertical-align: middle;\n",
       "    }\n",
       "\n",
       "    .dataframe tbody tr th {\n",
       "        vertical-align: top;\n",
       "    }\n",
       "\n",
       "    .dataframe thead th {\n",
       "        text-align: right;\n",
       "    }\n",
       "</style>\n",
       "<table border=\"1\" class=\"dataframe\">\n",
       "  <thead>\n",
       "    <tr style=\"text-align: right;\">\n",
       "      <th></th>\n",
       "      <th>instrument_token</th>\n",
       "      <th>exchange_token</th>\n",
       "      <th>tradingsymbol</th>\n",
       "      <th>name</th>\n",
       "      <th>last_price</th>\n",
       "      <th>expiry</th>\n",
       "      <th>strike</th>\n",
       "      <th>tick_size</th>\n",
       "      <th>lot_size</th>\n",
       "      <th>instrument_type</th>\n",
       "      <th>segment</th>\n",
       "      <th>exchange</th>\n",
       "      <th>strike_type</th>\n",
       "    </tr>\n",
       "  </thead>\n",
       "  <tbody>\n",
       "    <tr>\n",
       "      <th>2255</th>\n",
       "      <td>11799298</td>\n",
       "      <td>46091</td>\n",
       "      <td>BANKNIFTY2441039000CE</td>\n",
       "      <td>BANKNIFTY</td>\n",
       "      <td>0.0</td>\n",
       "      <td>2024-04-10</td>\n",
       "      <td>39000.0</td>\n",
       "      <td>0.05</td>\n",
       "      <td>15</td>\n",
       "      <td>CE</td>\n",
       "      <td>NFO-OPT</td>\n",
       "      <td>NFO</td>\n",
       "      <td>39000CE</td>\n",
       "    </tr>\n",
       "    <tr>\n",
       "      <th>2256</th>\n",
       "      <td>11799554</td>\n",
       "      <td>46092</td>\n",
       "      <td>BANKNIFTY2441039000PE</td>\n",
       "      <td>BANKNIFTY</td>\n",
       "      <td>0.0</td>\n",
       "      <td>2024-04-10</td>\n",
       "      <td>39000.0</td>\n",
       "      <td>0.05</td>\n",
       "      <td>15</td>\n",
       "      <td>PE</td>\n",
       "      <td>NFO-OPT</td>\n",
       "      <td>NFO</td>\n",
       "      <td>39000PE</td>\n",
       "    </tr>\n",
       "    <tr>\n",
       "      <th>2257</th>\n",
       "      <td>11800578</td>\n",
       "      <td>46096</td>\n",
       "      <td>BANKNIFTY2441039500CE</td>\n",
       "      <td>BANKNIFTY</td>\n",
       "      <td>0.0</td>\n",
       "      <td>2024-04-10</td>\n",
       "      <td>39500.0</td>\n",
       "      <td>0.05</td>\n",
       "      <td>15</td>\n",
       "      <td>CE</td>\n",
       "      <td>NFO-OPT</td>\n",
       "      <td>NFO</td>\n",
       "      <td>39500CE</td>\n",
       "    </tr>\n",
       "    <tr>\n",
       "      <th>2258</th>\n",
       "      <td>11800834</td>\n",
       "      <td>46097</td>\n",
       "      <td>BANKNIFTY2441039500PE</td>\n",
       "      <td>BANKNIFTY</td>\n",
       "      <td>0.0</td>\n",
       "      <td>2024-04-10</td>\n",
       "      <td>39500.0</td>\n",
       "      <td>0.05</td>\n",
       "      <td>15</td>\n",
       "      <td>PE</td>\n",
       "      <td>NFO-OPT</td>\n",
       "      <td>NFO</td>\n",
       "      <td>39500PE</td>\n",
       "    </tr>\n",
       "    <tr>\n",
       "      <th>2259</th>\n",
       "      <td>11801090</td>\n",
       "      <td>46098</td>\n",
       "      <td>BANKNIFTY2441040000CE</td>\n",
       "      <td>BANKNIFTY</td>\n",
       "      <td>0.0</td>\n",
       "      <td>2024-04-10</td>\n",
       "      <td>40000.0</td>\n",
       "      <td>0.05</td>\n",
       "      <td>15</td>\n",
       "      <td>CE</td>\n",
       "      <td>NFO-OPT</td>\n",
       "      <td>NFO</td>\n",
       "      <td>40000CE</td>\n",
       "    </tr>\n",
       "  </tbody>\n",
       "</table>\n",
       "</div>"
      ],
      "text/plain": [
       "      instrument_token exchange_token          tradingsymbol       name  \\\n",
       "2255          11799298          46091  BANKNIFTY2441039000CE  BANKNIFTY   \n",
       "2256          11799554          46092  BANKNIFTY2441039000PE  BANKNIFTY   \n",
       "2257          11800578          46096  BANKNIFTY2441039500CE  BANKNIFTY   \n",
       "2258          11800834          46097  BANKNIFTY2441039500PE  BANKNIFTY   \n",
       "2259          11801090          46098  BANKNIFTY2441040000CE  BANKNIFTY   \n",
       "\n",
       "      last_price      expiry   strike  tick_size  lot_size instrument_type  \\\n",
       "2255         0.0  2024-04-10  39000.0       0.05        15              CE   \n",
       "2256         0.0  2024-04-10  39000.0       0.05        15              PE   \n",
       "2257         0.0  2024-04-10  39500.0       0.05        15              CE   \n",
       "2258         0.0  2024-04-10  39500.0       0.05        15              PE   \n",
       "2259         0.0  2024-04-10  40000.0       0.05        15              CE   \n",
       "\n",
       "      segment exchange strike_type  \n",
       "2255  NFO-OPT      NFO     39000CE  \n",
       "2256  NFO-OPT      NFO     39000PE  \n",
       "2257  NFO-OPT      NFO     39500CE  \n",
       "2258  NFO-OPT      NFO     39500PE  \n",
       "2259  NFO-OPT      NFO     40000CE  "
      ]
     },
     "execution_count": 3,
     "metadata": {},
     "output_type": "execute_result"
    }
   ],
   "source": [
    "expiry_march.head()"
   ]
  },
  {
   "cell_type": "code",
   "execution_count": null,
   "metadata": {},
   "outputs": [],
   "source": [
    "# for today's oi cross over check \n",
    "# 1. i need the todays data and continously fetch the 1 day before data and take the last day ending data\n",
    "# 2. then i will check the trending oi cross over \n",
    "# 3. then i will check strike cross over \n",
    "#     for it i need current spot price\n",
    "#     and i will check in 1 above and below strike price for cross over \n",
    "#     i will plot the 3 strike and keep the oi table if needed\n"
   ]
  },
  {
   "cell_type": "code",
   "execution_count": 37,
   "metadata": {},
   "outputs": [],
   "source": [
    "import datetime\n",
    "import time\n",
    "\n",
    "def fetch_market_data(expiry_march,start_dt, end_dt, time_frame = 'minute'):\n",
    "    df_expiry_hist_data = pd.DataFrame()\n",
    "    strike_symbol_dict = dict(zip(expiry_march.instrument_token,expiry_march['strike_type'] ))\n",
    "    inst_expiry = expiry_march['instrument_token'].unique().tolist() \n",
    "    for i in inst_expiry:\n",
    "        df = pd.DataFrame(kite.historical_data(i, from_date = start_dt, to_date = end_dt, interval = time_frame, continuous=False, oi=True))\n",
    "        df['strike_type'] = strike_symbol_dict[i]\n",
    "        df_expiry_hist_data = df_expiry_hist_data.append(df)\n",
    "    df_expiry_hist_data['date']  = pd.to_datetime(df_expiry_hist_data['date']).dt.tz_localize(None)\n",
    "    df_expiry_hist_data['date_only'] = pd.to_datetime(df_expiry_hist_data['date'].dt.date)\n",
    "    return df_expiry_hist_data\n",
    "\n",
    "\n",
    "\n",
    "def get_previous_trading_day_data():\n",
    "    # Check the last five days\n",
    "    pass\n",
    "\n",
    "\n",
    "# previous_day_data = get_previous_trading_day_data()\n",
    "# print(f\"Previous trading day's data at 15:27: {previous_day_data}\")\n",
    "\n",
    "# while True:\n",
    "#     now = datetime.datetime.now()\n",
    "#     today_data = fetch_market_data(now.strftime('%Y-%m-%d'), now.strftime('%H:%M'))\n",
    "#     print(f\"Today's data at {now.strftime('%H:%M')}: {today_data}\")\n",
    "    \n",
    "#     # Wait for 60 seconds before the next fetch\n",
    "#     time.sleep(60)\n",
    "\n"
   ]
  },
  {
   "cell_type": "code",
   "execution_count": null,
   "metadata": {},
   "outputs": [],
   "source": [
    "import datetime\n",
    "trending_strike = [46100, 46200, 46300, 46400, 46500, 46600, 46700, 46800, 46900, 47000, 47100, 47200, 47300, 47400, 47500]\n",
    "\n",
    "# previous day data fetch \n",
    "for i in range(1, 6):\n",
    "        day = datetime.datetime.now() - datetime.timedelta(days=i)\n",
    "        start_dt = day.strftime('%Y-%m-%d')\n",
    "        end_dt = day.strftime('%Y-%m-%d')\n",
    "        time_frame = '3minute'\n",
    "        df_prev = fetch_market_data(expiry_march,start_dt, end_dt, time_frame)\n",
    "        if df_prev.empty:\n",
    "            continue\n",
    "        else:\n",
    "               df_prev\n",
    "        # break\n",
    "               \n",
    "    df_bn_oi_data['strike_value'] = df_bn_oi_data['strike_type'].str[:-2]\n",
    "    df_bn_oi_data['strike_value'] = df_bn_oi_data['strike_value'].astype(int)\n",
    "    df_bn_oi_data['strike_ce_pe'] = df_bn_oi_data['strike_type'].str[-2:]\n",
    "    df_bn_oi_data.query('strike_value in @trending_strike', inplace = True)\n",
    "    df_bn_oi_data_prev_day = df_bn_oi_data_prev_day.groupby(['date', 'strike_ce_pe'])['oi'].sum().reset_index()\n",
    "    df_pivot_prev = df_bn_oi_data_prev_day.pivot_table(index='date', columns='strike_ce_pe', values='oi')"
   ]
  },
  {
   "cell_type": "code",
   "execution_count": null,
   "metadata": {},
   "outputs": [],
   "source": [
    "# current day data fetch \n",
    "now = datetime.datetime.now()\n",
    "start_dt = now.strftime('%Y-%m-%d')\n",
    "end_dt = now.strftime('%Y-%m-%d')\n",
    "time_frame = '3minute'\n",
    "df_current_day = fetch_market_data(expiry_march,start_dt, end_dt, time_frame)\n",
    "df_current_day['strike_value'] = df_current_day['strike_type'].str[:-2]\n",
    "df_current_day['strike_value'] = df_current_day['strike_value'].astype(int)\n",
    "df_current_day['strike_ce_pe'] = df_current_day['strike_type'].str[-2:]\n",
    "df_current_day.query('strike_value in @trending_strike', inplace = True)\n",
    "df_bn_oi_data_current_day = df_current_day.groupby(['date', 'strike_ce_pe'])['oi'].sum().reset_index()\n",
    "df_pivot_current = df_bn_oi_data_current_day.pivot_table(index='date', columns='strike_ce_pe', values='oi')"
   ]
  },
  {
   "cell_type": "code",
   "execution_count": null,
   "metadata": {},
   "outputs": [],
   "source": [
    "## cross over \n",
    "df_pivot = df_pivot_curr.reset_index()\n",
    "df_pivot.drop(['CE', 'PE'], axis = 1, inplace = True)\n",
    "\n",
    "# Initialize an empty list to store crossover points\n",
    "crossovers = []\n",
    "\n",
    "# Loop through the DataFrame starting from the second row\n",
    "for i in range(1, len(df_pivot)):\n",
    "    # Current and previous values for 'chg_ce' and 'chg_pe'\n",
    "    current_chg_ce = df_pivot.loc[i, 'chg_ce']\n",
    "    previous_chg_ce = df_pivot.loc[i - 1, 'chg_ce']\n",
    "    current_chg_pe = df_pivot.loc[i, 'chg_pe']\n",
    "    previous_chg_pe = df_pivot.loc[i - 1, 'chg_pe']\n",
    "\n",
    "    # Check for crossover: chg_ce crosses above chg_pe or chg_ce crosses below chg_pe\n",
    "    if (current_chg_ce > current_chg_pe and previous_chg_ce < previous_chg_pe) or \\\n",
    "       (current_chg_ce < current_chg_pe and previous_chg_ce > previous_chg_pe):\n",
    "        # Crossover detected; add it to the list\n",
    "        crossover_date = df_pivot.loc[i, 'date']\n",
    "        crossovers.append(crossover_date)\n",
    "\n",
    "# Print all crossover points\n",
    "for crossover in crossovers:\n",
    "    print(f\"Crossover occurred on: {crossover}\")\n",
    "\n",
    "# If you want to return the crossovers as well, just use `return crossovers` if this is in a function."
   ]
  },
  {
   "cell_type": "code",
   "execution_count": 44,
   "metadata": {},
   "outputs": [],
   "source": [
    "from plyer import notification\n",
    "\n",
    "# Your condition\n",
    "condition = True  # This is just an example condition. Replace it with your actual condition.\n",
    "\n",
    "if condition:\n",
    "    notification.notify(\n",
    "        title='Akash first notification',\n",
    "        message='Welcome to trading world',\n",
    "        app_name='Akash Trading App',\n",
    "    )"
   ]
  },
  {
   "cell_type": "markdown",
   "metadata": {},
   "source": [
    "## oi cross over "
   ]
  },
  {
   "cell_type": "code",
   "execution_count": 2,
   "metadata": {},
   "outputs": [],
   "source": [
    "df_bn_oi_data = pd.read_parquet(\"../data/expiry_27march2024_3min.parquet\")\n",
    "df_bn_oi_data = df_bn_oi_data.query(\"strike_type != '0FUT'\")\n",
    "df_bn_oi_data['date']  = pd.to_datetime(df_bn_oi_data['date']).dt.tz_localize(None)\n",
    "df_bn_oi_data['date_only'] = pd.to_datetime(df_bn_oi_data['date'].dt.date)\n",
    "# trending_strike = list(range(46100, 47501, 100))\n",
    "trending_strike = [46100, 46200, 46300, 46400, 46500, 46600, 46700, 46800, 46900, 47000, 47100, 47200, 47300, 47400, 47500]\n",
    "# trending_strike = [46700]\n",
    "df_bn_oi_data['strike_value'] = df_bn_oi_data['strike_type'].str[:-2]\n",
    "df_bn_oi_data['strike_value'] = df_bn_oi_data['strike_value'].astype(int)\n",
    "df_bn_oi_data['strike_ce_pe'] = df_bn_oi_data['strike_type'].str[-2:]\n",
    "df_bn_oi_data.query('strike_value in @trending_strike', inplace = True)"
   ]
  },
  {
   "cell_type": "code",
   "execution_count": 3,
   "metadata": {},
   "outputs": [],
   "source": [
    "df_bn_oi_data_prev_day = df_bn_oi_data.query(\"date_only == '2024-03-21'\")\n",
    "df_bn_oi_data_prev_day = df_bn_oi_data_prev_day.groupby(['date', 'strike_ce_pe'])['oi'].sum().reset_index()\n",
    "df_pivot_prev = df_bn_oi_data_prev_day.pivot_table(index='date', columns='strike_ce_pe', values='oi')"
   ]
  },
  {
   "cell_type": "code",
   "execution_count": 4,
   "metadata": {},
   "outputs": [
    {
     "data": {
      "text/html": [
       "<div>\n",
       "<style scoped>\n",
       "    .dataframe tbody tr th:only-of-type {\n",
       "        vertical-align: middle;\n",
       "    }\n",
       "\n",
       "    .dataframe tbody tr th {\n",
       "        vertical-align: top;\n",
       "    }\n",
       "\n",
       "    .dataframe thead th {\n",
       "        text-align: right;\n",
       "    }\n",
       "</style>\n",
       "<table border=\"1\" class=\"dataframe\">\n",
       "  <thead>\n",
       "    <tr style=\"text-align: right;\">\n",
       "      <th>strike_ce_pe</th>\n",
       "      <th>CE</th>\n",
       "      <th>PE</th>\n",
       "    </tr>\n",
       "    <tr>\n",
       "      <th>date</th>\n",
       "      <th></th>\n",
       "      <th></th>\n",
       "    </tr>\n",
       "  </thead>\n",
       "  <tbody>\n",
       "    <tr>\n",
       "      <th>2024-03-21 15:15:00</th>\n",
       "      <td>13427790.0</td>\n",
       "      <td>10294725.0</td>\n",
       "    </tr>\n",
       "    <tr>\n",
       "      <th>2024-03-21 15:18:00</th>\n",
       "      <td>13233225.0</td>\n",
       "      <td>10125030.0</td>\n",
       "    </tr>\n",
       "    <tr>\n",
       "      <th>2024-03-21 15:21:00</th>\n",
       "      <td>12830535.0</td>\n",
       "      <td>9773445.0</td>\n",
       "    </tr>\n",
       "    <tr>\n",
       "      <th>2024-03-21 15:24:00</th>\n",
       "      <td>12498615.0</td>\n",
       "      <td>9357075.0</td>\n",
       "    </tr>\n",
       "    <tr>\n",
       "      <th>2024-03-21 15:27:00</th>\n",
       "      <td>12304725.0</td>\n",
       "      <td>8987835.0</td>\n",
       "    </tr>\n",
       "  </tbody>\n",
       "</table>\n",
       "</div>"
      ],
      "text/plain": [
       "strike_ce_pe                 CE          PE\n",
       "date                                       \n",
       "2024-03-21 15:15:00  13427790.0  10294725.0\n",
       "2024-03-21 15:18:00  13233225.0  10125030.0\n",
       "2024-03-21 15:21:00  12830535.0   9773445.0\n",
       "2024-03-21 15:24:00  12498615.0   9357075.0\n",
       "2024-03-21 15:27:00  12304725.0   8987835.0"
      ]
     },
     "execution_count": 4,
     "metadata": {},
     "output_type": "execute_result"
    }
   ],
   "source": [
    "df_pivot_prev.tail()"
   ]
  },
  {
   "cell_type": "code",
   "execution_count": 5,
   "metadata": {},
   "outputs": [],
   "source": [
    "prev_day_ce_oi = 12304725.0 - (5520975 - 4935675)\n",
    "prev_day_pe_oi = 8987835.0 - (4918185 - 4573980)"
   ]
  },
  {
   "cell_type": "code",
   "execution_count": 6,
   "metadata": {},
   "outputs": [],
   "source": [
    "df_bn_oi_data_curr_day = df_bn_oi_data.query(\"date_only == '2024-03-22'\")\n",
    "df_bn_oi_data_curr_day= df_bn_oi_data_curr_day.groupby(['date', 'strike_ce_pe'])['oi'].sum().reset_index()\n",
    "df_pivot_curr = df_bn_oi_data_curr_day.pivot_table(index='date', columns='strike_ce_pe', values='oi')"
   ]
  },
  {
   "cell_type": "code",
   "execution_count": 7,
   "metadata": {},
   "outputs": [],
   "source": [
    "df_pivot_curr['chg_ce'] = df_pivot_curr['CE'] - prev_day_ce_oi\n",
    "df_pivot_curr['chg_pe'] = df_pivot_curr['PE'] -prev_day_pe_oi"
   ]
  },
  {
   "cell_type": "code",
   "execution_count": 8,
   "metadata": {},
   "outputs": [
    {
     "data": {
      "text/html": [
       "<div>\n",
       "<style scoped>\n",
       "    .dataframe tbody tr th:only-of-type {\n",
       "        vertical-align: middle;\n",
       "    }\n",
       "\n",
       "    .dataframe tbody tr th {\n",
       "        vertical-align: top;\n",
       "    }\n",
       "\n",
       "    .dataframe thead th {\n",
       "        text-align: right;\n",
       "    }\n",
       "</style>\n",
       "<table border=\"1\" class=\"dataframe\">\n",
       "  <thead>\n",
       "    <tr style=\"text-align: right;\">\n",
       "      <th>strike_ce_pe</th>\n",
       "      <th>CE</th>\n",
       "      <th>PE</th>\n",
       "      <th>chg_ce</th>\n",
       "      <th>chg_pe</th>\n",
       "    </tr>\n",
       "    <tr>\n",
       "      <th>date</th>\n",
       "      <th></th>\n",
       "      <th></th>\n",
       "      <th></th>\n",
       "      <th></th>\n",
       "    </tr>\n",
       "  </thead>\n",
       "  <tbody>\n",
       "    <tr>\n",
       "      <th>2024-03-22 09:15:00</th>\n",
       "      <td>12028170.0</td>\n",
       "      <td>8963310.0</td>\n",
       "      <td>308745.0</td>\n",
       "      <td>319680.0</td>\n",
       "    </tr>\n",
       "    <tr>\n",
       "      <th>2024-03-22 09:18:00</th>\n",
       "      <td>13238385.0</td>\n",
       "      <td>10088415.0</td>\n",
       "      <td>1518960.0</td>\n",
       "      <td>1444785.0</td>\n",
       "    </tr>\n",
       "    <tr>\n",
       "      <th>2024-03-22 09:21:00</th>\n",
       "      <td>13866630.0</td>\n",
       "      <td>10891080.0</td>\n",
       "      <td>2147205.0</td>\n",
       "      <td>2247450.0</td>\n",
       "    </tr>\n",
       "    <tr>\n",
       "      <th>2024-03-22 09:24:00</th>\n",
       "      <td>14345490.0</td>\n",
       "      <td>11390700.0</td>\n",
       "      <td>2626065.0</td>\n",
       "      <td>2747070.0</td>\n",
       "    </tr>\n",
       "    <tr>\n",
       "      <th>2024-03-22 09:27:00</th>\n",
       "      <td>14617845.0</td>\n",
       "      <td>11503155.0</td>\n",
       "      <td>2898420.0</td>\n",
       "      <td>2859525.0</td>\n",
       "    </tr>\n",
       "  </tbody>\n",
       "</table>\n",
       "</div>"
      ],
      "text/plain": [
       "strike_ce_pe                 CE          PE     chg_ce     chg_pe\n",
       "date                                                             \n",
       "2024-03-22 09:15:00  12028170.0   8963310.0   308745.0   319680.0\n",
       "2024-03-22 09:18:00  13238385.0  10088415.0  1518960.0  1444785.0\n",
       "2024-03-22 09:21:00  13866630.0  10891080.0  2147205.0  2247450.0\n",
       "2024-03-22 09:24:00  14345490.0  11390700.0  2626065.0  2747070.0\n",
       "2024-03-22 09:27:00  14617845.0  11503155.0  2898420.0  2859525.0"
      ]
     },
     "execution_count": 8,
     "metadata": {},
     "output_type": "execute_result"
    }
   ],
   "source": [
    "df_pivot_curr.head()"
   ]
  },
  {
   "cell_type": "code",
   "execution_count": 9,
   "metadata": {},
   "outputs": [
    {
     "name": "stdout",
     "output_type": "stream",
     "text": [
      "Crossover occurred on: 2024-03-22 09:18:00\n",
      "Crossover occurred on: 2024-03-22 09:21:00\n",
      "Crossover occurred on: 2024-03-22 09:27:00\n",
      "Crossover occurred on: 2024-03-22 09:36:00\n"
     ]
    }
   ],
   "source": [
    "import pandas as pd\n",
    "\n",
    "df_pivot = df_pivot_curr.reset_index()\n",
    "df_pivot.drop(['CE', 'PE'], axis = 1, inplace = True)\n",
    "\n",
    "# Initialize an empty list to store crossover points\n",
    "crossovers = []\n",
    "\n",
    "# Loop through the DataFrame starting from the second row\n",
    "for i in range(1, len(df_pivot)):\n",
    "    # Current and previous values for 'chg_ce' and 'chg_pe'\n",
    "    current_chg_ce = df_pivot.loc[i, 'chg_ce']\n",
    "    previous_chg_ce = df_pivot.loc[i - 1, 'chg_ce']\n",
    "    current_chg_pe = df_pivot.loc[i, 'chg_pe']\n",
    "    previous_chg_pe = df_pivot.loc[i - 1, 'chg_pe']\n",
    "\n",
    "    # Check for crossover: chg_ce crosses above chg_pe or chg_ce crosses below chg_pe\n",
    "    if (current_chg_ce > current_chg_pe and previous_chg_ce < previous_chg_pe) or \\\n",
    "       (current_chg_ce < current_chg_pe and previous_chg_ce > previous_chg_pe):\n",
    "        # Crossover detected; add it to the list\n",
    "        crossover_date = df_pivot.loc[i, 'date']\n",
    "        crossovers.append(crossover_date)\n",
    "\n",
    "# Print all crossover points\n",
    "for crossover in crossovers:\n",
    "    print(f\"Crossover occurred on: {crossover}\")\n",
    "\n",
    "# If you want to return the crossovers as well, just use `return crossovers` if this is in a function.\n"
   ]
  },
  {
   "cell_type": "code",
   "execution_count": 10,
   "metadata": {},
   "outputs": [
    {
     "data": {
      "application/vnd.plotly.v1+json": {
       "config": {
        "plotlyServerURL": "https://plot.ly"
       },
       "data": [
        {
         "hovertemplate": "strike_ce_pe=chg_ce<br>date=%{x}<br>OI=%{y}<extra></extra>",
         "legendgroup": "chg_ce",
         "line": {
          "color": "#636efa",
          "dash": "solid"
         },
         "marker": {
          "symbol": "circle"
         },
         "mode": "lines+markers",
         "name": "chg_ce",
         "orientation": "v",
         "showlegend": true,
         "type": "scatter",
         "x": [
          "2024-03-22T09:15:00",
          "2024-03-22T09:18:00",
          "2024-03-22T09:21:00",
          "2024-03-22T09:24:00",
          "2024-03-22T09:27:00",
          "2024-03-22T09:30:00",
          "2024-03-22T09:33:00",
          "2024-03-22T09:36:00",
          "2024-03-22T09:39:00",
          "2024-03-22T09:42:00",
          "2024-03-22T09:45:00",
          "2024-03-22T09:48:00",
          "2024-03-22T09:51:00",
          "2024-03-22T09:54:00",
          "2024-03-22T09:57:00",
          "2024-03-22T10:00:00",
          "2024-03-22T10:03:00",
          "2024-03-22T10:06:00",
          "2024-03-22T10:09:00",
          "2024-03-22T10:12:00",
          "2024-03-22T10:15:00",
          "2024-03-22T10:18:00",
          "2024-03-22T10:21:00",
          "2024-03-22T10:24:00",
          "2024-03-22T10:27:00",
          "2024-03-22T10:30:00",
          "2024-03-22T10:33:00",
          "2024-03-22T10:36:00",
          "2024-03-22T10:39:00",
          "2024-03-22T10:42:00",
          "2024-03-22T10:45:00",
          "2024-03-22T10:48:00",
          "2024-03-22T10:51:00",
          "2024-03-22T10:54:00",
          "2024-03-22T10:57:00",
          "2024-03-22T11:00:00",
          "2024-03-22T11:03:00",
          "2024-03-22T11:06:00",
          "2024-03-22T11:09:00",
          "2024-03-22T11:12:00",
          "2024-03-22T11:15:00",
          "2024-03-22T11:18:00",
          "2024-03-22T11:21:00",
          "2024-03-22T11:24:00",
          "2024-03-22T11:27:00",
          "2024-03-22T11:30:00",
          "2024-03-22T11:33:00",
          "2024-03-22T11:36:00",
          "2024-03-22T11:39:00",
          "2024-03-22T11:42:00",
          "2024-03-22T11:45:00",
          "2024-03-22T11:48:00",
          "2024-03-22T11:51:00",
          "2024-03-22T11:54:00",
          "2024-03-22T11:57:00",
          "2024-03-22T12:00:00",
          "2024-03-22T12:03:00",
          "2024-03-22T12:06:00",
          "2024-03-22T12:09:00",
          "2024-03-22T12:12:00",
          "2024-03-22T12:15:00",
          "2024-03-22T12:18:00",
          "2024-03-22T12:21:00",
          "2024-03-22T12:24:00",
          "2024-03-22T12:27:00",
          "2024-03-22T12:30:00",
          "2024-03-22T12:33:00",
          "2024-03-22T12:36:00",
          "2024-03-22T12:39:00",
          "2024-03-22T12:42:00",
          "2024-03-22T12:45:00",
          "2024-03-22T12:48:00",
          "2024-03-22T12:51:00",
          "2024-03-22T12:54:00",
          "2024-03-22T12:57:00",
          "2024-03-22T13:00:00",
          "2024-03-22T13:03:00",
          "2024-03-22T13:06:00",
          "2024-03-22T13:09:00",
          "2024-03-22T13:12:00",
          "2024-03-22T13:15:00",
          "2024-03-22T13:18:00",
          "2024-03-22T13:21:00",
          "2024-03-22T13:24:00",
          "2024-03-22T13:27:00",
          "2024-03-22T13:30:00",
          "2024-03-22T13:33:00",
          "2024-03-22T13:36:00",
          "2024-03-22T13:39:00",
          "2024-03-22T13:42:00",
          "2024-03-22T13:45:00",
          "2024-03-22T13:48:00",
          "2024-03-22T13:51:00",
          "2024-03-22T13:54:00",
          "2024-03-22T13:57:00",
          "2024-03-22T14:00:00",
          "2024-03-22T14:03:00",
          "2024-03-22T14:06:00",
          "2024-03-22T14:09:00",
          "2024-03-22T14:12:00",
          "2024-03-22T14:15:00",
          "2024-03-22T14:18:00",
          "2024-03-22T14:21:00",
          "2024-03-22T14:24:00",
          "2024-03-22T14:27:00",
          "2024-03-22T14:30:00",
          "2024-03-22T14:33:00",
          "2024-03-22T14:36:00",
          "2024-03-22T14:39:00",
          "2024-03-22T14:42:00",
          "2024-03-22T14:45:00",
          "2024-03-22T14:48:00",
          "2024-03-22T14:51:00",
          "2024-03-22T14:54:00",
          "2024-03-22T14:57:00",
          "2024-03-22T15:00:00",
          "2024-03-22T15:03:00",
          "2024-03-22T15:06:00",
          "2024-03-22T15:09:00",
          "2024-03-22T15:12:00",
          "2024-03-22T15:15:00",
          "2024-03-22T15:18:00",
          "2024-03-22T15:21:00",
          "2024-03-22T15:24:00",
          "2024-03-22T15:27:00"
         ],
         "xaxis": "x",
         "y": [
          308745,
          1518960,
          2147205,
          2626065,
          2898420,
          3203220,
          3562080,
          3439920,
          2793105,
          2989665,
          2968575,
          3005760,
          3375600,
          3453810,
          3768300,
          3820755,
          3823650,
          3827610,
          3899895,
          4048530,
          3780105,
          3755745,
          3740595,
          3664410,
          3629235,
          2915505,
          2645295,
          2559285,
          2624745,
          2085495,
          2097225,
          2219580,
          2208375,
          2337975,
          2388210,
          2457810,
          2488980,
          2613045,
          2677740,
          2724735,
          2825145,
          2868780,
          2981190,
          2959890,
          2955285,
          2966445,
          2709285,
          2714040,
          2662620,
          2630535,
          2479290,
          2536065,
          2524035,
          2528340,
          2519640,
          2491815,
          2495760,
          2569875,
          2658765,
          2710275,
          2778120,
          2893125,
          2909100,
          2941410,
          3058995,
          3125790,
          3173115,
          3247905,
          3283350,
          3277995,
          3283170,
          3285480,
          3378135,
          3359505,
          3389325,
          3393495,
          3216885,
          3242775,
          3194205,
          3196050,
          3194715,
          3171405,
          3202725,
          3169065,
          3137625,
          3130305,
          3195780,
          3179670,
          3172395,
          3052530,
          3002460,
          3027630,
          3029760,
          3084105,
          3148650,
          3246210,
          3278145,
          3267795,
          3225720,
          3177120,
          3047085,
          2735910,
          2625420,
          2343330,
          2301510,
          2162430,
          2008395,
          2128200,
          2172090,
          2211780,
          2188185,
          1957575,
          1925610,
          1866630,
          1838955,
          1570905,
          1597335,
          1502535,
          1300080,
          1142415,
          764805,
          513765,
          222885,
          -141840,
          -557715
         ],
         "yaxis": "y"
        },
        {
         "hovertemplate": "strike_ce_pe=chg_pe<br>date=%{x}<br>OI=%{y}<extra></extra>",
         "legendgroup": "chg_pe",
         "line": {
          "color": "#EF553B",
          "dash": "solid"
         },
         "marker": {
          "symbol": "circle"
         },
         "mode": "lines+markers",
         "name": "chg_pe",
         "orientation": "v",
         "showlegend": true,
         "type": "scatter",
         "x": [
          "2024-03-22T09:15:00",
          "2024-03-22T09:18:00",
          "2024-03-22T09:21:00",
          "2024-03-22T09:24:00",
          "2024-03-22T09:27:00",
          "2024-03-22T09:30:00",
          "2024-03-22T09:33:00",
          "2024-03-22T09:36:00",
          "2024-03-22T09:39:00",
          "2024-03-22T09:42:00",
          "2024-03-22T09:45:00",
          "2024-03-22T09:48:00",
          "2024-03-22T09:51:00",
          "2024-03-22T09:54:00",
          "2024-03-22T09:57:00",
          "2024-03-22T10:00:00",
          "2024-03-22T10:03:00",
          "2024-03-22T10:06:00",
          "2024-03-22T10:09:00",
          "2024-03-22T10:12:00",
          "2024-03-22T10:15:00",
          "2024-03-22T10:18:00",
          "2024-03-22T10:21:00",
          "2024-03-22T10:24:00",
          "2024-03-22T10:27:00",
          "2024-03-22T10:30:00",
          "2024-03-22T10:33:00",
          "2024-03-22T10:36:00",
          "2024-03-22T10:39:00",
          "2024-03-22T10:42:00",
          "2024-03-22T10:45:00",
          "2024-03-22T10:48:00",
          "2024-03-22T10:51:00",
          "2024-03-22T10:54:00",
          "2024-03-22T10:57:00",
          "2024-03-22T11:00:00",
          "2024-03-22T11:03:00",
          "2024-03-22T11:06:00",
          "2024-03-22T11:09:00",
          "2024-03-22T11:12:00",
          "2024-03-22T11:15:00",
          "2024-03-22T11:18:00",
          "2024-03-22T11:21:00",
          "2024-03-22T11:24:00",
          "2024-03-22T11:27:00",
          "2024-03-22T11:30:00",
          "2024-03-22T11:33:00",
          "2024-03-22T11:36:00",
          "2024-03-22T11:39:00",
          "2024-03-22T11:42:00",
          "2024-03-22T11:45:00",
          "2024-03-22T11:48:00",
          "2024-03-22T11:51:00",
          "2024-03-22T11:54:00",
          "2024-03-22T11:57:00",
          "2024-03-22T12:00:00",
          "2024-03-22T12:03:00",
          "2024-03-22T12:06:00",
          "2024-03-22T12:09:00",
          "2024-03-22T12:12:00",
          "2024-03-22T12:15:00",
          "2024-03-22T12:18:00",
          "2024-03-22T12:21:00",
          "2024-03-22T12:24:00",
          "2024-03-22T12:27:00",
          "2024-03-22T12:30:00",
          "2024-03-22T12:33:00",
          "2024-03-22T12:36:00",
          "2024-03-22T12:39:00",
          "2024-03-22T12:42:00",
          "2024-03-22T12:45:00",
          "2024-03-22T12:48:00",
          "2024-03-22T12:51:00",
          "2024-03-22T12:54:00",
          "2024-03-22T12:57:00",
          "2024-03-22T13:00:00",
          "2024-03-22T13:03:00",
          "2024-03-22T13:06:00",
          "2024-03-22T13:09:00",
          "2024-03-22T13:12:00",
          "2024-03-22T13:15:00",
          "2024-03-22T13:18:00",
          "2024-03-22T13:21:00",
          "2024-03-22T13:24:00",
          "2024-03-22T13:27:00",
          "2024-03-22T13:30:00",
          "2024-03-22T13:33:00",
          "2024-03-22T13:36:00",
          "2024-03-22T13:39:00",
          "2024-03-22T13:42:00",
          "2024-03-22T13:45:00",
          "2024-03-22T13:48:00",
          "2024-03-22T13:51:00",
          "2024-03-22T13:54:00",
          "2024-03-22T13:57:00",
          "2024-03-22T14:00:00",
          "2024-03-22T14:03:00",
          "2024-03-22T14:06:00",
          "2024-03-22T14:09:00",
          "2024-03-22T14:12:00",
          "2024-03-22T14:15:00",
          "2024-03-22T14:18:00",
          "2024-03-22T14:21:00",
          "2024-03-22T14:24:00",
          "2024-03-22T14:27:00",
          "2024-03-22T14:30:00",
          "2024-03-22T14:33:00",
          "2024-03-22T14:36:00",
          "2024-03-22T14:39:00",
          "2024-03-22T14:42:00",
          "2024-03-22T14:45:00",
          "2024-03-22T14:48:00",
          "2024-03-22T14:51:00",
          "2024-03-22T14:54:00",
          "2024-03-22T14:57:00",
          "2024-03-22T15:00:00",
          "2024-03-22T15:03:00",
          "2024-03-22T15:06:00",
          "2024-03-22T15:09:00",
          "2024-03-22T15:12:00",
          "2024-03-22T15:15:00",
          "2024-03-22T15:18:00",
          "2024-03-22T15:21:00",
          "2024-03-22T15:24:00",
          "2024-03-22T15:27:00"
         ],
         "xaxis": "x",
         "y": [
          319680,
          1444785,
          2247450,
          2747070,
          2859525,
          2722290,
          3177945,
          3498135,
          4151550,
          4556445,
          4538700,
          4012950,
          4228710,
          4363455,
          4538595,
          4923870,
          5060655,
          5231115,
          5347320,
          5519895,
          5675985,
          5848005,
          6024615,
          6137985,
          6422370,
          6715770,
          6897075,
          6989325,
          7246800,
          7515240,
          7621410,
          7681920,
          7790910,
          7827435,
          7884000,
          8004090,
          7990230,
          8039790,
          8086830,
          8073825,
          8182380,
          8263920,
          8241900,
          8221740,
          8249640,
          8337315,
          8279985,
          8347230,
          8418570,
          8442990,
          8517555,
          8600550,
          8718375,
          8761725,
          8814855,
          8761560,
          8782215,
          8728665,
          8788545,
          8850225,
          8856375,
          8871165,
          8735250,
          8636400,
          8640885,
          8620170,
          8577615,
          8594700,
          8579820,
          8553360,
          8584590,
          8604210,
          8597580,
          8488410,
          8491545,
          8564700,
          8367945,
          8461065,
          8523045,
          8548680,
          8586465,
          8616690,
          8628075,
          8663895,
          8671500,
          8758155,
          8720655,
          8790420,
          8727840,
          8717010,
          8821860,
          8854905,
          8966520,
          8852535,
          8824965,
          8796975,
          8779530,
          8777040,
          8705025,
          8657775,
          8594820,
          8582610,
          8721480,
          8646210,
          8681070,
          8731200,
          8747865,
          8704110,
          8613600,
          8575335,
          8308305,
          8155830,
          7889925,
          7779390,
          7773210,
          7432620,
          7303980,
          7129995,
          6848490,
          6452610,
          5768880,
          5497530,
          5014980,
          4424715,
          3860880
         ],
         "yaxis": "y"
        }
       ],
       "layout": {
        "hovermode": "x unified",
        "legend": {
         "title": {
          "text": "strike_ce_pe"
         },
         "tracegroupgap": 0
        },
        "template": {
         "data": {
          "bar": [
           {
            "error_x": {
             "color": "#2a3f5f"
            },
            "error_y": {
             "color": "#2a3f5f"
            },
            "marker": {
             "line": {
              "color": "#E5ECF6",
              "width": 0.5
             },
             "pattern": {
              "fillmode": "overlay",
              "size": 10,
              "solidity": 0.2
             }
            },
            "type": "bar"
           }
          ],
          "barpolar": [
           {
            "marker": {
             "line": {
              "color": "#E5ECF6",
              "width": 0.5
             },
             "pattern": {
              "fillmode": "overlay",
              "size": 10,
              "solidity": 0.2
             }
            },
            "type": "barpolar"
           }
          ],
          "carpet": [
           {
            "aaxis": {
             "endlinecolor": "#2a3f5f",
             "gridcolor": "white",
             "linecolor": "white",
             "minorgridcolor": "white",
             "startlinecolor": "#2a3f5f"
            },
            "baxis": {
             "endlinecolor": "#2a3f5f",
             "gridcolor": "white",
             "linecolor": "white",
             "minorgridcolor": "white",
             "startlinecolor": "#2a3f5f"
            },
            "type": "carpet"
           }
          ],
          "choropleth": [
           {
            "colorbar": {
             "outlinewidth": 0,
             "ticks": ""
            },
            "type": "choropleth"
           }
          ],
          "contour": [
           {
            "colorbar": {
             "outlinewidth": 0,
             "ticks": ""
            },
            "colorscale": [
             [
              0,
              "#0d0887"
             ],
             [
              0.1111111111111111,
              "#46039f"
             ],
             [
              0.2222222222222222,
              "#7201a8"
             ],
             [
              0.3333333333333333,
              "#9c179e"
             ],
             [
              0.4444444444444444,
              "#bd3786"
             ],
             [
              0.5555555555555556,
              "#d8576b"
             ],
             [
              0.6666666666666666,
              "#ed7953"
             ],
             [
              0.7777777777777778,
              "#fb9f3a"
             ],
             [
              0.8888888888888888,
              "#fdca26"
             ],
             [
              1,
              "#f0f921"
             ]
            ],
            "type": "contour"
           }
          ],
          "contourcarpet": [
           {
            "colorbar": {
             "outlinewidth": 0,
             "ticks": ""
            },
            "type": "contourcarpet"
           }
          ],
          "heatmap": [
           {
            "colorbar": {
             "outlinewidth": 0,
             "ticks": ""
            },
            "colorscale": [
             [
              0,
              "#0d0887"
             ],
             [
              0.1111111111111111,
              "#46039f"
             ],
             [
              0.2222222222222222,
              "#7201a8"
             ],
             [
              0.3333333333333333,
              "#9c179e"
             ],
             [
              0.4444444444444444,
              "#bd3786"
             ],
             [
              0.5555555555555556,
              "#d8576b"
             ],
             [
              0.6666666666666666,
              "#ed7953"
             ],
             [
              0.7777777777777778,
              "#fb9f3a"
             ],
             [
              0.8888888888888888,
              "#fdca26"
             ],
             [
              1,
              "#f0f921"
             ]
            ],
            "type": "heatmap"
           }
          ],
          "heatmapgl": [
           {
            "colorbar": {
             "outlinewidth": 0,
             "ticks": ""
            },
            "colorscale": [
             [
              0,
              "#0d0887"
             ],
             [
              0.1111111111111111,
              "#46039f"
             ],
             [
              0.2222222222222222,
              "#7201a8"
             ],
             [
              0.3333333333333333,
              "#9c179e"
             ],
             [
              0.4444444444444444,
              "#bd3786"
             ],
             [
              0.5555555555555556,
              "#d8576b"
             ],
             [
              0.6666666666666666,
              "#ed7953"
             ],
             [
              0.7777777777777778,
              "#fb9f3a"
             ],
             [
              0.8888888888888888,
              "#fdca26"
             ],
             [
              1,
              "#f0f921"
             ]
            ],
            "type": "heatmapgl"
           }
          ],
          "histogram": [
           {
            "marker": {
             "pattern": {
              "fillmode": "overlay",
              "size": 10,
              "solidity": 0.2
             }
            },
            "type": "histogram"
           }
          ],
          "histogram2d": [
           {
            "colorbar": {
             "outlinewidth": 0,
             "ticks": ""
            },
            "colorscale": [
             [
              0,
              "#0d0887"
             ],
             [
              0.1111111111111111,
              "#46039f"
             ],
             [
              0.2222222222222222,
              "#7201a8"
             ],
             [
              0.3333333333333333,
              "#9c179e"
             ],
             [
              0.4444444444444444,
              "#bd3786"
             ],
             [
              0.5555555555555556,
              "#d8576b"
             ],
             [
              0.6666666666666666,
              "#ed7953"
             ],
             [
              0.7777777777777778,
              "#fb9f3a"
             ],
             [
              0.8888888888888888,
              "#fdca26"
             ],
             [
              1,
              "#f0f921"
             ]
            ],
            "type": "histogram2d"
           }
          ],
          "histogram2dcontour": [
           {
            "colorbar": {
             "outlinewidth": 0,
             "ticks": ""
            },
            "colorscale": [
             [
              0,
              "#0d0887"
             ],
             [
              0.1111111111111111,
              "#46039f"
             ],
             [
              0.2222222222222222,
              "#7201a8"
             ],
             [
              0.3333333333333333,
              "#9c179e"
             ],
             [
              0.4444444444444444,
              "#bd3786"
             ],
             [
              0.5555555555555556,
              "#d8576b"
             ],
             [
              0.6666666666666666,
              "#ed7953"
             ],
             [
              0.7777777777777778,
              "#fb9f3a"
             ],
             [
              0.8888888888888888,
              "#fdca26"
             ],
             [
              1,
              "#f0f921"
             ]
            ],
            "type": "histogram2dcontour"
           }
          ],
          "mesh3d": [
           {
            "colorbar": {
             "outlinewidth": 0,
             "ticks": ""
            },
            "type": "mesh3d"
           }
          ],
          "parcoords": [
           {
            "line": {
             "colorbar": {
              "outlinewidth": 0,
              "ticks": ""
             }
            },
            "type": "parcoords"
           }
          ],
          "pie": [
           {
            "automargin": true,
            "type": "pie"
           }
          ],
          "scatter": [
           {
            "fillpattern": {
             "fillmode": "overlay",
             "size": 10,
             "solidity": 0.2
            },
            "type": "scatter"
           }
          ],
          "scatter3d": [
           {
            "line": {
             "colorbar": {
              "outlinewidth": 0,
              "ticks": ""
             }
            },
            "marker": {
             "colorbar": {
              "outlinewidth": 0,
              "ticks": ""
             }
            },
            "type": "scatter3d"
           }
          ],
          "scattercarpet": [
           {
            "marker": {
             "colorbar": {
              "outlinewidth": 0,
              "ticks": ""
             }
            },
            "type": "scattercarpet"
           }
          ],
          "scattergeo": [
           {
            "marker": {
             "colorbar": {
              "outlinewidth": 0,
              "ticks": ""
             }
            },
            "type": "scattergeo"
           }
          ],
          "scattergl": [
           {
            "marker": {
             "colorbar": {
              "outlinewidth": 0,
              "ticks": ""
             }
            },
            "type": "scattergl"
           }
          ],
          "scattermapbox": [
           {
            "marker": {
             "colorbar": {
              "outlinewidth": 0,
              "ticks": ""
             }
            },
            "type": "scattermapbox"
           }
          ],
          "scatterpolar": [
           {
            "marker": {
             "colorbar": {
              "outlinewidth": 0,
              "ticks": ""
             }
            },
            "type": "scatterpolar"
           }
          ],
          "scatterpolargl": [
           {
            "marker": {
             "colorbar": {
              "outlinewidth": 0,
              "ticks": ""
             }
            },
            "type": "scatterpolargl"
           }
          ],
          "scatterternary": [
           {
            "marker": {
             "colorbar": {
              "outlinewidth": 0,
              "ticks": ""
             }
            },
            "type": "scatterternary"
           }
          ],
          "surface": [
           {
            "colorbar": {
             "outlinewidth": 0,
             "ticks": ""
            },
            "colorscale": [
             [
              0,
              "#0d0887"
             ],
             [
              0.1111111111111111,
              "#46039f"
             ],
             [
              0.2222222222222222,
              "#7201a8"
             ],
             [
              0.3333333333333333,
              "#9c179e"
             ],
             [
              0.4444444444444444,
              "#bd3786"
             ],
             [
              0.5555555555555556,
              "#d8576b"
             ],
             [
              0.6666666666666666,
              "#ed7953"
             ],
             [
              0.7777777777777778,
              "#fb9f3a"
             ],
             [
              0.8888888888888888,
              "#fdca26"
             ],
             [
              1,
              "#f0f921"
             ]
            ],
            "type": "surface"
           }
          ],
          "table": [
           {
            "cells": {
             "fill": {
              "color": "#EBF0F8"
             },
             "line": {
              "color": "white"
             }
            },
            "header": {
             "fill": {
              "color": "#C8D4E3"
             },
             "line": {
              "color": "white"
             }
            },
            "type": "table"
           }
          ]
         },
         "layout": {
          "annotationdefaults": {
           "arrowcolor": "#2a3f5f",
           "arrowhead": 0,
           "arrowwidth": 1
          },
          "autotypenumbers": "strict",
          "coloraxis": {
           "colorbar": {
            "outlinewidth": 0,
            "ticks": ""
           }
          },
          "colorscale": {
           "diverging": [
            [
             0,
             "#8e0152"
            ],
            [
             0.1,
             "#c51b7d"
            ],
            [
             0.2,
             "#de77ae"
            ],
            [
             0.3,
             "#f1b6da"
            ],
            [
             0.4,
             "#fde0ef"
            ],
            [
             0.5,
             "#f7f7f7"
            ],
            [
             0.6,
             "#e6f5d0"
            ],
            [
             0.7,
             "#b8e186"
            ],
            [
             0.8,
             "#7fbc41"
            ],
            [
             0.9,
             "#4d9221"
            ],
            [
             1,
             "#276419"
            ]
           ],
           "sequential": [
            [
             0,
             "#0d0887"
            ],
            [
             0.1111111111111111,
             "#46039f"
            ],
            [
             0.2222222222222222,
             "#7201a8"
            ],
            [
             0.3333333333333333,
             "#9c179e"
            ],
            [
             0.4444444444444444,
             "#bd3786"
            ],
            [
             0.5555555555555556,
             "#d8576b"
            ],
            [
             0.6666666666666666,
             "#ed7953"
            ],
            [
             0.7777777777777778,
             "#fb9f3a"
            ],
            [
             0.8888888888888888,
             "#fdca26"
            ],
            [
             1,
             "#f0f921"
            ]
           ],
           "sequentialminus": [
            [
             0,
             "#0d0887"
            ],
            [
             0.1111111111111111,
             "#46039f"
            ],
            [
             0.2222222222222222,
             "#7201a8"
            ],
            [
             0.3333333333333333,
             "#9c179e"
            ],
            [
             0.4444444444444444,
             "#bd3786"
            ],
            [
             0.5555555555555556,
             "#d8576b"
            ],
            [
             0.6666666666666666,
             "#ed7953"
            ],
            [
             0.7777777777777778,
             "#fb9f3a"
            ],
            [
             0.8888888888888888,
             "#fdca26"
            ],
            [
             1,
             "#f0f921"
            ]
           ]
          },
          "colorway": [
           "#636efa",
           "#EF553B",
           "#00cc96",
           "#ab63fa",
           "#FFA15A",
           "#19d3f3",
           "#FF6692",
           "#B6E880",
           "#FF97FF",
           "#FECB52"
          ],
          "font": {
           "color": "#2a3f5f"
          },
          "geo": {
           "bgcolor": "white",
           "lakecolor": "white",
           "landcolor": "#E5ECF6",
           "showlakes": true,
           "showland": true,
           "subunitcolor": "white"
          },
          "hoverlabel": {
           "align": "left"
          },
          "hovermode": "closest",
          "mapbox": {
           "style": "light"
          },
          "paper_bgcolor": "white",
          "plot_bgcolor": "#E5ECF6",
          "polar": {
           "angularaxis": {
            "gridcolor": "white",
            "linecolor": "white",
            "ticks": ""
           },
           "bgcolor": "#E5ECF6",
           "radialaxis": {
            "gridcolor": "white",
            "linecolor": "white",
            "ticks": ""
           }
          },
          "scene": {
           "xaxis": {
            "backgroundcolor": "#E5ECF6",
            "gridcolor": "white",
            "gridwidth": 2,
            "linecolor": "white",
            "showbackground": true,
            "ticks": "",
            "zerolinecolor": "white"
           },
           "yaxis": {
            "backgroundcolor": "#E5ECF6",
            "gridcolor": "white",
            "gridwidth": 2,
            "linecolor": "white",
            "showbackground": true,
            "ticks": "",
            "zerolinecolor": "white"
           },
           "zaxis": {
            "backgroundcolor": "#E5ECF6",
            "gridcolor": "white",
            "gridwidth": 2,
            "linecolor": "white",
            "showbackground": true,
            "ticks": "",
            "zerolinecolor": "white"
           }
          },
          "shapedefaults": {
           "line": {
            "color": "#2a3f5f"
           }
          },
          "ternary": {
           "aaxis": {
            "gridcolor": "white",
            "linecolor": "white",
            "ticks": ""
           },
           "baxis": {
            "gridcolor": "white",
            "linecolor": "white",
            "ticks": ""
           },
           "bgcolor": "#E5ECF6",
           "caxis": {
            "gridcolor": "white",
            "linecolor": "white",
            "ticks": ""
           }
          },
          "title": {
           "x": 0.05
          },
          "xaxis": {
           "automargin": true,
           "gridcolor": "white",
           "linecolor": "white",
           "ticks": "",
           "title": {
            "standoff": 15
           },
           "zerolinecolor": "white",
           "zerolinewidth": 2
          },
          "yaxis": {
           "automargin": true,
           "gridcolor": "white",
           "linecolor": "white",
           "ticks": "",
           "title": {
            "standoff": 15
           },
           "zerolinecolor": "white",
           "zerolinewidth": 2
          }
         }
        },
        "title": {
         "text": "OI Pulse"
        },
        "xaxis": {
         "anchor": "y",
         "domain": [
          0,
          1
         ],
         "title": {
          "text": "date"
         }
        },
        "yaxis": {
         "anchor": "x",
         "domain": [
          0,
          1
         ],
         "title": {
          "text": "OI"
         }
        }
       }
      }
     },
     "metadata": {},
     "output_type": "display_data"
    }
   ],
   "source": [
    "import plotly.express as px\n",
    "import pandas as pd\n",
    "\n",
    "# Assuming df_bn_oi_data is your DataFrame with the necessary data\n",
    "# df_pivot = df_bn_oi_data.groupby(['date', 'strike_ce_pe'])['oi'].sum().reset_index().pivot(index='date', columns='strike_ce_pe', values='oi')\n",
    "\n",
    "# Reset index to make 'date' a column again, which is necessary for Plotly\n",
    "\n",
    "\n",
    "# Plotting with Plotly\n",
    "fig = px.line(df_pivot, x='date', y=df_pivot.columns,\n",
    "              title='OI Pulse',\n",
    "              labels={'value': 'OI', 'variable': 'Option Type'})\n",
    "\n",
    "# Adding more interactive features like hover information\n",
    "fig.update_traces(mode='lines+markers')\n",
    "fig.update_layout(hovermode='x unified')\n",
    "\n",
    "fig.show()\n"
   ]
  },
  {
   "cell_type": "code",
   "execution_count": 73,
   "metadata": {},
   "outputs": [
    {
     "data": {
      "text/html": [
       "<div>\n",
       "<style scoped>\n",
       "    .dataframe tbody tr th:only-of-type {\n",
       "        vertical-align: middle;\n",
       "    }\n",
       "\n",
       "    .dataframe tbody tr th {\n",
       "        vertical-align: top;\n",
       "    }\n",
       "\n",
       "    .dataframe thead th {\n",
       "        text-align: right;\n",
       "    }\n",
       "</style>\n",
       "<table border=\"1\" class=\"dataframe\">\n",
       "  <thead>\n",
       "    <tr style=\"text-align: right;\">\n",
       "      <th>strike_ce_pe</th>\n",
       "      <th>date</th>\n",
       "      <th>CE</th>\n",
       "      <th>PE</th>\n",
       "    </tr>\n",
       "  </thead>\n",
       "  <tbody>\n",
       "    <tr>\n",
       "      <th>0</th>\n",
       "      <td>2024-03-22 09:15:00</td>\n",
       "      <td>12028170.0</td>\n",
       "      <td>8963310.0</td>\n",
       "    </tr>\n",
       "    <tr>\n",
       "      <th>1</th>\n",
       "      <td>2024-03-22 09:18:00</td>\n",
       "      <td>13238385.0</td>\n",
       "      <td>10088415.0</td>\n",
       "    </tr>\n",
       "    <tr>\n",
       "      <th>2</th>\n",
       "      <td>2024-03-22 09:21:00</td>\n",
       "      <td>13866630.0</td>\n",
       "      <td>10891080.0</td>\n",
       "    </tr>\n",
       "    <tr>\n",
       "      <th>3</th>\n",
       "      <td>2024-03-22 09:24:00</td>\n",
       "      <td>14345490.0</td>\n",
       "      <td>11390700.0</td>\n",
       "    </tr>\n",
       "    <tr>\n",
       "      <th>4</th>\n",
       "      <td>2024-03-22 09:27:00</td>\n",
       "      <td>14617845.0</td>\n",
       "      <td>11503155.0</td>\n",
       "    </tr>\n",
       "    <tr>\n",
       "      <th>...</th>\n",
       "      <td>...</td>\n",
       "      <td>...</td>\n",
       "      <td>...</td>\n",
       "    </tr>\n",
       "    <tr>\n",
       "      <th>120</th>\n",
       "      <td>2024-03-22 15:15:00</td>\n",
       "      <td>12484230.0</td>\n",
       "      <td>14412510.0</td>\n",
       "    </tr>\n",
       "    <tr>\n",
       "      <th>121</th>\n",
       "      <td>2024-03-22 15:18:00</td>\n",
       "      <td>12233190.0</td>\n",
       "      <td>14141160.0</td>\n",
       "    </tr>\n",
       "    <tr>\n",
       "      <th>122</th>\n",
       "      <td>2024-03-22 15:21:00</td>\n",
       "      <td>11942310.0</td>\n",
       "      <td>13658610.0</td>\n",
       "    </tr>\n",
       "    <tr>\n",
       "      <th>123</th>\n",
       "      <td>2024-03-22 15:24:00</td>\n",
       "      <td>11577585.0</td>\n",
       "      <td>13068345.0</td>\n",
       "    </tr>\n",
       "    <tr>\n",
       "      <th>124</th>\n",
       "      <td>2024-03-22 15:27:00</td>\n",
       "      <td>11161710.0</td>\n",
       "      <td>12504510.0</td>\n",
       "    </tr>\n",
       "  </tbody>\n",
       "</table>\n",
       "<p>125 rows × 3 columns</p>\n",
       "</div>"
      ],
      "text/plain": [
       "strike_ce_pe                date          CE          PE\n",
       "0            2024-03-22 09:15:00  12028170.0   8963310.0\n",
       "1            2024-03-22 09:18:00  13238385.0  10088415.0\n",
       "2            2024-03-22 09:21:00  13866630.0  10891080.0\n",
       "3            2024-03-22 09:24:00  14345490.0  11390700.0\n",
       "4            2024-03-22 09:27:00  14617845.0  11503155.0\n",
       "..                           ...         ...         ...\n",
       "120          2024-03-22 15:15:00  12484230.0  14412510.0\n",
       "121          2024-03-22 15:18:00  12233190.0  14141160.0\n",
       "122          2024-03-22 15:21:00  11942310.0  13658610.0\n",
       "123          2024-03-22 15:24:00  11577585.0  13068345.0\n",
       "124          2024-03-22 15:27:00  11161710.0  12504510.0\n",
       "\n",
       "[125 rows x 3 columns]"
      ]
     },
     "execution_count": 73,
     "metadata": {},
     "output_type": "execute_result"
    }
   ],
   "source": [
    "df_pivot"
   ]
  },
  {
   "cell_type": "code",
   "execution_count": 58,
   "metadata": {},
   "outputs": [
    {
     "data": {
      "application/vnd.plotly.v1+json": {
       "config": {
        "plotlyServerURL": "https://plot.ly"
       },
       "data": [
        {
         "mode": "lines+markers",
         "name": "Change in Call OI",
         "type": "scatter",
         "x": [
          "2024-03-21T09:15:00",
          "2024-03-21T09:18:00",
          "2024-03-21T09:21:00",
          "2024-03-21T09:24:00",
          "2024-03-21T09:27:00",
          "2024-03-21T09:30:00",
          "2024-03-21T09:33:00",
          "2024-03-21T09:36:00",
          "2024-03-21T09:39:00",
          "2024-03-21T09:42:00",
          "2024-03-21T09:45:00",
          "2024-03-21T09:48:00",
          "2024-03-21T09:51:00",
          "2024-03-21T09:54:00",
          "2024-03-21T09:57:00",
          "2024-03-21T10:00:00",
          "2024-03-21T10:03:00",
          "2024-03-21T10:06:00",
          "2024-03-21T10:09:00",
          "2024-03-21T10:12:00",
          "2024-03-21T10:15:00",
          "2024-03-21T10:18:00",
          "2024-03-21T10:21:00",
          "2024-03-21T10:24:00",
          "2024-03-21T10:27:00",
          "2024-03-21T10:30:00",
          "2024-03-21T10:33:00",
          "2024-03-21T10:36:00",
          "2024-03-21T10:39:00",
          "2024-03-21T10:42:00",
          "2024-03-21T10:45:00",
          "2024-03-21T10:48:00",
          "2024-03-21T10:51:00",
          "2024-03-21T10:54:00",
          "2024-03-21T10:57:00",
          "2024-03-21T11:00:00",
          "2024-03-21T11:03:00",
          "2024-03-21T11:06:00",
          "2024-03-21T11:09:00",
          "2024-03-21T11:12:00",
          "2024-03-21T11:15:00",
          "2024-03-21T11:18:00",
          "2024-03-21T11:21:00",
          "2024-03-21T11:24:00",
          "2024-03-21T11:27:00",
          "2024-03-21T11:30:00",
          "2024-03-21T11:33:00",
          "2024-03-21T11:36:00",
          "2024-03-21T11:39:00",
          "2024-03-21T11:42:00",
          "2024-03-21T11:45:00",
          "2024-03-21T11:48:00",
          "2024-03-21T11:51:00",
          "2024-03-21T11:54:00",
          "2024-03-21T11:57:00",
          "2024-03-21T12:00:00",
          "2024-03-21T12:03:00",
          "2024-03-21T12:06:00",
          "2024-03-21T12:09:00",
          "2024-03-21T12:12:00",
          "2024-03-21T12:15:00",
          "2024-03-21T12:18:00",
          "2024-03-21T12:21:00",
          "2024-03-21T12:24:00",
          "2024-03-21T12:27:00",
          "2024-03-21T12:30:00",
          "2024-03-21T12:33:00",
          "2024-03-21T12:36:00",
          "2024-03-21T12:39:00",
          "2024-03-21T12:42:00",
          "2024-03-21T12:45:00",
          "2024-03-21T12:48:00",
          "2024-03-21T12:51:00",
          "2024-03-21T12:54:00",
          "2024-03-21T12:57:00",
          "2024-03-21T13:00:00",
          "2024-03-21T13:03:00",
          "2024-03-21T13:06:00",
          "2024-03-21T13:09:00",
          "2024-03-21T13:12:00",
          "2024-03-21T13:15:00",
          "2024-03-21T13:18:00",
          "2024-03-21T13:21:00",
          "2024-03-21T13:24:00",
          "2024-03-21T13:27:00",
          "2024-03-21T13:30:00",
          "2024-03-21T13:33:00",
          "2024-03-21T13:36:00",
          "2024-03-21T13:39:00",
          "2024-03-21T13:42:00",
          "2024-03-21T13:45:00",
          "2024-03-21T13:48:00",
          "2024-03-21T13:51:00",
          "2024-03-21T13:54:00",
          "2024-03-21T13:57:00",
          "2024-03-21T14:00:00",
          "2024-03-21T14:03:00",
          "2024-03-21T14:06:00",
          "2024-03-21T14:09:00",
          "2024-03-21T14:12:00",
          "2024-03-21T14:15:00",
          "2024-03-21T14:18:00",
          "2024-03-21T14:21:00",
          "2024-03-21T14:24:00",
          "2024-03-21T14:27:00",
          "2024-03-21T14:30:00",
          "2024-03-21T14:33:00",
          "2024-03-21T14:36:00",
          "2024-03-21T14:39:00",
          "2024-03-21T14:42:00",
          "2024-03-21T14:45:00",
          "2024-03-21T14:48:00",
          "2024-03-21T14:51:00",
          "2024-03-21T14:54:00",
          "2024-03-21T14:57:00",
          "2024-03-21T15:00:00",
          "2024-03-21T15:03:00",
          "2024-03-21T15:06:00",
          "2024-03-21T15:09:00",
          "2024-03-21T15:12:00",
          "2024-03-21T15:15:00",
          "2024-03-21T15:18:00",
          "2024-03-21T15:21:00",
          "2024-03-21T15:24:00",
          "2024-03-21T15:27:00"
         ],
         "y": [
          null,
          677085,
          505035,
          578010,
          464385,
          471450,
          435390,
          123435,
          184425,
          190995,
          177690,
          -1035,
          117450,
          48990,
          3465,
          248565,
          62160,
          -745320,
          -163335,
          -95565,
          -95640,
          37965,
          -251520,
          198195,
          229005,
          308385,
          406860,
          212490,
          120045,
          207960,
          318270,
          -36405,
          51135,
          54360,
          -23985,
          28935,
          48585,
          -127380,
          86415,
          74700,
          18465,
          2115,
          25125,
          18675,
          19395,
          52305,
          -53430,
          22200,
          -5640,
          61380,
          51720,
          28245,
          122955,
          9510,
          126510,
          77250,
          70050,
          136860,
          204360,
          241200,
          401580,
          102060,
          199095,
          45915,
          96150,
          129975,
          -182415,
          -121815,
          -690,
          -63930,
          75945,
          -77160,
          -29895,
          55440,
          42255,
          107145,
          12075,
          54195,
          -50550,
          37935,
          78045,
          -118140,
          25755,
          -9090,
          -6450,
          60825,
          -33030,
          -2730,
          11310,
          -68805,
          72315,
          40950,
          4830,
          -8535,
          87480,
          92100,
          -1665,
          -20715,
          22875,
          54345,
          30060,
          -67905,
          53325,
          40380,
          -66810,
          -45405,
          101865,
          52695,
          -3450,
          16815,
          -82515,
          -58605,
          -137970,
          -121305,
          -59175,
          -62595,
          18240,
          -148815,
          -171720,
          -92310,
          -269145,
          -194565,
          -402690,
          -331920,
          -193890
         ]
        },
        {
         "mode": "lines+markers",
         "name": "Change in Put OI",
         "type": "scatter",
         "x": [
          "2024-03-21T09:15:00",
          "2024-03-21T09:18:00",
          "2024-03-21T09:21:00",
          "2024-03-21T09:24:00",
          "2024-03-21T09:27:00",
          "2024-03-21T09:30:00",
          "2024-03-21T09:33:00",
          "2024-03-21T09:36:00",
          "2024-03-21T09:39:00",
          "2024-03-21T09:42:00",
          "2024-03-21T09:45:00",
          "2024-03-21T09:48:00",
          "2024-03-21T09:51:00",
          "2024-03-21T09:54:00",
          "2024-03-21T09:57:00",
          "2024-03-21T10:00:00",
          "2024-03-21T10:03:00",
          "2024-03-21T10:06:00",
          "2024-03-21T10:09:00",
          "2024-03-21T10:12:00",
          "2024-03-21T10:15:00",
          "2024-03-21T10:18:00",
          "2024-03-21T10:21:00",
          "2024-03-21T10:24:00",
          "2024-03-21T10:27:00",
          "2024-03-21T10:30:00",
          "2024-03-21T10:33:00",
          "2024-03-21T10:36:00",
          "2024-03-21T10:39:00",
          "2024-03-21T10:42:00",
          "2024-03-21T10:45:00",
          "2024-03-21T10:48:00",
          "2024-03-21T10:51:00",
          "2024-03-21T10:54:00",
          "2024-03-21T10:57:00",
          "2024-03-21T11:00:00",
          "2024-03-21T11:03:00",
          "2024-03-21T11:06:00",
          "2024-03-21T11:09:00",
          "2024-03-21T11:12:00",
          "2024-03-21T11:15:00",
          "2024-03-21T11:18:00",
          "2024-03-21T11:21:00",
          "2024-03-21T11:24:00",
          "2024-03-21T11:27:00",
          "2024-03-21T11:30:00",
          "2024-03-21T11:33:00",
          "2024-03-21T11:36:00",
          "2024-03-21T11:39:00",
          "2024-03-21T11:42:00",
          "2024-03-21T11:45:00",
          "2024-03-21T11:48:00",
          "2024-03-21T11:51:00",
          "2024-03-21T11:54:00",
          "2024-03-21T11:57:00",
          "2024-03-21T12:00:00",
          "2024-03-21T12:03:00",
          "2024-03-21T12:06:00",
          "2024-03-21T12:09:00",
          "2024-03-21T12:12:00",
          "2024-03-21T12:15:00",
          "2024-03-21T12:18:00",
          "2024-03-21T12:21:00",
          "2024-03-21T12:24:00",
          "2024-03-21T12:27:00",
          "2024-03-21T12:30:00",
          "2024-03-21T12:33:00",
          "2024-03-21T12:36:00",
          "2024-03-21T12:39:00",
          "2024-03-21T12:42:00",
          "2024-03-21T12:45:00",
          "2024-03-21T12:48:00",
          "2024-03-21T12:51:00",
          "2024-03-21T12:54:00",
          "2024-03-21T12:57:00",
          "2024-03-21T13:00:00",
          "2024-03-21T13:03:00",
          "2024-03-21T13:06:00",
          "2024-03-21T13:09:00",
          "2024-03-21T13:12:00",
          "2024-03-21T13:15:00",
          "2024-03-21T13:18:00",
          "2024-03-21T13:21:00",
          "2024-03-21T13:24:00",
          "2024-03-21T13:27:00",
          "2024-03-21T13:30:00",
          "2024-03-21T13:33:00",
          "2024-03-21T13:36:00",
          "2024-03-21T13:39:00",
          "2024-03-21T13:42:00",
          "2024-03-21T13:45:00",
          "2024-03-21T13:48:00",
          "2024-03-21T13:51:00",
          "2024-03-21T13:54:00",
          "2024-03-21T13:57:00",
          "2024-03-21T14:00:00",
          "2024-03-21T14:03:00",
          "2024-03-21T14:06:00",
          "2024-03-21T14:09:00",
          "2024-03-21T14:12:00",
          "2024-03-21T14:15:00",
          "2024-03-21T14:18:00",
          "2024-03-21T14:21:00",
          "2024-03-21T14:24:00",
          "2024-03-21T14:27:00",
          "2024-03-21T14:30:00",
          "2024-03-21T14:33:00",
          "2024-03-21T14:36:00",
          "2024-03-21T14:39:00",
          "2024-03-21T14:42:00",
          "2024-03-21T14:45:00",
          "2024-03-21T14:48:00",
          "2024-03-21T14:51:00",
          "2024-03-21T14:54:00",
          "2024-03-21T14:57:00",
          "2024-03-21T15:00:00",
          "2024-03-21T15:03:00",
          "2024-03-21T15:06:00",
          "2024-03-21T15:09:00",
          "2024-03-21T15:12:00",
          "2024-03-21T15:15:00",
          "2024-03-21T15:18:00",
          "2024-03-21T15:21:00",
          "2024-03-21T15:24:00",
          "2024-03-21T15:27:00"
         ],
         "y": [
          null,
          963540,
          1303695,
          584415,
          692370,
          397560,
          338715,
          222210,
          292725,
          286860,
          247830,
          179415,
          248820,
          129135,
          123555,
          215730,
          122520,
          233055,
          382905,
          344835,
          469635,
          150945,
          -312705,
          153480,
          63705,
          -198870,
          136365,
          152805,
          103515,
          -87255,
          -212415,
          -47925,
          143445,
          -118470,
          -38685,
          55170,
          -31545,
          -230460,
          95400,
          13725,
          58995,
          126300,
          84855,
          66330,
          -69105,
          39015,
          16275,
          88140,
          -27180,
          68535,
          60345,
          10980,
          41940,
          -91650,
          53160,
          -16305,
          -101295,
          -55245,
          -1030875,
          -324405,
          -475155,
          8880,
          172410,
          -17760,
          45840,
          65445,
          -134880,
          -73965,
          29445,
          -3480,
          124065,
          65730,
          38985,
          78195,
          -101115,
          50205,
          37725,
          6315,
          27825,
          15960,
          -3750,
          51120,
          44130,
          -25395,
          70680,
          -24870,
          11580,
          -85440,
          -14595,
          -6840,
          183900,
          61860,
          59130,
          4845,
          -21810,
          -19560,
          -40770,
          -29565,
          154035,
          2835,
          -38880,
          -5025,
          -50220,
          26415,
          -40740,
          69375,
          -102570,
          23880,
          16035,
          -59805,
          9735,
          52545,
          -40605,
          -78690,
          -18210,
          -107145,
          -47310,
          -187695,
          -96195,
          -96405,
          -263565,
          -169695,
          -351585,
          -416370,
          -369240
         ]
        }
       ],
       "layout": {
        "hovermode": "x unified",
        "template": {
         "data": {
          "bar": [
           {
            "error_x": {
             "color": "#2a3f5f"
            },
            "error_y": {
             "color": "#2a3f5f"
            },
            "marker": {
             "line": {
              "color": "#E5ECF6",
              "width": 0.5
             },
             "pattern": {
              "fillmode": "overlay",
              "size": 10,
              "solidity": 0.2
             }
            },
            "type": "bar"
           }
          ],
          "barpolar": [
           {
            "marker": {
             "line": {
              "color": "#E5ECF6",
              "width": 0.5
             },
             "pattern": {
              "fillmode": "overlay",
              "size": 10,
              "solidity": 0.2
             }
            },
            "type": "barpolar"
           }
          ],
          "carpet": [
           {
            "aaxis": {
             "endlinecolor": "#2a3f5f",
             "gridcolor": "white",
             "linecolor": "white",
             "minorgridcolor": "white",
             "startlinecolor": "#2a3f5f"
            },
            "baxis": {
             "endlinecolor": "#2a3f5f",
             "gridcolor": "white",
             "linecolor": "white",
             "minorgridcolor": "white",
             "startlinecolor": "#2a3f5f"
            },
            "type": "carpet"
           }
          ],
          "choropleth": [
           {
            "colorbar": {
             "outlinewidth": 0,
             "ticks": ""
            },
            "type": "choropleth"
           }
          ],
          "contour": [
           {
            "colorbar": {
             "outlinewidth": 0,
             "ticks": ""
            },
            "colorscale": [
             [
              0,
              "#0d0887"
             ],
             [
              0.1111111111111111,
              "#46039f"
             ],
             [
              0.2222222222222222,
              "#7201a8"
             ],
             [
              0.3333333333333333,
              "#9c179e"
             ],
             [
              0.4444444444444444,
              "#bd3786"
             ],
             [
              0.5555555555555556,
              "#d8576b"
             ],
             [
              0.6666666666666666,
              "#ed7953"
             ],
             [
              0.7777777777777778,
              "#fb9f3a"
             ],
             [
              0.8888888888888888,
              "#fdca26"
             ],
             [
              1,
              "#f0f921"
             ]
            ],
            "type": "contour"
           }
          ],
          "contourcarpet": [
           {
            "colorbar": {
             "outlinewidth": 0,
             "ticks": ""
            },
            "type": "contourcarpet"
           }
          ],
          "heatmap": [
           {
            "colorbar": {
             "outlinewidth": 0,
             "ticks": ""
            },
            "colorscale": [
             [
              0,
              "#0d0887"
             ],
             [
              0.1111111111111111,
              "#46039f"
             ],
             [
              0.2222222222222222,
              "#7201a8"
             ],
             [
              0.3333333333333333,
              "#9c179e"
             ],
             [
              0.4444444444444444,
              "#bd3786"
             ],
             [
              0.5555555555555556,
              "#d8576b"
             ],
             [
              0.6666666666666666,
              "#ed7953"
             ],
             [
              0.7777777777777778,
              "#fb9f3a"
             ],
             [
              0.8888888888888888,
              "#fdca26"
             ],
             [
              1,
              "#f0f921"
             ]
            ],
            "type": "heatmap"
           }
          ],
          "heatmapgl": [
           {
            "colorbar": {
             "outlinewidth": 0,
             "ticks": ""
            },
            "colorscale": [
             [
              0,
              "#0d0887"
             ],
             [
              0.1111111111111111,
              "#46039f"
             ],
             [
              0.2222222222222222,
              "#7201a8"
             ],
             [
              0.3333333333333333,
              "#9c179e"
             ],
             [
              0.4444444444444444,
              "#bd3786"
             ],
             [
              0.5555555555555556,
              "#d8576b"
             ],
             [
              0.6666666666666666,
              "#ed7953"
             ],
             [
              0.7777777777777778,
              "#fb9f3a"
             ],
             [
              0.8888888888888888,
              "#fdca26"
             ],
             [
              1,
              "#f0f921"
             ]
            ],
            "type": "heatmapgl"
           }
          ],
          "histogram": [
           {
            "marker": {
             "pattern": {
              "fillmode": "overlay",
              "size": 10,
              "solidity": 0.2
             }
            },
            "type": "histogram"
           }
          ],
          "histogram2d": [
           {
            "colorbar": {
             "outlinewidth": 0,
             "ticks": ""
            },
            "colorscale": [
             [
              0,
              "#0d0887"
             ],
             [
              0.1111111111111111,
              "#46039f"
             ],
             [
              0.2222222222222222,
              "#7201a8"
             ],
             [
              0.3333333333333333,
              "#9c179e"
             ],
             [
              0.4444444444444444,
              "#bd3786"
             ],
             [
              0.5555555555555556,
              "#d8576b"
             ],
             [
              0.6666666666666666,
              "#ed7953"
             ],
             [
              0.7777777777777778,
              "#fb9f3a"
             ],
             [
              0.8888888888888888,
              "#fdca26"
             ],
             [
              1,
              "#f0f921"
             ]
            ],
            "type": "histogram2d"
           }
          ],
          "histogram2dcontour": [
           {
            "colorbar": {
             "outlinewidth": 0,
             "ticks": ""
            },
            "colorscale": [
             [
              0,
              "#0d0887"
             ],
             [
              0.1111111111111111,
              "#46039f"
             ],
             [
              0.2222222222222222,
              "#7201a8"
             ],
             [
              0.3333333333333333,
              "#9c179e"
             ],
             [
              0.4444444444444444,
              "#bd3786"
             ],
             [
              0.5555555555555556,
              "#d8576b"
             ],
             [
              0.6666666666666666,
              "#ed7953"
             ],
             [
              0.7777777777777778,
              "#fb9f3a"
             ],
             [
              0.8888888888888888,
              "#fdca26"
             ],
             [
              1,
              "#f0f921"
             ]
            ],
            "type": "histogram2dcontour"
           }
          ],
          "mesh3d": [
           {
            "colorbar": {
             "outlinewidth": 0,
             "ticks": ""
            },
            "type": "mesh3d"
           }
          ],
          "parcoords": [
           {
            "line": {
             "colorbar": {
              "outlinewidth": 0,
              "ticks": ""
             }
            },
            "type": "parcoords"
           }
          ],
          "pie": [
           {
            "automargin": true,
            "type": "pie"
           }
          ],
          "scatter": [
           {
            "fillpattern": {
             "fillmode": "overlay",
             "size": 10,
             "solidity": 0.2
            },
            "type": "scatter"
           }
          ],
          "scatter3d": [
           {
            "line": {
             "colorbar": {
              "outlinewidth": 0,
              "ticks": ""
             }
            },
            "marker": {
             "colorbar": {
              "outlinewidth": 0,
              "ticks": ""
             }
            },
            "type": "scatter3d"
           }
          ],
          "scattercarpet": [
           {
            "marker": {
             "colorbar": {
              "outlinewidth": 0,
              "ticks": ""
             }
            },
            "type": "scattercarpet"
           }
          ],
          "scattergeo": [
           {
            "marker": {
             "colorbar": {
              "outlinewidth": 0,
              "ticks": ""
             }
            },
            "type": "scattergeo"
           }
          ],
          "scattergl": [
           {
            "marker": {
             "colorbar": {
              "outlinewidth": 0,
              "ticks": ""
             }
            },
            "type": "scattergl"
           }
          ],
          "scattermapbox": [
           {
            "marker": {
             "colorbar": {
              "outlinewidth": 0,
              "ticks": ""
             }
            },
            "type": "scattermapbox"
           }
          ],
          "scatterpolar": [
           {
            "marker": {
             "colorbar": {
              "outlinewidth": 0,
              "ticks": ""
             }
            },
            "type": "scatterpolar"
           }
          ],
          "scatterpolargl": [
           {
            "marker": {
             "colorbar": {
              "outlinewidth": 0,
              "ticks": ""
             }
            },
            "type": "scatterpolargl"
           }
          ],
          "scatterternary": [
           {
            "marker": {
             "colorbar": {
              "outlinewidth": 0,
              "ticks": ""
             }
            },
            "type": "scatterternary"
           }
          ],
          "surface": [
           {
            "colorbar": {
             "outlinewidth": 0,
             "ticks": ""
            },
            "colorscale": [
             [
              0,
              "#0d0887"
             ],
             [
              0.1111111111111111,
              "#46039f"
             ],
             [
              0.2222222222222222,
              "#7201a8"
             ],
             [
              0.3333333333333333,
              "#9c179e"
             ],
             [
              0.4444444444444444,
              "#bd3786"
             ],
             [
              0.5555555555555556,
              "#d8576b"
             ],
             [
              0.6666666666666666,
              "#ed7953"
             ],
             [
              0.7777777777777778,
              "#fb9f3a"
             ],
             [
              0.8888888888888888,
              "#fdca26"
             ],
             [
              1,
              "#f0f921"
             ]
            ],
            "type": "surface"
           }
          ],
          "table": [
           {
            "cells": {
             "fill": {
              "color": "#EBF0F8"
             },
             "line": {
              "color": "white"
             }
            },
            "header": {
             "fill": {
              "color": "#C8D4E3"
             },
             "line": {
              "color": "white"
             }
            },
            "type": "table"
           }
          ]
         },
         "layout": {
          "annotationdefaults": {
           "arrowcolor": "#2a3f5f",
           "arrowhead": 0,
           "arrowwidth": 1
          },
          "autotypenumbers": "strict",
          "coloraxis": {
           "colorbar": {
            "outlinewidth": 0,
            "ticks": ""
           }
          },
          "colorscale": {
           "diverging": [
            [
             0,
             "#8e0152"
            ],
            [
             0.1,
             "#c51b7d"
            ],
            [
             0.2,
             "#de77ae"
            ],
            [
             0.3,
             "#f1b6da"
            ],
            [
             0.4,
             "#fde0ef"
            ],
            [
             0.5,
             "#f7f7f7"
            ],
            [
             0.6,
             "#e6f5d0"
            ],
            [
             0.7,
             "#b8e186"
            ],
            [
             0.8,
             "#7fbc41"
            ],
            [
             0.9,
             "#4d9221"
            ],
            [
             1,
             "#276419"
            ]
           ],
           "sequential": [
            [
             0,
             "#0d0887"
            ],
            [
             0.1111111111111111,
             "#46039f"
            ],
            [
             0.2222222222222222,
             "#7201a8"
            ],
            [
             0.3333333333333333,
             "#9c179e"
            ],
            [
             0.4444444444444444,
             "#bd3786"
            ],
            [
             0.5555555555555556,
             "#d8576b"
            ],
            [
             0.6666666666666666,
             "#ed7953"
            ],
            [
             0.7777777777777778,
             "#fb9f3a"
            ],
            [
             0.8888888888888888,
             "#fdca26"
            ],
            [
             1,
             "#f0f921"
            ]
           ],
           "sequentialminus": [
            [
             0,
             "#0d0887"
            ],
            [
             0.1111111111111111,
             "#46039f"
            ],
            [
             0.2222222222222222,
             "#7201a8"
            ],
            [
             0.3333333333333333,
             "#9c179e"
            ],
            [
             0.4444444444444444,
             "#bd3786"
            ],
            [
             0.5555555555555556,
             "#d8576b"
            ],
            [
             0.6666666666666666,
             "#ed7953"
            ],
            [
             0.7777777777777778,
             "#fb9f3a"
            ],
            [
             0.8888888888888888,
             "#fdca26"
            ],
            [
             1,
             "#f0f921"
            ]
           ]
          },
          "colorway": [
           "#636efa",
           "#EF553B",
           "#00cc96",
           "#ab63fa",
           "#FFA15A",
           "#19d3f3",
           "#FF6692",
           "#B6E880",
           "#FF97FF",
           "#FECB52"
          ],
          "font": {
           "color": "#2a3f5f"
          },
          "geo": {
           "bgcolor": "white",
           "lakecolor": "white",
           "landcolor": "#E5ECF6",
           "showlakes": true,
           "showland": true,
           "subunitcolor": "white"
          },
          "hoverlabel": {
           "align": "left"
          },
          "hovermode": "closest",
          "mapbox": {
           "style": "light"
          },
          "paper_bgcolor": "white",
          "plot_bgcolor": "#E5ECF6",
          "polar": {
           "angularaxis": {
            "gridcolor": "white",
            "linecolor": "white",
            "ticks": ""
           },
           "bgcolor": "#E5ECF6",
           "radialaxis": {
            "gridcolor": "white",
            "linecolor": "white",
            "ticks": ""
           }
          },
          "scene": {
           "xaxis": {
            "backgroundcolor": "#E5ECF6",
            "gridcolor": "white",
            "gridwidth": 2,
            "linecolor": "white",
            "showbackground": true,
            "ticks": "",
            "zerolinecolor": "white"
           },
           "yaxis": {
            "backgroundcolor": "#E5ECF6",
            "gridcolor": "white",
            "gridwidth": 2,
            "linecolor": "white",
            "showbackground": true,
            "ticks": "",
            "zerolinecolor": "white"
           },
           "zaxis": {
            "backgroundcolor": "#E5ECF6",
            "gridcolor": "white",
            "gridwidth": 2,
            "linecolor": "white",
            "showbackground": true,
            "ticks": "",
            "zerolinecolor": "white"
           }
          },
          "shapedefaults": {
           "line": {
            "color": "#2a3f5f"
           }
          },
          "ternary": {
           "aaxis": {
            "gridcolor": "white",
            "linecolor": "white",
            "ticks": ""
           },
           "baxis": {
            "gridcolor": "white",
            "linecolor": "white",
            "ticks": ""
           },
           "bgcolor": "#E5ECF6",
           "caxis": {
            "gridcolor": "white",
            "linecolor": "white",
            "ticks": ""
           }
          },
          "title": {
           "x": 0.05
          },
          "xaxis": {
           "automargin": true,
           "gridcolor": "white",
           "linecolor": "white",
           "ticks": "",
           "title": {
            "standoff": 15
           },
           "zerolinecolor": "white",
           "zerolinewidth": 2
          },
          "yaxis": {
           "automargin": true,
           "gridcolor": "white",
           "linecolor": "white",
           "ticks": "",
           "title": {
            "standoff": 15
           },
           "zerolinecolor": "white",
           "zerolinewidth": 2
          }
         }
        },
        "title": {
         "text": "Change in OI for CE and PE"
        },
        "xaxis": {
         "title": {
          "text": "Date"
         }
        },
        "yaxis": {
         "title": {
          "text": "Change in OI"
         }
        }
       }
      }
     },
     "metadata": {},
     "output_type": "display_data"
    }
   ],
   "source": [
    "import pandas as pd\n",
    "import plotly.graph_objs as go\n",
    "\n",
    "# Assuming df_pivot is your DataFrame with 'date', 'CE', and 'PE' columns\n",
    "\n",
    "# Convert 'date' column to datetime\n",
    "df_pivot['date'] = pd.to_datetime(df_pivot['date'])\n",
    "\n",
    "# Sort the DataFrame by 'date' just in case it's not sorted\n",
    "df_pivot = df_pivot.sort_values('date')\n",
    "\n",
    "# Calculate the change in 'CE' and 'PE'\n",
    "df_pivot['change_in_CE'] = df_pivot['CE'].diff()\n",
    "df_pivot['change_in_PE'] = df_pivot['PE'].diff()\n",
    "\n",
    "# Create a Plotly graph\n",
    "fig = go.Figure()\n",
    "\n",
    "# Add traces for 'change_in_CE' and 'change_in_PE'\n",
    "fig.add_trace(go.Scatter(x=df_pivot['date'], y=df_pivot['change_in_CE'],\n",
    "                         mode='lines+markers', name='Change in Call OI'))\n",
    "fig.add_trace(go.Scatter(x=df_pivot['date'], y=df_pivot['change_in_PE'],\n",
    "                         mode='lines+markers', name='Change in Put OI'))\n",
    "\n",
    "# Update layout for a better look\n",
    "fig.update_layout(title='Change in OI for CE and PE',\n",
    "                  xaxis_title='Date',\n",
    "                  yaxis_title='Change in OI',\n",
    "                  hovermode='x unified')\n",
    "\n",
    "# Show plot\n",
    "fig.show()\n"
   ]
  },
  {
   "cell_type": "code",
   "execution_count": 56,
   "metadata": {},
   "outputs": [
    {
     "data": {
      "text/html": [
       "<div>\n",
       "<style scoped>\n",
       "    .dataframe tbody tr th:only-of-type {\n",
       "        vertical-align: middle;\n",
       "    }\n",
       "\n",
       "    .dataframe tbody tr th {\n",
       "        vertical-align: top;\n",
       "    }\n",
       "\n",
       "    .dataframe thead th {\n",
       "        text-align: right;\n",
       "    }\n",
       "</style>\n",
       "<table border=\"1\" class=\"dataframe\">\n",
       "  <thead>\n",
       "    <tr style=\"text-align: right;\">\n",
       "      <th>strike_ce_pe</th>\n",
       "      <th>date</th>\n",
       "      <th>CE</th>\n",
       "      <th>PE</th>\n",
       "    </tr>\n",
       "  </thead>\n",
       "  <tbody>\n",
       "    <tr>\n",
       "      <th>0</th>\n",
       "      <td>2024-03-21 09:15:00</td>\n",
       "      <td>7026255.0</td>\n",
       "      <td>4429050.0</td>\n",
       "    </tr>\n",
       "    <tr>\n",
       "      <th>1</th>\n",
       "      <td>2024-03-21 09:18:00</td>\n",
       "      <td>7703340.0</td>\n",
       "      <td>5392590.0</td>\n",
       "    </tr>\n",
       "    <tr>\n",
       "      <th>2</th>\n",
       "      <td>2024-03-21 09:21:00</td>\n",
       "      <td>8208375.0</td>\n",
       "      <td>6696285.0</td>\n",
       "    </tr>\n",
       "    <tr>\n",
       "      <th>3</th>\n",
       "      <td>2024-03-21 09:24:00</td>\n",
       "      <td>8786385.0</td>\n",
       "      <td>7280700.0</td>\n",
       "    </tr>\n",
       "    <tr>\n",
       "      <th>4</th>\n",
       "      <td>2024-03-21 09:27:00</td>\n",
       "      <td>9250770.0</td>\n",
       "      <td>7973070.0</td>\n",
       "    </tr>\n",
       "    <tr>\n",
       "      <th>...</th>\n",
       "      <td>...</td>\n",
       "      <td>...</td>\n",
       "      <td>...</td>\n",
       "    </tr>\n",
       "    <tr>\n",
       "      <th>120</th>\n",
       "      <td>2024-03-21 15:15:00</td>\n",
       "      <td>13427790.0</td>\n",
       "      <td>10294725.0</td>\n",
       "    </tr>\n",
       "    <tr>\n",
       "      <th>121</th>\n",
       "      <td>2024-03-21 15:18:00</td>\n",
       "      <td>13233225.0</td>\n",
       "      <td>10125030.0</td>\n",
       "    </tr>\n",
       "    <tr>\n",
       "      <th>122</th>\n",
       "      <td>2024-03-21 15:21:00</td>\n",
       "      <td>12830535.0</td>\n",
       "      <td>9773445.0</td>\n",
       "    </tr>\n",
       "    <tr>\n",
       "      <th>123</th>\n",
       "      <td>2024-03-21 15:24:00</td>\n",
       "      <td>12498615.0</td>\n",
       "      <td>9357075.0</td>\n",
       "    </tr>\n",
       "    <tr>\n",
       "      <th>124</th>\n",
       "      <td>2024-03-21 15:27:00</td>\n",
       "      <td>12304725.0</td>\n",
       "      <td>8987835.0</td>\n",
       "    </tr>\n",
       "  </tbody>\n",
       "</table>\n",
       "<p>125 rows × 3 columns</p>\n",
       "</div>"
      ],
      "text/plain": [
       "strike_ce_pe                date          CE          PE\n",
       "0            2024-03-21 09:15:00   7026255.0   4429050.0\n",
       "1            2024-03-21 09:18:00   7703340.0   5392590.0\n",
       "2            2024-03-21 09:21:00   8208375.0   6696285.0\n",
       "3            2024-03-21 09:24:00   8786385.0   7280700.0\n",
       "4            2024-03-21 09:27:00   9250770.0   7973070.0\n",
       "..                           ...         ...         ...\n",
       "120          2024-03-21 15:15:00  13427790.0  10294725.0\n",
       "121          2024-03-21 15:18:00  13233225.0  10125030.0\n",
       "122          2024-03-21 15:21:00  12830535.0   9773445.0\n",
       "123          2024-03-21 15:24:00  12498615.0   9357075.0\n",
       "124          2024-03-21 15:27:00  12304725.0   8987835.0\n",
       "\n",
       "[125 rows x 3 columns]"
      ]
     },
     "execution_count": 56,
     "metadata": {},
     "output_type": "execute_result"
    }
   ],
   "source": [
    "df_pivot"
   ]
  },
  {
   "cell_type": "code",
   "execution_count": 49,
   "metadata": {},
   "outputs": [
    {
     "data": {
      "text/html": [
       "<div>\n",
       "<style scoped>\n",
       "    .dataframe tbody tr th:only-of-type {\n",
       "        vertical-align: middle;\n",
       "    }\n",
       "\n",
       "    .dataframe tbody tr th {\n",
       "        vertical-align: top;\n",
       "    }\n",
       "\n",
       "    .dataframe thead th {\n",
       "        text-align: right;\n",
       "    }\n",
       "</style>\n",
       "<table border=\"1\" class=\"dataframe\">\n",
       "  <thead>\n",
       "    <tr style=\"text-align: right;\">\n",
       "      <th></th>\n",
       "      <th>date</th>\n",
       "      <th>open</th>\n",
       "      <th>high</th>\n",
       "      <th>low</th>\n",
       "      <th>close</th>\n",
       "      <th>volume</th>\n",
       "      <th>oi</th>\n",
       "      <th>strike_type</th>\n",
       "      <th>date_only</th>\n",
       "      <th>strike_value</th>\n",
       "      <th>strike_ce_pe</th>\n",
       "    </tr>\n",
       "  </thead>\n",
       "  <tbody>\n",
       "    <tr>\n",
       "      <th>115</th>\n",
       "      <td>2024-03-21 15:00:00</td>\n",
       "      <td>477.85</td>\n",
       "      <td>481.85</td>\n",
       "      <td>459.75</td>\n",
       "      <td>467.70</td>\n",
       "      <td>133020.0</td>\n",
       "      <td>592890.0</td>\n",
       "      <td>46600CE</td>\n",
       "      <td>2024-03-21</td>\n",
       "      <td>46600</td>\n",
       "      <td>CE</td>\n",
       "    </tr>\n",
       "    <tr>\n",
       "      <th>116</th>\n",
       "      <td>2024-03-21 15:03:00</td>\n",
       "      <td>466.25</td>\n",
       "      <td>472.90</td>\n",
       "      <td>461.15</td>\n",
       "      <td>468.75</td>\n",
       "      <td>90975.0</td>\n",
       "      <td>602280.0</td>\n",
       "      <td>46600CE</td>\n",
       "      <td>2024-03-21</td>\n",
       "      <td>46600</td>\n",
       "      <td>CE</td>\n",
       "    </tr>\n",
       "    <tr>\n",
       "      <th>117</th>\n",
       "      <td>2024-03-21 15:06:00</td>\n",
       "      <td>468.25</td>\n",
       "      <td>469.95</td>\n",
       "      <td>445.95</td>\n",
       "      <td>459.90</td>\n",
       "      <td>158145.0</td>\n",
       "      <td>601545.0</td>\n",
       "      <td>46600CE</td>\n",
       "      <td>2024-03-21</td>\n",
       "      <td>46600</td>\n",
       "      <td>CE</td>\n",
       "    </tr>\n",
       "    <tr>\n",
       "      <th>118</th>\n",
       "      <td>2024-03-21 15:09:00</td>\n",
       "      <td>459.90</td>\n",
       "      <td>471.95</td>\n",
       "      <td>459.40</td>\n",
       "      <td>469.75</td>\n",
       "      <td>128505.0</td>\n",
       "      <td>593700.0</td>\n",
       "      <td>46600CE</td>\n",
       "      <td>2024-03-21</td>\n",
       "      <td>46600</td>\n",
       "      <td>CE</td>\n",
       "    </tr>\n",
       "    <tr>\n",
       "      <th>119</th>\n",
       "      <td>2024-03-21 15:12:00</td>\n",
       "      <td>469.85</td>\n",
       "      <td>471.00</td>\n",
       "      <td>462.00</td>\n",
       "      <td>466.90</td>\n",
       "      <td>78765.0</td>\n",
       "      <td>582495.0</td>\n",
       "      <td>46600CE</td>\n",
       "      <td>2024-03-21</td>\n",
       "      <td>46600</td>\n",
       "      <td>CE</td>\n",
       "    </tr>\n",
       "    <tr>\n",
       "      <th>120</th>\n",
       "      <td>2024-03-21 15:15:00</td>\n",
       "      <td>466.50</td>\n",
       "      <td>470.65</td>\n",
       "      <td>460.90</td>\n",
       "      <td>467.00</td>\n",
       "      <td>101475.0</td>\n",
       "      <td>558465.0</td>\n",
       "      <td>46600CE</td>\n",
       "      <td>2024-03-21</td>\n",
       "      <td>46600</td>\n",
       "      <td>CE</td>\n",
       "    </tr>\n",
       "    <tr>\n",
       "      <th>121</th>\n",
       "      <td>2024-03-21 15:18:00</td>\n",
       "      <td>467.40</td>\n",
       "      <td>469.45</td>\n",
       "      <td>461.40</td>\n",
       "      <td>462.60</td>\n",
       "      <td>80955.0</td>\n",
       "      <td>535725.0</td>\n",
       "      <td>46600CE</td>\n",
       "      <td>2024-03-21</td>\n",
       "      <td>46600</td>\n",
       "      <td>CE</td>\n",
       "    </tr>\n",
       "    <tr>\n",
       "      <th>122</th>\n",
       "      <td>2024-03-21 15:21:00</td>\n",
       "      <td>462.95</td>\n",
       "      <td>467.00</td>\n",
       "      <td>460.60</td>\n",
       "      <td>464.15</td>\n",
       "      <td>81375.0</td>\n",
       "      <td>504615.0</td>\n",
       "      <td>46600CE</td>\n",
       "      <td>2024-03-21</td>\n",
       "      <td>46600</td>\n",
       "      <td>CE</td>\n",
       "    </tr>\n",
       "    <tr>\n",
       "      <th>123</th>\n",
       "      <td>2024-03-21 15:24:00</td>\n",
       "      <td>464.15</td>\n",
       "      <td>465.50</td>\n",
       "      <td>458.40</td>\n",
       "      <td>463.60</td>\n",
       "      <td>92700.0</td>\n",
       "      <td>471855.0</td>\n",
       "      <td>46600CE</td>\n",
       "      <td>2024-03-21</td>\n",
       "      <td>46600</td>\n",
       "      <td>CE</td>\n",
       "    </tr>\n",
       "    <tr>\n",
       "      <th>124</th>\n",
       "      <td>2024-03-21 15:27:00</td>\n",
       "      <td>463.60</td>\n",
       "      <td>471.05</td>\n",
       "      <td>460.00</td>\n",
       "      <td>470.95</td>\n",
       "      <td>86055.0</td>\n",
       "      <td>455295.0</td>\n",
       "      <td>46600CE</td>\n",
       "      <td>2024-03-21</td>\n",
       "      <td>46600</td>\n",
       "      <td>CE</td>\n",
       "    </tr>\n",
       "  </tbody>\n",
       "</table>\n",
       "</div>"
      ],
      "text/plain": [
       "                   date    open    high     low   close    volume        oi  \\\n",
       "115 2024-03-21 15:00:00  477.85  481.85  459.75  467.70  133020.0  592890.0   \n",
       "116 2024-03-21 15:03:00  466.25  472.90  461.15  468.75   90975.0  602280.0   \n",
       "117 2024-03-21 15:06:00  468.25  469.95  445.95  459.90  158145.0  601545.0   \n",
       "118 2024-03-21 15:09:00  459.90  471.95  459.40  469.75  128505.0  593700.0   \n",
       "119 2024-03-21 15:12:00  469.85  471.00  462.00  466.90   78765.0  582495.0   \n",
       "120 2024-03-21 15:15:00  466.50  470.65  460.90  467.00  101475.0  558465.0   \n",
       "121 2024-03-21 15:18:00  467.40  469.45  461.40  462.60   80955.0  535725.0   \n",
       "122 2024-03-21 15:21:00  462.95  467.00  460.60  464.15   81375.0  504615.0   \n",
       "123 2024-03-21 15:24:00  464.15  465.50  458.40  463.60   92700.0  471855.0   \n",
       "124 2024-03-21 15:27:00  463.60  471.05  460.00  470.95   86055.0  455295.0   \n",
       "\n",
       "    strike_type  date_only  strike_value strike_ce_pe  \n",
       "115     46600CE 2024-03-21         46600           CE  \n",
       "116     46600CE 2024-03-21         46600           CE  \n",
       "117     46600CE 2024-03-21         46600           CE  \n",
       "118     46600CE 2024-03-21         46600           CE  \n",
       "119     46600CE 2024-03-21         46600           CE  \n",
       "120     46600CE 2024-03-21         46600           CE  \n",
       "121     46600CE 2024-03-21         46600           CE  \n",
       "122     46600CE 2024-03-21         46600           CE  \n",
       "123     46600CE 2024-03-21         46600           CE  \n",
       "124     46600CE 2024-03-21         46600           CE  "
      ]
     },
     "execution_count": 49,
     "metadata": {},
     "output_type": "execute_result"
    }
   ],
   "source": [
    "df_bn_oi_data.query(\"strike_value == 46600 & strike_ce_pe == 'CE'\").tail(10)"
   ]
  },
  {
   "cell_type": "code",
   "execution_count": 2,
   "metadata": {},
   "outputs": [],
   "source": [
    "expiry_sp = 'BANKNIFTY24MAR'\n",
    "inst = pd.DataFrame(kite.instruments(\"NFO\"))\n",
    "expiry_march  = inst[(inst.name == 'BANKNIFTY') & (inst.tradingsymbol.str.contains(expiry_sp))]\n",
    "# expiry_march = expiry_march.query(\"(strike >= 38500 )&( strike <= 40500)\")\n",
    "expiry_march['strike_type'] = expiry_march['strike'].astype(int).astype(str) + expiry_march['instrument_type']"
   ]
  },
  {
   "cell_type": "code",
   "execution_count": 24,
   "metadata": {},
   "outputs": [
    {
     "data": {
      "text/html": [
       "<div>\n",
       "<style scoped>\n",
       "    .dataframe tbody tr th:only-of-type {\n",
       "        vertical-align: middle;\n",
       "    }\n",
       "\n",
       "    .dataframe tbody tr th {\n",
       "        vertical-align: top;\n",
       "    }\n",
       "\n",
       "    .dataframe thead th {\n",
       "        text-align: right;\n",
       "    }\n",
       "</style>\n",
       "<table border=\"1\" class=\"dataframe\">\n",
       "  <thead>\n",
       "    <tr style=\"text-align: right;\">\n",
       "      <th></th>\n",
       "      <th>instrument_token</th>\n",
       "      <th>exchange_token</th>\n",
       "      <th>tradingsymbol</th>\n",
       "      <th>name</th>\n",
       "      <th>last_price</th>\n",
       "      <th>expiry</th>\n",
       "      <th>strike</th>\n",
       "      <th>tick_size</th>\n",
       "      <th>lot_size</th>\n",
       "      <th>instrument_type</th>\n",
       "      <th>segment</th>\n",
       "      <th>exchange</th>\n",
       "    </tr>\n",
       "  </thead>\n",
       "  <tbody>\n",
       "    <tr>\n",
       "      <th>0</th>\n",
       "      <td>13368834</td>\n",
       "      <td>52222</td>\n",
       "      <td>NIFTY24APRFUT</td>\n",
       "      <td>NIFTY</td>\n",
       "      <td>0.0</td>\n",
       "      <td>2024-04-25</td>\n",
       "      <td>0.0</td>\n",
       "      <td>0.05</td>\n",
       "      <td>50</td>\n",
       "      <td>FUT</td>\n",
       "      <td>NFO-FUT</td>\n",
       "      <td>NFO</td>\n",
       "    </tr>\n",
       "    <tr>\n",
       "      <th>1</th>\n",
       "      <td>9372674</td>\n",
       "      <td>36612</td>\n",
       "      <td>NIFTY24MARFUT</td>\n",
       "      <td>NIFTY</td>\n",
       "      <td>0.0</td>\n",
       "      <td>2024-03-28</td>\n",
       "      <td>0.0</td>\n",
       "      <td>0.05</td>\n",
       "      <td>50</td>\n",
       "      <td>FUT</td>\n",
       "      <td>NFO-FUT</td>\n",
       "      <td>NFO</td>\n",
       "    </tr>\n",
       "    <tr>\n",
       "      <th>2</th>\n",
       "      <td>12014082</td>\n",
       "      <td>46930</td>\n",
       "      <td>NIFTY24MAYFUT</td>\n",
       "      <td>NIFTY</td>\n",
       "      <td>0.0</td>\n",
       "      <td>2024-05-30</td>\n",
       "      <td>0.0</td>\n",
       "      <td>0.05</td>\n",
       "      <td>50</td>\n",
       "      <td>FUT</td>\n",
       "      <td>NFO-FUT</td>\n",
       "      <td>NFO</td>\n",
       "    </tr>\n",
       "    <tr>\n",
       "      <th>558</th>\n",
       "      <td>15440642</td>\n",
       "      <td>60315</td>\n",
       "      <td>NIFTY24MAR14000CE</td>\n",
       "      <td>NIFTY</td>\n",
       "      <td>0.0</td>\n",
       "      <td>2024-03-28</td>\n",
       "      <td>14000.0</td>\n",
       "      <td>0.05</td>\n",
       "      <td>50</td>\n",
       "      <td>CE</td>\n",
       "      <td>NFO-OPT</td>\n",
       "      <td>NFO</td>\n",
       "    </tr>\n",
       "    <tr>\n",
       "      <th>559</th>\n",
       "      <td>15440898</td>\n",
       "      <td>60316</td>\n",
       "      <td>NIFTY24MAR14000PE</td>\n",
       "      <td>NIFTY</td>\n",
       "      <td>0.0</td>\n",
       "      <td>2024-03-28</td>\n",
       "      <td>14000.0</td>\n",
       "      <td>0.05</td>\n",
       "      <td>50</td>\n",
       "      <td>PE</td>\n",
       "      <td>NFO-OPT</td>\n",
       "      <td>NFO</td>\n",
       "    </tr>\n",
       "    <tr>\n",
       "      <th>...</th>\n",
       "      <td>...</td>\n",
       "      <td>...</td>\n",
       "      <td>...</td>\n",
       "      <td>...</td>\n",
       "      <td>...</td>\n",
       "      <td>...</td>\n",
       "      <td>...</td>\n",
       "      <td>...</td>\n",
       "      <td>...</td>\n",
       "      <td>...</td>\n",
       "      <td>...</td>\n",
       "      <td>...</td>\n",
       "    </tr>\n",
       "    <tr>\n",
       "      <th>2076</th>\n",
       "      <td>17352962</td>\n",
       "      <td>67785</td>\n",
       "      <td>NIFTY28DEC25000PE</td>\n",
       "      <td>NIFTY</td>\n",
       "      <td>0.0</td>\n",
       "      <td>2028-12-28</td>\n",
       "      <td>25000.0</td>\n",
       "      <td>0.05</td>\n",
       "      <td>50</td>\n",
       "      <td>PE</td>\n",
       "      <td>NFO-OPT</td>\n",
       "      <td>NFO</td>\n",
       "    </tr>\n",
       "    <tr>\n",
       "      <th>2077</th>\n",
       "      <td>17353218</td>\n",
       "      <td>67786</td>\n",
       "      <td>NIFTY28DEC26000CE</td>\n",
       "      <td>NIFTY</td>\n",
       "      <td>0.0</td>\n",
       "      <td>2028-12-28</td>\n",
       "      <td>26000.0</td>\n",
       "      <td>0.05</td>\n",
       "      <td>50</td>\n",
       "      <td>CE</td>\n",
       "      <td>NFO-OPT</td>\n",
       "      <td>NFO</td>\n",
       "    </tr>\n",
       "    <tr>\n",
       "      <th>2078</th>\n",
       "      <td>17353474</td>\n",
       "      <td>67787</td>\n",
       "      <td>NIFTY28DEC26000PE</td>\n",
       "      <td>NIFTY</td>\n",
       "      <td>0.0</td>\n",
       "      <td>2028-12-28</td>\n",
       "      <td>26000.0</td>\n",
       "      <td>0.05</td>\n",
       "      <td>50</td>\n",
       "      <td>PE</td>\n",
       "      <td>NFO-OPT</td>\n",
       "      <td>NFO</td>\n",
       "    </tr>\n",
       "    <tr>\n",
       "      <th>2079</th>\n",
       "      <td>17353730</td>\n",
       "      <td>67788</td>\n",
       "      <td>NIFTY28DEC27000CE</td>\n",
       "      <td>NIFTY</td>\n",
       "      <td>0.0</td>\n",
       "      <td>2028-12-28</td>\n",
       "      <td>27000.0</td>\n",
       "      <td>0.05</td>\n",
       "      <td>50</td>\n",
       "      <td>CE</td>\n",
       "      <td>NFO-OPT</td>\n",
       "      <td>NFO</td>\n",
       "    </tr>\n",
       "    <tr>\n",
       "      <th>2080</th>\n",
       "      <td>17353986</td>\n",
       "      <td>67789</td>\n",
       "      <td>NIFTY28DEC27000PE</td>\n",
       "      <td>NIFTY</td>\n",
       "      <td>0.0</td>\n",
       "      <td>2028-12-28</td>\n",
       "      <td>27000.0</td>\n",
       "      <td>0.05</td>\n",
       "      <td>50</td>\n",
       "      <td>PE</td>\n",
       "      <td>NFO-OPT</td>\n",
       "      <td>NFO</td>\n",
       "    </tr>\n",
       "  </tbody>\n",
       "</table>\n",
       "<p>1526 rows × 12 columns</p>\n",
       "</div>"
      ],
      "text/plain": [
       "      instrument_token exchange_token      tradingsymbol   name  last_price  \\\n",
       "0             13368834          52222      NIFTY24APRFUT  NIFTY         0.0   \n",
       "1              9372674          36612      NIFTY24MARFUT  NIFTY         0.0   \n",
       "2             12014082          46930      NIFTY24MAYFUT  NIFTY         0.0   \n",
       "558           15440642          60315  NIFTY24MAR14000CE  NIFTY         0.0   \n",
       "559           15440898          60316  NIFTY24MAR14000PE  NIFTY         0.0   \n",
       "...                ...            ...                ...    ...         ...   \n",
       "2076          17352962          67785  NIFTY28DEC25000PE  NIFTY         0.0   \n",
       "2077          17353218          67786  NIFTY28DEC26000CE  NIFTY         0.0   \n",
       "2078          17353474          67787  NIFTY28DEC26000PE  NIFTY         0.0   \n",
       "2079          17353730          67788  NIFTY28DEC27000CE  NIFTY         0.0   \n",
       "2080          17353986          67789  NIFTY28DEC27000PE  NIFTY         0.0   \n",
       "\n",
       "          expiry   strike  tick_size  lot_size instrument_type  segment  \\\n",
       "0     2024-04-25      0.0       0.05        50             FUT  NFO-FUT   \n",
       "1     2024-03-28      0.0       0.05        50             FUT  NFO-FUT   \n",
       "2     2024-05-30      0.0       0.05        50             FUT  NFO-FUT   \n",
       "558   2024-03-28  14000.0       0.05        50              CE  NFO-OPT   \n",
       "559   2024-03-28  14000.0       0.05        50              PE  NFO-OPT   \n",
       "...          ...      ...        ...       ...             ...      ...   \n",
       "2076  2028-12-28  25000.0       0.05        50              PE  NFO-OPT   \n",
       "2077  2028-12-28  26000.0       0.05        50              CE  NFO-OPT   \n",
       "2078  2028-12-28  26000.0       0.05        50              PE  NFO-OPT   \n",
       "2079  2028-12-28  27000.0       0.05        50              CE  NFO-OPT   \n",
       "2080  2028-12-28  27000.0       0.05        50              PE  NFO-OPT   \n",
       "\n",
       "     exchange  \n",
       "0         NFO  \n",
       "1         NFO  \n",
       "2         NFO  \n",
       "558       NFO  \n",
       "559       NFO  \n",
       "...       ...  \n",
       "2076      NFO  \n",
       "2077      NFO  \n",
       "2078      NFO  \n",
       "2079      NFO  \n",
       "2080      NFO  \n",
       "\n",
       "[1526 rows x 12 columns]"
      ]
     },
     "execution_count": 24,
     "metadata": {},
     "output_type": "execute_result"
    }
   ],
   "source": [
    "inst.query(\"name =='NIFTY' \")"
   ]
  },
  {
   "cell_type": "code",
   "execution_count": 9,
   "metadata": {},
   "outputs": [],
   "source": [
    "i = 9372674 #9372418 #\n",
    "start_dt = '2024-03-01'\n",
    "end_dt = '2024-03-27'\n",
    "time_frame = '3minute'\n",
    "df = pd.DataFrame(kite.historical_data(i, from_date = start_dt, to_date = end_dt, interval = time_frame, continuous=False, oi=True))"
   ]
  },
  {
   "cell_type": "code",
   "execution_count": 11,
   "metadata": {},
   "outputs": [],
   "source": [
    "df.to_parquet('data/nifty_march_futures.parquet')"
   ]
  },
  {
   "cell_type": "code",
   "execution_count": 85,
   "metadata": {},
   "outputs": [],
   "source": [
    "df['date']  = pd.to_datetime(df['date']).dt.tz_localize(None)\n",
    "df['date_only'] = pd.to_datetime(df['date'].dt.date)"
   ]
  },
  {
   "cell_type": "markdown",
   "metadata": {},
   "source": [
    "## gap theory"
   ]
  },
  {
   "cell_type": "code",
   "execution_count": null,
   "metadata": {},
   "outputs": [],
   "source": [
    "import pandas as pd\n",
    "\n",
    "# Assuming 'df' is your DataFrame with columns: date, open, high, low, close\n",
    "\n",
    "# Convert the 'date' column to datetime format and filter the entries between 9:30 and 15:00\n",
    "# df['date'] = pd.to_datetime(df['date'])\n",
    "# filter for date 20/03/2024\n",
    "\n",
    "\n",
    "\n",
    "# Initialize an empty list to store the gap information\n",
    "gaps = []\n",
    "\n",
    "# Iterate over the filtered DataFrame to find gaps\n",
    "for j in df.date_only.unique():\n",
    "    print(j)\n",
    "    df_temp = df[df.date_only == j]\n",
    "    filtered_df = df_temp[df_temp['date'].dt.time.between(pd.to_datetime('09:30').time(), pd.to_datetime('15:00').time())].reset_index(drop = True)\n",
    "    for i in range(1,len(filtered_df)):\n",
    "        previous_row = filtered_df.iloc[i - 1]\n",
    "        current_row = filtered_df.iloc[i]\n",
    "\n",
    "        # Check if the previous candle is green\n",
    "        if previous_row['close'] > previous_row['open']:\n",
    "            # Check for a gap up\n",
    "            if current_row['low'] > previous_row['high'] + 2:\n",
    "                gaps.append({\n",
    "                    'type': 'gap up',\n",
    "                    'from': previous_row['high'],\n",
    "                    'to': current_row['open'],\n",
    "                    'index': i  # Index of the current row in the filtered DataFrame\n",
    "                })\n",
    "\n",
    "        # Check if the previous candle is red\n",
    "        elif previous_row['close'] < previous_row['open']:\n",
    "            # Check for a gap down\n",
    "            if current_row['high'] < previous_row['low'] - 2:\n",
    "                gaps.append({\n",
    "                    'type': 'gap down',\n",
    "                    'from': previous_row['low'],\n",
    "                    'to': current_row['open'],\n",
    "                    'index': i  # Index of the current row in the filtered DataFrame\n",
    "                })\n",
    "        # break\n",
    "    \n",
    "# The 'gaps' list now contains the details of all identified gaps\n"
   ]
  },
  {
   "cell_type": "markdown",
   "metadata": {},
   "source": [
    "## golden cross over"
   ]
  },
  {
   "cell_type": "code",
   "execution_count": 79,
   "metadata": {},
   "outputs": [
    {
     "data": {
      "text/html": [
       "<div>\n",
       "<style scoped>\n",
       "    .dataframe tbody tr th:only-of-type {\n",
       "        vertical-align: middle;\n",
       "    }\n",
       "\n",
       "    .dataframe tbody tr th {\n",
       "        vertical-align: top;\n",
       "    }\n",
       "\n",
       "    .dataframe thead th {\n",
       "        text-align: right;\n",
       "    }\n",
       "</style>\n",
       "<table border=\"1\" class=\"dataframe\">\n",
       "  <thead>\n",
       "    <tr style=\"text-align: right;\">\n",
       "      <th></th>\n",
       "      <th>date</th>\n",
       "      <th>open</th>\n",
       "      <th>high</th>\n",
       "      <th>low</th>\n",
       "      <th>close</th>\n",
       "      <th>volume</th>\n",
       "      <th>oi</th>\n",
       "    </tr>\n",
       "  </thead>\n",
       "  <tbody>\n",
       "    <tr>\n",
       "      <th>0</th>\n",
       "      <td>2024-03-01 09:15:00+05:30</td>\n",
       "      <td>22203.00</td>\n",
       "      <td>22250.00</td>\n",
       "      <td>22180.20</td>\n",
       "      <td>22243.95</td>\n",
       "      <td>357550</td>\n",
       "      <td>13084800</td>\n",
       "    </tr>\n",
       "    <tr>\n",
       "      <th>1</th>\n",
       "      <td>2024-03-01 09:18:00+05:30</td>\n",
       "      <td>22243.95</td>\n",
       "      <td>22244.95</td>\n",
       "      <td>22232.45</td>\n",
       "      <td>22239.75</td>\n",
       "      <td>140950</td>\n",
       "      <td>13069950</td>\n",
       "    </tr>\n",
       "    <tr>\n",
       "      <th>2</th>\n",
       "      <td>2024-03-01 09:21:00+05:30</td>\n",
       "      <td>22239.75</td>\n",
       "      <td>22248.60</td>\n",
       "      <td>22236.20</td>\n",
       "      <td>22242.30</td>\n",
       "      <td>120400</td>\n",
       "      <td>13070650</td>\n",
       "    </tr>\n",
       "    <tr>\n",
       "      <th>3</th>\n",
       "      <td>2024-03-01 09:24:00+05:30</td>\n",
       "      <td>22242.30</td>\n",
       "      <td>22254.90</td>\n",
       "      <td>22240.80</td>\n",
       "      <td>22248.20</td>\n",
       "      <td>129050</td>\n",
       "      <td>13080800</td>\n",
       "    </tr>\n",
       "    <tr>\n",
       "      <th>4</th>\n",
       "      <td>2024-03-01 09:27:00+05:30</td>\n",
       "      <td>22248.20</td>\n",
       "      <td>22253.45</td>\n",
       "      <td>22238.20</td>\n",
       "      <td>22245.00</td>\n",
       "      <td>100950</td>\n",
       "      <td>13027100</td>\n",
       "    </tr>\n",
       "  </tbody>\n",
       "</table>\n",
       "</div>"
      ],
      "text/plain": [
       "                       date      open      high       low     close  volume  \\\n",
       "0 2024-03-01 09:15:00+05:30  22203.00  22250.00  22180.20  22243.95  357550   \n",
       "1 2024-03-01 09:18:00+05:30  22243.95  22244.95  22232.45  22239.75  140950   \n",
       "2 2024-03-01 09:21:00+05:30  22239.75  22248.60  22236.20  22242.30  120400   \n",
       "3 2024-03-01 09:24:00+05:30  22242.30  22254.90  22240.80  22248.20  129050   \n",
       "4 2024-03-01 09:27:00+05:30  22248.20  22253.45  22238.20  22245.00  100950   \n",
       "\n",
       "         oi  \n",
       "0  13084800  \n",
       "1  13069950  \n",
       "2  13070650  \n",
       "3  13080800  \n",
       "4  13027100  "
      ]
     },
     "execution_count": 79,
     "metadata": {},
     "output_type": "execute_result"
    }
   ],
   "source": [
    "df.head()"
   ]
  },
  {
   "cell_type": "code",
   "execution_count": 86,
   "metadata": {},
   "outputs": [],
   "source": [
    "import pandas as pd\n",
    "import numpy as np\n",
    "import ta\n",
    "\n",
    "def calculate_supertrend(df, period=10, multiplier=2):\n",
    "    hl2 = (df['high'] + df['low']) / 2\n",
    "    atr = ta.volatility.average_true_range(df['high'], df['low'], df['close'], window=period)\n",
    "    upperband = hl2 + (multiplier * atr)\n",
    "    lowerband = hl2 - (multiplier * atr)\n",
    "    supertrend = np.zeros(len(df))\n",
    "\n",
    "    for i in range(1, len(df)):\n",
    "        if df['close'][i-1] <= supertrend[i-1]:\n",
    "            supertrend[i] = min(upperband[i], supertrend[i-1])\n",
    "        else:\n",
    "            supertrend[i] = max(lowerband[i], supertrend[i-1])\n",
    "        if df['close'][i] > supertrend[i]:\n",
    "            supertrend[i] = upperband[i]\n",
    "        elif df['close'][i] < supertrend[i]:\n",
    "            supertrend[i] = lowerband[i]\n",
    "\n",
    "    return supertrend\n",
    "\n",
    "def calculate_daily_vwap(df):\n",
    "    df['cum_vol_price'] = (df['volume'] * df['close']).cumsum()\n",
    "    df['cum_volume'] = df['volume'].cumsum()\n",
    "    df['VWAP'] = df['cum_vol_price'] / df['cum_volume']\n",
    "    return df\n",
    "\n",
    "def calculate_indicators(df):\n",
    "    df['VWMA20'] = ta.trend.sma_indicator(df['close'] * df['volume'], window=20) / ta.trend.sma_indicator(df['volume'], window=20)\n",
    "    df = df.groupby('date_only').apply(calculate_daily_vwap)\n",
    "    df['SuperTrend'] = calculate_supertrend(df, period=10, multiplier=2)\n",
    "    return df\n",
    "\n",
    "def generate_signals(df):\n",
    "    df = calculate_indicators(df)\n",
    "    df['Signal'] = ((df['VWMA20'] > df['VWAP']) & (df['SuperTrend'] > df['VWAP'])) | ((df['VWMA20'] < df['VWAP']) & (df['SuperTrend'] < df['VWAP']))\n",
    "    # signals = df[df['Signal']].copy()\n",
    "    return df\n",
    "\n",
    "\n",
    "signals = generate_signals(df)\n",
    "# print(signals)\n"
   ]
  },
  {
   "cell_type": "code",
   "execution_count": 88,
   "metadata": {},
   "outputs": [
    {
     "data": {
      "text/html": [
       "<div>\n",
       "<style scoped>\n",
       "    .dataframe tbody tr th:only-of-type {\n",
       "        vertical-align: middle;\n",
       "    }\n",
       "\n",
       "    .dataframe tbody tr th {\n",
       "        vertical-align: top;\n",
       "    }\n",
       "\n",
       "    .dataframe thead th {\n",
       "        text-align: right;\n",
       "    }\n",
       "</style>\n",
       "<table border=\"1\" class=\"dataframe\">\n",
       "  <thead>\n",
       "    <tr style=\"text-align: right;\">\n",
       "      <th></th>\n",
       "      <th>date</th>\n",
       "      <th>open</th>\n",
       "      <th>high</th>\n",
       "      <th>low</th>\n",
       "      <th>close</th>\n",
       "      <th>volume</th>\n",
       "      <th>oi</th>\n",
       "      <th>date_only</th>\n",
       "      <th>VWMA20</th>\n",
       "      <th>cum_vol_price</th>\n",
       "      <th>cum_volume</th>\n",
       "      <th>VWAP</th>\n",
       "      <th>SuperTrend</th>\n",
       "      <th>Signal</th>\n",
       "    </tr>\n",
       "  </thead>\n",
       "  <tbody>\n",
       "    <tr>\n",
       "      <th>1650</th>\n",
       "      <td>2024-03-20 15:00:00</td>\n",
       "      <td>21915.00</td>\n",
       "      <td>21916.40</td>\n",
       "      <td>21896.20</td>\n",
       "      <td>21897.55</td>\n",
       "      <td>103100</td>\n",
       "      <td>11906750</td>\n",
       "      <td>2024-03-20</td>\n",
       "      <td>21907.435977</td>\n",
       "      <td>1.305767e+11</td>\n",
       "      <td>5960400</td>\n",
       "      <td>21907.376540</td>\n",
       "      <td>21868.013702</td>\n",
       "      <td>False</td>\n",
       "    </tr>\n",
       "    <tr>\n",
       "      <th>1651</th>\n",
       "      <td>2024-03-20 15:03:00</td>\n",
       "      <td>21897.00</td>\n",
       "      <td>21907.95</td>\n",
       "      <td>21889.70</td>\n",
       "      <td>21898.90</td>\n",
       "      <td>46350</td>\n",
       "      <td>11917600</td>\n",
       "      <td>2024-03-20</td>\n",
       "      <td>21906.646546</td>\n",
       "      <td>1.315917e+11</td>\n",
       "      <td>6006750</td>\n",
       "      <td>21907.311132</td>\n",
       "      <td>21936.932668</td>\n",
       "      <td>False</td>\n",
       "    </tr>\n",
       "    <tr>\n",
       "      <th>1652</th>\n",
       "      <td>2024-03-20 15:06:00</td>\n",
       "      <td>21901.00</td>\n",
       "      <td>21908.70</td>\n",
       "      <td>21900.00</td>\n",
       "      <td>21908.40</td>\n",
       "      <td>47350</td>\n",
       "      <td>11944150</td>\n",
       "      <td>2024-03-20</td>\n",
       "      <td>21905.804739</td>\n",
       "      <td>1.326291e+11</td>\n",
       "      <td>6054100</td>\n",
       "      <td>21907.319649</td>\n",
       "      <td>21868.093098</td>\n",
       "      <td>True</td>\n",
       "    </tr>\n",
       "    <tr>\n",
       "      <th>1653</th>\n",
       "      <td>2024-03-20 15:09:00</td>\n",
       "      <td>21906.35</td>\n",
       "      <td>21914.00</td>\n",
       "      <td>21906.35</td>\n",
       "      <td>21910.00</td>\n",
       "      <td>42700</td>\n",
       "      <td>11954300</td>\n",
       "      <td>2024-03-20</td>\n",
       "      <td>21905.954934</td>\n",
       "      <td>1.335647e+11</td>\n",
       "      <td>6096800</td>\n",
       "      <td>21907.338421</td>\n",
       "      <td>21944.336211</td>\n",
       "      <td>False</td>\n",
       "    </tr>\n",
       "    <tr>\n",
       "      <th>1654</th>\n",
       "      <td>2024-03-20 15:12:00</td>\n",
       "      <td>21910.00</td>\n",
       "      <td>21919.60</td>\n",
       "      <td>21908.75</td>\n",
       "      <td>21914.90</td>\n",
       "      <td>42500</td>\n",
       "      <td>11968850</td>\n",
       "      <td>2024-03-20</td>\n",
       "      <td>21905.966957</td>\n",
       "      <td>1.344960e+11</td>\n",
       "      <td>6139300</td>\n",
       "      <td>21907.390767</td>\n",
       "      <td>21881.259910</td>\n",
       "      <td>True</td>\n",
       "    </tr>\n",
       "    <tr>\n",
       "      <th>1655</th>\n",
       "      <td>2024-03-20 15:15:00</td>\n",
       "      <td>21915.65</td>\n",
       "      <td>21918.30</td>\n",
       "      <td>21910.50</td>\n",
       "      <td>21917.00</td>\n",
       "      <td>52450</td>\n",
       "      <td>11990050</td>\n",
       "      <td>2024-03-20</td>\n",
       "      <td>21905.655598</td>\n",
       "      <td>1.356456e+11</td>\n",
       "      <td>6191750</td>\n",
       "      <td>21907.472166</td>\n",
       "      <td>21945.583581</td>\n",
       "      <td>False</td>\n",
       "    </tr>\n",
       "    <tr>\n",
       "      <th>1656</th>\n",
       "      <td>2024-03-20 15:18:00</td>\n",
       "      <td>21916.55</td>\n",
       "      <td>21923.90</td>\n",
       "      <td>21910.85</td>\n",
       "      <td>21916.50</td>\n",
       "      <td>33850</td>\n",
       "      <td>12003500</td>\n",
       "      <td>2024-03-20</td>\n",
       "      <td>21905.334387</td>\n",
       "      <td>1.363875e+11</td>\n",
       "      <td>6225600</td>\n",
       "      <td>21907.521253</td>\n",
       "      <td>21886.699777</td>\n",
       "      <td>True</td>\n",
       "    </tr>\n",
       "    <tr>\n",
       "      <th>1657</th>\n",
       "      <td>2024-03-20 15:21:00</td>\n",
       "      <td>21916.50</td>\n",
       "      <td>21922.60</td>\n",
       "      <td>21915.85</td>\n",
       "      <td>21916.65</td>\n",
       "      <td>38650</td>\n",
       "      <td>12015100</td>\n",
       "      <td>2024-03-20</td>\n",
       "      <td>21905.951501</td>\n",
       "      <td>1.372345e+11</td>\n",
       "      <td>6264250</td>\n",
       "      <td>21907.577576</td>\n",
       "      <td>21948.182701</td>\n",
       "      <td>False</td>\n",
       "    </tr>\n",
       "    <tr>\n",
       "      <th>1658</th>\n",
       "      <td>2024-03-20 15:24:00</td>\n",
       "      <td>21917.00</td>\n",
       "      <td>21922.20</td>\n",
       "      <td>21915.05</td>\n",
       "      <td>21916.00</td>\n",
       "      <td>37600</td>\n",
       "      <td>12017350</td>\n",
       "      <td>2024-03-20</td>\n",
       "      <td>21906.856145</td>\n",
       "      <td>1.380586e+11</td>\n",
       "      <td>6301850</td>\n",
       "      <td>21907.627829</td>\n",
       "      <td>21891.133069</td>\n",
       "      <td>True</td>\n",
       "    </tr>\n",
       "    <tr>\n",
       "      <th>1659</th>\n",
       "      <td>2024-03-20 15:27:00</td>\n",
       "      <td>21915.00</td>\n",
       "      <td>21920.00</td>\n",
       "      <td>21914.90</td>\n",
       "      <td>21919.00</td>\n",
       "      <td>50900</td>\n",
       "      <td>12015350</td>\n",
       "      <td>2024-03-20</td>\n",
       "      <td>21907.626953</td>\n",
       "      <td>1.391743e+11</td>\n",
       "      <td>6352750</td>\n",
       "      <td>21907.718946</td>\n",
       "      <td>21943.212738</td>\n",
       "      <td>False</td>\n",
       "    </tr>\n",
       "  </tbody>\n",
       "</table>\n",
       "</div>"
      ],
      "text/plain": [
       "                    date      open      high       low     close  volume  \\\n",
       "1650 2024-03-20 15:00:00  21915.00  21916.40  21896.20  21897.55  103100   \n",
       "1651 2024-03-20 15:03:00  21897.00  21907.95  21889.70  21898.90   46350   \n",
       "1652 2024-03-20 15:06:00  21901.00  21908.70  21900.00  21908.40   47350   \n",
       "1653 2024-03-20 15:09:00  21906.35  21914.00  21906.35  21910.00   42700   \n",
       "1654 2024-03-20 15:12:00  21910.00  21919.60  21908.75  21914.90   42500   \n",
       "1655 2024-03-20 15:15:00  21915.65  21918.30  21910.50  21917.00   52450   \n",
       "1656 2024-03-20 15:18:00  21916.55  21923.90  21910.85  21916.50   33850   \n",
       "1657 2024-03-20 15:21:00  21916.50  21922.60  21915.85  21916.65   38650   \n",
       "1658 2024-03-20 15:24:00  21917.00  21922.20  21915.05  21916.00   37600   \n",
       "1659 2024-03-20 15:27:00  21915.00  21920.00  21914.90  21919.00   50900   \n",
       "\n",
       "            oi  date_only        VWMA20  cum_vol_price  cum_volume  \\\n",
       "1650  11906750 2024-03-20  21907.435977   1.305767e+11     5960400   \n",
       "1651  11917600 2024-03-20  21906.646546   1.315917e+11     6006750   \n",
       "1652  11944150 2024-03-20  21905.804739   1.326291e+11     6054100   \n",
       "1653  11954300 2024-03-20  21905.954934   1.335647e+11     6096800   \n",
       "1654  11968850 2024-03-20  21905.966957   1.344960e+11     6139300   \n",
       "1655  11990050 2024-03-20  21905.655598   1.356456e+11     6191750   \n",
       "1656  12003500 2024-03-20  21905.334387   1.363875e+11     6225600   \n",
       "1657  12015100 2024-03-20  21905.951501   1.372345e+11     6264250   \n",
       "1658  12017350 2024-03-20  21906.856145   1.380586e+11     6301850   \n",
       "1659  12015350 2024-03-20  21907.626953   1.391743e+11     6352750   \n",
       "\n",
       "              VWAP    SuperTrend  Signal  \n",
       "1650  21907.376540  21868.013702   False  \n",
       "1651  21907.311132  21936.932668   False  \n",
       "1652  21907.319649  21868.093098    True  \n",
       "1653  21907.338421  21944.336211   False  \n",
       "1654  21907.390767  21881.259910    True  \n",
       "1655  21907.472166  21945.583581   False  \n",
       "1656  21907.521253  21886.699777    True  \n",
       "1657  21907.577576  21948.182701   False  \n",
       "1658  21907.627829  21891.133069    True  \n",
       "1659  21907.718946  21943.212738   False  "
      ]
     },
     "execution_count": 88,
     "metadata": {},
     "output_type": "execute_result"
    }
   ],
   "source": [
    "signals.tail(10)"
   ]
  },
  {
   "cell_type": "markdown",
   "metadata": {},
   "source": [
    "## PRICE AT SUPER TREND AND VWAP"
   ]
  },
  {
   "cell_type": "code",
   "execution_count": 99,
   "metadata": {},
   "outputs": [],
   "source": [
    "def date_format(df):\n",
    "    df['date']  = pd.to_datetime(df['date']).dt.tz_localize(None)\n",
    "    df['date_only'] = pd.to_datetime(df['date'].dt.date)\n",
    "    return df "
   ]
  },
  {
   "cell_type": "code",
   "execution_count": 110,
   "metadata": {},
   "outputs": [],
   "source": [
    "import talib\n",
    "expiry_sp = 'BANKNIFTY24430'\n",
    "inst = pd.DataFrame(kite.instruments(\"NFO\"))\n",
    "expiry_march  = inst[(inst.name == 'BANKNIFTY') & (inst.tradingsymbol.str.contains(expiry_sp))]\n",
    "# expiry_march = expiry_march.query(\"(strike >= 38500 )&( strike <= 40500)\")\n",
    "expiry_march['strike_type'] = expiry_march['strike'].astype(int).astype(str) + expiry_march['instrument_type']"
   ]
  },
  {
   "cell_type": "code",
   "execution_count": 118,
   "metadata": {},
   "outputs": [
    {
     "data": {
      "text/html": [
       "<div>\n",
       "<style scoped>\n",
       "    .dataframe tbody tr th:only-of-type {\n",
       "        vertical-align: middle;\n",
       "    }\n",
       "\n",
       "    .dataframe tbody tr th {\n",
       "        vertical-align: top;\n",
       "    }\n",
       "\n",
       "    .dataframe thead th {\n",
       "        text-align: right;\n",
       "    }\n",
       "</style>\n",
       "<table border=\"1\" class=\"dataframe\">\n",
       "  <thead>\n",
       "    <tr style=\"text-align: right;\">\n",
       "      <th></th>\n",
       "      <th>instrument_token</th>\n",
       "      <th>exchange_token</th>\n",
       "      <th>tradingsymbol</th>\n",
       "      <th>name</th>\n",
       "      <th>last_price</th>\n",
       "      <th>expiry</th>\n",
       "      <th>strike</th>\n",
       "      <th>tick_size</th>\n",
       "      <th>lot_size</th>\n",
       "      <th>instrument_type</th>\n",
       "      <th>segment</th>\n",
       "      <th>exchange</th>\n",
       "      <th>strike_type</th>\n",
       "    </tr>\n",
       "  </thead>\n",
       "  <tbody>\n",
       "    <tr>\n",
       "      <th>2059</th>\n",
       "      <td>12679938</td>\n",
       "      <td>49531</td>\n",
       "      <td>BANKNIFTY2443048200CE</td>\n",
       "      <td>BANKNIFTY</td>\n",
       "      <td>0.0</td>\n",
       "      <td>2024-04-30</td>\n",
       "      <td>48200.0</td>\n",
       "      <td>0.05</td>\n",
       "      <td>15</td>\n",
       "      <td>CE</td>\n",
       "      <td>NFO-OPT</td>\n",
       "      <td>NFO</td>\n",
       "      <td>48200CE</td>\n",
       "    </tr>\n",
       "    <tr>\n",
       "      <th>2060</th>\n",
       "      <td>12680194</td>\n",
       "      <td>49532</td>\n",
       "      <td>BANKNIFTY2443048200PE</td>\n",
       "      <td>BANKNIFTY</td>\n",
       "      <td>0.0</td>\n",
       "      <td>2024-04-30</td>\n",
       "      <td>48200.0</td>\n",
       "      <td>0.05</td>\n",
       "      <td>15</td>\n",
       "      <td>PE</td>\n",
       "      <td>NFO-OPT</td>\n",
       "      <td>NFO</td>\n",
       "      <td>48200PE</td>\n",
       "    </tr>\n",
       "  </tbody>\n",
       "</table>\n",
       "</div>"
      ],
      "text/plain": [
       "      instrument_token exchange_token          tradingsymbol       name  \\\n",
       "2059          12679938          49531  BANKNIFTY2443048200CE  BANKNIFTY   \n",
       "2060          12680194          49532  BANKNIFTY2443048200PE  BANKNIFTY   \n",
       "\n",
       "      last_price      expiry   strike  tick_size  lot_size instrument_type  \\\n",
       "2059         0.0  2024-04-30  48200.0       0.05        15              CE   \n",
       "2060         0.0  2024-04-30  48200.0       0.05        15              PE   \n",
       "\n",
       "      segment exchange strike_type  \n",
       "2059  NFO-OPT      NFO     48200CE  \n",
       "2060  NFO-OPT      NFO     48200PE  "
      ]
     },
     "execution_count": 118,
     "metadata": {},
     "output_type": "execute_result"
    }
   ],
   "source": [
    "expiry_march[expiry_march['tradingsymbol'].str.contains(\"48200\")]"
   ]
  },
  {
   "cell_type": "code",
   "execution_count": 119,
   "metadata": {},
   "outputs": [],
   "source": [
    "bn_token = 12012290\n",
    "start_dt = '2024-04-25'\n",
    "end_dt = '2024-04-26'\n",
    "time_frame = '3minute'\n",
    "df = pd.DataFrame(kite.historical_data(bn_token, from_date = start_dt, to_date = end_dt, interval = time_frame, continuous=False, oi=True))\n",
    "\n",
    "call_token = 12679938\n",
    "put_token = 12680194\n",
    "df_call_atm = pd.DataFrame(kite.historical_data(call_token, from_date = start_dt, to_date = end_dt, interval = time_frame, continuous=False, oi=True))\n",
    "df_put_atm = pd.DataFrame(kite.historical_data(put_token, from_date = start_dt, to_date = end_dt, interval = time_frame, continuous=False, oi=True))"
   ]
  },
  {
   "cell_type": "code",
   "execution_count": 120,
   "metadata": {},
   "outputs": [],
   "source": [
    "df = date_format(df)\n",
    "df_call_atm = date_format(df_call_atm)\n",
    "df_put_atm = date_format(df_put_atm)"
   ]
  },
  {
   "cell_type": "code",
   "execution_count": 121,
   "metadata": {},
   "outputs": [
    {
     "data": {
      "text/html": [
       "<div>\n",
       "<style scoped>\n",
       "    .dataframe tbody tr th:only-of-type {\n",
       "        vertical-align: middle;\n",
       "    }\n",
       "\n",
       "    .dataframe tbody tr th {\n",
       "        vertical-align: top;\n",
       "    }\n",
       "\n",
       "    .dataframe thead th {\n",
       "        text-align: right;\n",
       "    }\n",
       "</style>\n",
       "<table border=\"1\" class=\"dataframe\">\n",
       "  <thead>\n",
       "    <tr style=\"text-align: right;\">\n",
       "      <th></th>\n",
       "      <th>date</th>\n",
       "      <th>open</th>\n",
       "      <th>high</th>\n",
       "      <th>low</th>\n",
       "      <th>close</th>\n",
       "      <th>volume</th>\n",
       "      <th>oi</th>\n",
       "      <th>date_only</th>\n",
       "    </tr>\n",
       "  </thead>\n",
       "  <tbody>\n",
       "    <tr>\n",
       "      <th>0</th>\n",
       "      <td>2024-04-25 09:15:00</td>\n",
       "      <td>48005.40</td>\n",
       "      <td>48236.15</td>\n",
       "      <td>47999.90</td>\n",
       "      <td>48157.95</td>\n",
       "      <td>136770</td>\n",
       "      <td>1639500</td>\n",
       "      <td>2024-04-25</td>\n",
       "    </tr>\n",
       "    <tr>\n",
       "      <th>1</th>\n",
       "      <td>2024-04-25 09:18:00</td>\n",
       "      <td>48161.00</td>\n",
       "      <td>48163.20</td>\n",
       "      <td>48130.00</td>\n",
       "      <td>48155.30</td>\n",
       "      <td>49470</td>\n",
       "      <td>1649085</td>\n",
       "      <td>2024-04-25</td>\n",
       "    </tr>\n",
       "    <tr>\n",
       "      <th>2</th>\n",
       "      <td>2024-04-25 09:21:00</td>\n",
       "      <td>48153.15</td>\n",
       "      <td>48164.80</td>\n",
       "      <td>48139.80</td>\n",
       "      <td>48142.00</td>\n",
       "      <td>22890</td>\n",
       "      <td>1657440</td>\n",
       "      <td>2024-04-25</td>\n",
       "    </tr>\n",
       "    <tr>\n",
       "      <th>3</th>\n",
       "      <td>2024-04-25 09:24:00</td>\n",
       "      <td>48142.00</td>\n",
       "      <td>48169.95</td>\n",
       "      <td>48142.00</td>\n",
       "      <td>48163.80</td>\n",
       "      <td>21135</td>\n",
       "      <td>1660470</td>\n",
       "      <td>2024-04-25</td>\n",
       "    </tr>\n",
       "    <tr>\n",
       "      <th>4</th>\n",
       "      <td>2024-04-25 09:27:00</td>\n",
       "      <td>48162.25</td>\n",
       "      <td>48195.75</td>\n",
       "      <td>48162.25</td>\n",
       "      <td>48189.20</td>\n",
       "      <td>18930</td>\n",
       "      <td>1659585</td>\n",
       "      <td>2024-04-25</td>\n",
       "    </tr>\n",
       "  </tbody>\n",
       "</table>\n",
       "</div>"
      ],
      "text/plain": [
       "                 date      open      high       low     close  volume  \\\n",
       "0 2024-04-25 09:15:00  48005.40  48236.15  47999.90  48157.95  136770   \n",
       "1 2024-04-25 09:18:00  48161.00  48163.20  48130.00  48155.30   49470   \n",
       "2 2024-04-25 09:21:00  48153.15  48164.80  48139.80  48142.00   22890   \n",
       "3 2024-04-25 09:24:00  48142.00  48169.95  48142.00  48163.80   21135   \n",
       "4 2024-04-25 09:27:00  48162.25  48195.75  48162.25  48189.20   18930   \n",
       "\n",
       "        oi  date_only  \n",
       "0  1639500 2024-04-25  \n",
       "1  1649085 2024-04-25  \n",
       "2  1657440 2024-04-25  \n",
       "3  1660470 2024-04-25  \n",
       "4  1659585 2024-04-25  "
      ]
     },
     "execution_count": 121,
     "metadata": {},
     "output_type": "execute_result"
    }
   ],
   "source": [
    "df.head()"
   ]
  },
  {
   "cell_type": "code",
   "execution_count": 122,
   "metadata": {},
   "outputs": [],
   "source": [
    "df_merged = df.merge(df_call_atm, on = 'date', suffixes = (\"_fut\", '_strike'))"
   ]
  },
  {
   "cell_type": "code",
   "execution_count": 123,
   "metadata": {},
   "outputs": [],
   "source": [
    "import pandas as pd\n",
    "\n",
    "# Assuming df_merged is your DataFrame with columns 'date', 'close_fut', and 'close_strike'\n",
    "\n",
    "# Calculate the day-over-day changes for 'close_fut' and 'close_strike'\n",
    "df_merged['change_close_fut'] = df_merged['close_fut'].diff()\n",
    "df_merged['change_close_strike'] = df_merged['close_strike'].diff()\n",
    "\n",
    "# Calculate the sensitivity of 'close_strike' relative to 'close_fut'\n",
    "# We'll avoid division by zero by replacing 0 with NaN in the denominator\n",
    "df_merged['sensitivity'] = df_merged['change_close_strike'] / df_merged['change_close_fut'].replace({0: pd.NA})\n",
    "\n",
    "\n",
    "# Optional: if you want to know the sensitivity for a specific 1 point change in 'close_fut',\n",
    "# you can calculate the average sensitivity where 'change_close_fut' is non-zero\n",
    "average_sensitivity = df_merged[df_merged['change_close_fut'] != 0]['sensitivity'].mean()\n"
   ]
  },
  {
   "cell_type": "code",
   "execution_count": 126,
   "metadata": {},
   "outputs": [
    {
     "data": {
      "text/html": [
       "<div>\n",
       "<style scoped>\n",
       "    .dataframe tbody tr th:only-of-type {\n",
       "        vertical-align: middle;\n",
       "    }\n",
       "\n",
       "    .dataframe tbody tr th {\n",
       "        vertical-align: top;\n",
       "    }\n",
       "\n",
       "    .dataframe thead th {\n",
       "        text-align: right;\n",
       "    }\n",
       "</style>\n",
       "<table border=\"1\" class=\"dataframe\">\n",
       "  <thead>\n",
       "    <tr style=\"text-align: right;\">\n",
       "      <th></th>\n",
       "      <th>date</th>\n",
       "      <th>close_fut</th>\n",
       "      <th>close_strike</th>\n",
       "      <th>change_close_fut</th>\n",
       "      <th>change_close_strike</th>\n",
       "      <th>sensitivity</th>\n",
       "    </tr>\n",
       "  </thead>\n",
       "  <tbody>\n",
       "    <tr>\n",
       "      <th>221</th>\n",
       "      <td>2024-04-26 14:03:00</td>\n",
       "      <td>48452.20</td>\n",
       "      <td>357.50</td>\n",
       "      <td>1.30</td>\n",
       "      <td>1.10</td>\n",
       "      <td>0.846154</td>\n",
       "    </tr>\n",
       "    <tr>\n",
       "      <th>222</th>\n",
       "      <td>2024-04-26 14:06:00</td>\n",
       "      <td>48451.90</td>\n",
       "      <td>355.85</td>\n",
       "      <td>-0.30</td>\n",
       "      <td>-1.65</td>\n",
       "      <td>5.5</td>\n",
       "    </tr>\n",
       "    <tr>\n",
       "      <th>223</th>\n",
       "      <td>2024-04-26 14:09:00</td>\n",
       "      <td>48495.05</td>\n",
       "      <td>373.95</td>\n",
       "      <td>43.15</td>\n",
       "      <td>18.10</td>\n",
       "      <td>0.419467</td>\n",
       "    </tr>\n",
       "    <tr>\n",
       "      <th>224</th>\n",
       "      <td>2024-04-26 14:12:00</td>\n",
       "      <td>48490.25</td>\n",
       "      <td>372.30</td>\n",
       "      <td>-4.80</td>\n",
       "      <td>-1.65</td>\n",
       "      <td>0.34375</td>\n",
       "    </tr>\n",
       "    <tr>\n",
       "      <th>225</th>\n",
       "      <td>2024-04-26 14:15:00</td>\n",
       "      <td>48542.80</td>\n",
       "      <td>403.60</td>\n",
       "      <td>52.55</td>\n",
       "      <td>31.30</td>\n",
       "      <td>0.595623</td>\n",
       "    </tr>\n",
       "    <tr>\n",
       "      <th>226</th>\n",
       "      <td>2024-04-26 14:18:00</td>\n",
       "      <td>48527.80</td>\n",
       "      <td>393.25</td>\n",
       "      <td>-15.00</td>\n",
       "      <td>-10.35</td>\n",
       "      <td>0.69</td>\n",
       "    </tr>\n",
       "    <tr>\n",
       "      <th>227</th>\n",
       "      <td>2024-04-26 14:21:00</td>\n",
       "      <td>48505.65</td>\n",
       "      <td>379.35</td>\n",
       "      <td>-22.15</td>\n",
       "      <td>-13.90</td>\n",
       "      <td>0.62754</td>\n",
       "    </tr>\n",
       "    <tr>\n",
       "      <th>228</th>\n",
       "      <td>2024-04-26 14:24:00</td>\n",
       "      <td>48485.10</td>\n",
       "      <td>371.60</td>\n",
       "      <td>-20.55</td>\n",
       "      <td>-7.75</td>\n",
       "      <td>0.377129</td>\n",
       "    </tr>\n",
       "    <tr>\n",
       "      <th>229</th>\n",
       "      <td>2024-04-26 14:27:00</td>\n",
       "      <td>48471.10</td>\n",
       "      <td>364.00</td>\n",
       "      <td>-14.00</td>\n",
       "      <td>-7.60</td>\n",
       "      <td>0.542857</td>\n",
       "    </tr>\n",
       "    <tr>\n",
       "      <th>230</th>\n",
       "      <td>2024-04-26 14:30:00</td>\n",
       "      <td>48492.00</td>\n",
       "      <td>375.45</td>\n",
       "      <td>20.90</td>\n",
       "      <td>11.45</td>\n",
       "      <td>0.547847</td>\n",
       "    </tr>\n",
       "  </tbody>\n",
       "</table>\n",
       "</div>"
      ],
      "text/plain": [
       "                   date  close_fut  close_strike  change_close_fut  \\\n",
       "221 2024-04-26 14:03:00   48452.20        357.50              1.30   \n",
       "222 2024-04-26 14:06:00   48451.90        355.85             -0.30   \n",
       "223 2024-04-26 14:09:00   48495.05        373.95             43.15   \n",
       "224 2024-04-26 14:12:00   48490.25        372.30             -4.80   \n",
       "225 2024-04-26 14:15:00   48542.80        403.60             52.55   \n",
       "226 2024-04-26 14:18:00   48527.80        393.25            -15.00   \n",
       "227 2024-04-26 14:21:00   48505.65        379.35            -22.15   \n",
       "228 2024-04-26 14:24:00   48485.10        371.60            -20.55   \n",
       "229 2024-04-26 14:27:00   48471.10        364.00            -14.00   \n",
       "230 2024-04-26 14:30:00   48492.00        375.45             20.90   \n",
       "\n",
       "     change_close_strike sensitivity  \n",
       "221                 1.10    0.846154  \n",
       "222                -1.65         5.5  \n",
       "223                18.10    0.419467  \n",
       "224                -1.65     0.34375  \n",
       "225                31.30    0.595623  \n",
       "226               -10.35        0.69  \n",
       "227               -13.90     0.62754  \n",
       "228                -7.75    0.377129  \n",
       "229                -7.60    0.542857  \n",
       "230                11.45    0.547847  "
      ]
     },
     "execution_count": 126,
     "metadata": {},
     "output_type": "execute_result"
    }
   ],
   "source": [
    "df_merged[\n",
    "    ['date','close_fut','close_strike','change_close_fut','change_close_strike','sensitivity']].tail(10)"
   ]
  },
  {
   "cell_type": "code",
   "execution_count": 90,
   "metadata": {},
   "outputs": [
    {
     "data": {
      "text/html": [
       "<div>\n",
       "<style scoped>\n",
       "    .dataframe tbody tr th:only-of-type {\n",
       "        vertical-align: middle;\n",
       "    }\n",
       "\n",
       "    .dataframe tbody tr th {\n",
       "        vertical-align: top;\n",
       "    }\n",
       "\n",
       "    .dataframe thead th {\n",
       "        text-align: right;\n",
       "    }\n",
       "</style>\n",
       "<table border=\"1\" class=\"dataframe\">\n",
       "  <thead>\n",
       "    <tr style=\"text-align: right;\">\n",
       "      <th></th>\n",
       "      <th>date</th>\n",
       "      <th>open_fut</th>\n",
       "      <th>high_fut</th>\n",
       "      <th>low_fut</th>\n",
       "      <th>close_fut</th>\n",
       "      <th>volume_fut</th>\n",
       "      <th>oi_fut</th>\n",
       "      <th>date_only_fut</th>\n",
       "      <th>open_sp</th>\n",
       "      <th>high_sp</th>\n",
       "      <th>low_sp</th>\n",
       "      <th>close_sp</th>\n",
       "      <th>volume_sp</th>\n",
       "      <th>oi_sp</th>\n",
       "      <th>date_only_sp</th>\n",
       "    </tr>\n",
       "  </thead>\n",
       "  <tbody>\n",
       "    <tr>\n",
       "      <th>0</th>\n",
       "      <td>2024-04-25 09:15:00</td>\n",
       "      <td>48005.40</td>\n",
       "      <td>48236.15</td>\n",
       "      <td>47999.90</td>\n",
       "      <td>48157.95</td>\n",
       "      <td>136770</td>\n",
       "      <td>1639500</td>\n",
       "      <td>2024-04-25</td>\n",
       "      <td>161.90</td>\n",
       "      <td>211.60</td>\n",
       "      <td>142.05</td>\n",
       "      <td>171.95</td>\n",
       "      <td>294375</td>\n",
       "      <td>275475</td>\n",
       "      <td>2024-04-25</td>\n",
       "    </tr>\n",
       "    <tr>\n",
       "      <th>1</th>\n",
       "      <td>2024-04-25 09:18:00</td>\n",
       "      <td>48161.00</td>\n",
       "      <td>48163.20</td>\n",
       "      <td>48130.00</td>\n",
       "      <td>48155.30</td>\n",
       "      <td>49470</td>\n",
       "      <td>1649085</td>\n",
       "      <td>2024-04-25</td>\n",
       "      <td>171.95</td>\n",
       "      <td>174.75</td>\n",
       "      <td>157.20</td>\n",
       "      <td>160.95</td>\n",
       "      <td>209085</td>\n",
       "      <td>336420</td>\n",
       "      <td>2024-04-25</td>\n",
       "    </tr>\n",
       "    <tr>\n",
       "      <th>2</th>\n",
       "      <td>2024-04-25 09:21:00</td>\n",
       "      <td>48153.15</td>\n",
       "      <td>48164.80</td>\n",
       "      <td>48139.80</td>\n",
       "      <td>48142.00</td>\n",
       "      <td>22890</td>\n",
       "      <td>1657440</td>\n",
       "      <td>2024-04-25</td>\n",
       "      <td>160.85</td>\n",
       "      <td>166.75</td>\n",
       "      <td>154.45</td>\n",
       "      <td>157.55</td>\n",
       "      <td>132000</td>\n",
       "      <td>374400</td>\n",
       "      <td>2024-04-25</td>\n",
       "    </tr>\n",
       "    <tr>\n",
       "      <th>3</th>\n",
       "      <td>2024-04-25 09:24:00</td>\n",
       "      <td>48142.00</td>\n",
       "      <td>48169.95</td>\n",
       "      <td>48142.00</td>\n",
       "      <td>48163.80</td>\n",
       "      <td>21135</td>\n",
       "      <td>1660470</td>\n",
       "      <td>2024-04-25</td>\n",
       "      <td>157.55</td>\n",
       "      <td>165.95</td>\n",
       "      <td>155.25</td>\n",
       "      <td>165.05</td>\n",
       "      <td>141435</td>\n",
       "      <td>401685</td>\n",
       "      <td>2024-04-25</td>\n",
       "    </tr>\n",
       "    <tr>\n",
       "      <th>4</th>\n",
       "      <td>2024-04-25 09:27:00</td>\n",
       "      <td>48162.25</td>\n",
       "      <td>48195.75</td>\n",
       "      <td>48162.25</td>\n",
       "      <td>48189.20</td>\n",
       "      <td>18930</td>\n",
       "      <td>1659585</td>\n",
       "      <td>2024-04-25</td>\n",
       "      <td>165.05</td>\n",
       "      <td>183.10</td>\n",
       "      <td>164.70</td>\n",
       "      <td>178.95</td>\n",
       "      <td>161685</td>\n",
       "      <td>423285</td>\n",
       "      <td>2024-04-25</td>\n",
       "    </tr>\n",
       "    <tr>\n",
       "      <th>...</th>\n",
       "      <td>...</td>\n",
       "      <td>...</td>\n",
       "      <td>...</td>\n",
       "      <td>...</td>\n",
       "      <td>...</td>\n",
       "      <td>...</td>\n",
       "      <td>...</td>\n",
       "      <td>...</td>\n",
       "      <td>...</td>\n",
       "      <td>...</td>\n",
       "      <td>...</td>\n",
       "      <td>...</td>\n",
       "      <td>...</td>\n",
       "      <td>...</td>\n",
       "      <td>...</td>\n",
       "    </tr>\n",
       "    <tr>\n",
       "      <th>201</th>\n",
       "      <td>2024-04-26 13:03:00</td>\n",
       "      <td>48638.85</td>\n",
       "      <td>48640.00</td>\n",
       "      <td>48622.00</td>\n",
       "      <td>48629.80</td>\n",
       "      <td>2880</td>\n",
       "      <td>1821315</td>\n",
       "      <td>2024-04-26</td>\n",
       "      <td>336.70</td>\n",
       "      <td>339.95</td>\n",
       "      <td>330.75</td>\n",
       "      <td>338.60</td>\n",
       "      <td>177960</td>\n",
       "      <td>1671945</td>\n",
       "      <td>2024-04-26</td>\n",
       "    </tr>\n",
       "    <tr>\n",
       "      <th>202</th>\n",
       "      <td>2024-04-26 13:06:00</td>\n",
       "      <td>48627.40</td>\n",
       "      <td>48639.75</td>\n",
       "      <td>48611.00</td>\n",
       "      <td>48613.35</td>\n",
       "      <td>3885</td>\n",
       "      <td>1821330</td>\n",
       "      <td>2024-04-26</td>\n",
       "      <td>338.65</td>\n",
       "      <td>340.65</td>\n",
       "      <td>325.85</td>\n",
       "      <td>332.25</td>\n",
       "      <td>228060</td>\n",
       "      <td>1681230</td>\n",
       "      <td>2024-04-26</td>\n",
       "    </tr>\n",
       "    <tr>\n",
       "      <th>203</th>\n",
       "      <td>2024-04-26 13:09:00</td>\n",
       "      <td>48615.75</td>\n",
       "      <td>48639.00</td>\n",
       "      <td>48613.35</td>\n",
       "      <td>48630.15</td>\n",
       "      <td>1875</td>\n",
       "      <td>1821840</td>\n",
       "      <td>2024-04-26</td>\n",
       "      <td>332.25</td>\n",
       "      <td>339.95</td>\n",
       "      <td>330.00</td>\n",
       "      <td>338.25</td>\n",
       "      <td>186660</td>\n",
       "      <td>1663995</td>\n",
       "      <td>2024-04-26</td>\n",
       "    </tr>\n",
       "    <tr>\n",
       "      <th>204</th>\n",
       "      <td>2024-04-26 13:12:00</td>\n",
       "      <td>48630.15</td>\n",
       "      <td>48660.00</td>\n",
       "      <td>48630.15</td>\n",
       "      <td>48645.90</td>\n",
       "      <td>9000</td>\n",
       "      <td>1822500</td>\n",
       "      <td>2024-04-26</td>\n",
       "      <td>338.25</td>\n",
       "      <td>353.15</td>\n",
       "      <td>337.40</td>\n",
       "      <td>343.00</td>\n",
       "      <td>417405</td>\n",
       "      <td>1670610</td>\n",
       "      <td>2024-04-26</td>\n",
       "    </tr>\n",
       "    <tr>\n",
       "      <th>205</th>\n",
       "      <td>2024-04-26 13:15:00</td>\n",
       "      <td>48645.90</td>\n",
       "      <td>48650.00</td>\n",
       "      <td>48623.55</td>\n",
       "      <td>48623.55</td>\n",
       "      <td>2670</td>\n",
       "      <td>1821360</td>\n",
       "      <td>2024-04-26</td>\n",
       "      <td>343.00</td>\n",
       "      <td>347.20</td>\n",
       "      <td>336.00</td>\n",
       "      <td>336.95</td>\n",
       "      <td>131055</td>\n",
       "      <td>1632015</td>\n",
       "      <td>2024-04-26</td>\n",
       "    </tr>\n",
       "  </tbody>\n",
       "</table>\n",
       "<p>206 rows × 15 columns</p>\n",
       "</div>"
      ],
      "text/plain": [
       "                   date  open_fut  high_fut   low_fut  close_fut  volume_fut  \\\n",
       "0   2024-04-25 09:15:00  48005.40  48236.15  47999.90   48157.95      136770   \n",
       "1   2024-04-25 09:18:00  48161.00  48163.20  48130.00   48155.30       49470   \n",
       "2   2024-04-25 09:21:00  48153.15  48164.80  48139.80   48142.00       22890   \n",
       "3   2024-04-25 09:24:00  48142.00  48169.95  48142.00   48163.80       21135   \n",
       "4   2024-04-25 09:27:00  48162.25  48195.75  48162.25   48189.20       18930   \n",
       "..                  ...       ...       ...       ...        ...         ...   \n",
       "201 2024-04-26 13:03:00  48638.85  48640.00  48622.00   48629.80        2880   \n",
       "202 2024-04-26 13:06:00  48627.40  48639.75  48611.00   48613.35        3885   \n",
       "203 2024-04-26 13:09:00  48615.75  48639.00  48613.35   48630.15        1875   \n",
       "204 2024-04-26 13:12:00  48630.15  48660.00  48630.15   48645.90        9000   \n",
       "205 2024-04-26 13:15:00  48645.90  48650.00  48623.55   48623.55        2670   \n",
       "\n",
       "      oi_fut date_only_fut  open_sp  high_sp  low_sp  close_sp  volume_sp  \\\n",
       "0    1639500    2024-04-25   161.90   211.60  142.05    171.95     294375   \n",
       "1    1649085    2024-04-25   171.95   174.75  157.20    160.95     209085   \n",
       "2    1657440    2024-04-25   160.85   166.75  154.45    157.55     132000   \n",
       "3    1660470    2024-04-25   157.55   165.95  155.25    165.05     141435   \n",
       "4    1659585    2024-04-25   165.05   183.10  164.70    178.95     161685   \n",
       "..       ...           ...      ...      ...     ...       ...        ...   \n",
       "201  1821315    2024-04-26   336.70   339.95  330.75    338.60     177960   \n",
       "202  1821330    2024-04-26   338.65   340.65  325.85    332.25     228060   \n",
       "203  1821840    2024-04-26   332.25   339.95  330.00    338.25     186660   \n",
       "204  1822500    2024-04-26   338.25   353.15  337.40    343.00     417405   \n",
       "205  1821360    2024-04-26   343.00   347.20  336.00    336.95     131055   \n",
       "\n",
       "       oi_sp date_only_sp  \n",
       "0     275475   2024-04-25  \n",
       "1     336420   2024-04-25  \n",
       "2     374400   2024-04-25  \n",
       "3     401685   2024-04-25  \n",
       "4     423285   2024-04-25  \n",
       "..       ...          ...  \n",
       "201  1671945   2024-04-26  \n",
       "202  1681230   2024-04-26  \n",
       "203  1663995   2024-04-26  \n",
       "204  1670610   2024-04-26  \n",
       "205  1632015   2024-04-26  \n",
       "\n",
       "[206 rows x 15 columns]"
      ]
     },
     "execution_count": 90,
     "metadata": {},
     "output_type": "execute_result"
    }
   ],
   "source": [
    "df_merged"
   ]
  },
  {
   "cell_type": "code",
   "execution_count": null,
   "metadata": {},
   "outputs": [],
   "source": [
    "df = df[df.date_only == \"2024-04-26\"]\n",
    "df.set_index('date', inplace=True)\n",
    "\n",
    "# VWAP Calculation (Manual)\n",
    "cumulative_vp = (df['volume'] * (df['high'] + df['low'] + df['close']) / 3).cumsum()\n",
    "cumulative_volume = df['volume'].cumsum()\n",
    "df['vwap'] = cumulative_vp / cumulative_volume\n",
    "\n",
    "# Calculate ATR using TA-Lib\n",
    "df['atr'] = talib.ATR(df['high'].values, df['low'].values, df['close'].values, timeperiod=10)\n",
    "\n",
    "# Supertrend Calculation\n",
    "factor = 2\n",
    "df['basic_upperband'] = (df['high'] + df['low']) / 2 + (factor * df['atr'])\n",
    "df['basic_lowerband'] = (df['high'] + df['low']) / 2 - (factor * df['atr'])\n",
    "df['supertrend'] = 0.0\n",
    "df['in_uptrend'] = True\n",
    "\n",
    "for current in range(1, len(df.index)):\n",
    "    previous = current - 1\n",
    "    if df['close'][current] > df['basic_upperband'][previous]:\n",
    "        df['in_uptrend'][current] = True\n",
    "    elif df['close'][current] < df['basic_lowerband'][previous]:\n",
    "        df['in_uptrend'][current] = False\n",
    "\n",
    "    if df['in_uptrend'][current]:\n",
    "        df['supertrend'][current] = df['basic_lowerband'][current]\n",
    "    else:\n",
    "        df['supertrend'][current] = df['basic_upperband'][current]"
   ]
  },
  {
   "cell_type": "code",
   "execution_count": 66,
   "metadata": {},
   "outputs": [
    {
     "data": {
      "text/html": [
       "<div>\n",
       "<style scoped>\n",
       "    .dataframe tbody tr th:only-of-type {\n",
       "        vertical-align: middle;\n",
       "    }\n",
       "\n",
       "    .dataframe tbody tr th {\n",
       "        vertical-align: top;\n",
       "    }\n",
       "\n",
       "    .dataframe thead th {\n",
       "        text-align: right;\n",
       "    }\n",
       "</style>\n",
       "<table border=\"1\" class=\"dataframe\">\n",
       "  <thead>\n",
       "    <tr style=\"text-align: right;\">\n",
       "      <th></th>\n",
       "      <th>open</th>\n",
       "      <th>high</th>\n",
       "      <th>low</th>\n",
       "      <th>close</th>\n",
       "      <th>volume</th>\n",
       "      <th>oi</th>\n",
       "      <th>date_only</th>\n",
       "      <th>vwap</th>\n",
       "      <th>atr</th>\n",
       "      <th>basic_upperband</th>\n",
       "      <th>basic_lowerband</th>\n",
       "      <th>supertrend</th>\n",
       "      <th>in_uptrend</th>\n",
       "    </tr>\n",
       "    <tr>\n",
       "      <th>date</th>\n",
       "      <th></th>\n",
       "      <th></th>\n",
       "      <th></th>\n",
       "      <th></th>\n",
       "      <th></th>\n",
       "      <th></th>\n",
       "      <th></th>\n",
       "      <th></th>\n",
       "      <th></th>\n",
       "      <th></th>\n",
       "      <th></th>\n",
       "      <th></th>\n",
       "      <th></th>\n",
       "    </tr>\n",
       "  </thead>\n",
       "  <tbody>\n",
       "    <tr>\n",
       "      <th>2024-04-26 12:48:00</th>\n",
       "      <td>48596.00</td>\n",
       "      <td>48599.00</td>\n",
       "      <td>48583.35</td>\n",
       "      <td>48593.95</td>\n",
       "      <td>5835</td>\n",
       "      <td>1817385</td>\n",
       "      <td>2024-04-26</td>\n",
       "      <td>48619.72</td>\n",
       "      <td>29.79</td>\n",
       "      <td>48650.76</td>\n",
       "      <td>48531.59</td>\n",
       "      <td>48531.59</td>\n",
       "      <td>True</td>\n",
       "    </tr>\n",
       "    <tr>\n",
       "      <th>2024-04-26 12:51:00</th>\n",
       "      <td>48593.95</td>\n",
       "      <td>48646.00</td>\n",
       "      <td>48593.10</td>\n",
       "      <td>48630.90</td>\n",
       "      <td>10860</td>\n",
       "      <td>1816890</td>\n",
       "      <td>2024-04-26</td>\n",
       "      <td>48619.76</td>\n",
       "      <td>32.10</td>\n",
       "      <td>48683.75</td>\n",
       "      <td>48555.35</td>\n",
       "      <td>48555.35</td>\n",
       "      <td>True</td>\n",
       "    </tr>\n",
       "    <tr>\n",
       "      <th>2024-04-26 12:54:00</th>\n",
       "      <td>48638.00</td>\n",
       "      <td>48650.00</td>\n",
       "      <td>48634.85</td>\n",
       "      <td>48644.00</td>\n",
       "      <td>14130</td>\n",
       "      <td>1818525</td>\n",
       "      <td>2024-04-26</td>\n",
       "      <td>48620.09</td>\n",
       "      <td>30.80</td>\n",
       "      <td>48704.03</td>\n",
       "      <td>48580.82</td>\n",
       "      <td>48580.82</td>\n",
       "      <td>True</td>\n",
       "    </tr>\n",
       "    <tr>\n",
       "      <th>2024-04-26 12:57:00</th>\n",
       "      <td>48638.65</td>\n",
       "      <td>48650.00</td>\n",
       "      <td>48615.00</td>\n",
       "      <td>48628.65</td>\n",
       "      <td>8760</td>\n",
       "      <td>1817610</td>\n",
       "      <td>2024-04-26</td>\n",
       "      <td>48620.19</td>\n",
       "      <td>31.22</td>\n",
       "      <td>48694.94</td>\n",
       "      <td>48570.06</td>\n",
       "      <td>48570.06</td>\n",
       "      <td>True</td>\n",
       "    </tr>\n",
       "    <tr>\n",
       "      <th>2024-04-26 13:00:00</th>\n",
       "      <td>48628.65</td>\n",
       "      <td>48628.65</td>\n",
       "      <td>48620.05</td>\n",
       "      <td>48620.95</td>\n",
       "      <td>525</td>\n",
       "      <td>1817610</td>\n",
       "      <td>2024-04-26</td>\n",
       "      <td>48620.19</td>\n",
       "      <td>28.96</td>\n",
       "      <td>48682.27</td>\n",
       "      <td>48566.43</td>\n",
       "      <td>48566.43</td>\n",
       "      <td>True</td>\n",
       "    </tr>\n",
       "  </tbody>\n",
       "</table>\n",
       "</div>"
      ],
      "text/plain": [
       "                         open      high       low     close  volume       oi  \\\n",
       "date                                                                           \n",
       "2024-04-26 12:48:00  48596.00  48599.00  48583.35  48593.95    5835  1817385   \n",
       "2024-04-26 12:51:00  48593.95  48646.00  48593.10  48630.90   10860  1816890   \n",
       "2024-04-26 12:54:00  48638.00  48650.00  48634.85  48644.00   14130  1818525   \n",
       "2024-04-26 12:57:00  48638.65  48650.00  48615.00  48628.65    8760  1817610   \n",
       "2024-04-26 13:00:00  48628.65  48628.65  48620.05  48620.95     525  1817610   \n",
       "\n",
       "                     date_only      vwap    atr  basic_upperband  \\\n",
       "date                                                               \n",
       "2024-04-26 12:48:00 2024-04-26  48619.72  29.79         48650.76   \n",
       "2024-04-26 12:51:00 2024-04-26  48619.76  32.10         48683.75   \n",
       "2024-04-26 12:54:00 2024-04-26  48620.09  30.80         48704.03   \n",
       "2024-04-26 12:57:00 2024-04-26  48620.19  31.22         48694.94   \n",
       "2024-04-26 13:00:00 2024-04-26  48620.19  28.96         48682.27   \n",
       "\n",
       "                     basic_lowerband  supertrend  in_uptrend  \n",
       "date                                                          \n",
       "2024-04-26 12:48:00         48531.59    48531.59        True  \n",
       "2024-04-26 12:51:00         48555.35    48555.35        True  \n",
       "2024-04-26 12:54:00         48580.82    48580.82        True  \n",
       "2024-04-26 12:57:00         48570.06    48570.06        True  \n",
       "2024-04-26 13:00:00         48566.43    48566.43        True  "
      ]
     },
     "execution_count": 66,
     "metadata": {},
     "output_type": "execute_result"
    }
   ],
   "source": [
    "df.round(2).tail(5)"
   ]
  },
  {
   "cell_type": "code",
   "execution_count": null,
   "metadata": {},
   "outputs": [],
   "source": [
    "import pandas as pd\n",
    "import numpy as np\n",
    "import talib\n",
    "\n",
    "# # Example DataFrame\n",
    "# data = {\n",
    "#     'date': pd.date_range(start='2023-01-01', periods=100, freq='D'),\n",
    "#     'open': np.random.random(100) * 100,\n",
    "#     'high': np.random.random(100) * 100,\n",
    "#     'low': np.random.random(100) * 100,\n",
    "#     'close': np.random.random(100) * 100,\n",
    "#     'volume': np.random.randint(100, 1000, 100)\n",
    "# }\n",
    "\n",
    "# df = pd.DataFrame(data)\n",
    "\n",
    "\n",
    "\n",
    "\n",
    "\n"
   ]
  },
  {
   "cell_type": "code",
   "execution_count": 5,
   "metadata": {},
   "outputs": [
    {
     "data": {
      "text/html": [
       "<div>\n",
       "<style scoped>\n",
       "    .dataframe tbody tr th:only-of-type {\n",
       "        vertical-align: middle;\n",
       "    }\n",
       "\n",
       "    .dataframe tbody tr th {\n",
       "        vertical-align: top;\n",
       "    }\n",
       "\n",
       "    .dataframe thead th {\n",
       "        text-align: right;\n",
       "    }\n",
       "</style>\n",
       "<table border=\"1\" class=\"dataframe\">\n",
       "  <thead>\n",
       "    <tr style=\"text-align: right;\">\n",
       "      <th></th>\n",
       "      <th>instrument_token</th>\n",
       "      <th>exchange_token</th>\n",
       "      <th>tradingsymbol</th>\n",
       "      <th>name</th>\n",
       "      <th>last_price</th>\n",
       "      <th>expiry</th>\n",
       "      <th>strike</th>\n",
       "      <th>tick_size</th>\n",
       "      <th>lot_size</th>\n",
       "      <th>instrument_type</th>\n",
       "      <th>segment</th>\n",
       "      <th>exchange</th>\n",
       "    </tr>\n",
       "  </thead>\n",
       "  <tbody>\n",
       "    <tr>\n",
       "      <th>0</th>\n",
       "      <td>12014082</td>\n",
       "      <td>46930</td>\n",
       "      <td>NIFTY24MAYFUT</td>\n",
       "      <td>NIFTY</td>\n",
       "      <td>0.0</td>\n",
       "      <td>2024-05-30</td>\n",
       "      <td>0.0</td>\n",
       "      <td>0.05</td>\n",
       "      <td>25</td>\n",
       "      <td>FUT</td>\n",
       "      <td>NFO-FUT</td>\n",
       "      <td>NFO</td>\n",
       "    </tr>\n",
       "    <tr>\n",
       "      <th>1</th>\n",
       "      <td>8961026</td>\n",
       "      <td>35004</td>\n",
       "      <td>NIFTY24JUNFUT</td>\n",
       "      <td>NIFTY</td>\n",
       "      <td>0.0</td>\n",
       "      <td>2024-06-27</td>\n",
       "      <td>0.0</td>\n",
       "      <td>0.05</td>\n",
       "      <td>25</td>\n",
       "      <td>FUT</td>\n",
       "      <td>NFO-FUT</td>\n",
       "      <td>NFO</td>\n",
       "    </tr>\n",
       "    <tr>\n",
       "      <th>2</th>\n",
       "      <td>8961794</td>\n",
       "      <td>35007</td>\n",
       "      <td>NIFTY24JULFUT</td>\n",
       "      <td>NIFTY</td>\n",
       "      <td>0.0</td>\n",
       "      <td>2024-07-25</td>\n",
       "      <td>0.0</td>\n",
       "      <td>0.05</td>\n",
       "      <td>25</td>\n",
       "      <td>FUT</td>\n",
       "      <td>NFO-FUT</td>\n",
       "      <td>NFO</td>\n",
       "    </tr>\n",
       "    <tr>\n",
       "      <th>3</th>\n",
       "      <td>12012290</td>\n",
       "      <td>46923</td>\n",
       "      <td>BANKNIFTY24MAYFUT</td>\n",
       "      <td>BANKNIFTY</td>\n",
       "      <td>0.0</td>\n",
       "      <td>2024-05-29</td>\n",
       "      <td>0.0</td>\n",
       "      <td>0.05</td>\n",
       "      <td>15</td>\n",
       "      <td>FUT</td>\n",
       "      <td>NFO-FUT</td>\n",
       "      <td>NFO</td>\n",
       "    </tr>\n",
       "    <tr>\n",
       "      <th>4</th>\n",
       "      <td>8965122</td>\n",
       "      <td>35020</td>\n",
       "      <td>BANKNIFTY24JUNFUT</td>\n",
       "      <td>BANKNIFTY</td>\n",
       "      <td>0.0</td>\n",
       "      <td>2024-06-26</td>\n",
       "      <td>0.0</td>\n",
       "      <td>0.05</td>\n",
       "      <td>15</td>\n",
       "      <td>FUT</td>\n",
       "      <td>NFO-FUT</td>\n",
       "      <td>NFO</td>\n",
       "    </tr>\n",
       "    <tr>\n",
       "      <th>...</th>\n",
       "      <td>...</td>\n",
       "      <td>...</td>\n",
       "      <td>...</td>\n",
       "      <td>...</td>\n",
       "      <td>...</td>\n",
       "      <td>...</td>\n",
       "      <td>...</td>\n",
       "      <td>...</td>\n",
       "      <td>...</td>\n",
       "      <td>...</td>\n",
       "      <td>...</td>\n",
       "      <td>...</td>\n",
       "    </tr>\n",
       "    <tr>\n",
       "      <th>34230</th>\n",
       "      <td>37560578</td>\n",
       "      <td>146721</td>\n",
       "      <td>ZYDUSLIFE24JUL1060PE</td>\n",
       "      <td>ZYDUSLIFE</td>\n",
       "      <td>0.0</td>\n",
       "      <td>2024-07-25</td>\n",
       "      <td>1060.0</td>\n",
       "      <td>0.05</td>\n",
       "      <td>900</td>\n",
       "      <td>PE</td>\n",
       "      <td>NFO-OPT</td>\n",
       "      <td>NFO</td>\n",
       "    </tr>\n",
       "    <tr>\n",
       "      <th>34231</th>\n",
       "      <td>37560834</td>\n",
       "      <td>146722</td>\n",
       "      <td>ZYDUSLIFE24JUL1080CE</td>\n",
       "      <td>ZYDUSLIFE</td>\n",
       "      <td>0.0</td>\n",
       "      <td>2024-07-25</td>\n",
       "      <td>1080.0</td>\n",
       "      <td>0.05</td>\n",
       "      <td>900</td>\n",
       "      <td>CE</td>\n",
       "      <td>NFO-OPT</td>\n",
       "      <td>NFO</td>\n",
       "    </tr>\n",
       "    <tr>\n",
       "      <th>34232</th>\n",
       "      <td>37561090</td>\n",
       "      <td>146723</td>\n",
       "      <td>ZYDUSLIFE24JUL1080PE</td>\n",
       "      <td>ZYDUSLIFE</td>\n",
       "      <td>0.0</td>\n",
       "      <td>2024-07-25</td>\n",
       "      <td>1080.0</td>\n",
       "      <td>0.05</td>\n",
       "      <td>900</td>\n",
       "      <td>PE</td>\n",
       "      <td>NFO-OPT</td>\n",
       "      <td>NFO</td>\n",
       "    </tr>\n",
       "    <tr>\n",
       "      <th>34233</th>\n",
       "      <td>37561858</td>\n",
       "      <td>146726</td>\n",
       "      <td>ZYDUSLIFE24JUL1120CE</td>\n",
       "      <td>ZYDUSLIFE</td>\n",
       "      <td>0.0</td>\n",
       "      <td>2024-07-25</td>\n",
       "      <td>1120.0</td>\n",
       "      <td>0.05</td>\n",
       "      <td>900</td>\n",
       "      <td>CE</td>\n",
       "      <td>NFO-OPT</td>\n",
       "      <td>NFO</td>\n",
       "    </tr>\n",
       "    <tr>\n",
       "      <th>34234</th>\n",
       "      <td>37562114</td>\n",
       "      <td>146727</td>\n",
       "      <td>ZYDUSLIFE24JUL1120PE</td>\n",
       "      <td>ZYDUSLIFE</td>\n",
       "      <td>0.0</td>\n",
       "      <td>2024-07-25</td>\n",
       "      <td>1120.0</td>\n",
       "      <td>0.05</td>\n",
       "      <td>900</td>\n",
       "      <td>PE</td>\n",
       "      <td>NFO-OPT</td>\n",
       "      <td>NFO</td>\n",
       "    </tr>\n",
       "  </tbody>\n",
       "</table>\n",
       "<p>34235 rows × 12 columns</p>\n",
       "</div>"
      ],
      "text/plain": [
       "       instrument_token exchange_token         tradingsymbol       name  \\\n",
       "0              12014082          46930         NIFTY24MAYFUT      NIFTY   \n",
       "1               8961026          35004         NIFTY24JUNFUT      NIFTY   \n",
       "2               8961794          35007         NIFTY24JULFUT      NIFTY   \n",
       "3              12012290          46923     BANKNIFTY24MAYFUT  BANKNIFTY   \n",
       "4               8965122          35020     BANKNIFTY24JUNFUT  BANKNIFTY   \n",
       "...                 ...            ...                   ...        ...   \n",
       "34230          37560578         146721  ZYDUSLIFE24JUL1060PE  ZYDUSLIFE   \n",
       "34231          37560834         146722  ZYDUSLIFE24JUL1080CE  ZYDUSLIFE   \n",
       "34232          37561090         146723  ZYDUSLIFE24JUL1080PE  ZYDUSLIFE   \n",
       "34233          37561858         146726  ZYDUSLIFE24JUL1120CE  ZYDUSLIFE   \n",
       "34234          37562114         146727  ZYDUSLIFE24JUL1120PE  ZYDUSLIFE   \n",
       "\n",
       "       last_price      expiry  strike  tick_size  lot_size instrument_type  \\\n",
       "0             0.0  2024-05-30     0.0       0.05        25             FUT   \n",
       "1             0.0  2024-06-27     0.0       0.05        25             FUT   \n",
       "2             0.0  2024-07-25     0.0       0.05        25             FUT   \n",
       "3             0.0  2024-05-29     0.0       0.05        15             FUT   \n",
       "4             0.0  2024-06-26     0.0       0.05        15             FUT   \n",
       "...           ...         ...     ...        ...       ...             ...   \n",
       "34230         0.0  2024-07-25  1060.0       0.05       900              PE   \n",
       "34231         0.0  2024-07-25  1080.0       0.05       900              CE   \n",
       "34232         0.0  2024-07-25  1080.0       0.05       900              PE   \n",
       "34233         0.0  2024-07-25  1120.0       0.05       900              CE   \n",
       "34234         0.0  2024-07-25  1120.0       0.05       900              PE   \n",
       "\n",
       "       segment exchange  \n",
       "0      NFO-FUT      NFO  \n",
       "1      NFO-FUT      NFO  \n",
       "2      NFO-FUT      NFO  \n",
       "3      NFO-FUT      NFO  \n",
       "4      NFO-FUT      NFO  \n",
       "...        ...      ...  \n",
       "34230  NFO-OPT      NFO  \n",
       "34231  NFO-OPT      NFO  \n",
       "34232  NFO-OPT      NFO  \n",
       "34233  NFO-OPT      NFO  \n",
       "34234  NFO-OPT      NFO  \n",
       "\n",
       "[34235 rows x 12 columns]"
      ]
     },
     "execution_count": 5,
     "metadata": {},
     "output_type": "execute_result"
    }
   ],
   "source": [
    "inst"
   ]
  },
  {
   "cell_type": "markdown",
   "metadata": {},
   "source": [
    "## stock selection "
   ]
  },
  {
   "cell_type": "markdown",
   "metadata": {},
   "source": [
    "first get list of shares to check \n",
    "1. eod analyser, futures data at day level to check last 3 to 4 days pattern\n",
    "2. futures data of current day, to look some buildup in the morning\n",
    "3. future price data to check OL, OH\n",
    "4. future price to check how many high or low breaks\n"
   ]
  },
  {
   "cell_type": "code",
   "execution_count": 7,
   "metadata": {},
   "outputs": [],
   "source": [
    "from tqdm import tqdm\n",
    "def fetch_market_data(kite, expiry_march, start_dt, end_dt, time_frame=\"minute\"):\n",
    "    df_expiry_hist_data = pd.DataFrame()\n",
    "    strike_symbol_dict = dict(\n",
    "        zip(expiry_march.instrument_token, expiry_march[\"name\"])\n",
    "    )\n",
    "    inst_expiry = expiry_march[\"instrument_token\"].unique().tolist()\n",
    "    for i in tqdm(inst_expiry):\n",
    "        try:\n",
    "            df = pd.DataFrame(\n",
    "                kite.historical_data(\n",
    "                    i,\n",
    "                    from_date=start_dt,\n",
    "                    to_date=end_dt,\n",
    "                    interval=time_frame,\n",
    "                    continuous=False,\n",
    "                    oi=True,\n",
    "                )\n",
    "            )\n",
    "            df[\"symbol\"] = strike_symbol_dict[i]\n",
    "            df_expiry_hist_data = df_expiry_hist_data.append(df)\n",
    "        except Exception as e:\n",
    "            print(e)\n",
    "            continue\n",
    "    df_expiry_hist_data[\"date\"] = pd.to_datetime(\n",
    "        df_expiry_hist_data[\"date\"]\n",
    "    ).dt.tz_localize(None)\n",
    "    df_expiry_hist_data[\"date_only\"] = pd.to_datetime(\n",
    "        df_expiry_hist_data[\"date\"].dt.date\n",
    "    )\n",
    "    return df_expiry_hist_data"
   ]
  },
  {
   "cell_type": "code",
   "execution_count": 6,
   "metadata": {},
   "outputs": [],
   "source": [
    "\n",
    "def classify_action(row):\n",
    "    if pd.isna(row['oi_diff']) or pd.isna(row['close_diff']):\n",
    "        return None  # Ignore the first row for each symbol as it has no previous day to compare\n",
    "    if row['oi_diff'] > 0 and row['close_diff'] > 0:\n",
    "        return 'Long Buildup'\n",
    "    elif row['oi_diff'] > 0 and row['close_diff'] < 0:\n",
    "        return 'Short Buildup'\n",
    "    elif row['oi_diff'] < 0 and row['close_diff'] > 0:\n",
    "        return 'Short Covering'\n",
    "    elif row['oi_diff'] < 0 and row['close_diff'] < 0:\n",
    "        return 'Long Unwinding'\n",
    "    else:\n",
    "        return 'No Change'  # This covers cases where either oi or close doesn't change\n",
    "\n",
    "\n",
    "def get_buildup_tag(df_data):\n",
    "    # Sorting by symbol and date to ensure the data is in the right order\n",
    "    df_data.sort_values(by=['symbol', 'date'], inplace=True)\n",
    "\n",
    "    # Calculate differences and percentage changes\n",
    "    df_data['oi_diff'] = df_data.groupby('symbol')['oi'].diff()\n",
    "    df_data['oi_pct_chg'] = df_data.groupby('symbol')['oi'].pct_change() * 100\n",
    "    df_data['close_diff'] = df_data.groupby('symbol')['close'].diff()\n",
    "    df_data['close_pct_chg'] = df_data.groupby('symbol')['close'].pct_change() * 100\n",
    "    # Apply function\n",
    "    df_data['Market_Action'] = df_data.apply(classify_action, axis=1)\n",
    "\n",
    "    df_data = df_data.round(2)\n",
    "    return df_data\n",
    "\n",
    "\n",
    "def get_majority_buildup_flag(df_titan):\n",
    "    # Sample df_titan loading\n",
    "    df_titan['volume'] = pd.to_numeric(df_titan['volume'])\n",
    "\n",
    "    # Calculate percentage change in volume\n",
    "    # df_titan['perc_change_volume'] = df_titan.groupby('symbol')['volume'].pct_change() * 100\n",
    "    df_titan['perc_change_volume'] = df_titan['volume']\n",
    "    mean_volume = df_titan['perc_change_volume'].mean()\n",
    "    std_volume = df_titan['perc_change_volume'].std()\n",
    "    df_titan['std_flag'] = ((df_titan['perc_change_volume'] > mean_volume + 2 * std_volume) | (df_titan['perc_change_volume'] < mean_volume - 2 * std_volume))\n",
    "\n",
    "    Q1 = df_titan['perc_change_volume'].quantile(0.25)\n",
    "    Q3 = df_titan['perc_change_volume'].quantile(0.75)\n",
    "    IQR = Q3 - Q1\n",
    "    df_titan['iqr_flag'] = ((df_titan['perc_change_volume'] < Q1 - 1.5 * IQR) | (df_titan['perc_change_volume'] > Q3 + 1.5 * IQR))\n",
    "\n",
    "\n",
    "    df_titan['z_score'] = (df_titan['perc_change_volume'] - mean_volume) / std_volume\n",
    "    df_titan['z_flag'] = (df_titan['z_score'].abs() > 2)\n",
    "\n",
    "    df_titan['majority_flag'] = df_titan[['std_flag', 'iqr_flag', 'z_flag']].sum(axis=1) >= 2\n",
    "    return df_titan"
   ]
  },
  {
   "cell_type": "code",
   "execution_count": 10,
   "metadata": {},
   "outputs": [
    {
     "name": "stderr",
     "output_type": "stream",
     "text": [
      "100%|██████████| 187/187 [00:10<00:00, 18.44it/s]\n"
     ]
    }
   ],
   "source": [
    "inst = pd.DataFrame(kite.instruments(\"NFO\"))\n",
    "april_fut_inst = inst[inst[\"tradingsymbol\"].str.contains('24JUNFUT')]\n",
    "\n",
    "start_dt = \"2024-0-20\"\n",
    "end_dt = \"2024-05-07\" \n",
    "time_frame = \"day\"\n",
    "df_day = fetch_market_data(kite,april_fut_inst, start_dt, end_dt, time_frame=time_frame)"
   ]
  },
  {
   "cell_type": "code",
   "execution_count": 54,
   "metadata": {},
   "outputs": [
    {
     "data": {
      "text/html": [
       "<div>\n",
       "<style scoped>\n",
       "    .dataframe tbody tr th:only-of-type {\n",
       "        vertical-align: middle;\n",
       "    }\n",
       "\n",
       "    .dataframe tbody tr th {\n",
       "        vertical-align: top;\n",
       "    }\n",
       "\n",
       "    .dataframe thead th {\n",
       "        text-align: right;\n",
       "    }\n",
       "</style>\n",
       "<table border=\"1\" class=\"dataframe\">\n",
       "  <thead>\n",
       "    <tr style=\"text-align: right;\">\n",
       "      <th></th>\n",
       "      <th>date</th>\n",
       "      <th>open</th>\n",
       "      <th>high</th>\n",
       "      <th>low</th>\n",
       "      <th>close</th>\n",
       "      <th>volume</th>\n",
       "      <th>oi</th>\n",
       "      <th>symbol</th>\n",
       "      <th>date_only</th>\n",
       "    </tr>\n",
       "  </thead>\n",
       "  <tbody>\n",
       "    <tr>\n",
       "      <th>0</th>\n",
       "      <td>2024-04-22</td>\n",
       "      <td>22325.00</td>\n",
       "      <td>22531.0</td>\n",
       "      <td>22325.00</td>\n",
       "      <td>22496.55</td>\n",
       "      <td>2541350</td>\n",
       "      <td>5333650</td>\n",
       "      <td>NIFTY</td>\n",
       "      <td>2024-04-22</td>\n",
       "    </tr>\n",
       "    <tr>\n",
       "      <th>1</th>\n",
       "      <td>2024-04-23</td>\n",
       "      <td>22549.95</td>\n",
       "      <td>22550.0</td>\n",
       "      <td>22465.00</td>\n",
       "      <td>22485.70</td>\n",
       "      <td>3431850</td>\n",
       "      <td>7013650</td>\n",
       "      <td>NIFTY</td>\n",
       "      <td>2024-04-23</td>\n",
       "    </tr>\n",
       "    <tr>\n",
       "      <th>2</th>\n",
       "      <td>2024-04-24</td>\n",
       "      <td>22535.00</td>\n",
       "      <td>22596.0</td>\n",
       "      <td>22479.05</td>\n",
       "      <td>22509.75</td>\n",
       "      <td>4705350</td>\n",
       "      <td>8788750</td>\n",
       "      <td>NIFTY</td>\n",
       "      <td>2024-04-24</td>\n",
       "    </tr>\n",
       "    <tr>\n",
       "      <th>3</th>\n",
       "      <td>2024-04-25</td>\n",
       "      <td>22435.20</td>\n",
       "      <td>22715.0</td>\n",
       "      <td>22435.15</td>\n",
       "      <td>22653.95</td>\n",
       "      <td>11645250</td>\n",
       "      <td>11448050</td>\n",
       "      <td>NIFTY</td>\n",
       "      <td>2024-04-25</td>\n",
       "    </tr>\n",
       "    <tr>\n",
       "      <th>4</th>\n",
       "      <td>2024-04-26</td>\n",
       "      <td>22684.00</td>\n",
       "      <td>22705.0</td>\n",
       "      <td>22530.00</td>\n",
       "      <td>22556.00</td>\n",
       "      <td>6242950</td>\n",
       "      <td>10399450</td>\n",
       "      <td>NIFTY</td>\n",
       "      <td>2024-04-26</td>\n",
       "    </tr>\n",
       "  </tbody>\n",
       "</table>\n",
       "</div>"
      ],
      "text/plain": [
       "        date      open     high       low     close    volume        oi  \\\n",
       "0 2024-04-22  22325.00  22531.0  22325.00  22496.55   2541350   5333650   \n",
       "1 2024-04-23  22549.95  22550.0  22465.00  22485.70   3431850   7013650   \n",
       "2 2024-04-24  22535.00  22596.0  22479.05  22509.75   4705350   8788750   \n",
       "3 2024-04-25  22435.20  22715.0  22435.15  22653.95  11645250  11448050   \n",
       "4 2024-04-26  22684.00  22705.0  22530.00  22556.00   6242950  10399450   \n",
       "\n",
       "  symbol  date_only  \n",
       "0  NIFTY 2024-04-22  \n",
       "1  NIFTY 2024-04-23  \n",
       "2  NIFTY 2024-04-24  \n",
       "3  NIFTY 2024-04-25  \n",
       "4  NIFTY 2024-04-26  "
      ]
     },
     "execution_count": 54,
     "metadata": {},
     "output_type": "execute_result"
    }
   ],
   "source": [
    "df_day.head()"
   ]
  },
  {
   "cell_type": "code",
   "execution_count": 55,
   "metadata": {},
   "outputs": [
    {
     "name": "stderr",
     "output_type": "stream",
     "text": [
      "  0%|          | 0/187 [00:00<?, ?it/s]"
     ]
    },
    {
     "name": "stderr",
     "output_type": "stream",
     "text": [
      "100%|██████████| 187/187 [00:13<00:00, 14.26it/s]\n"
     ]
    }
   ],
   "source": [
    "start_dt_td = \"2024-04-20\"\n",
    "end_dt_td = \"2024-05-07\" \n",
    "time_frame = \"30minute\"\n",
    "df_data_min = fetch_market_data(kite,april_fut_inst, start_dt_td, end_dt_td, time_frame=time_frame)"
   ]
  },
  {
   "cell_type": "code",
   "execution_count": 56,
   "metadata": {},
   "outputs": [
    {
     "name": "stderr",
     "output_type": "stream",
     "text": [
      "  0%|          | 0/187 [00:00<?, ?it/s]"
     ]
    },
    {
     "name": "stderr",
     "output_type": "stream",
     "text": [
      "100%|██████████| 187/187 [00:10<00:00, 18.30it/s]\n"
     ]
    }
   ],
   "source": [
    "date_list = [\"2024-05-06\", \"2024-05-07\"]\n",
    "# [df_data_min['symbol'] == \"TITAN\"].\n",
    "df_stock_select = pd.DataFrame()\n",
    "for sy in tqdm(df_data_min.symbol.unique()):\n",
    "    try:\n",
    "        df_day_ind = df_day.query(\"symbol == @sy\")\n",
    "        df_day_ind = df_day_ind.sort_values('date_only', ascending = False)\n",
    "\n",
    "        df_titan = df_data_min.query(\"symbol ==@sy\")\n",
    "        df_titan = df_titan[df_titan['date_only'].isin(date_list)]\n",
    "\n",
    "        # current day fut buildup \n",
    "        df_titan = get_buildup_tag(df_titan)\n",
    "        df_titan = get_majority_buildup_flag(df_titan)\n",
    "\n",
    "        # OH and OL logic\n",
    "        df_titan = df_titan.query(\"date_only == '2024-05-07'\")\n",
    "        df_titan['OL'] = df_titan[df_titan['date'].dt.time.between(pd.to_datetime('09:15').time(), pd.to_datetime('09:15').time())].apply(lambda x: x['open'] == x['low'],axis =1 )\n",
    "        df_titan['OH'] = df_titan[df_titan['date'].dt.time.between(pd.to_datetime('09:15').time(), pd.to_datetime('09:15').time())].apply(lambda x: x['open'] == x['high'],axis =1 )\n",
    "        df_titan['OL'] = df_titan['OL'].ffill()\n",
    "        df_titan['OH'] = df_titan['OH'].ffill()\n",
    "\n",
    "        # 9 day high and low breakout logic\n",
    "        df_min_temp = df_titan.copy()\n",
    "        df_min_temp = df_min_temp[df_min_temp['date'].dt.time.between(pd.to_datetime('09:15').time(), pd.to_datetime('10:00').time())]\n",
    "        df_min_temp = df_min_temp.resample('D', on='date').agg({\n",
    "            'open': 'first',\n",
    "            'high': 'max',\n",
    "            'low': 'min',\n",
    "            'close': 'last'\n",
    "        }).dropna().reset_index()\n",
    "\n",
    "        today_high = df_min_temp['high'].iloc[0]\n",
    "        today_low = df_min_temp['low'].iloc[0]\n",
    "        df_prev = df_day_ind[df_day_ind[\"date\"] != \"2024-05-06\"]\n",
    "        # Initialize counters for consecutive breaks\n",
    "        consecutive_high_breaks = 0\n",
    "        consecutive_low_breaks = 0\n",
    "\n",
    "        # Iterate over the rows in reverse (from most recent to least)\n",
    "        for index, row in df_prev.iloc[:].iterrows():\n",
    "            if row['high'] < today_high:\n",
    "                consecutive_high_breaks += 1\n",
    "            else:\n",
    "                break  # Stop counting if a day does not break today's high\n",
    "\n",
    "        for index, row in df_prev.iloc[:].iterrows():\n",
    "\n",
    "            if row['low'] > today_low:\n",
    "                consecutive_low_breaks += 1\n",
    "            else:\n",
    "                break  # Stop counting if a day does not break today's low\n",
    "        df_titan['day_count_high'] = consecutive_high_breaks\n",
    "        df_titan['day_count_low'] = consecutive_low_breaks\n",
    "        df_stock_select = df_stock_select.append(df_titan)\n",
    "        # break\n",
    "    except:\n",
    "        print(sy)\n",
    "        continue\n"
   ]
  },
  {
   "cell_type": "code",
   "execution_count": 57,
   "metadata": {},
   "outputs": [],
   "source": [
    "df_stock_select.to_clipboard(index = False)"
   ]
  },
  {
   "cell_type": "code",
   "execution_count": 49,
   "metadata": {},
   "outputs": [
    {
     "data": {
      "text/plain": [
       "array(['ABB', 'APOLLOHOSP', 'AXISBANK', 'BALRAMCHIN', 'BATAINDIA',\n",
       "       'COALINDIA', 'CROMPTON', 'DEEPAKNTR', 'DLF', 'EICHERMOT',\n",
       "       'GODREJPROP', 'HDFCBANK', 'INDHOTEL', 'JUBLFOOD', 'METROPOLIS',\n",
       "       'MFSL', 'MIDCPNIFTY', 'NMDC', 'POWERGRID', 'RELIANCE', 'SBILIFE',\n",
       "       'SIEMENS', 'SRF', 'SYNGENE'], dtype=object)"
      ]
     },
     "execution_count": 49,
     "metadata": {},
     "output_type": "execute_result"
    }
   ],
   "source": [
    "df_stock_select.query(\"OL == True\").symbol.unique()"
   ]
  },
  {
   "cell_type": "code",
   "execution_count": 50,
   "metadata": {},
   "outputs": [
    {
     "data": {
      "text/plain": [
       "array(['ABCAPITAL', 'ABFRL', 'ADANIENT', 'ALKEM', 'APOLLOTYRE',\n",
       "       'ASIANPAINT', 'ASTRAL', 'BALKRISIND', 'BHARATFORG', 'BIOCON',\n",
       "       'CANFINHOME', 'CHOLAFIN', 'CUB', 'CUMMINSIND', 'DABUR',\n",
       "       'FEDERALBNK', 'GMRINFRA', 'GRASIM', 'HDFCLIFE', 'ICICIBANK', 'IGL',\n",
       "       'INDIGO', 'JINDALSTEL', 'LTF', 'LTTS', 'LUPIN', 'MRF', 'PAGEIND',\n",
       "       'PETRONET', 'PFC', 'POLYCAB', 'PVRINOX', 'RBLBANK', 'SHRIRAMFIN',\n",
       "       'VEDL'], dtype=object)"
      ]
     },
     "execution_count": 50,
     "metadata": {},
     "output_type": "execute_result"
    }
   ],
   "source": [
    "df_stock_select.query(\"OH == True\").symbol.unique()"
   ]
  },
  {
   "cell_type": "code",
   "execution_count": 52,
   "metadata": {},
   "outputs": [],
   "source": [
    "df_stock_select.to_excel(\"stock_select.xlsx\",index = False)"
   ]
  },
  {
   "cell_type": "code",
   "execution_count": 116,
   "metadata": {},
   "outputs": [
    {
     "data": {
      "text/html": [
       "<div>\n",
       "<style scoped>\n",
       "    .dataframe tbody tr th:only-of-type {\n",
       "        vertical-align: middle;\n",
       "    }\n",
       "\n",
       "    .dataframe tbody tr th {\n",
       "        vertical-align: top;\n",
       "    }\n",
       "\n",
       "    .dataframe thead th {\n",
       "        text-align: right;\n",
       "    }\n",
       "</style>\n",
       "<table border=\"1\" class=\"dataframe\">\n",
       "  <thead>\n",
       "    <tr style=\"text-align: right;\">\n",
       "      <th></th>\n",
       "      <th>date</th>\n",
       "      <th>open</th>\n",
       "      <th>high</th>\n",
       "      <th>low</th>\n",
       "      <th>close</th>\n",
       "      <th>volume</th>\n",
       "      <th>oi</th>\n",
       "      <th>symbol</th>\n",
       "      <th>date_only</th>\n",
       "      <th>oi_diff</th>\n",
       "      <th>...</th>\n",
       "      <th>perc_change_volume</th>\n",
       "      <th>std_flag</th>\n",
       "      <th>iqr_flag</th>\n",
       "      <th>z_score</th>\n",
       "      <th>z_flag</th>\n",
       "      <th>majority_flag</th>\n",
       "      <th>OL</th>\n",
       "      <th>OH</th>\n",
       "      <th>day_count_high</th>\n",
       "      <th>day_count_low</th>\n",
       "    </tr>\n",
       "  </thead>\n",
       "  <tbody>\n",
       "    <tr>\n",
       "      <th>625</th>\n",
       "      <td>2024-04-12 11:20:00</td>\n",
       "      <td>4840.75</td>\n",
       "      <td>4848.00</td>\n",
       "      <td>4840.00</td>\n",
       "      <td>4841.20</td>\n",
       "      <td>20200</td>\n",
       "      <td>1086600</td>\n",
       "      <td>ALKEM</td>\n",
       "      <td>2024-04-12</td>\n",
       "      <td>6600.0</td>\n",
       "      <td>...</td>\n",
       "      <td>20200</td>\n",
       "      <td>True</td>\n",
       "      <td>True</td>\n",
       "      <td>3.291733</td>\n",
       "      <td>True</td>\n",
       "      <td>True</td>\n",
       "      <td>False</td>\n",
       "      <td>True</td>\n",
       "      <td>0</td>\n",
       "      <td>1</td>\n",
       "    </tr>\n",
       "    <tr>\n",
       "      <th>628</th>\n",
       "      <td>2024-04-12 11:35:00</td>\n",
       "      <td>4837.00</td>\n",
       "      <td>4847.00</td>\n",
       "      <td>4837.00</td>\n",
       "      <td>4838.30</td>\n",
       "      <td>23400</td>\n",
       "      <td>1118400</td>\n",
       "      <td>ALKEM</td>\n",
       "      <td>2024-04-12</td>\n",
       "      <td>14800.0</td>\n",
       "      <td>...</td>\n",
       "      <td>23400</td>\n",
       "      <td>True</td>\n",
       "      <td>True</td>\n",
       "      <td>3.927407</td>\n",
       "      <td>True</td>\n",
       "      <td>True</td>\n",
       "      <td>False</td>\n",
       "      <td>True</td>\n",
       "      <td>0</td>\n",
       "      <td>1</td>\n",
       "    </tr>\n",
       "    <tr>\n",
       "      <th>669</th>\n",
       "      <td>2024-04-12 15:00:00</td>\n",
       "      <td>4767.75</td>\n",
       "      <td>4767.75</td>\n",
       "      <td>4743.45</td>\n",
       "      <td>4750.00</td>\n",
       "      <td>17200</td>\n",
       "      <td>1135000</td>\n",
       "      <td>ALKEM</td>\n",
       "      <td>2024-04-12</td>\n",
       "      <td>200.0</td>\n",
       "      <td>...</td>\n",
       "      <td>17200</td>\n",
       "      <td>True</td>\n",
       "      <td>True</td>\n",
       "      <td>2.695788</td>\n",
       "      <td>True</td>\n",
       "      <td>True</td>\n",
       "      <td>False</td>\n",
       "      <td>True</td>\n",
       "      <td>0</td>\n",
       "      <td>1</td>\n",
       "    </tr>\n",
       "    <tr>\n",
       "      <th>600</th>\n",
       "      <td>2024-04-12 09:15:00</td>\n",
       "      <td>6490.50</td>\n",
       "      <td>6490.50</td>\n",
       "      <td>6437.30</td>\n",
       "      <td>6471.20</td>\n",
       "      <td>29875</td>\n",
       "      <td>1705125</td>\n",
       "      <td>APOLLOHOSP</td>\n",
       "      <td>2024-04-12</td>\n",
       "      <td>-6250.0</td>\n",
       "      <td>...</td>\n",
       "      <td>29875</td>\n",
       "      <td>True</td>\n",
       "      <td>True</td>\n",
       "      <td>4.826337</td>\n",
       "      <td>True</td>\n",
       "      <td>True</td>\n",
       "      <td>False</td>\n",
       "      <td>True</td>\n",
       "      <td>0</td>\n",
       "      <td>1</td>\n",
       "    </tr>\n",
       "    <tr>\n",
       "      <th>601</th>\n",
       "      <td>2024-04-12 09:20:00</td>\n",
       "      <td>6465.95</td>\n",
       "      <td>6465.95</td>\n",
       "      <td>6446.20</td>\n",
       "      <td>6465.65</td>\n",
       "      <td>15500</td>\n",
       "      <td>1711375</td>\n",
       "      <td>APOLLOHOSP</td>\n",
       "      <td>2024-04-12</td>\n",
       "      <td>6250.0</td>\n",
       "      <td>...</td>\n",
       "      <td>15500</td>\n",
       "      <td>True</td>\n",
       "      <td>True</td>\n",
       "      <td>2.002626</td>\n",
       "      <td>True</td>\n",
       "      <td>True</td>\n",
       "      <td>False</td>\n",
       "      <td>True</td>\n",
       "      <td>0</td>\n",
       "      <td>1</td>\n",
       "    </tr>\n",
       "    <tr>\n",
       "      <th>...</th>\n",
       "      <td>...</td>\n",
       "      <td>...</td>\n",
       "      <td>...</td>\n",
       "      <td>...</td>\n",
       "      <td>...</td>\n",
       "      <td>...</td>\n",
       "      <td>...</td>\n",
       "      <td>...</td>\n",
       "      <td>...</td>\n",
       "      <td>...</td>\n",
       "      <td>...</td>\n",
       "      <td>...</td>\n",
       "      <td>...</td>\n",
       "      <td>...</td>\n",
       "      <td>...</td>\n",
       "      <td>...</td>\n",
       "      <td>...</td>\n",
       "      <td>...</td>\n",
       "      <td>...</td>\n",
       "      <td>...</td>\n",
       "      <td>...</td>\n",
       "    </tr>\n",
       "    <tr>\n",
       "      <th>674</th>\n",
       "      <td>2024-04-12 15:25:00</td>\n",
       "      <td>3628.90</td>\n",
       "      <td>3632.00</td>\n",
       "      <td>3626.45</td>\n",
       "      <td>3627.10</td>\n",
       "      <td>82425</td>\n",
       "      <td>5798100</td>\n",
       "      <td>TITAN</td>\n",
       "      <td>2024-04-12</td>\n",
       "      <td>1925.0</td>\n",
       "      <td>...</td>\n",
       "      <td>82425</td>\n",
       "      <td>True</td>\n",
       "      <td>True</td>\n",
       "      <td>3.543100</td>\n",
       "      <td>True</td>\n",
       "      <td>True</td>\n",
       "      <td>False</td>\n",
       "      <td>True</td>\n",
       "      <td>0</td>\n",
       "      <td>1</td>\n",
       "    </tr>\n",
       "    <tr>\n",
       "      <th>600</th>\n",
       "      <td>2024-04-12 09:15:00</td>\n",
       "      <td>1339.05</td>\n",
       "      <td>1339.05</td>\n",
       "      <td>1330.60</td>\n",
       "      <td>1334.45</td>\n",
       "      <td>155400</td>\n",
       "      <td>6912000</td>\n",
       "      <td>VOLTAS</td>\n",
       "      <td>2024-04-12</td>\n",
       "      <td>-524400.0</td>\n",
       "      <td>...</td>\n",
       "      <td>155400</td>\n",
       "      <td>True</td>\n",
       "      <td>True</td>\n",
       "      <td>2.570002</td>\n",
       "      <td>True</td>\n",
       "      <td>True</td>\n",
       "      <td>False</td>\n",
       "      <td>True</td>\n",
       "      <td>0</td>\n",
       "      <td>0</td>\n",
       "    </tr>\n",
       "    <tr>\n",
       "      <th>669</th>\n",
       "      <td>2024-04-12 15:00:00</td>\n",
       "      <td>1320.95</td>\n",
       "      <td>1321.15</td>\n",
       "      <td>1311.20</td>\n",
       "      <td>1315.20</td>\n",
       "      <td>168000</td>\n",
       "      <td>7314600</td>\n",
       "      <td>VOLTAS</td>\n",
       "      <td>2024-04-12</td>\n",
       "      <td>-1200.0</td>\n",
       "      <td>...</td>\n",
       "      <td>168000</td>\n",
       "      <td>True</td>\n",
       "      <td>True</td>\n",
       "      <td>2.867631</td>\n",
       "      <td>True</td>\n",
       "      <td>True</td>\n",
       "      <td>False</td>\n",
       "      <td>True</td>\n",
       "      <td>0</td>\n",
       "      <td>0</td>\n",
       "    </tr>\n",
       "    <tr>\n",
       "      <th>670</th>\n",
       "      <td>2024-04-12 15:05:00</td>\n",
       "      <td>1315.20</td>\n",
       "      <td>1318.05</td>\n",
       "      <td>1312.10</td>\n",
       "      <td>1313.70</td>\n",
       "      <td>153000</td>\n",
       "      <td>7349400</td>\n",
       "      <td>VOLTAS</td>\n",
       "      <td>2024-04-12</td>\n",
       "      <td>34800.0</td>\n",
       "      <td>...</td>\n",
       "      <td>153000</td>\n",
       "      <td>True</td>\n",
       "      <td>True</td>\n",
       "      <td>2.513311</td>\n",
       "      <td>True</td>\n",
       "      <td>True</td>\n",
       "      <td>False</td>\n",
       "      <td>True</td>\n",
       "      <td>0</td>\n",
       "      <td>0</td>\n",
       "    </tr>\n",
       "    <tr>\n",
       "      <th>674</th>\n",
       "      <td>2024-04-12 15:25:00</td>\n",
       "      <td>1313.90</td>\n",
       "      <td>1322.05</td>\n",
       "      <td>1313.60</td>\n",
       "      <td>1322.00</td>\n",
       "      <td>229800</td>\n",
       "      <td>7450800</td>\n",
       "      <td>VOLTAS</td>\n",
       "      <td>2024-04-12</td>\n",
       "      <td>64800.0</td>\n",
       "      <td>...</td>\n",
       "      <td>229800</td>\n",
       "      <td>True</td>\n",
       "      <td>True</td>\n",
       "      <td>4.327429</td>\n",
       "      <td>True</td>\n",
       "      <td>True</td>\n",
       "      <td>False</td>\n",
       "      <td>True</td>\n",
       "      <td>0</td>\n",
       "      <td>0</td>\n",
       "    </tr>\n",
       "  </tbody>\n",
       "</table>\n",
       "<p>85 rows × 24 columns</p>\n",
       "</div>"
      ],
      "text/plain": [
       "                   date     open     high      low    close  volume       oi  \\\n",
       "625 2024-04-12 11:20:00  4840.75  4848.00  4840.00  4841.20   20200  1086600   \n",
       "628 2024-04-12 11:35:00  4837.00  4847.00  4837.00  4838.30   23400  1118400   \n",
       "669 2024-04-12 15:00:00  4767.75  4767.75  4743.45  4750.00   17200  1135000   \n",
       "600 2024-04-12 09:15:00  6490.50  6490.50  6437.30  6471.20   29875  1705125   \n",
       "601 2024-04-12 09:20:00  6465.95  6465.95  6446.20  6465.65   15500  1711375   \n",
       "..                  ...      ...      ...      ...      ...     ...      ...   \n",
       "674 2024-04-12 15:25:00  3628.90  3632.00  3626.45  3627.10   82425  5798100   \n",
       "600 2024-04-12 09:15:00  1339.05  1339.05  1330.60  1334.45  155400  6912000   \n",
       "669 2024-04-12 15:00:00  1320.95  1321.15  1311.20  1315.20  168000  7314600   \n",
       "670 2024-04-12 15:05:00  1315.20  1318.05  1312.10  1313.70  153000  7349400   \n",
       "674 2024-04-12 15:25:00  1313.90  1322.05  1313.60  1322.00  229800  7450800   \n",
       "\n",
       "         symbol  date_only   oi_diff  ...  perc_change_volume  std_flag  \\\n",
       "625       ALKEM 2024-04-12    6600.0  ...               20200      True   \n",
       "628       ALKEM 2024-04-12   14800.0  ...               23400      True   \n",
       "669       ALKEM 2024-04-12     200.0  ...               17200      True   \n",
       "600  APOLLOHOSP 2024-04-12   -6250.0  ...               29875      True   \n",
       "601  APOLLOHOSP 2024-04-12    6250.0  ...               15500      True   \n",
       "..          ...        ...       ...  ...                 ...       ...   \n",
       "674       TITAN 2024-04-12    1925.0  ...               82425      True   \n",
       "600      VOLTAS 2024-04-12 -524400.0  ...              155400      True   \n",
       "669      VOLTAS 2024-04-12   -1200.0  ...              168000      True   \n",
       "670      VOLTAS 2024-04-12   34800.0  ...              153000      True   \n",
       "674      VOLTAS 2024-04-12   64800.0  ...              229800      True   \n",
       "\n",
       "     iqr_flag   z_score  z_flag  majority_flag     OL    OH  day_count_high  \\\n",
       "625      True  3.291733    True           True  False  True               0   \n",
       "628      True  3.927407    True           True  False  True               0   \n",
       "669      True  2.695788    True           True  False  True               0   \n",
       "600      True  4.826337    True           True  False  True               0   \n",
       "601      True  2.002626    True           True  False  True               0   \n",
       "..        ...       ...     ...            ...    ...   ...             ...   \n",
       "674      True  3.543100    True           True  False  True               0   \n",
       "600      True  2.570002    True           True  False  True               0   \n",
       "669      True  2.867631    True           True  False  True               0   \n",
       "670      True  2.513311    True           True  False  True               0   \n",
       "674      True  4.327429    True           True  False  True               0   \n",
       "\n",
       "     day_count_low  \n",
       "625              1  \n",
       "628              1  \n",
       "669              1  \n",
       "600              1  \n",
       "601              1  \n",
       "..             ...  \n",
       "674              1  \n",
       "600              0  \n",
       "669              0  \n",
       "670              0  \n",
       "674              0  \n",
       "\n",
       "[85 rows x 24 columns]"
      ]
     },
     "execution_count": 116,
     "metadata": {},
     "output_type": "execute_result"
    }
   ],
   "source": [
    "df_stock_select.query(\"OH == True\").query(\"majority_flag == True\").query(\"day_count_high == 1\").query(\"day_count_low == 1\").query(\"Market_Action == 'Long Buildup'\")"
   ]
  },
  {
   "cell_type": "code",
   "execution_count": null,
   "metadata": {},
   "outputs": [],
   "source": [
    "# significant_changes = df_titan[df_titan['majority_flag']]\n",
    "# significant_changes = significant_changes[significant_changes['date'].dt.date == pd.to_datetime('2024-04-12').date()]\n",
    "# significant_changes = significant_changes[significant_changes['date'].dt.time.between(pd.to_datetime('09:15').time(), pd.to_datetime('10:00').time())]"
   ]
  },
  {
   "cell_type": "markdown",
   "metadata": {},
   "source": [
    "## stock 9:25"
   ]
  },
  {
   "cell_type": "markdown",
   "metadata": {},
   "source": [
    "1. 9:20 top gainer/ loser (Futures)\n",
    "2. more then 2% move \n",
    "3. nse spurtes OI -> more then 7%\n",
    "4. nifty 10 min candle  -> check \n",
    "\n",
    "5. entry:\n",
    "\t1. 9:25 mark high, if 9:25 high break, enter the trade\n",
    "\t cond:\n",
    "\t\tdont trade if 50% pull back \n",
    "\t\tenter before 10:30 \n",
    "\t\tmonthly expire -> 2 din phale and 2 din bad \n",
    "\t\t\n",
    "\texit:\n",
    "\t1. 2 candle below 8 sma \n",
    "\t\n",
    "other condition\n",
    "1. 9 day high or low \n",
    "2. OL or OH\n",
    "3. day future some good buildup \n",
    "4. prev 3 or 4 day fut\n",
    "5. pcr cutoff for above and below \n",
    "i have observed about PCR if its above 1 then most probably its uptrend \n",
    "and if its below .5 then down trend \n",
    "\n",
    "\n",
    "\n",
    "#can we check the pcr value and do the fundatmental analysis \n"
   ]
  },
  {
   "cell_type": "code",
   "execution_count": 5,
   "metadata": {},
   "outputs": [],
   "source": [
    "# futures some high OI\n",
    "# last few days oi buildup \n",
    "# 9 day high\n",
    "# OL or OH"
   ]
  },
  {
   "cell_type": "code",
   "execution_count": 10,
   "metadata": {},
   "outputs": [],
   "source": [
    "from tqdm import tqdm\n",
    "\n",
    "def fetch_market_data(kite, expiry_march, start_dt, end_dt, time_frame=\"minute\"):\n",
    "    df_expiry_hist_data = pd.DataFrame()\n",
    "    strike_symbol_dict = dict(\n",
    "        zip(expiry_march.instrument_token, expiry_march[\"name\"])\n",
    "    )\n",
    "    inst_expiry = expiry_march[\"instrument_token\"].unique().tolist()\n",
    "    for i in tqdm(inst_expiry):\n",
    "        try:\n",
    "            df = pd.DataFrame(\n",
    "                kite.historical_data(\n",
    "                    i,\n",
    "                    from_date=start_dt,\n",
    "                    to_date=end_dt,\n",
    "                    interval=time_frame,\n",
    "                    continuous=False,\n",
    "                    oi=True,\n",
    "                )\n",
    "            )\n",
    "            df[\"symbol\"] = strike_symbol_dict[i]\n",
    "            df_expiry_hist_data = df_expiry_hist_data.append(df)\n",
    "        except Exception as e:\n",
    "            print(e)\n",
    "            continue\n",
    "    df_expiry_hist_data[\"date\"] = pd.to_datetime(\n",
    "        df_expiry_hist_data[\"date\"]\n",
    "    ).dt.tz_localize(None)\n",
    "    df_expiry_hist_data[\"date_only\"] = pd.to_datetime(\n",
    "        df_expiry_hist_data[\"date\"].dt.date\n",
    "    )\n",
    "    return df_expiry_hist_data"
   ]
  },
  {
   "cell_type": "code",
   "execution_count": 11,
   "metadata": {},
   "outputs": [],
   "source": [
    "# select the stocks list which are in futures only\n",
    "inst = pd.DataFrame(kite.instruments(\"NFO\"))\n",
    "inst_nse = pd.DataFrame(kite.instruments(\"NSE\"))\n",
    "\n",
    "april_fut_inst = inst[inst[\"tradingsymbol\"].str.contains('24JULFUT')]\n"
   ]
  },
  {
   "cell_type": "code",
   "execution_count": 12,
   "metadata": {},
   "outputs": [
    {
     "name": "stderr",
     "output_type": "stream",
     "text": [
      "100%|██████████| 186/186 [00:21<00:00,  8.77it/s]\n",
      "100%|██████████| 186/186 [00:53<00:00,  3.45it/s]\n",
      "100%|██████████| 181/181 [00:21<00:00,  8.54it/s]\n",
      "100%|██████████| 181/181 [00:54<00:00,  3.32it/s]\n"
     ]
    }
   ],
   "source": [
    "\n",
    "start_dt = \"2024-07-01\"\n",
    "end_dt = \"2024-07-25\" \n",
    "time_frame = \"day\"\n",
    "\n",
    "start_dt_td = \"2024-07-01\"\n",
    "end_dt_td = \"2024-07-25\" \n",
    "time_frame_td = \"5minute\"\n",
    "\n",
    "df_day_fut = fetch_market_data(kite,april_fut_inst, start_dt, end_dt,time_frame)\n",
    "df_data_min_fut = fetch_market_data(kite,april_fut_inst, start_dt_td, end_dt_td,time_frame_td)\n",
    "\n",
    "inst_nse = pd.DataFrame(kite.instruments(\"NSE\"))\n",
    "stock_token = inst_nse[inst_nse.tradingsymbol.isin(df_day_fut.symbol.unique())]\n",
    "\n",
    "df_day = fetch_market_data(kite,stock_token, start_dt, end_dt, time_frame)\n",
    "df_data_min = fetch_market_data(kite,stock_token, start_dt_td, end_dt_td,time_frame_td)"
   ]
  },
  {
   "cell_type": "code",
   "execution_count": 13,
   "metadata": {},
   "outputs": [],
   "source": [
    "# getting fut oi % chg at 9:20 \n",
    "list_of_dates_fut = list(df_data_min_fut[\"date_only\"].unique())\n",
    "\n",
    "df_data_min_fut[\"prev_date\"] = df_data_min_fut[\"date_only\"].apply(\n",
    "    lambda x: (\n",
    "        np.nan\n",
    "        if list_of_dates_fut.index(x) == 0\n",
    "        else list_of_dates_fut[list_of_dates_fut.index(x) - 1]\n",
    "    )\n",
    ")\n",
    "\n",
    "df_data_min_fut = df_data_min_fut.merge(\n",
    "    df_day_fut[[\"date_only\", \"symbol\", \"oi\"]],\n",
    "    how=\"left\",\n",
    "    left_on=[\"symbol\", \"prev_date\"],\n",
    "    right_on=[\"symbol\", \"date_only\"],\n",
    "    suffixes=(\"_min\", \"_day\"),\n",
    ")\n",
    "\n",
    "\n",
    "df_data_min_fut[\"per_chg\"] = (\n",
    "    (df_data_min_fut[\"oi_min\"] - df_data_min_fut[\"oi_day\"]) / df_data_min_fut[\"oi_day\"]\n",
    ") * 100\n",
    "\n",
    "df_data_min_fut.set_index(\"date\", inplace=True)\n",
    "df_oi_fut = df_data_min_fut.between_time(\"9:20\",'9:20')#.dropna()\n"
   ]
  },
  {
   "cell_type": "code",
   "execution_count": 14,
   "metadata": {},
   "outputs": [],
   "source": [
    "# getting price % chg at 9:20 \n",
    "list_of_dates = list(df_data_min[\"date_only\"].unique())\n",
    "\n",
    "df_data_min[\"prev_date\"] = df_data_min[\"date_only\"].apply(\n",
    "    lambda x: (\n",
    "        np.nan\n",
    "        if list_of_dates.index(x) == 0\n",
    "        else list_of_dates[list_of_dates.index(x) - 1]\n",
    "    )\n",
    ")\n",
    "\n",
    "df_data_min = df_data_min.merge(\n",
    "    df_day[[\"date_only\", \"symbol\", \"close\"]],\n",
    "    how=\"left\",\n",
    "    left_on=[\"symbol\", \"prev_date\"],\n",
    "    right_on=[\"symbol\", \"date_only\"],\n",
    "    suffixes=(\"_min\", \"_day\"),\n",
    ")\n",
    "\n",
    "df_data_min[\"per_chg\"] = (\n",
    "    (df_data_min[\"close_min\"] - df_data_min[\"close_day\"]) / df_data_min[\"close_day\"]\n",
    ") * 100\n",
    "\n",
    "df_data_min.set_index(\"date\", inplace=True)\n",
    "df_nine_filt = df_data_min.between_time(\"9:20\",'9:20')#.dropna()\n",
    "df_nine_filt.reset_index(inplace=True)\n",
    "df_nine_filt = df_nine_filt.merge(inst_nse[['tradingsymbol','name']], how ='left', left_on = 'symbol',right_on = 'name')\n",
    "df_nine_filt = df_nine_filt.drop(['name','symbol'],axis =1 ).rename(columns= {'tradingsymbol':'symbol'})"
   ]
  },
  {
   "cell_type": "code",
   "execution_count": 15,
   "metadata": {},
   "outputs": [],
   "source": [
    "(\n",
    "    df_nine_filt\n",
    "    .merge(df_oi_fut.reset_index()[['date','symbol','per_chg']],\n",
    "            how = 'left',\n",
    "            on = ['date','symbol'],\n",
    "            suffixes = (\"_price\",\"_oi\")\n",
    "              \n",
    "              )\n",
    "\n",
    ").to_clipboard()"
   ]
  },
  {
   "cell_type": "code",
   "execution_count": 19,
   "metadata": {},
   "outputs": [],
   "source": [
    "df_nine_filt[(df_nine_filt.per_chg > 2 )|( df_nine_filt.per_chg < -2)].to_clipboard()"
   ]
  },
  {
   "cell_type": "markdown",
   "metadata": {},
   "source": []
  },
  {
   "cell_type": "code",
   "execution_count": null,
   "metadata": {},
   "outputs": [],
   "source": []
  }
 ],
 "metadata": {
  "kernelspec": {
   "display_name": "py37",
   "language": "python",
   "name": "python3"
  },
  "language_info": {
   "codemirror_mode": {
    "name": "ipython",
    "version": 3
   },
   "file_extension": ".py",
   "mimetype": "text/x-python",
   "name": "python",
   "nbconvert_exporter": "python",
   "pygments_lexer": "ipython3",
   "version": "3.7.15"
  }
 },
 "nbformat": 4,
 "nbformat_minor": 2
}
