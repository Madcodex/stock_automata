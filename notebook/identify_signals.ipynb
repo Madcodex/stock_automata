{
 "cells": [
  {
   "cell_type": "code",
   "execution_count": null,
   "metadata": {},
   "outputs": [],
   "source": [
    "# step 1-> identify oi cross over in trending OI\n",
    "\n",
    "# first i need oi data of all strikes\n",
    "# then i will select the trending oi \n",
    "# then I will do the sum and check the cross over happening or not \n",
    "\n",
    "# Always there are two things \n",
    "# 1. check on historical data \n",
    "#     for this i need data and i will loop over each date and check the condition \n",
    "#         if condition meet print the datetime\n",
    "# 2. check in live market \n",
    "#     fetch the live data and do the same computation \n"
   ]
  },
  {
   "cell_type": "code",
   "execution_count": 1,
   "metadata": {},
   "outputs": [],
   "source": [
    "%load_ext autoreload\n",
    "%autoreload 2\n",
    "import pandas as pd\n",
    "import numpy as np\n",
    "from kite_trade import *\n",
    "from enctoken import get_kite\n",
    "kite = get_kite()\n",
    "import warnings\n",
    "warnings.filterwarnings(action = 'ignore')\n",
    "from IPython.display import clear_output\n",
    "import datetime"
   ]
  },
  {
   "cell_type": "markdown",
   "metadata": {},
   "source": [
    "# oi data"
   ]
  },
  {
   "cell_type": "code",
   "execution_count": null,
   "metadata": {},
   "outputs": [],
   "source": [
    "def fetch_market_data(expiry_march, start_dt, end_dt, time_frame=\"minute\"):\n",
    "    df_expiry_hist_data = pd.DataFrame()\n",
    "    strike_symbol_dict = dict(\n",
    "        zip(expiry_march.instrument_token, expiry_march[\"strike_type\"])\n",
    "    )\n",
    "    inst_expiry = expiry_march[\"instrument_token\"].unique().tolist()\n",
    "    for i in inst_expiry:\n",
    "        df = pd.DataFrame(\n",
    "            kite.historical_data(\n",
    "                i,\n",
    "                from_date=start_dt,\n",
    "                to_date=end_dt,\n",
    "                interval=time_frame,\n",
    "                continuous=False,\n",
    "                oi=True,\n",
    "            )\n",
    "        )\n",
    "        df[\"strike_type\"] = strike_symbol_dict[i]\n",
    "        df_expiry_hist_data = df_expiry_hist_data.append(df)\n",
    "    df_expiry_hist_data[\"date\"] = pd.to_datetime(\n",
    "        df_expiry_hist_data[\"date\"]\n",
    "    ).dt.tz_localize(None)\n",
    "    df_expiry_hist_data[\"date_only\"] = pd.to_datetime(\n",
    "        df_expiry_hist_data[\"date\"].dt.date\n",
    "    )\n",
    "    return df_expiry_hist_data\n",
    "\n",
    "\n",
    "def reorder_column(df):\n",
    "    strike_prices = sorted(\n",
    "        set(int(col.split(\"_\")[1]) for col in df.columns if \"oi\" or \"chg\" in col)\n",
    "    )\n",
    "    reordered_columns = []\n",
    "    for price in strike_prices:\n",
    "        reordered_columns.extend(\n",
    "            [f\"oi_{price}_CE\", f\"chg_{price}_CE\",f\"chg_{price}_PE\", f\"oi_{price}_PE\" ]\n",
    "        )\n",
    "    return reordered_columns\n",
    "\n",
    "\n",
    "def prev_day_oi(oi_strike, itm_strike, atm_strike, otm_strike):\n",
    "    for i in range(1, 6):\n",
    "        day = datetime.datetime.now() - datetime.timedelta(days=i)\n",
    "        start_dt_prev = day.strftime(\"%Y-%m-%d\")\n",
    "        end_dt_prev = day.strftime(\"%Y-%m-%d\")\n",
    "        time_frame = \"minute\"\n",
    "        print(start_dt_prev, end_dt_prev)\n",
    "        df_prev = fetch_market_data(oi_strike, start_dt_prev, end_dt_prev, time_frame)\n",
    "        print(df_prev.shape)\n",
    "        if df_prev.empty:\n",
    "            continue\n",
    "        else:\n",
    "            df_prev[\"strike\"] = df_prev[\"strike_type\"].str[:-2].astype(int)\n",
    "            df_prev[\"ce_pe\"] = df_prev[\"strike_type\"].str[-2:]\n",
    "            break\n",
    "    df_prev = (\n",
    "        df_prev[df_prev[\"strike\"].isin(itm_strike + [atm_strike] + otm_strike)]\n",
    "        .groupby(\"strike_type\")\n",
    "        .tail(1)\n",
    "    )\n",
    "    return df_prev\n"
   ]
  },
  {
   "cell_type": "code",
   "execution_count": null,
   "metadata": {},
   "outputs": [],
   "source": [
    "expiry_sp = 'BANKNIFTY2465'\n",
    "start_dt = datetime.datetime.now().strftime(\"%Y-%m-%d\")\n",
    "end_dt = datetime.datetime.now().strftime(\"%Y-%m-%d\")\n",
    "time_frame = \"minute\"\n",
    "\n",
    "inst = pd.DataFrame(kite.instruments(\"NFO\"))\n",
    "expiry_march  = inst[(inst.name == 'BANKNIFTY') & (inst.tradingsymbol.str.contains(expiry_sp))]\n",
    "expiry_march['strike_type'] = expiry_march['strike'].astype(int).astype(str) + expiry_march['instrument_type']"
   ]
  },
  {
   "cell_type": "code",
   "execution_count": 125,
   "metadata": {},
   "outputs": [
    {
     "name": "stdout",
     "output_type": "stream",
     "text": [
      "48900 [49000, 49100] [48800, 48700]\n",
      "2024-04-09 2024-04-09\n",
      "(3750, 9)\n"
     ]
    },
    {
     "data": {
      "text/html": [
       "<div>\n",
       "<style scoped>\n",
       "    .dataframe tbody tr th:only-of-type {\n",
       "        vertical-align: middle;\n",
       "    }\n",
       "\n",
       "    .dataframe tbody tr th {\n",
       "        vertical-align: top;\n",
       "    }\n",
       "\n",
       "    .dataframe thead th {\n",
       "        text-align: right;\n",
       "    }\n",
       "</style>\n",
       "<table border=\"1\" class=\"dataframe\">\n",
       "  <thead>\n",
       "    <tr style=\"text-align: right;\">\n",
       "      <th></th>\n",
       "      <th>oi_48700_CE</th>\n",
       "      <th>chg_48700_CE</th>\n",
       "      <th>chg_48700_PE</th>\n",
       "      <th>oi_48700_PE</th>\n",
       "      <th>oi_48800_CE</th>\n",
       "      <th>chg_48800_CE</th>\n",
       "      <th>chg_48800_PE</th>\n",
       "      <th>oi_48800_PE</th>\n",
       "      <th>oi_48900_CE</th>\n",
       "      <th>chg_48900_CE</th>\n",
       "      <th>chg_48900_PE</th>\n",
       "      <th>oi_48900_PE</th>\n",
       "      <th>oi_49000_CE</th>\n",
       "      <th>chg_49000_CE</th>\n",
       "      <th>chg_49000_PE</th>\n",
       "      <th>oi_49000_PE</th>\n",
       "      <th>oi_49100_CE</th>\n",
       "      <th>chg_49100_CE</th>\n",
       "      <th>chg_49100_PE</th>\n",
       "      <th>oi_49100_PE</th>\n",
       "    </tr>\n",
       "    <tr>\n",
       "      <th>date</th>\n",
       "      <th></th>\n",
       "      <th></th>\n",
       "      <th></th>\n",
       "      <th></th>\n",
       "      <th></th>\n",
       "      <th></th>\n",
       "      <th></th>\n",
       "      <th></th>\n",
       "      <th></th>\n",
       "      <th></th>\n",
       "      <th></th>\n",
       "      <th></th>\n",
       "      <th></th>\n",
       "      <th></th>\n",
       "      <th></th>\n",
       "      <th></th>\n",
       "      <th></th>\n",
       "      <th></th>\n",
       "      <th></th>\n",
       "      <th></th>\n",
       "    </tr>\n",
       "  </thead>\n",
       "  <tbody>\n",
       "    <tr>\n",
       "      <th>2024-04-10 15:29:00</th>\n",
       "      <td>1004595</td>\n",
       "      <td>-662700</td>\n",
       "      <td>518850</td>\n",
       "      <td>2248275</td>\n",
       "      <td>1579215</td>\n",
       "      <td>-410970</td>\n",
       "      <td>2828250</td>\n",
       "      <td>3856410</td>\n",
       "      <td>3896610</td>\n",
       "      <td>1989720</td>\n",
       "      <td>6227400</td>\n",
       "      <td>6787830</td>\n",
       "      <td>9183495</td>\n",
       "      <td>6023670</td>\n",
       "      <td>7176885</td>\n",
       "      <td>7824705</td>\n",
       "      <td>4026435</td>\n",
       "      <td>2669790</td>\n",
       "      <td>1288545</td>\n",
       "      <td>1482570</td>\n",
       "    </tr>\n",
       "    <tr>\n",
       "      <th>2024-04-10 15:28:00</th>\n",
       "      <td>1004595</td>\n",
       "      <td>-662700</td>\n",
       "      <td>518850</td>\n",
       "      <td>2248275</td>\n",
       "      <td>1579215</td>\n",
       "      <td>-410970</td>\n",
       "      <td>2828250</td>\n",
       "      <td>3856410</td>\n",
       "      <td>3896610</td>\n",
       "      <td>1989720</td>\n",
       "      <td>6227400</td>\n",
       "      <td>6787830</td>\n",
       "      <td>9183495</td>\n",
       "      <td>6023670</td>\n",
       "      <td>7176885</td>\n",
       "      <td>7824705</td>\n",
       "      <td>4026435</td>\n",
       "      <td>2669790</td>\n",
       "      <td>1288545</td>\n",
       "      <td>1482570</td>\n",
       "    </tr>\n",
       "    <tr>\n",
       "      <th>2024-04-10 15:27:00</th>\n",
       "      <td>1047720</td>\n",
       "      <td>-619575</td>\n",
       "      <td>755325</td>\n",
       "      <td>2484750</td>\n",
       "      <td>1778220</td>\n",
       "      <td>-211965</td>\n",
       "      <td>3312675</td>\n",
       "      <td>4340835</td>\n",
       "      <td>4129140</td>\n",
       "      <td>2222250</td>\n",
       "      <td>7118130</td>\n",
       "      <td>7678560</td>\n",
       "      <td>9856290</td>\n",
       "      <td>6696465</td>\n",
       "      <td>8521425</td>\n",
       "      <td>9169245</td>\n",
       "      <td>4476360</td>\n",
       "      <td>3119715</td>\n",
       "      <td>1441470</td>\n",
       "      <td>1635495</td>\n",
       "    </tr>\n",
       "    <tr>\n",
       "      <th>2024-04-10 15:26:00</th>\n",
       "      <td>1047720</td>\n",
       "      <td>-619575</td>\n",
       "      <td>755325</td>\n",
       "      <td>2484750</td>\n",
       "      <td>1778220</td>\n",
       "      <td>-211965</td>\n",
       "      <td>3312675</td>\n",
       "      <td>4340835</td>\n",
       "      <td>4129140</td>\n",
       "      <td>2222250</td>\n",
       "      <td>7118130</td>\n",
       "      <td>7678560</td>\n",
       "      <td>9856290</td>\n",
       "      <td>6696465</td>\n",
       "      <td>8521425</td>\n",
       "      <td>9169245</td>\n",
       "      <td>4476360</td>\n",
       "      <td>3119715</td>\n",
       "      <td>1441470</td>\n",
       "      <td>1635495</td>\n",
       "    </tr>\n",
       "    <tr>\n",
       "      <th>2024-04-10 15:25:00</th>\n",
       "      <td>1047720</td>\n",
       "      <td>-619575</td>\n",
       "      <td>755325</td>\n",
       "      <td>2484750</td>\n",
       "      <td>1778220</td>\n",
       "      <td>-211965</td>\n",
       "      <td>3312675</td>\n",
       "      <td>4340835</td>\n",
       "      <td>4129140</td>\n",
       "      <td>2222250</td>\n",
       "      <td>7118130</td>\n",
       "      <td>7678560</td>\n",
       "      <td>9856290</td>\n",
       "      <td>6696465</td>\n",
       "      <td>8521425</td>\n",
       "      <td>9169245</td>\n",
       "      <td>4476360</td>\n",
       "      <td>3119715</td>\n",
       "      <td>1441470</td>\n",
       "      <td>1635495</td>\n",
       "    </tr>\n",
       "  </tbody>\n",
       "</table>\n",
       "</div>"
      ],
      "text/plain": [
       "                     oi_48700_CE  chg_48700_CE  chg_48700_PE  oi_48700_PE  \\\n",
       "date                                                                        \n",
       "2024-04-10 15:29:00      1004595       -662700        518850      2248275   \n",
       "2024-04-10 15:28:00      1004595       -662700        518850      2248275   \n",
       "2024-04-10 15:27:00      1047720       -619575        755325      2484750   \n",
       "2024-04-10 15:26:00      1047720       -619575        755325      2484750   \n",
       "2024-04-10 15:25:00      1047720       -619575        755325      2484750   \n",
       "\n",
       "                     oi_48800_CE  chg_48800_CE  chg_48800_PE  oi_48800_PE  \\\n",
       "date                                                                        \n",
       "2024-04-10 15:29:00      1579215       -410970       2828250      3856410   \n",
       "2024-04-10 15:28:00      1579215       -410970       2828250      3856410   \n",
       "2024-04-10 15:27:00      1778220       -211965       3312675      4340835   \n",
       "2024-04-10 15:26:00      1778220       -211965       3312675      4340835   \n",
       "2024-04-10 15:25:00      1778220       -211965       3312675      4340835   \n",
       "\n",
       "                     oi_48900_CE  chg_48900_CE  chg_48900_PE  oi_48900_PE  \\\n",
       "date                                                                        \n",
       "2024-04-10 15:29:00      3896610       1989720       6227400      6787830   \n",
       "2024-04-10 15:28:00      3896610       1989720       6227400      6787830   \n",
       "2024-04-10 15:27:00      4129140       2222250       7118130      7678560   \n",
       "2024-04-10 15:26:00      4129140       2222250       7118130      7678560   \n",
       "2024-04-10 15:25:00      4129140       2222250       7118130      7678560   \n",
       "\n",
       "                     oi_49000_CE  chg_49000_CE  chg_49000_PE  oi_49000_PE  \\\n",
       "date                                                                        \n",
       "2024-04-10 15:29:00      9183495       6023670       7176885      7824705   \n",
       "2024-04-10 15:28:00      9183495       6023670       7176885      7824705   \n",
       "2024-04-10 15:27:00      9856290       6696465       8521425      9169245   \n",
       "2024-04-10 15:26:00      9856290       6696465       8521425      9169245   \n",
       "2024-04-10 15:25:00      9856290       6696465       8521425      9169245   \n",
       "\n",
       "                     oi_49100_CE  chg_49100_CE  chg_49100_PE  oi_49100_PE  \n",
       "date                                                                       \n",
       "2024-04-10 15:29:00      4026435       2669790       1288545      1482570  \n",
       "2024-04-10 15:28:00      4026435       2669790       1288545      1482570  \n",
       "2024-04-10 15:27:00      4476360       3119715       1441470      1635495  \n",
       "2024-04-10 15:26:00      4476360       3119715       1441470      1635495  \n",
       "2024-04-10 15:25:00      4476360       3119715       1441470      1635495  "
      ]
     },
     "execution_count": 125,
     "metadata": {},
     "output_type": "execute_result"
    }
   ],
   "source": [
    "\n",
    "df_prev = pd.DataFrame()\n",
    "ltp_dict = kite.ltp([256265, 260105])\n",
    "nifty_price = ltp_dict[\"256265\"][\"last_price\"]\n",
    "banknifty_price = ltp_dict[\"260105\"][\"last_price\"]\n",
    "atm_strike = int(banknifty_price // 100 * 100)\n",
    "otm_strike = [atm_strike + i * 100 for i in range(1, 3)]\n",
    "itm_strike = [atm_strike - i * 100 for i in range(1, 3)]\n",
    "print(atm_strike, otm_strike, itm_strike)\n",
    "\n",
    "oi_strike = expiry_march.query(\n",
    "    \"strike in @otm_strike or strike in @itm_strike or strike == @atm_strike\"\n",
    ")\n",
    "\n",
    "if df_prev.empty:\n",
    "    df_prev = prev_day_oi(oi_strike, itm_strike, atm_strike, otm_strike)\n",
    "\n",
    "df_oi = fetch_market_data(oi_strike, start_dt, end_dt, time_frame)\n",
    "df_oi[\"strike\"] = df_oi[\"strike_type\"].str[:-2].astype(int)\n",
    "df_oi[\"ce_pe\"] = df_oi[\"strike_type\"].str[-2:]\n",
    "\n",
    "df_oi_merge = pd.merge(\n",
    "    df_oi, df_prev[[\"strike_type\", \"oi\"]], on=\"strike_type\", suffixes=(\"_live\", \"_prev\")\n",
    ").assign(chg=lambda x: x[\"oi_live\"] - x[\"oi_prev\"])\n",
    "df_oi_merge = df_oi_merge.drop([\"oi_prev\"], axis=1).rename(columns={\"oi_live\": \"oi\"})\n",
    "df_oi_merge_pivot = (\n",
    "    df_oi_merge[df_oi_merge[\"strike\"].isin(itm_strike + [atm_strike] + otm_strike)]\n",
    "    .pivot_table(\n",
    "        index=\"date\", columns=[\"strike\", \"ce_pe\"], values=[\"oi\", \"chg\"], aggfunc=\"sum\"\n",
    "    )\n",
    "    .sort_values(\"date\", ascending=False)\n",
    ")\n",
    "df_oi_merge_pivot.columns = [\n",
    "    \"_\".join([str(i) for i in col]) for col in df_oi_merge_pivot.columns\n",
    "]\n",
    "df_oi_merge_pivot[reorder_column(df_oi_merge_pivot)].head()\n"
   ]
  },
  {
   "cell_type": "code",
   "execution_count": 127,
   "metadata": {},
   "outputs": [
    {
     "data": {
      "text/html": [
       "<div>\n",
       "<style scoped>\n",
       "    .dataframe tbody tr th:only-of-type {\n",
       "        vertical-align: middle;\n",
       "    }\n",
       "\n",
       "    .dataframe tbody tr th {\n",
       "        vertical-align: top;\n",
       "    }\n",
       "\n",
       "    .dataframe thead th {\n",
       "        text-align: right;\n",
       "    }\n",
       "</style>\n",
       "<table border=\"1\" class=\"dataframe\">\n",
       "  <thead>\n",
       "    <tr style=\"text-align: right;\">\n",
       "      <th></th>\n",
       "      <th>date</th>\n",
       "      <th>open</th>\n",
       "      <th>high</th>\n",
       "      <th>low</th>\n",
       "      <th>close</th>\n",
       "      <th>volume</th>\n",
       "      <th>oi</th>\n",
       "      <th>strike_type</th>\n",
       "      <th>date_only</th>\n",
       "      <th>strike</th>\n",
       "      <th>ce_pe</th>\n",
       "    </tr>\n",
       "  </thead>\n",
       "  <tbody>\n",
       "    <tr>\n",
       "      <th>370</th>\n",
       "      <td>2024-04-10 15:25:00</td>\n",
       "      <td>185.9</td>\n",
       "      <td>186.65</td>\n",
       "      <td>184.8</td>\n",
       "      <td>185.80</td>\n",
       "      <td>175560</td>\n",
       "      <td>1778220</td>\n",
       "      <td>48800CE</td>\n",
       "      <td>2024-04-10</td>\n",
       "      <td>48800</td>\n",
       "      <td>CE</td>\n",
       "    </tr>\n",
       "    <tr>\n",
       "      <th>371</th>\n",
       "      <td>2024-04-10 15:26:00</td>\n",
       "      <td>185.8</td>\n",
       "      <td>187.65</td>\n",
       "      <td>185.3</td>\n",
       "      <td>185.65</td>\n",
       "      <td>151590</td>\n",
       "      <td>1778220</td>\n",
       "      <td>48800CE</td>\n",
       "      <td>2024-04-10</td>\n",
       "      <td>48800</td>\n",
       "      <td>CE</td>\n",
       "    </tr>\n",
       "    <tr>\n",
       "      <th>372</th>\n",
       "      <td>2024-04-10 15:27:00</td>\n",
       "      <td>185.9</td>\n",
       "      <td>186.05</td>\n",
       "      <td>184.2</td>\n",
       "      <td>185.35</td>\n",
       "      <td>91170</td>\n",
       "      <td>1778220</td>\n",
       "      <td>48800CE</td>\n",
       "      <td>2024-04-10</td>\n",
       "      <td>48800</td>\n",
       "      <td>CE</td>\n",
       "    </tr>\n",
       "    <tr>\n",
       "      <th>373</th>\n",
       "      <td>2024-04-10 15:28:00</td>\n",
       "      <td>185.4</td>\n",
       "      <td>186.45</td>\n",
       "      <td>185.1</td>\n",
       "      <td>186.10</td>\n",
       "      <td>80580</td>\n",
       "      <td>1579215</td>\n",
       "      <td>48800CE</td>\n",
       "      <td>2024-04-10</td>\n",
       "      <td>48800</td>\n",
       "      <td>CE</td>\n",
       "    </tr>\n",
       "    <tr>\n",
       "      <th>374</th>\n",
       "      <td>2024-04-10 15:29:00</td>\n",
       "      <td>186.1</td>\n",
       "      <td>186.70</td>\n",
       "      <td>185.6</td>\n",
       "      <td>186.40</td>\n",
       "      <td>85245</td>\n",
       "      <td>1579215</td>\n",
       "      <td>48800CE</td>\n",
       "      <td>2024-04-10</td>\n",
       "      <td>48800</td>\n",
       "      <td>CE</td>\n",
       "    </tr>\n",
       "  </tbody>\n",
       "</table>\n",
       "</div>"
      ],
      "text/plain": [
       "                   date   open    high    low   close  volume       oi  \\\n",
       "370 2024-04-10 15:25:00  185.9  186.65  184.8  185.80  175560  1778220   \n",
       "371 2024-04-10 15:26:00  185.8  187.65  185.3  185.65  151590  1778220   \n",
       "372 2024-04-10 15:27:00  185.9  186.05  184.2  185.35   91170  1778220   \n",
       "373 2024-04-10 15:28:00  185.4  186.45  185.1  186.10   80580  1579215   \n",
       "374 2024-04-10 15:29:00  186.1  186.70  185.6  186.40   85245  1579215   \n",
       "\n",
       "    strike_type  date_only  strike ce_pe  \n",
       "370     48800CE 2024-04-10   48800    CE  \n",
       "371     48800CE 2024-04-10   48800    CE  \n",
       "372     48800CE 2024-04-10   48800    CE  \n",
       "373     48800CE 2024-04-10   48800    CE  \n",
       "374     48800CE 2024-04-10   48800    CE  "
      ]
     },
     "execution_count": 127,
     "metadata": {},
     "output_type": "execute_result"
    }
   ],
   "source": [
    "df_oi.query(\"strike_type == '48800CE'\").tail(5)\n"
   ]
  },
  {
   "cell_type": "markdown",
   "metadata": {},
   "source": [
    "# live market oi cross over"
   ]
  },
  {
   "cell_type": "code",
   "execution_count": null,
   "metadata": {},
   "outputs": [],
   "source": []
  },
  {
   "cell_type": "code",
   "execution_count": 2,
   "metadata": {},
   "outputs": [],
   "source": [
    "expiry_sp = 'BANKNIFTY24410'\n",
    "inst = pd.DataFrame(kite.instruments(\"NFO\"))\n",
    "expiry_march  = inst[(inst.name == 'BANKNIFTY') & (inst.tradingsymbol.str.contains(expiry_sp))]\n",
    "# expiry_march = expiry_march.query(\"(strike >= 38500 )&( strike <= 40500)\")\n",
    "expiry_march['strike_type'] = expiry_march['strike'].astype(int).astype(str) + expiry_march['instrument_type']\n"
   ]
  },
  {
   "cell_type": "code",
   "execution_count": null,
   "metadata": {},
   "outputs": [],
   "source": []
  },
  {
   "cell_type": "code",
   "execution_count": 3,
   "metadata": {},
   "outputs": [
    {
     "data": {
      "text/html": [
       "<div>\n",
       "<style scoped>\n",
       "    .dataframe tbody tr th:only-of-type {\n",
       "        vertical-align: middle;\n",
       "    }\n",
       "\n",
       "    .dataframe tbody tr th {\n",
       "        vertical-align: top;\n",
       "    }\n",
       "\n",
       "    .dataframe thead th {\n",
       "        text-align: right;\n",
       "    }\n",
       "</style>\n",
       "<table border=\"1\" class=\"dataframe\">\n",
       "  <thead>\n",
       "    <tr style=\"text-align: right;\">\n",
       "      <th></th>\n",
       "      <th>instrument_token</th>\n",
       "      <th>exchange_token</th>\n",
       "      <th>tradingsymbol</th>\n",
       "      <th>name</th>\n",
       "      <th>last_price</th>\n",
       "      <th>expiry</th>\n",
       "      <th>strike</th>\n",
       "      <th>tick_size</th>\n",
       "      <th>lot_size</th>\n",
       "      <th>instrument_type</th>\n",
       "      <th>segment</th>\n",
       "      <th>exchange</th>\n",
       "      <th>strike_type</th>\n",
       "    </tr>\n",
       "  </thead>\n",
       "  <tbody>\n",
       "    <tr>\n",
       "      <th>2255</th>\n",
       "      <td>11799298</td>\n",
       "      <td>46091</td>\n",
       "      <td>BANKNIFTY2441039000CE</td>\n",
       "      <td>BANKNIFTY</td>\n",
       "      <td>0.0</td>\n",
       "      <td>2024-04-10</td>\n",
       "      <td>39000.0</td>\n",
       "      <td>0.05</td>\n",
       "      <td>15</td>\n",
       "      <td>CE</td>\n",
       "      <td>NFO-OPT</td>\n",
       "      <td>NFO</td>\n",
       "      <td>39000CE</td>\n",
       "    </tr>\n",
       "    <tr>\n",
       "      <th>2256</th>\n",
       "      <td>11799554</td>\n",
       "      <td>46092</td>\n",
       "      <td>BANKNIFTY2441039000PE</td>\n",
       "      <td>BANKNIFTY</td>\n",
       "      <td>0.0</td>\n",
       "      <td>2024-04-10</td>\n",
       "      <td>39000.0</td>\n",
       "      <td>0.05</td>\n",
       "      <td>15</td>\n",
       "      <td>PE</td>\n",
       "      <td>NFO-OPT</td>\n",
       "      <td>NFO</td>\n",
       "      <td>39000PE</td>\n",
       "    </tr>\n",
       "    <tr>\n",
       "      <th>2257</th>\n",
       "      <td>11800578</td>\n",
       "      <td>46096</td>\n",
       "      <td>BANKNIFTY2441039500CE</td>\n",
       "      <td>BANKNIFTY</td>\n",
       "      <td>0.0</td>\n",
       "      <td>2024-04-10</td>\n",
       "      <td>39500.0</td>\n",
       "      <td>0.05</td>\n",
       "      <td>15</td>\n",
       "      <td>CE</td>\n",
       "      <td>NFO-OPT</td>\n",
       "      <td>NFO</td>\n",
       "      <td>39500CE</td>\n",
       "    </tr>\n",
       "    <tr>\n",
       "      <th>2258</th>\n",
       "      <td>11800834</td>\n",
       "      <td>46097</td>\n",
       "      <td>BANKNIFTY2441039500PE</td>\n",
       "      <td>BANKNIFTY</td>\n",
       "      <td>0.0</td>\n",
       "      <td>2024-04-10</td>\n",
       "      <td>39500.0</td>\n",
       "      <td>0.05</td>\n",
       "      <td>15</td>\n",
       "      <td>PE</td>\n",
       "      <td>NFO-OPT</td>\n",
       "      <td>NFO</td>\n",
       "      <td>39500PE</td>\n",
       "    </tr>\n",
       "    <tr>\n",
       "      <th>2259</th>\n",
       "      <td>11801090</td>\n",
       "      <td>46098</td>\n",
       "      <td>BANKNIFTY2441040000CE</td>\n",
       "      <td>BANKNIFTY</td>\n",
       "      <td>0.0</td>\n",
       "      <td>2024-04-10</td>\n",
       "      <td>40000.0</td>\n",
       "      <td>0.05</td>\n",
       "      <td>15</td>\n",
       "      <td>CE</td>\n",
       "      <td>NFO-OPT</td>\n",
       "      <td>NFO</td>\n",
       "      <td>40000CE</td>\n",
       "    </tr>\n",
       "  </tbody>\n",
       "</table>\n",
       "</div>"
      ],
      "text/plain": [
       "      instrument_token exchange_token          tradingsymbol       name  \\\n",
       "2255          11799298          46091  BANKNIFTY2441039000CE  BANKNIFTY   \n",
       "2256          11799554          46092  BANKNIFTY2441039000PE  BANKNIFTY   \n",
       "2257          11800578          46096  BANKNIFTY2441039500CE  BANKNIFTY   \n",
       "2258          11800834          46097  BANKNIFTY2441039500PE  BANKNIFTY   \n",
       "2259          11801090          46098  BANKNIFTY2441040000CE  BANKNIFTY   \n",
       "\n",
       "      last_price      expiry   strike  tick_size  lot_size instrument_type  \\\n",
       "2255         0.0  2024-04-10  39000.0       0.05        15              CE   \n",
       "2256         0.0  2024-04-10  39000.0       0.05        15              PE   \n",
       "2257         0.0  2024-04-10  39500.0       0.05        15              CE   \n",
       "2258         0.0  2024-04-10  39500.0       0.05        15              PE   \n",
       "2259         0.0  2024-04-10  40000.0       0.05        15              CE   \n",
       "\n",
       "      segment exchange strike_type  \n",
       "2255  NFO-OPT      NFO     39000CE  \n",
       "2256  NFO-OPT      NFO     39000PE  \n",
       "2257  NFO-OPT      NFO     39500CE  \n",
       "2258  NFO-OPT      NFO     39500PE  \n",
       "2259  NFO-OPT      NFO     40000CE  "
      ]
     },
     "execution_count": 3,
     "metadata": {},
     "output_type": "execute_result"
    }
   ],
   "source": [
    "expiry_march.head()"
   ]
  },
  {
   "cell_type": "code",
   "execution_count": null,
   "metadata": {},
   "outputs": [],
   "source": [
    "# for today's oi cross over check \n",
    "# 1. i need the todays data and continously fetch the 1 day before data and take the last day ending data\n",
    "# 2. then i will check the trending oi cross over \n",
    "# 3. then i will check strike cross over \n",
    "#     for it i need current spot price\n",
    "#     and i will check in 1 above and below strike price for cross over \n",
    "#     i will plot the 3 strike and keep the oi table if needed\n"
   ]
  },
  {
   "cell_type": "code",
   "execution_count": 37,
   "metadata": {},
   "outputs": [],
   "source": [
    "import datetime\n",
    "import time\n",
    "\n",
    "def fetch_market_data(expiry_march,start_dt, end_dt, time_frame = 'minute'):\n",
    "    df_expiry_hist_data = pd.DataFrame()\n",
    "    strike_symbol_dict = dict(zip(expiry_march.instrument_token,expiry_march['strike_type'] ))\n",
    "    inst_expiry = expiry_march['instrument_token'].unique().tolist() \n",
    "    for i in inst_expiry:\n",
    "        df = pd.DataFrame(kite.historical_data(i, from_date = start_dt, to_date = end_dt, interval = time_frame, continuous=False, oi=True))\n",
    "        df['strike_type'] = strike_symbol_dict[i]\n",
    "        df_expiry_hist_data = df_expiry_hist_data.append(df)\n",
    "    df_expiry_hist_data['date']  = pd.to_datetime(df_expiry_hist_data['date']).dt.tz_localize(None)\n",
    "    df_expiry_hist_data['date_only'] = pd.to_datetime(df_expiry_hist_data['date'].dt.date)\n",
    "    return df_expiry_hist_data\n",
    "\n",
    "\n",
    "\n",
    "def get_previous_trading_day_data():\n",
    "    # Check the last five days\n",
    "    pass\n",
    "\n",
    "\n",
    "# previous_day_data = get_previous_trading_day_data()\n",
    "# print(f\"Previous trading day's data at 15:27: {previous_day_data}\")\n",
    "\n",
    "# while True:\n",
    "#     now = datetime.datetime.now()\n",
    "#     today_data = fetch_market_data(now.strftime('%Y-%m-%d'), now.strftime('%H:%M'))\n",
    "#     print(f\"Today's data at {now.strftime('%H:%M')}: {today_data}\")\n",
    "    \n",
    "#     # Wait for 60 seconds before the next fetch\n",
    "#     time.sleep(60)\n",
    "\n"
   ]
  },
  {
   "cell_type": "code",
   "execution_count": null,
   "metadata": {},
   "outputs": [],
   "source": [
    "import datetime\n",
    "trending_strike = [46100, 46200, 46300, 46400, 46500, 46600, 46700, 46800, 46900, 47000, 47100, 47200, 47300, 47400, 47500]\n",
    "\n",
    "# previous day data fetch \n",
    "for i in range(1, 6):\n",
    "        day = datetime.datetime.now() - datetime.timedelta(days=i)\n",
    "        start_dt = day.strftime('%Y-%m-%d')\n",
    "        end_dt = day.strftime('%Y-%m-%d')\n",
    "        time_frame = '3minute'\n",
    "        df_prev = fetch_market_data(expiry_march,start_dt, end_dt, time_frame)\n",
    "        if df_prev.empty:\n",
    "            continue\n",
    "        else:\n",
    "               df_prev\n",
    "        # break\n",
    "               \n",
    "    df_bn_oi_data['strike_value'] = df_bn_oi_data['strike_type'].str[:-2]\n",
    "    df_bn_oi_data['strike_value'] = df_bn_oi_data['strike_value'].astype(int)\n",
    "    df_bn_oi_data['strike_ce_pe'] = df_bn_oi_data['strike_type'].str[-2:]\n",
    "    df_bn_oi_data.query('strike_value in @trending_strike', inplace = True)\n",
    "    df_bn_oi_data_prev_day = df_bn_oi_data_prev_day.groupby(['date', 'strike_ce_pe'])['oi'].sum().reset_index()\n",
    "    df_pivot_prev = df_bn_oi_data_prev_day.pivot_table(index='date', columns='strike_ce_pe', values='oi')"
   ]
  },
  {
   "cell_type": "code",
   "execution_count": null,
   "metadata": {},
   "outputs": [],
   "source": [
    "# current day data fetch \n",
    "now = datetime.datetime.now()\n",
    "start_dt = now.strftime('%Y-%m-%d')\n",
    "end_dt = now.strftime('%Y-%m-%d')\n",
    "time_frame = '3minute'\n",
    "df_current_day = fetch_market_data(expiry_march,start_dt, end_dt, time_frame)\n",
    "df_current_day['strike_value'] = df_current_day['strike_type'].str[:-2]\n",
    "df_current_day['strike_value'] = df_current_day['strike_value'].astype(int)\n",
    "df_current_day['strike_ce_pe'] = df_current_day['strike_type'].str[-2:]\n",
    "df_current_day.query('strike_value in @trending_strike', inplace = True)\n",
    "df_bn_oi_data_current_day = df_current_day.groupby(['date', 'strike_ce_pe'])['oi'].sum().reset_index()\n",
    "df_pivot_current = df_bn_oi_data_current_day.pivot_table(index='date', columns='strike_ce_pe', values='oi')"
   ]
  },
  {
   "cell_type": "code",
   "execution_count": null,
   "metadata": {},
   "outputs": [],
   "source": [
    "## cross over \n",
    "df_pivot = df_pivot_curr.reset_index()\n",
    "df_pivot.drop(['CE', 'PE'], axis = 1, inplace = True)\n",
    "\n",
    "# Initialize an empty list to store crossover points\n",
    "crossovers = []\n",
    "\n",
    "# Loop through the DataFrame starting from the second row\n",
    "for i in range(1, len(df_pivot)):\n",
    "    # Current and previous values for 'chg_ce' and 'chg_pe'\n",
    "    current_chg_ce = df_pivot.loc[i, 'chg_ce']\n",
    "    previous_chg_ce = df_pivot.loc[i - 1, 'chg_ce']\n",
    "    current_chg_pe = df_pivot.loc[i, 'chg_pe']\n",
    "    previous_chg_pe = df_pivot.loc[i - 1, 'chg_pe']\n",
    "\n",
    "    # Check for crossover: chg_ce crosses above chg_pe or chg_ce crosses below chg_pe\n",
    "    if (current_chg_ce > current_chg_pe and previous_chg_ce < previous_chg_pe) or \\\n",
    "       (current_chg_ce < current_chg_pe and previous_chg_ce > previous_chg_pe):\n",
    "        # Crossover detected; add it to the list\n",
    "        crossover_date = df_pivot.loc[i, 'date']\n",
    "        crossovers.append(crossover_date)\n",
    "\n",
    "# Print all crossover points\n",
    "for crossover in crossovers:\n",
    "    print(f\"Crossover occurred on: {crossover}\")\n",
    "\n",
    "# If you want to return the crossovers as well, just use `return crossovers` if this is in a function."
   ]
  },
  {
   "cell_type": "code",
   "execution_count": 44,
   "metadata": {},
   "outputs": [],
   "source": [
    "from plyer import notification\n",
    "\n",
    "# Your condition\n",
    "condition = True  # This is just an example condition. Replace it with your actual condition.\n",
    "\n",
    "if condition:\n",
    "    notification.notify(\n",
    "        title='Akash first notification',\n",
    "        message='Welcome to trading world',\n",
    "        app_name='Akash Trading App',\n",
    "    )"
   ]
  },
  {
   "cell_type": "markdown",
   "metadata": {},
   "source": [
    "## oi cross over "
   ]
  },
  {
   "cell_type": "code",
   "execution_count": 2,
   "metadata": {},
   "outputs": [],
   "source": [
    "df_bn_oi_data = pd.read_parquet(\"../data/expiry_27march2024_3min.parquet\")\n",
    "df_bn_oi_data = df_bn_oi_data.query(\"strike_type != '0FUT'\")\n",
    "df_bn_oi_data['date']  = pd.to_datetime(df_bn_oi_data['date']).dt.tz_localize(None)\n",
    "df_bn_oi_data['date_only'] = pd.to_datetime(df_bn_oi_data['date'].dt.date)\n",
    "# trending_strike = list(range(46100, 47501, 100))\n",
    "trending_strike = [46100, 46200, 46300, 46400, 46500, 46600, 46700, 46800, 46900, 47000, 47100, 47200, 47300, 47400, 47500]\n",
    "# trending_strike = [46700]\n",
    "df_bn_oi_data['strike_value'] = df_bn_oi_data['strike_type'].str[:-2]\n",
    "df_bn_oi_data['strike_value'] = df_bn_oi_data['strike_value'].astype(int)\n",
    "df_bn_oi_data['strike_ce_pe'] = df_bn_oi_data['strike_type'].str[-2:]\n",
    "df_bn_oi_data.query('strike_value in @trending_strike', inplace = True)"
   ]
  },
  {
   "cell_type": "code",
   "execution_count": 3,
   "metadata": {},
   "outputs": [],
   "source": [
    "df_bn_oi_data_prev_day = df_bn_oi_data.query(\"date_only == '2024-03-21'\")\n",
    "df_bn_oi_data_prev_day = df_bn_oi_data_prev_day.groupby(['date', 'strike_ce_pe'])['oi'].sum().reset_index()\n",
    "df_pivot_prev = df_bn_oi_data_prev_day.pivot_table(index='date', columns='strike_ce_pe', values='oi')"
   ]
  },
  {
   "cell_type": "code",
   "execution_count": 4,
   "metadata": {},
   "outputs": [
    {
     "data": {
      "text/html": [
       "<div>\n",
       "<style scoped>\n",
       "    .dataframe tbody tr th:only-of-type {\n",
       "        vertical-align: middle;\n",
       "    }\n",
       "\n",
       "    .dataframe tbody tr th {\n",
       "        vertical-align: top;\n",
       "    }\n",
       "\n",
       "    .dataframe thead th {\n",
       "        text-align: right;\n",
       "    }\n",
       "</style>\n",
       "<table border=\"1\" class=\"dataframe\">\n",
       "  <thead>\n",
       "    <tr style=\"text-align: right;\">\n",
       "      <th>strike_ce_pe</th>\n",
       "      <th>CE</th>\n",
       "      <th>PE</th>\n",
       "    </tr>\n",
       "    <tr>\n",
       "      <th>date</th>\n",
       "      <th></th>\n",
       "      <th></th>\n",
       "    </tr>\n",
       "  </thead>\n",
       "  <tbody>\n",
       "    <tr>\n",
       "      <th>2024-03-21 15:15:00</th>\n",
       "      <td>13427790.0</td>\n",
       "      <td>10294725.0</td>\n",
       "    </tr>\n",
       "    <tr>\n",
       "      <th>2024-03-21 15:18:00</th>\n",
       "      <td>13233225.0</td>\n",
       "      <td>10125030.0</td>\n",
       "    </tr>\n",
       "    <tr>\n",
       "      <th>2024-03-21 15:21:00</th>\n",
       "      <td>12830535.0</td>\n",
       "      <td>9773445.0</td>\n",
       "    </tr>\n",
       "    <tr>\n",
       "      <th>2024-03-21 15:24:00</th>\n",
       "      <td>12498615.0</td>\n",
       "      <td>9357075.0</td>\n",
       "    </tr>\n",
       "    <tr>\n",
       "      <th>2024-03-21 15:27:00</th>\n",
       "      <td>12304725.0</td>\n",
       "      <td>8987835.0</td>\n",
       "    </tr>\n",
       "  </tbody>\n",
       "</table>\n",
       "</div>"
      ],
      "text/plain": [
       "strike_ce_pe                 CE          PE\n",
       "date                                       \n",
       "2024-03-21 15:15:00  13427790.0  10294725.0\n",
       "2024-03-21 15:18:00  13233225.0  10125030.0\n",
       "2024-03-21 15:21:00  12830535.0   9773445.0\n",
       "2024-03-21 15:24:00  12498615.0   9357075.0\n",
       "2024-03-21 15:27:00  12304725.0   8987835.0"
      ]
     },
     "execution_count": 4,
     "metadata": {},
     "output_type": "execute_result"
    }
   ],
   "source": [
    "df_pivot_prev.tail()"
   ]
  },
  {
   "cell_type": "code",
   "execution_count": 5,
   "metadata": {},
   "outputs": [],
   "source": [
    "prev_day_ce_oi = 12304725.0 - (5520975 - 4935675)\n",
    "prev_day_pe_oi = 8987835.0 - (4918185 - 4573980)"
   ]
  },
  {
   "cell_type": "code",
   "execution_count": 6,
   "metadata": {},
   "outputs": [],
   "source": [
    "df_bn_oi_data_curr_day = df_bn_oi_data.query(\"date_only == '2024-03-22'\")\n",
    "df_bn_oi_data_curr_day= df_bn_oi_data_curr_day.groupby(['date', 'strike_ce_pe'])['oi'].sum().reset_index()\n",
    "df_pivot_curr = df_bn_oi_data_curr_day.pivot_table(index='date', columns='strike_ce_pe', values='oi')"
   ]
  },
  {
   "cell_type": "code",
   "execution_count": 7,
   "metadata": {},
   "outputs": [],
   "source": [
    "df_pivot_curr['chg_ce'] = df_pivot_curr['CE'] - prev_day_ce_oi\n",
    "df_pivot_curr['chg_pe'] = df_pivot_curr['PE'] -prev_day_pe_oi"
   ]
  },
  {
   "cell_type": "code",
   "execution_count": 8,
   "metadata": {},
   "outputs": [
    {
     "data": {
      "text/html": [
       "<div>\n",
       "<style scoped>\n",
       "    .dataframe tbody tr th:only-of-type {\n",
       "        vertical-align: middle;\n",
       "    }\n",
       "\n",
       "    .dataframe tbody tr th {\n",
       "        vertical-align: top;\n",
       "    }\n",
       "\n",
       "    .dataframe thead th {\n",
       "        text-align: right;\n",
       "    }\n",
       "</style>\n",
       "<table border=\"1\" class=\"dataframe\">\n",
       "  <thead>\n",
       "    <tr style=\"text-align: right;\">\n",
       "      <th>strike_ce_pe</th>\n",
       "      <th>CE</th>\n",
       "      <th>PE</th>\n",
       "      <th>chg_ce</th>\n",
       "      <th>chg_pe</th>\n",
       "    </tr>\n",
       "    <tr>\n",
       "      <th>date</th>\n",
       "      <th></th>\n",
       "      <th></th>\n",
       "      <th></th>\n",
       "      <th></th>\n",
       "    </tr>\n",
       "  </thead>\n",
       "  <tbody>\n",
       "    <tr>\n",
       "      <th>2024-03-22 09:15:00</th>\n",
       "      <td>12028170.0</td>\n",
       "      <td>8963310.0</td>\n",
       "      <td>308745.0</td>\n",
       "      <td>319680.0</td>\n",
       "    </tr>\n",
       "    <tr>\n",
       "      <th>2024-03-22 09:18:00</th>\n",
       "      <td>13238385.0</td>\n",
       "      <td>10088415.0</td>\n",
       "      <td>1518960.0</td>\n",
       "      <td>1444785.0</td>\n",
       "    </tr>\n",
       "    <tr>\n",
       "      <th>2024-03-22 09:21:00</th>\n",
       "      <td>13866630.0</td>\n",
       "      <td>10891080.0</td>\n",
       "      <td>2147205.0</td>\n",
       "      <td>2247450.0</td>\n",
       "    </tr>\n",
       "    <tr>\n",
       "      <th>2024-03-22 09:24:00</th>\n",
       "      <td>14345490.0</td>\n",
       "      <td>11390700.0</td>\n",
       "      <td>2626065.0</td>\n",
       "      <td>2747070.0</td>\n",
       "    </tr>\n",
       "    <tr>\n",
       "      <th>2024-03-22 09:27:00</th>\n",
       "      <td>14617845.0</td>\n",
       "      <td>11503155.0</td>\n",
       "      <td>2898420.0</td>\n",
       "      <td>2859525.0</td>\n",
       "    </tr>\n",
       "  </tbody>\n",
       "</table>\n",
       "</div>"
      ],
      "text/plain": [
       "strike_ce_pe                 CE          PE     chg_ce     chg_pe\n",
       "date                                                             \n",
       "2024-03-22 09:15:00  12028170.0   8963310.0   308745.0   319680.0\n",
       "2024-03-22 09:18:00  13238385.0  10088415.0  1518960.0  1444785.0\n",
       "2024-03-22 09:21:00  13866630.0  10891080.0  2147205.0  2247450.0\n",
       "2024-03-22 09:24:00  14345490.0  11390700.0  2626065.0  2747070.0\n",
       "2024-03-22 09:27:00  14617845.0  11503155.0  2898420.0  2859525.0"
      ]
     },
     "execution_count": 8,
     "metadata": {},
     "output_type": "execute_result"
    }
   ],
   "source": [
    "df_pivot_curr.head()"
   ]
  },
  {
   "cell_type": "code",
   "execution_count": 9,
   "metadata": {},
   "outputs": [
    {
     "name": "stdout",
     "output_type": "stream",
     "text": [
      "Crossover occurred on: 2024-03-22 09:18:00\n",
      "Crossover occurred on: 2024-03-22 09:21:00\n",
      "Crossover occurred on: 2024-03-22 09:27:00\n",
      "Crossover occurred on: 2024-03-22 09:36:00\n"
     ]
    }
   ],
   "source": [
    "import pandas as pd\n",
    "\n",
    "df_pivot = df_pivot_curr.reset_index()\n",
    "df_pivot.drop(['CE', 'PE'], axis = 1, inplace = True)\n",
    "\n",
    "# Initialize an empty list to store crossover points\n",
    "crossovers = []\n",
    "\n",
    "# Loop through the DataFrame starting from the second row\n",
    "for i in range(1, len(df_pivot)):\n",
    "    # Current and previous values for 'chg_ce' and 'chg_pe'\n",
    "    current_chg_ce = df_pivot.loc[i, 'chg_ce']\n",
    "    previous_chg_ce = df_pivot.loc[i - 1, 'chg_ce']\n",
    "    current_chg_pe = df_pivot.loc[i, 'chg_pe']\n",
    "    previous_chg_pe = df_pivot.loc[i - 1, 'chg_pe']\n",
    "\n",
    "    # Check for crossover: chg_ce crosses above chg_pe or chg_ce crosses below chg_pe\n",
    "    if (current_chg_ce > current_chg_pe and previous_chg_ce < previous_chg_pe) or \\\n",
    "       (current_chg_ce < current_chg_pe and previous_chg_ce > previous_chg_pe):\n",
    "        # Crossover detected; add it to the list\n",
    "        crossover_date = df_pivot.loc[i, 'date']\n",
    "        crossovers.append(crossover_date)\n",
    "\n",
    "# Print all crossover points\n",
    "for crossover in crossovers:\n",
    "    print(f\"Crossover occurred on: {crossover}\")\n",
    "\n",
    "# If you want to return the crossovers as well, just use `return crossovers` if this is in a function.\n"
   ]
  },
  {
   "cell_type": "code",
   "execution_count": 10,
   "metadata": {},
   "outputs": [
    {
     "data": {
      "application/vnd.plotly.v1+json": {
       "config": {
        "plotlyServerURL": "https://plot.ly"
       },
       "data": [
        {
         "hovertemplate": "strike_ce_pe=chg_ce<br>date=%{x}<br>OI=%{y}<extra></extra>",
         "legendgroup": "chg_ce",
         "line": {
          "color": "#636efa",
          "dash": "solid"
         },
         "marker": {
          "symbol": "circle"
         },
         "mode": "lines+markers",
         "name": "chg_ce",
         "orientation": "v",
         "showlegend": true,
         "type": "scatter",
         "x": [
          "2024-03-22T09:15:00",
          "2024-03-22T09:18:00",
          "2024-03-22T09:21:00",
          "2024-03-22T09:24:00",
          "2024-03-22T09:27:00",
          "2024-03-22T09:30:00",
          "2024-03-22T09:33:00",
          "2024-03-22T09:36:00",
          "2024-03-22T09:39:00",
          "2024-03-22T09:42:00",
          "2024-03-22T09:45:00",
          "2024-03-22T09:48:00",
          "2024-03-22T09:51:00",
          "2024-03-22T09:54:00",
          "2024-03-22T09:57:00",
          "2024-03-22T10:00:00",
          "2024-03-22T10:03:00",
          "2024-03-22T10:06:00",
          "2024-03-22T10:09:00",
          "2024-03-22T10:12:00",
          "2024-03-22T10:15:00",
          "2024-03-22T10:18:00",
          "2024-03-22T10:21:00",
          "2024-03-22T10:24:00",
          "2024-03-22T10:27:00",
          "2024-03-22T10:30:00",
          "2024-03-22T10:33:00",
          "2024-03-22T10:36:00",
          "2024-03-22T10:39:00",
          "2024-03-22T10:42:00",
          "2024-03-22T10:45:00",
          "2024-03-22T10:48:00",
          "2024-03-22T10:51:00",
          "2024-03-22T10:54:00",
          "2024-03-22T10:57:00",
          "2024-03-22T11:00:00",
          "2024-03-22T11:03:00",
          "2024-03-22T11:06:00",
          "2024-03-22T11:09:00",
          "2024-03-22T11:12:00",
          "2024-03-22T11:15:00",
          "2024-03-22T11:18:00",
          "2024-03-22T11:21:00",
          "2024-03-22T11:24:00",
          "2024-03-22T11:27:00",
          "2024-03-22T11:30:00",
          "2024-03-22T11:33:00",
          "2024-03-22T11:36:00",
          "2024-03-22T11:39:00",
          "2024-03-22T11:42:00",
          "2024-03-22T11:45:00",
          "2024-03-22T11:48:00",
          "2024-03-22T11:51:00",
          "2024-03-22T11:54:00",
          "2024-03-22T11:57:00",
          "2024-03-22T12:00:00",
          "2024-03-22T12:03:00",
          "2024-03-22T12:06:00",
          "2024-03-22T12:09:00",
          "2024-03-22T12:12:00",
          "2024-03-22T12:15:00",
          "2024-03-22T12:18:00",
          "2024-03-22T12:21:00",
          "2024-03-22T12:24:00",
          "2024-03-22T12:27:00",
          "2024-03-22T12:30:00",
          "2024-03-22T12:33:00",
          "2024-03-22T12:36:00",
          "2024-03-22T12:39:00",
          "2024-03-22T12:42:00",
          "2024-03-22T12:45:00",
          "2024-03-22T12:48:00",
          "2024-03-22T12:51:00",
          "2024-03-22T12:54:00",
          "2024-03-22T12:57:00",
          "2024-03-22T13:00:00",
          "2024-03-22T13:03:00",
          "2024-03-22T13:06:00",
          "2024-03-22T13:09:00",
          "2024-03-22T13:12:00",
          "2024-03-22T13:15:00",
          "2024-03-22T13:18:00",
          "2024-03-22T13:21:00",
          "2024-03-22T13:24:00",
          "2024-03-22T13:27:00",
          "2024-03-22T13:30:00",
          "2024-03-22T13:33:00",
          "2024-03-22T13:36:00",
          "2024-03-22T13:39:00",
          "2024-03-22T13:42:00",
          "2024-03-22T13:45:00",
          "2024-03-22T13:48:00",
          "2024-03-22T13:51:00",
          "2024-03-22T13:54:00",
          "2024-03-22T13:57:00",
          "2024-03-22T14:00:00",
          "2024-03-22T14:03:00",
          "2024-03-22T14:06:00",
          "2024-03-22T14:09:00",
          "2024-03-22T14:12:00",
          "2024-03-22T14:15:00",
          "2024-03-22T14:18:00",
          "2024-03-22T14:21:00",
          "2024-03-22T14:24:00",
          "2024-03-22T14:27:00",
          "2024-03-22T14:30:00",
          "2024-03-22T14:33:00",
          "2024-03-22T14:36:00",
          "2024-03-22T14:39:00",
          "2024-03-22T14:42:00",
          "2024-03-22T14:45:00",
          "2024-03-22T14:48:00",
          "2024-03-22T14:51:00",
          "2024-03-22T14:54:00",
          "2024-03-22T14:57:00",
          "2024-03-22T15:00:00",
          "2024-03-22T15:03:00",
          "2024-03-22T15:06:00",
          "2024-03-22T15:09:00",
          "2024-03-22T15:12:00",
          "2024-03-22T15:15:00",
          "2024-03-22T15:18:00",
          "2024-03-22T15:21:00",
          "2024-03-22T15:24:00",
          "2024-03-22T15:27:00"
         ],
         "xaxis": "x",
         "y": [
          308745,
          1518960,
          2147205,
          2626065,
          2898420,
          3203220,
          3562080,
          3439920,
          2793105,
          2989665,
          2968575,
          3005760,
          3375600,
          3453810,
          3768300,
          3820755,
          3823650,
          3827610,
          3899895,
          4048530,
          3780105,
          3755745,
          3740595,
          3664410,
          3629235,
          2915505,
          2645295,
          2559285,
          2624745,
          2085495,
          2097225,
          2219580,
          2208375,
          2337975,
          2388210,
          2457810,
          2488980,
          2613045,
          2677740,
          2724735,
          2825145,
          2868780,
          2981190,
          2959890,
          2955285,
          2966445,
          2709285,
          2714040,
          2662620,
          2630535,
          2479290,
          2536065,
          2524035,
          2528340,
          2519640,
          2491815,
          2495760,
          2569875,
          2658765,
          2710275,
          2778120,
          2893125,
          2909100,
          2941410,
          3058995,
          3125790,
          3173115,
          3247905,
          3283350,
          3277995,
          3283170,
          3285480,
          3378135,
          3359505,
          3389325,
          3393495,
          3216885,
          3242775,
          3194205,
          3196050,
          3194715,
          3171405,
          3202725,
          3169065,
          3137625,
          3130305,
          3195780,
          3179670,
          3172395,
          3052530,
          3002460,
          3027630,
          3029760,
          3084105,
          3148650,
          3246210,
          3278145,
          3267795,
          3225720,
          3177120,
          3047085,
          2735910,
          2625420,
          2343330,
          2301510,
          2162430,
          2008395,
          2128200,
          2172090,
          2211780,
          2188185,
          1957575,
          1925610,
          1866630,
          1838955,
          1570905,
          1597335,
          1502535,
          1300080,
          1142415,
          764805,
          513765,
          222885,
          -141840,
          -557715
         ],
         "yaxis": "y"
        },
        {
         "hovertemplate": "strike_ce_pe=chg_pe<br>date=%{x}<br>OI=%{y}<extra></extra>",
         "legendgroup": "chg_pe",
         "line": {
          "color": "#EF553B",
          "dash": "solid"
         },
         "marker": {
          "symbol": "circle"
         },
         "mode": "lines+markers",
         "name": "chg_pe",
         "orientation": "v",
         "showlegend": true,
         "type": "scatter",
         "x": [
          "2024-03-22T09:15:00",
          "2024-03-22T09:18:00",
          "2024-03-22T09:21:00",
          "2024-03-22T09:24:00",
          "2024-03-22T09:27:00",
          "2024-03-22T09:30:00",
          "2024-03-22T09:33:00",
          "2024-03-22T09:36:00",
          "2024-03-22T09:39:00",
          "2024-03-22T09:42:00",
          "2024-03-22T09:45:00",
          "2024-03-22T09:48:00",
          "2024-03-22T09:51:00",
          "2024-03-22T09:54:00",
          "2024-03-22T09:57:00",
          "2024-03-22T10:00:00",
          "2024-03-22T10:03:00",
          "2024-03-22T10:06:00",
          "2024-03-22T10:09:00",
          "2024-03-22T10:12:00",
          "2024-03-22T10:15:00",
          "2024-03-22T10:18:00",
          "2024-03-22T10:21:00",
          "2024-03-22T10:24:00",
          "2024-03-22T10:27:00",
          "2024-03-22T10:30:00",
          "2024-03-22T10:33:00",
          "2024-03-22T10:36:00",
          "2024-03-22T10:39:00",
          "2024-03-22T10:42:00",
          "2024-03-22T10:45:00",
          "2024-03-22T10:48:00",
          "2024-03-22T10:51:00",
          "2024-03-22T10:54:00",
          "2024-03-22T10:57:00",
          "2024-03-22T11:00:00",
          "2024-03-22T11:03:00",
          "2024-03-22T11:06:00",
          "2024-03-22T11:09:00",
          "2024-03-22T11:12:00",
          "2024-03-22T11:15:00",
          "2024-03-22T11:18:00",
          "2024-03-22T11:21:00",
          "2024-03-22T11:24:00",
          "2024-03-22T11:27:00",
          "2024-03-22T11:30:00",
          "2024-03-22T11:33:00",
          "2024-03-22T11:36:00",
          "2024-03-22T11:39:00",
          "2024-03-22T11:42:00",
          "2024-03-22T11:45:00",
          "2024-03-22T11:48:00",
          "2024-03-22T11:51:00",
          "2024-03-22T11:54:00",
          "2024-03-22T11:57:00",
          "2024-03-22T12:00:00",
          "2024-03-22T12:03:00",
          "2024-03-22T12:06:00",
          "2024-03-22T12:09:00",
          "2024-03-22T12:12:00",
          "2024-03-22T12:15:00",
          "2024-03-22T12:18:00",
          "2024-03-22T12:21:00",
          "2024-03-22T12:24:00",
          "2024-03-22T12:27:00",
          "2024-03-22T12:30:00",
          "2024-03-22T12:33:00",
          "2024-03-22T12:36:00",
          "2024-03-22T12:39:00",
          "2024-03-22T12:42:00",
          "2024-03-22T12:45:00",
          "2024-03-22T12:48:00",
          "2024-03-22T12:51:00",
          "2024-03-22T12:54:00",
          "2024-03-22T12:57:00",
          "2024-03-22T13:00:00",
          "2024-03-22T13:03:00",
          "2024-03-22T13:06:00",
          "2024-03-22T13:09:00",
          "2024-03-22T13:12:00",
          "2024-03-22T13:15:00",
          "2024-03-22T13:18:00",
          "2024-03-22T13:21:00",
          "2024-03-22T13:24:00",
          "2024-03-22T13:27:00",
          "2024-03-22T13:30:00",
          "2024-03-22T13:33:00",
          "2024-03-22T13:36:00",
          "2024-03-22T13:39:00",
          "2024-03-22T13:42:00",
          "2024-03-22T13:45:00",
          "2024-03-22T13:48:00",
          "2024-03-22T13:51:00",
          "2024-03-22T13:54:00",
          "2024-03-22T13:57:00",
          "2024-03-22T14:00:00",
          "2024-03-22T14:03:00",
          "2024-03-22T14:06:00",
          "2024-03-22T14:09:00",
          "2024-03-22T14:12:00",
          "2024-03-22T14:15:00",
          "2024-03-22T14:18:00",
          "2024-03-22T14:21:00",
          "2024-03-22T14:24:00",
          "2024-03-22T14:27:00",
          "2024-03-22T14:30:00",
          "2024-03-22T14:33:00",
          "2024-03-22T14:36:00",
          "2024-03-22T14:39:00",
          "2024-03-22T14:42:00",
          "2024-03-22T14:45:00",
          "2024-03-22T14:48:00",
          "2024-03-22T14:51:00",
          "2024-03-22T14:54:00",
          "2024-03-22T14:57:00",
          "2024-03-22T15:00:00",
          "2024-03-22T15:03:00",
          "2024-03-22T15:06:00",
          "2024-03-22T15:09:00",
          "2024-03-22T15:12:00",
          "2024-03-22T15:15:00",
          "2024-03-22T15:18:00",
          "2024-03-22T15:21:00",
          "2024-03-22T15:24:00",
          "2024-03-22T15:27:00"
         ],
         "xaxis": "x",
         "y": [
          319680,
          1444785,
          2247450,
          2747070,
          2859525,
          2722290,
          3177945,
          3498135,
          4151550,
          4556445,
          4538700,
          4012950,
          4228710,
          4363455,
          4538595,
          4923870,
          5060655,
          5231115,
          5347320,
          5519895,
          5675985,
          5848005,
          6024615,
          6137985,
          6422370,
          6715770,
          6897075,
          6989325,
          7246800,
          7515240,
          7621410,
          7681920,
          7790910,
          7827435,
          7884000,
          8004090,
          7990230,
          8039790,
          8086830,
          8073825,
          8182380,
          8263920,
          8241900,
          8221740,
          8249640,
          8337315,
          8279985,
          8347230,
          8418570,
          8442990,
          8517555,
          8600550,
          8718375,
          8761725,
          8814855,
          8761560,
          8782215,
          8728665,
          8788545,
          8850225,
          8856375,
          8871165,
          8735250,
          8636400,
          8640885,
          8620170,
          8577615,
          8594700,
          8579820,
          8553360,
          8584590,
          8604210,
          8597580,
          8488410,
          8491545,
          8564700,
          8367945,
          8461065,
          8523045,
          8548680,
          8586465,
          8616690,
          8628075,
          8663895,
          8671500,
          8758155,
          8720655,
          8790420,
          8727840,
          8717010,
          8821860,
          8854905,
          8966520,
          8852535,
          8824965,
          8796975,
          8779530,
          8777040,
          8705025,
          8657775,
          8594820,
          8582610,
          8721480,
          8646210,
          8681070,
          8731200,
          8747865,
          8704110,
          8613600,
          8575335,
          8308305,
          8155830,
          7889925,
          7779390,
          7773210,
          7432620,
          7303980,
          7129995,
          6848490,
          6452610,
          5768880,
          5497530,
          5014980,
          4424715,
          3860880
         ],
         "yaxis": "y"
        }
       ],
       "layout": {
        "hovermode": "x unified",
        "legend": {
         "title": {
          "text": "strike_ce_pe"
         },
         "tracegroupgap": 0
        },
        "template": {
         "data": {
          "bar": [
           {
            "error_x": {
             "color": "#2a3f5f"
            },
            "error_y": {
             "color": "#2a3f5f"
            },
            "marker": {
             "line": {
              "color": "#E5ECF6",
              "width": 0.5
             },
             "pattern": {
              "fillmode": "overlay",
              "size": 10,
              "solidity": 0.2
             }
            },
            "type": "bar"
           }
          ],
          "barpolar": [
           {
            "marker": {
             "line": {
              "color": "#E5ECF6",
              "width": 0.5
             },
             "pattern": {
              "fillmode": "overlay",
              "size": 10,
              "solidity": 0.2
             }
            },
            "type": "barpolar"
           }
          ],
          "carpet": [
           {
            "aaxis": {
             "endlinecolor": "#2a3f5f",
             "gridcolor": "white",
             "linecolor": "white",
             "minorgridcolor": "white",
             "startlinecolor": "#2a3f5f"
            },
            "baxis": {
             "endlinecolor": "#2a3f5f",
             "gridcolor": "white",
             "linecolor": "white",
             "minorgridcolor": "white",
             "startlinecolor": "#2a3f5f"
            },
            "type": "carpet"
           }
          ],
          "choropleth": [
           {
            "colorbar": {
             "outlinewidth": 0,
             "ticks": ""
            },
            "type": "choropleth"
           }
          ],
          "contour": [
           {
            "colorbar": {
             "outlinewidth": 0,
             "ticks": ""
            },
            "colorscale": [
             [
              0,
              "#0d0887"
             ],
             [
              0.1111111111111111,
              "#46039f"
             ],
             [
              0.2222222222222222,
              "#7201a8"
             ],
             [
              0.3333333333333333,
              "#9c179e"
             ],
             [
              0.4444444444444444,
              "#bd3786"
             ],
             [
              0.5555555555555556,
              "#d8576b"
             ],
             [
              0.6666666666666666,
              "#ed7953"
             ],
             [
              0.7777777777777778,
              "#fb9f3a"
             ],
             [
              0.8888888888888888,
              "#fdca26"
             ],
             [
              1,
              "#f0f921"
             ]
            ],
            "type": "contour"
           }
          ],
          "contourcarpet": [
           {
            "colorbar": {
             "outlinewidth": 0,
             "ticks": ""
            },
            "type": "contourcarpet"
           }
          ],
          "heatmap": [
           {
            "colorbar": {
             "outlinewidth": 0,
             "ticks": ""
            },
            "colorscale": [
             [
              0,
              "#0d0887"
             ],
             [
              0.1111111111111111,
              "#46039f"
             ],
             [
              0.2222222222222222,
              "#7201a8"
             ],
             [
              0.3333333333333333,
              "#9c179e"
             ],
             [
              0.4444444444444444,
              "#bd3786"
             ],
             [
              0.5555555555555556,
              "#d8576b"
             ],
             [
              0.6666666666666666,
              "#ed7953"
             ],
             [
              0.7777777777777778,
              "#fb9f3a"
             ],
             [
              0.8888888888888888,
              "#fdca26"
             ],
             [
              1,
              "#f0f921"
             ]
            ],
            "type": "heatmap"
           }
          ],
          "heatmapgl": [
           {
            "colorbar": {
             "outlinewidth": 0,
             "ticks": ""
            },
            "colorscale": [
             [
              0,
              "#0d0887"
             ],
             [
              0.1111111111111111,
              "#46039f"
             ],
             [
              0.2222222222222222,
              "#7201a8"
             ],
             [
              0.3333333333333333,
              "#9c179e"
             ],
             [
              0.4444444444444444,
              "#bd3786"
             ],
             [
              0.5555555555555556,
              "#d8576b"
             ],
             [
              0.6666666666666666,
              "#ed7953"
             ],
             [
              0.7777777777777778,
              "#fb9f3a"
             ],
             [
              0.8888888888888888,
              "#fdca26"
             ],
             [
              1,
              "#f0f921"
             ]
            ],
            "type": "heatmapgl"
           }
          ],
          "histogram": [
           {
            "marker": {
             "pattern": {
              "fillmode": "overlay",
              "size": 10,
              "solidity": 0.2
             }
            },
            "type": "histogram"
           }
          ],
          "histogram2d": [
           {
            "colorbar": {
             "outlinewidth": 0,
             "ticks": ""
            },
            "colorscale": [
             [
              0,
              "#0d0887"
             ],
             [
              0.1111111111111111,
              "#46039f"
             ],
             [
              0.2222222222222222,
              "#7201a8"
             ],
             [
              0.3333333333333333,
              "#9c179e"
             ],
             [
              0.4444444444444444,
              "#bd3786"
             ],
             [
              0.5555555555555556,
              "#d8576b"
             ],
             [
              0.6666666666666666,
              "#ed7953"
             ],
             [
              0.7777777777777778,
              "#fb9f3a"
             ],
             [
              0.8888888888888888,
              "#fdca26"
             ],
             [
              1,
              "#f0f921"
             ]
            ],
            "type": "histogram2d"
           }
          ],
          "histogram2dcontour": [
           {
            "colorbar": {
             "outlinewidth": 0,
             "ticks": ""
            },
            "colorscale": [
             [
              0,
              "#0d0887"
             ],
             [
              0.1111111111111111,
              "#46039f"
             ],
             [
              0.2222222222222222,
              "#7201a8"
             ],
             [
              0.3333333333333333,
              "#9c179e"
             ],
             [
              0.4444444444444444,
              "#bd3786"
             ],
             [
              0.5555555555555556,
              "#d8576b"
             ],
             [
              0.6666666666666666,
              "#ed7953"
             ],
             [
              0.7777777777777778,
              "#fb9f3a"
             ],
             [
              0.8888888888888888,
              "#fdca26"
             ],
             [
              1,
              "#f0f921"
             ]
            ],
            "type": "histogram2dcontour"
           }
          ],
          "mesh3d": [
           {
            "colorbar": {
             "outlinewidth": 0,
             "ticks": ""
            },
            "type": "mesh3d"
           }
          ],
          "parcoords": [
           {
            "line": {
             "colorbar": {
              "outlinewidth": 0,
              "ticks": ""
             }
            },
            "type": "parcoords"
           }
          ],
          "pie": [
           {
            "automargin": true,
            "type": "pie"
           }
          ],
          "scatter": [
           {
            "fillpattern": {
             "fillmode": "overlay",
             "size": 10,
             "solidity": 0.2
            },
            "type": "scatter"
           }
          ],
          "scatter3d": [
           {
            "line": {
             "colorbar": {
              "outlinewidth": 0,
              "ticks": ""
             }
            },
            "marker": {
             "colorbar": {
              "outlinewidth": 0,
              "ticks": ""
             }
            },
            "type": "scatter3d"
           }
          ],
          "scattercarpet": [
           {
            "marker": {
             "colorbar": {
              "outlinewidth": 0,
              "ticks": ""
             }
            },
            "type": "scattercarpet"
           }
          ],
          "scattergeo": [
           {
            "marker": {
             "colorbar": {
              "outlinewidth": 0,
              "ticks": ""
             }
            },
            "type": "scattergeo"
           }
          ],
          "scattergl": [
           {
            "marker": {
             "colorbar": {
              "outlinewidth": 0,
              "ticks": ""
             }
            },
            "type": "scattergl"
           }
          ],
          "scattermapbox": [
           {
            "marker": {
             "colorbar": {
              "outlinewidth": 0,
              "ticks": ""
             }
            },
            "type": "scattermapbox"
           }
          ],
          "scatterpolar": [
           {
            "marker": {
             "colorbar": {
              "outlinewidth": 0,
              "ticks": ""
             }
            },
            "type": "scatterpolar"
           }
          ],
          "scatterpolargl": [
           {
            "marker": {
             "colorbar": {
              "outlinewidth": 0,
              "ticks": ""
             }
            },
            "type": "scatterpolargl"
           }
          ],
          "scatterternary": [
           {
            "marker": {
             "colorbar": {
              "outlinewidth": 0,
              "ticks": ""
             }
            },
            "type": "scatterternary"
           }
          ],
          "surface": [
           {
            "colorbar": {
             "outlinewidth": 0,
             "ticks": ""
            },
            "colorscale": [
             [
              0,
              "#0d0887"
             ],
             [
              0.1111111111111111,
              "#46039f"
             ],
             [
              0.2222222222222222,
              "#7201a8"
             ],
             [
              0.3333333333333333,
              "#9c179e"
             ],
             [
              0.4444444444444444,
              "#bd3786"
             ],
             [
              0.5555555555555556,
              "#d8576b"
             ],
             [
              0.6666666666666666,
              "#ed7953"
             ],
             [
              0.7777777777777778,
              "#fb9f3a"
             ],
             [
              0.8888888888888888,
              "#fdca26"
             ],
             [
              1,
              "#f0f921"
             ]
            ],
            "type": "surface"
           }
          ],
          "table": [
           {
            "cells": {
             "fill": {
              "color": "#EBF0F8"
             },
             "line": {
              "color": "white"
             }
            },
            "header": {
             "fill": {
              "color": "#C8D4E3"
             },
             "line": {
              "color": "white"
             }
            },
            "type": "table"
           }
          ]
         },
         "layout": {
          "annotationdefaults": {
           "arrowcolor": "#2a3f5f",
           "arrowhead": 0,
           "arrowwidth": 1
          },
          "autotypenumbers": "strict",
          "coloraxis": {
           "colorbar": {
            "outlinewidth": 0,
            "ticks": ""
           }
          },
          "colorscale": {
           "diverging": [
            [
             0,
             "#8e0152"
            ],
            [
             0.1,
             "#c51b7d"
            ],
            [
             0.2,
             "#de77ae"
            ],
            [
             0.3,
             "#f1b6da"
            ],
            [
             0.4,
             "#fde0ef"
            ],
            [
             0.5,
             "#f7f7f7"
            ],
            [
             0.6,
             "#e6f5d0"
            ],
            [
             0.7,
             "#b8e186"
            ],
            [
             0.8,
             "#7fbc41"
            ],
            [
             0.9,
             "#4d9221"
            ],
            [
             1,
             "#276419"
            ]
           ],
           "sequential": [
            [
             0,
             "#0d0887"
            ],
            [
             0.1111111111111111,
             "#46039f"
            ],
            [
             0.2222222222222222,
             "#7201a8"
            ],
            [
             0.3333333333333333,
             "#9c179e"
            ],
            [
             0.4444444444444444,
             "#bd3786"
            ],
            [
             0.5555555555555556,
             "#d8576b"
            ],
            [
             0.6666666666666666,
             "#ed7953"
            ],
            [
             0.7777777777777778,
             "#fb9f3a"
            ],
            [
             0.8888888888888888,
             "#fdca26"
            ],
            [
             1,
             "#f0f921"
            ]
           ],
           "sequentialminus": [
            [
             0,
             "#0d0887"
            ],
            [
             0.1111111111111111,
             "#46039f"
            ],
            [
             0.2222222222222222,
             "#7201a8"
            ],
            [
             0.3333333333333333,
             "#9c179e"
            ],
            [
             0.4444444444444444,
             "#bd3786"
            ],
            [
             0.5555555555555556,
             "#d8576b"
            ],
            [
             0.6666666666666666,
             "#ed7953"
            ],
            [
             0.7777777777777778,
             "#fb9f3a"
            ],
            [
             0.8888888888888888,
             "#fdca26"
            ],
            [
             1,
             "#f0f921"
            ]
           ]
          },
          "colorway": [
           "#636efa",
           "#EF553B",
           "#00cc96",
           "#ab63fa",
           "#FFA15A",
           "#19d3f3",
           "#FF6692",
           "#B6E880",
           "#FF97FF",
           "#FECB52"
          ],
          "font": {
           "color": "#2a3f5f"
          },
          "geo": {
           "bgcolor": "white",
           "lakecolor": "white",
           "landcolor": "#E5ECF6",
           "showlakes": true,
           "showland": true,
           "subunitcolor": "white"
          },
          "hoverlabel": {
           "align": "left"
          },
          "hovermode": "closest",
          "mapbox": {
           "style": "light"
          },
          "paper_bgcolor": "white",
          "plot_bgcolor": "#E5ECF6",
          "polar": {
           "angularaxis": {
            "gridcolor": "white",
            "linecolor": "white",
            "ticks": ""
           },
           "bgcolor": "#E5ECF6",
           "radialaxis": {
            "gridcolor": "white",
            "linecolor": "white",
            "ticks": ""
           }
          },
          "scene": {
           "xaxis": {
            "backgroundcolor": "#E5ECF6",
            "gridcolor": "white",
            "gridwidth": 2,
            "linecolor": "white",
            "showbackground": true,
            "ticks": "",
            "zerolinecolor": "white"
           },
           "yaxis": {
            "backgroundcolor": "#E5ECF6",
            "gridcolor": "white",
            "gridwidth": 2,
            "linecolor": "white",
            "showbackground": true,
            "ticks": "",
            "zerolinecolor": "white"
           },
           "zaxis": {
            "backgroundcolor": "#E5ECF6",
            "gridcolor": "white",
            "gridwidth": 2,
            "linecolor": "white",
            "showbackground": true,
            "ticks": "",
            "zerolinecolor": "white"
           }
          },
          "shapedefaults": {
           "line": {
            "color": "#2a3f5f"
           }
          },
          "ternary": {
           "aaxis": {
            "gridcolor": "white",
            "linecolor": "white",
            "ticks": ""
           },
           "baxis": {
            "gridcolor": "white",
            "linecolor": "white",
            "ticks": ""
           },
           "bgcolor": "#E5ECF6",
           "caxis": {
            "gridcolor": "white",
            "linecolor": "white",
            "ticks": ""
           }
          },
          "title": {
           "x": 0.05
          },
          "xaxis": {
           "automargin": true,
           "gridcolor": "white",
           "linecolor": "white",
           "ticks": "",
           "title": {
            "standoff": 15
           },
           "zerolinecolor": "white",
           "zerolinewidth": 2
          },
          "yaxis": {
           "automargin": true,
           "gridcolor": "white",
           "linecolor": "white",
           "ticks": "",
           "title": {
            "standoff": 15
           },
           "zerolinecolor": "white",
           "zerolinewidth": 2
          }
         }
        },
        "title": {
         "text": "OI Pulse"
        },
        "xaxis": {
         "anchor": "y",
         "domain": [
          0,
          1
         ],
         "title": {
          "text": "date"
         }
        },
        "yaxis": {
         "anchor": "x",
         "domain": [
          0,
          1
         ],
         "title": {
          "text": "OI"
         }
        }
       }
      }
     },
     "metadata": {},
     "output_type": "display_data"
    }
   ],
   "source": [
    "import plotly.express as px\n",
    "import pandas as pd\n",
    "\n",
    "# Assuming df_bn_oi_data is your DataFrame with the necessary data\n",
    "# df_pivot = df_bn_oi_data.groupby(['date', 'strike_ce_pe'])['oi'].sum().reset_index().pivot(index='date', columns='strike_ce_pe', values='oi')\n",
    "\n",
    "# Reset index to make 'date' a column again, which is necessary for Plotly\n",
    "\n",
    "\n",
    "# Plotting with Plotly\n",
    "fig = px.line(df_pivot, x='date', y=df_pivot.columns,\n",
    "              title='OI Pulse',\n",
    "              labels={'value': 'OI', 'variable': 'Option Type'})\n",
    "\n",
    "# Adding more interactive features like hover information\n",
    "fig.update_traces(mode='lines+markers')\n",
    "fig.update_layout(hovermode='x unified')\n",
    "\n",
    "fig.show()\n"
   ]
  },
  {
   "cell_type": "code",
   "execution_count": 73,
   "metadata": {},
   "outputs": [
    {
     "data": {
      "text/html": [
       "<div>\n",
       "<style scoped>\n",
       "    .dataframe tbody tr th:only-of-type {\n",
       "        vertical-align: middle;\n",
       "    }\n",
       "\n",
       "    .dataframe tbody tr th {\n",
       "        vertical-align: top;\n",
       "    }\n",
       "\n",
       "    .dataframe thead th {\n",
       "        text-align: right;\n",
       "    }\n",
       "</style>\n",
       "<table border=\"1\" class=\"dataframe\">\n",
       "  <thead>\n",
       "    <tr style=\"text-align: right;\">\n",
       "      <th>strike_ce_pe</th>\n",
       "      <th>date</th>\n",
       "      <th>CE</th>\n",
       "      <th>PE</th>\n",
       "    </tr>\n",
       "  </thead>\n",
       "  <tbody>\n",
       "    <tr>\n",
       "      <th>0</th>\n",
       "      <td>2024-03-22 09:15:00</td>\n",
       "      <td>12028170.0</td>\n",
       "      <td>8963310.0</td>\n",
       "    </tr>\n",
       "    <tr>\n",
       "      <th>1</th>\n",
       "      <td>2024-03-22 09:18:00</td>\n",
       "      <td>13238385.0</td>\n",
       "      <td>10088415.0</td>\n",
       "    </tr>\n",
       "    <tr>\n",
       "      <th>2</th>\n",
       "      <td>2024-03-22 09:21:00</td>\n",
       "      <td>13866630.0</td>\n",
       "      <td>10891080.0</td>\n",
       "    </tr>\n",
       "    <tr>\n",
       "      <th>3</th>\n",
       "      <td>2024-03-22 09:24:00</td>\n",
       "      <td>14345490.0</td>\n",
       "      <td>11390700.0</td>\n",
       "    </tr>\n",
       "    <tr>\n",
       "      <th>4</th>\n",
       "      <td>2024-03-22 09:27:00</td>\n",
       "      <td>14617845.0</td>\n",
       "      <td>11503155.0</td>\n",
       "    </tr>\n",
       "    <tr>\n",
       "      <th>...</th>\n",
       "      <td>...</td>\n",
       "      <td>...</td>\n",
       "      <td>...</td>\n",
       "    </tr>\n",
       "    <tr>\n",
       "      <th>120</th>\n",
       "      <td>2024-03-22 15:15:00</td>\n",
       "      <td>12484230.0</td>\n",
       "      <td>14412510.0</td>\n",
       "    </tr>\n",
       "    <tr>\n",
       "      <th>121</th>\n",
       "      <td>2024-03-22 15:18:00</td>\n",
       "      <td>12233190.0</td>\n",
       "      <td>14141160.0</td>\n",
       "    </tr>\n",
       "    <tr>\n",
       "      <th>122</th>\n",
       "      <td>2024-03-22 15:21:00</td>\n",
       "      <td>11942310.0</td>\n",
       "      <td>13658610.0</td>\n",
       "    </tr>\n",
       "    <tr>\n",
       "      <th>123</th>\n",
       "      <td>2024-03-22 15:24:00</td>\n",
       "      <td>11577585.0</td>\n",
       "      <td>13068345.0</td>\n",
       "    </tr>\n",
       "    <tr>\n",
       "      <th>124</th>\n",
       "      <td>2024-03-22 15:27:00</td>\n",
       "      <td>11161710.0</td>\n",
       "      <td>12504510.0</td>\n",
       "    </tr>\n",
       "  </tbody>\n",
       "</table>\n",
       "<p>125 rows × 3 columns</p>\n",
       "</div>"
      ],
      "text/plain": [
       "strike_ce_pe                date          CE          PE\n",
       "0            2024-03-22 09:15:00  12028170.0   8963310.0\n",
       "1            2024-03-22 09:18:00  13238385.0  10088415.0\n",
       "2            2024-03-22 09:21:00  13866630.0  10891080.0\n",
       "3            2024-03-22 09:24:00  14345490.0  11390700.0\n",
       "4            2024-03-22 09:27:00  14617845.0  11503155.0\n",
       "..                           ...         ...         ...\n",
       "120          2024-03-22 15:15:00  12484230.0  14412510.0\n",
       "121          2024-03-22 15:18:00  12233190.0  14141160.0\n",
       "122          2024-03-22 15:21:00  11942310.0  13658610.0\n",
       "123          2024-03-22 15:24:00  11577585.0  13068345.0\n",
       "124          2024-03-22 15:27:00  11161710.0  12504510.0\n",
       "\n",
       "[125 rows x 3 columns]"
      ]
     },
     "execution_count": 73,
     "metadata": {},
     "output_type": "execute_result"
    }
   ],
   "source": [
    "df_pivot"
   ]
  },
  {
   "cell_type": "code",
   "execution_count": 58,
   "metadata": {},
   "outputs": [
    {
     "data": {
      "application/vnd.plotly.v1+json": {
       "config": {
        "plotlyServerURL": "https://plot.ly"
       },
       "data": [
        {
         "mode": "lines+markers",
         "name": "Change in Call OI",
         "type": "scatter",
         "x": [
          "2024-03-21T09:15:00",
          "2024-03-21T09:18:00",
          "2024-03-21T09:21:00",
          "2024-03-21T09:24:00",
          "2024-03-21T09:27:00",
          "2024-03-21T09:30:00",
          "2024-03-21T09:33:00",
          "2024-03-21T09:36:00",
          "2024-03-21T09:39:00",
          "2024-03-21T09:42:00",
          "2024-03-21T09:45:00",
          "2024-03-21T09:48:00",
          "2024-03-21T09:51:00",
          "2024-03-21T09:54:00",
          "2024-03-21T09:57:00",
          "2024-03-21T10:00:00",
          "2024-03-21T10:03:00",
          "2024-03-21T10:06:00",
          "2024-03-21T10:09:00",
          "2024-03-21T10:12:00",
          "2024-03-21T10:15:00",
          "2024-03-21T10:18:00",
          "2024-03-21T10:21:00",
          "2024-03-21T10:24:00",
          "2024-03-21T10:27:00",
          "2024-03-21T10:30:00",
          "2024-03-21T10:33:00",
          "2024-03-21T10:36:00",
          "2024-03-21T10:39:00",
          "2024-03-21T10:42:00",
          "2024-03-21T10:45:00",
          "2024-03-21T10:48:00",
          "2024-03-21T10:51:00",
          "2024-03-21T10:54:00",
          "2024-03-21T10:57:00",
          "2024-03-21T11:00:00",
          "2024-03-21T11:03:00",
          "2024-03-21T11:06:00",
          "2024-03-21T11:09:00",
          "2024-03-21T11:12:00",
          "2024-03-21T11:15:00",
          "2024-03-21T11:18:00",
          "2024-03-21T11:21:00",
          "2024-03-21T11:24:00",
          "2024-03-21T11:27:00",
          "2024-03-21T11:30:00",
          "2024-03-21T11:33:00",
          "2024-03-21T11:36:00",
          "2024-03-21T11:39:00",
          "2024-03-21T11:42:00",
          "2024-03-21T11:45:00",
          "2024-03-21T11:48:00",
          "2024-03-21T11:51:00",
          "2024-03-21T11:54:00",
          "2024-03-21T11:57:00",
          "2024-03-21T12:00:00",
          "2024-03-21T12:03:00",
          "2024-03-21T12:06:00",
          "2024-03-21T12:09:00",
          "2024-03-21T12:12:00",
          "2024-03-21T12:15:00",
          "2024-03-21T12:18:00",
          "2024-03-21T12:21:00",
          "2024-03-21T12:24:00",
          "2024-03-21T12:27:00",
          "2024-03-21T12:30:00",
          "2024-03-21T12:33:00",
          "2024-03-21T12:36:00",
          "2024-03-21T12:39:00",
          "2024-03-21T12:42:00",
          "2024-03-21T12:45:00",
          "2024-03-21T12:48:00",
          "2024-03-21T12:51:00",
          "2024-03-21T12:54:00",
          "2024-03-21T12:57:00",
          "2024-03-21T13:00:00",
          "2024-03-21T13:03:00",
          "2024-03-21T13:06:00",
          "2024-03-21T13:09:00",
          "2024-03-21T13:12:00",
          "2024-03-21T13:15:00",
          "2024-03-21T13:18:00",
          "2024-03-21T13:21:00",
          "2024-03-21T13:24:00",
          "2024-03-21T13:27:00",
          "2024-03-21T13:30:00",
          "2024-03-21T13:33:00",
          "2024-03-21T13:36:00",
          "2024-03-21T13:39:00",
          "2024-03-21T13:42:00",
          "2024-03-21T13:45:00",
          "2024-03-21T13:48:00",
          "2024-03-21T13:51:00",
          "2024-03-21T13:54:00",
          "2024-03-21T13:57:00",
          "2024-03-21T14:00:00",
          "2024-03-21T14:03:00",
          "2024-03-21T14:06:00",
          "2024-03-21T14:09:00",
          "2024-03-21T14:12:00",
          "2024-03-21T14:15:00",
          "2024-03-21T14:18:00",
          "2024-03-21T14:21:00",
          "2024-03-21T14:24:00",
          "2024-03-21T14:27:00",
          "2024-03-21T14:30:00",
          "2024-03-21T14:33:00",
          "2024-03-21T14:36:00",
          "2024-03-21T14:39:00",
          "2024-03-21T14:42:00",
          "2024-03-21T14:45:00",
          "2024-03-21T14:48:00",
          "2024-03-21T14:51:00",
          "2024-03-21T14:54:00",
          "2024-03-21T14:57:00",
          "2024-03-21T15:00:00",
          "2024-03-21T15:03:00",
          "2024-03-21T15:06:00",
          "2024-03-21T15:09:00",
          "2024-03-21T15:12:00",
          "2024-03-21T15:15:00",
          "2024-03-21T15:18:00",
          "2024-03-21T15:21:00",
          "2024-03-21T15:24:00",
          "2024-03-21T15:27:00"
         ],
         "y": [
          null,
          677085,
          505035,
          578010,
          464385,
          471450,
          435390,
          123435,
          184425,
          190995,
          177690,
          -1035,
          117450,
          48990,
          3465,
          248565,
          62160,
          -745320,
          -163335,
          -95565,
          -95640,
          37965,
          -251520,
          198195,
          229005,
          308385,
          406860,
          212490,
          120045,
          207960,
          318270,
          -36405,
          51135,
          54360,
          -23985,
          28935,
          48585,
          -127380,
          86415,
          74700,
          18465,
          2115,
          25125,
          18675,
          19395,
          52305,
          -53430,
          22200,
          -5640,
          61380,
          51720,
          28245,
          122955,
          9510,
          126510,
          77250,
          70050,
          136860,
          204360,
          241200,
          401580,
          102060,
          199095,
          45915,
          96150,
          129975,
          -182415,
          -121815,
          -690,
          -63930,
          75945,
          -77160,
          -29895,
          55440,
          42255,
          107145,
          12075,
          54195,
          -50550,
          37935,
          78045,
          -118140,
          25755,
          -9090,
          -6450,
          60825,
          -33030,
          -2730,
          11310,
          -68805,
          72315,
          40950,
          4830,
          -8535,
          87480,
          92100,
          -1665,
          -20715,
          22875,
          54345,
          30060,
          -67905,
          53325,
          40380,
          -66810,
          -45405,
          101865,
          52695,
          -3450,
          16815,
          -82515,
          -58605,
          -137970,
          -121305,
          -59175,
          -62595,
          18240,
          -148815,
          -171720,
          -92310,
          -269145,
          -194565,
          -402690,
          -331920,
          -193890
         ]
        },
        {
         "mode": "lines+markers",
         "name": "Change in Put OI",
         "type": "scatter",
         "x": [
          "2024-03-21T09:15:00",
          "2024-03-21T09:18:00",
          "2024-03-21T09:21:00",
          "2024-03-21T09:24:00",
          "2024-03-21T09:27:00",
          "2024-03-21T09:30:00",
          "2024-03-21T09:33:00",
          "2024-03-21T09:36:00",
          "2024-03-21T09:39:00",
          "2024-03-21T09:42:00",
          "2024-03-21T09:45:00",
          "2024-03-21T09:48:00",
          "2024-03-21T09:51:00",
          "2024-03-21T09:54:00",
          "2024-03-21T09:57:00",
          "2024-03-21T10:00:00",
          "2024-03-21T10:03:00",
          "2024-03-21T10:06:00",
          "2024-03-21T10:09:00",
          "2024-03-21T10:12:00",
          "2024-03-21T10:15:00",
          "2024-03-21T10:18:00",
          "2024-03-21T10:21:00",
          "2024-03-21T10:24:00",
          "2024-03-21T10:27:00",
          "2024-03-21T10:30:00",
          "2024-03-21T10:33:00",
          "2024-03-21T10:36:00",
          "2024-03-21T10:39:00",
          "2024-03-21T10:42:00",
          "2024-03-21T10:45:00",
          "2024-03-21T10:48:00",
          "2024-03-21T10:51:00",
          "2024-03-21T10:54:00",
          "2024-03-21T10:57:00",
          "2024-03-21T11:00:00",
          "2024-03-21T11:03:00",
          "2024-03-21T11:06:00",
          "2024-03-21T11:09:00",
          "2024-03-21T11:12:00",
          "2024-03-21T11:15:00",
          "2024-03-21T11:18:00",
          "2024-03-21T11:21:00",
          "2024-03-21T11:24:00",
          "2024-03-21T11:27:00",
          "2024-03-21T11:30:00",
          "2024-03-21T11:33:00",
          "2024-03-21T11:36:00",
          "2024-03-21T11:39:00",
          "2024-03-21T11:42:00",
          "2024-03-21T11:45:00",
          "2024-03-21T11:48:00",
          "2024-03-21T11:51:00",
          "2024-03-21T11:54:00",
          "2024-03-21T11:57:00",
          "2024-03-21T12:00:00",
          "2024-03-21T12:03:00",
          "2024-03-21T12:06:00",
          "2024-03-21T12:09:00",
          "2024-03-21T12:12:00",
          "2024-03-21T12:15:00",
          "2024-03-21T12:18:00",
          "2024-03-21T12:21:00",
          "2024-03-21T12:24:00",
          "2024-03-21T12:27:00",
          "2024-03-21T12:30:00",
          "2024-03-21T12:33:00",
          "2024-03-21T12:36:00",
          "2024-03-21T12:39:00",
          "2024-03-21T12:42:00",
          "2024-03-21T12:45:00",
          "2024-03-21T12:48:00",
          "2024-03-21T12:51:00",
          "2024-03-21T12:54:00",
          "2024-03-21T12:57:00",
          "2024-03-21T13:00:00",
          "2024-03-21T13:03:00",
          "2024-03-21T13:06:00",
          "2024-03-21T13:09:00",
          "2024-03-21T13:12:00",
          "2024-03-21T13:15:00",
          "2024-03-21T13:18:00",
          "2024-03-21T13:21:00",
          "2024-03-21T13:24:00",
          "2024-03-21T13:27:00",
          "2024-03-21T13:30:00",
          "2024-03-21T13:33:00",
          "2024-03-21T13:36:00",
          "2024-03-21T13:39:00",
          "2024-03-21T13:42:00",
          "2024-03-21T13:45:00",
          "2024-03-21T13:48:00",
          "2024-03-21T13:51:00",
          "2024-03-21T13:54:00",
          "2024-03-21T13:57:00",
          "2024-03-21T14:00:00",
          "2024-03-21T14:03:00",
          "2024-03-21T14:06:00",
          "2024-03-21T14:09:00",
          "2024-03-21T14:12:00",
          "2024-03-21T14:15:00",
          "2024-03-21T14:18:00",
          "2024-03-21T14:21:00",
          "2024-03-21T14:24:00",
          "2024-03-21T14:27:00",
          "2024-03-21T14:30:00",
          "2024-03-21T14:33:00",
          "2024-03-21T14:36:00",
          "2024-03-21T14:39:00",
          "2024-03-21T14:42:00",
          "2024-03-21T14:45:00",
          "2024-03-21T14:48:00",
          "2024-03-21T14:51:00",
          "2024-03-21T14:54:00",
          "2024-03-21T14:57:00",
          "2024-03-21T15:00:00",
          "2024-03-21T15:03:00",
          "2024-03-21T15:06:00",
          "2024-03-21T15:09:00",
          "2024-03-21T15:12:00",
          "2024-03-21T15:15:00",
          "2024-03-21T15:18:00",
          "2024-03-21T15:21:00",
          "2024-03-21T15:24:00",
          "2024-03-21T15:27:00"
         ],
         "y": [
          null,
          963540,
          1303695,
          584415,
          692370,
          397560,
          338715,
          222210,
          292725,
          286860,
          247830,
          179415,
          248820,
          129135,
          123555,
          215730,
          122520,
          233055,
          382905,
          344835,
          469635,
          150945,
          -312705,
          153480,
          63705,
          -198870,
          136365,
          152805,
          103515,
          -87255,
          -212415,
          -47925,
          143445,
          -118470,
          -38685,
          55170,
          -31545,
          -230460,
          95400,
          13725,
          58995,
          126300,
          84855,
          66330,
          -69105,
          39015,
          16275,
          88140,
          -27180,
          68535,
          60345,
          10980,
          41940,
          -91650,
          53160,
          -16305,
          -101295,
          -55245,
          -1030875,
          -324405,
          -475155,
          8880,
          172410,
          -17760,
          45840,
          65445,
          -134880,
          -73965,
          29445,
          -3480,
          124065,
          65730,
          38985,
          78195,
          -101115,
          50205,
          37725,
          6315,
          27825,
          15960,
          -3750,
          51120,
          44130,
          -25395,
          70680,
          -24870,
          11580,
          -85440,
          -14595,
          -6840,
          183900,
          61860,
          59130,
          4845,
          -21810,
          -19560,
          -40770,
          -29565,
          154035,
          2835,
          -38880,
          -5025,
          -50220,
          26415,
          -40740,
          69375,
          -102570,
          23880,
          16035,
          -59805,
          9735,
          52545,
          -40605,
          -78690,
          -18210,
          -107145,
          -47310,
          -187695,
          -96195,
          -96405,
          -263565,
          -169695,
          -351585,
          -416370,
          -369240
         ]
        }
       ],
       "layout": {
        "hovermode": "x unified",
        "template": {
         "data": {
          "bar": [
           {
            "error_x": {
             "color": "#2a3f5f"
            },
            "error_y": {
             "color": "#2a3f5f"
            },
            "marker": {
             "line": {
              "color": "#E5ECF6",
              "width": 0.5
             },
             "pattern": {
              "fillmode": "overlay",
              "size": 10,
              "solidity": 0.2
             }
            },
            "type": "bar"
           }
          ],
          "barpolar": [
           {
            "marker": {
             "line": {
              "color": "#E5ECF6",
              "width": 0.5
             },
             "pattern": {
              "fillmode": "overlay",
              "size": 10,
              "solidity": 0.2
             }
            },
            "type": "barpolar"
           }
          ],
          "carpet": [
           {
            "aaxis": {
             "endlinecolor": "#2a3f5f",
             "gridcolor": "white",
             "linecolor": "white",
             "minorgridcolor": "white",
             "startlinecolor": "#2a3f5f"
            },
            "baxis": {
             "endlinecolor": "#2a3f5f",
             "gridcolor": "white",
             "linecolor": "white",
             "minorgridcolor": "white",
             "startlinecolor": "#2a3f5f"
            },
            "type": "carpet"
           }
          ],
          "choropleth": [
           {
            "colorbar": {
             "outlinewidth": 0,
             "ticks": ""
            },
            "type": "choropleth"
           }
          ],
          "contour": [
           {
            "colorbar": {
             "outlinewidth": 0,
             "ticks": ""
            },
            "colorscale": [
             [
              0,
              "#0d0887"
             ],
             [
              0.1111111111111111,
              "#46039f"
             ],
             [
              0.2222222222222222,
              "#7201a8"
             ],
             [
              0.3333333333333333,
              "#9c179e"
             ],
             [
              0.4444444444444444,
              "#bd3786"
             ],
             [
              0.5555555555555556,
              "#d8576b"
             ],
             [
              0.6666666666666666,
              "#ed7953"
             ],
             [
              0.7777777777777778,
              "#fb9f3a"
             ],
             [
              0.8888888888888888,
              "#fdca26"
             ],
             [
              1,
              "#f0f921"
             ]
            ],
            "type": "contour"
           }
          ],
          "contourcarpet": [
           {
            "colorbar": {
             "outlinewidth": 0,
             "ticks": ""
            },
            "type": "contourcarpet"
           }
          ],
          "heatmap": [
           {
            "colorbar": {
             "outlinewidth": 0,
             "ticks": ""
            },
            "colorscale": [
             [
              0,
              "#0d0887"
             ],
             [
              0.1111111111111111,
              "#46039f"
             ],
             [
              0.2222222222222222,
              "#7201a8"
             ],
             [
              0.3333333333333333,
              "#9c179e"
             ],
             [
              0.4444444444444444,
              "#bd3786"
             ],
             [
              0.5555555555555556,
              "#d8576b"
             ],
             [
              0.6666666666666666,
              "#ed7953"
             ],
             [
              0.7777777777777778,
              "#fb9f3a"
             ],
             [
              0.8888888888888888,
              "#fdca26"
             ],
             [
              1,
              "#f0f921"
             ]
            ],
            "type": "heatmap"
           }
          ],
          "heatmapgl": [
           {
            "colorbar": {
             "outlinewidth": 0,
             "ticks": ""
            },
            "colorscale": [
             [
              0,
              "#0d0887"
             ],
             [
              0.1111111111111111,
              "#46039f"
             ],
             [
              0.2222222222222222,
              "#7201a8"
             ],
             [
              0.3333333333333333,
              "#9c179e"
             ],
             [
              0.4444444444444444,
              "#bd3786"
             ],
             [
              0.5555555555555556,
              "#d8576b"
             ],
             [
              0.6666666666666666,
              "#ed7953"
             ],
             [
              0.7777777777777778,
              "#fb9f3a"
             ],
             [
              0.8888888888888888,
              "#fdca26"
             ],
             [
              1,
              "#f0f921"
             ]
            ],
            "type": "heatmapgl"
           }
          ],
          "histogram": [
           {
            "marker": {
             "pattern": {
              "fillmode": "overlay",
              "size": 10,
              "solidity": 0.2
             }
            },
            "type": "histogram"
           }
          ],
          "histogram2d": [
           {
            "colorbar": {
             "outlinewidth": 0,
             "ticks": ""
            },
            "colorscale": [
             [
              0,
              "#0d0887"
             ],
             [
              0.1111111111111111,
              "#46039f"
             ],
             [
              0.2222222222222222,
              "#7201a8"
             ],
             [
              0.3333333333333333,
              "#9c179e"
             ],
             [
              0.4444444444444444,
              "#bd3786"
             ],
             [
              0.5555555555555556,
              "#d8576b"
             ],
             [
              0.6666666666666666,
              "#ed7953"
             ],
             [
              0.7777777777777778,
              "#fb9f3a"
             ],
             [
              0.8888888888888888,
              "#fdca26"
             ],
             [
              1,
              "#f0f921"
             ]
            ],
            "type": "histogram2d"
           }
          ],
          "histogram2dcontour": [
           {
            "colorbar": {
             "outlinewidth": 0,
             "ticks": ""
            },
            "colorscale": [
             [
              0,
              "#0d0887"
             ],
             [
              0.1111111111111111,
              "#46039f"
             ],
             [
              0.2222222222222222,
              "#7201a8"
             ],
             [
              0.3333333333333333,
              "#9c179e"
             ],
             [
              0.4444444444444444,
              "#bd3786"
             ],
             [
              0.5555555555555556,
              "#d8576b"
             ],
             [
              0.6666666666666666,
              "#ed7953"
             ],
             [
              0.7777777777777778,
              "#fb9f3a"
             ],
             [
              0.8888888888888888,
              "#fdca26"
             ],
             [
              1,
              "#f0f921"
             ]
            ],
            "type": "histogram2dcontour"
           }
          ],
          "mesh3d": [
           {
            "colorbar": {
             "outlinewidth": 0,
             "ticks": ""
            },
            "type": "mesh3d"
           }
          ],
          "parcoords": [
           {
            "line": {
             "colorbar": {
              "outlinewidth": 0,
              "ticks": ""
             }
            },
            "type": "parcoords"
           }
          ],
          "pie": [
           {
            "automargin": true,
            "type": "pie"
           }
          ],
          "scatter": [
           {
            "fillpattern": {
             "fillmode": "overlay",
             "size": 10,
             "solidity": 0.2
            },
            "type": "scatter"
           }
          ],
          "scatter3d": [
           {
            "line": {
             "colorbar": {
              "outlinewidth": 0,
              "ticks": ""
             }
            },
            "marker": {
             "colorbar": {
              "outlinewidth": 0,
              "ticks": ""
             }
            },
            "type": "scatter3d"
           }
          ],
          "scattercarpet": [
           {
            "marker": {
             "colorbar": {
              "outlinewidth": 0,
              "ticks": ""
             }
            },
            "type": "scattercarpet"
           }
          ],
          "scattergeo": [
           {
            "marker": {
             "colorbar": {
              "outlinewidth": 0,
              "ticks": ""
             }
            },
            "type": "scattergeo"
           }
          ],
          "scattergl": [
           {
            "marker": {
             "colorbar": {
              "outlinewidth": 0,
              "ticks": ""
             }
            },
            "type": "scattergl"
           }
          ],
          "scattermapbox": [
           {
            "marker": {
             "colorbar": {
              "outlinewidth": 0,
              "ticks": ""
             }
            },
            "type": "scattermapbox"
           }
          ],
          "scatterpolar": [
           {
            "marker": {
             "colorbar": {
              "outlinewidth": 0,
              "ticks": ""
             }
            },
            "type": "scatterpolar"
           }
          ],
          "scatterpolargl": [
           {
            "marker": {
             "colorbar": {
              "outlinewidth": 0,
              "ticks": ""
             }
            },
            "type": "scatterpolargl"
           }
          ],
          "scatterternary": [
           {
            "marker": {
             "colorbar": {
              "outlinewidth": 0,
              "ticks": ""
             }
            },
            "type": "scatterternary"
           }
          ],
          "surface": [
           {
            "colorbar": {
             "outlinewidth": 0,
             "ticks": ""
            },
            "colorscale": [
             [
              0,
              "#0d0887"
             ],
             [
              0.1111111111111111,
              "#46039f"
             ],
             [
              0.2222222222222222,
              "#7201a8"
             ],
             [
              0.3333333333333333,
              "#9c179e"
             ],
             [
              0.4444444444444444,
              "#bd3786"
             ],
             [
              0.5555555555555556,
              "#d8576b"
             ],
             [
              0.6666666666666666,
              "#ed7953"
             ],
             [
              0.7777777777777778,
              "#fb9f3a"
             ],
             [
              0.8888888888888888,
              "#fdca26"
             ],
             [
              1,
              "#f0f921"
             ]
            ],
            "type": "surface"
           }
          ],
          "table": [
           {
            "cells": {
             "fill": {
              "color": "#EBF0F8"
             },
             "line": {
              "color": "white"
             }
            },
            "header": {
             "fill": {
              "color": "#C8D4E3"
             },
             "line": {
              "color": "white"
             }
            },
            "type": "table"
           }
          ]
         },
         "layout": {
          "annotationdefaults": {
           "arrowcolor": "#2a3f5f",
           "arrowhead": 0,
           "arrowwidth": 1
          },
          "autotypenumbers": "strict",
          "coloraxis": {
           "colorbar": {
            "outlinewidth": 0,
            "ticks": ""
           }
          },
          "colorscale": {
           "diverging": [
            [
             0,
             "#8e0152"
            ],
            [
             0.1,
             "#c51b7d"
            ],
            [
             0.2,
             "#de77ae"
            ],
            [
             0.3,
             "#f1b6da"
            ],
            [
             0.4,
             "#fde0ef"
            ],
            [
             0.5,
             "#f7f7f7"
            ],
            [
             0.6,
             "#e6f5d0"
            ],
            [
             0.7,
             "#b8e186"
            ],
            [
             0.8,
             "#7fbc41"
            ],
            [
             0.9,
             "#4d9221"
            ],
            [
             1,
             "#276419"
            ]
           ],
           "sequential": [
            [
             0,
             "#0d0887"
            ],
            [
             0.1111111111111111,
             "#46039f"
            ],
            [
             0.2222222222222222,
             "#7201a8"
            ],
            [
             0.3333333333333333,
             "#9c179e"
            ],
            [
             0.4444444444444444,
             "#bd3786"
            ],
            [
             0.5555555555555556,
             "#d8576b"
            ],
            [
             0.6666666666666666,
             "#ed7953"
            ],
            [
             0.7777777777777778,
             "#fb9f3a"
            ],
            [
             0.8888888888888888,
             "#fdca26"
            ],
            [
             1,
             "#f0f921"
            ]
           ],
           "sequentialminus": [
            [
             0,
             "#0d0887"
            ],
            [
             0.1111111111111111,
             "#46039f"
            ],
            [
             0.2222222222222222,
             "#7201a8"
            ],
            [
             0.3333333333333333,
             "#9c179e"
            ],
            [
             0.4444444444444444,
             "#bd3786"
            ],
            [
             0.5555555555555556,
             "#d8576b"
            ],
            [
             0.6666666666666666,
             "#ed7953"
            ],
            [
             0.7777777777777778,
             "#fb9f3a"
            ],
            [
             0.8888888888888888,
             "#fdca26"
            ],
            [
             1,
             "#f0f921"
            ]
           ]
          },
          "colorway": [
           "#636efa",
           "#EF553B",
           "#00cc96",
           "#ab63fa",
           "#FFA15A",
           "#19d3f3",
           "#FF6692",
           "#B6E880",
           "#FF97FF",
           "#FECB52"
          ],
          "font": {
           "color": "#2a3f5f"
          },
          "geo": {
           "bgcolor": "white",
           "lakecolor": "white",
           "landcolor": "#E5ECF6",
           "showlakes": true,
           "showland": true,
           "subunitcolor": "white"
          },
          "hoverlabel": {
           "align": "left"
          },
          "hovermode": "closest",
          "mapbox": {
           "style": "light"
          },
          "paper_bgcolor": "white",
          "plot_bgcolor": "#E5ECF6",
          "polar": {
           "angularaxis": {
            "gridcolor": "white",
            "linecolor": "white",
            "ticks": ""
           },
           "bgcolor": "#E5ECF6",
           "radialaxis": {
            "gridcolor": "white",
            "linecolor": "white",
            "ticks": ""
           }
          },
          "scene": {
           "xaxis": {
            "backgroundcolor": "#E5ECF6",
            "gridcolor": "white",
            "gridwidth": 2,
            "linecolor": "white",
            "showbackground": true,
            "ticks": "",
            "zerolinecolor": "white"
           },
           "yaxis": {
            "backgroundcolor": "#E5ECF6",
            "gridcolor": "white",
            "gridwidth": 2,
            "linecolor": "white",
            "showbackground": true,
            "ticks": "",
            "zerolinecolor": "white"
           },
           "zaxis": {
            "backgroundcolor": "#E5ECF6",
            "gridcolor": "white",
            "gridwidth": 2,
            "linecolor": "white",
            "showbackground": true,
            "ticks": "",
            "zerolinecolor": "white"
           }
          },
          "shapedefaults": {
           "line": {
            "color": "#2a3f5f"
           }
          },
          "ternary": {
           "aaxis": {
            "gridcolor": "white",
            "linecolor": "white",
            "ticks": ""
           },
           "baxis": {
            "gridcolor": "white",
            "linecolor": "white",
            "ticks": ""
           },
           "bgcolor": "#E5ECF6",
           "caxis": {
            "gridcolor": "white",
            "linecolor": "white",
            "ticks": ""
           }
          },
          "title": {
           "x": 0.05
          },
          "xaxis": {
           "automargin": true,
           "gridcolor": "white",
           "linecolor": "white",
           "ticks": "",
           "title": {
            "standoff": 15
           },
           "zerolinecolor": "white",
           "zerolinewidth": 2
          },
          "yaxis": {
           "automargin": true,
           "gridcolor": "white",
           "linecolor": "white",
           "ticks": "",
           "title": {
            "standoff": 15
           },
           "zerolinecolor": "white",
           "zerolinewidth": 2
          }
         }
        },
        "title": {
         "text": "Change in OI for CE and PE"
        },
        "xaxis": {
         "title": {
          "text": "Date"
         }
        },
        "yaxis": {
         "title": {
          "text": "Change in OI"
         }
        }
       }
      }
     },
     "metadata": {},
     "output_type": "display_data"
    }
   ],
   "source": [
    "import pandas as pd\n",
    "import plotly.graph_objs as go\n",
    "\n",
    "# Assuming df_pivot is your DataFrame with 'date', 'CE', and 'PE' columns\n",
    "\n",
    "# Convert 'date' column to datetime\n",
    "df_pivot['date'] = pd.to_datetime(df_pivot['date'])\n",
    "\n",
    "# Sort the DataFrame by 'date' just in case it's not sorted\n",
    "df_pivot = df_pivot.sort_values('date')\n",
    "\n",
    "# Calculate the change in 'CE' and 'PE'\n",
    "df_pivot['change_in_CE'] = df_pivot['CE'].diff()\n",
    "df_pivot['change_in_PE'] = df_pivot['PE'].diff()\n",
    "\n",
    "# Create a Plotly graph\n",
    "fig = go.Figure()\n",
    "\n",
    "# Add traces for 'change_in_CE' and 'change_in_PE'\n",
    "fig.add_trace(go.Scatter(x=df_pivot['date'], y=df_pivot['change_in_CE'],\n",
    "                         mode='lines+markers', name='Change in Call OI'))\n",
    "fig.add_trace(go.Scatter(x=df_pivot['date'], y=df_pivot['change_in_PE'],\n",
    "                         mode='lines+markers', name='Change in Put OI'))\n",
    "\n",
    "# Update layout for a better look\n",
    "fig.update_layout(title='Change in OI for CE and PE',\n",
    "                  xaxis_title='Date',\n",
    "                  yaxis_title='Change in OI',\n",
    "                  hovermode='x unified')\n",
    "\n",
    "# Show plot\n",
    "fig.show()\n"
   ]
  },
  {
   "cell_type": "code",
   "execution_count": 56,
   "metadata": {},
   "outputs": [
    {
     "data": {
      "text/html": [
       "<div>\n",
       "<style scoped>\n",
       "    .dataframe tbody tr th:only-of-type {\n",
       "        vertical-align: middle;\n",
       "    }\n",
       "\n",
       "    .dataframe tbody tr th {\n",
       "        vertical-align: top;\n",
       "    }\n",
       "\n",
       "    .dataframe thead th {\n",
       "        text-align: right;\n",
       "    }\n",
       "</style>\n",
       "<table border=\"1\" class=\"dataframe\">\n",
       "  <thead>\n",
       "    <tr style=\"text-align: right;\">\n",
       "      <th>strike_ce_pe</th>\n",
       "      <th>date</th>\n",
       "      <th>CE</th>\n",
       "      <th>PE</th>\n",
       "    </tr>\n",
       "  </thead>\n",
       "  <tbody>\n",
       "    <tr>\n",
       "      <th>0</th>\n",
       "      <td>2024-03-21 09:15:00</td>\n",
       "      <td>7026255.0</td>\n",
       "      <td>4429050.0</td>\n",
       "    </tr>\n",
       "    <tr>\n",
       "      <th>1</th>\n",
       "      <td>2024-03-21 09:18:00</td>\n",
       "      <td>7703340.0</td>\n",
       "      <td>5392590.0</td>\n",
       "    </tr>\n",
       "    <tr>\n",
       "      <th>2</th>\n",
       "      <td>2024-03-21 09:21:00</td>\n",
       "      <td>8208375.0</td>\n",
       "      <td>6696285.0</td>\n",
       "    </tr>\n",
       "    <tr>\n",
       "      <th>3</th>\n",
       "      <td>2024-03-21 09:24:00</td>\n",
       "      <td>8786385.0</td>\n",
       "      <td>7280700.0</td>\n",
       "    </tr>\n",
       "    <tr>\n",
       "      <th>4</th>\n",
       "      <td>2024-03-21 09:27:00</td>\n",
       "      <td>9250770.0</td>\n",
       "      <td>7973070.0</td>\n",
       "    </tr>\n",
       "    <tr>\n",
       "      <th>...</th>\n",
       "      <td>...</td>\n",
       "      <td>...</td>\n",
       "      <td>...</td>\n",
       "    </tr>\n",
       "    <tr>\n",
       "      <th>120</th>\n",
       "      <td>2024-03-21 15:15:00</td>\n",
       "      <td>13427790.0</td>\n",
       "      <td>10294725.0</td>\n",
       "    </tr>\n",
       "    <tr>\n",
       "      <th>121</th>\n",
       "      <td>2024-03-21 15:18:00</td>\n",
       "      <td>13233225.0</td>\n",
       "      <td>10125030.0</td>\n",
       "    </tr>\n",
       "    <tr>\n",
       "      <th>122</th>\n",
       "      <td>2024-03-21 15:21:00</td>\n",
       "      <td>12830535.0</td>\n",
       "      <td>9773445.0</td>\n",
       "    </tr>\n",
       "    <tr>\n",
       "      <th>123</th>\n",
       "      <td>2024-03-21 15:24:00</td>\n",
       "      <td>12498615.0</td>\n",
       "      <td>9357075.0</td>\n",
       "    </tr>\n",
       "    <tr>\n",
       "      <th>124</th>\n",
       "      <td>2024-03-21 15:27:00</td>\n",
       "      <td>12304725.0</td>\n",
       "      <td>8987835.0</td>\n",
       "    </tr>\n",
       "  </tbody>\n",
       "</table>\n",
       "<p>125 rows × 3 columns</p>\n",
       "</div>"
      ],
      "text/plain": [
       "strike_ce_pe                date          CE          PE\n",
       "0            2024-03-21 09:15:00   7026255.0   4429050.0\n",
       "1            2024-03-21 09:18:00   7703340.0   5392590.0\n",
       "2            2024-03-21 09:21:00   8208375.0   6696285.0\n",
       "3            2024-03-21 09:24:00   8786385.0   7280700.0\n",
       "4            2024-03-21 09:27:00   9250770.0   7973070.0\n",
       "..                           ...         ...         ...\n",
       "120          2024-03-21 15:15:00  13427790.0  10294725.0\n",
       "121          2024-03-21 15:18:00  13233225.0  10125030.0\n",
       "122          2024-03-21 15:21:00  12830535.0   9773445.0\n",
       "123          2024-03-21 15:24:00  12498615.0   9357075.0\n",
       "124          2024-03-21 15:27:00  12304725.0   8987835.0\n",
       "\n",
       "[125 rows x 3 columns]"
      ]
     },
     "execution_count": 56,
     "metadata": {},
     "output_type": "execute_result"
    }
   ],
   "source": [
    "df_pivot"
   ]
  },
  {
   "cell_type": "code",
   "execution_count": 49,
   "metadata": {},
   "outputs": [
    {
     "data": {
      "text/html": [
       "<div>\n",
       "<style scoped>\n",
       "    .dataframe tbody tr th:only-of-type {\n",
       "        vertical-align: middle;\n",
       "    }\n",
       "\n",
       "    .dataframe tbody tr th {\n",
       "        vertical-align: top;\n",
       "    }\n",
       "\n",
       "    .dataframe thead th {\n",
       "        text-align: right;\n",
       "    }\n",
       "</style>\n",
       "<table border=\"1\" class=\"dataframe\">\n",
       "  <thead>\n",
       "    <tr style=\"text-align: right;\">\n",
       "      <th></th>\n",
       "      <th>date</th>\n",
       "      <th>open</th>\n",
       "      <th>high</th>\n",
       "      <th>low</th>\n",
       "      <th>close</th>\n",
       "      <th>volume</th>\n",
       "      <th>oi</th>\n",
       "      <th>strike_type</th>\n",
       "      <th>date_only</th>\n",
       "      <th>strike_value</th>\n",
       "      <th>strike_ce_pe</th>\n",
       "    </tr>\n",
       "  </thead>\n",
       "  <tbody>\n",
       "    <tr>\n",
       "      <th>115</th>\n",
       "      <td>2024-03-21 15:00:00</td>\n",
       "      <td>477.85</td>\n",
       "      <td>481.85</td>\n",
       "      <td>459.75</td>\n",
       "      <td>467.70</td>\n",
       "      <td>133020.0</td>\n",
       "      <td>592890.0</td>\n",
       "      <td>46600CE</td>\n",
       "      <td>2024-03-21</td>\n",
       "      <td>46600</td>\n",
       "      <td>CE</td>\n",
       "    </tr>\n",
       "    <tr>\n",
       "      <th>116</th>\n",
       "      <td>2024-03-21 15:03:00</td>\n",
       "      <td>466.25</td>\n",
       "      <td>472.90</td>\n",
       "      <td>461.15</td>\n",
       "      <td>468.75</td>\n",
       "      <td>90975.0</td>\n",
       "      <td>602280.0</td>\n",
       "      <td>46600CE</td>\n",
       "      <td>2024-03-21</td>\n",
       "      <td>46600</td>\n",
       "      <td>CE</td>\n",
       "    </tr>\n",
       "    <tr>\n",
       "      <th>117</th>\n",
       "      <td>2024-03-21 15:06:00</td>\n",
       "      <td>468.25</td>\n",
       "      <td>469.95</td>\n",
       "      <td>445.95</td>\n",
       "      <td>459.90</td>\n",
       "      <td>158145.0</td>\n",
       "      <td>601545.0</td>\n",
       "      <td>46600CE</td>\n",
       "      <td>2024-03-21</td>\n",
       "      <td>46600</td>\n",
       "      <td>CE</td>\n",
       "    </tr>\n",
       "    <tr>\n",
       "      <th>118</th>\n",
       "      <td>2024-03-21 15:09:00</td>\n",
       "      <td>459.90</td>\n",
       "      <td>471.95</td>\n",
       "      <td>459.40</td>\n",
       "      <td>469.75</td>\n",
       "      <td>128505.0</td>\n",
       "      <td>593700.0</td>\n",
       "      <td>46600CE</td>\n",
       "      <td>2024-03-21</td>\n",
       "      <td>46600</td>\n",
       "      <td>CE</td>\n",
       "    </tr>\n",
       "    <tr>\n",
       "      <th>119</th>\n",
       "      <td>2024-03-21 15:12:00</td>\n",
       "      <td>469.85</td>\n",
       "      <td>471.00</td>\n",
       "      <td>462.00</td>\n",
       "      <td>466.90</td>\n",
       "      <td>78765.0</td>\n",
       "      <td>582495.0</td>\n",
       "      <td>46600CE</td>\n",
       "      <td>2024-03-21</td>\n",
       "      <td>46600</td>\n",
       "      <td>CE</td>\n",
       "    </tr>\n",
       "    <tr>\n",
       "      <th>120</th>\n",
       "      <td>2024-03-21 15:15:00</td>\n",
       "      <td>466.50</td>\n",
       "      <td>470.65</td>\n",
       "      <td>460.90</td>\n",
       "      <td>467.00</td>\n",
       "      <td>101475.0</td>\n",
       "      <td>558465.0</td>\n",
       "      <td>46600CE</td>\n",
       "      <td>2024-03-21</td>\n",
       "      <td>46600</td>\n",
       "      <td>CE</td>\n",
       "    </tr>\n",
       "    <tr>\n",
       "      <th>121</th>\n",
       "      <td>2024-03-21 15:18:00</td>\n",
       "      <td>467.40</td>\n",
       "      <td>469.45</td>\n",
       "      <td>461.40</td>\n",
       "      <td>462.60</td>\n",
       "      <td>80955.0</td>\n",
       "      <td>535725.0</td>\n",
       "      <td>46600CE</td>\n",
       "      <td>2024-03-21</td>\n",
       "      <td>46600</td>\n",
       "      <td>CE</td>\n",
       "    </tr>\n",
       "    <tr>\n",
       "      <th>122</th>\n",
       "      <td>2024-03-21 15:21:00</td>\n",
       "      <td>462.95</td>\n",
       "      <td>467.00</td>\n",
       "      <td>460.60</td>\n",
       "      <td>464.15</td>\n",
       "      <td>81375.0</td>\n",
       "      <td>504615.0</td>\n",
       "      <td>46600CE</td>\n",
       "      <td>2024-03-21</td>\n",
       "      <td>46600</td>\n",
       "      <td>CE</td>\n",
       "    </tr>\n",
       "    <tr>\n",
       "      <th>123</th>\n",
       "      <td>2024-03-21 15:24:00</td>\n",
       "      <td>464.15</td>\n",
       "      <td>465.50</td>\n",
       "      <td>458.40</td>\n",
       "      <td>463.60</td>\n",
       "      <td>92700.0</td>\n",
       "      <td>471855.0</td>\n",
       "      <td>46600CE</td>\n",
       "      <td>2024-03-21</td>\n",
       "      <td>46600</td>\n",
       "      <td>CE</td>\n",
       "    </tr>\n",
       "    <tr>\n",
       "      <th>124</th>\n",
       "      <td>2024-03-21 15:27:00</td>\n",
       "      <td>463.60</td>\n",
       "      <td>471.05</td>\n",
       "      <td>460.00</td>\n",
       "      <td>470.95</td>\n",
       "      <td>86055.0</td>\n",
       "      <td>455295.0</td>\n",
       "      <td>46600CE</td>\n",
       "      <td>2024-03-21</td>\n",
       "      <td>46600</td>\n",
       "      <td>CE</td>\n",
       "    </tr>\n",
       "  </tbody>\n",
       "</table>\n",
       "</div>"
      ],
      "text/plain": [
       "                   date    open    high     low   close    volume        oi  \\\n",
       "115 2024-03-21 15:00:00  477.85  481.85  459.75  467.70  133020.0  592890.0   \n",
       "116 2024-03-21 15:03:00  466.25  472.90  461.15  468.75   90975.0  602280.0   \n",
       "117 2024-03-21 15:06:00  468.25  469.95  445.95  459.90  158145.0  601545.0   \n",
       "118 2024-03-21 15:09:00  459.90  471.95  459.40  469.75  128505.0  593700.0   \n",
       "119 2024-03-21 15:12:00  469.85  471.00  462.00  466.90   78765.0  582495.0   \n",
       "120 2024-03-21 15:15:00  466.50  470.65  460.90  467.00  101475.0  558465.0   \n",
       "121 2024-03-21 15:18:00  467.40  469.45  461.40  462.60   80955.0  535725.0   \n",
       "122 2024-03-21 15:21:00  462.95  467.00  460.60  464.15   81375.0  504615.0   \n",
       "123 2024-03-21 15:24:00  464.15  465.50  458.40  463.60   92700.0  471855.0   \n",
       "124 2024-03-21 15:27:00  463.60  471.05  460.00  470.95   86055.0  455295.0   \n",
       "\n",
       "    strike_type  date_only  strike_value strike_ce_pe  \n",
       "115     46600CE 2024-03-21         46600           CE  \n",
       "116     46600CE 2024-03-21         46600           CE  \n",
       "117     46600CE 2024-03-21         46600           CE  \n",
       "118     46600CE 2024-03-21         46600           CE  \n",
       "119     46600CE 2024-03-21         46600           CE  \n",
       "120     46600CE 2024-03-21         46600           CE  \n",
       "121     46600CE 2024-03-21         46600           CE  \n",
       "122     46600CE 2024-03-21         46600           CE  \n",
       "123     46600CE 2024-03-21         46600           CE  \n",
       "124     46600CE 2024-03-21         46600           CE  "
      ]
     },
     "execution_count": 49,
     "metadata": {},
     "output_type": "execute_result"
    }
   ],
   "source": [
    "df_bn_oi_data.query(\"strike_value == 46600 & strike_ce_pe == 'CE'\").tail(10)"
   ]
  },
  {
   "cell_type": "code",
   "execution_count": 2,
   "metadata": {},
   "outputs": [],
   "source": [
    "expiry_sp = 'BANKNIFTY24MAR'\n",
    "inst = pd.DataFrame(kite.instruments(\"NFO\"))\n",
    "expiry_march  = inst[(inst.name == 'BANKNIFTY') & (inst.tradingsymbol.str.contains(expiry_sp))]\n",
    "# expiry_march = expiry_march.query(\"(strike >= 38500 )&( strike <= 40500)\")\n",
    "expiry_march['strike_type'] = expiry_march['strike'].astype(int).astype(str) + expiry_march['instrument_type']"
   ]
  },
  {
   "cell_type": "code",
   "execution_count": 24,
   "metadata": {},
   "outputs": [
    {
     "data": {
      "text/html": [
       "<div>\n",
       "<style scoped>\n",
       "    .dataframe tbody tr th:only-of-type {\n",
       "        vertical-align: middle;\n",
       "    }\n",
       "\n",
       "    .dataframe tbody tr th {\n",
       "        vertical-align: top;\n",
       "    }\n",
       "\n",
       "    .dataframe thead th {\n",
       "        text-align: right;\n",
       "    }\n",
       "</style>\n",
       "<table border=\"1\" class=\"dataframe\">\n",
       "  <thead>\n",
       "    <tr style=\"text-align: right;\">\n",
       "      <th></th>\n",
       "      <th>instrument_token</th>\n",
       "      <th>exchange_token</th>\n",
       "      <th>tradingsymbol</th>\n",
       "      <th>name</th>\n",
       "      <th>last_price</th>\n",
       "      <th>expiry</th>\n",
       "      <th>strike</th>\n",
       "      <th>tick_size</th>\n",
       "      <th>lot_size</th>\n",
       "      <th>instrument_type</th>\n",
       "      <th>segment</th>\n",
       "      <th>exchange</th>\n",
       "    </tr>\n",
       "  </thead>\n",
       "  <tbody>\n",
       "    <tr>\n",
       "      <th>0</th>\n",
       "      <td>13368834</td>\n",
       "      <td>52222</td>\n",
       "      <td>NIFTY24APRFUT</td>\n",
       "      <td>NIFTY</td>\n",
       "      <td>0.0</td>\n",
       "      <td>2024-04-25</td>\n",
       "      <td>0.0</td>\n",
       "      <td>0.05</td>\n",
       "      <td>50</td>\n",
       "      <td>FUT</td>\n",
       "      <td>NFO-FUT</td>\n",
       "      <td>NFO</td>\n",
       "    </tr>\n",
       "    <tr>\n",
       "      <th>1</th>\n",
       "      <td>9372674</td>\n",
       "      <td>36612</td>\n",
       "      <td>NIFTY24MARFUT</td>\n",
       "      <td>NIFTY</td>\n",
       "      <td>0.0</td>\n",
       "      <td>2024-03-28</td>\n",
       "      <td>0.0</td>\n",
       "      <td>0.05</td>\n",
       "      <td>50</td>\n",
       "      <td>FUT</td>\n",
       "      <td>NFO-FUT</td>\n",
       "      <td>NFO</td>\n",
       "    </tr>\n",
       "    <tr>\n",
       "      <th>2</th>\n",
       "      <td>12014082</td>\n",
       "      <td>46930</td>\n",
       "      <td>NIFTY24MAYFUT</td>\n",
       "      <td>NIFTY</td>\n",
       "      <td>0.0</td>\n",
       "      <td>2024-05-30</td>\n",
       "      <td>0.0</td>\n",
       "      <td>0.05</td>\n",
       "      <td>50</td>\n",
       "      <td>FUT</td>\n",
       "      <td>NFO-FUT</td>\n",
       "      <td>NFO</td>\n",
       "    </tr>\n",
       "    <tr>\n",
       "      <th>558</th>\n",
       "      <td>15440642</td>\n",
       "      <td>60315</td>\n",
       "      <td>NIFTY24MAR14000CE</td>\n",
       "      <td>NIFTY</td>\n",
       "      <td>0.0</td>\n",
       "      <td>2024-03-28</td>\n",
       "      <td>14000.0</td>\n",
       "      <td>0.05</td>\n",
       "      <td>50</td>\n",
       "      <td>CE</td>\n",
       "      <td>NFO-OPT</td>\n",
       "      <td>NFO</td>\n",
       "    </tr>\n",
       "    <tr>\n",
       "      <th>559</th>\n",
       "      <td>15440898</td>\n",
       "      <td>60316</td>\n",
       "      <td>NIFTY24MAR14000PE</td>\n",
       "      <td>NIFTY</td>\n",
       "      <td>0.0</td>\n",
       "      <td>2024-03-28</td>\n",
       "      <td>14000.0</td>\n",
       "      <td>0.05</td>\n",
       "      <td>50</td>\n",
       "      <td>PE</td>\n",
       "      <td>NFO-OPT</td>\n",
       "      <td>NFO</td>\n",
       "    </tr>\n",
       "    <tr>\n",
       "      <th>...</th>\n",
       "      <td>...</td>\n",
       "      <td>...</td>\n",
       "      <td>...</td>\n",
       "      <td>...</td>\n",
       "      <td>...</td>\n",
       "      <td>...</td>\n",
       "      <td>...</td>\n",
       "      <td>...</td>\n",
       "      <td>...</td>\n",
       "      <td>...</td>\n",
       "      <td>...</td>\n",
       "      <td>...</td>\n",
       "    </tr>\n",
       "    <tr>\n",
       "      <th>2076</th>\n",
       "      <td>17352962</td>\n",
       "      <td>67785</td>\n",
       "      <td>NIFTY28DEC25000PE</td>\n",
       "      <td>NIFTY</td>\n",
       "      <td>0.0</td>\n",
       "      <td>2028-12-28</td>\n",
       "      <td>25000.0</td>\n",
       "      <td>0.05</td>\n",
       "      <td>50</td>\n",
       "      <td>PE</td>\n",
       "      <td>NFO-OPT</td>\n",
       "      <td>NFO</td>\n",
       "    </tr>\n",
       "    <tr>\n",
       "      <th>2077</th>\n",
       "      <td>17353218</td>\n",
       "      <td>67786</td>\n",
       "      <td>NIFTY28DEC26000CE</td>\n",
       "      <td>NIFTY</td>\n",
       "      <td>0.0</td>\n",
       "      <td>2028-12-28</td>\n",
       "      <td>26000.0</td>\n",
       "      <td>0.05</td>\n",
       "      <td>50</td>\n",
       "      <td>CE</td>\n",
       "      <td>NFO-OPT</td>\n",
       "      <td>NFO</td>\n",
       "    </tr>\n",
       "    <tr>\n",
       "      <th>2078</th>\n",
       "      <td>17353474</td>\n",
       "      <td>67787</td>\n",
       "      <td>NIFTY28DEC26000PE</td>\n",
       "      <td>NIFTY</td>\n",
       "      <td>0.0</td>\n",
       "      <td>2028-12-28</td>\n",
       "      <td>26000.0</td>\n",
       "      <td>0.05</td>\n",
       "      <td>50</td>\n",
       "      <td>PE</td>\n",
       "      <td>NFO-OPT</td>\n",
       "      <td>NFO</td>\n",
       "    </tr>\n",
       "    <tr>\n",
       "      <th>2079</th>\n",
       "      <td>17353730</td>\n",
       "      <td>67788</td>\n",
       "      <td>NIFTY28DEC27000CE</td>\n",
       "      <td>NIFTY</td>\n",
       "      <td>0.0</td>\n",
       "      <td>2028-12-28</td>\n",
       "      <td>27000.0</td>\n",
       "      <td>0.05</td>\n",
       "      <td>50</td>\n",
       "      <td>CE</td>\n",
       "      <td>NFO-OPT</td>\n",
       "      <td>NFO</td>\n",
       "    </tr>\n",
       "    <tr>\n",
       "      <th>2080</th>\n",
       "      <td>17353986</td>\n",
       "      <td>67789</td>\n",
       "      <td>NIFTY28DEC27000PE</td>\n",
       "      <td>NIFTY</td>\n",
       "      <td>0.0</td>\n",
       "      <td>2028-12-28</td>\n",
       "      <td>27000.0</td>\n",
       "      <td>0.05</td>\n",
       "      <td>50</td>\n",
       "      <td>PE</td>\n",
       "      <td>NFO-OPT</td>\n",
       "      <td>NFO</td>\n",
       "    </tr>\n",
       "  </tbody>\n",
       "</table>\n",
       "<p>1526 rows × 12 columns</p>\n",
       "</div>"
      ],
      "text/plain": [
       "      instrument_token exchange_token      tradingsymbol   name  last_price  \\\n",
       "0             13368834          52222      NIFTY24APRFUT  NIFTY         0.0   \n",
       "1              9372674          36612      NIFTY24MARFUT  NIFTY         0.0   \n",
       "2             12014082          46930      NIFTY24MAYFUT  NIFTY         0.0   \n",
       "558           15440642          60315  NIFTY24MAR14000CE  NIFTY         0.0   \n",
       "559           15440898          60316  NIFTY24MAR14000PE  NIFTY         0.0   \n",
       "...                ...            ...                ...    ...         ...   \n",
       "2076          17352962          67785  NIFTY28DEC25000PE  NIFTY         0.0   \n",
       "2077          17353218          67786  NIFTY28DEC26000CE  NIFTY         0.0   \n",
       "2078          17353474          67787  NIFTY28DEC26000PE  NIFTY         0.0   \n",
       "2079          17353730          67788  NIFTY28DEC27000CE  NIFTY         0.0   \n",
       "2080          17353986          67789  NIFTY28DEC27000PE  NIFTY         0.0   \n",
       "\n",
       "          expiry   strike  tick_size  lot_size instrument_type  segment  \\\n",
       "0     2024-04-25      0.0       0.05        50             FUT  NFO-FUT   \n",
       "1     2024-03-28      0.0       0.05        50             FUT  NFO-FUT   \n",
       "2     2024-05-30      0.0       0.05        50             FUT  NFO-FUT   \n",
       "558   2024-03-28  14000.0       0.05        50              CE  NFO-OPT   \n",
       "559   2024-03-28  14000.0       0.05        50              PE  NFO-OPT   \n",
       "...          ...      ...        ...       ...             ...      ...   \n",
       "2076  2028-12-28  25000.0       0.05        50              PE  NFO-OPT   \n",
       "2077  2028-12-28  26000.0       0.05        50              CE  NFO-OPT   \n",
       "2078  2028-12-28  26000.0       0.05        50              PE  NFO-OPT   \n",
       "2079  2028-12-28  27000.0       0.05        50              CE  NFO-OPT   \n",
       "2080  2028-12-28  27000.0       0.05        50              PE  NFO-OPT   \n",
       "\n",
       "     exchange  \n",
       "0         NFO  \n",
       "1         NFO  \n",
       "2         NFO  \n",
       "558       NFO  \n",
       "559       NFO  \n",
       "...       ...  \n",
       "2076      NFO  \n",
       "2077      NFO  \n",
       "2078      NFO  \n",
       "2079      NFO  \n",
       "2080      NFO  \n",
       "\n",
       "[1526 rows x 12 columns]"
      ]
     },
     "execution_count": 24,
     "metadata": {},
     "output_type": "execute_result"
    }
   ],
   "source": [
    "inst.query(\"name =='NIFTY' \")"
   ]
  },
  {
   "cell_type": "code",
   "execution_count": 9,
   "metadata": {},
   "outputs": [],
   "source": [
    "i = 9372674 #9372418 #\n",
    "start_dt = '2024-03-01'\n",
    "end_dt = '2024-03-27'\n",
    "time_frame = '3minute'\n",
    "df = pd.DataFrame(kite.historical_data(i, from_date = start_dt, to_date = end_dt, interval = time_frame, continuous=False, oi=True))"
   ]
  },
  {
   "cell_type": "code",
   "execution_count": 11,
   "metadata": {},
   "outputs": [],
   "source": [
    "df.to_parquet('data/nifty_march_futures.parquet')"
   ]
  },
  {
   "cell_type": "code",
   "execution_count": 85,
   "metadata": {},
   "outputs": [],
   "source": [
    "df['date']  = pd.to_datetime(df['date']).dt.tz_localize(None)\n",
    "df['date_only'] = pd.to_datetime(df['date'].dt.date)"
   ]
  },
  {
   "cell_type": "markdown",
   "metadata": {},
   "source": [
    "## gap theory"
   ]
  },
  {
   "cell_type": "code",
   "execution_count": null,
   "metadata": {},
   "outputs": [],
   "source": [
    "import pandas as pd\n",
    "\n",
    "# Assuming 'df' is your DataFrame with columns: date, open, high, low, close\n",
    "\n",
    "# Convert the 'date' column to datetime format and filter the entries between 9:30 and 15:00\n",
    "# df['date'] = pd.to_datetime(df['date'])\n",
    "# filter for date 20/03/2024\n",
    "\n",
    "\n",
    "\n",
    "# Initialize an empty list to store the gap information\n",
    "gaps = []\n",
    "\n",
    "# Iterate over the filtered DataFrame to find gaps\n",
    "for j in df.date_only.unique():\n",
    "    print(j)\n",
    "    df_temp = df[df.date_only == j]\n",
    "    filtered_df = df_temp[df_temp['date'].dt.time.between(pd.to_datetime('09:30').time(), pd.to_datetime('15:00').time())].reset_index(drop = True)\n",
    "    for i in range(1,len(filtered_df)):\n",
    "        previous_row = filtered_df.iloc[i - 1]\n",
    "        current_row = filtered_df.iloc[i]\n",
    "\n",
    "        # Check if the previous candle is green\n",
    "        if previous_row['close'] > previous_row['open']:\n",
    "            # Check for a gap up\n",
    "            if current_row['low'] > previous_row['high'] + 2:\n",
    "                gaps.append({\n",
    "                    'type': 'gap up',\n",
    "                    'from': previous_row['high'],\n",
    "                    'to': current_row['open'],\n",
    "                    'index': i  # Index of the current row in the filtered DataFrame\n",
    "                })\n",
    "\n",
    "        # Check if the previous candle is red\n",
    "        elif previous_row['close'] < previous_row['open']:\n",
    "            # Check for a gap down\n",
    "            if current_row['high'] < previous_row['low'] - 2:\n",
    "                gaps.append({\n",
    "                    'type': 'gap down',\n",
    "                    'from': previous_row['low'],\n",
    "                    'to': current_row['open'],\n",
    "                    'index': i  # Index of the current row in the filtered DataFrame\n",
    "                })\n",
    "        # break\n",
    "    \n",
    "# The 'gaps' list now contains the details of all identified gaps\n"
   ]
  },
  {
   "cell_type": "markdown",
   "metadata": {},
   "source": [
    "## golden cross over"
   ]
  },
  {
   "cell_type": "code",
   "execution_count": 79,
   "metadata": {},
   "outputs": [
    {
     "data": {
      "text/html": [
       "<div>\n",
       "<style scoped>\n",
       "    .dataframe tbody tr th:only-of-type {\n",
       "        vertical-align: middle;\n",
       "    }\n",
       "\n",
       "    .dataframe tbody tr th {\n",
       "        vertical-align: top;\n",
       "    }\n",
       "\n",
       "    .dataframe thead th {\n",
       "        text-align: right;\n",
       "    }\n",
       "</style>\n",
       "<table border=\"1\" class=\"dataframe\">\n",
       "  <thead>\n",
       "    <tr style=\"text-align: right;\">\n",
       "      <th></th>\n",
       "      <th>date</th>\n",
       "      <th>open</th>\n",
       "      <th>high</th>\n",
       "      <th>low</th>\n",
       "      <th>close</th>\n",
       "      <th>volume</th>\n",
       "      <th>oi</th>\n",
       "    </tr>\n",
       "  </thead>\n",
       "  <tbody>\n",
       "    <tr>\n",
       "      <th>0</th>\n",
       "      <td>2024-03-01 09:15:00+05:30</td>\n",
       "      <td>22203.00</td>\n",
       "      <td>22250.00</td>\n",
       "      <td>22180.20</td>\n",
       "      <td>22243.95</td>\n",
       "      <td>357550</td>\n",
       "      <td>13084800</td>\n",
       "    </tr>\n",
       "    <tr>\n",
       "      <th>1</th>\n",
       "      <td>2024-03-01 09:18:00+05:30</td>\n",
       "      <td>22243.95</td>\n",
       "      <td>22244.95</td>\n",
       "      <td>22232.45</td>\n",
       "      <td>22239.75</td>\n",
       "      <td>140950</td>\n",
       "      <td>13069950</td>\n",
       "    </tr>\n",
       "    <tr>\n",
       "      <th>2</th>\n",
       "      <td>2024-03-01 09:21:00+05:30</td>\n",
       "      <td>22239.75</td>\n",
       "      <td>22248.60</td>\n",
       "      <td>22236.20</td>\n",
       "      <td>22242.30</td>\n",
       "      <td>120400</td>\n",
       "      <td>13070650</td>\n",
       "    </tr>\n",
       "    <tr>\n",
       "      <th>3</th>\n",
       "      <td>2024-03-01 09:24:00+05:30</td>\n",
       "      <td>22242.30</td>\n",
       "      <td>22254.90</td>\n",
       "      <td>22240.80</td>\n",
       "      <td>22248.20</td>\n",
       "      <td>129050</td>\n",
       "      <td>13080800</td>\n",
       "    </tr>\n",
       "    <tr>\n",
       "      <th>4</th>\n",
       "      <td>2024-03-01 09:27:00+05:30</td>\n",
       "      <td>22248.20</td>\n",
       "      <td>22253.45</td>\n",
       "      <td>22238.20</td>\n",
       "      <td>22245.00</td>\n",
       "      <td>100950</td>\n",
       "      <td>13027100</td>\n",
       "    </tr>\n",
       "  </tbody>\n",
       "</table>\n",
       "</div>"
      ],
      "text/plain": [
       "                       date      open      high       low     close  volume  \\\n",
       "0 2024-03-01 09:15:00+05:30  22203.00  22250.00  22180.20  22243.95  357550   \n",
       "1 2024-03-01 09:18:00+05:30  22243.95  22244.95  22232.45  22239.75  140950   \n",
       "2 2024-03-01 09:21:00+05:30  22239.75  22248.60  22236.20  22242.30  120400   \n",
       "3 2024-03-01 09:24:00+05:30  22242.30  22254.90  22240.80  22248.20  129050   \n",
       "4 2024-03-01 09:27:00+05:30  22248.20  22253.45  22238.20  22245.00  100950   \n",
       "\n",
       "         oi  \n",
       "0  13084800  \n",
       "1  13069950  \n",
       "2  13070650  \n",
       "3  13080800  \n",
       "4  13027100  "
      ]
     },
     "execution_count": 79,
     "metadata": {},
     "output_type": "execute_result"
    }
   ],
   "source": [
    "df.head()"
   ]
  },
  {
   "cell_type": "code",
   "execution_count": 86,
   "metadata": {},
   "outputs": [],
   "source": [
    "import pandas as pd\n",
    "import numpy as np\n",
    "import ta\n",
    "\n",
    "def calculate_supertrend(df, period=10, multiplier=2):\n",
    "    hl2 = (df['high'] + df['low']) / 2\n",
    "    atr = ta.volatility.average_true_range(df['high'], df['low'], df['close'], window=period)\n",
    "    upperband = hl2 + (multiplier * atr)\n",
    "    lowerband = hl2 - (multiplier * atr)\n",
    "    supertrend = np.zeros(len(df))\n",
    "\n",
    "    for i in range(1, len(df)):\n",
    "        if df['close'][i-1] <= supertrend[i-1]:\n",
    "            supertrend[i] = min(upperband[i], supertrend[i-1])\n",
    "        else:\n",
    "            supertrend[i] = max(lowerband[i], supertrend[i-1])\n",
    "        if df['close'][i] > supertrend[i]:\n",
    "            supertrend[i] = upperband[i]\n",
    "        elif df['close'][i] < supertrend[i]:\n",
    "            supertrend[i] = lowerband[i]\n",
    "\n",
    "    return supertrend\n",
    "\n",
    "def calculate_daily_vwap(df):\n",
    "    df['cum_vol_price'] = (df['volume'] * df['close']).cumsum()\n",
    "    df['cum_volume'] = df['volume'].cumsum()\n",
    "    df['VWAP'] = df['cum_vol_price'] / df['cum_volume']\n",
    "    return df\n",
    "\n",
    "def calculate_indicators(df):\n",
    "    df['VWMA20'] = ta.trend.sma_indicator(df['close'] * df['volume'], window=20) / ta.trend.sma_indicator(df['volume'], window=20)\n",
    "    df = df.groupby('date_only').apply(calculate_daily_vwap)\n",
    "    df['SuperTrend'] = calculate_supertrend(df, period=10, multiplier=2)\n",
    "    return df\n",
    "\n",
    "def generate_signals(df):\n",
    "    df = calculate_indicators(df)\n",
    "    df['Signal'] = ((df['VWMA20'] > df['VWAP']) & (df['SuperTrend'] > df['VWAP'])) | ((df['VWMA20'] < df['VWAP']) & (df['SuperTrend'] < df['VWAP']))\n",
    "    # signals = df[df['Signal']].copy()\n",
    "    return df\n",
    "\n",
    "\n",
    "signals = generate_signals(df)\n",
    "# print(signals)\n"
   ]
  },
  {
   "cell_type": "code",
   "execution_count": 88,
   "metadata": {},
   "outputs": [
    {
     "data": {
      "text/html": [
       "<div>\n",
       "<style scoped>\n",
       "    .dataframe tbody tr th:only-of-type {\n",
       "        vertical-align: middle;\n",
       "    }\n",
       "\n",
       "    .dataframe tbody tr th {\n",
       "        vertical-align: top;\n",
       "    }\n",
       "\n",
       "    .dataframe thead th {\n",
       "        text-align: right;\n",
       "    }\n",
       "</style>\n",
       "<table border=\"1\" class=\"dataframe\">\n",
       "  <thead>\n",
       "    <tr style=\"text-align: right;\">\n",
       "      <th></th>\n",
       "      <th>date</th>\n",
       "      <th>open</th>\n",
       "      <th>high</th>\n",
       "      <th>low</th>\n",
       "      <th>close</th>\n",
       "      <th>volume</th>\n",
       "      <th>oi</th>\n",
       "      <th>date_only</th>\n",
       "      <th>VWMA20</th>\n",
       "      <th>cum_vol_price</th>\n",
       "      <th>cum_volume</th>\n",
       "      <th>VWAP</th>\n",
       "      <th>SuperTrend</th>\n",
       "      <th>Signal</th>\n",
       "    </tr>\n",
       "  </thead>\n",
       "  <tbody>\n",
       "    <tr>\n",
       "      <th>1650</th>\n",
       "      <td>2024-03-20 15:00:00</td>\n",
       "      <td>21915.00</td>\n",
       "      <td>21916.40</td>\n",
       "      <td>21896.20</td>\n",
       "      <td>21897.55</td>\n",
       "      <td>103100</td>\n",
       "      <td>11906750</td>\n",
       "      <td>2024-03-20</td>\n",
       "      <td>21907.435977</td>\n",
       "      <td>1.305767e+11</td>\n",
       "      <td>5960400</td>\n",
       "      <td>21907.376540</td>\n",
       "      <td>21868.013702</td>\n",
       "      <td>False</td>\n",
       "    </tr>\n",
       "    <tr>\n",
       "      <th>1651</th>\n",
       "      <td>2024-03-20 15:03:00</td>\n",
       "      <td>21897.00</td>\n",
       "      <td>21907.95</td>\n",
       "      <td>21889.70</td>\n",
       "      <td>21898.90</td>\n",
       "      <td>46350</td>\n",
       "      <td>11917600</td>\n",
       "      <td>2024-03-20</td>\n",
       "      <td>21906.646546</td>\n",
       "      <td>1.315917e+11</td>\n",
       "      <td>6006750</td>\n",
       "      <td>21907.311132</td>\n",
       "      <td>21936.932668</td>\n",
       "      <td>False</td>\n",
       "    </tr>\n",
       "    <tr>\n",
       "      <th>1652</th>\n",
       "      <td>2024-03-20 15:06:00</td>\n",
       "      <td>21901.00</td>\n",
       "      <td>21908.70</td>\n",
       "      <td>21900.00</td>\n",
       "      <td>21908.40</td>\n",
       "      <td>47350</td>\n",
       "      <td>11944150</td>\n",
       "      <td>2024-03-20</td>\n",
       "      <td>21905.804739</td>\n",
       "      <td>1.326291e+11</td>\n",
       "      <td>6054100</td>\n",
       "      <td>21907.319649</td>\n",
       "      <td>21868.093098</td>\n",
       "      <td>True</td>\n",
       "    </tr>\n",
       "    <tr>\n",
       "      <th>1653</th>\n",
       "      <td>2024-03-20 15:09:00</td>\n",
       "      <td>21906.35</td>\n",
       "      <td>21914.00</td>\n",
       "      <td>21906.35</td>\n",
       "      <td>21910.00</td>\n",
       "      <td>42700</td>\n",
       "      <td>11954300</td>\n",
       "      <td>2024-03-20</td>\n",
       "      <td>21905.954934</td>\n",
       "      <td>1.335647e+11</td>\n",
       "      <td>6096800</td>\n",
       "      <td>21907.338421</td>\n",
       "      <td>21944.336211</td>\n",
       "      <td>False</td>\n",
       "    </tr>\n",
       "    <tr>\n",
       "      <th>1654</th>\n",
       "      <td>2024-03-20 15:12:00</td>\n",
       "      <td>21910.00</td>\n",
       "      <td>21919.60</td>\n",
       "      <td>21908.75</td>\n",
       "      <td>21914.90</td>\n",
       "      <td>42500</td>\n",
       "      <td>11968850</td>\n",
       "      <td>2024-03-20</td>\n",
       "      <td>21905.966957</td>\n",
       "      <td>1.344960e+11</td>\n",
       "      <td>6139300</td>\n",
       "      <td>21907.390767</td>\n",
       "      <td>21881.259910</td>\n",
       "      <td>True</td>\n",
       "    </tr>\n",
       "    <tr>\n",
       "      <th>1655</th>\n",
       "      <td>2024-03-20 15:15:00</td>\n",
       "      <td>21915.65</td>\n",
       "      <td>21918.30</td>\n",
       "      <td>21910.50</td>\n",
       "      <td>21917.00</td>\n",
       "      <td>52450</td>\n",
       "      <td>11990050</td>\n",
       "      <td>2024-03-20</td>\n",
       "      <td>21905.655598</td>\n",
       "      <td>1.356456e+11</td>\n",
       "      <td>6191750</td>\n",
       "      <td>21907.472166</td>\n",
       "      <td>21945.583581</td>\n",
       "      <td>False</td>\n",
       "    </tr>\n",
       "    <tr>\n",
       "      <th>1656</th>\n",
       "      <td>2024-03-20 15:18:00</td>\n",
       "      <td>21916.55</td>\n",
       "      <td>21923.90</td>\n",
       "      <td>21910.85</td>\n",
       "      <td>21916.50</td>\n",
       "      <td>33850</td>\n",
       "      <td>12003500</td>\n",
       "      <td>2024-03-20</td>\n",
       "      <td>21905.334387</td>\n",
       "      <td>1.363875e+11</td>\n",
       "      <td>6225600</td>\n",
       "      <td>21907.521253</td>\n",
       "      <td>21886.699777</td>\n",
       "      <td>True</td>\n",
       "    </tr>\n",
       "    <tr>\n",
       "      <th>1657</th>\n",
       "      <td>2024-03-20 15:21:00</td>\n",
       "      <td>21916.50</td>\n",
       "      <td>21922.60</td>\n",
       "      <td>21915.85</td>\n",
       "      <td>21916.65</td>\n",
       "      <td>38650</td>\n",
       "      <td>12015100</td>\n",
       "      <td>2024-03-20</td>\n",
       "      <td>21905.951501</td>\n",
       "      <td>1.372345e+11</td>\n",
       "      <td>6264250</td>\n",
       "      <td>21907.577576</td>\n",
       "      <td>21948.182701</td>\n",
       "      <td>False</td>\n",
       "    </tr>\n",
       "    <tr>\n",
       "      <th>1658</th>\n",
       "      <td>2024-03-20 15:24:00</td>\n",
       "      <td>21917.00</td>\n",
       "      <td>21922.20</td>\n",
       "      <td>21915.05</td>\n",
       "      <td>21916.00</td>\n",
       "      <td>37600</td>\n",
       "      <td>12017350</td>\n",
       "      <td>2024-03-20</td>\n",
       "      <td>21906.856145</td>\n",
       "      <td>1.380586e+11</td>\n",
       "      <td>6301850</td>\n",
       "      <td>21907.627829</td>\n",
       "      <td>21891.133069</td>\n",
       "      <td>True</td>\n",
       "    </tr>\n",
       "    <tr>\n",
       "      <th>1659</th>\n",
       "      <td>2024-03-20 15:27:00</td>\n",
       "      <td>21915.00</td>\n",
       "      <td>21920.00</td>\n",
       "      <td>21914.90</td>\n",
       "      <td>21919.00</td>\n",
       "      <td>50900</td>\n",
       "      <td>12015350</td>\n",
       "      <td>2024-03-20</td>\n",
       "      <td>21907.626953</td>\n",
       "      <td>1.391743e+11</td>\n",
       "      <td>6352750</td>\n",
       "      <td>21907.718946</td>\n",
       "      <td>21943.212738</td>\n",
       "      <td>False</td>\n",
       "    </tr>\n",
       "  </tbody>\n",
       "</table>\n",
       "</div>"
      ],
      "text/plain": [
       "                    date      open      high       low     close  volume  \\\n",
       "1650 2024-03-20 15:00:00  21915.00  21916.40  21896.20  21897.55  103100   \n",
       "1651 2024-03-20 15:03:00  21897.00  21907.95  21889.70  21898.90   46350   \n",
       "1652 2024-03-20 15:06:00  21901.00  21908.70  21900.00  21908.40   47350   \n",
       "1653 2024-03-20 15:09:00  21906.35  21914.00  21906.35  21910.00   42700   \n",
       "1654 2024-03-20 15:12:00  21910.00  21919.60  21908.75  21914.90   42500   \n",
       "1655 2024-03-20 15:15:00  21915.65  21918.30  21910.50  21917.00   52450   \n",
       "1656 2024-03-20 15:18:00  21916.55  21923.90  21910.85  21916.50   33850   \n",
       "1657 2024-03-20 15:21:00  21916.50  21922.60  21915.85  21916.65   38650   \n",
       "1658 2024-03-20 15:24:00  21917.00  21922.20  21915.05  21916.00   37600   \n",
       "1659 2024-03-20 15:27:00  21915.00  21920.00  21914.90  21919.00   50900   \n",
       "\n",
       "            oi  date_only        VWMA20  cum_vol_price  cum_volume  \\\n",
       "1650  11906750 2024-03-20  21907.435977   1.305767e+11     5960400   \n",
       "1651  11917600 2024-03-20  21906.646546   1.315917e+11     6006750   \n",
       "1652  11944150 2024-03-20  21905.804739   1.326291e+11     6054100   \n",
       "1653  11954300 2024-03-20  21905.954934   1.335647e+11     6096800   \n",
       "1654  11968850 2024-03-20  21905.966957   1.344960e+11     6139300   \n",
       "1655  11990050 2024-03-20  21905.655598   1.356456e+11     6191750   \n",
       "1656  12003500 2024-03-20  21905.334387   1.363875e+11     6225600   \n",
       "1657  12015100 2024-03-20  21905.951501   1.372345e+11     6264250   \n",
       "1658  12017350 2024-03-20  21906.856145   1.380586e+11     6301850   \n",
       "1659  12015350 2024-03-20  21907.626953   1.391743e+11     6352750   \n",
       "\n",
       "              VWAP    SuperTrend  Signal  \n",
       "1650  21907.376540  21868.013702   False  \n",
       "1651  21907.311132  21936.932668   False  \n",
       "1652  21907.319649  21868.093098    True  \n",
       "1653  21907.338421  21944.336211   False  \n",
       "1654  21907.390767  21881.259910    True  \n",
       "1655  21907.472166  21945.583581   False  \n",
       "1656  21907.521253  21886.699777    True  \n",
       "1657  21907.577576  21948.182701   False  \n",
       "1658  21907.627829  21891.133069    True  \n",
       "1659  21907.718946  21943.212738   False  "
      ]
     },
     "execution_count": 88,
     "metadata": {},
     "output_type": "execute_result"
    }
   ],
   "source": [
    "signals.tail(10)"
   ]
  },
  {
   "cell_type": "markdown",
   "metadata": {},
   "source": [
    "## PRICE AT SUPER TREND AND VWAP"
   ]
  },
  {
   "cell_type": "code",
   "execution_count": 99,
   "metadata": {},
   "outputs": [],
   "source": [
    "def date_format(df):\n",
    "    df['date']  = pd.to_datetime(df['date']).dt.tz_localize(None)\n",
    "    df['date_only'] = pd.to_datetime(df['date'].dt.date)\n",
    "    return df "
   ]
  },
  {
   "cell_type": "code",
   "execution_count": 110,
   "metadata": {},
   "outputs": [],
   "source": [
    "import talib\n",
    "expiry_sp = 'BANKNIFTY24430'\n",
    "inst = pd.DataFrame(kite.instruments(\"NFO\"))\n",
    "expiry_march  = inst[(inst.name == 'BANKNIFTY') & (inst.tradingsymbol.str.contains(expiry_sp))]\n",
    "# expiry_march = expiry_march.query(\"(strike >= 38500 )&( strike <= 40500)\")\n",
    "expiry_march['strike_type'] = expiry_march['strike'].astype(int).astype(str) + expiry_march['instrument_type']"
   ]
  },
  {
   "cell_type": "code",
   "execution_count": 118,
   "metadata": {},
   "outputs": [
    {
     "data": {
      "text/html": [
       "<div>\n",
       "<style scoped>\n",
       "    .dataframe tbody tr th:only-of-type {\n",
       "        vertical-align: middle;\n",
       "    }\n",
       "\n",
       "    .dataframe tbody tr th {\n",
       "        vertical-align: top;\n",
       "    }\n",
       "\n",
       "    .dataframe thead th {\n",
       "        text-align: right;\n",
       "    }\n",
       "</style>\n",
       "<table border=\"1\" class=\"dataframe\">\n",
       "  <thead>\n",
       "    <tr style=\"text-align: right;\">\n",
       "      <th></th>\n",
       "      <th>instrument_token</th>\n",
       "      <th>exchange_token</th>\n",
       "      <th>tradingsymbol</th>\n",
       "      <th>name</th>\n",
       "      <th>last_price</th>\n",
       "      <th>expiry</th>\n",
       "      <th>strike</th>\n",
       "      <th>tick_size</th>\n",
       "      <th>lot_size</th>\n",
       "      <th>instrument_type</th>\n",
       "      <th>segment</th>\n",
       "      <th>exchange</th>\n",
       "      <th>strike_type</th>\n",
       "    </tr>\n",
       "  </thead>\n",
       "  <tbody>\n",
       "    <tr>\n",
       "      <th>2059</th>\n",
       "      <td>12679938</td>\n",
       "      <td>49531</td>\n",
       "      <td>BANKNIFTY2443048200CE</td>\n",
       "      <td>BANKNIFTY</td>\n",
       "      <td>0.0</td>\n",
       "      <td>2024-04-30</td>\n",
       "      <td>48200.0</td>\n",
       "      <td>0.05</td>\n",
       "      <td>15</td>\n",
       "      <td>CE</td>\n",
       "      <td>NFO-OPT</td>\n",
       "      <td>NFO</td>\n",
       "      <td>48200CE</td>\n",
       "    </tr>\n",
       "    <tr>\n",
       "      <th>2060</th>\n",
       "      <td>12680194</td>\n",
       "      <td>49532</td>\n",
       "      <td>BANKNIFTY2443048200PE</td>\n",
       "      <td>BANKNIFTY</td>\n",
       "      <td>0.0</td>\n",
       "      <td>2024-04-30</td>\n",
       "      <td>48200.0</td>\n",
       "      <td>0.05</td>\n",
       "      <td>15</td>\n",
       "      <td>PE</td>\n",
       "      <td>NFO-OPT</td>\n",
       "      <td>NFO</td>\n",
       "      <td>48200PE</td>\n",
       "    </tr>\n",
       "  </tbody>\n",
       "</table>\n",
       "</div>"
      ],
      "text/plain": [
       "      instrument_token exchange_token          tradingsymbol       name  \\\n",
       "2059          12679938          49531  BANKNIFTY2443048200CE  BANKNIFTY   \n",
       "2060          12680194          49532  BANKNIFTY2443048200PE  BANKNIFTY   \n",
       "\n",
       "      last_price      expiry   strike  tick_size  lot_size instrument_type  \\\n",
       "2059         0.0  2024-04-30  48200.0       0.05        15              CE   \n",
       "2060         0.0  2024-04-30  48200.0       0.05        15              PE   \n",
       "\n",
       "      segment exchange strike_type  \n",
       "2059  NFO-OPT      NFO     48200CE  \n",
       "2060  NFO-OPT      NFO     48200PE  "
      ]
     },
     "execution_count": 118,
     "metadata": {},
     "output_type": "execute_result"
    }
   ],
   "source": [
    "expiry_march[expiry_march['tradingsymbol'].str.contains(\"48200\")]"
   ]
  },
  {
   "cell_type": "code",
   "execution_count": 119,
   "metadata": {},
   "outputs": [],
   "source": [
    "bn_token = 12012290\n",
    "start_dt = '2024-04-25'\n",
    "end_dt = '2024-04-26'\n",
    "time_frame = '3minute'\n",
    "df = pd.DataFrame(kite.historical_data(bn_token, from_date = start_dt, to_date = end_dt, interval = time_frame, continuous=False, oi=True))\n",
    "\n",
    "call_token = 12679938\n",
    "put_token = 12680194\n",
    "df_call_atm = pd.DataFrame(kite.historical_data(call_token, from_date = start_dt, to_date = end_dt, interval = time_frame, continuous=False, oi=True))\n",
    "df_put_atm = pd.DataFrame(kite.historical_data(put_token, from_date = start_dt, to_date = end_dt, interval = time_frame, continuous=False, oi=True))"
   ]
  },
  {
   "cell_type": "code",
   "execution_count": 120,
   "metadata": {},
   "outputs": [],
   "source": [
    "df = date_format(df)\n",
    "df_call_atm = date_format(df_call_atm)\n",
    "df_put_atm = date_format(df_put_atm)"
   ]
  },
  {
   "cell_type": "code",
   "execution_count": 121,
   "metadata": {},
   "outputs": [
    {
     "data": {
      "text/html": [
       "<div>\n",
       "<style scoped>\n",
       "    .dataframe tbody tr th:only-of-type {\n",
       "        vertical-align: middle;\n",
       "    }\n",
       "\n",
       "    .dataframe tbody tr th {\n",
       "        vertical-align: top;\n",
       "    }\n",
       "\n",
       "    .dataframe thead th {\n",
       "        text-align: right;\n",
       "    }\n",
       "</style>\n",
       "<table border=\"1\" class=\"dataframe\">\n",
       "  <thead>\n",
       "    <tr style=\"text-align: right;\">\n",
       "      <th></th>\n",
       "      <th>date</th>\n",
       "      <th>open</th>\n",
       "      <th>high</th>\n",
       "      <th>low</th>\n",
       "      <th>close</th>\n",
       "      <th>volume</th>\n",
       "      <th>oi</th>\n",
       "      <th>date_only</th>\n",
       "    </tr>\n",
       "  </thead>\n",
       "  <tbody>\n",
       "    <tr>\n",
       "      <th>0</th>\n",
       "      <td>2024-04-25 09:15:00</td>\n",
       "      <td>48005.40</td>\n",
       "      <td>48236.15</td>\n",
       "      <td>47999.90</td>\n",
       "      <td>48157.95</td>\n",
       "      <td>136770</td>\n",
       "      <td>1639500</td>\n",
       "      <td>2024-04-25</td>\n",
       "    </tr>\n",
       "    <tr>\n",
       "      <th>1</th>\n",
       "      <td>2024-04-25 09:18:00</td>\n",
       "      <td>48161.00</td>\n",
       "      <td>48163.20</td>\n",
       "      <td>48130.00</td>\n",
       "      <td>48155.30</td>\n",
       "      <td>49470</td>\n",
       "      <td>1649085</td>\n",
       "      <td>2024-04-25</td>\n",
       "    </tr>\n",
       "    <tr>\n",
       "      <th>2</th>\n",
       "      <td>2024-04-25 09:21:00</td>\n",
       "      <td>48153.15</td>\n",
       "      <td>48164.80</td>\n",
       "      <td>48139.80</td>\n",
       "      <td>48142.00</td>\n",
       "      <td>22890</td>\n",
       "      <td>1657440</td>\n",
       "      <td>2024-04-25</td>\n",
       "    </tr>\n",
       "    <tr>\n",
       "      <th>3</th>\n",
       "      <td>2024-04-25 09:24:00</td>\n",
       "      <td>48142.00</td>\n",
       "      <td>48169.95</td>\n",
       "      <td>48142.00</td>\n",
       "      <td>48163.80</td>\n",
       "      <td>21135</td>\n",
       "      <td>1660470</td>\n",
       "      <td>2024-04-25</td>\n",
       "    </tr>\n",
       "    <tr>\n",
       "      <th>4</th>\n",
       "      <td>2024-04-25 09:27:00</td>\n",
       "      <td>48162.25</td>\n",
       "      <td>48195.75</td>\n",
       "      <td>48162.25</td>\n",
       "      <td>48189.20</td>\n",
       "      <td>18930</td>\n",
       "      <td>1659585</td>\n",
       "      <td>2024-04-25</td>\n",
       "    </tr>\n",
       "  </tbody>\n",
       "</table>\n",
       "</div>"
      ],
      "text/plain": [
       "                 date      open      high       low     close  volume  \\\n",
       "0 2024-04-25 09:15:00  48005.40  48236.15  47999.90  48157.95  136770   \n",
       "1 2024-04-25 09:18:00  48161.00  48163.20  48130.00  48155.30   49470   \n",
       "2 2024-04-25 09:21:00  48153.15  48164.80  48139.80  48142.00   22890   \n",
       "3 2024-04-25 09:24:00  48142.00  48169.95  48142.00  48163.80   21135   \n",
       "4 2024-04-25 09:27:00  48162.25  48195.75  48162.25  48189.20   18930   \n",
       "\n",
       "        oi  date_only  \n",
       "0  1639500 2024-04-25  \n",
       "1  1649085 2024-04-25  \n",
       "2  1657440 2024-04-25  \n",
       "3  1660470 2024-04-25  \n",
       "4  1659585 2024-04-25  "
      ]
     },
     "execution_count": 121,
     "metadata": {},
     "output_type": "execute_result"
    }
   ],
   "source": [
    "df.head()"
   ]
  },
  {
   "cell_type": "code",
   "execution_count": 122,
   "metadata": {},
   "outputs": [],
   "source": [
    "df_merged = df.merge(df_call_atm, on = 'date', suffixes = (\"_fut\", '_strike'))"
   ]
  },
  {
   "cell_type": "code",
   "execution_count": 123,
   "metadata": {},
   "outputs": [],
   "source": [
    "import pandas as pd\n",
    "\n",
    "# Assuming df_merged is your DataFrame with columns 'date', 'close_fut', and 'close_strike'\n",
    "\n",
    "# Calculate the day-over-day changes for 'close_fut' and 'close_strike'\n",
    "df_merged['change_close_fut'] = df_merged['close_fut'].diff()\n",
    "df_merged['change_close_strike'] = df_merged['close_strike'].diff()\n",
    "\n",
    "# Calculate the sensitivity of 'close_strike' relative to 'close_fut'\n",
    "# We'll avoid division by zero by replacing 0 with NaN in the denominator\n",
    "df_merged['sensitivity'] = df_merged['change_close_strike'] / df_merged['change_close_fut'].replace({0: pd.NA})\n",
    "\n",
    "\n",
    "# Optional: if you want to know the sensitivity for a specific 1 point change in 'close_fut',\n",
    "# you can calculate the average sensitivity where 'change_close_fut' is non-zero\n",
    "average_sensitivity = df_merged[df_merged['change_close_fut'] != 0]['sensitivity'].mean()\n"
   ]
  },
  {
   "cell_type": "code",
   "execution_count": 126,
   "metadata": {},
   "outputs": [
    {
     "data": {
      "text/html": [
       "<div>\n",
       "<style scoped>\n",
       "    .dataframe tbody tr th:only-of-type {\n",
       "        vertical-align: middle;\n",
       "    }\n",
       "\n",
       "    .dataframe tbody tr th {\n",
       "        vertical-align: top;\n",
       "    }\n",
       "\n",
       "    .dataframe thead th {\n",
       "        text-align: right;\n",
       "    }\n",
       "</style>\n",
       "<table border=\"1\" class=\"dataframe\">\n",
       "  <thead>\n",
       "    <tr style=\"text-align: right;\">\n",
       "      <th></th>\n",
       "      <th>date</th>\n",
       "      <th>close_fut</th>\n",
       "      <th>close_strike</th>\n",
       "      <th>change_close_fut</th>\n",
       "      <th>change_close_strike</th>\n",
       "      <th>sensitivity</th>\n",
       "    </tr>\n",
       "  </thead>\n",
       "  <tbody>\n",
       "    <tr>\n",
       "      <th>221</th>\n",
       "      <td>2024-04-26 14:03:00</td>\n",
       "      <td>48452.20</td>\n",
       "      <td>357.50</td>\n",
       "      <td>1.30</td>\n",
       "      <td>1.10</td>\n",
       "      <td>0.846154</td>\n",
       "    </tr>\n",
       "    <tr>\n",
       "      <th>222</th>\n",
       "      <td>2024-04-26 14:06:00</td>\n",
       "      <td>48451.90</td>\n",
       "      <td>355.85</td>\n",
       "      <td>-0.30</td>\n",
       "      <td>-1.65</td>\n",
       "      <td>5.5</td>\n",
       "    </tr>\n",
       "    <tr>\n",
       "      <th>223</th>\n",
       "      <td>2024-04-26 14:09:00</td>\n",
       "      <td>48495.05</td>\n",
       "      <td>373.95</td>\n",
       "      <td>43.15</td>\n",
       "      <td>18.10</td>\n",
       "      <td>0.419467</td>\n",
       "    </tr>\n",
       "    <tr>\n",
       "      <th>224</th>\n",
       "      <td>2024-04-26 14:12:00</td>\n",
       "      <td>48490.25</td>\n",
       "      <td>372.30</td>\n",
       "      <td>-4.80</td>\n",
       "      <td>-1.65</td>\n",
       "      <td>0.34375</td>\n",
       "    </tr>\n",
       "    <tr>\n",
       "      <th>225</th>\n",
       "      <td>2024-04-26 14:15:00</td>\n",
       "      <td>48542.80</td>\n",
       "      <td>403.60</td>\n",
       "      <td>52.55</td>\n",
       "      <td>31.30</td>\n",
       "      <td>0.595623</td>\n",
       "    </tr>\n",
       "    <tr>\n",
       "      <th>226</th>\n",
       "      <td>2024-04-26 14:18:00</td>\n",
       "      <td>48527.80</td>\n",
       "      <td>393.25</td>\n",
       "      <td>-15.00</td>\n",
       "      <td>-10.35</td>\n",
       "      <td>0.69</td>\n",
       "    </tr>\n",
       "    <tr>\n",
       "      <th>227</th>\n",
       "      <td>2024-04-26 14:21:00</td>\n",
       "      <td>48505.65</td>\n",
       "      <td>379.35</td>\n",
       "      <td>-22.15</td>\n",
       "      <td>-13.90</td>\n",
       "      <td>0.62754</td>\n",
       "    </tr>\n",
       "    <tr>\n",
       "      <th>228</th>\n",
       "      <td>2024-04-26 14:24:00</td>\n",
       "      <td>48485.10</td>\n",
       "      <td>371.60</td>\n",
       "      <td>-20.55</td>\n",
       "      <td>-7.75</td>\n",
       "      <td>0.377129</td>\n",
       "    </tr>\n",
       "    <tr>\n",
       "      <th>229</th>\n",
       "      <td>2024-04-26 14:27:00</td>\n",
       "      <td>48471.10</td>\n",
       "      <td>364.00</td>\n",
       "      <td>-14.00</td>\n",
       "      <td>-7.60</td>\n",
       "      <td>0.542857</td>\n",
       "    </tr>\n",
       "    <tr>\n",
       "      <th>230</th>\n",
       "      <td>2024-04-26 14:30:00</td>\n",
       "      <td>48492.00</td>\n",
       "      <td>375.45</td>\n",
       "      <td>20.90</td>\n",
       "      <td>11.45</td>\n",
       "      <td>0.547847</td>\n",
       "    </tr>\n",
       "  </tbody>\n",
       "</table>\n",
       "</div>"
      ],
      "text/plain": [
       "                   date  close_fut  close_strike  change_close_fut  \\\n",
       "221 2024-04-26 14:03:00   48452.20        357.50              1.30   \n",
       "222 2024-04-26 14:06:00   48451.90        355.85             -0.30   \n",
       "223 2024-04-26 14:09:00   48495.05        373.95             43.15   \n",
       "224 2024-04-26 14:12:00   48490.25        372.30             -4.80   \n",
       "225 2024-04-26 14:15:00   48542.80        403.60             52.55   \n",
       "226 2024-04-26 14:18:00   48527.80        393.25            -15.00   \n",
       "227 2024-04-26 14:21:00   48505.65        379.35            -22.15   \n",
       "228 2024-04-26 14:24:00   48485.10        371.60            -20.55   \n",
       "229 2024-04-26 14:27:00   48471.10        364.00            -14.00   \n",
       "230 2024-04-26 14:30:00   48492.00        375.45             20.90   \n",
       "\n",
       "     change_close_strike sensitivity  \n",
       "221                 1.10    0.846154  \n",
       "222                -1.65         5.5  \n",
       "223                18.10    0.419467  \n",
       "224                -1.65     0.34375  \n",
       "225                31.30    0.595623  \n",
       "226               -10.35        0.69  \n",
       "227               -13.90     0.62754  \n",
       "228                -7.75    0.377129  \n",
       "229                -7.60    0.542857  \n",
       "230                11.45    0.547847  "
      ]
     },
     "execution_count": 126,
     "metadata": {},
     "output_type": "execute_result"
    }
   ],
   "source": [
    "df_merged[\n",
    "    ['date','close_fut','close_strike','change_close_fut','change_close_strike','sensitivity']].tail(10)"
   ]
  },
  {
   "cell_type": "code",
   "execution_count": 90,
   "metadata": {},
   "outputs": [
    {
     "data": {
      "text/html": [
       "<div>\n",
       "<style scoped>\n",
       "    .dataframe tbody tr th:only-of-type {\n",
       "        vertical-align: middle;\n",
       "    }\n",
       "\n",
       "    .dataframe tbody tr th {\n",
       "        vertical-align: top;\n",
       "    }\n",
       "\n",
       "    .dataframe thead th {\n",
       "        text-align: right;\n",
       "    }\n",
       "</style>\n",
       "<table border=\"1\" class=\"dataframe\">\n",
       "  <thead>\n",
       "    <tr style=\"text-align: right;\">\n",
       "      <th></th>\n",
       "      <th>date</th>\n",
       "      <th>open_fut</th>\n",
       "      <th>high_fut</th>\n",
       "      <th>low_fut</th>\n",
       "      <th>close_fut</th>\n",
       "      <th>volume_fut</th>\n",
       "      <th>oi_fut</th>\n",
       "      <th>date_only_fut</th>\n",
       "      <th>open_sp</th>\n",
       "      <th>high_sp</th>\n",
       "      <th>low_sp</th>\n",
       "      <th>close_sp</th>\n",
       "      <th>volume_sp</th>\n",
       "      <th>oi_sp</th>\n",
       "      <th>date_only_sp</th>\n",
       "    </tr>\n",
       "  </thead>\n",
       "  <tbody>\n",
       "    <tr>\n",
       "      <th>0</th>\n",
       "      <td>2024-04-25 09:15:00</td>\n",
       "      <td>48005.40</td>\n",
       "      <td>48236.15</td>\n",
       "      <td>47999.90</td>\n",
       "      <td>48157.95</td>\n",
       "      <td>136770</td>\n",
       "      <td>1639500</td>\n",
       "      <td>2024-04-25</td>\n",
       "      <td>161.90</td>\n",
       "      <td>211.60</td>\n",
       "      <td>142.05</td>\n",
       "      <td>171.95</td>\n",
       "      <td>294375</td>\n",
       "      <td>275475</td>\n",
       "      <td>2024-04-25</td>\n",
       "    </tr>\n",
       "    <tr>\n",
       "      <th>1</th>\n",
       "      <td>2024-04-25 09:18:00</td>\n",
       "      <td>48161.00</td>\n",
       "      <td>48163.20</td>\n",
       "      <td>48130.00</td>\n",
       "      <td>48155.30</td>\n",
       "      <td>49470</td>\n",
       "      <td>1649085</td>\n",
       "      <td>2024-04-25</td>\n",
       "      <td>171.95</td>\n",
       "      <td>174.75</td>\n",
       "      <td>157.20</td>\n",
       "      <td>160.95</td>\n",
       "      <td>209085</td>\n",
       "      <td>336420</td>\n",
       "      <td>2024-04-25</td>\n",
       "    </tr>\n",
       "    <tr>\n",
       "      <th>2</th>\n",
       "      <td>2024-04-25 09:21:00</td>\n",
       "      <td>48153.15</td>\n",
       "      <td>48164.80</td>\n",
       "      <td>48139.80</td>\n",
       "      <td>48142.00</td>\n",
       "      <td>22890</td>\n",
       "      <td>1657440</td>\n",
       "      <td>2024-04-25</td>\n",
       "      <td>160.85</td>\n",
       "      <td>166.75</td>\n",
       "      <td>154.45</td>\n",
       "      <td>157.55</td>\n",
       "      <td>132000</td>\n",
       "      <td>374400</td>\n",
       "      <td>2024-04-25</td>\n",
       "    </tr>\n",
       "    <tr>\n",
       "      <th>3</th>\n",
       "      <td>2024-04-25 09:24:00</td>\n",
       "      <td>48142.00</td>\n",
       "      <td>48169.95</td>\n",
       "      <td>48142.00</td>\n",
       "      <td>48163.80</td>\n",
       "      <td>21135</td>\n",
       "      <td>1660470</td>\n",
       "      <td>2024-04-25</td>\n",
       "      <td>157.55</td>\n",
       "      <td>165.95</td>\n",
       "      <td>155.25</td>\n",
       "      <td>165.05</td>\n",
       "      <td>141435</td>\n",
       "      <td>401685</td>\n",
       "      <td>2024-04-25</td>\n",
       "    </tr>\n",
       "    <tr>\n",
       "      <th>4</th>\n",
       "      <td>2024-04-25 09:27:00</td>\n",
       "      <td>48162.25</td>\n",
       "      <td>48195.75</td>\n",
       "      <td>48162.25</td>\n",
       "      <td>48189.20</td>\n",
       "      <td>18930</td>\n",
       "      <td>1659585</td>\n",
       "      <td>2024-04-25</td>\n",
       "      <td>165.05</td>\n",
       "      <td>183.10</td>\n",
       "      <td>164.70</td>\n",
       "      <td>178.95</td>\n",
       "      <td>161685</td>\n",
       "      <td>423285</td>\n",
       "      <td>2024-04-25</td>\n",
       "    </tr>\n",
       "    <tr>\n",
       "      <th>...</th>\n",
       "      <td>...</td>\n",
       "      <td>...</td>\n",
       "      <td>...</td>\n",
       "      <td>...</td>\n",
       "      <td>...</td>\n",
       "      <td>...</td>\n",
       "      <td>...</td>\n",
       "      <td>...</td>\n",
       "      <td>...</td>\n",
       "      <td>...</td>\n",
       "      <td>...</td>\n",
       "      <td>...</td>\n",
       "      <td>...</td>\n",
       "      <td>...</td>\n",
       "      <td>...</td>\n",
       "    </tr>\n",
       "    <tr>\n",
       "      <th>201</th>\n",
       "      <td>2024-04-26 13:03:00</td>\n",
       "      <td>48638.85</td>\n",
       "      <td>48640.00</td>\n",
       "      <td>48622.00</td>\n",
       "      <td>48629.80</td>\n",
       "      <td>2880</td>\n",
       "      <td>1821315</td>\n",
       "      <td>2024-04-26</td>\n",
       "      <td>336.70</td>\n",
       "      <td>339.95</td>\n",
       "      <td>330.75</td>\n",
       "      <td>338.60</td>\n",
       "      <td>177960</td>\n",
       "      <td>1671945</td>\n",
       "      <td>2024-04-26</td>\n",
       "    </tr>\n",
       "    <tr>\n",
       "      <th>202</th>\n",
       "      <td>2024-04-26 13:06:00</td>\n",
       "      <td>48627.40</td>\n",
       "      <td>48639.75</td>\n",
       "      <td>48611.00</td>\n",
       "      <td>48613.35</td>\n",
       "      <td>3885</td>\n",
       "      <td>1821330</td>\n",
       "      <td>2024-04-26</td>\n",
       "      <td>338.65</td>\n",
       "      <td>340.65</td>\n",
       "      <td>325.85</td>\n",
       "      <td>332.25</td>\n",
       "      <td>228060</td>\n",
       "      <td>1681230</td>\n",
       "      <td>2024-04-26</td>\n",
       "    </tr>\n",
       "    <tr>\n",
       "      <th>203</th>\n",
       "      <td>2024-04-26 13:09:00</td>\n",
       "      <td>48615.75</td>\n",
       "      <td>48639.00</td>\n",
       "      <td>48613.35</td>\n",
       "      <td>48630.15</td>\n",
       "      <td>1875</td>\n",
       "      <td>1821840</td>\n",
       "      <td>2024-04-26</td>\n",
       "      <td>332.25</td>\n",
       "      <td>339.95</td>\n",
       "      <td>330.00</td>\n",
       "      <td>338.25</td>\n",
       "      <td>186660</td>\n",
       "      <td>1663995</td>\n",
       "      <td>2024-04-26</td>\n",
       "    </tr>\n",
       "    <tr>\n",
       "      <th>204</th>\n",
       "      <td>2024-04-26 13:12:00</td>\n",
       "      <td>48630.15</td>\n",
       "      <td>48660.00</td>\n",
       "      <td>48630.15</td>\n",
       "      <td>48645.90</td>\n",
       "      <td>9000</td>\n",
       "      <td>1822500</td>\n",
       "      <td>2024-04-26</td>\n",
       "      <td>338.25</td>\n",
       "      <td>353.15</td>\n",
       "      <td>337.40</td>\n",
       "      <td>343.00</td>\n",
       "      <td>417405</td>\n",
       "      <td>1670610</td>\n",
       "      <td>2024-04-26</td>\n",
       "    </tr>\n",
       "    <tr>\n",
       "      <th>205</th>\n",
       "      <td>2024-04-26 13:15:00</td>\n",
       "      <td>48645.90</td>\n",
       "      <td>48650.00</td>\n",
       "      <td>48623.55</td>\n",
       "      <td>48623.55</td>\n",
       "      <td>2670</td>\n",
       "      <td>1821360</td>\n",
       "      <td>2024-04-26</td>\n",
       "      <td>343.00</td>\n",
       "      <td>347.20</td>\n",
       "      <td>336.00</td>\n",
       "      <td>336.95</td>\n",
       "      <td>131055</td>\n",
       "      <td>1632015</td>\n",
       "      <td>2024-04-26</td>\n",
       "    </tr>\n",
       "  </tbody>\n",
       "</table>\n",
       "<p>206 rows × 15 columns</p>\n",
       "</div>"
      ],
      "text/plain": [
       "                   date  open_fut  high_fut   low_fut  close_fut  volume_fut  \\\n",
       "0   2024-04-25 09:15:00  48005.40  48236.15  47999.90   48157.95      136770   \n",
       "1   2024-04-25 09:18:00  48161.00  48163.20  48130.00   48155.30       49470   \n",
       "2   2024-04-25 09:21:00  48153.15  48164.80  48139.80   48142.00       22890   \n",
       "3   2024-04-25 09:24:00  48142.00  48169.95  48142.00   48163.80       21135   \n",
       "4   2024-04-25 09:27:00  48162.25  48195.75  48162.25   48189.20       18930   \n",
       "..                  ...       ...       ...       ...        ...         ...   \n",
       "201 2024-04-26 13:03:00  48638.85  48640.00  48622.00   48629.80        2880   \n",
       "202 2024-04-26 13:06:00  48627.40  48639.75  48611.00   48613.35        3885   \n",
       "203 2024-04-26 13:09:00  48615.75  48639.00  48613.35   48630.15        1875   \n",
       "204 2024-04-26 13:12:00  48630.15  48660.00  48630.15   48645.90        9000   \n",
       "205 2024-04-26 13:15:00  48645.90  48650.00  48623.55   48623.55        2670   \n",
       "\n",
       "      oi_fut date_only_fut  open_sp  high_sp  low_sp  close_sp  volume_sp  \\\n",
       "0    1639500    2024-04-25   161.90   211.60  142.05    171.95     294375   \n",
       "1    1649085    2024-04-25   171.95   174.75  157.20    160.95     209085   \n",
       "2    1657440    2024-04-25   160.85   166.75  154.45    157.55     132000   \n",
       "3    1660470    2024-04-25   157.55   165.95  155.25    165.05     141435   \n",
       "4    1659585    2024-04-25   165.05   183.10  164.70    178.95     161685   \n",
       "..       ...           ...      ...      ...     ...       ...        ...   \n",
       "201  1821315    2024-04-26   336.70   339.95  330.75    338.60     177960   \n",
       "202  1821330    2024-04-26   338.65   340.65  325.85    332.25     228060   \n",
       "203  1821840    2024-04-26   332.25   339.95  330.00    338.25     186660   \n",
       "204  1822500    2024-04-26   338.25   353.15  337.40    343.00     417405   \n",
       "205  1821360    2024-04-26   343.00   347.20  336.00    336.95     131055   \n",
       "\n",
       "       oi_sp date_only_sp  \n",
       "0     275475   2024-04-25  \n",
       "1     336420   2024-04-25  \n",
       "2     374400   2024-04-25  \n",
       "3     401685   2024-04-25  \n",
       "4     423285   2024-04-25  \n",
       "..       ...          ...  \n",
       "201  1671945   2024-04-26  \n",
       "202  1681230   2024-04-26  \n",
       "203  1663995   2024-04-26  \n",
       "204  1670610   2024-04-26  \n",
       "205  1632015   2024-04-26  \n",
       "\n",
       "[206 rows x 15 columns]"
      ]
     },
     "execution_count": 90,
     "metadata": {},
     "output_type": "execute_result"
    }
   ],
   "source": [
    "df_merged"
   ]
  },
  {
   "cell_type": "code",
   "execution_count": null,
   "metadata": {},
   "outputs": [],
   "source": [
    "df = df[df.date_only == \"2024-04-26\"]\n",
    "df.set_index('date', inplace=True)\n",
    "\n",
    "# VWAP Calculation (Manual)\n",
    "cumulative_vp = (df['volume'] * (df['high'] + df['low'] + df['close']) / 3).cumsum()\n",
    "cumulative_volume = df['volume'].cumsum()\n",
    "df['vwap'] = cumulative_vp / cumulative_volume\n",
    "\n",
    "# Calculate ATR using TA-Lib\n",
    "df['atr'] = talib.ATR(df['high'].values, df['low'].values, df['close'].values, timeperiod=10)\n",
    "\n",
    "# Supertrend Calculation\n",
    "factor = 2\n",
    "df['basic_upperband'] = (df['high'] + df['low']) / 2 + (factor * df['atr'])\n",
    "df['basic_lowerband'] = (df['high'] + df['low']) / 2 - (factor * df['atr'])\n",
    "df['supertrend'] = 0.0\n",
    "df['in_uptrend'] = True\n",
    "\n",
    "for current in range(1, len(df.index)):\n",
    "    previous = current - 1\n",
    "    if df['close'][current] > df['basic_upperband'][previous]:\n",
    "        df['in_uptrend'][current] = True\n",
    "    elif df['close'][current] < df['basic_lowerband'][previous]:\n",
    "        df['in_uptrend'][current] = False\n",
    "\n",
    "    if df['in_uptrend'][current]:\n",
    "        df['supertrend'][current] = df['basic_lowerband'][current]\n",
    "    else:\n",
    "        df['supertrend'][current] = df['basic_upperband'][current]"
   ]
  },
  {
   "cell_type": "code",
   "execution_count": 66,
   "metadata": {},
   "outputs": [
    {
     "data": {
      "text/html": [
       "<div>\n",
       "<style scoped>\n",
       "    .dataframe tbody tr th:only-of-type {\n",
       "        vertical-align: middle;\n",
       "    }\n",
       "\n",
       "    .dataframe tbody tr th {\n",
       "        vertical-align: top;\n",
       "    }\n",
       "\n",
       "    .dataframe thead th {\n",
       "        text-align: right;\n",
       "    }\n",
       "</style>\n",
       "<table border=\"1\" class=\"dataframe\">\n",
       "  <thead>\n",
       "    <tr style=\"text-align: right;\">\n",
       "      <th></th>\n",
       "      <th>open</th>\n",
       "      <th>high</th>\n",
       "      <th>low</th>\n",
       "      <th>close</th>\n",
       "      <th>volume</th>\n",
       "      <th>oi</th>\n",
       "      <th>date_only</th>\n",
       "      <th>vwap</th>\n",
       "      <th>atr</th>\n",
       "      <th>basic_upperband</th>\n",
       "      <th>basic_lowerband</th>\n",
       "      <th>supertrend</th>\n",
       "      <th>in_uptrend</th>\n",
       "    </tr>\n",
       "    <tr>\n",
       "      <th>date</th>\n",
       "      <th></th>\n",
       "      <th></th>\n",
       "      <th></th>\n",
       "      <th></th>\n",
       "      <th></th>\n",
       "      <th></th>\n",
       "      <th></th>\n",
       "      <th></th>\n",
       "      <th></th>\n",
       "      <th></th>\n",
       "      <th></th>\n",
       "      <th></th>\n",
       "      <th></th>\n",
       "    </tr>\n",
       "  </thead>\n",
       "  <tbody>\n",
       "    <tr>\n",
       "      <th>2024-04-26 12:48:00</th>\n",
       "      <td>48596.00</td>\n",
       "      <td>48599.00</td>\n",
       "      <td>48583.35</td>\n",
       "      <td>48593.95</td>\n",
       "      <td>5835</td>\n",
       "      <td>1817385</td>\n",
       "      <td>2024-04-26</td>\n",
       "      <td>48619.72</td>\n",
       "      <td>29.79</td>\n",
       "      <td>48650.76</td>\n",
       "      <td>48531.59</td>\n",
       "      <td>48531.59</td>\n",
       "      <td>True</td>\n",
       "    </tr>\n",
       "    <tr>\n",
       "      <th>2024-04-26 12:51:00</th>\n",
       "      <td>48593.95</td>\n",
       "      <td>48646.00</td>\n",
       "      <td>48593.10</td>\n",
       "      <td>48630.90</td>\n",
       "      <td>10860</td>\n",
       "      <td>1816890</td>\n",
       "      <td>2024-04-26</td>\n",
       "      <td>48619.76</td>\n",
       "      <td>32.10</td>\n",
       "      <td>48683.75</td>\n",
       "      <td>48555.35</td>\n",
       "      <td>48555.35</td>\n",
       "      <td>True</td>\n",
       "    </tr>\n",
       "    <tr>\n",
       "      <th>2024-04-26 12:54:00</th>\n",
       "      <td>48638.00</td>\n",
       "      <td>48650.00</td>\n",
       "      <td>48634.85</td>\n",
       "      <td>48644.00</td>\n",
       "      <td>14130</td>\n",
       "      <td>1818525</td>\n",
       "      <td>2024-04-26</td>\n",
       "      <td>48620.09</td>\n",
       "      <td>30.80</td>\n",
       "      <td>48704.03</td>\n",
       "      <td>48580.82</td>\n",
       "      <td>48580.82</td>\n",
       "      <td>True</td>\n",
       "    </tr>\n",
       "    <tr>\n",
       "      <th>2024-04-26 12:57:00</th>\n",
       "      <td>48638.65</td>\n",
       "      <td>48650.00</td>\n",
       "      <td>48615.00</td>\n",
       "      <td>48628.65</td>\n",
       "      <td>8760</td>\n",
       "      <td>1817610</td>\n",
       "      <td>2024-04-26</td>\n",
       "      <td>48620.19</td>\n",
       "      <td>31.22</td>\n",
       "      <td>48694.94</td>\n",
       "      <td>48570.06</td>\n",
       "      <td>48570.06</td>\n",
       "      <td>True</td>\n",
       "    </tr>\n",
       "    <tr>\n",
       "      <th>2024-04-26 13:00:00</th>\n",
       "      <td>48628.65</td>\n",
       "      <td>48628.65</td>\n",
       "      <td>48620.05</td>\n",
       "      <td>48620.95</td>\n",
       "      <td>525</td>\n",
       "      <td>1817610</td>\n",
       "      <td>2024-04-26</td>\n",
       "      <td>48620.19</td>\n",
       "      <td>28.96</td>\n",
       "      <td>48682.27</td>\n",
       "      <td>48566.43</td>\n",
       "      <td>48566.43</td>\n",
       "      <td>True</td>\n",
       "    </tr>\n",
       "  </tbody>\n",
       "</table>\n",
       "</div>"
      ],
      "text/plain": [
       "                         open      high       low     close  volume       oi  \\\n",
       "date                                                                           \n",
       "2024-04-26 12:48:00  48596.00  48599.00  48583.35  48593.95    5835  1817385   \n",
       "2024-04-26 12:51:00  48593.95  48646.00  48593.10  48630.90   10860  1816890   \n",
       "2024-04-26 12:54:00  48638.00  48650.00  48634.85  48644.00   14130  1818525   \n",
       "2024-04-26 12:57:00  48638.65  48650.00  48615.00  48628.65    8760  1817610   \n",
       "2024-04-26 13:00:00  48628.65  48628.65  48620.05  48620.95     525  1817610   \n",
       "\n",
       "                     date_only      vwap    atr  basic_upperband  \\\n",
       "date                                                               \n",
       "2024-04-26 12:48:00 2024-04-26  48619.72  29.79         48650.76   \n",
       "2024-04-26 12:51:00 2024-04-26  48619.76  32.10         48683.75   \n",
       "2024-04-26 12:54:00 2024-04-26  48620.09  30.80         48704.03   \n",
       "2024-04-26 12:57:00 2024-04-26  48620.19  31.22         48694.94   \n",
       "2024-04-26 13:00:00 2024-04-26  48620.19  28.96         48682.27   \n",
       "\n",
       "                     basic_lowerband  supertrend  in_uptrend  \n",
       "date                                                          \n",
       "2024-04-26 12:48:00         48531.59    48531.59        True  \n",
       "2024-04-26 12:51:00         48555.35    48555.35        True  \n",
       "2024-04-26 12:54:00         48580.82    48580.82        True  \n",
       "2024-04-26 12:57:00         48570.06    48570.06        True  \n",
       "2024-04-26 13:00:00         48566.43    48566.43        True  "
      ]
     },
     "execution_count": 66,
     "metadata": {},
     "output_type": "execute_result"
    }
   ],
   "source": [
    "df.round(2).tail(5)"
   ]
  },
  {
   "cell_type": "code",
   "execution_count": null,
   "metadata": {},
   "outputs": [],
   "source": [
    "import pandas as pd\n",
    "import numpy as np\n",
    "import talib\n",
    "\n",
    "# # Example DataFrame\n",
    "# data = {\n",
    "#     'date': pd.date_range(start='2023-01-01', periods=100, freq='D'),\n",
    "#     'open': np.random.random(100) * 100,\n",
    "#     'high': np.random.random(100) * 100,\n",
    "#     'low': np.random.random(100) * 100,\n",
    "#     'close': np.random.random(100) * 100,\n",
    "#     'volume': np.random.randint(100, 1000, 100)\n",
    "# }\n",
    "\n",
    "# df = pd.DataFrame(data)\n",
    "\n",
    "\n",
    "\n",
    "\n",
    "\n"
   ]
  },
  {
   "cell_type": "code",
   "execution_count": 5,
   "metadata": {},
   "outputs": [
    {
     "data": {
      "text/html": [
       "<div>\n",
       "<style scoped>\n",
       "    .dataframe tbody tr th:only-of-type {\n",
       "        vertical-align: middle;\n",
       "    }\n",
       "\n",
       "    .dataframe tbody tr th {\n",
       "        vertical-align: top;\n",
       "    }\n",
       "\n",
       "    .dataframe thead th {\n",
       "        text-align: right;\n",
       "    }\n",
       "</style>\n",
       "<table border=\"1\" class=\"dataframe\">\n",
       "  <thead>\n",
       "    <tr style=\"text-align: right;\">\n",
       "      <th></th>\n",
       "      <th>instrument_token</th>\n",
       "      <th>exchange_token</th>\n",
       "      <th>tradingsymbol</th>\n",
       "      <th>name</th>\n",
       "      <th>last_price</th>\n",
       "      <th>expiry</th>\n",
       "      <th>strike</th>\n",
       "      <th>tick_size</th>\n",
       "      <th>lot_size</th>\n",
       "      <th>instrument_type</th>\n",
       "      <th>segment</th>\n",
       "      <th>exchange</th>\n",
       "    </tr>\n",
       "  </thead>\n",
       "  <tbody>\n",
       "    <tr>\n",
       "      <th>0</th>\n",
       "      <td>12014082</td>\n",
       "      <td>46930</td>\n",
       "      <td>NIFTY24MAYFUT</td>\n",
       "      <td>NIFTY</td>\n",
       "      <td>0.0</td>\n",
       "      <td>2024-05-30</td>\n",
       "      <td>0.0</td>\n",
       "      <td>0.05</td>\n",
       "      <td>25</td>\n",
       "      <td>FUT</td>\n",
       "      <td>NFO-FUT</td>\n",
       "      <td>NFO</td>\n",
       "    </tr>\n",
       "    <tr>\n",
       "      <th>1</th>\n",
       "      <td>8961026</td>\n",
       "      <td>35004</td>\n",
       "      <td>NIFTY24JUNFUT</td>\n",
       "      <td>NIFTY</td>\n",
       "      <td>0.0</td>\n",
       "      <td>2024-06-27</td>\n",
       "      <td>0.0</td>\n",
       "      <td>0.05</td>\n",
       "      <td>25</td>\n",
       "      <td>FUT</td>\n",
       "      <td>NFO-FUT</td>\n",
       "      <td>NFO</td>\n",
       "    </tr>\n",
       "    <tr>\n",
       "      <th>2</th>\n",
       "      <td>8961794</td>\n",
       "      <td>35007</td>\n",
       "      <td>NIFTY24JULFUT</td>\n",
       "      <td>NIFTY</td>\n",
       "      <td>0.0</td>\n",
       "      <td>2024-07-25</td>\n",
       "      <td>0.0</td>\n",
       "      <td>0.05</td>\n",
       "      <td>25</td>\n",
       "      <td>FUT</td>\n",
       "      <td>NFO-FUT</td>\n",
       "      <td>NFO</td>\n",
       "    </tr>\n",
       "    <tr>\n",
       "      <th>3</th>\n",
       "      <td>12012290</td>\n",
       "      <td>46923</td>\n",
       "      <td>BANKNIFTY24MAYFUT</td>\n",
       "      <td>BANKNIFTY</td>\n",
       "      <td>0.0</td>\n",
       "      <td>2024-05-29</td>\n",
       "      <td>0.0</td>\n",
       "      <td>0.05</td>\n",
       "      <td>15</td>\n",
       "      <td>FUT</td>\n",
       "      <td>NFO-FUT</td>\n",
       "      <td>NFO</td>\n",
       "    </tr>\n",
       "    <tr>\n",
       "      <th>4</th>\n",
       "      <td>8965122</td>\n",
       "      <td>35020</td>\n",
       "      <td>BANKNIFTY24JUNFUT</td>\n",
       "      <td>BANKNIFTY</td>\n",
       "      <td>0.0</td>\n",
       "      <td>2024-06-26</td>\n",
       "      <td>0.0</td>\n",
       "      <td>0.05</td>\n",
       "      <td>15</td>\n",
       "      <td>FUT</td>\n",
       "      <td>NFO-FUT</td>\n",
       "      <td>NFO</td>\n",
       "    </tr>\n",
       "    <tr>\n",
       "      <th>...</th>\n",
       "      <td>...</td>\n",
       "      <td>...</td>\n",
       "      <td>...</td>\n",
       "      <td>...</td>\n",
       "      <td>...</td>\n",
       "      <td>...</td>\n",
       "      <td>...</td>\n",
       "      <td>...</td>\n",
       "      <td>...</td>\n",
       "      <td>...</td>\n",
       "      <td>...</td>\n",
       "      <td>...</td>\n",
       "    </tr>\n",
       "    <tr>\n",
       "      <th>34230</th>\n",
       "      <td>37560578</td>\n",
       "      <td>146721</td>\n",
       "      <td>ZYDUSLIFE24JUL1060PE</td>\n",
       "      <td>ZYDUSLIFE</td>\n",
       "      <td>0.0</td>\n",
       "      <td>2024-07-25</td>\n",
       "      <td>1060.0</td>\n",
       "      <td>0.05</td>\n",
       "      <td>900</td>\n",
       "      <td>PE</td>\n",
       "      <td>NFO-OPT</td>\n",
       "      <td>NFO</td>\n",
       "    </tr>\n",
       "    <tr>\n",
       "      <th>34231</th>\n",
       "      <td>37560834</td>\n",
       "      <td>146722</td>\n",
       "      <td>ZYDUSLIFE24JUL1080CE</td>\n",
       "      <td>ZYDUSLIFE</td>\n",
       "      <td>0.0</td>\n",
       "      <td>2024-07-25</td>\n",
       "      <td>1080.0</td>\n",
       "      <td>0.05</td>\n",
       "      <td>900</td>\n",
       "      <td>CE</td>\n",
       "      <td>NFO-OPT</td>\n",
       "      <td>NFO</td>\n",
       "    </tr>\n",
       "    <tr>\n",
       "      <th>34232</th>\n",
       "      <td>37561090</td>\n",
       "      <td>146723</td>\n",
       "      <td>ZYDUSLIFE24JUL1080PE</td>\n",
       "      <td>ZYDUSLIFE</td>\n",
       "      <td>0.0</td>\n",
       "      <td>2024-07-25</td>\n",
       "      <td>1080.0</td>\n",
       "      <td>0.05</td>\n",
       "      <td>900</td>\n",
       "      <td>PE</td>\n",
       "      <td>NFO-OPT</td>\n",
       "      <td>NFO</td>\n",
       "    </tr>\n",
       "    <tr>\n",
       "      <th>34233</th>\n",
       "      <td>37561858</td>\n",
       "      <td>146726</td>\n",
       "      <td>ZYDUSLIFE24JUL1120CE</td>\n",
       "      <td>ZYDUSLIFE</td>\n",
       "      <td>0.0</td>\n",
       "      <td>2024-07-25</td>\n",
       "      <td>1120.0</td>\n",
       "      <td>0.05</td>\n",
       "      <td>900</td>\n",
       "      <td>CE</td>\n",
       "      <td>NFO-OPT</td>\n",
       "      <td>NFO</td>\n",
       "    </tr>\n",
       "    <tr>\n",
       "      <th>34234</th>\n",
       "      <td>37562114</td>\n",
       "      <td>146727</td>\n",
       "      <td>ZYDUSLIFE24JUL1120PE</td>\n",
       "      <td>ZYDUSLIFE</td>\n",
       "      <td>0.0</td>\n",
       "      <td>2024-07-25</td>\n",
       "      <td>1120.0</td>\n",
       "      <td>0.05</td>\n",
       "      <td>900</td>\n",
       "      <td>PE</td>\n",
       "      <td>NFO-OPT</td>\n",
       "      <td>NFO</td>\n",
       "    </tr>\n",
       "  </tbody>\n",
       "</table>\n",
       "<p>34235 rows × 12 columns</p>\n",
       "</div>"
      ],
      "text/plain": [
       "       instrument_token exchange_token         tradingsymbol       name  \\\n",
       "0              12014082          46930         NIFTY24MAYFUT      NIFTY   \n",
       "1               8961026          35004         NIFTY24JUNFUT      NIFTY   \n",
       "2               8961794          35007         NIFTY24JULFUT      NIFTY   \n",
       "3              12012290          46923     BANKNIFTY24MAYFUT  BANKNIFTY   \n",
       "4               8965122          35020     BANKNIFTY24JUNFUT  BANKNIFTY   \n",
       "...                 ...            ...                   ...        ...   \n",
       "34230          37560578         146721  ZYDUSLIFE24JUL1060PE  ZYDUSLIFE   \n",
       "34231          37560834         146722  ZYDUSLIFE24JUL1080CE  ZYDUSLIFE   \n",
       "34232          37561090         146723  ZYDUSLIFE24JUL1080PE  ZYDUSLIFE   \n",
       "34233          37561858         146726  ZYDUSLIFE24JUL1120CE  ZYDUSLIFE   \n",
       "34234          37562114         146727  ZYDUSLIFE24JUL1120PE  ZYDUSLIFE   \n",
       "\n",
       "       last_price      expiry  strike  tick_size  lot_size instrument_type  \\\n",
       "0             0.0  2024-05-30     0.0       0.05        25             FUT   \n",
       "1             0.0  2024-06-27     0.0       0.05        25             FUT   \n",
       "2             0.0  2024-07-25     0.0       0.05        25             FUT   \n",
       "3             0.0  2024-05-29     0.0       0.05        15             FUT   \n",
       "4             0.0  2024-06-26     0.0       0.05        15             FUT   \n",
       "...           ...         ...     ...        ...       ...             ...   \n",
       "34230         0.0  2024-07-25  1060.0       0.05       900              PE   \n",
       "34231         0.0  2024-07-25  1080.0       0.05       900              CE   \n",
       "34232         0.0  2024-07-25  1080.0       0.05       900              PE   \n",
       "34233         0.0  2024-07-25  1120.0       0.05       900              CE   \n",
       "34234         0.0  2024-07-25  1120.0       0.05       900              PE   \n",
       "\n",
       "       segment exchange  \n",
       "0      NFO-FUT      NFO  \n",
       "1      NFO-FUT      NFO  \n",
       "2      NFO-FUT      NFO  \n",
       "3      NFO-FUT      NFO  \n",
       "4      NFO-FUT      NFO  \n",
       "...        ...      ...  \n",
       "34230  NFO-OPT      NFO  \n",
       "34231  NFO-OPT      NFO  \n",
       "34232  NFO-OPT      NFO  \n",
       "34233  NFO-OPT      NFO  \n",
       "34234  NFO-OPT      NFO  \n",
       "\n",
       "[34235 rows x 12 columns]"
      ]
     },
     "execution_count": 5,
     "metadata": {},
     "output_type": "execute_result"
    }
   ],
   "source": [
    "inst"
   ]
  },
  {
   "cell_type": "markdown",
   "metadata": {},
   "source": [
    "## stock selection "
   ]
  },
  {
   "cell_type": "markdown",
   "metadata": {},
   "source": [
    "first get list of shares to check \n",
    "1. eod analyser, futures data at day level to check last 3 to 4 days pattern\n",
    "2. futures data of current day, to look some buildup in the morning\n",
    "3. future price data to check OL, OH\n",
    "4. future price to check how many high or low breaks\n"
   ]
  },
  {
   "cell_type": "code",
   "execution_count": 7,
   "metadata": {},
   "outputs": [],
   "source": [
    "from tqdm import tqdm\n",
    "def fetch_market_data(kite, expiry_march, start_dt, end_dt, time_frame=\"minute\"):\n",
    "    df_expiry_hist_data = pd.DataFrame()\n",
    "    strike_symbol_dict = dict(\n",
    "        zip(expiry_march.instrument_token, expiry_march[\"name\"])\n",
    "    )\n",
    "    inst_expiry = expiry_march[\"instrument_token\"].unique().tolist()\n",
    "    for i in tqdm(inst_expiry):\n",
    "        try:\n",
    "            df = pd.DataFrame(\n",
    "                kite.historical_data(\n",
    "                    i,\n",
    "                    from_date=start_dt,\n",
    "                    to_date=end_dt,\n",
    "                    interval=time_frame,\n",
    "                    continuous=False,\n",
    "                    oi=True,\n",
    "                )\n",
    "            )\n",
    "            df[\"symbol\"] = strike_symbol_dict[i]\n",
    "            df_expiry_hist_data = df_expiry_hist_data.append(df)\n",
    "        except Exception as e:\n",
    "            print(e)\n",
    "            continue\n",
    "    df_expiry_hist_data[\"date\"] = pd.to_datetime(\n",
    "        df_expiry_hist_data[\"date\"]\n",
    "    ).dt.tz_localize(None)\n",
    "    df_expiry_hist_data[\"date_only\"] = pd.to_datetime(\n",
    "        df_expiry_hist_data[\"date\"].dt.date\n",
    "    )\n",
    "    return df_expiry_hist_data"
   ]
  },
  {
   "cell_type": "code",
   "execution_count": 6,
   "metadata": {},
   "outputs": [],
   "source": [
    "\n",
    "def classify_action(row):\n",
    "    if pd.isna(row['oi_diff']) or pd.isna(row['close_diff']):\n",
    "        return None  # Ignore the first row for each symbol as it has no previous day to compare\n",
    "    if row['oi_diff'] > 0 and row['close_diff'] > 0:\n",
    "        return 'Long Buildup'\n",
    "    elif row['oi_diff'] > 0 and row['close_diff'] < 0:\n",
    "        return 'Short Buildup'\n",
    "    elif row['oi_diff'] < 0 and row['close_diff'] > 0:\n",
    "        return 'Short Covering'\n",
    "    elif row['oi_diff'] < 0 and row['close_diff'] < 0:\n",
    "        return 'Long Unwinding'\n",
    "    else:\n",
    "        return 'No Change'  # This covers cases where either oi or close doesn't change\n",
    "\n",
    "\n",
    "def get_buildup_tag(df_data):\n",
    "    # Sorting by symbol and date to ensure the data is in the right order\n",
    "    df_data.sort_values(by=['symbol', 'date'], inplace=True)\n",
    "\n",
    "    # Calculate differences and percentage changes\n",
    "    df_data['oi_diff'] = df_data.groupby('symbol')['oi'].diff()\n",
    "    df_data['oi_pct_chg'] = df_data.groupby('symbol')['oi'].pct_change() * 100\n",
    "    df_data['close_diff'] = df_data.groupby('symbol')['close'].diff()\n",
    "    df_data['close_pct_chg'] = df_data.groupby('symbol')['close'].pct_change() * 100\n",
    "    # Apply function\n",
    "    df_data['Market_Action'] = df_data.apply(classify_action, axis=1)\n",
    "\n",
    "    df_data = df_data.round(2)\n",
    "    return df_data\n",
    "\n",
    "\n",
    "def get_majority_buildup_flag(df_titan):\n",
    "    # Sample df_titan loading\n",
    "    df_titan['volume'] = pd.to_numeric(df_titan['volume'])\n",
    "\n",
    "    # Calculate percentage change in volume\n",
    "    # df_titan['perc_change_volume'] = df_titan.groupby('symbol')['volume'].pct_change() * 100\n",
    "    df_titan['perc_change_volume'] = df_titan['volume']\n",
    "    mean_volume = df_titan['perc_change_volume'].mean()\n",
    "    std_volume = df_titan['perc_change_volume'].std()\n",
    "    df_titan['std_flag'] = ((df_titan['perc_change_volume'] > mean_volume + 2 * std_volume) | (df_titan['perc_change_volume'] < mean_volume - 2 * std_volume))\n",
    "\n",
    "    Q1 = df_titan['perc_change_volume'].quantile(0.25)\n",
    "    Q3 = df_titan['perc_change_volume'].quantile(0.75)\n",
    "    IQR = Q3 - Q1\n",
    "    df_titan['iqr_flag'] = ((df_titan['perc_change_volume'] < Q1 - 1.5 * IQR) | (df_titan['perc_change_volume'] > Q3 + 1.5 * IQR))\n",
    "\n",
    "\n",
    "    df_titan['z_score'] = (df_titan['perc_change_volume'] - mean_volume) / std_volume\n",
    "    df_titan['z_flag'] = (df_titan['z_score'].abs() > 2)\n",
    "\n",
    "    df_titan['majority_flag'] = df_titan[['std_flag', 'iqr_flag', 'z_flag']].sum(axis=1) >= 2\n",
    "    return df_titan"
   ]
  },
  {
   "cell_type": "code",
   "execution_count": 10,
   "metadata": {},
   "outputs": [
    {
     "name": "stderr",
     "output_type": "stream",
     "text": [
      "100%|██████████| 187/187 [00:10<00:00, 18.44it/s]\n"
     ]
    }
   ],
   "source": [
    "inst = pd.DataFrame(kite.instruments(\"NFO\"))\n",
    "april_fut_inst = inst[inst[\"tradingsymbol\"].str.contains('24JUNFUT')]\n",
    "\n",
    "start_dt = \"2024-0-20\"\n",
    "end_dt = \"2024-05-07\" \n",
    "time_frame = \"day\"\n",
    "df_day = fetch_market_data(kite,april_fut_inst, start_dt, end_dt, time_frame=time_frame)"
   ]
  },
  {
   "cell_type": "code",
   "execution_count": 54,
   "metadata": {},
   "outputs": [
    {
     "data": {
      "text/html": [
       "<div>\n",
       "<style scoped>\n",
       "    .dataframe tbody tr th:only-of-type {\n",
       "        vertical-align: middle;\n",
       "    }\n",
       "\n",
       "    .dataframe tbody tr th {\n",
       "        vertical-align: top;\n",
       "    }\n",
       "\n",
       "    .dataframe thead th {\n",
       "        text-align: right;\n",
       "    }\n",
       "</style>\n",
       "<table border=\"1\" class=\"dataframe\">\n",
       "  <thead>\n",
       "    <tr style=\"text-align: right;\">\n",
       "      <th></th>\n",
       "      <th>date</th>\n",
       "      <th>open</th>\n",
       "      <th>high</th>\n",
       "      <th>low</th>\n",
       "      <th>close</th>\n",
       "      <th>volume</th>\n",
       "      <th>oi</th>\n",
       "      <th>symbol</th>\n",
       "      <th>date_only</th>\n",
       "    </tr>\n",
       "  </thead>\n",
       "  <tbody>\n",
       "    <tr>\n",
       "      <th>0</th>\n",
       "      <td>2024-04-22</td>\n",
       "      <td>22325.00</td>\n",
       "      <td>22531.0</td>\n",
       "      <td>22325.00</td>\n",
       "      <td>22496.55</td>\n",
       "      <td>2541350</td>\n",
       "      <td>5333650</td>\n",
       "      <td>NIFTY</td>\n",
       "      <td>2024-04-22</td>\n",
       "    </tr>\n",
       "    <tr>\n",
       "      <th>1</th>\n",
       "      <td>2024-04-23</td>\n",
       "      <td>22549.95</td>\n",
       "      <td>22550.0</td>\n",
       "      <td>22465.00</td>\n",
       "      <td>22485.70</td>\n",
       "      <td>3431850</td>\n",
       "      <td>7013650</td>\n",
       "      <td>NIFTY</td>\n",
       "      <td>2024-04-23</td>\n",
       "    </tr>\n",
       "    <tr>\n",
       "      <th>2</th>\n",
       "      <td>2024-04-24</td>\n",
       "      <td>22535.00</td>\n",
       "      <td>22596.0</td>\n",
       "      <td>22479.05</td>\n",
       "      <td>22509.75</td>\n",
       "      <td>4705350</td>\n",
       "      <td>8788750</td>\n",
       "      <td>NIFTY</td>\n",
       "      <td>2024-04-24</td>\n",
       "    </tr>\n",
       "    <tr>\n",
       "      <th>3</th>\n",
       "      <td>2024-04-25</td>\n",
       "      <td>22435.20</td>\n",
       "      <td>22715.0</td>\n",
       "      <td>22435.15</td>\n",
       "      <td>22653.95</td>\n",
       "      <td>11645250</td>\n",
       "      <td>11448050</td>\n",
       "      <td>NIFTY</td>\n",
       "      <td>2024-04-25</td>\n",
       "    </tr>\n",
       "    <tr>\n",
       "      <th>4</th>\n",
       "      <td>2024-04-26</td>\n",
       "      <td>22684.00</td>\n",
       "      <td>22705.0</td>\n",
       "      <td>22530.00</td>\n",
       "      <td>22556.00</td>\n",
       "      <td>6242950</td>\n",
       "      <td>10399450</td>\n",
       "      <td>NIFTY</td>\n",
       "      <td>2024-04-26</td>\n",
       "    </tr>\n",
       "  </tbody>\n",
       "</table>\n",
       "</div>"
      ],
      "text/plain": [
       "        date      open     high       low     close    volume        oi  \\\n",
       "0 2024-04-22  22325.00  22531.0  22325.00  22496.55   2541350   5333650   \n",
       "1 2024-04-23  22549.95  22550.0  22465.00  22485.70   3431850   7013650   \n",
       "2 2024-04-24  22535.00  22596.0  22479.05  22509.75   4705350   8788750   \n",
       "3 2024-04-25  22435.20  22715.0  22435.15  22653.95  11645250  11448050   \n",
       "4 2024-04-26  22684.00  22705.0  22530.00  22556.00   6242950  10399450   \n",
       "\n",
       "  symbol  date_only  \n",
       "0  NIFTY 2024-04-22  \n",
       "1  NIFTY 2024-04-23  \n",
       "2  NIFTY 2024-04-24  \n",
       "3  NIFTY 2024-04-25  \n",
       "4  NIFTY 2024-04-26  "
      ]
     },
     "execution_count": 54,
     "metadata": {},
     "output_type": "execute_result"
    }
   ],
   "source": [
    "df_day.head()"
   ]
  },
  {
   "cell_type": "code",
   "execution_count": 55,
   "metadata": {},
   "outputs": [
    {
     "name": "stderr",
     "output_type": "stream",
     "text": [
      "  0%|          | 0/187 [00:00<?, ?it/s]"
     ]
    },
    {
     "name": "stderr",
     "output_type": "stream",
     "text": [
      "100%|██████████| 187/187 [00:13<00:00, 14.26it/s]\n"
     ]
    }
   ],
   "source": [
    "start_dt_td = \"2024-04-20\"\n",
    "end_dt_td = \"2024-05-07\" \n",
    "time_frame = \"30minute\"\n",
    "df_data_min = fetch_market_data(kite,april_fut_inst, start_dt_td, end_dt_td, time_frame=time_frame)"
   ]
  },
  {
   "cell_type": "code",
   "execution_count": 56,
   "metadata": {},
   "outputs": [
    {
     "name": "stderr",
     "output_type": "stream",
     "text": [
      "  0%|          | 0/187 [00:00<?, ?it/s]"
     ]
    },
    {
     "name": "stderr",
     "output_type": "stream",
     "text": [
      "100%|██████████| 187/187 [00:10<00:00, 18.30it/s]\n"
     ]
    }
   ],
   "source": [
    "date_list = [\"2024-05-06\", \"2024-05-07\"]\n",
    "# [df_data_min['symbol'] == \"TITAN\"].\n",
    "df_stock_select = pd.DataFrame()\n",
    "for sy in tqdm(df_data_min.symbol.unique()):\n",
    "    try:\n",
    "        df_day_ind = df_day.query(\"symbol == @sy\")\n",
    "        df_day_ind = df_day_ind.sort_values('date_only', ascending = False)\n",
    "\n",
    "        df_titan = df_data_min.query(\"symbol ==@sy\")\n",
    "        df_titan = df_titan[df_titan['date_only'].isin(date_list)]\n",
    "\n",
    "        # current day fut buildup \n",
    "        df_titan = get_buildup_tag(df_titan)\n",
    "        df_titan = get_majority_buildup_flag(df_titan)\n",
    "\n",
    "        # OH and OL logic\n",
    "        df_titan = df_titan.query(\"date_only == '2024-05-07'\")\n",
    "        df_titan['OL'] = df_titan[df_titan['date'].dt.time.between(pd.to_datetime('09:15').time(), pd.to_datetime('09:15').time())].apply(lambda x: x['open'] == x['low'],axis =1 )\n",
    "        df_titan['OH'] = df_titan[df_titan['date'].dt.time.between(pd.to_datetime('09:15').time(), pd.to_datetime('09:15').time())].apply(lambda x: x['open'] == x['high'],axis =1 )\n",
    "        df_titan['OL'] = df_titan['OL'].ffill()\n",
    "        df_titan['OH'] = df_titan['OH'].ffill()\n",
    "\n",
    "        # 9 day high and low breakout logic\n",
    "        df_min_temp = df_titan.copy()\n",
    "        df_min_temp = df_min_temp[df_min_temp['date'].dt.time.between(pd.to_datetime('09:15').time(), pd.to_datetime('10:00').time())]\n",
    "        df_min_temp = df_min_temp.resample('D', on='date').agg({\n",
    "            'open': 'first',\n",
    "            'high': 'max',\n",
    "            'low': 'min',\n",
    "            'close': 'last'\n",
    "        }).dropna().reset_index()\n",
    "\n",
    "        today_high = df_min_temp['high'].iloc[0]\n",
    "        today_low = df_min_temp['low'].iloc[0]\n",
    "        df_prev = df_day_ind[df_day_ind[\"date\"] != \"2024-05-06\"]\n",
    "        # Initialize counters for consecutive breaks\n",
    "        consecutive_high_breaks = 0\n",
    "        consecutive_low_breaks = 0\n",
    "\n",
    "        # Iterate over the rows in reverse (from most recent to least)\n",
    "        for index, row in df_prev.iloc[:].iterrows():\n",
    "            if row['high'] < today_high:\n",
    "                consecutive_high_breaks += 1\n",
    "            else:\n",
    "                break  # Stop counting if a day does not break today's high\n",
    "\n",
    "        for index, row in df_prev.iloc[:].iterrows():\n",
    "\n",
    "            if row['low'] > today_low:\n",
    "                consecutive_low_breaks += 1\n",
    "            else:\n",
    "                break  # Stop counting if a day does not break today's low\n",
    "        df_titan['day_count_high'] = consecutive_high_breaks\n",
    "        df_titan['day_count_low'] = consecutive_low_breaks\n",
    "        df_stock_select = df_stock_select.append(df_titan)\n",
    "        # break\n",
    "    except:\n",
    "        print(sy)\n",
    "        continue\n"
   ]
  },
  {
   "cell_type": "code",
   "execution_count": 57,
   "metadata": {},
   "outputs": [],
   "source": [
    "df_stock_select.to_clipboard(index = False)"
   ]
  },
  {
   "cell_type": "code",
   "execution_count": 49,
   "metadata": {},
   "outputs": [
    {
     "data": {
      "text/plain": [
       "array(['ABB', 'APOLLOHOSP', 'AXISBANK', 'BALRAMCHIN', 'BATAINDIA',\n",
       "       'COALINDIA', 'CROMPTON', 'DEEPAKNTR', 'DLF', 'EICHERMOT',\n",
       "       'GODREJPROP', 'HDFCBANK', 'INDHOTEL', 'JUBLFOOD', 'METROPOLIS',\n",
       "       'MFSL', 'MIDCPNIFTY', 'NMDC', 'POWERGRID', 'RELIANCE', 'SBILIFE',\n",
       "       'SIEMENS', 'SRF', 'SYNGENE'], dtype=object)"
      ]
     },
     "execution_count": 49,
     "metadata": {},
     "output_type": "execute_result"
    }
   ],
   "source": [
    "df_stock_select.query(\"OL == True\").symbol.unique()"
   ]
  },
  {
   "cell_type": "code",
   "execution_count": 50,
   "metadata": {},
   "outputs": [
    {
     "data": {
      "text/plain": [
       "array(['ABCAPITAL', 'ABFRL', 'ADANIENT', 'ALKEM', 'APOLLOTYRE',\n",
       "       'ASIANPAINT', 'ASTRAL', 'BALKRISIND', 'BHARATFORG', 'BIOCON',\n",
       "       'CANFINHOME', 'CHOLAFIN', 'CUB', 'CUMMINSIND', 'DABUR',\n",
       "       'FEDERALBNK', 'GMRINFRA', 'GRASIM', 'HDFCLIFE', 'ICICIBANK', 'IGL',\n",
       "       'INDIGO', 'JINDALSTEL', 'LTF', 'LTTS', 'LUPIN', 'MRF', 'PAGEIND',\n",
       "       'PETRONET', 'PFC', 'POLYCAB', 'PVRINOX', 'RBLBANK', 'SHRIRAMFIN',\n",
       "       'VEDL'], dtype=object)"
      ]
     },
     "execution_count": 50,
     "metadata": {},
     "output_type": "execute_result"
    }
   ],
   "source": [
    "df_stock_select.query(\"OH == True\").symbol.unique()"
   ]
  },
  {
   "cell_type": "code",
   "execution_count": 52,
   "metadata": {},
   "outputs": [],
   "source": [
    "df_stock_select.to_excel(\"stock_select.xlsx\",index = False)"
   ]
  },
  {
   "cell_type": "code",
   "execution_count": 116,
   "metadata": {},
   "outputs": [
    {
     "data": {
      "text/html": [
       "<div>\n",
       "<style scoped>\n",
       "    .dataframe tbody tr th:only-of-type {\n",
       "        vertical-align: middle;\n",
       "    }\n",
       "\n",
       "    .dataframe tbody tr th {\n",
       "        vertical-align: top;\n",
       "    }\n",
       "\n",
       "    .dataframe thead th {\n",
       "        text-align: right;\n",
       "    }\n",
       "</style>\n",
       "<table border=\"1\" class=\"dataframe\">\n",
       "  <thead>\n",
       "    <tr style=\"text-align: right;\">\n",
       "      <th></th>\n",
       "      <th>date</th>\n",
       "      <th>open</th>\n",
       "      <th>high</th>\n",
       "      <th>low</th>\n",
       "      <th>close</th>\n",
       "      <th>volume</th>\n",
       "      <th>oi</th>\n",
       "      <th>symbol</th>\n",
       "      <th>date_only</th>\n",
       "      <th>oi_diff</th>\n",
       "      <th>...</th>\n",
       "      <th>perc_change_volume</th>\n",
       "      <th>std_flag</th>\n",
       "      <th>iqr_flag</th>\n",
       "      <th>z_score</th>\n",
       "      <th>z_flag</th>\n",
       "      <th>majority_flag</th>\n",
       "      <th>OL</th>\n",
       "      <th>OH</th>\n",
       "      <th>day_count_high</th>\n",
       "      <th>day_count_low</th>\n",
       "    </tr>\n",
       "  </thead>\n",
       "  <tbody>\n",
       "    <tr>\n",
       "      <th>625</th>\n",
       "      <td>2024-04-12 11:20:00</td>\n",
       "      <td>4840.75</td>\n",
       "      <td>4848.00</td>\n",
       "      <td>4840.00</td>\n",
       "      <td>4841.20</td>\n",
       "      <td>20200</td>\n",
       "      <td>1086600</td>\n",
       "      <td>ALKEM</td>\n",
       "      <td>2024-04-12</td>\n",
       "      <td>6600.0</td>\n",
       "      <td>...</td>\n",
       "      <td>20200</td>\n",
       "      <td>True</td>\n",
       "      <td>True</td>\n",
       "      <td>3.291733</td>\n",
       "      <td>True</td>\n",
       "      <td>True</td>\n",
       "      <td>False</td>\n",
       "      <td>True</td>\n",
       "      <td>0</td>\n",
       "      <td>1</td>\n",
       "    </tr>\n",
       "    <tr>\n",
       "      <th>628</th>\n",
       "      <td>2024-04-12 11:35:00</td>\n",
       "      <td>4837.00</td>\n",
       "      <td>4847.00</td>\n",
       "      <td>4837.00</td>\n",
       "      <td>4838.30</td>\n",
       "      <td>23400</td>\n",
       "      <td>1118400</td>\n",
       "      <td>ALKEM</td>\n",
       "      <td>2024-04-12</td>\n",
       "      <td>14800.0</td>\n",
       "      <td>...</td>\n",
       "      <td>23400</td>\n",
       "      <td>True</td>\n",
       "      <td>True</td>\n",
       "      <td>3.927407</td>\n",
       "      <td>True</td>\n",
       "      <td>True</td>\n",
       "      <td>False</td>\n",
       "      <td>True</td>\n",
       "      <td>0</td>\n",
       "      <td>1</td>\n",
       "    </tr>\n",
       "    <tr>\n",
       "      <th>669</th>\n",
       "      <td>2024-04-12 15:00:00</td>\n",
       "      <td>4767.75</td>\n",
       "      <td>4767.75</td>\n",
       "      <td>4743.45</td>\n",
       "      <td>4750.00</td>\n",
       "      <td>17200</td>\n",
       "      <td>1135000</td>\n",
       "      <td>ALKEM</td>\n",
       "      <td>2024-04-12</td>\n",
       "      <td>200.0</td>\n",
       "      <td>...</td>\n",
       "      <td>17200</td>\n",
       "      <td>True</td>\n",
       "      <td>True</td>\n",
       "      <td>2.695788</td>\n",
       "      <td>True</td>\n",
       "      <td>True</td>\n",
       "      <td>False</td>\n",
       "      <td>True</td>\n",
       "      <td>0</td>\n",
       "      <td>1</td>\n",
       "    </tr>\n",
       "    <tr>\n",
       "      <th>600</th>\n",
       "      <td>2024-04-12 09:15:00</td>\n",
       "      <td>6490.50</td>\n",
       "      <td>6490.50</td>\n",
       "      <td>6437.30</td>\n",
       "      <td>6471.20</td>\n",
       "      <td>29875</td>\n",
       "      <td>1705125</td>\n",
       "      <td>APOLLOHOSP</td>\n",
       "      <td>2024-04-12</td>\n",
       "      <td>-6250.0</td>\n",
       "      <td>...</td>\n",
       "      <td>29875</td>\n",
       "      <td>True</td>\n",
       "      <td>True</td>\n",
       "      <td>4.826337</td>\n",
       "      <td>True</td>\n",
       "      <td>True</td>\n",
       "      <td>False</td>\n",
       "      <td>True</td>\n",
       "      <td>0</td>\n",
       "      <td>1</td>\n",
       "    </tr>\n",
       "    <tr>\n",
       "      <th>601</th>\n",
       "      <td>2024-04-12 09:20:00</td>\n",
       "      <td>6465.95</td>\n",
       "      <td>6465.95</td>\n",
       "      <td>6446.20</td>\n",
       "      <td>6465.65</td>\n",
       "      <td>15500</td>\n",
       "      <td>1711375</td>\n",
       "      <td>APOLLOHOSP</td>\n",
       "      <td>2024-04-12</td>\n",
       "      <td>6250.0</td>\n",
       "      <td>...</td>\n",
       "      <td>15500</td>\n",
       "      <td>True</td>\n",
       "      <td>True</td>\n",
       "      <td>2.002626</td>\n",
       "      <td>True</td>\n",
       "      <td>True</td>\n",
       "      <td>False</td>\n",
       "      <td>True</td>\n",
       "      <td>0</td>\n",
       "      <td>1</td>\n",
       "    </tr>\n",
       "    <tr>\n",
       "      <th>...</th>\n",
       "      <td>...</td>\n",
       "      <td>...</td>\n",
       "      <td>...</td>\n",
       "      <td>...</td>\n",
       "      <td>...</td>\n",
       "      <td>...</td>\n",
       "      <td>...</td>\n",
       "      <td>...</td>\n",
       "      <td>...</td>\n",
       "      <td>...</td>\n",
       "      <td>...</td>\n",
       "      <td>...</td>\n",
       "      <td>...</td>\n",
       "      <td>...</td>\n",
       "      <td>...</td>\n",
       "      <td>...</td>\n",
       "      <td>...</td>\n",
       "      <td>...</td>\n",
       "      <td>...</td>\n",
       "      <td>...</td>\n",
       "      <td>...</td>\n",
       "    </tr>\n",
       "    <tr>\n",
       "      <th>674</th>\n",
       "      <td>2024-04-12 15:25:00</td>\n",
       "      <td>3628.90</td>\n",
       "      <td>3632.00</td>\n",
       "      <td>3626.45</td>\n",
       "      <td>3627.10</td>\n",
       "      <td>82425</td>\n",
       "      <td>5798100</td>\n",
       "      <td>TITAN</td>\n",
       "      <td>2024-04-12</td>\n",
       "      <td>1925.0</td>\n",
       "      <td>...</td>\n",
       "      <td>82425</td>\n",
       "      <td>True</td>\n",
       "      <td>True</td>\n",
       "      <td>3.543100</td>\n",
       "      <td>True</td>\n",
       "      <td>True</td>\n",
       "      <td>False</td>\n",
       "      <td>True</td>\n",
       "      <td>0</td>\n",
       "      <td>1</td>\n",
       "    </tr>\n",
       "    <tr>\n",
       "      <th>600</th>\n",
       "      <td>2024-04-12 09:15:00</td>\n",
       "      <td>1339.05</td>\n",
       "      <td>1339.05</td>\n",
       "      <td>1330.60</td>\n",
       "      <td>1334.45</td>\n",
       "      <td>155400</td>\n",
       "      <td>6912000</td>\n",
       "      <td>VOLTAS</td>\n",
       "      <td>2024-04-12</td>\n",
       "      <td>-524400.0</td>\n",
       "      <td>...</td>\n",
       "      <td>155400</td>\n",
       "      <td>True</td>\n",
       "      <td>True</td>\n",
       "      <td>2.570002</td>\n",
       "      <td>True</td>\n",
       "      <td>True</td>\n",
       "      <td>False</td>\n",
       "      <td>True</td>\n",
       "      <td>0</td>\n",
       "      <td>0</td>\n",
       "    </tr>\n",
       "    <tr>\n",
       "      <th>669</th>\n",
       "      <td>2024-04-12 15:00:00</td>\n",
       "      <td>1320.95</td>\n",
       "      <td>1321.15</td>\n",
       "      <td>1311.20</td>\n",
       "      <td>1315.20</td>\n",
       "      <td>168000</td>\n",
       "      <td>7314600</td>\n",
       "      <td>VOLTAS</td>\n",
       "      <td>2024-04-12</td>\n",
       "      <td>-1200.0</td>\n",
       "      <td>...</td>\n",
       "      <td>168000</td>\n",
       "      <td>True</td>\n",
       "      <td>True</td>\n",
       "      <td>2.867631</td>\n",
       "      <td>True</td>\n",
       "      <td>True</td>\n",
       "      <td>False</td>\n",
       "      <td>True</td>\n",
       "      <td>0</td>\n",
       "      <td>0</td>\n",
       "    </tr>\n",
       "    <tr>\n",
       "      <th>670</th>\n",
       "      <td>2024-04-12 15:05:00</td>\n",
       "      <td>1315.20</td>\n",
       "      <td>1318.05</td>\n",
       "      <td>1312.10</td>\n",
       "      <td>1313.70</td>\n",
       "      <td>153000</td>\n",
       "      <td>7349400</td>\n",
       "      <td>VOLTAS</td>\n",
       "      <td>2024-04-12</td>\n",
       "      <td>34800.0</td>\n",
       "      <td>...</td>\n",
       "      <td>153000</td>\n",
       "      <td>True</td>\n",
       "      <td>True</td>\n",
       "      <td>2.513311</td>\n",
       "      <td>True</td>\n",
       "      <td>True</td>\n",
       "      <td>False</td>\n",
       "      <td>True</td>\n",
       "      <td>0</td>\n",
       "      <td>0</td>\n",
       "    </tr>\n",
       "    <tr>\n",
       "      <th>674</th>\n",
       "      <td>2024-04-12 15:25:00</td>\n",
       "      <td>1313.90</td>\n",
       "      <td>1322.05</td>\n",
       "      <td>1313.60</td>\n",
       "      <td>1322.00</td>\n",
       "      <td>229800</td>\n",
       "      <td>7450800</td>\n",
       "      <td>VOLTAS</td>\n",
       "      <td>2024-04-12</td>\n",
       "      <td>64800.0</td>\n",
       "      <td>...</td>\n",
       "      <td>229800</td>\n",
       "      <td>True</td>\n",
       "      <td>True</td>\n",
       "      <td>4.327429</td>\n",
       "      <td>True</td>\n",
       "      <td>True</td>\n",
       "      <td>False</td>\n",
       "      <td>True</td>\n",
       "      <td>0</td>\n",
       "      <td>0</td>\n",
       "    </tr>\n",
       "  </tbody>\n",
       "</table>\n",
       "<p>85 rows × 24 columns</p>\n",
       "</div>"
      ],
      "text/plain": [
       "                   date     open     high      low    close  volume       oi  \\\n",
       "625 2024-04-12 11:20:00  4840.75  4848.00  4840.00  4841.20   20200  1086600   \n",
       "628 2024-04-12 11:35:00  4837.00  4847.00  4837.00  4838.30   23400  1118400   \n",
       "669 2024-04-12 15:00:00  4767.75  4767.75  4743.45  4750.00   17200  1135000   \n",
       "600 2024-04-12 09:15:00  6490.50  6490.50  6437.30  6471.20   29875  1705125   \n",
       "601 2024-04-12 09:20:00  6465.95  6465.95  6446.20  6465.65   15500  1711375   \n",
       "..                  ...      ...      ...      ...      ...     ...      ...   \n",
       "674 2024-04-12 15:25:00  3628.90  3632.00  3626.45  3627.10   82425  5798100   \n",
       "600 2024-04-12 09:15:00  1339.05  1339.05  1330.60  1334.45  155400  6912000   \n",
       "669 2024-04-12 15:00:00  1320.95  1321.15  1311.20  1315.20  168000  7314600   \n",
       "670 2024-04-12 15:05:00  1315.20  1318.05  1312.10  1313.70  153000  7349400   \n",
       "674 2024-04-12 15:25:00  1313.90  1322.05  1313.60  1322.00  229800  7450800   \n",
       "\n",
       "         symbol  date_only   oi_diff  ...  perc_change_volume  std_flag  \\\n",
       "625       ALKEM 2024-04-12    6600.0  ...               20200      True   \n",
       "628       ALKEM 2024-04-12   14800.0  ...               23400      True   \n",
       "669       ALKEM 2024-04-12     200.0  ...               17200      True   \n",
       "600  APOLLOHOSP 2024-04-12   -6250.0  ...               29875      True   \n",
       "601  APOLLOHOSP 2024-04-12    6250.0  ...               15500      True   \n",
       "..          ...        ...       ...  ...                 ...       ...   \n",
       "674       TITAN 2024-04-12    1925.0  ...               82425      True   \n",
       "600      VOLTAS 2024-04-12 -524400.0  ...              155400      True   \n",
       "669      VOLTAS 2024-04-12   -1200.0  ...              168000      True   \n",
       "670      VOLTAS 2024-04-12   34800.0  ...              153000      True   \n",
       "674      VOLTAS 2024-04-12   64800.0  ...              229800      True   \n",
       "\n",
       "     iqr_flag   z_score  z_flag  majority_flag     OL    OH  day_count_high  \\\n",
       "625      True  3.291733    True           True  False  True               0   \n",
       "628      True  3.927407    True           True  False  True               0   \n",
       "669      True  2.695788    True           True  False  True               0   \n",
       "600      True  4.826337    True           True  False  True               0   \n",
       "601      True  2.002626    True           True  False  True               0   \n",
       "..        ...       ...     ...            ...    ...   ...             ...   \n",
       "674      True  3.543100    True           True  False  True               0   \n",
       "600      True  2.570002    True           True  False  True               0   \n",
       "669      True  2.867631    True           True  False  True               0   \n",
       "670      True  2.513311    True           True  False  True               0   \n",
       "674      True  4.327429    True           True  False  True               0   \n",
       "\n",
       "     day_count_low  \n",
       "625              1  \n",
       "628              1  \n",
       "669              1  \n",
       "600              1  \n",
       "601              1  \n",
       "..             ...  \n",
       "674              1  \n",
       "600              0  \n",
       "669              0  \n",
       "670              0  \n",
       "674              0  \n",
       "\n",
       "[85 rows x 24 columns]"
      ]
     },
     "execution_count": 116,
     "metadata": {},
     "output_type": "execute_result"
    }
   ],
   "source": [
    "df_stock_select.query(\"OH == True\").query(\"majority_flag == True\").query(\"day_count_high == 1\").query(\"day_count_low == 1\").query(\"Market_Action == 'Long Buildup'\")"
   ]
  },
  {
   "cell_type": "code",
   "execution_count": null,
   "metadata": {},
   "outputs": [],
   "source": [
    "# significant_changes = df_titan[df_titan['majority_flag']]\n",
    "# significant_changes = significant_changes[significant_changes['date'].dt.date == pd.to_datetime('2024-04-12').date()]\n",
    "# significant_changes = significant_changes[significant_changes['date'].dt.time.between(pd.to_datetime('09:15').time(), pd.to_datetime('10:00').time())]"
   ]
  },
  {
   "cell_type": "markdown",
   "metadata": {},
   "source": [
    "## stock 9:25"
   ]
  },
  {
   "cell_type": "markdown",
   "metadata": {},
   "source": [
    "1. 9:20 top gainer/ loser (Futures)\n",
    "2. more then 2% move \n",
    "3. nse spurtes OI -> more then 7%\n",
    "4. nifty 10 min candle  -> check \n",
    "\n",
    "5. entry:\n",
    "\t1. 9:25 mark high, if 9:25 high break, enter the trade\n",
    "\t cond:\n",
    "\t\tdont trade if 50% pull back \n",
    "\t\tenter before 10:30 \n",
    "\t\tmonthly expire -> 2 din phale and 2 din bad \n",
    "\t\t\n",
    "\texit:\n",
    "\t1. 2 candle below 8 sma \n",
    "\t\n",
    "other condition\n",
    "1. 9 day high or low \n",
    "2. OL or OH\n",
    "3. day future some good buildup \n",
    "4. prev 3 or 4 day fut\n",
    "5. pcr cutoff for above and below \n",
    "i have observed about PCR if its above 1 then most probably its uptrend \n",
    "and if its below .5 then down trend \n",
    "\n",
    "\n",
    "\n",
    "#can we check the pcr value and do the fundatmental analysis \n"
   ]
  },
  {
   "cell_type": "code",
   "execution_count": 5,
   "metadata": {},
   "outputs": [],
   "source": [
    "# futures some high OI\n",
    "# last few days oi buildup \n",
    "# 9 day high\n",
    "# OL or OH"
   ]
  },
  {
   "cell_type": "code",
   "execution_count": 10,
   "metadata": {},
   "outputs": [],
   "source": [
    "from tqdm import tqdm\n",
    "\n",
    "def fetch_market_data(kite, expiry_march, start_dt, end_dt, time_frame=\"minute\"):\n",
    "    df_expiry_hist_data = pd.DataFrame()\n",
    "    strike_symbol_dict = dict(\n",
    "        zip(expiry_march.instrument_token, expiry_march[\"name\"])\n",
    "    )\n",
    "    inst_expiry = expiry_march[\"instrument_token\"].unique().tolist()\n",
    "    for i in tqdm(inst_expiry):\n",
    "        try:\n",
    "            df = pd.DataFrame(\n",
    "                kite.historical_data(\n",
    "                    i,\n",
    "                    from_date=start_dt,\n",
    "                    to_date=end_dt,\n",
    "                    interval=time_frame,\n",
    "                    continuous=False,\n",
    "                    oi=True,\n",
    "                )\n",
    "            )\n",
    "            df[\"symbol\"] = strike_symbol_dict[i]\n",
    "            df_expiry_hist_data = df_expiry_hist_data.append(df)\n",
    "        except Exception as e:\n",
    "            print(e)\n",
    "            continue\n",
    "    df_expiry_hist_data[\"date\"] = pd.to_datetime(\n",
    "        df_expiry_hist_data[\"date\"]\n",
    "    ).dt.tz_localize(None)\n",
    "    df_expiry_hist_data[\"date_only\"] = pd.to_datetime(\n",
    "        df_expiry_hist_data[\"date\"].dt.date\n",
    "    )\n",
    "    return df_expiry_hist_data"
   ]
  },
  {
   "cell_type": "code",
   "execution_count": 11,
   "metadata": {},
   "outputs": [],
   "source": [
    "# select the stocks list which are in futures only\n",
    "inst = pd.DataFrame(kite.instruments(\"NFO\"))\n",
    "inst_nse = pd.DataFrame(kite.instruments(\"NSE\"))\n",
    "\n",
    "april_fut_inst = inst[inst[\"tradingsymbol\"].str.contains('24JULFUT')]\n"
   ]
  },
  {
   "cell_type": "code",
   "execution_count": 12,
   "metadata": {},
   "outputs": [
    {
     "name": "stderr",
     "output_type": "stream",
     "text": [
      "100%|██████████| 186/186 [00:21<00:00,  8.77it/s]\n",
      "100%|██████████| 186/186 [00:53<00:00,  3.45it/s]\n",
      "100%|██████████| 181/181 [00:21<00:00,  8.54it/s]\n",
      "100%|██████████| 181/181 [00:54<00:00,  3.32it/s]\n"
     ]
    }
   ],
   "source": [
    "\n",
    "start_dt = \"2024-07-01\"\n",
    "end_dt = \"2024-07-25\" \n",
    "time_frame = \"day\"\n",
    "\n",
    "start_dt_td = \"2024-07-01\"\n",
    "end_dt_td = \"2024-07-25\" \n",
    "time_frame_td = \"5minute\"\n",
    "\n",
    "df_day_fut = fetch_market_data(kite,april_fut_inst, start_dt, end_dt,time_frame)\n",
    "df_data_min_fut = fetch_market_data(kite,april_fut_inst, start_dt_td, end_dt_td,time_frame_td)\n",
    "\n",
    "inst_nse = pd.DataFrame(kite.instruments(\"NSE\"))\n",
    "stock_token = inst_nse[inst_nse.tradingsymbol.isin(df_day_fut.symbol.unique())]\n",
    "\n",
    "df_day = fetch_market_data(kite,stock_token, start_dt, end_dt, time_frame)\n",
    "df_data_min = fetch_market_data(kite,stock_token, start_dt_td, end_dt_td,time_frame_td)"
   ]
  },
  {
   "cell_type": "code",
   "execution_count": 13,
   "metadata": {},
   "outputs": [],
   "source": [
    "# getting fut oi % chg at 9:20 \n",
    "list_of_dates_fut = list(df_data_min_fut[\"date_only\"].unique())\n",
    "\n",
    "df_data_min_fut[\"prev_date\"] = df_data_min_fut[\"date_only\"].apply(\n",
    "    lambda x: (\n",
    "        np.nan\n",
    "        if list_of_dates_fut.index(x) == 0\n",
    "        else list_of_dates_fut[list_of_dates_fut.index(x) - 1]\n",
    "    )\n",
    ")\n",
    "\n",
    "df_data_min_fut = df_data_min_fut.merge(\n",
    "    df_day_fut[[\"date_only\", \"symbol\", \"oi\"]],\n",
    "    how=\"left\",\n",
    "    left_on=[\"symbol\", \"prev_date\"],\n",
    "    right_on=[\"symbol\", \"date_only\"],\n",
    "    suffixes=(\"_min\", \"_day\"),\n",
    ")\n",
    "\n",
    "\n",
    "df_data_min_fut[\"per_chg\"] = (\n",
    "    (df_data_min_fut[\"oi_min\"] - df_data_min_fut[\"oi_day\"]) / df_data_min_fut[\"oi_day\"]\n",
    ") * 100\n",
    "\n",
    "df_data_min_fut.set_index(\"date\", inplace=True)\n",
    "df_oi_fut = df_data_min_fut.between_time(\"9:20\",'9:20')#.dropna()\n"
   ]
  },
  {
   "cell_type": "code",
   "execution_count": 14,
   "metadata": {},
   "outputs": [],
   "source": [
    "# getting price % chg at 9:20 \n",
    "list_of_dates = list(df_data_min[\"date_only\"].unique())\n",
    "\n",
    "df_data_min[\"prev_date\"] = df_data_min[\"date_only\"].apply(\n",
    "    lambda x: (\n",
    "        np.nan\n",
    "        if list_of_dates.index(x) == 0\n",
    "        else list_of_dates[list_of_dates.index(x) - 1]\n",
    "    )\n",
    ")\n",
    "\n",
    "df_data_min = df_data_min.merge(\n",
    "    df_day[[\"date_only\", \"symbol\", \"close\"]],\n",
    "    how=\"left\",\n",
    "    left_on=[\"symbol\", \"prev_date\"],\n",
    "    right_on=[\"symbol\", \"date_only\"],\n",
    "    suffixes=(\"_min\", \"_day\"),\n",
    ")\n",
    "\n",
    "df_data_min[\"per_chg\"] = (\n",
    "    (df_data_min[\"close_min\"] - df_data_min[\"close_day\"]) / df_data_min[\"close_day\"]\n",
    ") * 100\n",
    "\n",
    "df_data_min.set_index(\"date\", inplace=True)\n",
    "df_nine_filt = df_data_min.between_time(\"9:20\",'9:20')#.dropna()\n",
    "df_nine_filt.reset_index(inplace=True)\n",
    "df_nine_filt = df_nine_filt.merge(inst_nse[['tradingsymbol','name']], how ='left', left_on = 'symbol',right_on = 'name')\n",
    "df_nine_filt = df_nine_filt.drop(['name','symbol'],axis =1 ).rename(columns= {'tradingsymbol':'symbol'})"
   ]
  },
  {
   "cell_type": "code",
   "execution_count": 15,
   "metadata": {},
   "outputs": [],
   "source": [
    "(\n",
    "    df_nine_filt\n",
    "    .merge(df_oi_fut.reset_index()[['date','symbol','per_chg']],\n",
    "            how = 'left',\n",
    "            on = ['date','symbol'],\n",
    "            suffixes = (\"_price\",\"_oi\")\n",
    "              \n",
    "              )\n",
    "\n",
    ").to_clipboard()"
   ]
  },
  {
   "cell_type": "code",
   "execution_count": 19,
   "metadata": {},
   "outputs": [],
   "source": [
    "df_nine_filt[(df_nine_filt.per_chg > 2 )|( df_nine_filt.per_chg < -2)].to_clipboard()"
   ]
  },
  {
   "cell_type": "markdown",
   "metadata": {},
   "source": []
  },
  {
   "cell_type": "markdown",
   "metadata": {},
   "source": [
    "# demand and supply zone "
   ]
  },
  {
   "cell_type": "code",
   "execution_count": 1,
   "metadata": {},
   "outputs": [],
   "source": [
    "import pandas as pd \n",
    "from tqdm import tqdm\n",
    "%load_ext autoreload\n",
    "%autoreload 2\n",
    "import pandas as pd\n",
    "import numpy as np\n",
    "from kite_trade import *\n",
    "from enctoken import get_kite\n",
    "kite = get_kite()\n",
    "import warnings\n",
    "warnings.filterwarnings(action = 'ignore')\n",
    "from IPython.display import clear_output\n",
    "import datetime\n",
    "pd.options.display.float_format = '{:.2f}'.format\n"
   ]
  },
  {
   "cell_type": "code",
   "execution_count": 2,
   "metadata": {},
   "outputs": [],
   "source": [
    "def fetch_market_data(kite, expiry_march, start_dt, end_dt, time_frame=\"minute\"):\n",
    "    df_expiry_hist_data = pd.DataFrame()\n",
    "    strike_symbol_dict = dict(\n",
    "        zip(expiry_march.instrument_token, expiry_march[\"name\"])\n",
    "    )\n",
    "    inst_expiry = expiry_march[\"instrument_token\"].unique().tolist()\n",
    "    for i in tqdm(inst_expiry):\n",
    "        try:\n",
    "            df = pd.DataFrame(\n",
    "                kite.historical_data(\n",
    "                    i,\n",
    "                    from_date=start_dt,\n",
    "                    to_date=end_dt,\n",
    "                    interval=time_frame,\n",
    "                    continuous=False,\n",
    "                    oi=True,\n",
    "                )\n",
    "            )\n",
    "            df[\"symbol\"] = strike_symbol_dict[i]\n",
    "            df_expiry_hist_data = df_expiry_hist_data.append(df)\n",
    "        except Exception as e:\n",
    "            print(e)\n",
    "            continue\n",
    "    df_expiry_hist_data[\"date\"] = pd.to_datetime(\n",
    "        df_expiry_hist_data[\"date\"]\n",
    "    ).dt.tz_localize(None)\n",
    "    df_expiry_hist_data[\"date_only\"] = pd.to_datetime(\n",
    "        df_expiry_hist_data[\"date\"].dt.date\n",
    "    )\n",
    "    return df_expiry_hist_data"
   ]
  },
  {
   "cell_type": "code",
   "execution_count": 3,
   "metadata": {},
   "outputs": [],
   "source": [
    "df_nse = pd.read_csv(\"../data/ind_nifty500list.csv\")"
   ]
  },
  {
   "cell_type": "code",
   "execution_count": 4,
   "metadata": {},
   "outputs": [
    {
     "data": {
      "text/html": [
       "<div>\n",
       "<style scoped>\n",
       "    .dataframe tbody tr th:only-of-type {\n",
       "        vertical-align: middle;\n",
       "    }\n",
       "\n",
       "    .dataframe tbody tr th {\n",
       "        vertical-align: top;\n",
       "    }\n",
       "\n",
       "    .dataframe thead th {\n",
       "        text-align: right;\n",
       "    }\n",
       "</style>\n",
       "<table border=\"1\" class=\"dataframe\">\n",
       "  <thead>\n",
       "    <tr style=\"text-align: right;\">\n",
       "      <th></th>\n",
       "      <th>Company Name</th>\n",
       "      <th>Industry</th>\n",
       "      <th>Symbol</th>\n",
       "      <th>Series</th>\n",
       "      <th>ISIN Code</th>\n",
       "    </tr>\n",
       "  </thead>\n",
       "  <tbody>\n",
       "    <tr>\n",
       "      <th>0</th>\n",
       "      <td>3M India Ltd.</td>\n",
       "      <td>Diversified</td>\n",
       "      <td>3MINDIA</td>\n",
       "      <td>EQ</td>\n",
       "      <td>INE470A01017</td>\n",
       "    </tr>\n",
       "    <tr>\n",
       "      <th>1</th>\n",
       "      <td>ABB India Ltd.</td>\n",
       "      <td>Capital Goods</td>\n",
       "      <td>ABB</td>\n",
       "      <td>EQ</td>\n",
       "      <td>INE117A01022</td>\n",
       "    </tr>\n",
       "    <tr>\n",
       "      <th>2</th>\n",
       "      <td>ACC Ltd.</td>\n",
       "      <td>Construction Materials</td>\n",
       "      <td>ACC</td>\n",
       "      <td>EQ</td>\n",
       "      <td>INE012A01025</td>\n",
       "    </tr>\n",
       "    <tr>\n",
       "      <th>3</th>\n",
       "      <td>AIA Engineering Ltd.</td>\n",
       "      <td>Capital Goods</td>\n",
       "      <td>AIAENG</td>\n",
       "      <td>EQ</td>\n",
       "      <td>INE212H01026</td>\n",
       "    </tr>\n",
       "    <tr>\n",
       "      <th>4</th>\n",
       "      <td>APL Apollo Tubes Ltd.</td>\n",
       "      <td>Capital Goods</td>\n",
       "      <td>APLAPOLLO</td>\n",
       "      <td>EQ</td>\n",
       "      <td>INE702C01027</td>\n",
       "    </tr>\n",
       "  </tbody>\n",
       "</table>\n",
       "</div>"
      ],
      "text/plain": [
       "            Company Name                Industry     Symbol Series  \\\n",
       "0          3M India Ltd.             Diversified    3MINDIA     EQ   \n",
       "1         ABB India Ltd.           Capital Goods        ABB     EQ   \n",
       "2               ACC Ltd.  Construction Materials        ACC     EQ   \n",
       "3   AIA Engineering Ltd.           Capital Goods     AIAENG     EQ   \n",
       "4  APL Apollo Tubes Ltd.           Capital Goods  APLAPOLLO     EQ   \n",
       "\n",
       "      ISIN Code  \n",
       "0  INE470A01017  \n",
       "1  INE117A01022  \n",
       "2  INE012A01025  \n",
       "3  INE212H01026  \n",
       "4  INE702C01027  "
      ]
     },
     "execution_count": 4,
     "metadata": {},
     "output_type": "execute_result"
    }
   ],
   "source": [
    "df_nse.head()"
   ]
  },
  {
   "cell_type": "code",
   "execution_count": 5,
   "metadata": {},
   "outputs": [],
   "source": [
    "# select the stocks list which are in futures only\n",
    "inst = pd.DataFrame(kite.instruments(\"NFO\"))\n",
    "inst_nse = pd.DataFrame(kite.instruments(\"NSE\"))\n",
    "\n",
    "fut_inst = inst[inst[\"tradingsymbol\"].str.contains('4DECFUT')]"
   ]
  },
  {
   "cell_type": "code",
   "execution_count": 6,
   "metadata": {},
   "outputs": [],
   "source": [
    "top_five_hun = inst_nse[inst_nse.tradingsymbol.isin(df_nse.Symbol.unique())]"
   ]
  },
  {
   "cell_type": "code",
   "execution_count": 7,
   "metadata": {},
   "outputs": [],
   "source": [
    "# start_dt = \"2020-01-01\"\n",
    "# end_dt = \"2024-12-31\" \n",
    "# time_frame = \"day\"\n",
    "\n",
    "# # start_dt_td = \"2024-07-01\"\n",
    "# # end_dt_td = \"2024-07-25\" \n",
    "# # time_frame_td = \"5minute\"\n",
    "\n",
    "\n",
    "# df_day = fetch_market_data(kite,top_five_hun, start_dt, end_dt, time_frame)\n",
    "# # df_data_min = fetch_market_data(kite,stock_token, start_dt_td, end_dt_td,time_frame_td)\n",
    "\n",
    "# df_day.to_parquet(\"../data/day_level_2020_2024_12_31.parquet\")\n",
    "df_day = pd.read_parquet(\"../data/day_level_2020_2024_12_31.parquet\")"
   ]
  },
  {
   "cell_type": "code",
   "execution_count": 120,
   "metadata": {},
   "outputs": [],
   "source": [
    "# df_day[df_day.symbol.str.contains(\"VEDANTA\")]"
   ]
  },
  {
   "cell_type": "code",
   "execution_count": 8,
   "metadata": {},
   "outputs": [],
   "source": [
    "# Assuming 'data' is your dataframe\n",
    "df_day['month'] = df_day['date'].dt.to_period('Q')  # Extract year-month\n",
    "\n",
    "# Aggregate the data at the month level\n",
    "monthly_data = df_day.groupby(['month', 'symbol']).agg(\n",
    "    open=('open', 'first'),\n",
    "    high=('high', 'max'),\n",
    "    low=('low', 'min'),\n",
    "    close=('close', 'last'),\n",
    "    volume=('volume', 'sum'),\n",
    "    oi=('oi', 'sum')\n",
    ").reset_index()\n",
    "\n",
    "# Convert month back to datetime if needed\n",
    "monthly_data['month'] = monthly_data['month'].dt.to_timestamp()\n",
    "\n",
    "# Calculate body size, total size, and body percentage\n",
    "monthly_data['body_size'] = abs(monthly_data['close'] - monthly_data['open'])\n",
    "monthly_data['total_size'] = monthly_data['high'] - monthly_data['low']\n",
    "monthly_data['body_percentage'] = (monthly_data['body_size'] / monthly_data['total_size']) * 100\n",
    "\n",
    "# Classify candles\n",
    "def classify_candle(row):\n",
    "    if row['body_percentage'] < 50:\n",
    "        return 'Base'\n",
    "    elif row['close'] > row['open']:\n",
    "        return 'Rally'\n",
    "    elif row['close'] < row['open']:\n",
    "        return 'Drop'\n",
    "    else:\n",
    "        return 'Unknown'\n",
    "\n",
    "monthly_data['candle_type'] = monthly_data.apply(classify_candle, axis=1)\n",
    "monthly_data['candle_type'] = monthly_data['candle_type'].str.lower()"
   ]
  },
  {
   "cell_type": "code",
   "execution_count": 9,
   "metadata": {},
   "outputs": [],
   "source": [
    "monthly_data['perc_change'] = abs((monthly_data['close'] - monthly_data['open']) / monthly_data['open']) * 100"
   ]
  },
  {
   "cell_type": "code",
   "execution_count": 10,
   "metadata": {},
   "outputs": [
    {
     "data": {
      "text/html": [
       "<div>\n",
       "<style scoped>\n",
       "    .dataframe tbody tr th:only-of-type {\n",
       "        vertical-align: middle;\n",
       "    }\n",
       "\n",
       "    .dataframe tbody tr th {\n",
       "        vertical-align: top;\n",
       "    }\n",
       "\n",
       "    .dataframe thead th {\n",
       "        text-align: right;\n",
       "    }\n",
       "</style>\n",
       "<table border=\"1\" class=\"dataframe\">\n",
       "  <thead>\n",
       "    <tr style=\"text-align: right;\">\n",
       "      <th></th>\n",
       "      <th>month</th>\n",
       "      <th>symbol</th>\n",
       "      <th>open</th>\n",
       "      <th>high</th>\n",
       "      <th>low</th>\n",
       "      <th>close</th>\n",
       "      <th>volume</th>\n",
       "      <th>oi</th>\n",
       "      <th>body_size</th>\n",
       "      <th>total_size</th>\n",
       "      <th>body_percentage</th>\n",
       "      <th>candle_type</th>\n",
       "      <th>perc_change</th>\n",
       "    </tr>\n",
       "  </thead>\n",
       "  <tbody>\n",
       "    <tr>\n",
       "      <th>407</th>\n",
       "      <td>2020-01-01</td>\n",
       "      <td>VEDANTA</td>\n",
       "      <td>110.80</td>\n",
       "      <td>124.10</td>\n",
       "      <td>18.20</td>\n",
       "      <td>22.70</td>\n",
       "      <td>1281930251</td>\n",
       "      <td>0</td>\n",
       "      <td>88.10</td>\n",
       "      <td>105.90</td>\n",
       "      <td>83.19</td>\n",
       "      <td>drop</td>\n",
       "      <td>79.51</td>\n",
       "    </tr>\n",
       "    <tr>\n",
       "      <th>831</th>\n",
       "      <td>2020-04-01</td>\n",
       "      <td>VEDANTA</td>\n",
       "      <td>23.00</td>\n",
       "      <td>71.50</td>\n",
       "      <td>20.20</td>\n",
       "      <td>64.40</td>\n",
       "      <td>2078100869</td>\n",
       "      <td>0</td>\n",
       "      <td>41.40</td>\n",
       "      <td>51.30</td>\n",
       "      <td>80.70</td>\n",
       "      <td>rally</td>\n",
       "      <td>180.00</td>\n",
       "    </tr>\n",
       "    <tr>\n",
       "      <th>1259</th>\n",
       "      <td>2020-07-01</td>\n",
       "      <td>VEDANTA</td>\n",
       "      <td>64.40</td>\n",
       "      <td>99.50</td>\n",
       "      <td>61.65</td>\n",
       "      <td>94.90</td>\n",
       "      <td>1255655310</td>\n",
       "      <td>0</td>\n",
       "      <td>30.50</td>\n",
       "      <td>37.85</td>\n",
       "      <td>80.58</td>\n",
       "      <td>rally</td>\n",
       "      <td>47.36</td>\n",
       "    </tr>\n",
       "    <tr>\n",
       "      <th>1694</th>\n",
       "      <td>2020-10-01</td>\n",
       "      <td>VEDANTA</td>\n",
       "      <td>95.60</td>\n",
       "      <td>128.70</td>\n",
       "      <td>49.20</td>\n",
       "      <td>119.40</td>\n",
       "      <td>2761816951</td>\n",
       "      <td>0</td>\n",
       "      <td>23.80</td>\n",
       "      <td>79.50</td>\n",
       "      <td>29.94</td>\n",
       "      <td>base</td>\n",
       "      <td>24.90</td>\n",
       "    </tr>\n",
       "    <tr>\n",
       "      <th>2140</th>\n",
       "      <td>2021-01-01</td>\n",
       "      <td>VEDANTA</td>\n",
       "      <td>119.80</td>\n",
       "      <td>189.70</td>\n",
       "      <td>118.00</td>\n",
       "      <td>186.75</td>\n",
       "      <td>1137807120</td>\n",
       "      <td>0</td>\n",
       "      <td>66.95</td>\n",
       "      <td>71.70</td>\n",
       "      <td>93.38</td>\n",
       "      <td>rally</td>\n",
       "      <td>55.88</td>\n",
       "    </tr>\n",
       "  </tbody>\n",
       "</table>\n",
       "</div>"
      ],
      "text/plain": [
       "          month   symbol   open   high    low  close      volume  oi  \\\n",
       "407  2020-01-01  VEDANTA 110.80 124.10  18.20  22.70  1281930251   0   \n",
       "831  2020-04-01  VEDANTA  23.00  71.50  20.20  64.40  2078100869   0   \n",
       "1259 2020-07-01  VEDANTA  64.40  99.50  61.65  94.90  1255655310   0   \n",
       "1694 2020-10-01  VEDANTA  95.60 128.70  49.20 119.40  2761816951   0   \n",
       "2140 2021-01-01  VEDANTA 119.80 189.70 118.00 186.75  1137807120   0   \n",
       "\n",
       "      body_size  total_size  body_percentage candle_type  perc_change  \n",
       "407       88.10      105.90            83.19        drop        79.51  \n",
       "831       41.40       51.30            80.70       rally       180.00  \n",
       "1259      30.50       37.85            80.58       rally        47.36  \n",
       "1694      23.80       79.50            29.94        base        24.90  \n",
       "2140      66.95       71.70            93.38       rally        55.88  "
      ]
     },
     "execution_count": 10,
     "metadata": {},
     "output_type": "execute_result"
    }
   ],
   "source": [
    "monthly_data[monthly_data.symbol.str.contains(\"VEDANTA\")].head()"
   ]
  },
  {
   "cell_type": "markdown",
   "metadata": {},
   "source": [
    "## pattern detect"
   ]
  },
  {
   "cell_type": "markdown",
   "metadata": {},
   "source": [
    "1. remove the tested zone condition \n",
    "2. use base candle to check if the price is in range\n",
    "3. add multiple base candle support "
   ]
  },
  {
   "cell_type": "code",
   "execution_count": 124,
   "metadata": {},
   "outputs": [],
   "source": [
    "# I have a dataframe which contains month\t symbol\topen\thigh\tlow\tclose\tvolume\toi\tbody_size\ttotal_size\tbody_percentage\tcandle_type\n",
    "\n",
    "# and candle type is mark as  rally, base , drop, \n",
    "\n",
    "# Now i want to find those pattern which are \n",
    "# 1. drop base drop  as SZ\n",
    "# 2. drop base rally as DZ\n",
    "# 3. rally base rally as DZ\n",
    "# 4. rally base drop as SZ\n",
    "\n",
    "\n",
    "# Conditions:\n",
    "# 1. Base candle can be 1 to 3 \n",
    "# 2. Also flag those which zone are already tested, tested means price already came to the base candle \n",
    "# 3. Exiting candle should have condition that it should close above for green and below base candle \n",
    "# for red \n",
    "\n",
    "# i want to save months which create these pattern \n",
    "\n",
    "# skipping pattern which has alrady candle foramtion  - done \n",
    "\n",
    "# even if the candle is 50% body still the size is small as compared to neighbour candle -> mark those zone also"
   ]
  },
  {
   "cell_type": "markdown",
   "metadata": {},
   "source": [
    "## code 0"
   ]
  },
  {
   "cell_type": "code",
   "execution_count": 11,
   "metadata": {},
   "outputs": [],
   "source": [
    "\n",
    "def find_supply_demand_zones(df):\n",
    "    \"\"\"\n",
    "    Scans through the DataFrame and identifies the following patterns:\n",
    "      1. drop-base-drop  -> SZ\n",
    "      2. drop-base-rally -> DZ\n",
    "      3. rally-base-rally -> DZ\n",
    "      4. rally-base-drop  -> SZ\n",
    "    \n",
    "    Returns a list of dictionaries with information about each found zone:\n",
    "      - pattern_type: 'SZ' or 'DZ'\n",
    "      - pattern_seq: e.g. 'drop-base-drop'\n",
    "      - start_idx, end_idx: indices where pattern occurs\n",
    "      - months: list of unique months across those candles\n",
    "      - base_high, base_low: the high/low of the base region\n",
    "      - tested: whether price has revisited the base\n",
    "    \"\"\"\n",
    "    zones = []\n",
    "    n = len(df)\n",
    "    \n",
    "    # Helper function to get the overall High/Low of the base region\n",
    "    def get_base_high_low(df_slice):\n",
    "        \"\"\"\n",
    "        Given a subset of rows that are 'base' candles,\n",
    "        returns (max_high, min_low) across those base candles.\n",
    "        \"\"\"\n",
    "        return df_slice['high'].max(), df_slice['low'].min()\n",
    "    \n",
    "    i = 0\n",
    "    while i < n:\n",
    "        first_candle_type = df.loc[i, 'candle_type']\n",
    "        \n",
    "        # We only proceed if the first candle is drop/rally\n",
    "        if first_candle_type in ['drop','rally']:\n",
    "            \n",
    "            # Try 1 to 3 base candles\n",
    "            for base_count in [1,2,3]:\n",
    "                if i + 1 + base_count >= n:\n",
    "                    break  # Not enough candles left to form a pattern\n",
    "                \n",
    "                # Slice out the potential base candles\n",
    "                base_slice = df.iloc[i+1 : i+1+base_count]\n",
    "                \n",
    "                # Check if they're all 'base'\n",
    "                if all(base_slice['candle_type'] == 'base'):\n",
    "                    exit_idx = i + 1 + base_count\n",
    "                    if exit_idx < n:\n",
    "                        last_candle_type = df.loc[exit_idx, 'candle_type']\n",
    "                        \n",
    "                        # Combine them to see if we match one of the 4 patterns\n",
    "                        possible_pattern = first_candle_type + '-base-' + last_candle_type\n",
    "                        if possible_pattern in [\n",
    "                            'drop-base-drop', \n",
    "                            'drop-base-rally', \n",
    "                            'rally-base-rally', \n",
    "                            'rally-base-drop'\n",
    "                        ]:\n",
    "                            # Check exit candle conditions\n",
    "                            base_high, base_low = get_base_high_low(base_slice)\n",
    "                            exit_close = df.loc[exit_idx, 'close']\n",
    "                            \n",
    "                            meets_exit_condition = False\n",
    "                            if last_candle_type == 'rally':\n",
    "                                # Must close > base_high\n",
    "                                if exit_close > base_high:\n",
    "                                    meets_exit_condition = True\n",
    "                            elif last_candle_type == 'drop':\n",
    "                                # Must close < base_low\n",
    "                                if exit_close < base_low:\n",
    "                                    meets_exit_condition = True\n",
    "                            \n",
    "                            if meets_exit_condition:\n",
    "                                # Map pattern to zone type\n",
    "                                #  'drop-base-drop'  -> SZ\n",
    "                                #  'rally-base-drop' -> SZ\n",
    "                                #  'drop-base-rally' -> DZ\n",
    "                                #  'rally-base-rally'-> DZ\n",
    "                                if possible_pattern in ['drop-base-drop', 'rally-base-drop']:\n",
    "                                    zone_type = 'SZ'\n",
    "                                else:\n",
    "                                    zone_type = 'DZ'\n",
    "                                \n",
    "                                # Pattern found! Check if zone is tested after exit_idx\n",
    "                                tested = is_zone_tested(df, exit_idx, base_high, base_low)\n",
    "                                \n",
    "                                # Gather months for the pattern range\n",
    "                                pattern_start_idx = i\n",
    "                                pattern_end_idx   = exit_idx\n",
    "                                months_in_pattern = df.loc[pattern_start_idx:pattern_end_idx, 'month'].unique()\n",
    "                                \n",
    "                                zones.append({\n",
    "                                    'pattern_type': zone_type,\n",
    "                                    'pattern_seq': possible_pattern,\n",
    "                                    'start_idx': pattern_start_idx,\n",
    "                                    'end_idx': pattern_end_idx,\n",
    "                                    'months': list(months_in_pattern),\n",
    "                                    'base_high': base_high,\n",
    "                                    'base_low': base_low,\n",
    "                                    'tested': tested\n",
    "                                })\n",
    "        \n",
    "        # IMPORTANT: We only move forward by 1 (so that the exit candle can be re-used)\n",
    "        i += 1\n",
    "    \n",
    "    return zones\n",
    "\n",
    "def is_zone_tested(df, pattern_end_idx, base_low, base_high):\n",
    "    \"\"\"\n",
    "    Returns True if, AFTER 'pattern_end_idx', any candle's price range\n",
    "    touches the [base_low, base_high] region.\n",
    "\n",
    "    This strictly ignores the candles that formed the zone itself,\n",
    "    meaning we only start checking from 'pattern_end_idx + 1'.\n",
    "    \"\"\"\n",
    "    if pattern_end_idx >= len(df) - 1:\n",
    "        return False  # no future candles to test\n",
    "    \n",
    "    # Look only at candles after the zone's exit candle\n",
    "    future_slice = df.iloc[pattern_end_idx+1:]\n",
    "    \n",
    "    for idx, row in future_slice.iterrows():\n",
    "        # If the candle's range intersects the base range,\n",
    "        # we consider the zone tested.\n",
    "        if (row['low'] <= base_high) and (row['high'] >= base_low):\n",
    "            return True\n",
    "    \n",
    "    return False"
   ]
  },
  {
   "cell_type": "markdown",
   "metadata": {},
   "source": [
    "# main"
   ]
  },
  {
   "cell_type": "code",
   "execution_count": 12,
   "metadata": {},
   "outputs": [
    {
     "name": "stderr",
     "output_type": "stream",
     "text": [
      "100%|██████████| 477/477 [00:02<00:00, 183.58it/s]\n"
     ]
    }
   ],
   "source": [
    "pattern_matches_all = pd.DataFrame()\n",
    "for sym in tqdm(monthly_data.symbol.unique()):\n",
    "# Apply the function\n",
    "    # if sym == 'ABB INDIA':\n",
    "        # print(sym)\n",
    "        df_temp = monthly_data[monthly_data.symbol == sym].reset_index()\n",
    "        # print(df_temp.shape)\n",
    "        pattern_matches = find_supply_demand_zones(df_temp)\n",
    "        pattern_matches = pd.DataFrame(pattern_matches)\n",
    "        pattern_matches['symbol'] = sym\n",
    "        pattern_matches_all = pd.concat([pattern_matches_all,pattern_matches])\n",
    "\n",
    "pattern_matches = pd.concat([pattern_matches_all,pattern_matches_all.months.apply(pd.Series)],axis = 1)\n"
   ]
  },
  {
   "cell_type": "code",
   "execution_count": 13,
   "metadata": {},
   "outputs": [
    {
     "data": {
      "text/html": [
       "<div>\n",
       "<style scoped>\n",
       "    .dataframe tbody tr th:only-of-type {\n",
       "        vertical-align: middle;\n",
       "    }\n",
       "\n",
       "    .dataframe tbody tr th {\n",
       "        vertical-align: top;\n",
       "    }\n",
       "\n",
       "    .dataframe thead th {\n",
       "        text-align: right;\n",
       "    }\n",
       "</style>\n",
       "<table border=\"1\" class=\"dataframe\">\n",
       "  <thead>\n",
       "    <tr style=\"text-align: right;\">\n",
       "      <th></th>\n",
       "      <th>index</th>\n",
       "      <th>month</th>\n",
       "      <th>symbol</th>\n",
       "      <th>open</th>\n",
       "      <th>high</th>\n",
       "      <th>low</th>\n",
       "      <th>close</th>\n",
       "      <th>volume</th>\n",
       "      <th>oi</th>\n",
       "      <th>body_size</th>\n",
       "      <th>total_size</th>\n",
       "      <th>body_percentage</th>\n",
       "      <th>candle_type</th>\n",
       "      <th>perc_change</th>\n",
       "    </tr>\n",
       "  </thead>\n",
       "  <tbody>\n",
       "    <tr>\n",
       "      <th>0</th>\n",
       "      <td>4355</td>\n",
       "      <td>2022-04-01</td>\n",
       "      <td>RAINBOW CHILDRENS MED</td>\n",
       "      <td>510.00</td>\n",
       "      <td>517.90</td>\n",
       "      <td>410.00</td>\n",
       "      <td>465.95</td>\n",
       "      <td>35891863</td>\n",
       "      <td>0</td>\n",
       "      <td>44.05</td>\n",
       "      <td>107.90</td>\n",
       "      <td>40.82</td>\n",
       "      <td>base</td>\n",
       "      <td>8.64</td>\n",
       "    </tr>\n",
       "    <tr>\n",
       "      <th>1</th>\n",
       "      <td>4832</td>\n",
       "      <td>2022-07-01</td>\n",
       "      <td>RAINBOW CHILDRENS MED</td>\n",
       "      <td>465.95</td>\n",
       "      <td>672.00</td>\n",
       "      <td>457.15</td>\n",
       "      <td>630.85</td>\n",
       "      <td>16994571</td>\n",
       "      <td>0</td>\n",
       "      <td>164.90</td>\n",
       "      <td>214.85</td>\n",
       "      <td>76.75</td>\n",
       "      <td>rally</td>\n",
       "      <td>35.39</td>\n",
       "    </tr>\n",
       "    <tr>\n",
       "      <th>2</th>\n",
       "      <td>5309</td>\n",
       "      <td>2022-10-01</td>\n",
       "      <td>RAINBOW CHILDRENS MED</td>\n",
       "      <td>630.00</td>\n",
       "      <td>886.45</td>\n",
       "      <td>619.65</td>\n",
       "      <td>739.20</td>\n",
       "      <td>36436607</td>\n",
       "      <td>0</td>\n",
       "      <td>109.20</td>\n",
       "      <td>266.80</td>\n",
       "      <td>40.93</td>\n",
       "      <td>base</td>\n",
       "      <td>17.33</td>\n",
       "    </tr>\n",
       "    <tr>\n",
       "      <th>3</th>\n",
       "      <td>5786</td>\n",
       "      <td>2023-01-01</td>\n",
       "      <td>RAINBOW CHILDRENS MED</td>\n",
       "      <td>748.90</td>\n",
       "      <td>793.95</td>\n",
       "      <td>695.70</td>\n",
       "      <td>730.50</td>\n",
       "      <td>7927679</td>\n",
       "      <td>0</td>\n",
       "      <td>18.40</td>\n",
       "      <td>98.25</td>\n",
       "      <td>18.73</td>\n",
       "      <td>base</td>\n",
       "      <td>2.46</td>\n",
       "    </tr>\n",
       "    <tr>\n",
       "      <th>4</th>\n",
       "      <td>6263</td>\n",
       "      <td>2023-04-01</td>\n",
       "      <td>RAINBOW CHILDRENS MED</td>\n",
       "      <td>730.45</td>\n",
       "      <td>1008.30</td>\n",
       "      <td>725.00</td>\n",
       "      <td>961.10</td>\n",
       "      <td>12332450</td>\n",
       "      <td>0</td>\n",
       "      <td>230.65</td>\n",
       "      <td>283.30</td>\n",
       "      <td>81.42</td>\n",
       "      <td>rally</td>\n",
       "      <td>31.58</td>\n",
       "    </tr>\n",
       "    <tr>\n",
       "      <th>5</th>\n",
       "      <td>6740</td>\n",
       "      <td>2023-07-01</td>\n",
       "      <td>RAINBOW CHILDRENS MED</td>\n",
       "      <td>969.90</td>\n",
       "      <td>1184.60</td>\n",
       "      <td>941.25</td>\n",
       "      <td>1028.35</td>\n",
       "      <td>20408524</td>\n",
       "      <td>0</td>\n",
       "      <td>58.45</td>\n",
       "      <td>243.35</td>\n",
       "      <td>24.02</td>\n",
       "      <td>base</td>\n",
       "      <td>6.03</td>\n",
       "    </tr>\n",
       "    <tr>\n",
       "      <th>6</th>\n",
       "      <td>7217</td>\n",
       "      <td>2023-10-01</td>\n",
       "      <td>RAINBOW CHILDRENS MED</td>\n",
       "      <td>1036.60</td>\n",
       "      <td>1215.90</td>\n",
       "      <td>992.95</td>\n",
       "      <td>1193.05</td>\n",
       "      <td>13330028</td>\n",
       "      <td>0</td>\n",
       "      <td>156.45</td>\n",
       "      <td>222.95</td>\n",
       "      <td>70.17</td>\n",
       "      <td>rally</td>\n",
       "      <td>15.09</td>\n",
       "    </tr>\n",
       "    <tr>\n",
       "      <th>7</th>\n",
       "      <td>7694</td>\n",
       "      <td>2024-01-01</td>\n",
       "      <td>RAINBOW CHILDRENS MED</td>\n",
       "      <td>1200.40</td>\n",
       "      <td>1487.65</td>\n",
       "      <td>1091.00</td>\n",
       "      <td>1297.55</td>\n",
       "      <td>15953987</td>\n",
       "      <td>0</td>\n",
       "      <td>97.15</td>\n",
       "      <td>396.65</td>\n",
       "      <td>24.49</td>\n",
       "      <td>base</td>\n",
       "      <td>8.09</td>\n",
       "    </tr>\n",
       "    <tr>\n",
       "      <th>8</th>\n",
       "      <td>8171</td>\n",
       "      <td>2024-04-01</td>\n",
       "      <td>RAINBOW CHILDRENS MED</td>\n",
       "      <td>1310.00</td>\n",
       "      <td>1649.00</td>\n",
       "      <td>1204.00</td>\n",
       "      <td>1245.85</td>\n",
       "      <td>13201214</td>\n",
       "      <td>0</td>\n",
       "      <td>64.15</td>\n",
       "      <td>445.00</td>\n",
       "      <td>14.42</td>\n",
       "      <td>base</td>\n",
       "      <td>4.90</td>\n",
       "    </tr>\n",
       "    <tr>\n",
       "      <th>9</th>\n",
       "      <td>8648</td>\n",
       "      <td>2024-07-01</td>\n",
       "      <td>RAINBOW CHILDRENS MED</td>\n",
       "      <td>1255.00</td>\n",
       "      <td>1518.70</td>\n",
       "      <td>1079.10</td>\n",
       "      <td>1399.85</td>\n",
       "      <td>16152922</td>\n",
       "      <td>0</td>\n",
       "      <td>144.85</td>\n",
       "      <td>439.60</td>\n",
       "      <td>32.95</td>\n",
       "      <td>base</td>\n",
       "      <td>11.54</td>\n",
       "    </tr>\n",
       "    <tr>\n",
       "      <th>10</th>\n",
       "      <td>9125</td>\n",
       "      <td>2024-10-01</td>\n",
       "      <td>RAINBOW CHILDRENS MED</td>\n",
       "      <td>1393.00</td>\n",
       "      <td>1709.60</td>\n",
       "      <td>1335.00</td>\n",
       "      <td>1499.55</td>\n",
       "      <td>15562121</td>\n",
       "      <td>0</td>\n",
       "      <td>106.55</td>\n",
       "      <td>374.60</td>\n",
       "      <td>28.44</td>\n",
       "      <td>base</td>\n",
       "      <td>7.65</td>\n",
       "    </tr>\n",
       "  </tbody>\n",
       "</table>\n",
       "</div>"
      ],
      "text/plain": [
       "    index      month                 symbol    open    high     low   close  \\\n",
       "0    4355 2022-04-01  RAINBOW CHILDRENS MED  510.00  517.90  410.00  465.95   \n",
       "1    4832 2022-07-01  RAINBOW CHILDRENS MED  465.95  672.00  457.15  630.85   \n",
       "2    5309 2022-10-01  RAINBOW CHILDRENS MED  630.00  886.45  619.65  739.20   \n",
       "3    5786 2023-01-01  RAINBOW CHILDRENS MED  748.90  793.95  695.70  730.50   \n",
       "4    6263 2023-04-01  RAINBOW CHILDRENS MED  730.45 1008.30  725.00  961.10   \n",
       "5    6740 2023-07-01  RAINBOW CHILDRENS MED  969.90 1184.60  941.25 1028.35   \n",
       "6    7217 2023-10-01  RAINBOW CHILDRENS MED 1036.60 1215.90  992.95 1193.05   \n",
       "7    7694 2024-01-01  RAINBOW CHILDRENS MED 1200.40 1487.65 1091.00 1297.55   \n",
       "8    8171 2024-04-01  RAINBOW CHILDRENS MED 1310.00 1649.00 1204.00 1245.85   \n",
       "9    8648 2024-07-01  RAINBOW CHILDRENS MED 1255.00 1518.70 1079.10 1399.85   \n",
       "10   9125 2024-10-01  RAINBOW CHILDRENS MED 1393.00 1709.60 1335.00 1499.55   \n",
       "\n",
       "      volume  oi  body_size  total_size  body_percentage candle_type  \\\n",
       "0   35891863   0      44.05      107.90            40.82        base   \n",
       "1   16994571   0     164.90      214.85            76.75       rally   \n",
       "2   36436607   0     109.20      266.80            40.93        base   \n",
       "3    7927679   0      18.40       98.25            18.73        base   \n",
       "4   12332450   0     230.65      283.30            81.42       rally   \n",
       "5   20408524   0      58.45      243.35            24.02        base   \n",
       "6   13330028   0     156.45      222.95            70.17       rally   \n",
       "7   15953987   0      97.15      396.65            24.49        base   \n",
       "8   13201214   0      64.15      445.00            14.42        base   \n",
       "9   16152922   0     144.85      439.60            32.95        base   \n",
       "10  15562121   0     106.55      374.60            28.44        base   \n",
       "\n",
       "    perc_change  \n",
       "0          8.64  \n",
       "1         35.39  \n",
       "2         17.33  \n",
       "3          2.46  \n",
       "4         31.58  \n",
       "5          6.03  \n",
       "6         15.09  \n",
       "7          8.09  \n",
       "8          4.90  \n",
       "9         11.54  \n",
       "10         7.65  "
      ]
     },
     "execution_count": 13,
     "metadata": {},
     "output_type": "execute_result"
    }
   ],
   "source": [
    "df_temp"
   ]
  },
  {
   "cell_type": "code",
   "execution_count": 14,
   "metadata": {},
   "outputs": [],
   "source": [
    "pattern_matches.to_clipboard(index = False)"
   ]
  },
  {
   "cell_type": "markdown",
   "metadata": {},
   "source": [
    "### code 1"
   ]
  },
  {
   "cell_type": "code",
   "execution_count": 111,
   "metadata": {},
   "outputs": [],
   "source": [
    "def detect_patterns(group):\n",
    "    # Create shifted columns to form patterns\n",
    "    group['prev_1'] = group['candle_type'].shift(1)\n",
    "    group['prev_2'] = group['candle_type'].shift(2)\n",
    "\n",
    "    group['prev_date_1'] = group['month'].shift(1)\n",
    "    group['prev_date_2'] = group['month'].shift(2)\n",
    "    \n",
    "    # Combine the previous two rows with the current row into a pattern\n",
    "    group['pattern'] = (\n",
    "        group['prev_2'] + ' ' +\n",
    "        group['prev_1'] + ' ' +\n",
    "        group['candle_type']\n",
    "    )\n",
    "    \n",
    "    # Define patterns to search\n",
    "    patterns = {\n",
    "        'drop-base-drop': 'Drop Base Drop',\n",
    "        'drop-base-rally': 'Drop Base Rally',\n",
    "        'rally-base-drop': 'Rally Base Drop',\n",
    "        'rally-base-rally': 'Rally Base Rally'\n",
    "    }\n",
    "    \n",
    "    # Map detected patterns to their names\n",
    "    group['pattern_type'] = group['pattern'].map({v: k for k, v in patterns.items()})\n",
    "    \n",
    "    # Drop rows where patterns cannot be formed\n",
    "    group = group.dropna(subset=['pattern_type'])\n",
    "    \n",
    "    return group\n",
    "\n",
    "# Apply the function to each symbol group\n",
    "pattern_matches = monthly_data.groupby('symbol', group_keys=False).apply(detect_patterns)"
   ]
  },
  {
   "cell_type": "markdown",
   "metadata": {},
   "source": [
    "### code 2"
   ]
  },
  {
   "cell_type": "code",
   "execution_count": 114,
   "metadata": {},
   "outputs": [
    {
     "name": "stderr",
     "output_type": "stream",
     "text": [
      "100%|██████████| 477/477 [00:00<00:00, 1505404.82it/s]"
     ]
    },
    {
     "name": "stderr",
     "output_type": "stream",
     "text": [
      "\n"
     ]
    }
   ],
   "source": [
    "# Function to find patterns\n",
    "def find_patterns(df):\n",
    "    patterns = []\n",
    "    tested_zones = []\n",
    "\n",
    "    for i in range(len(df) - 2):\n",
    "        # Check for the specific pattern\n",
    "        if (\n",
    "            df.loc[i, \"candle_type\"] in [\"drop\", \"rally\"]\n",
    "            and df.loc[i + 1, \"candle_type\"] == \"base\"\n",
    "            and df.loc[i + 2, \"candle_type\"] in [\"drop\", \"rally\"]\n",
    "        ):\n",
    "            patterns.append((i, i + 1, i + 2))  # Save pattern indices\n",
    "\n",
    "            # Check if zone is tested\n",
    "            base_low = df.loc[i + 1, \"low\"]\n",
    "            base_high = df.loc[i + 1, \"high\"]\n",
    "            tested = any(\n",
    "                (base_low <= df.loc[j, \"low\"] <= base_high)\n",
    "                or (base_low <= df.loc[j, \"high\"] <= base_high)\n",
    "                for j in range(i + 3, len(df))\n",
    "            )\n",
    "            if tested == False:\n",
    "                print(df.loc[i,:],df.loc[i+1,:],df.loc[i+2,:])\n",
    "                print()\n",
    "                print()\n",
    "            tested_zones.append(tested)\n",
    "\n",
    "    return patterns, tested_zones\n",
    "\n",
    "\n",
    "monthly_data['candle_type'] = monthly_data['candle_type'].str.lower()\n",
    "df_pattern_matches = pd.DataFrame()\n",
    "for sym in tqdm(monthly_data.symbol.unique()):\n",
    "# Apply the function\n",
    "    if sym == 'SUNTV':\n",
    "        df_temp = monthly_data[monthly_data.symbol == sym].reset_index()\n",
    "        patterns, tested_zones = find_patterns(df_temp)\n",
    "\n",
    "        # Flag the patterns and tested zones in the dataframe\n",
    "        df_temp[\"pattern_flag\"] = \"\"\n",
    "        df_temp[\"tested_zone\"] = False\n",
    "\n",
    "        for idx, pattern in enumerate(patterns):\n",
    "            p_start, base_idx, p_end = pattern\n",
    "            pattern_type = f\"{df_temp.loc[p_start, 'candle_type']}-base-{df_temp.loc[p_end, 'candle_type']}\"\n",
    "            df_temp.loc[[p_start, base_idx, p_end], \"pattern_flag\"] = pattern_type\n",
    "            df_temp.loc[base_idx, \"tested_zone\"] = tested_zones[idx]\n",
    "        df_pattern_matches = pd.concat([df_pattern_matches, df_temp],ignore_index=True)\n",
    "    # break"
   ]
  },
  {
   "cell_type": "code",
   "execution_count": 91,
   "metadata": {},
   "outputs": [],
   "source": [
    "pattern_matches = df_pattern_matches.query(\"pattern_flag != '' and tested_zone == False\")"
   ]
  },
  {
   "cell_type": "markdown",
   "metadata": {},
   "source": [
    "## code 3"
   ]
  },
  {
   "cell_type": "code",
   "execution_count": 69,
   "metadata": {},
   "outputs": [],
   "source": [
    "import pandas as pd\n",
    "\n",
    "# ------------------------------------------------------------\n",
    "# 1) Helper function to check if the exit candle is valid\n",
    "# ------------------------------------------------------------\n",
    "def is_valid_exit_candle(candle, exit_type, base_candles):\n",
    "    \"\"\"\n",
    "    Checks if 'candle' (a row from the DataFrame) is a valid exit candle \n",
    "    given 'exit_type' ('rally' or 'drop') and the 'base_candles' (DataFrame slice).\n",
    "    \n",
    "    Conditions:\n",
    "      - For 'rally': close > max_base_high AND body_size > 1.5 * avg_base_body\n",
    "      - For 'drop':  close < min_base_low  AND body_size > 1.5 * avg_base_body\n",
    "    \"\"\"\n",
    "    max_base_high = base_candles['high'].max()\n",
    "    min_base_low  = base_candles['low'].min()\n",
    "    avg_base_body = base_candles['body_size'].mean()\n",
    "\n",
    "    if exit_type == 'rally':\n",
    "        cond1 = candle['close'] > max_base_high\n",
    "        cond2 = candle['body_size'] > 1.5 * avg_base_body\n",
    "        return cond1 and cond2\n",
    "\n",
    "    elif exit_type == 'drop':\n",
    "        cond1 = candle['close'] < min_base_low\n",
    "        cond2 = candle['body_size'] > 1.5 * avg_base_body\n",
    "        return cond1 and cond2\n",
    "\n",
    "    return False\n",
    "\n",
    "\n",
    "# ------------------------------------------------------------\n",
    "# 2) Helper function to check if a zone is already tested\n",
    "# ------------------------------------------------------------\n",
    "def is_zone_tested(df, start_idx, base_zone_low, base_zone_high, is_demand=True):\n",
    "    \"\"\"\n",
    "    Checks if the zone [base_zone_low, base_zone_high] is already tested \n",
    "    by any candle from 'start_idx' onward in the DataFrame 'df'.\n",
    "    \n",
    "    - If is_demand=True (like 'drop base rally' or 'rally base rally'), \n",
    "      then we check if any candle's low has entered this zone.\n",
    "    - If is_demand=False (like 'rally base drop' or 'drop base drop'), \n",
    "      then we check if any candle's high has entered this zone.\n",
    "    \"\"\"\n",
    "    for j in range(start_idx, len(df)):\n",
    "        if is_demand:\n",
    "            # For a demand zone: if the candle's low is within [low, high], it's tested\n",
    "            if base_zone_low <= df.iloc[j]['low'] <= base_zone_high:\n",
    "                return True\n",
    "        else:\n",
    "            # For a supply zone: if the candle's high is within [low, high], it's tested\n",
    "            if base_zone_low <= df.iloc[j]['high'] <= base_zone_high:\n",
    "                return True\n",
    "    return False\n",
    "\n",
    "\n",
    "# ------------------------------------------------------------\n",
    "# 3) Main function to find supply/demand patterns in the DataFrame\n",
    "# ------------------------------------------------------------\n",
    "def find_supply_demand_patterns(df):\n",
    "    \"\"\"\n",
    "    Scans the DataFrame 'df' to find these patterns:\n",
    "      1) drop base drop\n",
    "      2) drop base rally\n",
    "      3) rally base drop\n",
    "      4) rally base rally\n",
    "\n",
    "    Rules:\n",
    "      - 'base' can be 1-3 consecutive candles labeled as 'base'.\n",
    "      - The exit candle must:\n",
    "          - close above the base's highest high (for rally) or below the base's lowest low (for drop)\n",
    "          - have a body_size > 1.5 x average body_size of base candles\n",
    "      - A zone is flagged as 'tested' if subsequent candles come back into the base range:\n",
    "          - For demand zones (e.g. drop base rally, rally base rally): check candle low\n",
    "          - For supply zones (e.g. rally base drop, drop base drop): check candle high\n",
    "\n",
    "    Returns a DataFrame with found patterns and additional info.\n",
    "    \"\"\"\n",
    "\n",
    "    patterns = []\n",
    "    n = len(df)\n",
    "    i = 0\n",
    "\n",
    "    while i < n - 1:\n",
    "        first_candle_type = df.iloc[i]['candle_type']\n",
    "\n",
    "        # We only look for 'drop' or 'rally' as the first candle in the pattern\n",
    "        if first_candle_type not in ['drop', 'rally']:\n",
    "            i += 1\n",
    "            continue\n",
    "\n",
    "        # Try to find 1-3 consecutive base candles after the first candle\n",
    "        base_start = i + 1\n",
    "        base_end_candidates = []\n",
    "\n",
    "        for base_count in [1, 2, 3]:\n",
    "            # If slicing goes out of range, break\n",
    "            if base_start + base_count - 1 >= n:\n",
    "                break\n",
    "            # Slicing these 'base_count' candles\n",
    "            potential_base = df.iloc[base_start : base_start + base_count]\n",
    "            # Check if they are all 'base'\n",
    "            if all(potential_base['candle_type'] == 'base'):\n",
    "                # This is a valid base block\n",
    "                base_end_candidates.append(base_start + base_count - 1)\n",
    "\n",
    "        # For each valid base block, check the next candle (exit candle)\n",
    "        for base_end in base_end_candidates:\n",
    "            exit_idx = base_end + 1\n",
    "            if exit_idx >= n:\n",
    "                break\n",
    "\n",
    "            exit_candle_type = df.iloc[exit_idx]['candle_type']\n",
    "\n",
    "            # Construct the potential pattern name: e.g. \"drop base drop\"\n",
    "            potential_pattern_name = f\"{first_candle_type} base {exit_candle_type}\"\n",
    "\n",
    "            # The base candles slice\n",
    "            base_candles = df.iloc[base_start : base_end + 1]\n",
    "\n",
    "            if exit_candle_type in ['drop', 'rally']:\n",
    "                # Check if the exit candle meets the exit criteria\n",
    "                exit_candle_row = df.iloc[exit_idx]\n",
    "                if is_valid_exit_candle(exit_candle_row, exit_candle_type, base_candles):\n",
    "                    # We have found a valid pattern\n",
    "                    base_zone_low  = base_candles['low'].min()\n",
    "                    base_zone_high = base_candles['high'].max()\n",
    "\n",
    "                    # Determine if this zone is a demand or supply zone\n",
    "                    # For simplicity:\n",
    "                    #   - \"drop base rally\"  => demand zone\n",
    "                    #   - \"rally base rally\" => demand zone\n",
    "                    #   - \"rally base drop\"  => supply zone\n",
    "                    #   - \"drop base drop\"   => supply zone\n",
    "                    if potential_pattern_name in ['drop base rally', 'rally base rally']:\n",
    "                        tested = is_zone_tested(df, exit_idx + 1, base_zone_low, base_zone_high, is_demand=True)\n",
    "                    else:\n",
    "                        tested = is_zone_tested(df, exit_idx + 1, base_zone_low, base_zone_high, is_demand=False)\n",
    "\n",
    "                    # Append the pattern info\n",
    "                    patterns.append({\n",
    "                        'start_idx': i,\n",
    "                        'base_idx_range': (base_start, base_end),\n",
    "                        'exit_idx': exit_idx,\n",
    "                        'pattern_name': potential_pattern_name,\n",
    "                        'base_zone_low': base_zone_low,\n",
    "                        'base_zone_high': base_zone_high,\n",
    "                        'tested': tested\n",
    "                    })\n",
    "\n",
    "        i += 1\n",
    "\n",
    "    # Return the patterns as a DataFrame for convenience\n",
    "    return pd.DataFrame(patterns)\n",
    "\n",
    "\n",
    "# ------------------------------------------------------------\n",
    "# 4) Example usage with your DataFrame: 'monthly_data'\n",
    "# ------------------------------------------------------------\n",
    "# Assume 'monthly_data' already has these columns:\n",
    "#   ['month','symbol','open','high','low','close','volume','oi',\n",
    "#    'body_size','total_size','body_percentage','candle_type']\n",
    "\n",
    "\n",
    "\n",
    "# Now 'patterns_df' will contain rows for each detected pattern with columns:\n",
    "#   ['start_idx','base_idx_range','exit_idx','pattern_name',\n",
    "#    'base_zone_low','base_zone_high','tested']"
   ]
  },
  {
   "cell_type": "code",
   "execution_count": 70,
   "metadata": {},
   "outputs": [
    {
     "name": "stderr",
     "output_type": "stream",
     "text": [
      "100%|██████████| 477/477 [00:00<00:00, 18343.45it/s]"
     ]
    },
    {
     "name": "stdout",
     "output_type": "stream",
     "text": [
      "SUN TV NETWORK\n",
      "(60, 13)\n"
     ]
    },
    {
     "name": "stderr",
     "output_type": "stream",
     "text": [
      "\n"
     ]
    }
   ],
   "source": [
    "\n",
    "for sym in tqdm(monthly_data.symbol.unique()):\n",
    "# Apply the function\n",
    "    if sym == 'SUN TV NETWORK':\n",
    "        print(sym)\n",
    "        df_temp = monthly_data[monthly_data.symbol == sym].reset_index()\n",
    "        print(df_temp.shape)\n",
    "        pattern_matches = find_supply_demand_patterns(df_temp)"
   ]
  },
  {
   "cell_type": "code",
   "execution_count": 71,
   "metadata": {},
   "outputs": [
    {
     "data": {
      "text/html": [
       "<div>\n",
       "<style scoped>\n",
       "    .dataframe tbody tr th:only-of-type {\n",
       "        vertical-align: middle;\n",
       "    }\n",
       "\n",
       "    .dataframe tbody tr th {\n",
       "        vertical-align: top;\n",
       "    }\n",
       "\n",
       "    .dataframe thead th {\n",
       "        text-align: right;\n",
       "    }\n",
       "</style>\n",
       "<table border=\"1\" class=\"dataframe\">\n",
       "  <thead>\n",
       "    <tr style=\"text-align: right;\">\n",
       "      <th></th>\n",
       "      <th>start_idx</th>\n",
       "      <th>base_idx_range</th>\n",
       "      <th>exit_idx</th>\n",
       "      <th>pattern_name</th>\n",
       "      <th>base_zone_low</th>\n",
       "      <th>base_zone_high</th>\n",
       "      <th>tested</th>\n",
       "    </tr>\n",
       "  </thead>\n",
       "  <tbody>\n",
       "    <tr>\n",
       "      <th>0</th>\n",
       "      <td>3</td>\n",
       "      <td>(4, 6)</td>\n",
       "      <td>7</td>\n",
       "      <td>rally base rally</td>\n",
       "      <td>355.50</td>\n",
       "      <td>427.00</td>\n",
       "      <td>True</td>\n",
       "    </tr>\n",
       "    <tr>\n",
       "      <th>1</th>\n",
       "      <td>7</td>\n",
       "      <td>(8, 8)</td>\n",
       "      <td>9</td>\n",
       "      <td>rally base drop</td>\n",
       "      <td>439.30</td>\n",
       "      <td>508.25</td>\n",
       "      <td>True</td>\n",
       "    </tr>\n",
       "    <tr>\n",
       "      <th>2</th>\n",
       "      <td>15</td>\n",
       "      <td>(16, 17)</td>\n",
       "      <td>18</td>\n",
       "      <td>rally base rally</td>\n",
       "      <td>487.00</td>\n",
       "      <td>571.00</td>\n",
       "      <td>True</td>\n",
       "    </tr>\n",
       "    <tr>\n",
       "      <th>3</th>\n",
       "      <td>19</td>\n",
       "      <td>(20, 20)</td>\n",
       "      <td>21</td>\n",
       "      <td>drop base rally</td>\n",
       "      <td>478.60</td>\n",
       "      <td>534.00</td>\n",
       "      <td>True</td>\n",
       "    </tr>\n",
       "    <tr>\n",
       "      <th>4</th>\n",
       "      <td>39</td>\n",
       "      <td>(40, 41)</td>\n",
       "      <td>42</td>\n",
       "      <td>rally base rally</td>\n",
       "      <td>423.00</td>\n",
       "      <td>467.40</td>\n",
       "      <td>False</td>\n",
       "    </tr>\n",
       "    <tr>\n",
       "      <th>5</th>\n",
       "      <td>43</td>\n",
       "      <td>(44, 45)</td>\n",
       "      <td>46</td>\n",
       "      <td>rally base rally</td>\n",
       "      <td>577.45</td>\n",
       "      <td>666.50</td>\n",
       "      <td>True</td>\n",
       "    </tr>\n",
       "    <tr>\n",
       "      <th>6</th>\n",
       "      <td>49</td>\n",
       "      <td>(50, 50)</td>\n",
       "      <td>51</td>\n",
       "      <td>drop base rally</td>\n",
       "      <td>567.60</td>\n",
       "      <td>648.70</td>\n",
       "      <td>True</td>\n",
       "    </tr>\n",
       "    <tr>\n",
       "      <th>7</th>\n",
       "      <td>51</td>\n",
       "      <td>(52, 52)</td>\n",
       "      <td>53</td>\n",
       "      <td>rally base rally</td>\n",
       "      <td>625.50</td>\n",
       "      <td>681.20</td>\n",
       "      <td>False</td>\n",
       "    </tr>\n",
       "    <tr>\n",
       "      <th>8</th>\n",
       "      <td>55</td>\n",
       "      <td>(56, 56)</td>\n",
       "      <td>57</td>\n",
       "      <td>drop base drop</td>\n",
       "      <td>782.35</td>\n",
       "      <td>853.70</td>\n",
       "      <td>True</td>\n",
       "    </tr>\n",
       "    <tr>\n",
       "      <th>9</th>\n",
       "      <td>57</td>\n",
       "      <td>(58, 58)</td>\n",
       "      <td>59</td>\n",
       "      <td>drop base drop</td>\n",
       "      <td>702.35</td>\n",
       "      <td>773.30</td>\n",
       "      <td>False</td>\n",
       "    </tr>\n",
       "  </tbody>\n",
       "</table>\n",
       "</div>"
      ],
      "text/plain": [
       "   start_idx base_idx_range  exit_idx      pattern_name  base_zone_low  \\\n",
       "0          3         (4, 6)         7  rally base rally         355.50   \n",
       "1          7         (8, 8)         9   rally base drop         439.30   \n",
       "2         15       (16, 17)        18  rally base rally         487.00   \n",
       "3         19       (20, 20)        21   drop base rally         478.60   \n",
       "4         39       (40, 41)        42  rally base rally         423.00   \n",
       "5         43       (44, 45)        46  rally base rally         577.45   \n",
       "6         49       (50, 50)        51   drop base rally         567.60   \n",
       "7         51       (52, 52)        53  rally base rally         625.50   \n",
       "8         55       (56, 56)        57    drop base drop         782.35   \n",
       "9         57       (58, 58)        59    drop base drop         702.35   \n",
       "\n",
       "   base_zone_high  tested  \n",
       "0          427.00    True  \n",
       "1          508.25    True  \n",
       "2          571.00    True  \n",
       "3          534.00    True  \n",
       "4          467.40   False  \n",
       "5          666.50    True  \n",
       "6          648.70    True  \n",
       "7          681.20   False  \n",
       "8          853.70    True  \n",
       "9          773.30   False  "
      ]
     },
     "execution_count": 71,
     "metadata": {},
     "output_type": "execute_result"
    }
   ],
   "source": [
    "pattern_matches"
   ]
  },
  {
   "cell_type": "markdown",
   "metadata": {},
   "source": [
    "### code 4"
   ]
  },
  {
   "cell_type": "code",
   "execution_count": 28,
   "metadata": {},
   "outputs": [],
   "source": [
    "def find_snd_patterns(df):\n",
    "    \"\"\"\n",
    "    Identify supply-demand type patterns in the given DataFrame df.\n",
    "    Looks for:\n",
    "      1. drop-base-drop\n",
    "      2. drop-base-rally\n",
    "      3. rally-base-drop\n",
    "      4. rally-base-rally\n",
    "\n",
    "    Conditions:\n",
    "      - 1 to 3 consecutive base candles\n",
    "      - Exit candle must close above(below) the base for rally(drop)\n",
    "      - Exit candle body size >= 1.5 x average body size of the base candles\n",
    "    Returns:\n",
    "      A list of dictionaries, where each dict contains:\n",
    "         {\n",
    "           'start_idx': index of the first move candle (drop/rally),\n",
    "           'base_idxs': list of indexes for the base candles,\n",
    "           'end_idx': index of the exit candle (drop/rally),\n",
    "           'pattern': one of the four patterns,\n",
    "           'tested': True/False if the zone has been tested in future candles\n",
    "         }\n",
    "    \"\"\"\n",
    "    patterns = []\n",
    "    n = len(df)\n",
    "\n",
    "    i = 0\n",
    "    while i < n:\n",
    "        first_type = df.loc[i, 'candle_type']\n",
    "        \n",
    "        # We only consider a pattern start if it's either 'drop' or 'rally'\n",
    "        if first_type not in ['drop', 'rally']:\n",
    "            i += 1\n",
    "            continue\n",
    "        \n",
    "        # Try base lengths of 1, 2, or 3\n",
    "        found_pattern = False\n",
    "        for base_count in [1, 2, 3]:\n",
    "            if i + base_count >= n:\n",
    "                break\n",
    "            \n",
    "            # Check if the next base_count candles are all 'base'\n",
    "            base_indices = list(range(i+1, i+1+base_count))\n",
    "            \n",
    "            # Ensure we have enough rows\n",
    "            if max(base_indices) >= n:\n",
    "                break\n",
    "            \n",
    "            if not all(df.loc[idx, 'candle_type'] == 'base' for idx in base_indices):\n",
    "                # if *any* candle in this range is not base, move on\n",
    "                continue\n",
    "            \n",
    "            # The exit candle is the one following the base candles\n",
    "            exit_idx = i + 1 + base_count\n",
    "            if exit_idx >= n:\n",
    "                break\n",
    "            \n",
    "            exit_type = df.loc[exit_idx, 'candle_type']\n",
    "            \n",
    "            # Construct the pattern label, if valid\n",
    "            pattern_label = None\n",
    "            if first_type == 'drop' and exit_type == 'drop':\n",
    "                pattern_label = 'drop-base-drop'\n",
    "            elif first_type == 'drop' and exit_type == 'rally':\n",
    "                pattern_label = 'drop-base-rally'\n",
    "            elif first_type == 'rally' and exit_type == 'drop':\n",
    "                pattern_label = 'rally-base-drop'\n",
    "            elif first_type == 'rally' and exit_type == 'rally':\n",
    "                pattern_label = 'rally-base-rally'\n",
    "            \n",
    "            if pattern_label is None:\n",
    "                # Not one of our four desired patterns\n",
    "                continue\n",
    "            \n",
    "            # 1) Check the body-size requirement for the exit candle\n",
    "            base_body_sizes = df.loc[base_indices, 'body_size']\n",
    "            avg_base_body_size = base_body_sizes.mean()\n",
    "            exit_body_size = df.loc[exit_idx, 'body_size']\n",
    "            \n",
    "            if exit_body_size < 1 * avg_base_body_size:\n",
    "                # Fails the \"1.5x\" rule\n",
    "                continue\n",
    "            \n",
    "            # 2) Check close above(below) base region\n",
    "            base_high = df.loc[base_indices, 'high'].max()\n",
    "            base_low = df.loc[base_indices, 'low'].min()\n",
    "            exit_close = df.loc[exit_idx, 'close']\n",
    "            \n",
    "            # Rally must close above base_high; drop must close below base_low\n",
    "            if (exit_type == 'rally' and exit_close <= base_high):\n",
    "                continue\n",
    "            if (exit_type == 'drop' and exit_close >= base_low):\n",
    "                continue\n",
    "            \n",
    "            # If we get here, we've found a valid pattern\n",
    "            found_pattern = True\n",
    "            \n",
    "            # Mark whether the base zone is tested by future candles\n",
    "            tested_flag = False\n",
    "            \n",
    "            # We’ll consider any future candle that intersects [base_low, base_high]\n",
    "            # as a test of the zone.\n",
    "            for future_idx in range(exit_idx + 1, n):\n",
    "                f_low = df.loc[future_idx, 'low']\n",
    "                f_high = df.loc[future_idx, 'high']\n",
    "                # If the candle range intersects the base zone, consider it tested.\n",
    "                if (f_low <= base_high) and (f_high >= base_low):\n",
    "                    tested_flag = True\n",
    "                    break\n",
    "            \n",
    "            patterns.append({\n",
    "                'start_idx': i,\n",
    "                'base_idxs': base_indices,\n",
    "                'end_idx': exit_idx,\n",
    "                'pattern': pattern_label,\n",
    "                'tested': tested_flag\n",
    "            })\n",
    "            \n",
    "            # Since we found a valid pattern starting at i, \n",
    "            # we can break out of the base_count loop. \n",
    "            # Or you might choose to keep scanning for other possible \n",
    "            # base_count lengths at the same i (if desired).\n",
    "            break\n",
    "\n",
    "        i += 1  # move forward\n",
    "\n",
    "    return patterns"
   ]
  },
  {
   "cell_type": "code",
   "execution_count": 29,
   "metadata": {},
   "outputs": [
    {
     "name": "stderr",
     "output_type": "stream",
     "text": [
      "100%|██████████| 477/477 [00:00<00:00, 136082.37it/s]"
     ]
    },
    {
     "name": "stdout",
     "output_type": "stream",
     "text": [
      "SUN TV NETWORK\n",
      "(60, 13)\n"
     ]
    },
    {
     "name": "stderr",
     "output_type": "stream",
     "text": [
      "\n"
     ]
    }
   ],
   "source": [
    "\n",
    "for sym in tqdm(monthly_data.symbol.unique()):\n",
    "# Apply the function\n",
    "    if sym == 'SUN TV NETWORK':\n",
    "        print(sym)\n",
    "        df_temp = monthly_data[monthly_data.symbol == sym].reset_index()\n",
    "        print(df_temp.shape)\n",
    "        pattern_matches = find_snd_patterns(df_temp)"
   ]
  },
  {
   "cell_type": "code",
   "execution_count": 30,
   "metadata": {},
   "outputs": [
    {
     "data": {
      "text/plain": [
       "[]"
      ]
     },
     "execution_count": 30,
     "metadata": {},
     "output_type": "execute_result"
    }
   ],
   "source": [
    "pattern_matches"
   ]
  },
  {
   "cell_type": "markdown",
   "metadata": {},
   "source": [
    "### code 5"
   ]
  },
  {
   "cell_type": "code",
   "execution_count": null,
   "metadata": {},
   "outputs": [],
   "source": [
    "def is_fresh_zone(df, start_idx, end_idx, base_low, base_high):\n",
    "    \"\"\"\n",
    "    Check that for all candles after end_idx, \n",
    "    the high is not below base_low for demand zones, \n",
    "    or the low is not above base_high for supply zones,\n",
    "    or more generally, that the zone is never penetrated.\n",
    "    \n",
    "    In simple terms: ensure that the subsequent candles' \n",
    "    range does not overlap with [base_low, base_high].\n",
    "    \"\"\"\n",
    "    subsequent = df.iloc[end_idx + 1 :]\n",
    "    for i, row in subsequent.iterrows():\n",
    "        # If the candle's low is < base_high and the candle's high is > base_low,\n",
    "        # that means it touched the zone [base_low, base_high].\n",
    "        # If we want zero penetration, check that the entire candle is either \n",
    "        # above base_high or below base_low.\n",
    "        if not (row['high'] < base_low or row['low'] > base_high):\n",
    "            # We have a penetration\n",
    "            return False\n",
    "    return True"
   ]
  },
  {
   "cell_type": "code",
   "execution_count": 47,
   "metadata": {},
   "outputs": [],
   "source": [
    "import pandas as pd\n",
    "\n",
    "def find_drop_base_drop_rally_patterns(monthly_data):\n",
    "    patterns_found = []\n",
    "\n",
    "    # We might want to group by symbol\n",
    "    for symbol, df_symbol in monthly_data.groupby('symbol'):\n",
    "        # print(symbol,df_symbol.shape)\n",
    "        # Sort by month (assuming ascending chronological order)\n",
    "        df_symbol = df_symbol.sort_values(by='month').reset_index(drop=True)\n",
    "        \n",
    "        # Convert to list (or just keep it as a DF) for iteration\n",
    "        # We'll do index-based iteration so we can look ahead.\n",
    "        n = len(df_symbol)\n",
    "        \n",
    "        i = 0\n",
    "        while i < n - 2:\n",
    "            current_candle_type = df_symbol.loc[i, 'candle_type']\n",
    "            \n",
    "            # We only proceed if current is drop or rally,\n",
    "            # because the next pattern is \"drop -> base -> x\" or \"rally -> base -> x\"\n",
    "            if current_candle_type not in ['drop', 'rally']:\n",
    "                i += 1\n",
    "                continue\n",
    "            \n",
    "            # Now let's see if the next 1 to 3 candles are all base\n",
    "            # We'll try base_length in [1, 2, 3]\n",
    "            found_base_sequence = False\n",
    "            for base_length in [1]:\n",
    "                # Check if we have enough candles\n",
    "                if i + 1 + base_length >= n:\n",
    "                    continue\n",
    "                \n",
    "                base_candles = df_symbol.iloc[i+1 : i+1+base_length]\n",
    "                \n",
    "                # Are they all 'base'?\n",
    "                if all(base_candles['candle_type'] == 'base'):\n",
    "                    # If yes, then the next candle after these bases is an exit candle\n",
    "                    exit_idx = i + 1 + base_length\n",
    "                    if exit_idx < n:\n",
    "                        exit_candle_type = df_symbol.loc[exit_idx, 'candle_type']\n",
    "                        \n",
    "                        # Check if exit candle is 'drop' or 'rally'\n",
    "                        if exit_candle_type in ['drop', 'rally']:\n",
    "                            # We have a potential pattern:\n",
    "                            #  current_candle_type -> base -> exit_candle_type\n",
    "                            pattern = f\"{current_candle_type} base {exit_candle_type}\"\n",
    "                            \n",
    "                            # 1) Check exit condition (close above/below base)\n",
    "                            base_low = base_candles['low'].min()\n",
    "                            base_high = base_candles['high'].max()\n",
    "                            exit_close = df_symbol.loc[exit_idx, 'close']\n",
    "                            \n",
    "                            # For rally exit, close must be > base_high\n",
    "                            # For drop exit, close must be < base_low\n",
    "                            if (exit_candle_type == 'rally' and exit_close > base_high) \\\n",
    "                               or (exit_candle_type == 'drop' and exit_close < base_low):\n",
    "                                \n",
    "                                # 2) Check fresh zone condition\n",
    "                                if is_fresh_zone(\n",
    "                                    df_symbol, \n",
    "                                    start_idx=i, \n",
    "                                    end_idx=exit_idx, \n",
    "                                    base_low=base_low, \n",
    "                                    base_high=base_high\n",
    "                                ):\n",
    "                                    # If fresh zone is True, we record the pattern\n",
    "                                    patterns_found.append({\n",
    "                                        'symbol': symbol,\n",
    "                                        'start_index': i,\n",
    "                                        'base_start_index': i + 1,\n",
    "                                        'base_end_index': i + base_length,\n",
    "                                        'exit_index': exit_idx,\n",
    "                                        'pattern': pattern,\n",
    "                                        'base_range': (base_low, base_high),\n",
    "                                        'start_month': df_symbol.loc[i, 'month'],\n",
    "                                        'exit_month': df_symbol.loc[exit_idx, 'month']\n",
    "                                    })\n",
    "                    \n",
    "                    # We found a base sequence; break out so we don't double count\n",
    "                    found_base_sequence = True\n",
    "                    break\n",
    "                \n",
    "            # Move to next candle\n",
    "            i += 1\n",
    "\n",
    "    # Convert found patterns to DataFrame\n",
    "    patterns_df = pd.DataFrame(patterns_found)\n",
    "    return patterns_df"
   ]
  },
  {
   "cell_type": "code",
   "execution_count": 48,
   "metadata": {},
   "outputs": [
    {
     "data": {
      "text/html": [
       "<div>\n",
       "<style scoped>\n",
       "    .dataframe tbody tr th:only-of-type {\n",
       "        vertical-align: middle;\n",
       "    }\n",
       "\n",
       "    .dataframe tbody tr th {\n",
       "        vertical-align: top;\n",
       "    }\n",
       "\n",
       "    .dataframe thead th {\n",
       "        text-align: right;\n",
       "    }\n",
       "</style>\n",
       "<table border=\"1\" class=\"dataframe\">\n",
       "  <thead>\n",
       "    <tr style=\"text-align: right;\">\n",
       "      <th></th>\n",
       "    </tr>\n",
       "  </thead>\n",
       "  <tbody>\n",
       "  </tbody>\n",
       "</table>\n",
       "</div>"
      ],
      "text/plain": [
       "Empty DataFrame\n",
       "Columns: []\n",
       "Index: []"
      ]
     },
     "execution_count": 48,
     "metadata": {},
     "output_type": "execute_result"
    }
   ],
   "source": [
    "find_drop_base_drop_rally_patterns(monthly_data)"
   ]
  },
  {
   "cell_type": "code",
   "execution_count": 37,
   "metadata": {},
   "outputs": [
    {
     "name": "stderr",
     "output_type": "stream",
     "text": [
      "  0%|          | 0/477 [00:00<?, ?it/s]"
     ]
    },
    {
     "name": "stderr",
     "output_type": "stream",
     "text": [
      "100%|██████████| 477/477 [00:00<00:00, 483.25it/s]\n"
     ]
    }
   ],
   "source": [
    "\n",
    "for sym in tqdm(monthly_data.symbol.unique()):\n",
    "# Apply the function\n",
    "    # if sym == 'SUN TV NETWORK':\n",
    "        df_temp = monthly_data[monthly_data.symbol == sym].reset_index()\n",
    "        pattern_matches = find_drop_base_drop_rally_patterns(df_temp)"
   ]
  },
  {
   "cell_type": "code",
   "execution_count": 38,
   "metadata": {},
   "outputs": [
    {
     "data": {
      "text/html": [
       "<div>\n",
       "<style scoped>\n",
       "    .dataframe tbody tr th:only-of-type {\n",
       "        vertical-align: middle;\n",
       "    }\n",
       "\n",
       "    .dataframe tbody tr th {\n",
       "        vertical-align: top;\n",
       "    }\n",
       "\n",
       "    .dataframe thead th {\n",
       "        text-align: right;\n",
       "    }\n",
       "</style>\n",
       "<table border=\"1\" class=\"dataframe\">\n",
       "  <thead>\n",
       "    <tr style=\"text-align: right;\">\n",
       "      <th></th>\n",
       "    </tr>\n",
       "  </thead>\n",
       "  <tbody>\n",
       "  </tbody>\n",
       "</table>\n",
       "</div>"
      ],
      "text/plain": [
       "Empty DataFrame\n",
       "Columns: []\n",
       "Index: []"
      ]
     },
     "execution_count": 38,
     "metadata": {},
     "output_type": "execute_result"
    }
   ],
   "source": [
    "pattern_matches"
   ]
  },
  {
   "cell_type": "markdown",
   "metadata": {},
   "source": [
    "### code 6"
   ]
  },
  {
   "cell_type": "code",
   "execution_count": 60,
   "metadata": {},
   "outputs": [],
   "source": [
    "import pandas as pd\n",
    "\n",
    "def find_variable_base_patterns(df):\n",
    "    \"\"\"\n",
    "    Given a DataFrame (already sorted for one symbol),\n",
    "    return a list of found patterns.\n",
    "    \"\"\"\n",
    "    # We'll keep results in a list of dicts\n",
    "    results = []\n",
    "    \n",
    "    i = 0\n",
    "    n = len(df)\n",
    "    while i < n:\n",
    "        start_candle = df['candle_type'].iloc[i]\n",
    "        print(start_candle)\n",
    "        \n",
    "        # 1) Check if the current candle is 'drop' or 'rally'\n",
    "        if start_candle in ('drop', 'rally'):\n",
    "            # 2) Look ahead up to 3 candles for consecutive bases\n",
    "            base_count = 0\n",
    "            j = i + 1\n",
    "            while j < n and base_count < 3 and df['candle_type'].iloc[j] == 'base':\n",
    "                base_count += 1\n",
    "                j += 1\n",
    "            \n",
    "            # base_count is how many base candles we found (could be 0 to 3)\n",
    "            # We only care if base_count >= 1\n",
    "            if 1 <= base_count <= 3:\n",
    "                # 3) After these base candles, check the next candle\n",
    "                if j < n:\n",
    "                    end_candle = df['candle_type'].iloc[j]\n",
    "                    if end_candle in ('drop', 'rally'):\n",
    "                        # We found a valid pattern\n",
    "                        # Example label: 'drop_base_drop', 'drop_base_base_drop', ...\n",
    "                        # For readability, let's build a pattern string that \n",
    "                        # literally includes as many 'base' words as we have:\n",
    "                        pattern = (\n",
    "                            f\"{start_candle}\" \n",
    "                            + \"\".join([\"_base\" for _ in range(base_count)]) \n",
    "                            + f\"_{end_candle}\"\n",
    "                        )\n",
    "                        \n",
    "                        # Store some info—row indices, pattern, etc.\n",
    "                        # The pattern covers rows [i, i+1..j-1, j]\n",
    "                        # i = start, i+1..j-1 = base(s), j = end\n",
    "                        results.append({\n",
    "                            'symbol': df['symbol'].iloc[i],\n",
    "                            'start_idx': df.index[i],\n",
    "                            'base_indices': df.index[i+1:j],  \n",
    "                            'end_idx': df.index[j],\n",
    "                            'pattern': pattern\n",
    "                        })\n",
    "        i += 1  # move on to the next row\n",
    "    \n",
    "    return results\n",
    "\n"
   ]
  },
  {
   "cell_type": "code",
   "execution_count": null,
   "metadata": {},
   "outputs": [],
   "source": [
    "\n",
    "monthly_data.sort_values(by=['symbol', 'month'], inplace=True)\n",
    "monthly_data.candle_type = monthly_data.candle_type.str.lower()\n",
    "# We'll build a list of all pattern matches across all symbols\n",
    "all_patterns = []\n",
    "\n",
    "# groupby symbol, then apply\n",
    "for symbol, gdf in monthly_data.groupby('symbol'):\n",
    "    print(symbol)\n",
    "    if symbol == \"ACC\":\n",
    "        # gdf is sorted for each symbol, so we can pass it to our function\n",
    "        symbol_patterns = find_variable_base_patterns(gdf)\n",
    "        all_patterns.extend(symbol_patterns)\n",
    "        break\n",
    "# Convert that list of dicts to a DataFrame if you wish:\n",
    "patterns_df = pd.DataFrame(all_patterns)\n",
    "\n",
    "# patterns_df now has one row per matched pattern. \n",
    "# The 'pattern' column might look like \"drop_base_drop\" or \"rally_base_base_rally\", etc.\n",
    "# The 'start_idx', 'base_indices', 'end_idx' give you the exact candle rows involved."
   ]
  },
  {
   "cell_type": "code",
   "execution_count": 59,
   "metadata": {},
   "outputs": [
    {
     "data": {
      "text/html": [
       "<div>\n",
       "<style scoped>\n",
       "    .dataframe tbody tr th:only-of-type {\n",
       "        vertical-align: middle;\n",
       "    }\n",
       "\n",
       "    .dataframe tbody tr th {\n",
       "        vertical-align: top;\n",
       "    }\n",
       "\n",
       "    .dataframe thead th {\n",
       "        text-align: right;\n",
       "    }\n",
       "</style>\n",
       "<table border=\"1\" class=\"dataframe\">\n",
       "  <thead>\n",
       "    <tr style=\"text-align: right;\">\n",
       "      <th></th>\n",
       "    </tr>\n",
       "  </thead>\n",
       "  <tbody>\n",
       "  </tbody>\n",
       "</table>\n",
       "</div>"
      ],
      "text/plain": [
       "Empty DataFrame\n",
       "Columns: []\n",
       "Index: []"
      ]
     },
     "execution_count": 59,
     "metadata": {},
     "output_type": "execute_result"
    }
   ],
   "source": [
    "patterns_df"
   ]
  },
  {
   "cell_type": "code",
   "execution_count": 50,
   "metadata": {},
   "outputs": [
    {
     "data": {
      "text/html": [
       "<div>\n",
       "<style scoped>\n",
       "    .dataframe tbody tr th:only-of-type {\n",
       "        vertical-align: middle;\n",
       "    }\n",
       "\n",
       "    .dataframe tbody tr th {\n",
       "        vertical-align: top;\n",
       "    }\n",
       "\n",
       "    .dataframe thead th {\n",
       "        text-align: right;\n",
       "    }\n",
       "</style>\n",
       "<table border=\"1\" class=\"dataframe\">\n",
       "  <thead>\n",
       "    <tr style=\"text-align: right;\">\n",
       "      <th></th>\n",
       "    </tr>\n",
       "  </thead>\n",
       "  <tbody>\n",
       "  </tbody>\n",
       "</table>\n",
       "</div>"
      ],
      "text/plain": [
       "Empty DataFrame\n",
       "Columns: []\n",
       "Index: []"
      ]
     },
     "execution_count": 50,
     "metadata": {},
     "output_type": "execute_result"
    }
   ],
   "source": [
    "patterns_df"
   ]
  },
  {
   "cell_type": "markdown",
   "metadata": {},
   "source": [
    "## checking price in current price"
   ]
  },
  {
   "cell_type": "code",
   "execution_count": 99,
   "metadata": {},
   "outputs": [],
   "source": [
    "# pattern_matches['date'] = pattern_matches['month']"
   ]
  },
  {
   "cell_type": "code",
   "execution_count": 15,
   "metadata": {},
   "outputs": [
    {
     "name": "stderr",
     "output_type": "stream",
     "text": [
      "100%|██████████| 476/476 [00:29<00:00, 16.24it/s]\n"
     ]
    }
   ],
   "source": [
    "start_dt = \"2025-01-13\"\n",
    "end_dt = \"2025-01-17\" \n",
    "time_frame = \"day\"\n",
    "\n",
    "# start_dt_td = \"2024-07-01\"\n",
    "# end_dt_td = \"2024-07-25\" \n",
    "# time_frame_td = \"5minute\"\n",
    "\n",
    "\n",
    "df_current = fetch_market_data(kite,top_five_hun, start_dt, end_dt, time_frame)"
   ]
  },
  {
   "cell_type": "code",
   "execution_count": 16,
   "metadata": {},
   "outputs": [],
   "source": [
    "# Assuming 'data' is your dataframe\n",
    "df_current['week'] = df_current['date'].dt.to_period('W')  # Extract year-month\n",
    "\n",
    "# Aggregate the data at the month level\n",
    "monthly_data_current = df_current.groupby(['week', 'symbol']).agg(\n",
    "    open=('open', 'first'),\n",
    "    high=('high', 'max'),\n",
    "    low=('low', 'min'),\n",
    "    close=('close', 'last'),\n",
    "    volume=('volume', 'sum'),\n",
    "    oi=('oi', 'sum')\n",
    ").reset_index()\n",
    "\n",
    "# Convert month back to datetime if needed\n",
    "monthly_data_current['week'] = monthly_data_current['week'].dt.to_timestamp()"
   ]
  },
  {
   "cell_type": "code",
   "execution_count": 17,
   "metadata": {},
   "outputs": [
    {
     "data": {
      "text/html": [
       "<div>\n",
       "<style scoped>\n",
       "    .dataframe tbody tr th:only-of-type {\n",
       "        vertical-align: middle;\n",
       "    }\n",
       "\n",
       "    .dataframe tbody tr th {\n",
       "        vertical-align: top;\n",
       "    }\n",
       "\n",
       "    .dataframe thead th {\n",
       "        text-align: right;\n",
       "    }\n",
       "</style>\n",
       "<table border=\"1\" class=\"dataframe\">\n",
       "  <thead>\n",
       "    <tr style=\"text-align: right;\">\n",
       "      <th></th>\n",
       "      <th>week</th>\n",
       "      <th>symbol</th>\n",
       "      <th>open</th>\n",
       "      <th>high</th>\n",
       "      <th>low</th>\n",
       "      <th>close</th>\n",
       "      <th>volume</th>\n",
       "      <th>oi</th>\n",
       "    </tr>\n",
       "  </thead>\n",
       "  <tbody>\n",
       "    <tr>\n",
       "      <th>0</th>\n",
       "      <td>2025-01-13</td>\n",
       "      <td>3M INDIA</td>\n",
       "      <td>29500.00</td>\n",
       "      <td>30750.00</td>\n",
       "      <td>28625.00</td>\n",
       "      <td>29700.00</td>\n",
       "      <td>47229</td>\n",
       "      <td>0</td>\n",
       "    </tr>\n",
       "    <tr>\n",
       "      <th>1</th>\n",
       "      <td>2025-01-13</td>\n",
       "      <td>AARTI DRUGS</td>\n",
       "      <td>429.05</td>\n",
       "      <td>431.95</td>\n",
       "      <td>413.15</td>\n",
       "      <td>421.95</td>\n",
       "      <td>641886</td>\n",
       "      <td>0</td>\n",
       "    </tr>\n",
       "    <tr>\n",
       "      <th>2</th>\n",
       "      <td>2025-01-13</td>\n",
       "      <td>AAVAS FINANCIERS</td>\n",
       "      <td>1656.00</td>\n",
       "      <td>1661.95</td>\n",
       "      <td>1625.00</td>\n",
       "      <td>1638.20</td>\n",
       "      <td>755404</td>\n",
       "      <td>0</td>\n",
       "    </tr>\n",
       "    <tr>\n",
       "      <th>3</th>\n",
       "      <td>2025-01-13</td>\n",
       "      <td>ABB INDIA</td>\n",
       "      <td>6352.00</td>\n",
       "      <td>6553.70</td>\n",
       "      <td>6061.05</td>\n",
       "      <td>6525.00</td>\n",
       "      <td>1451762</td>\n",
       "      <td>0</td>\n",
       "    </tr>\n",
       "    <tr>\n",
       "      <th>4</th>\n",
       "      <td>2025-01-13</td>\n",
       "      <td>ABBOTT INDIA</td>\n",
       "      <td>28613.00</td>\n",
       "      <td>28700.10</td>\n",
       "      <td>27102.45</td>\n",
       "      <td>27965.75</td>\n",
       "      <td>58299</td>\n",
       "      <td>0</td>\n",
       "    </tr>\n",
       "    <tr>\n",
       "      <th>...</th>\n",
       "      <td>...</td>\n",
       "      <td>...</td>\n",
       "      <td>...</td>\n",
       "      <td>...</td>\n",
       "      <td>...</td>\n",
       "      <td>...</td>\n",
       "      <td>...</td>\n",
       "      <td>...</td>\n",
       "    </tr>\n",
       "    <tr>\n",
       "      <th>471</th>\n",
       "      <td>2025-01-13</td>\n",
       "      <td>ZENSAR TECHNOLOGIES</td>\n",
       "      <td>779.00</td>\n",
       "      <td>791.90</td>\n",
       "      <td>716.70</td>\n",
       "      <td>750.00</td>\n",
       "      <td>3255953</td>\n",
       "      <td>0</td>\n",
       "    </tr>\n",
       "    <tr>\n",
       "      <th>472</th>\n",
       "      <td>2025-01-13</td>\n",
       "      <td>ZF COM VE CTR SYS IND</td>\n",
       "      <td>11265.00</td>\n",
       "      <td>11574.55</td>\n",
       "      <td>11027.05</td>\n",
       "      <td>11225.00</td>\n",
       "      <td>78634</td>\n",
       "      <td>0</td>\n",
       "    </tr>\n",
       "    <tr>\n",
       "      <th>473</th>\n",
       "      <td>2025-01-13</td>\n",
       "      <td>ZOMATO</td>\n",
       "      <td>240.00</td>\n",
       "      <td>262.00</td>\n",
       "      <td>226.20</td>\n",
       "      <td>248.65</td>\n",
       "      <td>329724107</td>\n",
       "      <td>0</td>\n",
       "    </tr>\n",
       "    <tr>\n",
       "      <th>474</th>\n",
       "      <td>2025-01-13</td>\n",
       "      <td>ZYDUS LIFESCIENCES</td>\n",
       "      <td>990.10</td>\n",
       "      <td>1007.30</td>\n",
       "      <td>966.25</td>\n",
       "      <td>992.70</td>\n",
       "      <td>4790019</td>\n",
       "      <td>0</td>\n",
       "    </tr>\n",
       "    <tr>\n",
       "      <th>475</th>\n",
       "      <td>2025-01-13</td>\n",
       "      <td>ZYDUS WELLNESS</td>\n",
       "      <td>1883.90</td>\n",
       "      <td>1931.85</td>\n",
       "      <td>1837.20</td>\n",
       "      <td>1880.00</td>\n",
       "      <td>41027</td>\n",
       "      <td>0</td>\n",
       "    </tr>\n",
       "  </tbody>\n",
       "</table>\n",
       "<p>476 rows × 8 columns</p>\n",
       "</div>"
      ],
      "text/plain": [
       "          week                 symbol     open     high      low    close  \\\n",
       "0   2025-01-13               3M INDIA 29500.00 30750.00 28625.00 29700.00   \n",
       "1   2025-01-13            AARTI DRUGS   429.05   431.95   413.15   421.95   \n",
       "2   2025-01-13       AAVAS FINANCIERS  1656.00  1661.95  1625.00  1638.20   \n",
       "3   2025-01-13              ABB INDIA  6352.00  6553.70  6061.05  6525.00   \n",
       "4   2025-01-13           ABBOTT INDIA 28613.00 28700.10 27102.45 27965.75   \n",
       "..         ...                    ...      ...      ...      ...      ...   \n",
       "471 2025-01-13   ZENSAR TECHNOLOGIES    779.00   791.90   716.70   750.00   \n",
       "472 2025-01-13  ZF COM VE CTR SYS IND 11265.00 11574.55 11027.05 11225.00   \n",
       "473 2025-01-13                 ZOMATO   240.00   262.00   226.20   248.65   \n",
       "474 2025-01-13     ZYDUS LIFESCIENCES   990.10  1007.30   966.25   992.70   \n",
       "475 2025-01-13         ZYDUS WELLNESS  1883.90  1931.85  1837.20  1880.00   \n",
       "\n",
       "        volume  oi  \n",
       "0        47229   0  \n",
       "1       641886   0  \n",
       "2       755404   0  \n",
       "3      1451762   0  \n",
       "4        58299   0  \n",
       "..         ...  ..  \n",
       "471    3255953   0  \n",
       "472      78634   0  \n",
       "473  329724107   0  \n",
       "474    4790019   0  \n",
       "475      41027   0  \n",
       "\n",
       "[476 rows x 8 columns]"
      ]
     },
     "execution_count": 17,
     "metadata": {},
     "output_type": "execute_result"
    }
   ],
   "source": [
    "monthly_data_current"
   ]
  },
  {
   "cell_type": "code",
   "execution_count": 18,
   "metadata": {},
   "outputs": [
    {
     "data": {
      "text/plain": [
       "(1313, 14)"
      ]
     },
     "execution_count": 18,
     "metadata": {},
     "output_type": "execute_result"
    }
   ],
   "source": [
    "pattern_matches.shape"
   ]
  },
  {
   "cell_type": "code",
   "execution_count": 19,
   "metadata": {},
   "outputs": [],
   "source": [
    "pattern_matches = pattern_matches.merge(monthly_data_current, how = 'left', on = ['symbol'],suffixes=('_month','_day'))"
   ]
  },
  {
   "cell_type": "code",
   "execution_count": 20,
   "metadata": {},
   "outputs": [
    {
     "data": {
      "text/html": [
       "<div>\n",
       "<style scoped>\n",
       "    .dataframe tbody tr th:only-of-type {\n",
       "        vertical-align: middle;\n",
       "    }\n",
       "\n",
       "    .dataframe tbody tr th {\n",
       "        vertical-align: top;\n",
       "    }\n",
       "\n",
       "    .dataframe thead th {\n",
       "        text-align: right;\n",
       "    }\n",
       "</style>\n",
       "<table border=\"1\" class=\"dataframe\">\n",
       "  <thead>\n",
       "    <tr style=\"text-align: right;\">\n",
       "      <th></th>\n",
       "      <th>pattern_type</th>\n",
       "      <th>pattern_seq</th>\n",
       "      <th>start_idx</th>\n",
       "      <th>end_idx</th>\n",
       "      <th>months</th>\n",
       "      <th>base_high</th>\n",
       "      <th>base_low</th>\n",
       "      <th>tested</th>\n",
       "      <th>symbol</th>\n",
       "      <th>0</th>\n",
       "      <th>...</th>\n",
       "      <th>2</th>\n",
       "      <th>3</th>\n",
       "      <th>4</th>\n",
       "      <th>week</th>\n",
       "      <th>open</th>\n",
       "      <th>high</th>\n",
       "      <th>low</th>\n",
       "      <th>close</th>\n",
       "      <th>volume</th>\n",
       "      <th>oi</th>\n",
       "    </tr>\n",
       "  </thead>\n",
       "  <tbody>\n",
       "    <tr>\n",
       "      <th>0</th>\n",
       "      <td>SZ</td>\n",
       "      <td>drop-base-drop</td>\n",
       "      <td>5.00</td>\n",
       "      <td>8.00</td>\n",
       "      <td>[2021-04-01T00:00:00.000000000, 2021-07-01T00:...</td>\n",
       "      <td>27800.00</td>\n",
       "      <td>22575.25</td>\n",
       "      <td>True</td>\n",
       "      <td>3M INDIA</td>\n",
       "      <td>2021-04-01</td>\n",
       "      <td>...</td>\n",
       "      <td>2021-10-01</td>\n",
       "      <td>2022-01-01</td>\n",
       "      <td>NaT</td>\n",
       "      <td>2025-01-13</td>\n",
       "      <td>29500.00</td>\n",
       "      <td>30750.00</td>\n",
       "      <td>28625.00</td>\n",
       "      <td>29700.00</td>\n",
       "      <td>47229</td>\n",
       "      <td>0</td>\n",
       "    </tr>\n",
       "    <tr>\n",
       "      <th>1</th>\n",
       "      <td>DZ</td>\n",
       "      <td>drop-base-rally</td>\n",
       "      <td>8.00</td>\n",
       "      <td>10.00</td>\n",
       "      <td>[2022-01-01T00:00:00.000000000, 2022-04-01T00:...</td>\n",
       "      <td>22857.90</td>\n",
       "      <td>17273.00</td>\n",
       "      <td>False</td>\n",
       "      <td>3M INDIA</td>\n",
       "      <td>2022-01-01</td>\n",
       "      <td>...</td>\n",
       "      <td>2022-07-01</td>\n",
       "      <td>NaT</td>\n",
       "      <td>NaT</td>\n",
       "      <td>2025-01-13</td>\n",
       "      <td>29500.00</td>\n",
       "      <td>30750.00</td>\n",
       "      <td>28625.00</td>\n",
       "      <td>29700.00</td>\n",
       "      <td>47229</td>\n",
       "      <td>0</td>\n",
       "    </tr>\n",
       "    <tr>\n",
       "      <th>2</th>\n",
       "      <td>DZ</td>\n",
       "      <td>drop-base-rally</td>\n",
       "      <td>11.00</td>\n",
       "      <td>13.00</td>\n",
       "      <td>[2022-10-01T00:00:00.000000000, 2023-01-01T00:...</td>\n",
       "      <td>23994.95</td>\n",
       "      <td>21300.45</td>\n",
       "      <td>False</td>\n",
       "      <td>3M INDIA</td>\n",
       "      <td>2022-10-01</td>\n",
       "      <td>...</td>\n",
       "      <td>2023-04-01</td>\n",
       "      <td>NaT</td>\n",
       "      <td>NaT</td>\n",
       "      <td>2025-01-13</td>\n",
       "      <td>29500.00</td>\n",
       "      <td>30750.00</td>\n",
       "      <td>28625.00</td>\n",
       "      <td>29700.00</td>\n",
       "      <td>47229</td>\n",
       "      <td>0</td>\n",
       "    </tr>\n",
       "    <tr>\n",
       "      <th>3</th>\n",
       "      <td>SZ</td>\n",
       "      <td>rally-base-drop</td>\n",
       "      <td>17.00</td>\n",
       "      <td>19.00</td>\n",
       "      <td>[2024-04-01T00:00:00.000000000, 2024-07-01T00:...</td>\n",
       "      <td>40856.50</td>\n",
       "      <td>33444.05</td>\n",
       "      <td>False</td>\n",
       "      <td>3M INDIA</td>\n",
       "      <td>2024-04-01</td>\n",
       "      <td>...</td>\n",
       "      <td>2024-10-01</td>\n",
       "      <td>NaT</td>\n",
       "      <td>NaT</td>\n",
       "      <td>2025-01-13</td>\n",
       "      <td>29500.00</td>\n",
       "      <td>30750.00</td>\n",
       "      <td>28625.00</td>\n",
       "      <td>29700.00</td>\n",
       "      <td>47229</td>\n",
       "      <td>0</td>\n",
       "    </tr>\n",
       "    <tr>\n",
       "      <th>4</th>\n",
       "      <td>SZ</td>\n",
       "      <td>rally-base-drop</td>\n",
       "      <td>2.00</td>\n",
       "      <td>6.00</td>\n",
       "      <td>[2020-07-01T00:00:00.000000000, 2020-10-01T00:...</td>\n",
       "      <td>1026.95</td>\n",
       "      <td>615.65</td>\n",
       "      <td>False</td>\n",
       "      <td>AARTI DRUGS</td>\n",
       "      <td>2020-07-01</td>\n",
       "      <td>...</td>\n",
       "      <td>2021-01-01</td>\n",
       "      <td>2021-04-01</td>\n",
       "      <td>2021-07-01</td>\n",
       "      <td>2025-01-13</td>\n",
       "      <td>429.05</td>\n",
       "      <td>431.95</td>\n",
       "      <td>413.15</td>\n",
       "      <td>421.95</td>\n",
       "      <td>641886</td>\n",
       "      <td>0</td>\n",
       "    </tr>\n",
       "  </tbody>\n",
       "</table>\n",
       "<p>5 rows × 21 columns</p>\n",
       "</div>"
      ],
      "text/plain": [
       "  pattern_type      pattern_seq  start_idx  end_idx  \\\n",
       "0           SZ   drop-base-drop       5.00     8.00   \n",
       "1           DZ  drop-base-rally       8.00    10.00   \n",
       "2           DZ  drop-base-rally      11.00    13.00   \n",
       "3           SZ  rally-base-drop      17.00    19.00   \n",
       "4           SZ  rally-base-drop       2.00     6.00   \n",
       "\n",
       "                                              months  base_high  base_low  \\\n",
       "0  [2021-04-01T00:00:00.000000000, 2021-07-01T00:...   27800.00  22575.25   \n",
       "1  [2022-01-01T00:00:00.000000000, 2022-04-01T00:...   22857.90  17273.00   \n",
       "2  [2022-10-01T00:00:00.000000000, 2023-01-01T00:...   23994.95  21300.45   \n",
       "3  [2024-04-01T00:00:00.000000000, 2024-07-01T00:...   40856.50  33444.05   \n",
       "4  [2020-07-01T00:00:00.000000000, 2020-10-01T00:...    1026.95    615.65   \n",
       "\n",
       "  tested       symbol          0  ...          2          3          4  \\\n",
       "0   True     3M INDIA 2021-04-01  ... 2021-10-01 2022-01-01        NaT   \n",
       "1  False     3M INDIA 2022-01-01  ... 2022-07-01        NaT        NaT   \n",
       "2  False     3M INDIA 2022-10-01  ... 2023-04-01        NaT        NaT   \n",
       "3  False     3M INDIA 2024-04-01  ... 2024-10-01        NaT        NaT   \n",
       "4  False  AARTI DRUGS 2020-07-01  ... 2021-01-01 2021-04-01 2021-07-01   \n",
       "\n",
       "        week     open     high      low    close  volume  oi  \n",
       "0 2025-01-13 29500.00 30750.00 28625.00 29700.00   47229   0  \n",
       "1 2025-01-13 29500.00 30750.00 28625.00 29700.00   47229   0  \n",
       "2 2025-01-13 29500.00 30750.00 28625.00 29700.00   47229   0  \n",
       "3 2025-01-13 29500.00 30750.00 28625.00 29700.00   47229   0  \n",
       "4 2025-01-13   429.05   431.95   413.15   421.95  641886   0  \n",
       "\n",
       "[5 rows x 21 columns]"
      ]
     },
     "execution_count": 20,
     "metadata": {},
     "output_type": "execute_result"
    }
   ],
   "source": [
    "pattern_matches.head()"
   ]
  },
  {
   "cell_type": "code",
   "execution_count": 21,
   "metadata": {},
   "outputs": [],
   "source": [
    "def calculate_proximity(row):\n",
    "    # Check if high and low are within base range\n",
    "    high_in_range = row['base_low'] <= row['high'] <= row['base_high']\n",
    "    low_in_range = row['base_low'] <= row['low'] <= row['base_high']\n",
    "    \n",
    "    # Calculate percentage difference from base range\n",
    "    high_diff = abs(row['high'] - row['base_high']) / row['base_high'] * 100\n",
    "    low_diff = abs(row['low'] - row['base_low']) / row['base_low'] * 100\n",
    "    \n",
    "    # Determine which value is closer to the base range\n",
    "    if high_diff < low_diff:\n",
    "        closer_value = 'high'\n",
    "        closer_diff = high_diff\n",
    "    else:\n",
    "        closer_value = 'low'\n",
    "        closer_diff = low_diff\n",
    "    \n",
    "    return pd.Series([high_in_range, low_in_range, closer_value, closer_diff],\n",
    "                     index=['high_in_range', 'low_in_range', 'closer_value', 'closer_diff'])\n",
    "\n",
    "# Apply function to DataFrame\n",
    "pattern_matches[['high_in_range', 'low_in_range', 'closer_value', 'closer_diff']] = pattern_matches.apply(calculate_proximity, axis=1)\n"
   ]
  },
  {
   "cell_type": "code",
   "execution_count": 22,
   "metadata": {},
   "outputs": [],
   "source": [
    "pattern_matches.to_clipboard()"
   ]
  },
  {
   "cell_type": "code",
   "execution_count": 87,
   "metadata": {},
   "outputs": [],
   "source": [
    "pattern_matches['price_in_range'] = np.where(\n",
    "    (pattern_matches['open_day'] >= pattern_matches['open_month']) & \n",
    "    (pattern_matches['open_day'] <= pattern_matches['close_month']) & \n",
    "    (pattern_matches['open_day'] >= pattern_matches['open_month']) & \n",
    "    (pattern_matches['open_day'] <= pattern_matches['close_month']), True, False\n",
    ")"
   ]
  },
  {
   "cell_type": "code",
   "execution_count": 89,
   "metadata": {},
   "outputs": [
    {
     "data": {
      "text/html": [
       "<div>\n",
       "<style scoped>\n",
       "    .dataframe tbody tr th:only-of-type {\n",
       "        vertical-align: middle;\n",
       "    }\n",
       "\n",
       "    .dataframe tbody tr th {\n",
       "        vertical-align: top;\n",
       "    }\n",
       "\n",
       "    .dataframe thead th {\n",
       "        text-align: right;\n",
       "    }\n",
       "</style>\n",
       "<table border=\"1\" class=\"dataframe\">\n",
       "  <thead>\n",
       "    <tr style=\"text-align: right;\">\n",
       "      <th></th>\n",
       "      <th>index</th>\n",
       "      <th>month</th>\n",
       "      <th>symbol</th>\n",
       "      <th>open_month</th>\n",
       "      <th>high_month</th>\n",
       "      <th>low_month</th>\n",
       "      <th>close_month</th>\n",
       "      <th>volume_month</th>\n",
       "      <th>oi_month</th>\n",
       "      <th>body_size</th>\n",
       "      <th>...</th>\n",
       "      <th>pattern_flag</th>\n",
       "      <th>tested_zone</th>\n",
       "      <th>week</th>\n",
       "      <th>open_day</th>\n",
       "      <th>high_day</th>\n",
       "      <th>low_day</th>\n",
       "      <th>close_day</th>\n",
       "      <th>volume_day</th>\n",
       "      <th>oi_day</th>\n",
       "      <th>price_in_range</th>\n",
       "    </tr>\n",
       "  </thead>\n",
       "  <tbody>\n",
       "    <tr>\n",
       "      <th>0</th>\n",
       "      <td>427</td>\n",
       "      <td>2020-02-01</td>\n",
       "      <td>ADANI GREEN ENERGY</td>\n",
       "      <td>192.80</td>\n",
       "      <td>221.65</td>\n",
       "      <td>154.85</td>\n",
       "      <td>154.95</td>\n",
       "      <td>30169905</td>\n",
       "      <td>0</td>\n",
       "      <td>37.85</td>\n",
       "      <td>...</td>\n",
       "      <td>drop-base-rally</td>\n",
       "      <td>False</td>\n",
       "      <td>2024-12-23</td>\n",
       "      <td>1049.7</td>\n",
       "      <td>1059.05</td>\n",
       "      <td>1020.0</td>\n",
       "      <td>1031.05</td>\n",
       "      <td>5270895</td>\n",
       "      <td>0</td>\n",
       "      <td>False</td>\n",
       "    </tr>\n",
       "    <tr>\n",
       "      <th>1</th>\n",
       "      <td>848</td>\n",
       "      <td>2020-03-01</td>\n",
       "      <td>ADANI GREEN ENERGY</td>\n",
       "      <td>156.60</td>\n",
       "      <td>163.00</td>\n",
       "      <td>111.90</td>\n",
       "      <td>153.25</td>\n",
       "      <td>16710919</td>\n",
       "      <td>0</td>\n",
       "      <td>3.35</td>\n",
       "      <td>...</td>\n",
       "      <td>drop-base-rally</td>\n",
       "      <td>False</td>\n",
       "      <td>2024-12-23</td>\n",
       "      <td>1049.7</td>\n",
       "      <td>1059.05</td>\n",
       "      <td>1020.0</td>\n",
       "      <td>1031.05</td>\n",
       "      <td>5270895</td>\n",
       "      <td>0</td>\n",
       "      <td>False</td>\n",
       "    </tr>\n",
       "    <tr>\n",
       "      <th>2</th>\n",
       "      <td>1272</td>\n",
       "      <td>2020-04-01</td>\n",
       "      <td>ADANI GREEN ENERGY</td>\n",
       "      <td>155.50</td>\n",
       "      <td>212.85</td>\n",
       "      <td>150.45</td>\n",
       "      <td>210.45</td>\n",
       "      <td>8683611</td>\n",
       "      <td>0</td>\n",
       "      <td>54.95</td>\n",
       "      <td>...</td>\n",
       "      <td>drop-base-rally</td>\n",
       "      <td>False</td>\n",
       "      <td>2024-12-23</td>\n",
       "      <td>1049.7</td>\n",
       "      <td>1059.05</td>\n",
       "      <td>1020.0</td>\n",
       "      <td>1031.05</td>\n",
       "      <td>5270895</td>\n",
       "      <td>0</td>\n",
       "      <td>False</td>\n",
       "    </tr>\n",
       "    <tr>\n",
       "      <th>3</th>\n",
       "      <td>6892</td>\n",
       "      <td>2021-05-01</td>\n",
       "      <td>ADANI GREEN ENERGY</td>\n",
       "      <td>1015.00</td>\n",
       "      <td>1390.00</td>\n",
       "      <td>990.00</td>\n",
       "      <td>1268.20</td>\n",
       "      <td>18086585</td>\n",
       "      <td>0</td>\n",
       "      <td>253.20</td>\n",
       "      <td>...</td>\n",
       "      <td>rally-base-drop</td>\n",
       "      <td>False</td>\n",
       "      <td>2024-12-23</td>\n",
       "      <td>1049.7</td>\n",
       "      <td>1059.05</td>\n",
       "      <td>1020.0</td>\n",
       "      <td>1031.05</td>\n",
       "      <td>5270895</td>\n",
       "      <td>0</td>\n",
       "      <td>True</td>\n",
       "    </tr>\n",
       "    <tr>\n",
       "      <th>4</th>\n",
       "      <td>7789</td>\n",
       "      <td>2021-07-01</td>\n",
       "      <td>ADANI GREEN ENERGY</td>\n",
       "      <td>1124.90</td>\n",
       "      <td>1128.40</td>\n",
       "      <td>875.00</td>\n",
       "      <td>882.30</td>\n",
       "      <td>3756658</td>\n",
       "      <td>0</td>\n",
       "      <td>242.60</td>\n",
       "      <td>...</td>\n",
       "      <td>rally-base-drop</td>\n",
       "      <td>False</td>\n",
       "      <td>2024-12-23</td>\n",
       "      <td>1049.7</td>\n",
       "      <td>1059.05</td>\n",
       "      <td>1020.0</td>\n",
       "      <td>1031.05</td>\n",
       "      <td>5270895</td>\n",
       "      <td>0</td>\n",
       "      <td>False</td>\n",
       "    </tr>\n",
       "    <tr>\n",
       "      <th>5</th>\n",
       "      <td>21494</td>\n",
       "      <td>2023-12-01</td>\n",
       "      <td>ADANI GREEN ENERGY</td>\n",
       "      <td>1042.00</td>\n",
       "      <td>1700.00</td>\n",
       "      <td>1020.00</td>\n",
       "      <td>1597.00</td>\n",
       "      <td>87525688</td>\n",
       "      <td>0</td>\n",
       "      <td>555.00</td>\n",
       "      <td>...</td>\n",
       "      <td>rally-base-rally</td>\n",
       "      <td>False</td>\n",
       "      <td>2024-12-23</td>\n",
       "      <td>1049.7</td>\n",
       "      <td>1059.05</td>\n",
       "      <td>1020.0</td>\n",
       "      <td>1031.05</td>\n",
       "      <td>5270895</td>\n",
       "      <td>0</td>\n",
       "      <td>True</td>\n",
       "    </tr>\n",
       "    <tr>\n",
       "      <th>6</th>\n",
       "      <td>22448</td>\n",
       "      <td>2024-02-01</td>\n",
       "      <td>ADANI GREEN ENERGY</td>\n",
       "      <td>1689.00</td>\n",
       "      <td>2018.95</td>\n",
       "      <td>1651.60</td>\n",
       "      <td>1895.05</td>\n",
       "      <td>43456863</td>\n",
       "      <td>0</td>\n",
       "      <td>206.05</td>\n",
       "      <td>...</td>\n",
       "      <td>rally-base-rally</td>\n",
       "      <td>False</td>\n",
       "      <td>2024-12-23</td>\n",
       "      <td>1049.7</td>\n",
       "      <td>1059.05</td>\n",
       "      <td>1020.0</td>\n",
       "      <td>1031.05</td>\n",
       "      <td>5270895</td>\n",
       "      <td>0</td>\n",
       "      <td>False</td>\n",
       "    </tr>\n",
       "    <tr>\n",
       "      <th>7</th>\n",
       "      <td>26264</td>\n",
       "      <td>2024-10-01</td>\n",
       "      <td>ADANI GREEN ENERGY</td>\n",
       "      <td>1915.55</td>\n",
       "      <td>1929.55</td>\n",
       "      <td>1588.00</td>\n",
       "      <td>1598.30</td>\n",
       "      <td>14900493</td>\n",
       "      <td>0</td>\n",
       "      <td>317.25</td>\n",
       "      <td>...</td>\n",
       "      <td>drop-base-drop</td>\n",
       "      <td>False</td>\n",
       "      <td>2024-12-23</td>\n",
       "      <td>1049.7</td>\n",
       "      <td>1059.05</td>\n",
       "      <td>1020.0</td>\n",
       "      <td>1031.05</td>\n",
       "      <td>5270895</td>\n",
       "      <td>0</td>\n",
       "      <td>False</td>\n",
       "    </tr>\n",
       "    <tr>\n",
       "      <th>8</th>\n",
       "      <td>26741</td>\n",
       "      <td>2024-11-01</td>\n",
       "      <td>ADANI GREEN ENERGY</td>\n",
       "      <td>1620.00</td>\n",
       "      <td>1733.95</td>\n",
       "      <td>870.25</td>\n",
       "      <td>1323.90</td>\n",
       "      <td>117334950</td>\n",
       "      <td>0</td>\n",
       "      <td>296.10</td>\n",
       "      <td>...</td>\n",
       "      <td>drop-base-drop</td>\n",
       "      <td>False</td>\n",
       "      <td>2024-12-23</td>\n",
       "      <td>1049.7</td>\n",
       "      <td>1059.05</td>\n",
       "      <td>1020.0</td>\n",
       "      <td>1031.05</td>\n",
       "      <td>5270895</td>\n",
       "      <td>0</td>\n",
       "      <td>False</td>\n",
       "    </tr>\n",
       "    <tr>\n",
       "      <th>9</th>\n",
       "      <td>27218</td>\n",
       "      <td>2024-12-01</td>\n",
       "      <td>ADANI GREEN ENERGY</td>\n",
       "      <td>1360.55</td>\n",
       "      <td>1447.70</td>\n",
       "      <td>1015.10</td>\n",
       "      <td>1034.35</td>\n",
       "      <td>92751385</td>\n",
       "      <td>0</td>\n",
       "      <td>326.20</td>\n",
       "      <td>...</td>\n",
       "      <td>drop-base-drop</td>\n",
       "      <td>False</td>\n",
       "      <td>2024-12-23</td>\n",
       "      <td>1049.7</td>\n",
       "      <td>1059.05</td>\n",
       "      <td>1020.0</td>\n",
       "      <td>1031.05</td>\n",
       "      <td>5270895</td>\n",
       "      <td>0</td>\n",
       "      <td>False</td>\n",
       "    </tr>\n",
       "  </tbody>\n",
       "</table>\n",
       "<p>10 rows × 23 columns</p>\n",
       "</div>"
      ],
      "text/plain": [
       "   index      month              symbol  open_month  high_month  low_month  \\\n",
       "0    427 2020-02-01  ADANI GREEN ENERGY      192.80      221.65     154.85   \n",
       "1    848 2020-03-01  ADANI GREEN ENERGY      156.60      163.00     111.90   \n",
       "2   1272 2020-04-01  ADANI GREEN ENERGY      155.50      212.85     150.45   \n",
       "3   6892 2021-05-01  ADANI GREEN ENERGY     1015.00     1390.00     990.00   \n",
       "4   7789 2021-07-01  ADANI GREEN ENERGY     1124.90     1128.40     875.00   \n",
       "5  21494 2023-12-01  ADANI GREEN ENERGY     1042.00     1700.00    1020.00   \n",
       "6  22448 2024-02-01  ADANI GREEN ENERGY     1689.00     2018.95    1651.60   \n",
       "7  26264 2024-10-01  ADANI GREEN ENERGY     1915.55     1929.55    1588.00   \n",
       "8  26741 2024-11-01  ADANI GREEN ENERGY     1620.00     1733.95     870.25   \n",
       "9  27218 2024-12-01  ADANI GREEN ENERGY     1360.55     1447.70    1015.10   \n",
       "\n",
       "   close_month  volume_month  oi_month  body_size  ...      pattern_flag  \\\n",
       "0       154.95      30169905         0      37.85  ...   drop-base-rally   \n",
       "1       153.25      16710919         0       3.35  ...   drop-base-rally   \n",
       "2       210.45       8683611         0      54.95  ...   drop-base-rally   \n",
       "3      1268.20      18086585         0     253.20  ...   rally-base-drop   \n",
       "4       882.30       3756658         0     242.60  ...   rally-base-drop   \n",
       "5      1597.00      87525688         0     555.00  ...  rally-base-rally   \n",
       "6      1895.05      43456863         0     206.05  ...  rally-base-rally   \n",
       "7      1598.30      14900493         0     317.25  ...    drop-base-drop   \n",
       "8      1323.90     117334950         0     296.10  ...    drop-base-drop   \n",
       "9      1034.35      92751385         0     326.20  ...    drop-base-drop   \n",
       "\n",
       "   tested_zone       week open_day  high_day low_day  close_day  volume_day  \\\n",
       "0        False 2024-12-23   1049.7   1059.05  1020.0    1031.05     5270895   \n",
       "1        False 2024-12-23   1049.7   1059.05  1020.0    1031.05     5270895   \n",
       "2        False 2024-12-23   1049.7   1059.05  1020.0    1031.05     5270895   \n",
       "3        False 2024-12-23   1049.7   1059.05  1020.0    1031.05     5270895   \n",
       "4        False 2024-12-23   1049.7   1059.05  1020.0    1031.05     5270895   \n",
       "5        False 2024-12-23   1049.7   1059.05  1020.0    1031.05     5270895   \n",
       "6        False 2024-12-23   1049.7   1059.05  1020.0    1031.05     5270895   \n",
       "7        False 2024-12-23   1049.7   1059.05  1020.0    1031.05     5270895   \n",
       "8        False 2024-12-23   1049.7   1059.05  1020.0    1031.05     5270895   \n",
       "9        False 2024-12-23   1049.7   1059.05  1020.0    1031.05     5270895   \n",
       "\n",
       "   oi_day  price_in_range  \n",
       "0       0           False  \n",
       "1       0           False  \n",
       "2       0           False  \n",
       "3       0            True  \n",
       "4       0           False  \n",
       "5       0            True  \n",
       "6       0           False  \n",
       "7       0           False  \n",
       "8       0           False  \n",
       "9       0           False  \n",
       "\n",
       "[10 rows x 23 columns]"
      ]
     },
     "execution_count": 89,
     "metadata": {},
     "output_type": "execute_result"
    }
   ],
   "source": [
    "pattern_matches"
   ]
  },
  {
   "cell_type": "code",
   "execution_count": 79,
   "metadata": {},
   "outputs": [],
   "source": [
    "pattern_matches[pattern_matches['price_in_range'] == True].to_clipboard()"
   ]
  },
  {
   "cell_type": "code",
   "execution_count": null,
   "metadata": {},
   "outputs": [],
   "source": [
    "# exciting candle should be above average of candles "
   ]
  },
  {
   "cell_type": "markdown",
   "metadata": {},
   "source": []
  },
  {
   "cell_type": "markdown",
   "metadata": {},
   "source": [
    "# plots"
   ]
  },
  {
   "cell_type": "code",
   "execution_count": 76,
   "metadata": {},
   "outputs": [],
   "source": [
    "import pandas as pd\n",
    "import matplotlib.pyplot as plt\n",
    "import calendar\n",
    "\n",
    "# Load your Excel file\n",
    "file_path = '/Users/akash_verma/Downloads/LEDGER REPORT29_12_2024.xlsx'\n",
    "df = pd.read_excel(file_path, engine = 'openpyxl')\n",
    "df.rename(columns = {\"Doc Date\":'Date'},inplace=True)\n",
    "df.Date = pd.to_datetime(df.Date)"
   ]
  },
  {
   "cell_type": "code",
   "execution_count": 78,
   "metadata": {},
   "outputs": [
    {
     "data": {
      "text/html": [
       "<div>\n",
       "<style scoped>\n",
       "    .dataframe tbody tr th:only-of-type {\n",
       "        vertical-align: middle;\n",
       "    }\n",
       "\n",
       "    .dataframe tbody tr th {\n",
       "        vertical-align: top;\n",
       "    }\n",
       "\n",
       "    .dataframe thead th {\n",
       "        text-align: right;\n",
       "    }\n",
       "</style>\n",
       "<table border=\"1\" class=\"dataframe\">\n",
       "  <thead>\n",
       "    <tr style=\"text-align: right;\">\n",
       "      <th></th>\n",
       "      <th>Date</th>\n",
       "      <th>Doc No</th>\n",
       "      <th>Cheque No</th>\n",
       "      <th>Narration</th>\n",
       "      <th>Dr/Cr</th>\n",
       "      <th>Amount</th>\n",
       "      <th>Balance</th>\n",
       "      <th>Year</th>\n",
       "      <th>Month</th>\n",
       "      <th>Day</th>\n",
       "    </tr>\n",
       "  </thead>\n",
       "  <tbody>\n",
       "    <tr>\n",
       "      <th>0</th>\n",
       "      <td>NaT</td>\n",
       "      <td>NaN</td>\n",
       "      <td>nan</td>\n",
       "      <td>Projected Balance (C = B + A)</td>\n",
       "      <td>NaN</td>\n",
       "      <td>nan</td>\n",
       "      <td>38729.01 Cr</td>\n",
       "      <td>nan</td>\n",
       "      <td>NaN</td>\n",
       "      <td>nan</td>\n",
       "    </tr>\n",
       "    <tr>\n",
       "      <th>1</th>\n",
       "      <td>NaT</td>\n",
       "      <td>NaN</td>\n",
       "      <td>nan</td>\n",
       "      <td>Future Dated Entries (B)</td>\n",
       "      <td>NaN</td>\n",
       "      <td>nan</td>\n",
       "      <td>NaN</td>\n",
       "      <td>nan</td>\n",
       "      <td>NaN</td>\n",
       "      <td>nan</td>\n",
       "    </tr>\n",
       "    <tr>\n",
       "      <th>2</th>\n",
       "      <td>NaT</td>\n",
       "      <td>NaN</td>\n",
       "      <td>nan</td>\n",
       "      <td>Balance (A)</td>\n",
       "      <td>NaN</td>\n",
       "      <td>nan</td>\n",
       "      <td>38729.01 Cr</td>\n",
       "      <td>nan</td>\n",
       "      <td>NaN</td>\n",
       "      <td>nan</td>\n",
       "    </tr>\n",
       "    <tr>\n",
       "      <th>3</th>\n",
       "      <td>2024-12-27</td>\n",
       "      <td>TJV2412271</td>\n",
       "      <td>186346.00</td>\n",
       "      <td>Bill for the trade date 27/12/2024 No - 186346</td>\n",
       "      <td>Cr</td>\n",
       "      <td>2728.69</td>\n",
       "      <td>38729.01 Cr</td>\n",
       "      <td>2024.00</td>\n",
       "      <td>December</td>\n",
       "      <td>27.00</td>\n",
       "    </tr>\n",
       "    <tr>\n",
       "      <th>4</th>\n",
       "      <td>2024-12-26</td>\n",
       "      <td>TJV2412261</td>\n",
       "      <td>185645.00</td>\n",
       "      <td>Bill for the trade date 26/12/2024 No - 185645</td>\n",
       "      <td>Cr</td>\n",
       "      <td>3923.33</td>\n",
       "      <td>36000.32 Cr</td>\n",
       "      <td>2024.00</td>\n",
       "      <td>December</td>\n",
       "      <td>26.00</td>\n",
       "    </tr>\n",
       "  </tbody>\n",
       "</table>\n",
       "</div>"
      ],
      "text/plain": [
       "        Date      Doc No  Cheque No  \\\n",
       "0        NaT         NaN        nan   \n",
       "1        NaT         NaN        nan   \n",
       "2        NaT         NaN        nan   \n",
       "3 2024-12-27  TJV2412271  186346.00   \n",
       "4 2024-12-26  TJV2412261  185645.00   \n",
       "\n",
       "                                        Narration Dr/Cr  Amount      Balance  \\\n",
       "0                   Projected Balance (C = B + A)   NaN     nan  38729.01 Cr   \n",
       "1                        Future Dated Entries (B)   NaN     nan          NaN   \n",
       "2                                     Balance (A)   NaN     nan  38729.01 Cr   \n",
       "3  Bill for the trade date 27/12/2024 No - 186346    Cr 2728.69  38729.01 Cr   \n",
       "4  Bill for the trade date 26/12/2024 No - 185645    Cr 3923.33  36000.32 Cr   \n",
       "\n",
       "     Year     Month   Day  \n",
       "0     nan       NaN   nan  \n",
       "1     nan       NaN   nan  \n",
       "2     nan       NaN   nan  \n",
       "3 2024.00  December 27.00  \n",
       "4 2024.00  December 26.00  "
      ]
     },
     "execution_count": 78,
     "metadata": {},
     "output_type": "execute_result"
    }
   ],
   "source": [
    "df.head()"
   ]
  },
  {
   "cell_type": "code",
   "execution_count": 74,
   "metadata": {},
   "outputs": [
    {
     "data": {
      "application/vnd.plotly.v1+json": {
       "config": {
        "plotlyServerURL": "https://plot.ly"
       },
       "data": [
        {
         "customdata": [
          [
           -1803.97,
           2024
          ],
          [
           9101.470000000001,
           2024
          ],
          [
           1324.74,
           2024
          ],
          [
           -8326.59,
           2024
          ],
          [
           523.28,
           2024
          ],
          [
           -1744.37,
           2024
          ],
          [
           14155.11,
           2024
          ],
          [
           -791.62,
           2024
          ],
          [
           -22355.370000000003,
           2024
          ],
          [
           10629.8,
           2024
          ],
          [
           955.3,
           2024
          ],
          [
           1532.15,
           2024
          ],
          [
           -4726.05,
           2024
          ],
          [
           -5504.76,
           2024
          ],
          [
           14303.470000000001,
           2024
          ],
          [
           20535.22,
           2024
          ],
          [
           3908.71,
           2024
          ],
          [
           -1814.03,
           2024
          ],
          [
           -12583.54,
           2024
          ],
          [
           -737.03,
           2024
          ],
          [
           -65.15,
           2024
          ],
          [
           -241.66999999999996,
           2024
          ],
          [
           2508.22,
           2024
          ],
          [
           -1000.97,
           2024
          ],
          [
           -661.05,
           2024
          ],
          [
           -371.2,
           2024
          ],
          [
           1618.32,
           2024
          ],
          [
           2342.97,
           2024
          ],
          [
           2398.91,
           2024
          ],
          [
           -4487.75,
           2024
          ],
          [
           -5478.98,
           2024
          ],
          [
           19171.17,
           2024
          ],
          [
           -31068.66,
           2024
          ],
          [
           -13584.9,
           2024
          ],
          [
           -6411.19,
           2024
          ],
          [
           -435.93,
           2024
          ],
          [
           -17790,
           2024
          ],
          [
           17864.02,
           2024
          ],
          [
           -687.39,
           2024
          ],
          [
           -3412.61,
           2024
          ],
          [
           -2805.84,
           2024
          ],
          [
           -818.47,
           2024
          ],
          [
           -1085.15,
           2024
          ],
          [
           3938.42,
           2024
          ],
          [
           -4718.82,
           2024
          ],
          [
           4788.98,
           2024
          ],
          [
           4767.629999999999,
           2024
          ],
          [
           -116.63,
           2024
          ],
          [
           51025.1,
           2024
          ],
          [
           -11759.62,
           2024
          ],
          [
           -17132.82,
           2024
          ],
          [
           2037.8500000000004,
           2024
          ],
          [
           9375.84,
           2024
          ],
          [
           360.3699999999999,
           2024
          ],
          [
           8670.73,
           2024
          ],
          [
           -5055.28,
           2024
          ],
          [
           -15000,
           2024
          ],
          [
           -1048.82,
           2024
          ],
          [
           928.19,
           2024
          ],
          [
           -8030.72,
           2024
          ],
          [
           164.02,
           2024
          ],
          [
           -567.37,
           2024
          ],
          [
           -5141.26,
           2024
          ],
          [
           1500,
           2024
          ],
          [
           -4718.82,
           2024
          ],
          [
           45609.6,
           2024
          ],
          [
           -7549.69,
           2024
          ],
          [
           -1714.4500000000007,
           2024
          ],
          [
           -7900,
           2024
          ],
          [
           9248.51,
           2024
          ],
          [
           1026.5,
           2024
          ],
          [
           -1103.82,
           2024
          ],
          [
           -270.66,
           2024
          ],
          [
           430.41,
           2024
          ],
          [
           652.8,
           2024
          ],
          [
           -3309.2,
           2024
          ],
          [
           -9696.32,
           2024
          ],
          [
           1440.14,
           2024
          ],
          [
           -1555.46,
           2024
          ],
          [
           1793.4,
           2024
          ],
          [
           -378.18,
           2024
          ],
          [
           -2103.04,
           2024
          ],
          [
           13637.869999999999,
           2024
          ],
          [
           4691.39,
           2024
          ],
          [
           -5458.9,
           2024
          ],
          [
           -13341.13,
           2024
          ],
          [
           24684.63,
           2024
          ],
          [
           -25394.86,
           2024
          ],
          [
           6143.37,
           2024
          ],
          [
           -9500,
           2024
          ],
          [
           17986.62,
           2024
          ],
          [
           -5864.32,
           2024
          ],
          [
           -1933.14,
           2024
          ],
          [
           -5635.4,
           2024
          ],
          [
           -5479,
           2024
          ],
          [
           14007.61,
           2024
          ],
          [
           -6979.92,
           2024
          ],
          [
           -702.64,
           2024
          ],
          [
           1577.8,
           2024
          ],
          [
           1633.87,
           2024
          ],
          [
           -5274.08,
           2024
          ],
          [
           -5000,
           2024
          ],
          [
           2617.51,
           2024
          ],
          [
           -7350.78,
           2024
          ],
          [
           20909.12,
           2024
          ],
          [
           -5985.6,
           2024
          ],
          [
           -3028.48,
           2024
          ],
          [
           1935.97,
           2024
          ],
          [
           -2663.71,
           2024
          ],
          [
           -1939.6099999999997,
           2024
          ],
          [
           947,
           2024
          ],
          [
           21869.7,
           2024
          ],
          [
           3923.33,
           2024
          ],
          [
           2728.69,
           2024
          ]
         ],
         "hovertemplate": "Day of the Month=%{x}<br>Month=%{y}<br>Amount=%{marker.color:.2f}<br>Year=%{customdata[1]}<extra></extra>",
         "legendgroup": "",
         "marker": {
          "color": [
           -1803.97,
           9101.470000000001,
           1324.74,
           -8326.59,
           523.28,
           -1744.37,
           14155.11,
           -791.62,
           -22355.370000000003,
           10629.8,
           955.3,
           1532.15,
           -4726.05,
           -5504.76,
           14303.470000000001,
           20535.22,
           3908.71,
           -1814.03,
           -12583.54,
           -737.03,
           -65.15,
           -241.66999999999996,
           2508.22,
           -1000.97,
           -661.05,
           -371.2,
           1618.32,
           2342.97,
           2398.91,
           -4487.75,
           -5478.98,
           19171.17,
           -31068.66,
           -13584.9,
           -6411.19,
           -435.93,
           -17790,
           17864.02,
           -687.39,
           -3412.61,
           -2805.84,
           -818.47,
           -1085.15,
           3938.42,
           -4718.82,
           4788.98,
           4767.629999999999,
           -116.63,
           51025.1,
           -11759.62,
           -17132.82,
           2037.8500000000004,
           9375.84,
           360.3699999999999,
           8670.73,
           -5055.28,
           -15000,
           -1048.82,
           928.19,
           -8030.72,
           164.02,
           -567.37,
           -5141.26,
           1500,
           -4718.82,
           45609.6,
           -7549.69,
           -1714.4500000000007,
           -7900,
           9248.51,
           1026.5,
           -1103.82,
           -270.66,
           430.41,
           652.8,
           -3309.2,
           -9696.32,
           1440.14,
           -1555.46,
           1793.4,
           -378.18,
           -2103.04,
           13637.869999999999,
           4691.39,
           -5458.9,
           -13341.13,
           24684.63,
           -25394.86,
           6143.37,
           -9500,
           17986.62,
           -5864.32,
           -1933.14,
           -5635.4,
           -5479,
           14007.61,
           -6979.92,
           -702.64,
           1577.8,
           1633.87,
           -5274.08,
           -5000,
           2617.51,
           -7350.78,
           20909.12,
           -5985.6,
           -3028.48,
           1935.97,
           -2663.71,
           -1939.6099999999997,
           947,
           21869.7,
           3923.33,
           2728.69
          ],
          "coloraxis": "coloraxis",
          "symbol": "circle"
         },
         "mode": "markers",
         "name": "",
         "orientation": "h",
         "showlegend": false,
         "type": "scatter",
         "x": [
          7,
          8,
          10,
          8,
          6,
          7,
          10,
          6,
          10,
          11,
          12,
          6,
          7,
          8,
          11,
          12,
          13,
          14,
          15,
          16,
          18,
          21,
          22,
          23,
          24,
          27,
          28,
          29,
          30,
          31,
          6,
          8,
          11,
          12,
          13,
          14,
          18,
          19,
          20,
          21,
          24,
          26,
          27,
          28,
          30,
          8,
          10,
          11,
          29,
          30,
          31,
          8,
          10,
          11,
          13,
          14,
          16,
          19,
          20,
          22,
          23,
          26,
          27,
          30,
          31,
          5,
          8,
          10,
          12,
          19,
          20,
          23,
          24,
          26,
          27,
          30,
          5,
          6,
          10,
          14,
          15,
          16,
          17,
          18,
          21,
          22,
          23,
          24,
          25,
          28,
          30,
          31,
          6,
          10,
          11,
          13,
          14,
          18,
          19,
          21,
          22,
          27,
          6,
          8,
          13,
          16,
          17,
          18,
          19,
          20,
          23,
          24,
          26,
          27
         ],
         "xaxis": "x",
         "y": [
          "January",
          "January",
          "January",
          "February",
          "March",
          "March",
          "March",
          "April",
          "April",
          "April",
          "April",
          "May",
          "May",
          "May",
          "May",
          "May",
          "May",
          "May",
          "May",
          "May",
          "May",
          "May",
          "May",
          "May",
          "May",
          "May",
          "May",
          "May",
          "May",
          "May",
          "June",
          "June",
          "June",
          "June",
          "June",
          "June",
          "June",
          "June",
          "June",
          "June",
          "June",
          "June",
          "June",
          "June",
          "June",
          "July",
          "July",
          "July",
          "July",
          "July",
          "July",
          "August",
          "August",
          "August",
          "August",
          "August",
          "August",
          "August",
          "August",
          "August",
          "August",
          "August",
          "August",
          "August",
          "August",
          "September",
          "September",
          "September",
          "September",
          "September",
          "September",
          "September",
          "September",
          "September",
          "September",
          "September",
          "October",
          "October",
          "October",
          "October",
          "October",
          "October",
          "October",
          "October",
          "October",
          "October",
          "October",
          "October",
          "October",
          "October",
          "October",
          "October",
          "November",
          "November",
          "November",
          "November",
          "November",
          "November",
          "November",
          "November",
          "November",
          "November",
          "December",
          "December",
          "December",
          "December",
          "December",
          "December",
          "December",
          "December",
          "December",
          "December",
          "December",
          "December"
         ],
         "yaxis": "y"
        }
       ],
       "layout": {
        "coloraxis": {
         "colorbar": {
          "title": {
           "text": "Amount"
          }
         },
         "colorscale": [
          [
           0,
           "rgb(165,0,38)"
          ],
          [
           0.1,
           "rgb(215,48,39)"
          ],
          [
           0.2,
           "rgb(244,109,67)"
          ],
          [
           0.3,
           "rgb(253,174,97)"
          ],
          [
           0.4,
           "rgb(254,224,139)"
          ],
          [
           0.5,
           "rgb(255,255,191)"
          ],
          [
           0.6,
           "rgb(217,239,139)"
          ],
          [
           0.7,
           "rgb(166,217,106)"
          ],
          [
           0.8,
           "rgb(102,189,99)"
          ],
          [
           0.9,
           "rgb(26,152,80)"
          ],
          [
           1,
           "rgb(0,104,55)"
          ]
         ]
        },
        "legend": {
         "tracegroupgap": 0
        },
        "template": {
         "data": {
          "bar": [
           {
            "error_x": {
             "color": "#2a3f5f"
            },
            "error_y": {
             "color": "#2a3f5f"
            },
            "marker": {
             "line": {
              "color": "white",
              "width": 0.5
             },
             "pattern": {
              "fillmode": "overlay",
              "size": 10,
              "solidity": 0.2
             }
            },
            "type": "bar"
           }
          ],
          "barpolar": [
           {
            "marker": {
             "line": {
              "color": "white",
              "width": 0.5
             },
             "pattern": {
              "fillmode": "overlay",
              "size": 10,
              "solidity": 0.2
             }
            },
            "type": "barpolar"
           }
          ],
          "carpet": [
           {
            "aaxis": {
             "endlinecolor": "#2a3f5f",
             "gridcolor": "#C8D4E3",
             "linecolor": "#C8D4E3",
             "minorgridcolor": "#C8D4E3",
             "startlinecolor": "#2a3f5f"
            },
            "baxis": {
             "endlinecolor": "#2a3f5f",
             "gridcolor": "#C8D4E3",
             "linecolor": "#C8D4E3",
             "minorgridcolor": "#C8D4E3",
             "startlinecolor": "#2a3f5f"
            },
            "type": "carpet"
           }
          ],
          "choropleth": [
           {
            "colorbar": {
             "outlinewidth": 0,
             "ticks": ""
            },
            "type": "choropleth"
           }
          ],
          "contour": [
           {
            "colorbar": {
             "outlinewidth": 0,
             "ticks": ""
            },
            "colorscale": [
             [
              0,
              "#0d0887"
             ],
             [
              0.1111111111111111,
              "#46039f"
             ],
             [
              0.2222222222222222,
              "#7201a8"
             ],
             [
              0.3333333333333333,
              "#9c179e"
             ],
             [
              0.4444444444444444,
              "#bd3786"
             ],
             [
              0.5555555555555556,
              "#d8576b"
             ],
             [
              0.6666666666666666,
              "#ed7953"
             ],
             [
              0.7777777777777778,
              "#fb9f3a"
             ],
             [
              0.8888888888888888,
              "#fdca26"
             ],
             [
              1,
              "#f0f921"
             ]
            ],
            "type": "contour"
           }
          ],
          "contourcarpet": [
           {
            "colorbar": {
             "outlinewidth": 0,
             "ticks": ""
            },
            "type": "contourcarpet"
           }
          ],
          "heatmap": [
           {
            "colorbar": {
             "outlinewidth": 0,
             "ticks": ""
            },
            "colorscale": [
             [
              0,
              "#0d0887"
             ],
             [
              0.1111111111111111,
              "#46039f"
             ],
             [
              0.2222222222222222,
              "#7201a8"
             ],
             [
              0.3333333333333333,
              "#9c179e"
             ],
             [
              0.4444444444444444,
              "#bd3786"
             ],
             [
              0.5555555555555556,
              "#d8576b"
             ],
             [
              0.6666666666666666,
              "#ed7953"
             ],
             [
              0.7777777777777778,
              "#fb9f3a"
             ],
             [
              0.8888888888888888,
              "#fdca26"
             ],
             [
              1,
              "#f0f921"
             ]
            ],
            "type": "heatmap"
           }
          ],
          "heatmapgl": [
           {
            "colorbar": {
             "outlinewidth": 0,
             "ticks": ""
            },
            "colorscale": [
             [
              0,
              "#0d0887"
             ],
             [
              0.1111111111111111,
              "#46039f"
             ],
             [
              0.2222222222222222,
              "#7201a8"
             ],
             [
              0.3333333333333333,
              "#9c179e"
             ],
             [
              0.4444444444444444,
              "#bd3786"
             ],
             [
              0.5555555555555556,
              "#d8576b"
             ],
             [
              0.6666666666666666,
              "#ed7953"
             ],
             [
              0.7777777777777778,
              "#fb9f3a"
             ],
             [
              0.8888888888888888,
              "#fdca26"
             ],
             [
              1,
              "#f0f921"
             ]
            ],
            "type": "heatmapgl"
           }
          ],
          "histogram": [
           {
            "marker": {
             "pattern": {
              "fillmode": "overlay",
              "size": 10,
              "solidity": 0.2
             }
            },
            "type": "histogram"
           }
          ],
          "histogram2d": [
           {
            "colorbar": {
             "outlinewidth": 0,
             "ticks": ""
            },
            "colorscale": [
             [
              0,
              "#0d0887"
             ],
             [
              0.1111111111111111,
              "#46039f"
             ],
             [
              0.2222222222222222,
              "#7201a8"
             ],
             [
              0.3333333333333333,
              "#9c179e"
             ],
             [
              0.4444444444444444,
              "#bd3786"
             ],
             [
              0.5555555555555556,
              "#d8576b"
             ],
             [
              0.6666666666666666,
              "#ed7953"
             ],
             [
              0.7777777777777778,
              "#fb9f3a"
             ],
             [
              0.8888888888888888,
              "#fdca26"
             ],
             [
              1,
              "#f0f921"
             ]
            ],
            "type": "histogram2d"
           }
          ],
          "histogram2dcontour": [
           {
            "colorbar": {
             "outlinewidth": 0,
             "ticks": ""
            },
            "colorscale": [
             [
              0,
              "#0d0887"
             ],
             [
              0.1111111111111111,
              "#46039f"
             ],
             [
              0.2222222222222222,
              "#7201a8"
             ],
             [
              0.3333333333333333,
              "#9c179e"
             ],
             [
              0.4444444444444444,
              "#bd3786"
             ],
             [
              0.5555555555555556,
              "#d8576b"
             ],
             [
              0.6666666666666666,
              "#ed7953"
             ],
             [
              0.7777777777777778,
              "#fb9f3a"
             ],
             [
              0.8888888888888888,
              "#fdca26"
             ],
             [
              1,
              "#f0f921"
             ]
            ],
            "type": "histogram2dcontour"
           }
          ],
          "mesh3d": [
           {
            "colorbar": {
             "outlinewidth": 0,
             "ticks": ""
            },
            "type": "mesh3d"
           }
          ],
          "parcoords": [
           {
            "line": {
             "colorbar": {
              "outlinewidth": 0,
              "ticks": ""
             }
            },
            "type": "parcoords"
           }
          ],
          "pie": [
           {
            "automargin": true,
            "type": "pie"
           }
          ],
          "scatter": [
           {
            "fillpattern": {
             "fillmode": "overlay",
             "size": 10,
             "solidity": 0.2
            },
            "type": "scatter"
           }
          ],
          "scatter3d": [
           {
            "line": {
             "colorbar": {
              "outlinewidth": 0,
              "ticks": ""
             }
            },
            "marker": {
             "colorbar": {
              "outlinewidth": 0,
              "ticks": ""
             }
            },
            "type": "scatter3d"
           }
          ],
          "scattercarpet": [
           {
            "marker": {
             "colorbar": {
              "outlinewidth": 0,
              "ticks": ""
             }
            },
            "type": "scattercarpet"
           }
          ],
          "scattergeo": [
           {
            "marker": {
             "colorbar": {
              "outlinewidth": 0,
              "ticks": ""
             }
            },
            "type": "scattergeo"
           }
          ],
          "scattergl": [
           {
            "marker": {
             "colorbar": {
              "outlinewidth": 0,
              "ticks": ""
             }
            },
            "type": "scattergl"
           }
          ],
          "scattermapbox": [
           {
            "marker": {
             "colorbar": {
              "outlinewidth": 0,
              "ticks": ""
             }
            },
            "type": "scattermapbox"
           }
          ],
          "scatterpolar": [
           {
            "marker": {
             "colorbar": {
              "outlinewidth": 0,
              "ticks": ""
             }
            },
            "type": "scatterpolar"
           }
          ],
          "scatterpolargl": [
           {
            "marker": {
             "colorbar": {
              "outlinewidth": 0,
              "ticks": ""
             }
            },
            "type": "scatterpolargl"
           }
          ],
          "scatterternary": [
           {
            "marker": {
             "colorbar": {
              "outlinewidth": 0,
              "ticks": ""
             }
            },
            "type": "scatterternary"
           }
          ],
          "surface": [
           {
            "colorbar": {
             "outlinewidth": 0,
             "ticks": ""
            },
            "colorscale": [
             [
              0,
              "#0d0887"
             ],
             [
              0.1111111111111111,
              "#46039f"
             ],
             [
              0.2222222222222222,
              "#7201a8"
             ],
             [
              0.3333333333333333,
              "#9c179e"
             ],
             [
              0.4444444444444444,
              "#bd3786"
             ],
             [
              0.5555555555555556,
              "#d8576b"
             ],
             [
              0.6666666666666666,
              "#ed7953"
             ],
             [
              0.7777777777777778,
              "#fb9f3a"
             ],
             [
              0.8888888888888888,
              "#fdca26"
             ],
             [
              1,
              "#f0f921"
             ]
            ],
            "type": "surface"
           }
          ],
          "table": [
           {
            "cells": {
             "fill": {
              "color": "#EBF0F8"
             },
             "line": {
              "color": "white"
             }
            },
            "header": {
             "fill": {
              "color": "#C8D4E3"
             },
             "line": {
              "color": "white"
             }
            },
            "type": "table"
           }
          ]
         },
         "layout": {
          "annotationdefaults": {
           "arrowcolor": "#2a3f5f",
           "arrowhead": 0,
           "arrowwidth": 1
          },
          "autotypenumbers": "strict",
          "coloraxis": {
           "colorbar": {
            "outlinewidth": 0,
            "ticks": ""
           }
          },
          "colorscale": {
           "diverging": [
            [
             0,
             "#8e0152"
            ],
            [
             0.1,
             "#c51b7d"
            ],
            [
             0.2,
             "#de77ae"
            ],
            [
             0.3,
             "#f1b6da"
            ],
            [
             0.4,
             "#fde0ef"
            ],
            [
             0.5,
             "#f7f7f7"
            ],
            [
             0.6,
             "#e6f5d0"
            ],
            [
             0.7,
             "#b8e186"
            ],
            [
             0.8,
             "#7fbc41"
            ],
            [
             0.9,
             "#4d9221"
            ],
            [
             1,
             "#276419"
            ]
           ],
           "sequential": [
            [
             0,
             "#0d0887"
            ],
            [
             0.1111111111111111,
             "#46039f"
            ],
            [
             0.2222222222222222,
             "#7201a8"
            ],
            [
             0.3333333333333333,
             "#9c179e"
            ],
            [
             0.4444444444444444,
             "#bd3786"
            ],
            [
             0.5555555555555556,
             "#d8576b"
            ],
            [
             0.6666666666666666,
             "#ed7953"
            ],
            [
             0.7777777777777778,
             "#fb9f3a"
            ],
            [
             0.8888888888888888,
             "#fdca26"
            ],
            [
             1,
             "#f0f921"
            ]
           ],
           "sequentialminus": [
            [
             0,
             "#0d0887"
            ],
            [
             0.1111111111111111,
             "#46039f"
            ],
            [
             0.2222222222222222,
             "#7201a8"
            ],
            [
             0.3333333333333333,
             "#9c179e"
            ],
            [
             0.4444444444444444,
             "#bd3786"
            ],
            [
             0.5555555555555556,
             "#d8576b"
            ],
            [
             0.6666666666666666,
             "#ed7953"
            ],
            [
             0.7777777777777778,
             "#fb9f3a"
            ],
            [
             0.8888888888888888,
             "#fdca26"
            ],
            [
             1,
             "#f0f921"
            ]
           ]
          },
          "colorway": [
           "#636efa",
           "#EF553B",
           "#00cc96",
           "#ab63fa",
           "#FFA15A",
           "#19d3f3",
           "#FF6692",
           "#B6E880",
           "#FF97FF",
           "#FECB52"
          ],
          "font": {
           "color": "#2a3f5f"
          },
          "geo": {
           "bgcolor": "white",
           "lakecolor": "white",
           "landcolor": "white",
           "showlakes": true,
           "showland": true,
           "subunitcolor": "#C8D4E3"
          },
          "hoverlabel": {
           "align": "left"
          },
          "hovermode": "closest",
          "mapbox": {
           "style": "light"
          },
          "paper_bgcolor": "white",
          "plot_bgcolor": "white",
          "polar": {
           "angularaxis": {
            "gridcolor": "#EBF0F8",
            "linecolor": "#EBF0F8",
            "ticks": ""
           },
           "bgcolor": "white",
           "radialaxis": {
            "gridcolor": "#EBF0F8",
            "linecolor": "#EBF0F8",
            "ticks": ""
           }
          },
          "scene": {
           "xaxis": {
            "backgroundcolor": "white",
            "gridcolor": "#DFE8F3",
            "gridwidth": 2,
            "linecolor": "#EBF0F8",
            "showbackground": true,
            "ticks": "",
            "zerolinecolor": "#EBF0F8"
           },
           "yaxis": {
            "backgroundcolor": "white",
            "gridcolor": "#DFE8F3",
            "gridwidth": 2,
            "linecolor": "#EBF0F8",
            "showbackground": true,
            "ticks": "",
            "zerolinecolor": "#EBF0F8"
           },
           "zaxis": {
            "backgroundcolor": "white",
            "gridcolor": "#DFE8F3",
            "gridwidth": 2,
            "linecolor": "#EBF0F8",
            "showbackground": true,
            "ticks": "",
            "zerolinecolor": "#EBF0F8"
           }
          },
          "shapedefaults": {
           "line": {
            "color": "#2a3f5f"
           }
          },
          "ternary": {
           "aaxis": {
            "gridcolor": "#DFE8F3",
            "linecolor": "#A2B1C6",
            "ticks": ""
           },
           "baxis": {
            "gridcolor": "#DFE8F3",
            "linecolor": "#A2B1C6",
            "ticks": ""
           },
           "bgcolor": "white",
           "caxis": {
            "gridcolor": "#DFE8F3",
            "linecolor": "#A2B1C6",
            "ticks": ""
           }
          },
          "title": {
           "x": 0.05
          },
          "xaxis": {
           "automargin": true,
           "gridcolor": "#EBF0F8",
           "linecolor": "#EBF0F8",
           "ticks": "",
           "title": {
            "standoff": 15
           },
           "zerolinecolor": "#EBF0F8",
           "zerolinewidth": 2
          },
          "yaxis": {
           "automargin": true,
           "gridcolor": "#EBF0F8",
           "linecolor": "#EBF0F8",
           "ticks": "",
           "title": {
            "standoff": 15
           },
           "zerolinecolor": "#EBF0F8",
           "zerolinewidth": 2
          }
         }
        },
        "title": {
         "text": "Interactive Day-wise Visualization of Amount"
        },
        "xaxis": {
         "anchor": "y",
         "domain": [
          0,
          1
         ],
         "title": {
          "text": "Day of the Month"
         }
        },
        "yaxis": {
         "anchor": "x",
         "domain": [
          0,
          1
         ],
         "title": {
          "text": "Month"
         }
        }
       }
      }
     },
     "metadata": {},
     "output_type": "display_data"
    }
   ],
   "source": [
    "import pandas as pd\n",
    "import plotly.express as px\n",
    "import numpy as np\n",
    "\n",
    "# Load your data\n",
    "# Assuming your data is in a CSV, replace 'your_data.csv' with the correct file path\n",
    "# df = pd.read_csv('your_data.csv')\n",
    "# Uncomment and use the following line to read your specific file if needed:\n",
    "# df = pd.read_excel('path_to_your_file.xlsx')\n",
    "\n",
    "# Ensure the 'Date' column is in datetime format\n",
    "df['Date'] = pd.to_datetime(df['Date'])\n",
    "\n",
    "# Extract year, month, and day\n",
    "df['Year'] = df['Date'].dt.year\n",
    "df['Month'] = df['Date'].dt.month_name()  # Get month names for better readability\n",
    "df['Day'] = df['Date'].dt.day\n",
    "\n",
    "# Aggregate data by date to calculate the total amount per day\n",
    "daily_data = df.groupby(['Year', 'Month', 'Day'])['Amount'].sum().reset_index()\n",
    "\n",
    "# Create a new column for sorting months chronologically\n",
    "daily_data['Month_Num'] = pd.to_datetime(daily_data['Month'], format='%B').dt.month\n",
    "daily_data = daily_data.sort_values(by=['Year', 'Month_Num', 'Day'])\n",
    "\n",
    "# Create the interactive plot\n",
    "fig = px.scatter(\n",
    "    daily_data,\n",
    "    x='Day',\n",
    "    y='Month',\n",
    "    # size='Amount',\n",
    "    color='Amount',\n",
    "    color_continuous_scale='RdYlGn',\n",
    "    title='Interactive Day-wise Visualization of Amount',\n",
    "    labels={'Day': 'Day of the Month', 'Month': 'Month'},\n",
    "    hover_data={'Amount': ':.2f', 'Year': True}  # Format hover data\n",
    ")\n",
    "\n",
    "fig.update_layout(\n",
    "    yaxis_title=\"Month\",\n",
    "    xaxis_title=\"Day of the Month\",\n",
    "    template=\"plotly_white\",\n",
    "    coloraxis_colorbar=dict(title=\"Amount\"),\n",
    ")\n",
    "\n",
    "# Show the plot\n",
    "fig.show()"
   ]
  },
  {
   "cell_type": "code",
   "execution_count": 77,
   "metadata": {},
   "outputs": [
    {
     "data": {
      "application/vnd.plotly.v1+json": {
       "config": {
        "plotlyServerURL": "https://plot.ly"
       },
       "data": [
        {
         "customdata": [
          [
           -1803.97,
           2024
          ],
          [
           9101.470000000001,
           2024
          ],
          [
           1324.74,
           2024
          ],
          [
           -8326.59,
           2024
          ],
          [
           523.28,
           2024
          ],
          [
           -1744.37,
           2024
          ],
          [
           14155.11,
           2024
          ],
          [
           -791.62,
           2024
          ],
          [
           -22355.370000000003,
           2024
          ],
          [
           10629.8,
           2024
          ],
          [
           955.3,
           2024
          ],
          [
           1532.15,
           2024
          ],
          [
           -4726.05,
           2024
          ],
          [
           -5504.76,
           2024
          ],
          [
           14303.470000000001,
           2024
          ],
          [
           20535.22,
           2024
          ],
          [
           3908.71,
           2024
          ],
          [
           -1814.03,
           2024
          ],
          [
           -12583.54,
           2024
          ],
          [
           -737.03,
           2024
          ],
          [
           -65.15,
           2024
          ],
          [
           -241.66999999999996,
           2024
          ],
          [
           2508.22,
           2024
          ],
          [
           -1000.97,
           2024
          ],
          [
           -661.05,
           2024
          ],
          [
           -371.2,
           2024
          ],
          [
           1618.32,
           2024
          ],
          [
           2342.97,
           2024
          ],
          [
           2398.91,
           2024
          ],
          [
           -4487.75,
           2024
          ],
          [
           -5478.98,
           2024
          ],
          [
           19171.17,
           2024
          ],
          [
           -31068.66,
           2024
          ],
          [
           -13584.9,
           2024
          ],
          [
           -6411.19,
           2024
          ],
          [
           -435.93,
           2024
          ],
          [
           -17790,
           2024
          ],
          [
           17864.02,
           2024
          ],
          [
           -687.39,
           2024
          ],
          [
           -3412.61,
           2024
          ],
          [
           -2805.84,
           2024
          ],
          [
           -818.47,
           2024
          ],
          [
           -1085.15,
           2024
          ],
          [
           3938.42,
           2024
          ],
          [
           -4718.82,
           2024
          ],
          [
           4788.98,
           2024
          ],
          [
           4767.629999999999,
           2024
          ],
          [
           -116.63,
           2024
          ],
          [
           51025.1,
           2024
          ],
          [
           -11759.62,
           2024
          ],
          [
           -17132.82,
           2024
          ],
          [
           2037.8500000000004,
           2024
          ],
          [
           9375.84,
           2024
          ],
          [
           360.3699999999999,
           2024
          ],
          [
           8670.73,
           2024
          ],
          [
           -5055.28,
           2024
          ],
          [
           -15000,
           2024
          ],
          [
           -1048.82,
           2024
          ],
          [
           928.19,
           2024
          ],
          [
           -8030.72,
           2024
          ],
          [
           164.02,
           2024
          ],
          [
           -567.37,
           2024
          ],
          [
           -5141.26,
           2024
          ],
          [
           1500,
           2024
          ],
          [
           -4718.82,
           2024
          ],
          [
           45609.6,
           2024
          ],
          [
           -7549.69,
           2024
          ],
          [
           -1714.4500000000007,
           2024
          ],
          [
           -7900,
           2024
          ],
          [
           9248.51,
           2024
          ],
          [
           1026.5,
           2024
          ],
          [
           -1103.82,
           2024
          ],
          [
           -270.66,
           2024
          ],
          [
           430.41,
           2024
          ],
          [
           652.8,
           2024
          ],
          [
           -3309.2,
           2024
          ],
          [
           -9696.32,
           2024
          ],
          [
           1440.14,
           2024
          ],
          [
           -1555.46,
           2024
          ],
          [
           1793.4,
           2024
          ],
          [
           -378.18,
           2024
          ],
          [
           -2103.04,
           2024
          ],
          [
           13637.869999999999,
           2024
          ],
          [
           4691.39,
           2024
          ],
          [
           -5458.9,
           2024
          ],
          [
           -13341.13,
           2024
          ],
          [
           24684.63,
           2024
          ],
          [
           -25394.86,
           2024
          ],
          [
           6143.37,
           2024
          ],
          [
           -9500,
           2024
          ],
          [
           17986.62,
           2024
          ],
          [
           -5864.32,
           2024
          ],
          [
           -1933.14,
           2024
          ],
          [
           -5635.4,
           2024
          ],
          [
           -5479,
           2024
          ],
          [
           14007.61,
           2024
          ],
          [
           -6979.92,
           2024
          ],
          [
           -702.64,
           2024
          ],
          [
           1577.8,
           2024
          ],
          [
           1633.87,
           2024
          ],
          [
           -5274.08,
           2024
          ],
          [
           -5000,
           2024
          ],
          [
           2617.51,
           2024
          ],
          [
           -7350.78,
           2024
          ],
          [
           20909.12,
           2024
          ],
          [
           -5985.6,
           2024
          ],
          [
           -3028.48,
           2024
          ],
          [
           1935.97,
           2024
          ],
          [
           -2663.71,
           2024
          ],
          [
           -1939.6099999999997,
           2024
          ],
          [
           947,
           2024
          ],
          [
           21869.7,
           2024
          ],
          [
           3923.33,
           2024
          ],
          [
           2728.69,
           2024
          ]
         ],
         "hovertemplate": "Day of the Month=%{x}<br>Month=%{y}<br>Amount=%{marker.color:.2f}<br>Year=%{customdata[1]}<extra></extra>",
         "legendgroup": "",
         "marker": {
          "color": [
           -1803.97,
           9101.470000000001,
           1324.74,
           -8326.59,
           523.28,
           -1744.37,
           14155.11,
           -791.62,
           -22355.370000000003,
           10629.8,
           955.3,
           1532.15,
           -4726.05,
           -5504.76,
           14303.470000000001,
           20535.22,
           3908.71,
           -1814.03,
           -12583.54,
           -737.03,
           -65.15,
           -241.66999999999996,
           2508.22,
           -1000.97,
           -661.05,
           -371.2,
           1618.32,
           2342.97,
           2398.91,
           -4487.75,
           -5478.98,
           19171.17,
           -31068.66,
           -13584.9,
           -6411.19,
           -435.93,
           -17790,
           17864.02,
           -687.39,
           -3412.61,
           -2805.84,
           -818.47,
           -1085.15,
           3938.42,
           -4718.82,
           4788.98,
           4767.629999999999,
           -116.63,
           51025.1,
           -11759.62,
           -17132.82,
           2037.8500000000004,
           9375.84,
           360.3699999999999,
           8670.73,
           -5055.28,
           -15000,
           -1048.82,
           928.19,
           -8030.72,
           164.02,
           -567.37,
           -5141.26,
           1500,
           -4718.82,
           45609.6,
           -7549.69,
           -1714.4500000000007,
           -7900,
           9248.51,
           1026.5,
           -1103.82,
           -270.66,
           430.41,
           652.8,
           -3309.2,
           -9696.32,
           1440.14,
           -1555.46,
           1793.4,
           -378.18,
           -2103.04,
           13637.869999999999,
           4691.39,
           -5458.9,
           -13341.13,
           24684.63,
           -25394.86,
           6143.37,
           -9500,
           17986.62,
           -5864.32,
           -1933.14,
           -5635.4,
           -5479,
           14007.61,
           -6979.92,
           -702.64,
           1577.8,
           1633.87,
           -5274.08,
           -5000,
           2617.51,
           -7350.78,
           20909.12,
           -5985.6,
           -3028.48,
           1935.97,
           -2663.71,
           -1939.6099999999997,
           947,
           21869.7,
           3923.33,
           2728.69
          ],
          "coloraxis": "coloraxis",
          "symbol": "circle"
         },
         "mode": "markers",
         "name": "",
         "orientation": "h",
         "showlegend": false,
         "type": "scatter",
         "x": [
          7,
          8,
          10,
          8,
          6,
          7,
          10,
          6,
          10,
          11,
          12,
          6,
          7,
          8,
          11,
          12,
          13,
          14,
          15,
          16,
          18,
          21,
          22,
          23,
          24,
          27,
          28,
          29,
          30,
          31,
          6,
          8,
          11,
          12,
          13,
          14,
          18,
          19,
          20,
          21,
          24,
          26,
          27,
          28,
          30,
          8,
          10,
          11,
          29,
          30,
          31,
          8,
          10,
          11,
          13,
          14,
          16,
          19,
          20,
          22,
          23,
          26,
          27,
          30,
          31,
          5,
          8,
          10,
          12,
          19,
          20,
          23,
          24,
          26,
          27,
          30,
          5,
          6,
          10,
          14,
          15,
          16,
          17,
          18,
          21,
          22,
          23,
          24,
          25,
          28,
          30,
          31,
          6,
          10,
          11,
          13,
          14,
          18,
          19,
          21,
          22,
          27,
          6,
          8,
          13,
          16,
          17,
          18,
          19,
          20,
          23,
          24,
          26,
          27
         ],
         "xaxis": "x",
         "y": [
          "January",
          "January",
          "January",
          "February",
          "March",
          "March",
          "March",
          "April",
          "April",
          "April",
          "April",
          "May",
          "May",
          "May",
          "May",
          "May",
          "May",
          "May",
          "May",
          "May",
          "May",
          "May",
          "May",
          "May",
          "May",
          "May",
          "May",
          "May",
          "May",
          "May",
          "June",
          "June",
          "June",
          "June",
          "June",
          "June",
          "June",
          "June",
          "June",
          "June",
          "June",
          "June",
          "June",
          "June",
          "June",
          "July",
          "July",
          "July",
          "July",
          "July",
          "July",
          "August",
          "August",
          "August",
          "August",
          "August",
          "August",
          "August",
          "August",
          "August",
          "August",
          "August",
          "August",
          "August",
          "August",
          "September",
          "September",
          "September",
          "September",
          "September",
          "September",
          "September",
          "September",
          "September",
          "September",
          "September",
          "October",
          "October",
          "October",
          "October",
          "October",
          "October",
          "October",
          "October",
          "October",
          "October",
          "October",
          "October",
          "October",
          "October",
          "October",
          "October",
          "November",
          "November",
          "November",
          "November",
          "November",
          "November",
          "November",
          "November",
          "November",
          "November",
          "December",
          "December",
          "December",
          "December",
          "December",
          "December",
          "December",
          "December",
          "December",
          "December",
          "December",
          "December"
         ],
         "yaxis": "y"
        }
       ],
       "layout": {
        "coloraxis": {
         "colorbar": {
          "title": {
           "text": "Amount"
          }
         },
         "colorscale": [
          [
           0,
           "red"
          ],
          [
           0.5,
           "white"
          ],
          [
           1,
           "green"
          ]
         ]
        },
        "legend": {
         "tracegroupgap": 0
        },
        "template": {
         "data": {
          "bar": [
           {
            "error_x": {
             "color": "#2a3f5f"
            },
            "error_y": {
             "color": "#2a3f5f"
            },
            "marker": {
             "line": {
              "color": "white",
              "width": 0.5
             },
             "pattern": {
              "fillmode": "overlay",
              "size": 10,
              "solidity": 0.2
             }
            },
            "type": "bar"
           }
          ],
          "barpolar": [
           {
            "marker": {
             "line": {
              "color": "white",
              "width": 0.5
             },
             "pattern": {
              "fillmode": "overlay",
              "size": 10,
              "solidity": 0.2
             }
            },
            "type": "barpolar"
           }
          ],
          "carpet": [
           {
            "aaxis": {
             "endlinecolor": "#2a3f5f",
             "gridcolor": "#C8D4E3",
             "linecolor": "#C8D4E3",
             "minorgridcolor": "#C8D4E3",
             "startlinecolor": "#2a3f5f"
            },
            "baxis": {
             "endlinecolor": "#2a3f5f",
             "gridcolor": "#C8D4E3",
             "linecolor": "#C8D4E3",
             "minorgridcolor": "#C8D4E3",
             "startlinecolor": "#2a3f5f"
            },
            "type": "carpet"
           }
          ],
          "choropleth": [
           {
            "colorbar": {
             "outlinewidth": 0,
             "ticks": ""
            },
            "type": "choropleth"
           }
          ],
          "contour": [
           {
            "colorbar": {
             "outlinewidth": 0,
             "ticks": ""
            },
            "colorscale": [
             [
              0,
              "#0d0887"
             ],
             [
              0.1111111111111111,
              "#46039f"
             ],
             [
              0.2222222222222222,
              "#7201a8"
             ],
             [
              0.3333333333333333,
              "#9c179e"
             ],
             [
              0.4444444444444444,
              "#bd3786"
             ],
             [
              0.5555555555555556,
              "#d8576b"
             ],
             [
              0.6666666666666666,
              "#ed7953"
             ],
             [
              0.7777777777777778,
              "#fb9f3a"
             ],
             [
              0.8888888888888888,
              "#fdca26"
             ],
             [
              1,
              "#f0f921"
             ]
            ],
            "type": "contour"
           }
          ],
          "contourcarpet": [
           {
            "colorbar": {
             "outlinewidth": 0,
             "ticks": ""
            },
            "type": "contourcarpet"
           }
          ],
          "heatmap": [
           {
            "colorbar": {
             "outlinewidth": 0,
             "ticks": ""
            },
            "colorscale": [
             [
              0,
              "#0d0887"
             ],
             [
              0.1111111111111111,
              "#46039f"
             ],
             [
              0.2222222222222222,
              "#7201a8"
             ],
             [
              0.3333333333333333,
              "#9c179e"
             ],
             [
              0.4444444444444444,
              "#bd3786"
             ],
             [
              0.5555555555555556,
              "#d8576b"
             ],
             [
              0.6666666666666666,
              "#ed7953"
             ],
             [
              0.7777777777777778,
              "#fb9f3a"
             ],
             [
              0.8888888888888888,
              "#fdca26"
             ],
             [
              1,
              "#f0f921"
             ]
            ],
            "type": "heatmap"
           }
          ],
          "heatmapgl": [
           {
            "colorbar": {
             "outlinewidth": 0,
             "ticks": ""
            },
            "colorscale": [
             [
              0,
              "#0d0887"
             ],
             [
              0.1111111111111111,
              "#46039f"
             ],
             [
              0.2222222222222222,
              "#7201a8"
             ],
             [
              0.3333333333333333,
              "#9c179e"
             ],
             [
              0.4444444444444444,
              "#bd3786"
             ],
             [
              0.5555555555555556,
              "#d8576b"
             ],
             [
              0.6666666666666666,
              "#ed7953"
             ],
             [
              0.7777777777777778,
              "#fb9f3a"
             ],
             [
              0.8888888888888888,
              "#fdca26"
             ],
             [
              1,
              "#f0f921"
             ]
            ],
            "type": "heatmapgl"
           }
          ],
          "histogram": [
           {
            "marker": {
             "pattern": {
              "fillmode": "overlay",
              "size": 10,
              "solidity": 0.2
             }
            },
            "type": "histogram"
           }
          ],
          "histogram2d": [
           {
            "colorbar": {
             "outlinewidth": 0,
             "ticks": ""
            },
            "colorscale": [
             [
              0,
              "#0d0887"
             ],
             [
              0.1111111111111111,
              "#46039f"
             ],
             [
              0.2222222222222222,
              "#7201a8"
             ],
             [
              0.3333333333333333,
              "#9c179e"
             ],
             [
              0.4444444444444444,
              "#bd3786"
             ],
             [
              0.5555555555555556,
              "#d8576b"
             ],
             [
              0.6666666666666666,
              "#ed7953"
             ],
             [
              0.7777777777777778,
              "#fb9f3a"
             ],
             [
              0.8888888888888888,
              "#fdca26"
             ],
             [
              1,
              "#f0f921"
             ]
            ],
            "type": "histogram2d"
           }
          ],
          "histogram2dcontour": [
           {
            "colorbar": {
             "outlinewidth": 0,
             "ticks": ""
            },
            "colorscale": [
             [
              0,
              "#0d0887"
             ],
             [
              0.1111111111111111,
              "#46039f"
             ],
             [
              0.2222222222222222,
              "#7201a8"
             ],
             [
              0.3333333333333333,
              "#9c179e"
             ],
             [
              0.4444444444444444,
              "#bd3786"
             ],
             [
              0.5555555555555556,
              "#d8576b"
             ],
             [
              0.6666666666666666,
              "#ed7953"
             ],
             [
              0.7777777777777778,
              "#fb9f3a"
             ],
             [
              0.8888888888888888,
              "#fdca26"
             ],
             [
              1,
              "#f0f921"
             ]
            ],
            "type": "histogram2dcontour"
           }
          ],
          "mesh3d": [
           {
            "colorbar": {
             "outlinewidth": 0,
             "ticks": ""
            },
            "type": "mesh3d"
           }
          ],
          "parcoords": [
           {
            "line": {
             "colorbar": {
              "outlinewidth": 0,
              "ticks": ""
             }
            },
            "type": "parcoords"
           }
          ],
          "pie": [
           {
            "automargin": true,
            "type": "pie"
           }
          ],
          "scatter": [
           {
            "fillpattern": {
             "fillmode": "overlay",
             "size": 10,
             "solidity": 0.2
            },
            "type": "scatter"
           }
          ],
          "scatter3d": [
           {
            "line": {
             "colorbar": {
              "outlinewidth": 0,
              "ticks": ""
             }
            },
            "marker": {
             "colorbar": {
              "outlinewidth": 0,
              "ticks": ""
             }
            },
            "type": "scatter3d"
           }
          ],
          "scattercarpet": [
           {
            "marker": {
             "colorbar": {
              "outlinewidth": 0,
              "ticks": ""
             }
            },
            "type": "scattercarpet"
           }
          ],
          "scattergeo": [
           {
            "marker": {
             "colorbar": {
              "outlinewidth": 0,
              "ticks": ""
             }
            },
            "type": "scattergeo"
           }
          ],
          "scattergl": [
           {
            "marker": {
             "colorbar": {
              "outlinewidth": 0,
              "ticks": ""
             }
            },
            "type": "scattergl"
           }
          ],
          "scattermapbox": [
           {
            "marker": {
             "colorbar": {
              "outlinewidth": 0,
              "ticks": ""
             }
            },
            "type": "scattermapbox"
           }
          ],
          "scatterpolar": [
           {
            "marker": {
             "colorbar": {
              "outlinewidth": 0,
              "ticks": ""
             }
            },
            "type": "scatterpolar"
           }
          ],
          "scatterpolargl": [
           {
            "marker": {
             "colorbar": {
              "outlinewidth": 0,
              "ticks": ""
             }
            },
            "type": "scatterpolargl"
           }
          ],
          "scatterternary": [
           {
            "marker": {
             "colorbar": {
              "outlinewidth": 0,
              "ticks": ""
             }
            },
            "type": "scatterternary"
           }
          ],
          "surface": [
           {
            "colorbar": {
             "outlinewidth": 0,
             "ticks": ""
            },
            "colorscale": [
             [
              0,
              "#0d0887"
             ],
             [
              0.1111111111111111,
              "#46039f"
             ],
             [
              0.2222222222222222,
              "#7201a8"
             ],
             [
              0.3333333333333333,
              "#9c179e"
             ],
             [
              0.4444444444444444,
              "#bd3786"
             ],
             [
              0.5555555555555556,
              "#d8576b"
             ],
             [
              0.6666666666666666,
              "#ed7953"
             ],
             [
              0.7777777777777778,
              "#fb9f3a"
             ],
             [
              0.8888888888888888,
              "#fdca26"
             ],
             [
              1,
              "#f0f921"
             ]
            ],
            "type": "surface"
           }
          ],
          "table": [
           {
            "cells": {
             "fill": {
              "color": "#EBF0F8"
             },
             "line": {
              "color": "white"
             }
            },
            "header": {
             "fill": {
              "color": "#C8D4E3"
             },
             "line": {
              "color": "white"
             }
            },
            "type": "table"
           }
          ]
         },
         "layout": {
          "annotationdefaults": {
           "arrowcolor": "#2a3f5f",
           "arrowhead": 0,
           "arrowwidth": 1
          },
          "autotypenumbers": "strict",
          "coloraxis": {
           "colorbar": {
            "outlinewidth": 0,
            "ticks": ""
           }
          },
          "colorscale": {
           "diverging": [
            [
             0,
             "#8e0152"
            ],
            [
             0.1,
             "#c51b7d"
            ],
            [
             0.2,
             "#de77ae"
            ],
            [
             0.3,
             "#f1b6da"
            ],
            [
             0.4,
             "#fde0ef"
            ],
            [
             0.5,
             "#f7f7f7"
            ],
            [
             0.6,
             "#e6f5d0"
            ],
            [
             0.7,
             "#b8e186"
            ],
            [
             0.8,
             "#7fbc41"
            ],
            [
             0.9,
             "#4d9221"
            ],
            [
             1,
             "#276419"
            ]
           ],
           "sequential": [
            [
             0,
             "#0d0887"
            ],
            [
             0.1111111111111111,
             "#46039f"
            ],
            [
             0.2222222222222222,
             "#7201a8"
            ],
            [
             0.3333333333333333,
             "#9c179e"
            ],
            [
             0.4444444444444444,
             "#bd3786"
            ],
            [
             0.5555555555555556,
             "#d8576b"
            ],
            [
             0.6666666666666666,
             "#ed7953"
            ],
            [
             0.7777777777777778,
             "#fb9f3a"
            ],
            [
             0.8888888888888888,
             "#fdca26"
            ],
            [
             1,
             "#f0f921"
            ]
           ],
           "sequentialminus": [
            [
             0,
             "#0d0887"
            ],
            [
             0.1111111111111111,
             "#46039f"
            ],
            [
             0.2222222222222222,
             "#7201a8"
            ],
            [
             0.3333333333333333,
             "#9c179e"
            ],
            [
             0.4444444444444444,
             "#bd3786"
            ],
            [
             0.5555555555555556,
             "#d8576b"
            ],
            [
             0.6666666666666666,
             "#ed7953"
            ],
            [
             0.7777777777777778,
             "#fb9f3a"
            ],
            [
             0.8888888888888888,
             "#fdca26"
            ],
            [
             1,
             "#f0f921"
            ]
           ]
          },
          "colorway": [
           "#636efa",
           "#EF553B",
           "#00cc96",
           "#ab63fa",
           "#FFA15A",
           "#19d3f3",
           "#FF6692",
           "#B6E880",
           "#FF97FF",
           "#FECB52"
          ],
          "font": {
           "color": "#2a3f5f"
          },
          "geo": {
           "bgcolor": "white",
           "lakecolor": "white",
           "landcolor": "white",
           "showlakes": true,
           "showland": true,
           "subunitcolor": "#C8D4E3"
          },
          "hoverlabel": {
           "align": "left"
          },
          "hovermode": "closest",
          "mapbox": {
           "style": "light"
          },
          "paper_bgcolor": "white",
          "plot_bgcolor": "white",
          "polar": {
           "angularaxis": {
            "gridcolor": "#EBF0F8",
            "linecolor": "#EBF0F8",
            "ticks": ""
           },
           "bgcolor": "white",
           "radialaxis": {
            "gridcolor": "#EBF0F8",
            "linecolor": "#EBF0F8",
            "ticks": ""
           }
          },
          "scene": {
           "xaxis": {
            "backgroundcolor": "white",
            "gridcolor": "#DFE8F3",
            "gridwidth": 2,
            "linecolor": "#EBF0F8",
            "showbackground": true,
            "ticks": "",
            "zerolinecolor": "#EBF0F8"
           },
           "yaxis": {
            "backgroundcolor": "white",
            "gridcolor": "#DFE8F3",
            "gridwidth": 2,
            "linecolor": "#EBF0F8",
            "showbackground": true,
            "ticks": "",
            "zerolinecolor": "#EBF0F8"
           },
           "zaxis": {
            "backgroundcolor": "white",
            "gridcolor": "#DFE8F3",
            "gridwidth": 2,
            "linecolor": "#EBF0F8",
            "showbackground": true,
            "ticks": "",
            "zerolinecolor": "#EBF0F8"
           }
          },
          "shapedefaults": {
           "line": {
            "color": "#2a3f5f"
           }
          },
          "ternary": {
           "aaxis": {
            "gridcolor": "#DFE8F3",
            "linecolor": "#A2B1C6",
            "ticks": ""
           },
           "baxis": {
            "gridcolor": "#DFE8F3",
            "linecolor": "#A2B1C6",
            "ticks": ""
           },
           "bgcolor": "white",
           "caxis": {
            "gridcolor": "#DFE8F3",
            "linecolor": "#A2B1C6",
            "ticks": ""
           }
          },
          "title": {
           "x": 0.05
          },
          "xaxis": {
           "automargin": true,
           "gridcolor": "#EBF0F8",
           "linecolor": "#EBF0F8",
           "ticks": "",
           "title": {
            "standoff": 15
           },
           "zerolinecolor": "#EBF0F8",
           "zerolinewidth": 2
          },
          "yaxis": {
           "automargin": true,
           "gridcolor": "#EBF0F8",
           "linecolor": "#EBF0F8",
           "ticks": "",
           "title": {
            "standoff": 15
           },
           "zerolinecolor": "#EBF0F8",
           "zerolinewidth": 2
          }
         }
        },
        "title": {
         "text": "Interactive Day-wise Visualization of Amount"
        },
        "xaxis": {
         "anchor": "y",
         "domain": [
          0,
          1
         ],
         "title": {
          "text": "Day of the Month"
         }
        },
        "yaxis": {
         "anchor": "x",
         "domain": [
          0,
          1
         ],
         "title": {
          "text": "Month"
         }
        }
       }
      }
     },
     "metadata": {},
     "output_type": "display_data"
    }
   ],
   "source": [
    "import pandas as pd\n",
    "import plotly.express as px\n",
    "import numpy as np\n",
    "\n",
    "# Load your data\n",
    "# Assuming your data is in a CSV, replace 'your_data.csv' with the correct file path\n",
    "# df = pd.read_csv('your_data.csv')\n",
    "# Uncomment and use the following line to read your specific file if needed:\n",
    "# df = pd.read_excel('path_to_your_file.xlsx')\n",
    "\n",
    "# Ensure the 'Date' column is in datetime format\n",
    "df['Date'] = pd.to_datetime(df['Date'])\n",
    "\n",
    "# Extract year, month, and day\n",
    "df['Year'] = df['Date'].dt.year\n",
    "df['Month'] = df['Date'].dt.month_name()  # Get month names for better readability\n",
    "df['Day'] = df['Date'].dt.day\n",
    "\n",
    "# Aggregate data by date to calculate the total amount per day\n",
    "daily_data = df.groupby(['Year', 'Month', 'Day'])['Amount'].sum().reset_index()\n",
    "\n",
    "# Create a new column for sorting months chronologically\n",
    "daily_data['Month_Num'] = pd.to_datetime(daily_data['Month'], format='%B').dt.month\n",
    "daily_data = daily_data.sort_values(by=['Year', 'Month_Num', 'Day'])\n",
    "\n",
    "# Define a custom color scale for positive (green) and negative (red) values\n",
    "custom_color_scale = [\n",
    "    [0.0, 'red'],    # For negative amounts\n",
    "    [0.5, 'white'],  # Neutral point\n",
    "    [1.0, 'green']   # For positive amounts\n",
    "]\n",
    "\n",
    "# Create the interactive plot\n",
    "fig = px.scatter(\n",
    "    daily_data,\n",
    "    x='Day',\n",
    "    y='Month',\n",
    "    # size='Amount',\n",
    "    color='Amount',\n",
    "    color_continuous_scale=custom_color_scale,\n",
    "    title='Interactive Day-wise Visualization of Amount',\n",
    "    labels={'Day': 'Day of the Month', 'Month': 'Month'},\n",
    "    hover_data={'Amount': ':.2f', 'Year': True}  # Format hover data\n",
    ")\n",
    "\n",
    "fig.update_layout(\n",
    "    yaxis_title=\"Month\",\n",
    "    xaxis_title=\"Day of the Month\",\n",
    "    template=\"plotly_white\",\n",
    "    coloraxis_colorbar=dict(title=\"Amount\"),\n",
    ")\n",
    "\n",
    "# Show the plot\n",
    "fig.show()"
   ]
  },
  {
   "cell_type": "markdown",
   "metadata": {},
   "source": [
    "# dashboard"
   ]
  },
  {
   "cell_type": "code",
   "execution_count": 1,
   "metadata": {},
   "outputs": [],
   "source": [
    "import pandas as pd\n",
    "import matplotlib.pyplot as plt\n",
    "import calendar\n",
    "\n",
    "# Load your Excel file\n",
    "file_path = '/Users/akash_verma/Downloads/LEDGER REPORT29_12_2024.xlsx'\n",
    "df = pd.read_excel(file_path, engine = 'openpyxl')\n",
    "df.rename(columns = {\"Doc Date\":'Date'},inplace=True)\n",
    "df.Date = pd.to_datetime(df.Date)\n",
    "df = df[df.Narration.str.contains(\"Bill for the trade date\")]"
   ]
  },
  {
   "cell_type": "code",
   "execution_count": 2,
   "metadata": {},
   "outputs": [],
   "source": []
  },
  {
   "cell_type": "code",
   "execution_count": 9,
   "metadata": {},
   "outputs": [
    {
     "data": {
      "text/html": [
       "\n",
       "        <iframe\n",
       "            width=\"100%\"\n",
       "            height=\"650\"\n",
       "            src=\"http://127.0.0.1:54112/\"\n",
       "            frameborder=\"0\"\n",
       "            allowfullscreen\n",
       "            \n",
       "        ></iframe>\n",
       "        "
      ],
      "text/plain": [
       "<IPython.lib.display.IFrame at 0x13fc3cfd0>"
      ]
     },
     "metadata": {},
     "output_type": "display_data"
    }
   ],
   "source": [
    "import pandas as pd\n",
    "import numpy as np\n",
    "from dash import Dash, dcc, html\n",
    "from dash.dependencies import Input, Output\n",
    "import plotly.express as px\n",
    "import plotly.graph_objects as go\n",
    "\n",
    "\n",
    "\n",
    "# Ensure the 'Date' column is in datetime format\n",
    "df['Date'] = pd.to_datetime(df['Date'])\n",
    "\n",
    "# Extract year, month, and day\n",
    "df['Year'] = df['Date'].dt.year\n",
    "df['Month'] = df['Date'].dt.month\n",
    "df['Day'] = df['Date'].dt.day\n",
    "\n",
    "# Create the Dash app\n",
    "app = Dash(__name__)\n",
    "\n",
    "# Layout for the dashboard\n",
    "app.layout = html.Div([\n",
    "    html.H1(\"P&L Dashboard\", style={'textAlign': 'center'}),\n",
    "    html.Div([\n",
    "        html.Label(\"Segment\"),\n",
    "        dcc.Dropdown(\n",
    "            id='segment-dropdown',\n",
    "            options=[{'label': 'Futures & Options', 'value': 'F&O'}],\n",
    "            value='F&O'\n",
    "        )\n",
    "    ], style={'width': '20%', 'display': 'inline-block'}),\n",
    "    html.Div([\n",
    "        html.Label(\"P&L\"),\n",
    "        dcc.Dropdown(\n",
    "            id='pnl-dropdown',\n",
    "            options=[{'label': 'Combined', 'value': 'Combined'}],\n",
    "            value='Combined'\n",
    "        )\n",
    "    ], style={'width': '20%', 'display': 'inline-block'}),\n",
    "    html.Div([\n",
    "        html.Label(\"Symbol\"),\n",
    "        dcc.Input(id='symbol-input', type='text', placeholder='eg: INFY')\n",
    "    ], style={'width': '20%', 'display': 'inline-block'}),\n",
    "    html.Div([\n",
    "        html.Label(\"Date range\"),\n",
    "        dcc.DatePickerRange(\n",
    "            id='date-picker',\n",
    "            start_date=\"2024-04-01\",\n",
    "            end_date=\"2024-12-29\"\n",
    "        )\n",
    "    ], style={'width': '30%', 'display': 'inline-block'}),\n",
    "    html.Br(),\n",
    "    html.Div([\n",
    "        dcc.Graph(\n",
    "            id='day-wise-heatmap',\n",
    "            config={'displayModeBar': False}  # Hides toolbar for clean appearance\n",
    "        )\n",
    "    ])\n",
    "])\n",
    "\n",
    "# Callback to update the heatmap based on filters\n",
    "@app.callback(\n",
    "    Output('day-wise-heatmap', 'figure'),\n",
    "    [\n",
    "        Input('segment-dropdown', 'value'),\n",
    "        Input('pnl-dropdown', 'value'),\n",
    "        Input('symbol-input', 'value'),\n",
    "        Input('date-picker', 'start_date'),\n",
    "        Input('date-picker', 'end_date')\n",
    "    ]\n",
    ")\n",
    "def update_heatmap(segment, pnl, symbol, start_date, end_date):\n",
    "    # Filter data based on date range\n",
    "    filtered_data = df[(df['Date'] >= pd.to_datetime(start_date)) & (df['Date'] <= pd.to_datetime(end_date))]\n",
    "    \n",
    "    # Pivot table for heatmap\n",
    "    heatmap_data = filtered_data.pivot_table(\n",
    "        index='Month',\n",
    "        columns='Day',\n",
    "        values='Amount',\n",
    "        aggfunc='sum'\n",
    "    )\n",
    "\n",
    "    # Create the heatmap\n",
    "    fig = go.Figure(\n",
    "        data=go.Heatmap(\n",
    "            z=heatmap_data,\n",
    "            x=heatmap_data.columns,\n",
    "            y=heatmap_data.index,\n",
    "            colorscale=[[0.0, 'red'], [0.5, 'white'], [1.0, 'green']],  # Red for negative, Green for positive\n",
    "            colorbar=dict(title=\"Amount\"),\n",
    "            xgap=1,  # Adds separation between days\n",
    "            ygap=2   # Adds separation between months\n",
    "        )\n",
    "    )\n",
    "\n",
    "    # Update layout for better separation and labels\n",
    "    fig.update_layout(\n",
    "        title='Day-wise P&L Heatmap',\n",
    "        xaxis_title=\"Day\",\n",
    "        yaxis_title=\"Month\",\n",
    "        xaxis=dict(tickmode='linear', tick0=1, dtick=1),\n",
    "        yaxis=dict(\n",
    "            tickmode='array',\n",
    "            tickvals=list(range(1, 13)),\n",
    "            ticktext=['Jan', 'Feb', 'Mar', 'Apr', 'May', 'Jun', 'Jul', 'Aug', 'Sep', 'Oct', 'Nov', 'Dec']\n",
    "        ),\n",
    "        template='plotly_white'\n",
    "    )\n",
    "    return fig\n",
    "\n",
    "# Run the app\n",
    "# Run on localhost\n",
    "if __name__ == \"__main__\":\n",
    "    app.run_server(debug=True,port = 1222, mode = 'external')"
   ]
  },
  {
   "cell_type": "markdown",
   "metadata": {},
   "source": [
    "# Dash 2"
   ]
  },
  {
   "cell_type": "code",
   "execution_count": 42,
   "metadata": {},
   "outputs": [
    {
     "data": {
      "text/html": [
       "\n",
       "        <iframe\n",
       "            width=\"100%\"\n",
       "            height=\"650\"\n",
       "            src=\"http://127.0.0.1:54112/\"\n",
       "            frameborder=\"0\"\n",
       "            allowfullscreen\n",
       "            \n",
       "        ></iframe>\n",
       "        "
      ],
      "text/plain": [
       "<IPython.lib.display.IFrame at 0x16945bf40>"
      ]
     },
     "metadata": {},
     "output_type": "display_data"
    }
   ],
   "source": [
    "import dash\n",
    "from dash import dcc, html, Input, Output\n",
    "import dash_bootstrap_components as dbc\n",
    "import plotly.express as px\n",
    "import pandas as pd\n",
    "import numpy as np\n",
    "from datetime import date, timedelta\n",
    "\n",
    "# -----------------------------------------------------------------------------\n",
    "# Generate example data\n",
    "# -----------------------------------------------------------------------------\n",
    "def generate_example_data(start_date, end_date):\n",
    "    \"\"\"\n",
    "    Returns a DataFrame of dates from start_date to end_date,\n",
    "    with random P&L values (+/-).\n",
    "    \"\"\"\n",
    "    dates = pd.date_range(start=start_date, end=end_date)\n",
    "    # Random P&L between -5000 and 5000\n",
    "    pnl_values = np.random.randint(-5000, 5000, len(dates))\n",
    "\n",
    "    df = pd.DataFrame({\"date\": dates, \"pnl\": pnl_values})\n",
    "    return df\n",
    "\n",
    "# -----------------------------------------------------------------------------\n",
    "# Prepare data for month-by-day layout\n",
    "# -----------------------------------------------------------------------------\n",
    "def make_month_day_df(df):\n",
    "    \"\"\"\n",
    "    Adds columns for month_name and day_of_month. \n",
    "    \"\"\"\n",
    "    df = df.sort_values(\"date\")\n",
    "    df[\"month\"] = df[\"date\"].dt.month\n",
    "    df[\"month_name\"] = df[\"date\"].dt.month_name()\n",
    "    df[\"day_of_month\"] = df[\"date\"].dt.day\n",
    "\n",
    "    # We'll store the P&L value in a separate column for color\n",
    "    df[\"pnl_color\"] = df[\"pnl\"]\n",
    "    return df\n",
    "\n",
    "# -----------------------------------------------------------------------------\n",
    "# Build the Dash app\n",
    "# -----------------------------------------------------------------------------\n",
    "app = dash.Dash(__name__, external_stylesheets=[dbc.themes.BOOTSTRAP])\n",
    "\n",
    "app.layout = dbc.Container(\n",
    "    fluid=True,\n",
    "    children=[\n",
    "        html.H2(\"Futures & Options P&L Dashboard\", className=\"my-3\"),\n",
    "\n",
    "        # Controls row\n",
    "        dbc.Row([\n",
    "            dbc.Col([\n",
    "                html.Label(\"Segment\"),\n",
    "                dcc.Dropdown(\n",
    "                    id=\"segment-dropdown\",\n",
    "                    options=[\n",
    "                        {\"label\": \"Futures & Options\", \"value\": \"FNO\"},\n",
    "                        {\"label\": \"Equity\", \"value\": \"EQUITY\"},\n",
    "                        {\"label\": \"Currency\", \"value\": \"CURRENCY\"},\n",
    "                    ],\n",
    "                    value=\"FNO\",\n",
    "                    clearable=False,\n",
    "                ),\n",
    "            ], width=2),\n",
    "\n",
    "            dbc.Col([\n",
    "                html.Label(\"P&L\"),\n",
    "                dcc.Dropdown(\n",
    "                    id=\"pnl-dropdown\",\n",
    "                    options=[\n",
    "                        {\"label\": \"Combined\", \"value\": \"combined\"},\n",
    "                        {\"label\": \"Profit Only\", \"value\": \"profit\"},\n",
    "                        {\"label\": \"Loss Only\", \"value\": \"loss\"},\n",
    "                    ],\n",
    "                    value=\"combined\",\n",
    "                    clearable=False,\n",
    "                ),\n",
    "            ], width=2),\n",
    "\n",
    "            dbc.Col([\n",
    "                html.Label(\"Symbol\"),\n",
    "                dcc.Input(\n",
    "                    id=\"symbol-input\",\n",
    "                    type=\"text\",\n",
    "                    placeholder=\"e.g. INFY\",\n",
    "                    value=\"\",\n",
    "                    style={\"width\": \"100%\"}\n",
    "                ),\n",
    "            ], width=2),\n",
    "\n",
    "            dbc.Col([\n",
    "                html.Label(\"Date Range\"),\n",
    "                dcc.DatePickerRange(\n",
    "                    id=\"date-range\",\n",
    "                    min_date_allowed=date(2023, 1, 1),\n",
    "                    max_date_allowed=date(2025, 12, 31),\n",
    "                    start_date=date(2024, 4, 1),\n",
    "                    end_date=date(2024, 12, 29),\n",
    "                ),\n",
    "            ], width=4),\n",
    "\n",
    "            dbc.Col(\n",
    "                dbc.Button(\"Go\", id=\"go-button\", color=\"primary\", className=\"mt-4\"),\n",
    "                width=2\n",
    "            ),\n",
    "        ], className=\"mb-3\"),\n",
    "\n",
    "        # Graph row\n",
    "        dbc.Row([\n",
    "            dbc.Col([\n",
    "                dcc.Graph(id=\"calendar-heatmap\")\n",
    "            ], width=12),\n",
    "        ]),\n",
    "    ]\n",
    ")\n",
    "\n",
    "# -----------------------------------------------------------------------------\n",
    "# Callbacks\n",
    "# -----------------------------------------------------------------------------\n",
    "@app.callback(\n",
    "    Output(\"calendar-heatmap\", \"figure\"),\n",
    "    [\n",
    "        Input(\"segment-dropdown\", \"value\"),\n",
    "        Input(\"pnl-dropdown\", \"value\"),\n",
    "        Input(\"symbol-input\", \"value\"),\n",
    "        Input(\"date-range\", \"start_date\"),\n",
    "        Input(\"date-range\", \"end_date\"),\n",
    "        Input(\"go-button\", \"n_clicks\"),\n",
    "    ],\n",
    ")\n",
    "def update_calendar_heatmap(segment, pnl_filter, symbol, start_date, end_date, n_clicks):\n",
    "    \"\"\"\n",
    "    Example flow:\n",
    "      1. Generate/fetch daily P&L data for the chosen date range.\n",
    "      2. Optionally filter out non-profit or non-loss records.\n",
    "      3. Plot by month (y-axis) and day_of_month (x-axis).\n",
    "    \"\"\"\n",
    "    if not start_date or not end_date:\n",
    "        return {}\n",
    "\n",
    "    # 1. Generate or fetch data\n",
    "    import pandas as pd\n",
    "    import matplotlib.pyplot as plt\n",
    "    import calendar\n",
    "\n",
    "    # Load your Excel file\n",
    "    file_path = '/Users/akash_verma/Downloads/LEDGER REPORT29_12_2024 (2).xlsx'\n",
    "    df = pd.read_excel(file_path, engine = 'openpyxl',)\n",
    "    df.head()\n",
    "    df.rename(columns = {\"Doc Date\":'Date'},inplace=True)\n",
    "    df.Date = pd.to_datetime(df.Date,format= \"%d/%m/%Y\")\n",
    "    df = df[df.Narration.str.contains(\"Bill for the trade date\")]\n",
    "    df['pnl'] = df['Amount']\n",
    "    df['date'] = df['Date']\n",
    "\n",
    "    # 2. (Optional) filter by P&L type\n",
    "    if pnl_filter == \"profit\":\n",
    "        df = df[df[\"pnl\"] > 0]\n",
    "    elif pnl_filter == \"loss\":\n",
    "        df = df[df[\"pnl\"] < 0]\n",
    "\n",
    "    # 3. Transform for month-by-day layout\n",
    "    df = make_month_day_df(df)\n",
    "\n",
    "    # 4. Create Plotly figure\n",
    "    # We'll order the months from January -> December.\n",
    "    # Not all months may appear in the selected range, so\n",
    "    # we’ll at least define the order for any that DO appear.\n",
    "    unique_months = sorted(df[\"month\"].unique())\n",
    "    # Convert month number to month name for ordering\n",
    "    month_order = [pd.to_datetime(str(m), format=\"%m\").strftime(\"%B\") \n",
    "                   for m in unique_months]\n",
    "\n",
    "    fig = px.scatter(\n",
    "        df,\n",
    "        x=\"day_of_month\",\n",
    "        y=\"month_name\",\n",
    "        color=\"pnl_color\",\n",
    "        hover_data=[\"date\", \"pnl\"],\n",
    "        color_continuous_scale=[\"red\", \"white\", \"green\"],\n",
    "        title=\"Daily P&L by Month\",\n",
    "        height=600,\n",
    "        category_orders={\"month_name\": month_order},\n",
    "    )\n",
    "\n",
    "    # Make the squares bigger\n",
    "    fig.update_traces(marker=dict(size=18, symbol=\"square\"))\n",
    "\n",
    "    # Hide the colorbar if you prefer\n",
    "    fig.update_layout(\n",
    "        coloraxis_showscale=False,\n",
    "        xaxis=dict(title=\"Day of Month\", tickmode=\"linear\"),\n",
    "        yaxis=dict(title=\"Month\"),\n",
    "        plot_bgcolor=\"white\",\n",
    "    )\n",
    "\n",
    "    return fig\n",
    "\n",
    "# -----------------------------------------------------------------------------\n",
    "# Run server\n",
    "# -----------------------------------------------------------------------------\n",
    "if __name__ == \"__main__\":\n",
    "    app.run_server(debug=True,mode = 'external',port = 1222)"
   ]
  },
  {
   "cell_type": "markdown",
   "metadata": {},
   "source": [
    "# dash 3"
   ]
  },
  {
   "cell_type": "code",
   "execution_count": 51,
   "metadata": {},
   "outputs": [
    {
     "data": {
      "text/html": [
       "\n",
       "        <iframe\n",
       "            width=\"100%\"\n",
       "            height=\"650\"\n",
       "            src=\"http://127.0.0.1:54112/\"\n",
       "            frameborder=\"0\"\n",
       "            allowfullscreen\n",
       "            \n",
       "        ></iframe>\n",
       "        "
      ],
      "text/plain": [
       "<IPython.lib.display.IFrame at 0x1696ace20>"
      ]
     },
     "metadata": {},
     "output_type": "display_data"
    },
    {
     "name": "stdout",
     "output_type": "stream",
     "text": [
      "---------------------------------------------------------------------------\n",
      "UnboundLocalError                         Traceback (most recent call last)\n",
      "Input In [51], in update_subplots(\n",
      "    segment='FNO',\n",
      "    pnl_filter='combined',\n",
      "    symbol='',\n",
      "    start_date='2024-04-01',\n",
      "    end_date='2024-12-29',\n",
      "    months_selected=[4],\n",
      "    n_clicks=None\n",
      ")\n",
      "    209 unique_months = sorted(df[\"month\"].unique())\n",
      "    210 if len(unique_months) == 0:\n",
      "    211     # If there's no data, return an empty figure\n",
      "--> 212     return go.Figure()\n",
      "        go = <module 'plotly.graph_objs' from '/Users/akash_verma/miniconda3/envs/epat/lib/python3.8/site-packages/plotly/graph_objs/__init__.py'>\n",
      "    214 # # 6) Create subplots. We'll do at most 4 rows x 3 columns = 12 months.\n",
      "    215 # rows = 4\n",
      "    216 # cols = 3\n",
      "   (...)\n",
      "    301 #     font=dict(size=12),  # Adjust overall font size\n",
      "    302 # )\n",
      "    303 import plotly.graph_objs as go\n",
      "\n",
      "UnboundLocalError: local variable 'go' referenced before assignment\n",
      "\n",
      "---------------------------------------------------------------------------\n",
      "AttributeError                            Traceback (most recent call last)\n",
      "Input In [51], in update_subplots(\n",
      "    segment='FNO',\n",
      "    pnl_filter='combined',\n",
      "    symbol='',\n",
      "    start_date='2024-04-01',\n",
      "    end_date='2024-12-29',\n",
      "    months_selected=[],\n",
      "    n_clicks=3\n",
      ")\n",
      "    189     return go.Figure()\n",
      "    191 # 1) Get your data (dummy random data here)\n",
      "--> 192 df = generate_example_data(start_date, end_date)\n",
      "        df =           Date      Doc No  Cheque No  \\\n",
      "3   2024-12-27  TJV2412271   186346.0   \n",
      "4   2024-12-26  TJV2412261   185645.0   \n",
      "6   2024-12-24  TJV2412241   184924.0   \n",
      "7   2024-12-23  TJV2412231   184212.0   \n",
      "9   2024-12-20  TJV2412201   183448.0   \n",
      "..         ...         ...        ...   \n",
      "181 2024-05-15  TJV2405151    35448.0   \n",
      "182 2024-05-14  TJV2405141    34199.0   \n",
      "183 2024-05-13  TJV2405131    32973.0   \n",
      "184 2024-10-05  TJV2405101    31814.0   \n",
      "185 2024-09-05  TJV2405091    30532.0   \n",
      "\n",
      "                                          Narration Dr/Cr    Amount  \\\n",
      "3    Bill for the trade date 27/12/2024 No - 186346    Cr   2728.69   \n",
      "4    Bill for the trade date 26/12/2024 No - 185645    Cr   3923.33   \n",
      "6    Bill for the trade date 24/12/2024 No - 184924    Cr   1869.70   \n",
      "7    Bill for the trade date 23/12/2024 No - 184212    Cr    947.00   \n",
      "9    Bill for the trade date 20/12/2024 No - 183448    Dr  -6939.61   \n",
      "..                                              ...   ...       ...   \n",
      "181   Bill for the trade date 15/05/2024 No - 35448    Dr -12583.54   \n",
      "182   Bill for the trade date 14/05/2024 No - 34199    Dr  -1814.03   \n",
      "183   Bill for the trade date 13/05/2024 No - 32973    Cr   3908.71   \n",
      "184   Bill for the trade date 10/05/2024 No - 31814    Dr  -9696.32   \n",
      "185   Bill for the trade date 09/05/2024 No - 30532    Cr   8980.19   \n",
      "\n",
      "         Balance       pnl       date  month  \n",
      "3    38729.01 Cr   2728.69 2024-12-27     12  \n",
      "4    36000.32 Cr   3923.33 2024-12-26     12  \n",
      "6    12076.99 Cr   1869.70 2024-12-24     12  \n",
      "7    10207.30 Cr    947.00 2024-12-23     12  \n",
      "9     4260.29 Cr  -6939.61 2024-12-20     12  \n",
      "..           ...       ...        ...    ...  \n",
      "181  25424.42 Cr -12583.54 2024-05-15      5  \n",
      "182  38007.95 Cr  -1814.03 2024-05-14      5  \n",
      "183  39821.99 Cr   3908.71 2024-05-13      5  \n",
      "184  35913.28 Cr  -9696.32 2024-10-05     10  \n",
      "185  45609.60 Cr   8980.19 2024-09-05      9  \n",
      "\n",
      "[103 rows x 10 columns]\n",
      "        start_date = '2024-04-01'\n",
      "        end_date = '2024-12-29'\n",
      "    194 # 2) Filter by P&L\n",
      "    195 if pnl_filter == \"profit\":\n",
      "\n",
      "Input In [51], in generate_example_data(\n",
      "    start_date='2024-04-01',\n",
      "    end_date='2024-12-29'\n",
      ")\n",
      "     20 df.head()\n",
      "     21 df.rename(columns = {\"Doc Date\":'Date'},inplace=True)\n",
      "---> 22 df.Date = pd.to_datetime(df.Date,format= \"%d/%m/%Y\")\n",
      "        df =       Narration (Multiple Items)\n",
      "0           NaN              NaN\n",
      "1    Row Labels    Sum of Amount\n",
      "2             5         -5166.64\n",
      "3             6         -13944.8\n",
      "4             7         -10696.9\n",
      "5             8         -53712.9\n",
      "6             9          1393.36\n",
      "7            10         -34445.8\n",
      "8            11           -26629\n",
      "9            12         -7412.27\n",
      "10      (blank)           189344\n",
      "11  Grand Total            38729\n",
      "        pd = <module 'pandas' from '/Users/akash_verma/miniconda3/envs/epat/lib/python3.8/site-packages/pandas/__init__.py'>\n",
      "     23 df = df[df.Narration.str.contains(\"Bill for the trade date\")]\n",
      "     24 df['pnl'] = df['Amount']\n",
      "\n",
      "File ~/miniconda3/envs/epat/lib/python3.8/site-packages/pandas/core/generic.py:5141, in NDFrame.__getattr__(\n",
      "    self=      Narration (Multiple Items)\n",
      "0           NaN...          189344\n",
      "11  Grand Total            38729,\n",
      "    name='Date'\n",
      ")\n",
      "   5139 if self._info_axis._can_hold_identifiers_and_holds_name(name):\n",
      "   5140     return self[name]\n",
      "-> 5141 return object.__getattribute__(self, name)\n",
      "        name = 'Date'\n",
      "        self =       Narration (Multiple Items)\n",
      "0           NaN              NaN\n",
      "1    Row Labels    Sum of Amount\n",
      "2             5         -5166.64\n",
      "3             6         -13944.8\n",
      "4             7         -10696.9\n",
      "5             8         -53712.9\n",
      "6             9          1393.36\n",
      "7            10         -34445.8\n",
      "8            11           -26629\n",
      "9            12         -7412.27\n",
      "10      (blank)           189344\n",
      "11  Grand Total            38729\n",
      "\n",
      "AttributeError: 'DataFrame' object has no attribute 'Date'\n",
      "\n"
     ]
    }
   ],
   "source": [
    "import dash\n",
    "from dash import dcc, html, Input, Output\n",
    "import dash_bootstrap_components as dbc\n",
    "import pandas as pd\n",
    "import numpy as np\n",
    "from datetime import date\n",
    "import plotly.graph_objs as go\n",
    "from plotly.subplots import make_subplots\n",
    "\n",
    "# ------------------------------------------------------------------\n",
    "# Example Data\n",
    "# ------------------------------------------------------------------\n",
    "def generate_example_data(start_date, end_date):\n",
    "    \"\"\"\n",
    "    Returns a DataFrame of dates from start_date to end_date,\n",
    "    with random P&L values (+/-).\n",
    "    \"\"\"\n",
    "    file_path = '/Users/akash_verma/Downloads/LEDGER REPORT29_12_2024 (2).xlsx'\n",
    "    df = pd.read_excel(file_path, engine = 'openpyxl',)\n",
    "    df.head()\n",
    "    df.rename(columns = {\"Doc Date\":'Date'},inplace=True)\n",
    "    df.Date = pd.to_datetime(df.Date,format= \"%d/%m/%Y\")\n",
    "    df = df[df.Narration.str.contains(\"Bill for the trade date\")]\n",
    "    df['pnl'] = df['Amount']\n",
    "    df['date'] = df['Date']\n",
    "\n",
    "    return df\n",
    "\n",
    "def make_calendar_df(df):\n",
    "    \"\"\"\n",
    "    For each date, compute:\n",
    "      - 'year' (int)\n",
    "      - 'month' (int)\n",
    "      - 'day_of_month' (1..31)\n",
    "      - 'day_of_week' (Mon=0..Sun=6)\n",
    "      - 'month_name' (January, February, etc.)\n",
    "    \"\"\"\n",
    "    df = df.copy()\n",
    "    df[\"year\"] = df[\"date\"].dt.year\n",
    "    df[\"month\"] = df[\"date\"].dt.month\n",
    "    df[\"month_name\"] = df[\"date\"].dt.month_name()\n",
    "    df[\"day_of_month\"] = df[\"date\"].dt.day\n",
    "    df[\"day_of_week\"] = df[\"date\"].dt.weekday  # Monday=0..Sunday=6\n",
    "    return df\n",
    "\n",
    "# ------------------------------------------------------------------\n",
    "# Build Dash App\n",
    "# ------------------------------------------------------------------\n",
    "app = dash.Dash(__name__, external_stylesheets=[dbc.themes.BOOTSTRAP])\n",
    "\n",
    "app.layout = dbc.Container(\n",
    "    fluid=True,\n",
    "    children=[\n",
    "        html.H2(\"F&O P&L Dashboard with Subplots\", className=\"my-3\"),\n",
    "\n",
    "        dbc.Row([\n",
    "            dbc.Col([\n",
    "                html.Label(\"Segment\"),\n",
    "                dcc.Dropdown(\n",
    "                    id=\"segment-dropdown\",\n",
    "                    options=[\n",
    "                        {\"label\": \"Futures & Options\", \"value\": \"FNO\"},\n",
    "                        {\"label\": \"Equity\", \"value\": \"EQUITY\"},\n",
    "                        {\"label\": \"Currency\", \"value\": \"CURRENCY\"},\n",
    "                    ],\n",
    "                    value=\"FNO\",\n",
    "                    clearable=False,\n",
    "                ),\n",
    "            ], width=2),\n",
    "\n",
    "            dbc.Col([\n",
    "                html.Label(\"P&L\"),\n",
    "                dcc.Dropdown(\n",
    "                    id=\"pnl-dropdown\",\n",
    "                    options=[\n",
    "                        {\"label\": \"Combined\", \"value\": \"combined\"},\n",
    "                        {\"label\": \"Profit Only\", \"value\": \"profit\"},\n",
    "                        {\"label\": \"Loss Only\", \"value\": \"loss\"},\n",
    "                    ],\n",
    "                    value=\"combined\",\n",
    "                    clearable=False,\n",
    "                ),\n",
    "            ], width=2),\n",
    "\n",
    "            dbc.Col([\n",
    "                html.Label(\"Symbol\"),\n",
    "                dcc.Input(\n",
    "                    id=\"symbol-input\",\n",
    "                    type=\"text\",\n",
    "                    placeholder=\"e.g. INFY\",\n",
    "                    value=\"\",\n",
    "                    style={\"width\": \"100%\"}\n",
    "                ),\n",
    "            ], width=2),\n",
    "\n",
    "            dbc.Col([\n",
    "                html.Label(\"Date Range\"),\n",
    "                dcc.DatePickerRange(\n",
    "                    id=\"date-range\",\n",
    "                    min_date_allowed=date(2023, 1, 1),\n",
    "                    max_date_allowed=date(2025, 12, 31),\n",
    "                    start_date=date(2024, 4, 1),\n",
    "                    end_date=date(2024, 12, 29),\n",
    "                ),\n",
    "            ], width=3),\n",
    "\n",
    "            dbc.Col([\n",
    "                html.Label(\"Month Filter\"),\n",
    "                dcc.Dropdown(\n",
    "                    id=\"month-filter\",\n",
    "                    options=[],  # We’ll populate this in a callback\n",
    "                    value=[],\n",
    "                    multi=True,\n",
    "                    placeholder=\"Select month(s)\",\n",
    "                ),\n",
    "            ], width=3),\n",
    "        ], className=\"mb-3\"),\n",
    "\n",
    "        dbc.Row([\n",
    "            dbc.Col(\n",
    "                dbc.Button(\"Go\", id=\"go-button\", color=\"primary\", className=\"mt-2\"),\n",
    "                width=2\n",
    "            ),\n",
    "        ], className=\"mb-3\"),\n",
    "\n",
    "        dbc.Row([\n",
    "            dbc.Col([\n",
    "                dcc.Graph(id=\"subplots-graph\", style={\"height\": \"100%\"})\n",
    "            ], width=12),\n",
    "        ]),\n",
    "    ]\n",
    ")\n",
    "\n",
    "# ------------------------------------------------------------------\n",
    "# 1) Populate the Month Filter options\n",
    "# ------------------------------------------------------------------\n",
    "@app.callback(\n",
    "    Output(\"month-filter\", \"options\"),\n",
    "    [\n",
    "        Input(\"date-range\", \"start_date\"),\n",
    "        Input(\"date-range\", \"end_date\"),\n",
    "    ],\n",
    ")\n",
    "def update_month_filter_options(start_date, end_date):\n",
    "    \"\"\"\n",
    "    Based on the date range, figure out which months (1..12) actually appear\n",
    "    in that range, and produce e.g. [{'label': 'April', 'value': 4}, ...].\n",
    "    \"\"\"\n",
    "    if not start_date or not end_date:\n",
    "        return []\n",
    "\n",
    "    # Generate a small DF just to see which months are in the range\n",
    "    df_temp = pd.date_range(start=start_date, end=end_date, freq=\"D\")\n",
    "    months_in_range = sorted(list(df_temp.month.unique()))\n",
    "\n",
    "    options = []\n",
    "    for m in months_in_range:\n",
    "        month_name = pd.to_datetime(str(m), format=\"%m\").strftime(\"%B\")\n",
    "        options.append({\"label\": month_name, \"value\": m})\n",
    "\n",
    "    return options\n",
    "\n",
    "# ------------------------------------------------------------------\n",
    "# 2) Build Subplots Graph\n",
    "# ------------------------------------------------------------------\n",
    "@app.callback(\n",
    "    Output(\"subplots-graph\", \"figure\"),\n",
    "    [\n",
    "        Input(\"segment-dropdown\", \"value\"),\n",
    "        Input(\"pnl-dropdown\", \"value\"),\n",
    "        Input(\"symbol-input\", \"value\"),\n",
    "        Input(\"date-range\", \"start_date\"),\n",
    "        Input(\"date-range\", \"end_date\"),\n",
    "        Input(\"month-filter\", \"value\"),\n",
    "        Input(\"go-button\", \"n_clicks\"),\n",
    "    ],\n",
    ")\n",
    "def update_subplots(segment, pnl_filter, symbol, start_date, end_date,\n",
    "                    months_selected, n_clicks):\n",
    "    \"\"\"\n",
    "    - Generate random P&L data for the date range\n",
    "    - Filter profit/loss if needed\n",
    "    - Use the chosen month filter (if user has selected some months)\n",
    "    - Create a subplots figure, each subplot = one month\n",
    "      (day_of_month on x-axis, day_of_week on y-axis, colored by P&L).\n",
    "    \"\"\"\n",
    "    # Safety check\n",
    "    if not start_date or not end_date:\n",
    "        return go.Figure()\n",
    "\n",
    "    # 1) Get your data (dummy random data here)\n",
    "    df = generate_example_data(start_date, end_date)\n",
    "\n",
    "    # 2) Filter by P&L\n",
    "    if pnl_filter == \"profit\":\n",
    "        df = df[df[\"pnl\"] > 0]\n",
    "    elif pnl_filter == \"loss\":\n",
    "        df = df[df[\"pnl\"] < 0]\n",
    "\n",
    "    # 3) Prepare for calendar style\n",
    "    df = make_calendar_df(df)\n",
    "\n",
    "    # 4) If user selected certain months, filter them\n",
    "    #    If user hasn't chosen anything in the Month Filter, show all months\n",
    "    if months_selected and len(months_selected) > 0:\n",
    "        df = df[df[\"month\"].isin(months_selected)]\n",
    "\n",
    "    # 5) Figure out which months we actually need to plot (unique months in the DF)\n",
    "    unique_months = sorted(df[\"month\"].unique())\n",
    "    if len(unique_months) == 0:\n",
    "        # If there's no data, return an empty figure\n",
    "        return go.Figure()\n",
    "\n",
    "    # # 6) Create subplots. We'll do at most 4 rows x 3 columns = 12 months.\n",
    "    # rows = 4\n",
    "    # cols = 3\n",
    "    # # Increase spacing to prevent overlap\n",
    "    # fig = make_subplots(\n",
    "    #     rows=rows, \n",
    "    #     cols=cols,\n",
    "    #     shared_xaxes=False, \n",
    "    #     shared_yaxes=False,\n",
    "    #     subplot_titles=[\n",
    "    #         pd.to_datetime(str(m), format=\"%m\").strftime(\"%B\")\n",
    "    #         for m in unique_months\n",
    "    #     ],\n",
    "    #     horizontal_spacing=0.08,  # Adjust as needed (0.02 ~ 0.1)\n",
    "    #     vertical_spacing=0.12,    # Adjust as needed (0.02 ~ 0.2)\n",
    "    # )\n",
    "\n",
    "    # # 7) For each month, add a scatter trace to the figure\n",
    "    # index = 0\n",
    "    # for m in unique_months:\n",
    "    #     row = (index // cols) + 1\n",
    "    #     col = (index % cols) + 1\n",
    "\n",
    "    #     df_m = df[df[\"month\"] == m].copy()\n",
    "    #     trace = go.Scatter(\n",
    "    #         x=df_m[\"day_of_month\"],\n",
    "    #         y=df_m[\"day_of_week\"],\n",
    "    #         mode=\"markers\",\n",
    "    #         marker=dict(\n",
    "    #             size=15,\n",
    "    #             symbol=\"square\",\n",
    "    #             color=df_m[\"pnl\"],\n",
    "    #             colorscale=[\"red\",\"white\",\"green\"],\n",
    "    #             cmin=-5000,  # or use df[\"pnl\"].min()\n",
    "    #             cmax=5000,   # or use df[\"pnl\"].max()\n",
    "    #             showscale=False\n",
    "    #         ),\n",
    "    #         text=[\n",
    "    #             f\"{d.strftime('%Y-%m-%d')}<br>P&L: {p}\" \n",
    "    #             for d, p in zip(df_m[\"date\"], df_m[\"pnl\"])\n",
    "    #         ],\n",
    "    #         hoverinfo=\"text\",\n",
    "    #         name=f\"Month {m}\",\n",
    "    #     )\n",
    "    #     fig.add_trace(trace, row=row, col=col)\n",
    "    #     index += 1\n",
    "\n",
    "    # # 8) Adjust layout for each subplot\n",
    "    # #    For day_of_week, Monday=0..Sunday=6. Let's label them:\n",
    "    # day_of_week_labels = [\"Mon\", \"Tue\", \"Wed\", \"Thu\", \"Fri\", \"Sat\", \"Sun\"]\n",
    "\n",
    "    # for i in range(len(unique_months)):\n",
    "    #     row = (i // cols) + 1\n",
    "    #     col = (i % cols) + 1\n",
    "    #     axis_id_x = f\"xaxis{(i+1) if (i+1)>1 else ''}\"\n",
    "    #     axis_id_y = f\"yaxis{(i+1) if (i+1)>1 else ''}\"\n",
    "\n",
    "    #     fig[\"layout\"][axis_id_x].update(\n",
    "    #         title_text=\"Day of Month\",\n",
    "    #         range=[0.5, 31.5],\n",
    "    #         dtick=5,       # Show tick every 5 days\n",
    "    #         showgrid=False,\n",
    "    #     )\n",
    "    #     fig[\"layout\"][axis_id_y].update(\n",
    "    #         title_text=\"Day of Week\",\n",
    "    #         tickmode=\"array\",\n",
    "    #         tickvals=list(range(7)),\n",
    "    #         ticktext=day_of_week_labels,\n",
    "    #         showgrid=False,\n",
    "    #     )\n",
    "\n",
    "    # # Hide unused subplots if there are fewer than 12\n",
    "    # total_subplots = rows * cols\n",
    "    # for i in range(len(unique_months), total_subplots):\n",
    "    #     axis_id_x = f\"xaxis{(i+1) if (i+1)>1 else ''}\"\n",
    "    #     axis_id_y = f\"yaxis{(i+1) if (i+1)>1 else ''}\"\n",
    "    #     fig[\"layout\"][axis_id_x].update(visible=False)\n",
    "    #     fig[\"layout\"][axis_id_y].update(visible=False)\n",
    "\n",
    "    # # 9) Final layout tweaks\n",
    "    # #    Increase the figure size and add margins\n",
    "    # fig.update_layout(\n",
    "    #     title=f\"Subplots by Month – Segment: {segment}, Symbol: {symbol}\",\n",
    "    #     showlegend=False,\n",
    "    #     width=1300,   # Increase width\n",
    "    #     height=1200,  # Increase height\n",
    "    #     margin=dict(l=60, r=40, t=80, b=60),\n",
    "    #     font=dict(size=12),  # Adjust overall font size\n",
    "    # )\n",
    "    import plotly.graph_objs as go\n",
    "    from plotly.subplots import make_subplots\n",
    "    import pandas as pd\n",
    "\n",
    "    # -- Create or load your df with columns: [date, month, day_of_month, day_of_week, pnl] --\n",
    "    # unique_months = sorted(df[\"month\"].unique())\n",
    "\n",
    "    rows = 6\n",
    "    cols = 2\n",
    "    fig = make_subplots(\n",
    "        rows=rows, \n",
    "        cols=cols,\n",
    "        shared_xaxes=False, \n",
    "        shared_yaxes=False,\n",
    "        subplot_titles=[\n",
    "            pd.to_datetime(str(m), format=\"%m\").strftime(\"%B\")\n",
    "            for m in unique_months\n",
    "        ],\n",
    "        horizontal_spacing=0.08,\n",
    "        vertical_spacing=0.12,\n",
    "    )\n",
    "\n",
    "    index = 0\n",
    "    for m in unique_months:\n",
    "        row = (index // cols) + 1\n",
    "        col = (index % cols) + 1\n",
    "\n",
    "        df_m = df[df[\"month\"] == m].copy()\n",
    "        hover_text = [\n",
    "            f\"{d.strftime('%Y-%m-%d')}<br>P&L: {p}\" \n",
    "            for d, p in zip(df_m[\"date\"], df_m[\"pnl\"])\n",
    "        ]\n",
    "\n",
    "        # Heatmap trace\n",
    "        trace = go.Heatmap(\n",
    "            x=df_m[\"day_of_month\"],\n",
    "            y=df_m[\"day_of_week\"],\n",
    "            z=df_m[\"pnl\"],\n",
    "            text=hover_text,\n",
    "            hoverinfo=\"text\",\n",
    "            colorscale=[\"red\", \"white\", \"green\"],\n",
    "            zmin=-5000,\n",
    "            zmax=5000,\n",
    "            hoverongaps=False,\n",
    "            showscale=False,  # or True if you want a colorbar per subplot\n",
    "            name=f\"Month {m}\",\n",
    "        )\n",
    "        fig.add_trace(trace, row=row, col=col)\n",
    "\n",
    "        index += 1\n",
    "\n",
    "    day_of_week_labels = [\"Mon\", \"Tue\", \"Wed\", \"Thu\", \"Fri\", \"Sat\", \"Sun\"]\n",
    "    total_plots = len(unique_months)\n",
    "\n",
    "    for i in range(total_plots):\n",
    "        # 0-based index i => subplot # is i+1\n",
    "        # row, col for subplot\n",
    "        row = (i // cols) + 1\n",
    "        col = (i % cols) + 1\n",
    "        \n",
    "        # Axis names in layout\n",
    "        # For subplot 1 => xaxis, yaxis\n",
    "        # For subplot 2 => xaxis2, yaxis2\n",
    "        # etc.\n",
    "        xaxis_id = f\"xaxis{(i+1) if (i+1) > 1 else ''}\"\n",
    "        yaxis_id = f\"yaxis{(i+1) if (i+1) > 1 else ''}\"\n",
    "\n",
    "        # Set the day_of_month axis range\n",
    "        fig.layout[xaxis_id].update(\n",
    "            title_text=\"Day of Month\",\n",
    "            range=[0.5, 31.5],  # so that day 1..31 are centered\n",
    "            dtick=5,\n",
    "            showgrid=False\n",
    "        )\n",
    "        # Set the day_of_week axis range\n",
    "        fig.layout[yaxis_id].update(\n",
    "            title_text=\"Day of Week\",\n",
    "            tickmode=\"array\",\n",
    "            tickvals=list(range(7)),\n",
    "            ticktext=day_of_week_labels,\n",
    "            range=[-0.5, 6.5],  # so that 0..6 are centered\n",
    "            showgrid=False\n",
    "        )\n",
    "\n",
    "        # --- Force square cells here ---\n",
    "        # 'scaleanchor' must match the X-axis name in the layout: \"xaxis1\" => \"scaleanchor='x1'\"\n",
    "        # For the 1st subplot, \"xaxis\" is 'xaxis' but we can pass 'x1' to scaleanchor.\n",
    "        # A simple trick: scaleanchor='x' for the first subplot, scaleanchor='x2' for the 2nd, etc.\n",
    "        # We'll map subplot i+1 => anchor 'x{i+1}' if i+1>1, else 'x'\n",
    "        anchor_name = f\"x{i+1}\" if (i+1) > 1 else \"x\"\n",
    "        fig.layout[yaxis_id].update(\n",
    "            scaleanchor=anchor_name,  # lock y-scale to x\n",
    "            scaleratio=1              # 1:1 aspect ratio\n",
    "        )\n",
    "\n",
    "    # Hide the unused subplots if less than rows*cols\n",
    "    for i in range(len(unique_months), rows*cols):\n",
    "        xaxis_id = f\"xaxis{(i+1) if (i+1) > 1 else ''}\"\n",
    "        yaxis_id = f\"yaxis{(i+1) if (i+1) > 1 else ''}\"\n",
    "        fig.layout[xaxis_id].update(visible=False)\n",
    "        fig.layout[yaxis_id].update(visible=False)\n",
    "\n",
    "    fig.update_layout(\n",
    "        title=\"Heatmap by Month (Squares)\",\n",
    "        showlegend=False,\n",
    "        width=1300,\n",
    "        height=1200,\n",
    "        margin=dict(l=60, r=40, t=80, b=60),\n",
    "        font=dict(size=12),\n",
    "    )\n",
    "\n",
    " \n",
    "\n",
    "    return fig\n",
    "\n",
    "\n",
    "# ------------------------------------------------------------------\n",
    "# Run\n",
    "# ------------------------------------------------------------------\n",
    "if __name__ == \"__main__\":\n",
    "    app.run_server(debug=True)"
   ]
  },
  {
   "cell_type": "markdown",
   "metadata": {},
   "source": []
  }
 ],
 "metadata": {
  "kernelspec": {
   "display_name": "epat",
   "language": "python",
   "name": "python3"
  },
  "language_info": {
   "codemirror_mode": {
    "name": "ipython",
    "version": 3
   },
   "file_extension": ".py",
   "mimetype": "text/x-python",
   "name": "python",
   "nbconvert_exporter": "python",
   "pygments_lexer": "ipython3",
   "version": "3.8.13"
  }
 },
 "nbformat": 4,
 "nbformat_minor": 2
}
