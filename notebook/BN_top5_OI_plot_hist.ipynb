{
 "cells": [
  {
   "attachments": {},
   "cell_type": "markdown",
   "metadata": {},
   "source": [
    "## import "
   ]
  },
  {
   "cell_type": "code",
   "execution_count": 1,
   "metadata": {},
   "outputs": [],
   "source": [
    "import pandas as pd\n",
    "import numpy as np\n",
    "from kite_trade import *\n",
    "from enctoken import get_kite\n",
    "kite = get_kite()\n",
    "import warnings\n",
    "warnings.filterwarnings(action = 'ignore')\n",
    "import time\n",
    "import plotly.express as px\n",
    "import plotly.graph_objects as go\n",
    "from IPython.display import clear_output"
   ]
  },
  {
   "cell_type": "code",
   "execution_count": 2,
   "metadata": {},
   "outputs": [],
   "source": [
    "expiry_day = 'BANKNIFTY23810'\n",
    "lower_price = 44000\n",
    "upper_price = 46000\n",
    "\n",
    "inst = pd.DataFrame(kite.instruments(\"NFO\"))\n",
    "expiry_march = (\n",
    "    inst[(inst.name == \"BANKNIFTY\") & (inst.tradingsymbol.str.contains(expiry_day))]\n",
    "    .query(\"(strike >= @lower_price )&( strike <= @upper_price)\")\n",
    "    .assign(strike_type=lambda x: x[\"strike\"].astype(int).astype(str) + x[\"instrument_type\"])\n",
    ")"
   ]
  },
  {
   "cell_type": "code",
   "execution_count": 3,
   "metadata": {},
   "outputs": [
    {
     "data": {
      "text/plain": [
       "(42, 13)"
      ]
     },
     "execution_count": 3,
     "metadata": {},
     "output_type": "execute_result"
    }
   ],
   "source": [
    "expiry_march.shape"
   ]
  },
  {
   "cell_type": "code",
   "execution_count": 9,
   "metadata": {},
   "outputs": [],
   "source": [
    "def get_data_minute(expiry_march, start_dt,end_dt,time_frame,bn_token,hist_data_path = None):\n",
    "    df_combined = pd.DataFrame()\n",
    "    strike_symbol_dict = dict(zip(expiry_march.instrument_token,expiry_march['strike_type'] ))\n",
    "    strike_symbol_dict[bn_token] = \"BANKNIFTY\"\n",
    "    inst_expiry = expiry_march['instrument_token'].unique().tolist()\n",
    "    if expiry_march.shape[0] != 0:\n",
    "        for i in inst_expiry:\n",
    "            df_combined = df_combined.append(\n",
    "            pd.DataFrame(\n",
    "                kite.historical_data(\n",
    "                    i,\n",
    "                    from_date=start_dt,\n",
    "                    to_date=end_dt,\n",
    "                    interval=time_frame,\n",
    "                    continuous=False,\n",
    "                    oi=True,\n",
    "                )\n",
    "            ).assign(strike_type=strike_symbol_dict[i])\n",
    "        )\n",
    "    else:\n",
    "        df = (\n",
    "            pd.read_parquet(hist_data_path)\n",
    "            .assign(date_only=lambda x: pd.to_datetime(x['date'].dt.date))\n",
    "            .pipe(lambda x: x[x['date_only'] == pd.to_datetime(start_dt)])\n",
    "            .assign(strike=lambda x: x['strike_type'].str[:5].astype(int))\n",
    "            .query(\"(strike >= @lower_price) & (strike <= @upper_price)\")\n",
    "        )\n",
    "\n",
    "    df_bn_hist_data = (\n",
    "        pd.DataFrame(\n",
    "            kite.historical_data(\n",
    "                bn_token,\n",
    "                from_date=start_dt,\n",
    "                to_date=end_dt,\n",
    "                interval=time_frame,\n",
    "                continuous=False,\n",
    "                oi=True,\n",
    "            )\n",
    "        )\n",
    "        .assign(strike_type=\"BANKNIFTY\")\n",
    "        .drop(\"oi\", axis=1)\n",
    "        .assign(oi_change=lambda x: x[\"close\"])\n",
    "    )\n",
    "\n",
    "\n",
    "    \n",
    "    # df_bn_hist_data['oi_change'] = df_bn_hist_data.groupby(['strike_type']).oi.diff()\n",
    "\n",
    "    df_combined = df_combined.assign(\n",
    "        oi_change=lambda x: x.groupby(\"strike_type\")[\"oi\"].diff()\n",
    "    ).assign(oi_change=lambda x: x.groupby(\"strike_type\")[\"oi_change\"].cumsum())\n",
    "\n",
    "\n",
    "    df_combined_1 = (\n",
    "        df_combined.dropna()\n",
    "        .groupby(\"date\")\n",
    "        .agg({\"oi_change\": lambda x: sorted(x, reverse=True)[0:5]})\n",
    "        .reset_index()\n",
    "        .explode(\"oi_change\")\n",
    "        .merge(df_combined[['date','oi_change','strike_type']], how = 'left',on = ['date','oi_change'])\n",
    "    )\n",
    "\n",
    "    req_cols = df_combined_1.columns\n",
    "    df_combined_1 = df_combined_1.append(df_bn_hist_data[req_cols]).rename(columns = {'oi_change':'oi'})\n",
    "    # df_combined = df_combined.drop('oi',axis=1).append(df_bn_hist_data[req_cols]).rename(columns = {'oi_change':'oi'})\n",
    "    return df_combined,df_combined_1,df_bn_hist_data"
   ]
  },
  {
   "attachments": {},
   "cell_type": "markdown",
   "metadata": {},
   "source": [
    "## strike price chg with BN"
   ]
  },
  {
   "cell_type": "code",
   "execution_count": 10,
   "metadata": {},
   "outputs": [],
   "source": [
    "import time\n",
    "import xlwings\n",
    "## strike price change\n",
    "start_dt = '2023-08-09'\n",
    "end_dt = '2023-08-09'\n",
    "time_frame = '5minute'\n",
    "bn_token  = 260105\n",
    "# hist_data_path = \"../data/expiry_20April_5min.parquet\"\n",
    "hist_data_path = None\n",
    "while True:\n",
    "    df_combined,df_combined_1,df_bn_hist_data = get_data_minute(expiry_march, start_dt,end_dt,time_frame,bn_token,hist_data_path)\n",
    "    break\n",
    "    df_combined['date'] =  pd.to_datetime(df_combined['date']).dt.tz_localize(None)\n",
    "    df_combined['close_change'] = df_combined.groupby(['strike_type']).close.diff()\n",
    "    df_combined['strike'] = df_combined['strike_type'].str[5:]\n",
    "    df_combined['strike_type'] = df_combined['strike_type'].str[:5]\n",
    "\n",
    "    df_bn_hist_data[\"date\"] = pd.to_datetime(df_bn_hist_data[\"date\"]).dt.tz_localize(None)\n",
    "    df_bn_hist_data[\"close_change\"] = df_bn_hist_data.groupby([\"strike_type\"]).close.diff()\n",
    "\n",
    "    df_combined = df_combined.astype({'strike_type':int}).query('strike_type>=44700 and strike_type <= 45300')\n",
    "    df_combined = df_combined.append(df_bn_hist_data).assign(\n",
    "        strike=lambda x: x[\"strike\"].fillna(\"CE\")\n",
    "    )\n",
    "    df_price_chg = pd.pivot(\n",
    "        df_combined,\n",
    "        index=[\"strike_type\", \"strike\"],\n",
    "        columns=[\"date\"],\n",
    "        values=[\"close_change\"],\n",
    "    )\n",
    "    df_bn_pivot = pd.pivot(\n",
    "        df_combined.query(\"strike_type =='BANKNIFTY' \"),\n",
    "        index=[\"strike_type\", \"strike\"],\n",
    "        columns=[\"date\"],\n",
    "        values=[\"close\"],\n",
    "    )\n",
    "\n",
    "    df_bn_pivot.reset_index(inplace = True)\n",
    "    df_bn_pivot.columns = [i[0] + '_'+ str(i[1]) for i in df_bn_pivot.columns]\n",
    "\n",
    "    df_price_chg.reset_index(inplace = True)\n",
    "    df_price_chg.columns = [i[0] + '_'+ str(i[1]) for i in df_price_chg.columns]\n",
    "    df_price_chg.columns = [i.replace('close_change','close')for i in df_price_chg.columns ]\n",
    "    df_price_chg.sort_values('strike_NaT',ascending = False, inplace = True)\n",
    "    df_appended = df_bn_pivot.append(df_price_chg)\n",
    "\n",
    "    \n",
    "    # write dataframe df_appended in excel using xlwings\n",
    "    # wb = xlwings.Book()\n",
    "    wb = xlwings.Book(r'D:\\US\\McD-Discount-Portal\\mcdds\\notebooks\\akash_dev\\test.xlsx')\n",
    "    sht = wb.sheets['Sheet4']\n",
    "    sht.range('A1').value = df_appended\n",
    "    time.sleep(30)\n",
    "    # break"
   ]
  },
  {
   "attachments": {},
   "cell_type": "markdown",
   "metadata": {},
   "source": [
    "## OI change in excel"
   ]
  },
  {
   "cell_type": "code",
   "execution_count": 11,
   "metadata": {},
   "outputs": [],
   "source": [
    "df_bn_hist_data['date'] = df_bn_hist_data['date'].dt.tz_localize(None)\n",
    "df_combined['date'] = df_combined['date'].dt.tz_localize(None)\n",
    "\n",
    "df_bn_hist_data['oi'] = df_bn_hist_data['close']\n",
    "df_bn_hist_data['strike'] = 0\n",
    "df_bn_hist_data['strike_type'] = \"0\"\n",
    "df_combined = df_combined.append(df_bn_hist_data)\n",
    "\n",
    "## geting pct change\n",
    "d1 = df_combined.set_index(['date', 'strike_type']).oi.unstack(['strike_type'])\n",
    "d1 = d1.pct_change().stack([0]).reset_index()\n",
    "df_combined = df_combined.merge(d1, on=['date', 'strike_type'], how='left')\n",
    "df_combined.rename(columns={0: 'pct'}, inplace=True)\n",
    "\n",
    "# pivot \n",
    "df_combined['strike_price'] = df_combined.strike_type.str[:5].astype(int)\n",
    "df_combined['side'] = df_combined.strike_type.str[5:]\n",
    "df_combined.side = np.where(df_combined.side == '', 'CE-PE', df_combined.side)\n",
    "df_combined.side = df_combined.side.str.split('-')\n",
    "df_combined = df_combined.explode('side')\n",
    "\n",
    "df_pivot = pd.pivot_table(df_combined,index = 'strike_price', columns=['date','side'], values='pct')\n",
    "df_pivot.to_clipboard()"
   ]
  },
  {
   "cell_type": "code",
   "execution_count": 34,
   "metadata": {},
   "outputs": [],
   "source": [
    "# df_combined = df_combined.merge(\n",
    "#     df_combined.groupby(['date','side']).oi.sum()\n",
    "#     .reset_index()\n",
    "#     .rename(columns = {'oi': \"oi_sum\"}), how = 'left', on = ['date','side'])\n",
    "# df_combined['contribution'] = (df_combined['oi'] / df_combined['oi_sum']) * df_combined['pct']\n",
    "# df_cont = (df_combined\n",
    "# .groupby(['date','side']).contribution.sum().reset_index().rename(columns = {'contribution': \"pct\"})\n",
    "# .assign(strike_price = 999999))\n",
    "# df_combined = df_combined.append(df_cont)"
   ]
  },
  {
   "attachments": {},
   "cell_type": "markdown",
   "metadata": {},
   "source": [
    "## plot oi chg"
   ]
  },
  {
   "cell_type": "code",
   "execution_count": 5,
   "metadata": {},
   "outputs": [
    {
     "name": "stdout",
     "output_type": "stream",
     "text": [
      "run\n"
     ]
    },
    {
     "data": {
      "application/vnd.plotly.v1+json": {
       "config": {
        "plotlyServerURL": "https://plot.ly"
       },
       "data": [
        {
         "name": "43800PE",
         "type": "scatter",
         "x": [
          "2023-05-24T11:50:00+05:30",
          "2023-05-24T11:45:00+05:30",
          "2023-05-24T11:40:00+05:30",
          "2023-05-24T11:35:00+05:30",
          "2023-05-24T11:30:00+05:30",
          "2023-05-24T11:25:00+05:30",
          "2023-05-24T11:20:00+05:30",
          "2023-05-24T11:15:00+05:30",
          "2023-05-24T11:10:00+05:30",
          "2023-05-24T11:05:00+05:30",
          "2023-05-24T11:00:00+05:30",
          "2023-05-24T10:55:00+05:30",
          "2023-05-24T10:50:00+05:30",
          "2023-05-24T10:45:00+05:30",
          "2023-05-24T10:40:00+05:30",
          "2023-05-24T10:35:00+05:30",
          "2023-05-24T10:30:00+05:30",
          "2023-05-24T10:25:00+05:30",
          "2023-05-24T10:20:00+05:30",
          "2023-05-24T10:15:00+05:30",
          "2023-05-24T10:10:00+05:30",
          "2023-05-24T10:05:00+05:30",
          "2023-05-24T10:00:00+05:30",
          "2023-05-24T09:55:00+05:30",
          "2023-05-24T09:50:00+05:30",
          "2023-05-24T09:45:00+05:30",
          "2023-05-24T09:40:00+05:30",
          "2023-05-24T09:35:00+05:30",
          "2023-05-24T09:30:00+05:30",
          "2023-05-24T09:25:00+05:30",
          "2023-05-24T09:20:00+05:30",
          "2023-05-24T09:15:00+05:30"
         ],
         "y": [
          6798850,
          6866175,
          6890175,
          6904500,
          6914875,
          6814300,
          6748625,
          6610700,
          6650900,
          6711775,
          6845450,
          6908925,
          6796650,
          6678675,
          6530600,
          6509475,
          6516525,
          6533150,
          6613725,
          6554525,
          6535000,
          6382150,
          6264100,
          6329175,
          6161275,
          5809975,
          5636225,
          5143100,
          4734325,
          4586300,
          4002825,
          3229775
         ],
         "yaxis": "y"
        },
        {
         "name": "44000PE",
         "type": "scatter",
         "x": [
          "2023-05-24T11:50:00+05:30",
          "2023-05-24T11:45:00+05:30",
          "2023-05-24T11:40:00+05:30",
          "2023-05-24T11:35:00+05:30",
          "2023-05-24T11:30:00+05:30",
          "2023-05-24T11:25:00+05:30",
          "2023-05-24T11:20:00+05:30",
          "2023-05-24T11:15:00+05:30",
          "2023-05-24T11:10:00+05:30",
          "2023-05-24T11:05:00+05:30",
          "2023-05-24T11:00:00+05:30",
          "2023-05-24T10:55:00+05:30",
          "2023-05-24T10:50:00+05:30",
          "2023-05-24T10:45:00+05:30",
          "2023-05-24T10:40:00+05:30",
          "2023-05-24T10:35:00+05:30",
          "2023-05-24T10:30:00+05:30",
          "2023-05-24T10:25:00+05:30",
          "2023-05-24T10:20:00+05:30",
          "2023-05-24T10:15:00+05:30",
          "2023-05-24T10:10:00+05:30",
          "2023-05-24T10:05:00+05:30",
          "2023-05-24T10:00:00+05:30",
          "2023-05-24T09:55:00+05:30",
          "2023-05-24T09:50:00+05:30",
          "2023-05-24T09:45:00+05:30",
          "2023-05-24T09:40:00+05:30",
          "2023-05-24T09:35:00+05:30",
          "2023-05-24T09:30:00+05:30",
          "2023-05-24T09:25:00+05:30",
          "2023-05-24T09:20:00+05:30",
          "2023-05-24T09:15:00+05:30"
         ],
         "y": [
          6392400,
          6502900,
          6580700,
          6617875,
          6761950,
          6695550,
          6647300,
          6780275,
          6721075,
          6550550,
          6624125,
          6437650,
          6226850,
          5922625,
          5696850,
          5564875,
          5465475,
          5405200,
          5592975,
          5507550,
          5395475,
          5589175,
          5656525,
          5530525,
          5354600,
          5157700,
          5100100,
          5169475,
          5235225,
          5074900,
          4817500,
          4446025
         ],
         "yaxis": "y"
        },
        {
         "name": "43900PE",
         "type": "scatter",
         "x": [
          "2023-05-24T11:50:00+05:30",
          "2023-05-24T11:45:00+05:30",
          "2023-05-24T11:40:00+05:30",
          "2023-05-24T11:35:00+05:30",
          "2023-05-24T11:30:00+05:30",
          "2023-05-24T11:25:00+05:30",
          "2023-05-24T11:20:00+05:30",
          "2023-05-24T11:15:00+05:30",
          "2023-05-24T11:10:00+05:30",
          "2023-05-24T11:05:00+05:30",
          "2023-05-24T11:00:00+05:30",
          "2023-05-24T10:55:00+05:30",
          "2023-05-24T10:50:00+05:30",
          "2023-05-24T10:45:00+05:30",
          "2023-05-24T10:40:00+05:30",
          "2023-05-24T10:35:00+05:30",
          "2023-05-24T10:30:00+05:30",
          "2023-05-24T10:25:00+05:30",
          "2023-05-24T10:20:00+05:30",
          "2023-05-24T10:15:00+05:30",
          "2023-05-24T10:10:00+05:30",
          "2023-05-24T10:05:00+05:30",
          "2023-05-24T10:00:00+05:30",
          "2023-05-24T09:55:00+05:30",
          "2023-05-24T09:50:00+05:30",
          "2023-05-24T09:45:00+05:30",
          "2023-05-24T09:40:00+05:30",
          "2023-05-24T09:35:00+05:30",
          "2023-05-24T09:30:00+05:30",
          "2023-05-24T09:25:00+05:30",
          "2023-05-24T09:20:00+05:30",
          "2023-05-24T09:15:00+05:30"
         ],
         "y": [
          5548300,
          5589875,
          5545700,
          5561200,
          5440925,
          5366500,
          5274900,
          5298200,
          5382900,
          5303350,
          5331850,
          5263475,
          5090300,
          4921025,
          4744775,
          4672525,
          4624625,
          4627525,
          4773025,
          4545350,
          4489050,
          4346250,
          3755575,
          3577125,
          3399825,
          2895075,
          2736675,
          2556425,
          2356150,
          2523925,
          2087125,
          2161250
         ],
         "yaxis": "y"
        },
        {
         "name": "43500PE",
         "type": "scatter",
         "x": [
          "2023-05-24T11:50:00+05:30",
          "2023-05-24T11:45:00+05:30",
          "2023-05-24T11:40:00+05:30",
          "2023-05-24T11:35:00+05:30",
          "2023-05-24T11:30:00+05:30",
          "2023-05-24T11:25:00+05:30",
          "2023-05-24T11:20:00+05:30",
          "2023-05-24T11:15:00+05:30",
          "2023-05-24T11:10:00+05:30",
          "2023-05-24T11:05:00+05:30",
          "2023-05-24T11:00:00+05:30",
          "2023-05-24T10:55:00+05:30",
          "2023-05-24T10:50:00+05:30",
          "2023-05-24T10:45:00+05:30",
          "2023-05-24T10:40:00+05:30",
          "2023-05-24T10:35:00+05:30",
          "2023-05-24T10:30:00+05:30",
          "2023-05-24T10:25:00+05:30",
          "2023-05-24T10:20:00+05:30",
          "2023-05-24T10:15:00+05:30",
          "2023-05-24T10:10:00+05:30",
          "2023-05-24T10:05:00+05:30",
          "2023-05-24T10:00:00+05:30",
          "2023-05-24T09:55:00+05:30",
          "2023-05-24T09:50:00+05:30",
          "2023-05-24T09:45:00+05:30",
          "2023-05-24T09:40:00+05:30",
          "2023-05-24T09:35:00+05:30",
          "2023-05-24T09:30:00+05:30",
          "2023-05-24T09:25:00+05:30",
          "2023-05-24T09:20:00+05:30",
          "2023-05-24T09:15:00+05:30"
         ],
         "y": [
          4981750,
          4969325,
          4931800,
          4908725,
          4906425,
          4892450,
          4882225,
          4800275,
          4814400,
          4821750,
          4819025,
          4848400,
          4774100,
          4750950,
          4766575,
          4724100,
          4715975,
          4714575,
          4727000,
          4812075,
          4802925,
          4724450,
          4704225,
          4681025,
          4640700,
          4420100,
          4401025,
          4293375,
          4187275,
          4031075,
          3755900,
          3384300
         ],
         "yaxis": "y"
        },
        {
         "name": "43700PE",
         "type": "scatter",
         "x": [
          "2023-05-24T11:50:00+05:30",
          "2023-05-24T11:45:00+05:30",
          "2023-05-24T11:40:00+05:30",
          "2023-05-24T11:35:00+05:30",
          "2023-05-24T11:30:00+05:30",
          "2023-05-24T11:25:00+05:30",
          "2023-05-24T11:20:00+05:30",
          "2023-05-24T11:15:00+05:30",
          "2023-05-24T11:10:00+05:30",
          "2023-05-24T11:05:00+05:30",
          "2023-05-24T11:00:00+05:30",
          "2023-05-24T10:55:00+05:30",
          "2023-05-24T10:50:00+05:30",
          "2023-05-24T10:45:00+05:30",
          "2023-05-24T10:40:00+05:30",
          "2023-05-24T10:35:00+05:30",
          "2023-05-24T10:30:00+05:30",
          "2023-05-24T10:25:00+05:30",
          "2023-05-24T10:20:00+05:30",
          "2023-05-24T10:15:00+05:30",
          "2023-05-24T10:10:00+05:30",
          "2023-05-24T10:05:00+05:30",
          "2023-05-24T10:00:00+05:30",
          "2023-05-24T09:55:00+05:30",
          "2023-05-24T09:50:00+05:30",
          "2023-05-24T09:45:00+05:30",
          "2023-05-24T09:40:00+05:30",
          "2023-05-24T09:35:00+05:30",
          "2023-05-24T09:30:00+05:30",
          "2023-05-24T09:25:00+05:30",
          "2023-05-24T09:20:00+05:30",
          "2023-05-24T09:15:00+05:30"
         ],
         "y": [
          4857150,
          4898450,
          4824550,
          4834350,
          4880600,
          4857400,
          4817400,
          4823725,
          4933000,
          4929750,
          4938575,
          5021750,
          4979050,
          5053775,
          5220400,
          5187825,
          5147025,
          5183850,
          5199700,
          5186750,
          5144125,
          4977725,
          4896475,
          4818950,
          4720700,
          4567150,
          4279675,
          4074300,
          3881500,
          3692675,
          3219100,
          2443825
         ],
         "yaxis": "y"
        },
        {
         "close": [
          43791.2,
          43748.4,
          43751.2,
          43805,
          43836.65,
          43837.75,
          43894.2,
          43887.05,
          43903.35,
          43917.2,
          43915.25,
          43899.95,
          43922.1,
          43903.9,
          43872.1,
          43903.05,
          43916.4,
          43929.45,
          43948.35,
          43968.45,
          43973.45,
          43959,
          43928.7,
          43924.05,
          43968.05,
          43989.2,
          43982.6,
          43972.7,
          43943.1,
          43926.9,
          43899.9,
          43920.45
         ],
         "high": [
          43827.45,
          43797.15,
          43787.25,
          43822.75,
          43844.05,
          43839.35,
          43899.75,
          43898.9,
          43910,
          43925.15,
          43935.5,
          43920.15,
          43946.7,
          43926.25,
          43904.55,
          43913.75,
          43924.65,
          43931.9,
          43967.9,
          43990.2,
          43977.6,
          44010.45,
          43962.4,
          43935.45,
          43970.9,
          43996,
          43995.25,
          43992.9,
          43975.95,
          43961.25,
          43928.95,
          43926.2
         ],
         "low": [
          43728.7,
          43709.8,
          43734.65,
          43741.75,
          43778,
          43804.35,
          43817.65,
          43860.55,
          43870.9,
          43900.5,
          43909.15,
          43886.4,
          43896.35,
          43898.75,
          43865.9,
          43854.75,
          43899.75,
          43907.7,
          43929.1,
          43952.55,
          43956.75,
          43950.4,
          43920.15,
          43908.7,
          43909.3,
          43965.15,
          43977.85,
          43972.7,
          43921.7,
          43922.65,
          43895.35,
          43899.85
         ],
         "name": "BN",
         "open": [
          43751.95,
          43797.15,
          43748.15,
          43746.75,
          43805.3,
          43829.6,
          43832.7,
          43893.9,
          43887.65,
          43903.3,
          43916.25,
          43913.4,
          43902.35,
          43925.4,
          43901.55,
          43874.45,
          43903.6,
          43914.75,
          43929.8,
          43952.55,
          43964,
          43979.25,
          43956.7,
          43927.15,
          43919.9,
          43970.15,
          43987.75,
          43983,
          43973.55,
          43944.2,
          43927.3,
          43899.85
         ],
         "type": "candlestick",
         "x": [
          "2023-05-24T09:15:00+05:30",
          "2023-05-24T09:20:00+05:30",
          "2023-05-24T09:25:00+05:30",
          "2023-05-24T09:30:00+05:30",
          "2023-05-24T09:35:00+05:30",
          "2023-05-24T09:40:00+05:30",
          "2023-05-24T09:45:00+05:30",
          "2023-05-24T09:50:00+05:30",
          "2023-05-24T09:55:00+05:30",
          "2023-05-24T10:00:00+05:30",
          "2023-05-24T10:05:00+05:30",
          "2023-05-24T10:10:00+05:30",
          "2023-05-24T10:15:00+05:30",
          "2023-05-24T10:20:00+05:30",
          "2023-05-24T10:25:00+05:30",
          "2023-05-24T10:30:00+05:30",
          "2023-05-24T10:35:00+05:30",
          "2023-05-24T10:40:00+05:30",
          "2023-05-24T10:45:00+05:30",
          "2023-05-24T10:50:00+05:30",
          "2023-05-24T10:55:00+05:30",
          "2023-05-24T11:00:00+05:30",
          "2023-05-24T11:05:00+05:30",
          "2023-05-24T11:10:00+05:30",
          "2023-05-24T11:15:00+05:30",
          "2023-05-24T11:20:00+05:30",
          "2023-05-24T11:25:00+05:30",
          "2023-05-24T11:30:00+05:30",
          "2023-05-24T11:35:00+05:30",
          "2023-05-24T11:40:00+05:30",
          "2023-05-24T11:45:00+05:30",
          "2023-05-24T11:50:00+05:30"
         ],
         "yaxis": "y2"
        }
       ],
       "layout": {
        "height": 600,
        "template": {
         "data": {
          "bar": [
           {
            "error_x": {
             "color": "#2a3f5f"
            },
            "error_y": {
             "color": "#2a3f5f"
            },
            "marker": {
             "line": {
              "color": "#E5ECF6",
              "width": 0.5
             },
             "pattern": {
              "fillmode": "overlay",
              "size": 10,
              "solidity": 0.2
             }
            },
            "type": "bar"
           }
          ],
          "barpolar": [
           {
            "marker": {
             "line": {
              "color": "#E5ECF6",
              "width": 0.5
             },
             "pattern": {
              "fillmode": "overlay",
              "size": 10,
              "solidity": 0.2
             }
            },
            "type": "barpolar"
           }
          ],
          "carpet": [
           {
            "aaxis": {
             "endlinecolor": "#2a3f5f",
             "gridcolor": "white",
             "linecolor": "white",
             "minorgridcolor": "white",
             "startlinecolor": "#2a3f5f"
            },
            "baxis": {
             "endlinecolor": "#2a3f5f",
             "gridcolor": "white",
             "linecolor": "white",
             "minorgridcolor": "white",
             "startlinecolor": "#2a3f5f"
            },
            "type": "carpet"
           }
          ],
          "choropleth": [
           {
            "colorbar": {
             "outlinewidth": 0,
             "ticks": ""
            },
            "type": "choropleth"
           }
          ],
          "contour": [
           {
            "colorbar": {
             "outlinewidth": 0,
             "ticks": ""
            },
            "colorscale": [
             [
              0,
              "#0d0887"
             ],
             [
              0.1111111111111111,
              "#46039f"
             ],
             [
              0.2222222222222222,
              "#7201a8"
             ],
             [
              0.3333333333333333,
              "#9c179e"
             ],
             [
              0.4444444444444444,
              "#bd3786"
             ],
             [
              0.5555555555555556,
              "#d8576b"
             ],
             [
              0.6666666666666666,
              "#ed7953"
             ],
             [
              0.7777777777777778,
              "#fb9f3a"
             ],
             [
              0.8888888888888888,
              "#fdca26"
             ],
             [
              1,
              "#f0f921"
             ]
            ],
            "type": "contour"
           }
          ],
          "contourcarpet": [
           {
            "colorbar": {
             "outlinewidth": 0,
             "ticks": ""
            },
            "type": "contourcarpet"
           }
          ],
          "heatmap": [
           {
            "colorbar": {
             "outlinewidth": 0,
             "ticks": ""
            },
            "colorscale": [
             [
              0,
              "#0d0887"
             ],
             [
              0.1111111111111111,
              "#46039f"
             ],
             [
              0.2222222222222222,
              "#7201a8"
             ],
             [
              0.3333333333333333,
              "#9c179e"
             ],
             [
              0.4444444444444444,
              "#bd3786"
             ],
             [
              0.5555555555555556,
              "#d8576b"
             ],
             [
              0.6666666666666666,
              "#ed7953"
             ],
             [
              0.7777777777777778,
              "#fb9f3a"
             ],
             [
              0.8888888888888888,
              "#fdca26"
             ],
             [
              1,
              "#f0f921"
             ]
            ],
            "type": "heatmap"
           }
          ],
          "heatmapgl": [
           {
            "colorbar": {
             "outlinewidth": 0,
             "ticks": ""
            },
            "colorscale": [
             [
              0,
              "#0d0887"
             ],
             [
              0.1111111111111111,
              "#46039f"
             ],
             [
              0.2222222222222222,
              "#7201a8"
             ],
             [
              0.3333333333333333,
              "#9c179e"
             ],
             [
              0.4444444444444444,
              "#bd3786"
             ],
             [
              0.5555555555555556,
              "#d8576b"
             ],
             [
              0.6666666666666666,
              "#ed7953"
             ],
             [
              0.7777777777777778,
              "#fb9f3a"
             ],
             [
              0.8888888888888888,
              "#fdca26"
             ],
             [
              1,
              "#f0f921"
             ]
            ],
            "type": "heatmapgl"
           }
          ],
          "histogram": [
           {
            "marker": {
             "pattern": {
              "fillmode": "overlay",
              "size": 10,
              "solidity": 0.2
             }
            },
            "type": "histogram"
           }
          ],
          "histogram2d": [
           {
            "colorbar": {
             "outlinewidth": 0,
             "ticks": ""
            },
            "colorscale": [
             [
              0,
              "#0d0887"
             ],
             [
              0.1111111111111111,
              "#46039f"
             ],
             [
              0.2222222222222222,
              "#7201a8"
             ],
             [
              0.3333333333333333,
              "#9c179e"
             ],
             [
              0.4444444444444444,
              "#bd3786"
             ],
             [
              0.5555555555555556,
              "#d8576b"
             ],
             [
              0.6666666666666666,
              "#ed7953"
             ],
             [
              0.7777777777777778,
              "#fb9f3a"
             ],
             [
              0.8888888888888888,
              "#fdca26"
             ],
             [
              1,
              "#f0f921"
             ]
            ],
            "type": "histogram2d"
           }
          ],
          "histogram2dcontour": [
           {
            "colorbar": {
             "outlinewidth": 0,
             "ticks": ""
            },
            "colorscale": [
             [
              0,
              "#0d0887"
             ],
             [
              0.1111111111111111,
              "#46039f"
             ],
             [
              0.2222222222222222,
              "#7201a8"
             ],
             [
              0.3333333333333333,
              "#9c179e"
             ],
             [
              0.4444444444444444,
              "#bd3786"
             ],
             [
              0.5555555555555556,
              "#d8576b"
             ],
             [
              0.6666666666666666,
              "#ed7953"
             ],
             [
              0.7777777777777778,
              "#fb9f3a"
             ],
             [
              0.8888888888888888,
              "#fdca26"
             ],
             [
              1,
              "#f0f921"
             ]
            ],
            "type": "histogram2dcontour"
           }
          ],
          "mesh3d": [
           {
            "colorbar": {
             "outlinewidth": 0,
             "ticks": ""
            },
            "type": "mesh3d"
           }
          ],
          "parcoords": [
           {
            "line": {
             "colorbar": {
              "outlinewidth": 0,
              "ticks": ""
             }
            },
            "type": "parcoords"
           }
          ],
          "pie": [
           {
            "automargin": true,
            "type": "pie"
           }
          ],
          "scatter": [
           {
            "fillpattern": {
             "fillmode": "overlay",
             "size": 10,
             "solidity": 0.2
            },
            "type": "scatter"
           }
          ],
          "scatter3d": [
           {
            "line": {
             "colorbar": {
              "outlinewidth": 0,
              "ticks": ""
             }
            },
            "marker": {
             "colorbar": {
              "outlinewidth": 0,
              "ticks": ""
             }
            },
            "type": "scatter3d"
           }
          ],
          "scattercarpet": [
           {
            "marker": {
             "colorbar": {
              "outlinewidth": 0,
              "ticks": ""
             }
            },
            "type": "scattercarpet"
           }
          ],
          "scattergeo": [
           {
            "marker": {
             "colorbar": {
              "outlinewidth": 0,
              "ticks": ""
             }
            },
            "type": "scattergeo"
           }
          ],
          "scattergl": [
           {
            "marker": {
             "colorbar": {
              "outlinewidth": 0,
              "ticks": ""
             }
            },
            "type": "scattergl"
           }
          ],
          "scattermapbox": [
           {
            "marker": {
             "colorbar": {
              "outlinewidth": 0,
              "ticks": ""
             }
            },
            "type": "scattermapbox"
           }
          ],
          "scatterpolar": [
           {
            "marker": {
             "colorbar": {
              "outlinewidth": 0,
              "ticks": ""
             }
            },
            "type": "scatterpolar"
           }
          ],
          "scatterpolargl": [
           {
            "marker": {
             "colorbar": {
              "outlinewidth": 0,
              "ticks": ""
             }
            },
            "type": "scatterpolargl"
           }
          ],
          "scatterternary": [
           {
            "marker": {
             "colorbar": {
              "outlinewidth": 0,
              "ticks": ""
             }
            },
            "type": "scatterternary"
           }
          ],
          "surface": [
           {
            "colorbar": {
             "outlinewidth": 0,
             "ticks": ""
            },
            "colorscale": [
             [
              0,
              "#0d0887"
             ],
             [
              0.1111111111111111,
              "#46039f"
             ],
             [
              0.2222222222222222,
              "#7201a8"
             ],
             [
              0.3333333333333333,
              "#9c179e"
             ],
             [
              0.4444444444444444,
              "#bd3786"
             ],
             [
              0.5555555555555556,
              "#d8576b"
             ],
             [
              0.6666666666666666,
              "#ed7953"
             ],
             [
              0.7777777777777778,
              "#fb9f3a"
             ],
             [
              0.8888888888888888,
              "#fdca26"
             ],
             [
              1,
              "#f0f921"
             ]
            ],
            "type": "surface"
           }
          ],
          "table": [
           {
            "cells": {
             "fill": {
              "color": "#EBF0F8"
             },
             "line": {
              "color": "white"
             }
            },
            "header": {
             "fill": {
              "color": "#C8D4E3"
             },
             "line": {
              "color": "white"
             }
            },
            "type": "table"
           }
          ]
         },
         "layout": {
          "annotationdefaults": {
           "arrowcolor": "#2a3f5f",
           "arrowhead": 0,
           "arrowwidth": 1
          },
          "autotypenumbers": "strict",
          "coloraxis": {
           "colorbar": {
            "outlinewidth": 0,
            "ticks": ""
           }
          },
          "colorscale": {
           "diverging": [
            [
             0,
             "#8e0152"
            ],
            [
             0.1,
             "#c51b7d"
            ],
            [
             0.2,
             "#de77ae"
            ],
            [
             0.3,
             "#f1b6da"
            ],
            [
             0.4,
             "#fde0ef"
            ],
            [
             0.5,
             "#f7f7f7"
            ],
            [
             0.6,
             "#e6f5d0"
            ],
            [
             0.7,
             "#b8e186"
            ],
            [
             0.8,
             "#7fbc41"
            ],
            [
             0.9,
             "#4d9221"
            ],
            [
             1,
             "#276419"
            ]
           ],
           "sequential": [
            [
             0,
             "#0d0887"
            ],
            [
             0.1111111111111111,
             "#46039f"
            ],
            [
             0.2222222222222222,
             "#7201a8"
            ],
            [
             0.3333333333333333,
             "#9c179e"
            ],
            [
             0.4444444444444444,
             "#bd3786"
            ],
            [
             0.5555555555555556,
             "#d8576b"
            ],
            [
             0.6666666666666666,
             "#ed7953"
            ],
            [
             0.7777777777777778,
             "#fb9f3a"
            ],
            [
             0.8888888888888888,
             "#fdca26"
            ],
            [
             1,
             "#f0f921"
            ]
           ],
           "sequentialminus": [
            [
             0,
             "#0d0887"
            ],
            [
             0.1111111111111111,
             "#46039f"
            ],
            [
             0.2222222222222222,
             "#7201a8"
            ],
            [
             0.3333333333333333,
             "#9c179e"
            ],
            [
             0.4444444444444444,
             "#bd3786"
            ],
            [
             0.5555555555555556,
             "#d8576b"
            ],
            [
             0.6666666666666666,
             "#ed7953"
            ],
            [
             0.7777777777777778,
             "#fb9f3a"
            ],
            [
             0.8888888888888888,
             "#fdca26"
            ],
            [
             1,
             "#f0f921"
            ]
           ]
          },
          "colorway": [
           "#636efa",
           "#EF553B",
           "#00cc96",
           "#ab63fa",
           "#FFA15A",
           "#19d3f3",
           "#FF6692",
           "#B6E880",
           "#FF97FF",
           "#FECB52"
          ],
          "font": {
           "color": "#2a3f5f"
          },
          "geo": {
           "bgcolor": "white",
           "lakecolor": "white",
           "landcolor": "#E5ECF6",
           "showlakes": true,
           "showland": true,
           "subunitcolor": "white"
          },
          "hoverlabel": {
           "align": "left"
          },
          "hovermode": "closest",
          "mapbox": {
           "style": "light"
          },
          "paper_bgcolor": "white",
          "plot_bgcolor": "#E5ECF6",
          "polar": {
           "angularaxis": {
            "gridcolor": "white",
            "linecolor": "white",
            "ticks": ""
           },
           "bgcolor": "#E5ECF6",
           "radialaxis": {
            "gridcolor": "white",
            "linecolor": "white",
            "ticks": ""
           }
          },
          "scene": {
           "xaxis": {
            "backgroundcolor": "#E5ECF6",
            "gridcolor": "white",
            "gridwidth": 2,
            "linecolor": "white",
            "showbackground": true,
            "ticks": "",
            "zerolinecolor": "white"
           },
           "yaxis": {
            "backgroundcolor": "#E5ECF6",
            "gridcolor": "white",
            "gridwidth": 2,
            "linecolor": "white",
            "showbackground": true,
            "ticks": "",
            "zerolinecolor": "white"
           },
           "zaxis": {
            "backgroundcolor": "#E5ECF6",
            "gridcolor": "white",
            "gridwidth": 2,
            "linecolor": "white",
            "showbackground": true,
            "ticks": "",
            "zerolinecolor": "white"
           }
          },
          "shapedefaults": {
           "line": {
            "color": "#2a3f5f"
           }
          },
          "ternary": {
           "aaxis": {
            "gridcolor": "white",
            "linecolor": "white",
            "ticks": ""
           },
           "baxis": {
            "gridcolor": "white",
            "linecolor": "white",
            "ticks": ""
           },
           "bgcolor": "#E5ECF6",
           "caxis": {
            "gridcolor": "white",
            "linecolor": "white",
            "ticks": ""
           }
          },
          "title": {
           "x": 0.05
          },
          "xaxis": {
           "automargin": true,
           "gridcolor": "white",
           "linecolor": "white",
           "ticks": "",
           "title": {
            "standoff": 15
           },
           "zerolinecolor": "white",
           "zerolinewidth": 2
          },
          "yaxis": {
           "automargin": true,
           "gridcolor": "white",
           "linecolor": "white",
           "ticks": "",
           "title": {
            "standoff": 15
           },
           "zerolinecolor": "white",
           "zerolinewidth": 2
          }
         }
        },
        "title": {
         "text": "OI vs Bank"
        },
        "width": 1200,
        "yaxis": {
         "title": {
          "text": "Oi"
         }
        },
        "yaxis2": {
         "overlaying": "y",
         "side": "right",
         "tickformat": "0.0f",
         "title": {
          "text": "bank"
         }
        }
       }
      }
     },
     "metadata": {},
     "output_type": "display_data"
    }
   ],
   "source": [
    "start_dt = '2023-05-24'\n",
    "end_dt = '2023-05-24'\n",
    "time_frame = '5minute'\n",
    "bn_token  = 260105\n",
    "\n",
    "while(True):\n",
    "    hist_data_path = None\n",
    "    df_combined,df_combined_1,df_bn_hist_data = get_data_minute(expiry_march, start_dt,end_dt,time_frame,bn_token,hist_data_path)\n",
    "    print('run')\n",
    "    df_temp = df_bn_hist_data.copy()\n",
    "    for t in df_combined_1['date'].unique()[-2:]:\n",
    "        # selecting top 5 sp\n",
    "        df_current_time = df_combined_1.query('date == @t')\n",
    "        st_pr = df_current_time['strike_type'].unique()\n",
    "\n",
    "        # getting all prev OI of top 5 \n",
    "        df_current_time_all = df_combined[['date','oi','strike_type']].query('(date <= @t)')\n",
    "        df_bn_hist_data = df_temp.copy()\n",
    "        df_bn_hist_data = df_bn_hist_data.query('(date <= @t)')\n",
    "        df_current_time_all = df_current_time_all[df_current_time_all['strike_type'].isin(st_pr)]\n",
    "        # df_current_time_all = df_current_time_all[~((df_current_time_all.strike_type == 'BANKNIFTY') & (df_current_time_all.oi == 0))]\n",
    "        df_current_time_all.sort_values(['date','oi'], ascending=False, inplace = True)\n",
    "        sp = df_current_time_all.strike_type.unique()\n",
    "        \n",
    "        fig = go.Figure()\n",
    "        data = []\n",
    "        for i in range(0,5):\n",
    "            data.append(go.Scatter(x=df_current_time_all.query(\"strike_type == @sp[@i]\")['date'],\n",
    "                                        y=df_current_time_all.query(\"strike_type == @sp[@i]\")['oi'],\n",
    "                                        name = sp[i],\n",
    "                                        yaxis='y1'\n",
    "                                        ))\n",
    "\n",
    "        # data.append(go.Scatter(x=df_current_time_all.query(\"strike_type == @sp[5]\")['date'],\n",
    "        #                             y=df_current_time_all.query(\"strike_type == @sp[5]\")['oi'],\n",
    "        #                             name = sp[5],\n",
    "        #                             yaxis='y2'\n",
    "        #                             ))\n",
    "\n",
    "        data.append(go.Candlestick(x=df_bn_hist_data.date,\n",
    "                open=df_bn_hist_data.open,\n",
    "                high=df_bn_hist_data.high,\n",
    "                low=df_bn_hist_data.low,\n",
    "                close=df_bn_hist_data.close,\n",
    "                name = \"BN\",\n",
    "                    yaxis='y2'    \n",
    "                            ))\n",
    "        layout = go.Layout(title='OI vs Bank',\n",
    "                        yaxis=dict(title='Oi',),\n",
    "                        yaxis2=dict(title='bank',\n",
    "                                    overlaying='y',\n",
    "                                    side='right',\n",
    "                                    tickformat = '0.0f', \n",
    "                                    #range =[39000,44000]\n",
    "                                      )\n",
    "                        )\n",
    "                                \n",
    "                                    \n",
    "        \n",
    "        fig = go.Figure(data=data, layout=layout)\n",
    "        fig.update_layout(height=600, width=1200)\n",
    "        fig.show()\n",
    "        clear_output(wait=True)   \n",
    "        time.sleep(300)\n",
    "        # break|\n",
    "    # break\n"
   ]
  },
  {
   "cell_type": "code",
   "execution_count": null,
   "metadata": {},
   "outputs": [],
   "source": []
  }
 ],
 "metadata": {
  "kernelspec": {
   "display_name": "py37",
   "language": "python",
   "name": "python3"
  },
  "language_info": {
   "codemirror_mode": {
    "name": "ipython",
    "version": 3
   },
   "file_extension": ".py",
   "mimetype": "text/x-python",
   "name": "python",
   "nbconvert_exporter": "python",
   "pygments_lexer": "ipython3",
   "version": "3.7.15"
  },
  "orig_nbformat": 4
 },
 "nbformat": 4,
 "nbformat_minor": 2
}
